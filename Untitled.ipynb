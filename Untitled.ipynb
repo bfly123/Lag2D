{
 "cells": [
  {
   "cell_type": "markdown",
   "metadata": {},
   "source": [
    "#  Code for 2D staggered Lagrangian method in Cartersian coordinates"
   ]
  },
  {
   "cell_type": "markdown",
   "metadata": {},
   "source": [
    "一般形式下，弹塑性流体控制方程为：\n",
    "\n",
    "质量方程：\n",
    "\\begin{equation}\n",
    "  \\frac{dm}{dt}=0\n",
    "  \\end{equation}\n",
    "动量方程：\n",
    "\\begin{equation}\n",
    "  \\frac{d\\rho \\mathbf{u}}{dt}= \\nabla \\cdot  \\mathbf{\\Pi} \n",
    "\\end{equation}\n",
    "\n",
    "能量方程：\n",
    "\\begin{equation}\n",
    " \\rho \\frac{de}{dt}= \\mathbf{\\sigma} \\cdot \\mathbf{\\varepsilon}\n",
    "\\end{equation}\n",
    "\n",
    "\\section{二维控制方程}\n",
    "\n",
    "运动方程：\n",
    "\\begin{equation}\n",
    "  \\frac{d(r,z)}{dt}=(u,v)\n",
    "\\end{equation}\n",
    "\n",
    "质量守恒：\n",
    "\\begin{equation}\\label{eq:38}\n",
    "  \\frac{dm}{dt}=0\n",
    "\\end{equation}\n",
    "\n",
    "动量守恒方程：\n",
    "\\begin{equation}\\label{eq:3}\n",
    "  \\begin{array}{l}\n",
    "\t\\displaystyle \\rho \\frac{du}{dt}=\\frac{\\partial \\sigma _{rr}}{\\partial r}+ \\frac{\\partial s_{rz}}{\\partial z}\\\\[0.3cm]\n",
    "  \\displaystyle \\rho \\frac{dv}{dt}=\\frac{\\partial \\sigma _{zz}}{\\partial z}+ \\frac{\\partial s_{rz}}{\\partial r}\\\\\n",
    "  \\end{array}\n",
    "  \\end{equation}\n",
    "\n",
    "能量守恒方程：\n",
    "\\begin{equation}\n",
    "  \\begin{array}{l}\n",
    "\t\\displaystyle \\rho \\frac{de}{dt}=\\sigma _{rr}\\frac{\\partial u}{\\partial r}+\\sigma_{zz}\\frac{\\partial v}{\\partial z}+s_{rz}\\left( \\frac{\\partial u}{\\partial z}+\\frac{\\partial v}{\\partial r}\\right)\\\\[0.3cm]\n",
    "\t\\displaystyle = -p\\frac{dV}{dt}+ s_{rr}\\frac{\\partial u}{\\partial r}+s_{zz}\\frac{\\partial v}{\\partial z}+s_{rz}\\left( \\frac{\\partial u}{\\partial z}+\\frac{\\partial v}{\\partial r}\\right)\\\\\n",
    "\t\\end{array}\n",
    "\t\\end{equation}\n",
    "\n",
    "本构方程：\n",
    "\\begin{equation}\n",
    "  \\begin{array}{l}\n",
    "\t\\displaystyle \\frac{ds_{rr}}{dt}=2\\mu \\left(\\frac{\\partial u}{\\partial r}-\\frac{1}{3}\\nabla \\cdot \\vec{u} \\right) +s_{rz}\\left(\\frac{\\partial u}{\\partial z}-\\frac{\\partial v}{\\partial r}\\right)\\\\[0.3cm]\n",
    "\t\\displaystyle \\frac{ds_{zz}}{dt}=2\\mu \\left(\\frac{\\partial v}{\\partial z}-\\frac{1}{3}\\nabla \\cdot \\vec{u} \\right) -s_{rz}\\left(\\frac{\\partial u}{\\partial z}-\\frac{\\partial v}{\\partial r}\\right)\\\\[0.3cm]\n",
    "\t\\displaystyle \\frac{ds_{rz}}{dt}=\\mu \\left(\\frac{\\partial u}{\\partial r}+\\frac{\\partial v}{\\partial z}\\right) + \\frac{s_{rr}-s_{zz}}{2}\\left(\\frac{\\partial u}{\\partial z}-\\frac{\\partial v}{\\partial r}\\right)\\\\\n",
    "  \\end{array}\n",
    "  \\end{equation}\n",
    "\n",
    "Von Mises屈服条件：\n",
    "\\begin{equation}\n",
    "  \\frac{3}{2}(s_{rr}^2+s_{zz}^2+s_{\\theta \\theta}^2+2s_{xy}^2)\\le (Y^0)^2\n",
    "\\end{equation}\n",
    "\n",
    "\n",
    "\n",
    "\n",
    "\n"
   ]
  },
  {
   "cell_type": "markdown",
   "metadata": {},
   "source": [
    "## Control equations"
   ]
  },
  {
   "cell_type": "code",
   "execution_count": null,
   "metadata": {},
   "outputs": [],
   "source": []
  }
 ],
 "metadata": {
  "kernelspec": {
   "display_name": "Julia 1.1.1",
   "language": "julia",
   "name": "julia-1.1"
  },
  "language_info": {
   "file_extension": ".jl",
   "mimetype": "application/julia",
   "name": "julia",
   "version": "1.1.1"
  }
 },
 "nbformat": 4,
 "nbformat_minor": 2
}
