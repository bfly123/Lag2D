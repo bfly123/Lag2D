{
 "cells": [
  {
   "cell_type": "markdown",
   "metadata": {},
   "source": [
    "#  Symmetry preserving"
   ]
  },
  {
   "cell_type": "code",
   "execution_count": 1,
   "metadata": {},
   "outputs": [],
   "source": [
    "using SymPy"
   ]
  },
  {
   "cell_type": "code",
   "execution_count": 2,
   "metadata": {},
   "outputs": [
    {
     "data": {
      "text/plain": [
       "(ϕ, s_ξ, s_η, s_r)"
      ]
     },
     "execution_count": 2,
     "metadata": {},
     "output_type": "execute_result"
    }
   ],
   "source": [
    "@vars ϕ s_ξ s_η s_r "
   ]
  },
  {
   "cell_type": "code",
   "execution_count": 17,
   "metadata": {},
   "outputs": [
    {
     "data": {
      "text/plain": [
       "(a, b, c, d)"
      ]
     },
     "execution_count": 17,
     "metadata": {},
     "output_type": "execute_result"
    }
   ],
   "source": [
    "@vars a b c d"
   ]
  },
  {
   "cell_type": "code",
   "execution_count": 11,
   "metadata": {},
   "outputs": [
    {
     "data": {
      "text/latex": [
       "\\[\\left[ \\begin{array}{rrr}\\sin{\\left (ϕ \\right )}&\\cos{\\left (ϕ \\right )}&0\\\\- \\cos{\\left (ϕ \\right )}&\\sin{\\left (ϕ \\right )}&0\\\\0&0&1\\end{array}\\right]\\]"
      ],
      "text/plain": [
       "3×3 Array{Sym,2}:\n",
       "  sin(ϕ)  cos(ϕ)  0\n",
       " -cos(ϕ)  sin(ϕ)  0\n",
       "       0       0  1"
      ]
     },
     "execution_count": 11,
     "metadata": {},
     "output_type": "execute_result"
    }
   ],
   "source": [
    "A = [[sin(ϕ) cos(ϕ) 0];[-cos(ϕ) sin(ϕ) 0];[0 0 1]]"
   ]
  },
  {
   "cell_type": "code",
   "execution_count": 12,
   "metadata": {},
   "outputs": [
    {
     "data": {
      "text/latex": [
       "\\[\\left[ \\begin{array}{rrr}\\sin{\\left (ϕ \\right )}&- \\cos{\\left (ϕ \\right )}&0\\\\\\cos{\\left (ϕ \\right )}&\\sin{\\left (ϕ \\right )}&0\\\\0&0&1\\end{array}\\right]\\]"
      ],
      "text/plain": [
       "3×3 Array{Sym,2}:\n",
       " sin(ϕ)  -cos(ϕ)  0\n",
       " cos(ϕ)   sin(ϕ)  0\n",
       "      0        0  1"
      ]
     },
     "execution_count": 12,
     "metadata": {},
     "output_type": "execute_result"
    }
   ],
   "source": [
    "A1 = [[sin(ϕ) -cos(ϕ) 0];[cos(ϕ) sin(ϕ) 0];[0 0 1]]"
   ]
  },
  {
   "cell_type": "code",
   "execution_count": 7,
   "metadata": {},
   "outputs": [
    {
     "data": {
      "text/latex": [
       "\\[\\left[ \\begin{array}{rrr}s_{ξ}&0&0\\\\0&s_{η}&0\\\\0&0&s_{r}\\end{array}\\right]\\]"
      ],
      "text/plain": [
       "3×3 Array{Sym,2}:\n",
       " s_ξ    0    0\n",
       "   0  s_η    0\n",
       "   0    0  s_r"
      ]
     },
     "execution_count": 7,
     "metadata": {},
     "output_type": "execute_result"
    }
   ],
   "source": [
    "B=[[s_ξ 0 0];[0 s_η 0];[0 0 s_r]]"
   ]
  },
  {
   "cell_type": "code",
   "execution_count": 31,
   "metadata": {},
   "outputs": [
    {
     "data": {
      "text/latex": [
       "\\[\\left[ \\begin{array}{rrr}s_{η} \\cos^{2}{\\left (ϕ \\right )} + s_{ξ} \\sin^{2}{\\left (ϕ \\right )}&s_{η} \\sin{\\left (ϕ \\right )} \\cos{\\left (ϕ \\right )} - s_{ξ} \\sin{\\left (ϕ \\right )} \\cos{\\left (ϕ \\right )}&0\\\\s_{η} \\sin{\\left (ϕ \\right )} \\cos{\\left (ϕ \\right )} - s_{ξ} \\sin{\\left (ϕ \\right )} \\cos{\\left (ϕ \\right )}&s_{η} \\sin^{2}{\\left (ϕ \\right )} + s_{ξ} \\cos^{2}{\\left (ϕ \\right )}&0\\\\0&0&s_{r}\\end{array}\\right]\\]"
      ],
      "text/plain": [
       "3×3 Array{Sym,2}:\n",
       "           s_η*cos(ϕ)^2 + s_ξ*sin(ϕ)^2  …    0\n",
       " s_η*sin(ϕ)*cos(ϕ) - s_ξ*sin(ϕ)*cos(ϕ)       0\n",
       "                                     0     s_r"
      ]
     },
     "execution_count": 31,
     "metadata": {},
     "output_type": "execute_result"
    }
   ],
   "source": [
    "A*B*A1"
   ]
  },
  {
   "cell_type": "code",
   "execution_count": 10,
   "metadata": {},
   "outputs": [
    {
     "data": {
      "text/latex": [
       "\\[\\left[ \\begin{array}{rrr}\\operatorname{transpose}{\\left (\\sin{\\left (ϕ \\right )} \\right )}&- \\operatorname{transpose}{\\left (\\cos{\\left (ϕ \\right )} \\right )}&0\\\\\\operatorname{transpose}{\\left (\\cos{\\left (ϕ \\right )} \\right )}&\\operatorname{transpose}{\\left (\\sin{\\left (ϕ \\right )} \\right )}&0\\\\0&0&1\\end{array}\\right]\\]"
      ],
      "text/plain": [
       "3×3 LinearAlgebra.Transpose{Sym,Array{Sym,2}}:\n",
       " transpose(sin(ϕ))  -transpose(cos(ϕ))  0\n",
       " transpose(cos(ϕ))   transpose(sin(ϕ))  0\n",
       "                 0                   0  1"
      ]
     },
     "execution_count": 10,
     "metadata": {},
     "output_type": "execute_result"
    }
   ],
   "source": [
    "transpose(A)"
   ]
  },
  {
   "cell_type": "code",
   "execution_count": 16,
   "metadata": {},
   "outputs": [
    {
     "data": {
      "text/latex": [
       "\\begin{equation*}\\sin{\\left (\\frac{a}{2} + \\frac{b}{2} \\right )}\\end{equation*}"
      ],
      "text/plain": [
       "   ⎛a   b⎞\n",
       "sin⎜─ + ─⎟\n",
       "   ⎝2   2⎠"
      ]
     },
     "execution_count": 16,
     "metadata": {},
     "output_type": "execute_result"
    }
   ],
   "source": [
    "simplify(sin(a/2+b/2))"
   ]
  },
  {
   "cell_type": "code",
   "execution_count": 34,
   "metadata": {},
   "outputs": [
    {
     "data": {
      "text/latex": [
       "\\begin{equation*}\\left(c - d\\right) \\sin{\\left (2 b \\right )} \\sin{\\left (a + b \\right )} \\cos{\\left (a + b \\right )} - \\left(c \\cos^{2}{\\left (a + b \\right )} + d \\sin^{2}{\\left (a + b \\right )}\\right) \\cos{\\left (2 b \\right )}\\end{equation*}"
      ],
      "text/plain": [
       "                                         ⎛     2               2       ⎞      \n",
       "(c - d)⋅sin(2⋅b)⋅sin(a + b)⋅cos(a + b) - ⎝c⋅cos (a + b) + d⋅sin (a + b)⎠⋅cos(2\n",
       "\n",
       "   \n",
       "⋅b)"
      ]
     },
     "execution_count": 34,
     "metadata": {},
     "output_type": "execute_result"
    }
   ],
   "source": [
    "f= (c-d)*sin(a+b)*cos(a+b)*sin(2b)-(c*(cos(a+b))^2+d*(sin(a+b))^2)*cos(2b)"
   ]
  },
  {
   "cell_type": "code",
   "execution_count": 36,
   "metadata": {},
   "outputs": [
    {
     "data": {
      "text/latex": [
       "\\begin{equation*}c \\sin{\\left (2 b \\right )} \\sin{\\left (a + b \\right )} \\cos{\\left (a + b \\right )} - c \\cos{\\left (2 b \\right )} \\cos^{2}{\\left (a + b \\right )}\\end{equation*}"
      ],
      "text/plain": [
       "                                                 2       \n",
       "c⋅sin(2⋅b)⋅sin(a + b)⋅cos(a + b) - c⋅cos(2⋅b)⋅cos (a + b)"
      ]
     },
     "execution_count": 36,
     "metadata": {},
     "output_type": "execute_result"
    }
   ],
   "source": [
    "f= c*sin(a+b)*cos(a+b)*sin(2b)-c*(cos(a+b))^2*cos(2b)"
   ]
  },
  {
   "cell_type": "code",
   "execution_count": 37,
   "metadata": {},
   "outputs": [
    {
     "data": {
      "text/latex": [
       "\\begin{equation*}- c \\cos{\\left (a + b \\right )} \\cos{\\left (a + 3 b \\right )}\\end{equation*}"
      ],
      "text/plain": [
       "-c⋅cos(a + b)⋅cos(a + 3⋅b)"
      ]
     },
     "execution_count": 37,
     "metadata": {},
     "output_type": "execute_result"
    }
   ],
   "source": [
    "simplify(f)"
   ]
  },
  {
   "cell_type": "code",
   "execution_count": 25,
   "metadata": {},
   "outputs": [
    {
     "data": {
      "text/latex": [
       "\\begin{equation*}- \\left(- \\sin{\\left (a \\right )} \\sin{\\left (b \\right )} + \\cos{\\left (a \\right )} \\cos{\\left (b \\right )}\\right)^{2} \\left(- \\sin^{2}{\\left (b \\right )} + \\cos^{2}{\\left (b \\right )}\\right) + 2 \\left(- \\sin{\\left (a \\right )} \\sin{\\left (b \\right )} + \\cos{\\left (a \\right )} \\cos{\\left (b \\right )}\\right) \\left(\\sin{\\left (a \\right )} \\cos{\\left (b \\right )} + \\sin{\\left (b \\right )} \\cos{\\left (a \\right )}\\right) \\sin{\\left (b \\right )} \\cos{\\left (b \\right )}\\end{equation*}"
      ],
      "text/plain": [
       "                                  2 ⎛     2         2   ⎞                     \n",
       "- (-sin(a)⋅sin(b) + cos(a)⋅cos(b)) ⋅⎝- sin (b) + cos (b)⎠ + 2⋅(-sin(a)⋅sin(b) \n",
       "\n",
       "                                                              \n",
       "+ cos(a)⋅cos(b))⋅(sin(a)⋅cos(b) + sin(b)⋅cos(a))⋅sin(b)⋅cos(b)"
      ]
     },
     "execution_count": 25,
     "metadata": {},
     "output_type": "execute_result"
    }
   ],
   "source": [
    "f = (sin(a)*cos(b)+sin(b)*cos(a))*(cos(a)*cos(b)-sin(a)*sin(b))*2*sin(b)*cos(b)-(cos(a)*cos(b)-sin(a)*sin(b))^2*(cos(b)^2 - sin(b)^2)"
   ]
  },
  {
   "cell_type": "code",
   "execution_count": 26,
   "metadata": {},
   "outputs": [
    {
     "data": {
      "text/latex": [
       "\\begin{equation*}- \\cos{\\left (a + b \\right )} \\cos{\\left (a + 3 b \\right )}\\end{equation*}"
      ],
      "text/plain": [
       "-cos(a + b)⋅cos(a + 3⋅b)"
      ]
     },
     "execution_count": 26,
     "metadata": {},
     "output_type": "execute_result"
    }
   ],
   "source": [
    "simplify(f)"
   ]
  },
  {
   "cell_type": "markdown",
   "metadata": {},
   "source": [
    "# Fluid"
   ]
  },
  {
   "cell_type": "markdown",
   "metadata": {},
   "source": [
    "## Velocity"
   ]
  },
  {
   "cell_type": "markdown",
   "metadata": {},
   "source": [
    "$$ F_r(i,j) =\\frac{1}{2}\\left( p_I(z_{i,j-1}-z_{i+1,j}) + p_V(z_{i-1,j}- z_{i,j-1}) +p_{III}(z_{i,j+1}-z_{i-1,j})+p_{II}(z_{i+1,j}-z_{i,j+1}) \\right)$$\n",
    "where $p_I=p_{i+\\frac{1}{2},j-\\frac{1}{2}} = p_{j-\\frac{1}{2}}$, $p_V = p_{i-\\frac{1}{2},j-\\frac{1}{2}} = p_{j-\\frac{1}{2}}$, $p_{II} = p_{i+\\frac{1}{2},j+\\frac{1}{2}} = p_{j+\\frac{1}{2}}$ and  $p_{III} = p_{i-\\frac{1}{2},j+\\frac{1}{2}} = p_{j+\\frac{1}{2}}$"
   ]
  },
  {
   "cell_type": "markdown",
   "metadata": {},
   "source": [
    "$$ F_r = \\frac{1}{2}p_{j-\\frac{1}{2}}(z_{i-1,j}-z_{i+1,j}) -\\frac{1}{2}p_{j+\\frac{1}{2}}(z_{i-1,j}-z_{i+1,j}) \n",
    "       = \\frac{1}{2}(p_{j+\\frac{1}{2}}-p_{j-\\frac{1}{2}})(z_{i+1,j}-z_{i-1,j})$$ "
   ]
  },
  {
   "cell_type": "markdown",
   "metadata": {},
   "source": [
    "$$F_z = -\\frac{1}{2}(p_{j+\\frac{1}{2}}-p_{j-\\frac{1}{2}})(r_{i+1,j}-r_{i-1,j})$$"
   ]
  },
  {
   "cell_type": "markdown",
   "metadata": {},
   "source": [
    "$ r_{i,j} = R_j \\text{sin}\\phi_i$, $z_{i,j} = R_j\\text{cos}\\phi_i$"
   ]
  },
  {
   "cell_type": "markdown",
   "metadata": {},
   "source": [
    "$$ F_r=  \\frac{1}{2}(p_{j+\\frac{1}{2}}-p_{j-\\frac{1}{2}})(\\text{cos}\\phi_{i+1}-\\text{cos}\\phi_{i-1})R_j = -R_j(p_{j+\\frac{1}{2}}-p_{j-\\frac{1}{2}})\\text{sin}\\phi_{i}\\text{sin}\\Delta\\phi$$\n",
    "$$ F_z=  -\\frac{1}{2}(p_{j+\\frac{1}{2}}-p_{j-\\frac{1}{2}})(\\text{sin}\\phi_{i+1}-\\text{sin}\\phi_{i-1})R_j =-R_j(p_{j+\\frac{1}{2}}-p_{j-\\frac{1}{2}})\\text{cos}\\phi_{i}\\text{sin}\\Delta\\phi$$"
   ]
  },
  {
   "cell_type": "markdown",
   "metadata": {},
   "source": [
    "$$ <\\rho A>_p = \\frac{1}{4}(\\rho_I A_I + \\rho_{II}A_{II} +\\rho_{III}A_{III}+\\rho_{V}A_{V})$$"
   ]
  },
  {
   "cell_type": "markdown",
   "metadata": {},
   "source": [
    "$$A_I = \\frac{1}{2}\\left( (r_{i,j-1} - r_{i+1,j})(z_{i+1,j-1}-z_{i,j})+(r_{i+1,j-1}-r_{i,j})(z_{i+1,j}-z_{i,j-1})\\right) =\\frac{1}{2} \\text{sin}\\Delta \\phi (R_j^2-R_{j-1}^2) $$ "
   ]
  },
  {
   "cell_type": "markdown",
   "metadata": {},
   "source": [
    "$$ <\\rho A>_p = \\frac{1}{4} \\left( \\rho_{j-\\frac{1}{2}}(R_j^2-R_{j-1}^2) + \\rho_{j+\\frac{1}{2}}(R_{j+1}^2-R_{j}^2)\\right)\\text{sin}\\Delta \\phi$$               "
   ]
  },
  {
   "cell_type": "markdown",
   "metadata": {},
   "source": [
    "$$ \\frac{d\\bf{u}_{i,j}}{dt} = \\frac{1}{ <\\rho A>_p}(F_r,R_z) = \\frac{-4R_j(p_{j+\\frac{1}{2}}-p_{j-\\frac{1}{2}})}{ \\rho_{j-\\frac{1}{2}}(R_j^2-R_{j-1}^2) + \\rho_{j+\\frac{1}{2}}(R_{j+1}^2-R_{j}^2)}(\\text{sin}\\phi_i,\\text{cos}\\phi_i)$$"
   ]
  },
  {
   "cell_type": "markdown",
   "metadata": {},
   "source": [
    "## Internal Energy"
   ]
  },
  {
   "cell_type": "markdown",
   "metadata": {},
   "source": [
    "$$ \\rho_{i,j}V_{i,j} \\frac{de_{i,j}}{dt} = \\int  p \\nabla \\cdot {\\bf{u}} r dr dz$$"
   ]
  },
  {
   "cell_type": "markdown",
   "metadata": {},
   "source": [
    "$ u_{i,j} = U_j(t)\\text{sin}\\phi_i$,$ v_{i,j} = U_j(t)\\text{cos}\\phi_i$,"
   ]
  },
  {
   "cell_type": "markdown",
   "metadata": {},
   "source": [
    "$$ \\frac{\\partial u_{i,j}}{\\partial r} = \\frac{1}{2A}\\left( (u_{i,j}-u_{i+1,j+1})(z_{i+1,j}-z_{i,j+1}) +(u_{i+1,j}-u_{i,j+1})(z_{i+1,j+1}-z_{i,j}\\right)$$"
   ]
  },
  {
   "cell_type": "markdown",
   "metadata": {},
   "source": [
    "$$= \\frac{(R_{j+1}U_{j+1}-R_{j}U_{j})\\text{sin}\\Delta\\phi -\\text{cos}(2\\phi+\\Delta\\phi)\\text{sin}\\Delta\\phi(R_jU_{j+1}-R_{j+1}U_j)}{2A}=\\frac{(R_{j+1}U_{j+1}-R_{j}U_{j}) -\\text{cos}(2\\phi+\\Delta\\phi)(R_jU_{j+1}-R_{j+1}U_j)}{R_{j+1}^2-R_{j}^2}$$"
   ]
  },
  {
   "cell_type": "markdown",
   "metadata": {},
   "source": [
    "$$ \\frac{\\partial v_{i,j}}{\\partial z} = -\\frac{1}{2A}\\left( (v_{i,j}-v_{i+1,j+1})(r_{i+1,j}-r_{i,j+1}) +(v_{i+1,j}-v_{i,j+1})(r_{i+1,j+1}-r_{i,j}\\right)\n",
    "=\\frac{(R_{j+1}U_{j+1}-R_{j}U_{j}) +\\text{cos}(2\\phi+\\Delta\\phi)(R_jU_{j+1}-R_{j+1}U_j)}{R_{j+1}^2-R_{j}^2}$$"
   ]
  },
  {
   "cell_type": "markdown",
   "metadata": {},
   "source": [
    "$$ u_c =\\frac{1}{4}( U_j\\text{sin}\\phi+ U_j\\text{sin}(\\phi+\\Delta\\phi)+U_{j+1}\\text{sin}\\phi+U_{j+1}\\text{sin}(\\phi+\\Delta\\phi)) = \\frac{1}{4}(U_j+U_{j+1})[\\text{sin}\\phi+\\text{sin}(\\phi+\\Delta\\phi)]$$"
   ]
  },
  {
   "cell_type": "markdown",
   "metadata": {},
   "source": [
    "$$\\frac{u_c}{r_c} = \\frac{U_j+U_{j+1}}{R_j+R_{j+1}}$$"
   ]
  },
  {
   "cell_type": "markdown",
   "metadata": {},
   "source": [
    "$$ \\frac{\\partial v_{i,j}}{\\partial r} = \\frac{1}{2A}\\left( (v_{i,j}-v_{i+1,j+1})(z_{i+1,j}-z_{i,j+1}) +(v_{i+1,j}-v_{i,j+1})(z_{i+1,j+1}-z_{i,j}\\right)\n",
    "=\\frac{(R_jU_{j+1}-R_{j+1}U_j)\\text{sin}(2\\phi+\\Delta\\phi)}{R_{j+1}^2-R_{j}^2}$$"
   ]
  },
  {
   "cell_type": "markdown",
   "metadata": {},
   "source": [
    "$$ \\frac{\\partial u_{i,j}}{\\partial z} = -\\frac{1}{2A}\\left( (u_{i,j}-u_{i+1,j+1})(r_{i+1,j}-r_{i,j+1}) +(u_{i+1,j}-u_{i,j+1})(r_{i+1,j+1}-r_{i,j}\\right) = \\frac{(R_jU_{j+1}-R_{j+1}U_j)\\text{sin}(2\\phi+\\Delta\\phi)}{R_{j+1}^2-R_{j}^2}$$"
   ]
  },
  {
   "cell_type": "markdown",
   "metadata": {},
   "source": [
    "## Hourglass viscosity"
   ]
  },
  {
   "cell_type": "markdown",
   "metadata": {},
   "source": [
    "$$ \\text{hg}_x = u_1 -u_2 + u_3 - u_4$$ \n",
    "$$ \\text{hg}_x = v_1 -v_2 + v_3 - v_4$$ \n",
    "\n",
    "$$ e_{1x} = -\\frac{1}{4}q\\rho c\\sqrt{A}\\text{hg}_x $$\n",
    "$$ e_{1y} = -\\frac{1}{4}q\\rho c\\sqrt{A}\\text{hg}_y $$\n",
    "\n",
    "$$ e_{2x} = \\frac{1}{4}q\\rho c\\sqrt{A}\\text{hg}_x $$\n",
    "$$ e_{2y} = \\frac{1}{4}q\\rho c\\sqrt{A}\\text{hg}_y $$\n",
    "\n",
    "$$ e_{3x} = -\\frac{1}{4}q\\rho c\\sqrt{A}\\text{hg}_x $$\n",
    "$$ e_{3y} = -\\frac{1}{4}q\\rho c\\sqrt{A}\\text{hg}_y $$\n",
    "\n",
    "$$ e_{4x} = \\frac{1}{4}q\\rho c\\sqrt{A}\\text{hg}_x $$\n",
    "$$ e_{4y} = \\frac{1}{4}q\\rho c\\sqrt{A}\\text{hg}_y $$"
   ]
  },
  {
   "cell_type": "markdown",
   "metadata": {},
   "source": [
    "$$ hg_x = (U_j-U_{j+1})\\left(\\text{sin}(\\phi+\\Delta \\phi)-\\text{sin}(\\phi)\\right)$$"
   ]
  },
  {
   "cell_type": "markdown",
   "metadata": {},
   "source": [
    "### Cell I $[i,j]-[i+1,j]-[i+1,j+1]-[i,j+1]$: \n",
    "$$\\text{hg}_x = U_j\\text{sin}\\phi-U_j\\text{sin}(\\phi+\\Delta \\phi)+U_{j+1}\\text{sin}(\\phi+\\Delta\\phi)-U_{j+1}\\text{sin}\\phi  = (U_{j+1}-U_{j})\\left(\\text{sin}(\\phi+\\Delta \\phi)-\\text{sin}(\\phi)\\right)$$"
   ]
  },
  {
   "cell_type": "markdown",
   "metadata": {},
   "source": [
    "### Cell V $[i-1,j]-[i,j]-[i,j+1]-[i-1,j+1]$: "
   ]
  },
  {
   "cell_type": "markdown",
   "metadata": {},
   "source": [
    "$$\\text{hg}_x = U_j\\text{sin}(\\phi-\\Delta\\phi)-U_j\\text{sin}(\\phi)+U_{j+1}\\text{sin}(\\phi)-U_{j+1}\\text{sin}(\\phi-\\Delta\\phi)  = (U_{j+1}-U_{j})\\left(\\text{sin}(\\phi)-\\text{sin}(\\phi-\\Delta\\phi)\\right)$$"
   ]
  },
  {
   "cell_type": "markdown",
   "metadata": {},
   "source": [
    "$$ e_{2x}^V + e_{1x}^I = (U_{j+1}-U_{j})\\left(2\\text{sin}(\\phi)-\\text{sin}(\\phi-\\Delta\\phi) +\\text{sin}(\\phi+\\Delta \\phi)\\right)$$"
   ]
  },
  {
   "cell_type": "markdown",
   "metadata": {},
   "source": [
    "$$ f_{i,j} = -q\\rho_{j+\\frac{1}{2}}c_{j+\\frac{1}{2}}\\sqrt{\\frac{1}{2}(R_{j+1}^2-R_j^2)\\text{sin}\\Delta\\theta} [\\text{sin}(\\phi+\\Delta \\phi)+\\text{sin}(\\phi-\\Delta \\phi)-2\\text{sin}(\\phi)] + q\\rho_{j-\\frac{1}{2}}c_{j-\\frac{1}{2}}\\sqrt{\\frac{1}{2}(R_{j}^2-R_{j-1}^2)\\text{sin}\\Delta\\theta} [\\text{sin}(\\phi+\\Delta \\phi)+\\text{sin}(\\phi-\\Delta \\phi)-2\\text{sin}(\\phi)]$$ "
   ]
  },
  {
   "cell_type": "markdown",
   "metadata": {},
   "source": [
    "## A new hourglass "
   ]
  },
  {
   "cell_type": "markdown",
   "metadata": {},
   "source": [
    "$$\\text{hg}_x = (u_1+u_3)(r_2+r_4)-(u_2+u_4)(r_1+r_3)$$\n",
    "$$\\text{hg}_y = (v_1+v_3)(z_2+z_4)-(v_2+v_4)(z_1+z_3)$$"
   ]
  },
  {
   "cell_type": "markdown",
   "metadata": {},
   "source": [
    "$$ e_{1x} = -\\frac{1}{4}q\\rho c\\text{hg}_x $$\n",
    "$$ e_{1y} = -\\frac{1}{4}q\\rho c\\text{hg}_y $$\n",
    "\n",
    "$$ e_{2x} = \\frac{1}{4}q\\rho c\\text{hg}_x $$\n",
    "$$ e_{2y} = \\frac{1}{4}q\\rho c\\text{hg}_y $$\n",
    "\n",
    "$$ e_{3x} = -\\frac{1}{4}q\\rho c\\text{hg}_x $$\n",
    "$$ e_{3y} = -\\frac{1}{4}q\\rho c\\text{hg}_y $$\n",
    "\n",
    "$$ e_{4x} = \\frac{1}{4}q\\rho c\\text{hg}_x $$\n",
    "$$ e_{4y} = \\frac{1}{4}q\\rho c\\text{hg}_y $$"
   ]
  },
  {
   "cell_type": "markdown",
   "metadata": {},
   "source": [
    "### Cell I $[i,j]-[i+1,j]-[i+1,j+1]-[i,j+1]$: \n",
    "$$\\text{hg}_x = (U_j\\text{sin}\\phi+U_{j+1}\\text{sin}(\\phi+\\Delta\\phi))(R_j\\text{sin}(\\phi+\\Delta\\phi)+R_{j+1}\\text{sin}\\phi)-(U_{j+1}\\text{sin}\\phi +U_j\\text{sin}(\\phi+\\Delta \\phi))(R_{j+1}\\text{sin}(\\phi+\\Delta\\phi)+R_{j}\\text{sin}\\phi)$$"
   ]
  },
  {
   "cell_type": "markdown",
   "metadata": {},
   "source": [
    "$$ = -(U_jR_{j+1}-U_{j+1}R_j)(\\text{sin}^2(\\phi+\\Delta \\phi)-\\text{sin}^2\\phi)$$"
   ]
  },
  {
   "cell_type": "markdown",
   "metadata": {},
   "source": [
    "### Cell V $[i-1,j]-[i,j]-[i,j+1]-[i-1,j+1]$: \n",
    "$$\\text{hg}_x = (U_j\\text{sin}(\\phi-\\Delta\\phi)+U_{j+1}\\text{sin}\\phi)(R_j\\text{sin}\\phi+R_{j+1}\\text{sin}(\\phi-\\Delta\\phi))-(U_{j+1}\\text{sin}(\\phi-\\Delta\\phi)+U_{j}\\text{sin}\\phi)(R_{j+1}\\text{sin}\\phi+R_{j}\\text{sin}(\\phi-\\Delta\\phi))$$"
   ]
  },
  {
   "cell_type": "markdown",
   "metadata": {},
   "source": [
    "$$ = (U_jR_{j+1}-U_{j+1}R_j)(\\text{sin}^2(\\phi-\\Delta\\phi)-\\text{sin}^2\\phi)$$"
   ]
  },
  {
   "cell_type": "markdown",
   "metadata": {},
   "source": []
  },
  {
   "cell_type": "code",
   "execution_count": 43,
   "metadata": {},
   "outputs": [
    {
     "data": {
      "text/plain": [
       "(U_1, U_2, R_1, R_2, ϕ_1, δϕ, a, b, c, d)"
      ]
     },
     "execution_count": 43,
     "metadata": {},
     "output_type": "execute_result"
    }
   ],
   "source": [
    "@vars U_1 U_2 R_1 R_2 ϕ_1 δϕ a b c d"
   ]
  },
  {
   "cell_type": "code",
   "execution_count": 99,
   "metadata": {},
   "outputs": [
    {
     "data": {
      "text/latex": [
       "\\begin{equation*}\\left(- R_{1} \\sin{\\left (ϕ \\right )} + R_{2} \\sin{\\left (δϕ + ϕ \\right )}\\right) \\left(U_{1} \\sin{\\left (δϕ + ϕ \\right )} - U_{2} \\sin{\\left (ϕ \\right )}\\right) + \\left(R_{1} \\sin{\\left (δϕ + ϕ \\right )} - R_{2} \\sin{\\left (ϕ \\right )}\\right) \\left(U_{1} \\sin{\\left (ϕ \\right )} - U_{2} \\sin{\\left (δϕ + ϕ \\right )}\\right)\\end{equation*}"
      ],
      "text/plain": [
       "(-R₁⋅sin(ϕ) + R₂⋅sin(δϕ + ϕ))⋅(U₁⋅sin(δϕ + ϕ) - U₂⋅sin(ϕ)) + (R₁⋅sin(δϕ + ϕ) -\n",
       " R₂⋅sin(ϕ))⋅(U₁⋅sin(ϕ) - U₂⋅sin(δϕ + ϕ))"
      ]
     },
     "execution_count": 99,
     "metadata": {},
     "output_type": "execute_result"
    }
   ],
   "source": [
    "f =(U_1*sin(ϕ) -U_2*sin(ϕ+δϕ)) *(R_1*sin(ϕ+δϕ)-R_2*sin(ϕ))+(U_1*sin(ϕ+δϕ) -U_2*sin(ϕ)) *(R_2*sin(ϕ+δϕ)-R_1*sin(ϕ))"
   ]
  },
  {
   "cell_type": "code",
   "execution_count": 42,
   "metadata": {},
   "outputs": [
    {
     "data": {
      "text/latex": [
       "\\begin{equation*}- \\left(R_{1} \\cos{\\left (ϕ \\right )} - R_{2} \\cos{\\left (δϕ + ϕ \\right )}\\right) \\left(U_{1} \\sin{\\left (δϕ + ϕ \\right )} - U_{2} \\sin{\\left (ϕ \\right )}\\right) + \\left(R_{1} \\cos{\\left (δϕ + ϕ \\right )} - R_{2} \\cos{\\left (ϕ \\right )}\\right) \\left(U_{1} \\sin{\\left (ϕ \\right )} - U_{2} \\sin{\\left (δϕ + ϕ \\right )}\\right)\\end{equation*}"
      ],
      "text/plain": [
       "-(R₁⋅cos(ϕ) - R₂⋅cos(δϕ + ϕ))⋅(U₁⋅sin(δϕ + ϕ) - U₂⋅sin(ϕ)) + (R₁⋅cos(δϕ + ϕ) -\n",
       " R₂⋅cos(ϕ))⋅(U₁⋅sin(ϕ) - U₂⋅sin(δϕ + ϕ))"
      ]
     },
     "execution_count": 42,
     "metadata": {},
     "output_type": "execute_result"
    }
   ],
   "source": [
    "simplify(f)"
   ]
  },
  {
   "cell_type": "code",
   "execution_count": 92,
   "metadata": {},
   "outputs": [
    {
     "data": {
      "text/latex": [
       "\\begin{equation*}- \\left(R_{1} b - R_{2} \\left(a d + b c\\right)\\right) \\left(U_{1} \\left(a d + b c\\right) - U_{2} b\\right) + \\left(R_{1} \\left(a d + b c\\right) - R_{2} b\\right) \\left(U_{1} b - U_{2} \\left(a d + b c\\right)\\right)\\end{equation*}"
      ],
      "text/plain": [
       "-(R₁⋅b - R₂⋅(a⋅d + b⋅c))⋅(U₁⋅(a⋅d + b⋅c) - U₂⋅b) + (R₁⋅(a⋅d + b⋅c) - R₂⋅b)⋅(U₁\n",
       "⋅b - U₂⋅(a⋅d + b⋅c))"
      ]
     },
     "execution_count": 92,
     "metadata": {},
     "output_type": "execute_result"
    }
   ],
   "source": [
    "f =simplify((U_1*b -U_2*(a*d+b*c)) *(R_1*(a*d+b*c)-R_2*b)+(U_1*(a*d+b*c) -U_2*b) *(R_2*(a*d+b*c)-R_1*b))"
   ]
  },
  {
   "cell_type": "code",
   "execution_count": 96,
   "metadata": {},
   "outputs": [
    {
     "data": {
      "text/latex": [
       "\\begin{equation*}R_{2} U_{1} \\left(- b^{2} + \\left(a d + b c\\right)^{2}\\right)\\end{equation*}"
      ],
      "text/plain": [
       "      ⎛   2              2⎞\n",
       "R₂⋅U₁⋅⎝- b  + (a⋅d + b⋅c) ⎠"
      ]
     },
     "execution_count": 96,
     "metadata": {},
     "output_type": "execute_result"
    }
   ],
   "source": [
    "simplify(f(R_1=>0,U_2=>0))"
   ]
  },
  {
   "cell_type": "code",
   "execution_count": 116,
   "metadata": {},
   "outputs": [
    {
     "data": {
      "text/latex": [
       "\\begin{equation*}R_{1} U_{2} \\sin^{2}{\\left (ϕ \\right )} - R_{1} U_{2} \\sin^{2}{\\left (δϕ + ϕ \\right )} - R_{2} U_{1} \\sin^{2}{\\left (ϕ \\right )} + R_{2} U_{1} \\sin^{2}{\\left (δϕ + ϕ \\right )}\\end{equation*}"
      ],
      "text/plain": [
       "         2               2                    2               2        \n",
       "R₁⋅U₂⋅sin (ϕ) - R₁⋅U₂⋅sin (δϕ + ϕ) - R₂⋅U₁⋅sin (ϕ) + R₂⋅U₁⋅sin (δϕ + ϕ)"
      ]
     },
     "execution_count": 116,
     "metadata": {},
     "output_type": "execute_result"
    }
   ],
   "source": [
    "f=sympy.trigsimp(sympy.trigsimp(f))"
   ]
  },
  {
   "cell_type": "code",
   "execution_count": 109,
   "metadata": {},
   "outputs": [
    {
     "name": "stdout",
     "output_type": "stream",
     "text": [
      "search: \u001b[0m\u001b[1ms\u001b[22m\u001b[0m\u001b[1my\u001b[22m\u001b[0m\u001b[1mm\u001b[22m\u001b[0m\u001b[1mp\u001b[22m\u001b[0m\u001b[1mi\u001b[22m\u001b[0m\u001b[1mf\u001b[22m\u001b[0m\u001b[1my\u001b[22m \u001b[0m\u001b[1ms\u001b[22m\u001b[0m\u001b[1my\u001b[22m\u001b[0m\u001b[1mm\u001b[22m\u001b[0m\u001b[1mp\u001b[22my_plott\u001b[0m\u001b[1mi\u001b[22mng \u001b[0m\u001b[1mS\u001b[22m\u001b[0m\u001b[1my\u001b[22m\u001b[0m\u001b[1mm\u001b[22m\u001b[0m\u001b[1mP\u001b[22mermutat\u001b[0m\u001b[1mi\u001b[22mon \u001b[0m\u001b[1mS\u001b[22m\u001b[0m\u001b[1my\u001b[22m\u001b[0m\u001b[1mm\u001b[22m\u001b[0m\u001b[1mP\u001b[22mermutat\u001b[0m\u001b[1mi\u001b[22monGroup\n",
      "\n"
     ]
    },
    {
     "data": {
      "text/latex": [
       "No documentation found.\n",
       "\n",
       "\\texttt{SymPy.sympify} is a \\texttt{Function}.\n",
       "\n",
       "\\begin{verbatim}\n",
       "# 1 method for generic function \"sympify\":\n",
       "[1] sympify(s, args...; kwargs...) in SymPy at /home/bfly/.juliapro/JuliaPro_v1.1.1.1/packages/SymPy/uBeIy/src/constructors.jl:85\n",
       "\\end{verbatim}\n"
      ],
      "text/markdown": [
       "No documentation found.\n",
       "\n",
       "`SymPy.sympify` is a `Function`.\n",
       "\n",
       "```\n",
       "# 1 method for generic function \"sympify\":\n",
       "[1] sympify(s, args...; kwargs...) in SymPy at /home/bfly/.juliapro/JuliaPro_v1.1.1.1/packages/SymPy/uBeIy/src/constructors.jl:85\n",
       "```\n"
      ],
      "text/plain": [
       "  No documentation found.\n",
       "\n",
       "  \u001b[36mSymPy.sympify\u001b[39m is a \u001b[36mFunction\u001b[39m.\n",
       "\n",
       "\u001b[36m  # 1 method for generic function \"sympify\":\u001b[39m\n",
       "\u001b[36m  [1] sympify(s, args...; kwargs...) in SymPy at /home/bfly/.juliapro/JuliaPro_v1.1.1.1/packages/SymPy/uBeIy/src/constructors.jl:85\u001b[39m"
      ]
     },
     "execution_count": 109,
     "metadata": {},
     "output_type": "execute_result"
    }
   ],
   "source": [
    "? sympify"
   ]
  },
  {
   "cell_type": "code",
   "execution_count": 112,
   "metadata": {},
   "outputs": [],
   "source": [
    "using PyCall"
   ]
  },
  {
   "cell_type": "code",
   "execution_count": 121,
   "metadata": {},
   "outputs": [
    {
     "data": {
      "text/latex": [
       "\\begin{equation*}R_{1} U_{2} \\sin^{2}{\\left (ϕ \\right )} - R_{1} U_{2} \\sin^{2}{\\left (δϕ + ϕ \\right )} - R_{2} U_{1} \\sin^{2}{\\left (ϕ \\right )} + R_{2} U_{1} \\sin^{2}{\\left (δϕ + ϕ \\right )}\\end{equation*}"
      ],
      "text/plain": [
       "         2               2                    2               2        \n",
       "R₁⋅U₂⋅sin (ϕ) - R₁⋅U₂⋅sin (δϕ + ϕ) - R₂⋅U₁⋅sin (ϕ) + R₂⋅U₁⋅sin (δϕ + ϕ)"
      ]
     },
     "execution_count": 121,
     "metadata": {},
     "output_type": "execute_result"
    }
   ],
   "source": [
    "sympy.trigsimp(sympy.expand_trig(f))"
   ]
  },
  {
   "cell_type": "code",
   "execution_count": null,
   "metadata": {},
   "outputs": [],
   "source": [
    "b = sin(ϕ) a=cos(ϕ) c=cos(δϕ) d= sin(δϕ)\n"
   ]
  },
  {
   "cell_type": "code",
   "execution_count": 153,
   "metadata": {},
   "outputs": [
    {
     "data": {
      "text/latex": [
       "\\begin{equation*}- \\sin{\\left (a \\right )} + \\sin{\\left (a + b \\right )}\\end{equation*}"
      ],
      "text/plain": [
       "-sin(a) + sin(a + b)"
      ]
     },
     "execution_count": 153,
     "metadata": {},
     "output_type": "execute_result"
    }
   ],
   "source": [
    "f=(sin(a+b)-sin(a))#+(sin(a-b)-sin(a))"
   ]
  },
  {
   "cell_type": "code",
   "execution_count": 154,
   "metadata": {},
   "outputs": [
    {
     "data": {
      "text/latex": [
       "\\begin{equation*}- \\sin{\\left (a \\right )} + \\sin{\\left (a + b \\right )}\\end{equation*}"
      ],
      "text/plain": [
       "-sin(a) + sin(a + b)"
      ]
     },
     "execution_count": 154,
     "metadata": {},
     "output_type": "execute_result"
    }
   ],
   "source": [
    "simplify(f)"
   ]
  },
  {
   "cell_type": "code",
   "execution_count": 151,
   "metadata": {},
   "outputs": [
    {
     "data": {
      "text/latex": [
       "\\begin{equation*}- \\sin{\\left (a - b \\right )} + \\sin{\\left (a + b \\right )}\\end{equation*}"
      ],
      "text/plain": [
       "-sin(a - b) + sin(a + b)"
      ]
     },
     "execution_count": 151,
     "metadata": {},
     "output_type": "execute_result"
    }
   ],
   "source": [
    "f=(sin(a+b)+sin(a))-(sin(a-b)+sin(a))"
   ]
  },
  {
   "cell_type": "code",
   "execution_count": 167,
   "metadata": {},
   "outputs": [
    {
     "data": {
      "text/latex": [
       "\\begin{equation*}- \\left(- \\sin{\\left (a \\right )} + \\sin{\\left (a - b \\right )}\\right)^{2} \\left(- \\cos{\\left (a \\right )} + \\cos{\\left (a - b \\right )}\\right) + \\left(- \\sin{\\left (a \\right )} + \\sin{\\left (a + b \\right )}\\right)^{2} \\left(- \\cos{\\left (a \\right )} + \\cos{\\left (a + b \\right )}\\right)\\end{equation*}"
      ],
      "text/plain": [
       "                        2                                                2    \n",
       "- (-sin(a) + sin(a - b)) ⋅(-cos(a) + cos(a - b)) + (-sin(a) + sin(a + b)) ⋅(-c\n",
       "\n",
       "                   \n",
       "os(a) + cos(a + b))"
      ]
     },
     "execution_count": 167,
     "metadata": {},
     "output_type": "execute_result"
    }
   ],
   "source": [
    "sympy.trigsimp(f)"
   ]
  },
  {
   "cell_type": "code",
   "execution_count": 165,
   "metadata": {},
   "outputs": [
    {
     "data": {
      "text/latex": [
       "\\begin{equation*}- \\left(- \\sin{\\left (a \\right )} + \\sin{\\left (a - b \\right )}\\right)^{2} \\left(- \\cos{\\left (a \\right )} + \\cos{\\left (a - b \\right )}\\right) + \\left(- \\sin{\\left (a \\right )} + \\sin{\\left (a + b \\right )}\\right)^{2} \\left(- \\cos{\\left (a \\right )} + \\cos{\\left (a + b \\right )}\\right)\\end{equation*}"
      ],
      "text/plain": [
       "                        2                                                2    \n",
       "- (-sin(a) + sin(a - b)) ⋅(-cos(a) + cos(a - b)) + (-sin(a) + sin(a + b)) ⋅(-c\n",
       "\n",
       "                   \n",
       "os(a) + cos(a + b))"
      ]
     },
     "execution_count": 165,
     "metadata": {},
     "output_type": "execute_result"
    }
   ],
   "source": [
    "f= (sin(a+b)-sin(a))*(cos(a+b)-cos(a))*(sin(a+b)-sin(a))-(sin(a-b)-sin(a))*(cos(a-b)-cos(a))*(sin(a-b)-sin(a))"
   ]
  },
  {
   "cell_type": "code",
   "execution_count": 169,
   "metadata": {},
   "outputs": [
    {
     "data": {
      "text/latex": [
       "\\begin{equation*}2 \\sin{\\left (b \\right )} \\cos{\\left (a \\right )}\\end{equation*}"
      ],
      "text/plain": [
       "2⋅sin(b)⋅cos(a)"
      ]
     },
     "execution_count": 169,
     "metadata": {},
     "output_type": "execute_result"
    }
   ],
   "source": [
    "simplify(sin(a+b) - sin(a-b))"
   ]
  },
  {
   "cell_type": "code",
   "execution_count": 171,
   "metadata": {},
   "outputs": [
    {
     "data": {
      "text/plain": [
       "(U1, U2, R1, R2)"
      ]
     },
     "execution_count": 171,
     "metadata": {},
     "output_type": "execute_result"
    }
   ],
   "source": [
    "@vars U1 U2 R1 R2"
   ]
  },
  {
   "cell_type": "code",
   "execution_count": 174,
   "metadata": {},
   "outputs": [
    {
     "data": {
      "text/latex": [
       "\\begin{equation*}- R_{1} U_{1} \\sin{\\left (a \\right )} \\sin{\\left (a - b \\right )} + R_{1} U_{1} \\sin{\\left (a \\right )} \\sin{\\left (a + b \\right )} - R_{1} U_{2} \\sin^{2}{\\left (a \\right )} + R_{1} U_{2} \\sin^{2}{\\left (a - b \\right )} + R_{2} U_{1} \\sin^{2}{\\left (a \\right )} - R_{2} U_{1} \\sin^{2}{\\left (a + b \\right )} - R_{2} U_{2} \\sin{\\left (a \\right )} \\sin{\\left (a - b \\right )} + R_{2} U_{2} \\sin{\\left (a \\right )} \\sin{\\left (a + b \\right )}\\end{equation*}"
      ],
      "text/plain": [
       "                                                              2               \n",
       "-R₁⋅U₁⋅sin(a)⋅sin(a - b) + R₁⋅U₁⋅sin(a)⋅sin(a + b) - R₁⋅U₂⋅sin (a) + R₁⋅U₂⋅sin\n",
       "\n",
       "2                   2               2                                         \n",
       " (a - b) + R₂⋅U₁⋅sin (a) - R₂⋅U₁⋅sin (a + b) - R₂⋅U₂⋅sin(a)⋅sin(a - b) + R₂⋅U₂\n",
       "\n",
       "                  \n",
       "⋅sin(a)⋅sin(a + b)"
      ]
     },
     "execution_count": 174,
     "metadata": {},
     "output_type": "execute_result"
    }
   ],
   "source": [
    "f=U1*sin(a)*R1*sin(a+b)-U1*sin(a+b)*R2*sin(a+b)+U2*sin(a+b)*R2*sin(a)-U2*sin(a)*R1*sin(a)+U1*sin(a)*R2*sin(a)-U2*sin(a)*R2*sin(a-b)+U2*sin(a-b)*R1*sin(a-b)-U1*sin(a-b)*R1*sin(a)"
   ]
  },
  {
   "cell_type": "code",
   "execution_count": 176,
   "metadata": {},
   "outputs": [
    {
     "data": {
      "text/latex": [
       "\\begin{equation*}- R_{1} U_{1} \\sin{\\left (a \\right )} \\sin{\\left (a - b \\right )} + R_{1} U_{1} \\sin{\\left (a \\right )} \\sin{\\left (a + b \\right )} - R_{1} U_{2} \\sin^{2}{\\left (a \\right )} + R_{1} U_{2} \\sin^{2}{\\left (a - b \\right )} + R_{2} U_{1} \\sin^{2}{\\left (a \\right )} - R_{2} U_{1} \\sin^{2}{\\left (a + b \\right )} - R_{2} U_{2} \\sin{\\left (a \\right )} \\sin{\\left (a - b \\right )} + R_{2} U_{2} \\sin{\\left (a \\right )} \\sin{\\left (a + b \\right )}\\end{equation*}"
      ],
      "text/plain": [
       "                                                              2               \n",
       "-R₁⋅U₁⋅sin(a)⋅sin(a - b) + R₁⋅U₁⋅sin(a)⋅sin(a + b) - R₁⋅U₂⋅sin (a) + R₁⋅U₂⋅sin\n",
       "\n",
       "2                   2               2                                         \n",
       " (a - b) + R₂⋅U₁⋅sin (a) - R₂⋅U₁⋅sin (a + b) - R₂⋅U₂⋅sin(a)⋅sin(a - b) + R₂⋅U₂\n",
       "\n",
       "                  \n",
       "⋅sin(a)⋅sin(a + b)"
      ]
     },
     "execution_count": 176,
     "metadata": {},
     "output_type": "execute_result"
    }
   ],
   "source": [
    "sympy.trigsimp(f)"
   ]
  },
  {
   "cell_type": "code",
   "execution_count": null,
   "metadata": {},
   "outputs": [],
   "source": []
  },
  {
   "cell_type": "markdown",
   "metadata": {},
   "source": [
    "## Cylindrical "
   ]
  },
  {
   "cell_type": "markdown",
   "metadata": {},
   "source": [
    "\\begin{equation}\n",
    "  \\begin{array}{l}\n",
    "\t\\displaystyle \\rho \\frac{du}{dt}=\\frac{\\partial \\sigma _{rr}}{\\partial r}+ \\frac{\\partial s_{rz}}{\\partial z} + \\frac{\\sigma_{rr}-\\sigma_{\\theta \\theta}}{r} \\\\\n",
    "  \\displaystyle \\rho \\frac{dv}{dt}=\\frac{\\partial \\sigma _{zz}}{\\partial z}+ \\frac{\\partial s_{rz}}{\\partial r} + \\frac{s_{rz}}{r}\\\\\n",
    "  \\end{array}\n",
    "  \\end{equation}"
   ]
  },
  {
   "cell_type": "markdown",
   "metadata": {},
   "source": [
    " $$ F_r(i,j) =\\frac{\\partial p}{\\partial r} + \\frac{\\partial s _{rr}}{\\partial r}+ \\frac{\\partial s_{rz}}{\\partial z} + \\frac{s_{rr}-s_{\\theta \\theta}}{r} $$"
   ]
  },
  {
   "cell_type": "code",
   "execution_count": null,
   "metadata": {},
   "outputs": [],
   "source": [
    "\\frac{1}{2}\\left( p_I(z_{i,j-1}-z_{i+1,j}) + p_V(z_{i-1,j}- z_{i,j-1}) +p_{III}(z_{i,j+1}-z_{i-1,j})+p_{II}(z_{i+1,j}-z_{i,j+1}) \\right)"
   ]
  },
  {
   "cell_type": "markdown",
   "metadata": {},
   "source": [
    "$$ S = \\left(\\begin{array}{lll}\n",
    "    s_{rr}& s_{zr} & \\\\\n",
    "    s_{zr}& s_{zz} &\\\\\n",
    "    & & s_{\\theta\\theta}\\\\\n",
    "    \\end{array}\\right)\n",
    "    $$"
   ]
  },
  {
   "cell_type": "code",
   "execution_count": null,
   "metadata": {},
   "outputs": [],
   "source": []
  }
 ],
 "metadata": {
  "kernelspec": {
   "display_name": "Julia 1.1.1",
   "language": "julia",
   "name": "julia-1.1"
  },
  "language_info": {
   "file_extension": ".jl",
   "mimetype": "application/julia",
   "name": "julia",
   "version": "1.1.1"
  }
 },
 "nbformat": 4,
 "nbformat_minor": 2
}
