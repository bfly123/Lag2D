{
 "cells": [
  {
   "cell_type": "markdown",
   "metadata": {},
   "source": [
    "#  Code for 2D staggered Lagrangian method in Cartersian coordinates"
   ]
  },
  {
   "cell_type": "markdown",
   "metadata": {},
   "source": [
    "## Control equations"
   ]
  },
  {
   "cell_type": "markdown",
   "metadata": {},
   "source": [
    "一般形式下，弹塑性流体控制方程为：\n",
    "\n",
    "质量方程：\n",
    "\\begin{equation}\n",
    "  \\frac{dm}{dt}=0\n",
    "  \\end{equation}\n",
    "动量方程：\n",
    "\\begin{equation}\n",
    "  \\frac{d\\rho \\mathbf{u}}{dt}= \\nabla \\cdot  \\mathbf{\\Pi} \n",
    "\\end{equation}\n",
    "\n",
    "能量方程：\n",
    "\\begin{equation}\n",
    " \\rho \\frac{de}{dt}= \\mathbf{\\sigma} \\cdot \\mathbf{\\varepsilon}\n",
    "\\end{equation}\n",
    "\n",
    "\\section{二维控制方程}\n",
    "\n",
    "运动方程：\n",
    "\\begin{equation}\n",
    "  \\frac{d(r,z)}{dt}=(u,v)\n",
    "\\end{equation}\n",
    "\n",
    "质量守恒：\n",
    "\\begin{equation}\\label{eq:38}\n",
    "  \\frac{dm}{dt}=0\n",
    "\\end{equation}\n",
    "\n",
    "动量守恒方程：\n",
    "\\begin{equation}\\label{eq:3}\n",
    "  \\begin{array}{l}\n",
    "\t\\displaystyle \\rho \\frac{du}{dt}=\\frac{\\partial \\sigma _{rr}}{\\partial r}+ \\frac{\\partial s_{rz}}{\\partial z}\\\\[0.3cm]\n",
    "  \\displaystyle \\rho \\frac{dv}{dt}=\\frac{\\partial \\sigma _{zz}}{\\partial z}+ \\frac{\\partial s_{rz}}{\\partial r}\\\\\n",
    "  \\end{array}\n",
    "  \\end{equation}\n",
    "\n",
    "能量守恒方程：\n",
    "\\begin{equation}\n",
    "  \\begin{array}{l}\n",
    "\t\\displaystyle \\rho \\frac{de}{dt}=\\sigma _{rr}\\frac{\\partial u}{\\partial r}+\\sigma_{zz}\\frac{\\partial v}{\\partial z}+s_{rz}\\left( \\frac{\\partial u}{\\partial z}+\\frac{\\partial v}{\\partial r}\\right)\\\\[0.3cm]\n",
    "\t\\displaystyle = -p\\frac{dV}{dt}+ s_{rr}\\frac{\\partial u}{\\partial r}+s_{zz}\\frac{\\partial v}{\\partial z}+s_{rz}\\left( \\frac{\\partial u}{\\partial z}+\\frac{\\partial v}{\\partial r}\\right)\\\\\n",
    "\t\\end{array}\n",
    "\t\\end{equation}\n",
    "\n",
    "本构方程：\n",
    "\\begin{equation}\n",
    "  \\begin{array}{l}\n",
    "\t\\displaystyle \\frac{ds_{rr}}{dt}=2\\mu \\left(\\frac{\\partial u}{\\partial r}-\\frac{1}{3}\\nabla \\cdot \\vec{u} \\right) +s_{rz}\\left(\\frac{\\partial u}{\\partial z}-\\frac{\\partial v}{\\partial r}\\right)\\\\[0.3cm]\n",
    "\t\\displaystyle \\frac{ds_{zz}}{dt}=2\\mu \\left(\\frac{\\partial v}{\\partial z}-\\frac{1}{3}\\nabla \\cdot \\vec{u} \\right) -s_{rz}\\left(\\frac{\\partial u}{\\partial z}-\\frac{\\partial v}{\\partial r}\\right)\\\\[0.3cm]\n",
    "\t\\displaystyle \\frac{ds_{rz}}{dt}=\\mu \\left(\\frac{\\partial u}{\\partial r}+\\frac{\\partial v}{\\partial z}\\right) + \\frac{s_{rr}-s_{zz}}{2}\\left(\\frac{\\partial u}{\\partial z}-\\frac{\\partial v}{\\partial r}\\right)\\\\\n",
    "  \\end{array}\n",
    "  \\end{equation}\n",
    "\n",
    "Von Mises屈服条件：\n",
    "\\begin{equation}\n",
    "  \\frac{3}{2}(s_{rr}^2+s_{zz}^2+s_{\\theta \\theta}^2+2s_{xy}^2)\\le (Y^0)^2\n",
    "\\end{equation}\n",
    "\n",
    "\n",
    "\n",
    "\n",
    "\n"
   ]
  },
  {
   "cell_type": "markdown",
   "metadata": {},
   "source": [
    "$$ s_{\\theta\\theta} = - (s_{rr} +s_{zz}) $$"
   ]
  },
  {
   "cell_type": "markdown",
   "metadata": {},
   "source": [
    "一般形式下，弹塑性流体控制方程为：\n",
    "\n",
    "质量方程：\n",
    "\\begin{equation}\n",
    "  \\frac{dm}{dt}=0\n",
    "  \\end{equation}\n",
    "动量方程：\n",
    "\\begin{equation}\n",
    "  \\frac{d\\rho \\mathbf{u}}{dt}= \\nabla \\cdot  \\mathbf{\\Pi} \n",
    "\\end{equation}\n",
    "\n",
    "能量方程：\n",
    "\\begin{equation}\n",
    " \\rho \\frac{de}{dt}= \\mathbf{\\sigma} \\cdot \\mathbf{\\varepsilon}\n",
    "\\end{equation}\n",
    "\n",
    "\\section{二维控制方程}\n",
    "\n",
    "运动方程：\n",
    "\\begin{equation}\n",
    "  \\frac{d(r,z)}{dt}=(u,v)\n",
    "\\end{equation}\n",
    "\n",
    "质量守恒：\n",
    "\\begin{equation}\\label{eq:38}\n",
    "  \\frac{dm}{dt}=0\n",
    "\\end{equation}\n",
    "\n",
    "动量守恒方程：\n",
    "\\begin{equation}\\label{eq:3}\n",
    "  \\begin{array}{l}\n",
    "\t\\displaystyle \\rho \\frac{du}{dt}=\\frac{\\partial \\sigma _{rr}}{\\partial r}+ \\frac{\\partial s_{rz}}{\\partial z}\\\\[0.3cm]\n",
    "  \\displaystyle \\rho \\frac{dv}{dt}=\\frac{\\partial \\sigma _{zz}}{\\partial z}+ \\frac{\\partial s_{rz}}{\\partial r}\\\\\n",
    "  \\end{array}\n",
    "  \\end{equation}\n",
    "\n",
    "能量守恒方程：\n",
    "\\begin{equation}\n",
    "  \\begin{array}{l}\n",
    "\t\\displaystyle \\rho \\frac{de}{dt}=\\sigma _{rr}\\frac{\\partial u}{\\partial r}+\\sigma_{zz}\\frac{\\partial v}{\\partial z}+s_{rz}\\left( \\frac{\\partial u}{\\partial z}+\\frac{\\partial v}{\\partial r}\\right)\\\\[0.3cm]\n",
    "\t\\displaystyle = -p\\frac{dV}{dt}+ s_{rr}\\frac{\\partial u}{\\partial r}+s_{zz}\\frac{\\partial v}{\\partial z}+s_{rz}\\left( \\frac{\\partial u}{\\partial z}+\\frac{\\partial v}{\\partial r}\\right)\\\\\n",
    "\t\\end{array}\n",
    "\t\\end{equation}\n",
    "\n",
    "本构方程：\n",
    "\\begin{equation}\n",
    "  \\begin{array}{l}\n",
    "\t\\displaystyle \\frac{ds_{rr}}{dt}=2\\mu \\left(\\frac{\\partial u}{\\partial r}-\\frac{1}{3}\\nabla \\cdot \\vec{u} \\right) +s_{rz}\\left(\\frac{\\partial u}{\\partial z}-\\frac{\\partial v}{\\partial r}\\right)\\\\[0.3cm]\n",
    "\t\\displaystyle \\frac{ds_{zz}}{dt}=2\\mu \\left(\\frac{\\partial v}{\\partial z}-\\frac{1}{3}\\nabla \\cdot \\vec{u} \\right) -s_{rz}\\left(\\frac{\\partial u}{\\partial z}-\\frac{\\partial v}{\\partial r}\\right)\\\\[0.3cm]\n",
    "\t\\displaystyle \\frac{ds_{rz}}{dt}=\\mu \\left(\\frac{\\partial u}{\\partial r}+\\frac{\\partial v}{\\partial z}\\right) + \\frac{s_{rr}-s_{zz}}{2}\\left(\\frac{\\partial u}{\\partial z}-\\frac{\\partial v}{\\partial r}\\right)\\\\\n",
    "  \\end{array}\n",
    "  \\end{equation}\n",
    "\n",
    "Von Mises屈服条件：\n",
    "\\begin{equation}\n",
    "  \\frac{3}{2}(s_{rr}^2+s_{zz}^2+s_{\\theta \\theta}^2+2s_{xy}^2)\\le (Y^0)^2\n",
    "\\end{equation}\n",
    "\n",
    "\n",
    "\n",
    "\n",
    "\n"
   ]
  },
  {
   "cell_type": "markdown",
   "metadata": {},
   "source": [
    "## Compatible Staggered Discretization"
   ]
  },
  {
   "cell_type": "markdown",
   "metadata": {},
   "source": [
    "<img src=\"Grid.png\" width = \"800\" height = \"400\" div align=center /> "
   ]
  },
  {
   "cell_type": "markdown",
   "metadata": {},
   "source": [
    "<img src=\"cellpoint.png\" width = \"800\" height = \"400\" div align=center />"
   ]
  },
  {
   "cell_type": "markdown",
   "metadata": {},
   "source": [
    "### Quatities:\n",
    "\n",
    "On point: ($x_p$,$y_p$), ($u_p$,$v_p$)\n",
    "\n",
    "Zonal:  $V_z$, $\\rho_z$, $m_z$, $e_z$, $p_z$"
   ]
  },
  {
   "cell_type": "markdown",
   "metadata": {},
   "source": [
    "By the relation \n",
    "$$\\frac{dm_z}{dt} =0$$\n",
    "we have \n",
    "$$\\rho_z(t) = m_z/V_z(t)$$"
   ]
  },
  {
   "cell_type": "markdown",
   "metadata": {},
   "source": [
    "Also \n",
    "$$d(x_p)/dt = u_p, \\quad d(y_p)/dt = v_p$$"
   ]
  },
  {
   "cell_type": "code",
   "execution_count": 10,
   "metadata": {},
   "outputs": [],
   "source": [
    "struct Const\n",
    "    Y0 ::Float64 #Yielding strength\n",
    "    ρ0 ::Float64 \n",
    "    Γ0 ::Float64\n",
    "    μ  ::Float64\n",
    "    a0 ::Float64\n",
    "    s0 ::Float64\n",
    "end\n"
   ]
  },
  {
   "cell_type": "code",
   "execution_count": 11,
   "metadata": {},
   "outputs": [],
   "source": [
    "mutable struct Var\n",
    "    r::Array{Float64,1}\n",
    "    z::Array{Float64,1}\n",
    "    u::Array{Float64,1}\n",
    "    v::Array{Float64,1}\n",
    "    ρ::Array{Float64,1}\n",
    "    p::Array{Float64,1}\n",
    "    σ::Array{Float64,2} # σ[1] = σrr σ[2] = σzz σ[3] = σrz\n",
    "end    "
   ]
  },
  {
   "cell_type": "code",
   "execution_count": 12,
   "metadata": {},
   "outputs": [],
   "source": [
    "struct prb\n",
    "    tt::Float64\n",
    "    sf::Float64\n",
    "end"
   ]
  },
  {
   "cell_type": "markdown",
   "metadata": {},
   "source": [
    "### Point mass "
   ]
  },
  {
   "cell_type": "markdown",
   "metadata": {},
   "source": [
    "Point mass $m_p$ is used to solve point momentum $\\mu_p = m_p \\bf{u}_p$ and kinetic energy $K_p = m_p \\frac{\\bf{u}_p^2}{2}$"
   ]
  },
  {
   "cell_type": "markdown",
   "metadata": {},
   "source": [
    "<img src=\"Ins.jpg\" width = \"200\" height = \"400\" div align=center /> "
   ]
  },
  {
   "cell_type": "markdown",
   "metadata": {},
   "source": [
    "$$m_p = \\sum_{z\\in Z(p)} A_z^p \\rho^p_z$$\n",
    "\n",
    "$$\\rho_z(t) = m_z/V_z(t)$$"
   ]
  },
  {
   "cell_type": "markdown",
   "metadata": {},
   "source": []
  },
  {
   "cell_type": "code",
   "execution_count": 13,
   "metadata": {},
   "outputs": [
    {
     "data": {
      "text/plain": [
       "MassAndDens (generic function with 1 method)"
      ]
     },
     "execution_count": 13,
     "metadata": {},
     "output_type": "execute_result"
    }
   ],
   "source": [
    "function MassAndDens(mz::Array{Float64,1},x::Array{Float64,1},y::Array{Float64,1})\n",
    "    \n",
    "    Ic, = size(mz)\n",
    "    Ip, = size(Tc)\n",
    "    Asbz = zeros(Float64,4)\n",
    "    ρ = zeros(Float64,Ic)\n",
    "    mp = zeros(Float64,Ip)\n",
    "    xz = zeros(Float64,4)\n",
    "    yz = zeros(Float64,4)\n",
    "    for i in 1:Ic\n",
    "        xz[1:4] = x[Tp[i,1:4]]\n",
    "        yz[1:4] = y[Tp[i,1:4]]\n",
    "        Asbz = A_z(xz,yz)\n",
    "        Az = sum(Asbz)\n",
    "        ρ[i] = mz[i]/Az\n",
    "        \n",
    "        for j = 1:4\n",
    "            ip = Tp[i,j]\n",
    "            mp[ip] = mp[ip] + Asbz[j]*ρ[i]\n",
    "        end\n",
    "    end\n",
    "   # @show mp\n",
    "    return ρ,mp   \n",
    "end"
   ]
  },
  {
   "cell_type": "markdown",
   "metadata": {},
   "source": [
    "\n",
    "$$ A_z^1 = \\frac{5A_{41}+5A_{12}+A_{23}+A_{34}}{12}$$\n",
    "$$ A_z^2 = \\frac{A_{41}+5A_{12}+5A_{23}+A_{34}}{12}$$\n",
    "$$ A_z^3 = \\frac{A_{41}+A_{12}+5A_{23}+5A_{34}}{12}$$\n",
    "$$ A_z^4 = \\frac{5A_{41}+A_{12}+A_{23}+5A_{34}}{12}$$"
   ]
  },
  {
   "cell_type": "code",
   "execution_count": 14,
   "metadata": {},
   "outputs": [
    {
     "data": {
      "text/plain": [
       "A_z (generic function with 1 method)"
      ]
     },
     "execution_count": 14,
     "metadata": {},
     "output_type": "execute_result"
    }
   ],
   "source": [
    "function A_z(xz::Array{Float64,1},yz::Array{Float64,1}) \n",
    "    A =zeros(Float64,4)\n",
    "    xc= sum(xz[i] for i in 1:4)/4\n",
    "    yc= sum(yz[i] for i in 1:4)/4\n",
    "    \n",
    "    A41 = Area3(xz[4],xz[1],xc,yz[4],yz[1],yc)\n",
    "    A12 = Area3(xz[1],xz[2],xc,yz[1],yz[2],yc)\n",
    "    A23 = Area3(xz[2],xz[3],xc,yz[2],yz[3],yc)\n",
    "    A34 = Area3(xz[3],xz[4],xc,yz[3],yz[4],yc)\n",
    "\n",
    "    A[1] = (5A41+5A12+A23+A34)/12\n",
    "    A[2] = (A41+5A12+5A23+A34)/12\n",
    "    A[3] = (A41+A12+5A23+5A34)/12\n",
    "    A[4] = (5A41+A12+A23+5A34)/12\n",
    "    \n",
    "#    A[1] = (A41+A12+A23+A34)/4\n",
    "#    A[2] = (A41+A12+A23+A34)/4\n",
    "#    A[3] = (A41+A12+A23+A34)/4\n",
    "#    A[4] = (A41+A12+A23+A34)/4\n",
    "    \n",
    "    return A\n",
    "end"
   ]
  },
  {
   "cell_type": "markdown",
   "metadata": {},
   "source": [
    "<img src=\"n12.png\" width = \"300\" height = \"300\" div align=center />"
   ]
  },
  {
   "cell_type": "markdown",
   "metadata": {},
   "source": [
    "$$\\overrightarrow{n}_{12} = \\frac{1}{L_{12}}(y_2- y_1, x_1-x_2)  $$\n",
    "\n",
    "$$\\overrightarrow{\\tau}_{12} = \\frac{1}{L_{12}}(x_2- x_1, y_2-y_1)  $$\n",
    "\n",
    "$$ \\mathbf{F_1}  = \\frac{1}{2}  \\left[ -\\sigma_{rr}(z_2-z_4)+ s_{rz}(r_2 -r_4), \\sigma_{zz}(r_2-r_4) +s_{rz}(z_4 -z_2) , \\right] $$ "
   ]
  },
  {
   "cell_type": "code",
   "execution_count": 15,
   "metadata": {},
   "outputs": [
    {
     "data": {
      "text/plain": [
       "force_zone (generic function with 1 method)"
      ]
     },
     "execution_count": 15,
     "metadata": {},
     "output_type": "execute_result"
    }
   ],
   "source": [
    "function force_zone(x,y,u,v,ρ,p,σ) #(r,z)\n",
    "   \n",
    "    Fx = zeros(Float64,4)\n",
    "    Fy = zeros(Float64,4)\n",
    "    \n",
    "    \n",
    "    Fx[1] = 0.5(σ[1]*(y[4] - y[2]) + σ[3]*(x[2] - x[4]))\n",
    "    Fy[1] = 0.5(σ[3]*(y[4] - y[2]) + σ[2]*(x[2] - x[4]))\n",
    "    \n",
    "    Fx[2] = 0.5(σ[1]*(y[1] - y[3]) + σ[3]*(x[3] - x[1]))\n",
    "    Fy[2] = 0.5(σ[3]*(y[1] - y[3]) + σ[2]*(x[3] - x[1]))\n",
    "    \n",
    "    Fx[3] = 0.5(σ[1]*(y[2] - y[4]) + σ[3]*(x[4] - x[2]))\n",
    "    Fy[3] = 0.5(σ[3]*(y[2] - y[4]) + σ[2]*(x[4] - x[2]))\n",
    "    \n",
    "    Fx[4] = 0.5(σ[1]*(y[3] - y[1]) + σ[3]*(x[1] - x[3]))\n",
    "    Fy[4] = 0.5(σ[3]*(y[3] - y[1]) + σ[2]*(x[1] - x[3]))\n",
    "      \n",
    "    ex,ey = hourglass_viscosity(x, y, u, v, ρ, p,σ) \n",
    "  #  ex .= 0\n",
    "    Fx = Fx .+ ex\n",
    "    Fy = Fy .+ ey\n",
    "    \n",
    "    return Fx,Fy\n",
    "end           "
   ]
  },
  {
   "cell_type": "markdown",
   "metadata": {},
   "source": [
    "\\begin{equation}\n",
    "  \\begin{aligned}\n",
    "\t&\\displaystyle \\rho \\frac{de}{dt}= \\mathbf{\\sigma} \\cdot \\mathbf{\\varepsilon}\\\\ \n",
    "\t&=\n",
    "\t\\sigma _{rr}\\frac{\\partial u}{\\partial r}+\\sigma_{zz}\\frac{\\partial v}{\\partial z}+\\sigma_{rz}\\left( \\frac{\\partial u}{\\partial z}+\\frac{\\partial v}{\\partial r}\\right)\n",
    "\t\\end{aligned}\n",
    "\t\\end{equation}\n",
    "    \n",
    "\\begin{equation}\n",
    "  \\begin{aligned}\n",
    "\t&\\displaystyle M \\frac{de}{dt}=  \n",
    "\\int_{\\Omega} \\sigma _{rr}\\frac{\\partial u}{\\partial r}+\\sigma_{zz}\\frac{\\partial v}{\\partial z}+\\sigma_{rz}\\left( \\frac{\\partial u}{\\partial z}+\\frac{\\partial v}{\\partial r}\\right)d\\Omega\n",
    "\t\\end{aligned}\n",
    "\t\\end{equation}\n",
    "\n",
    "\n",
    "\\begin{equation}\n",
    "  \\begin{aligned}\n",
    "\\int_{\\Omega}  \\frac{\\partial u}{\\partial r} d\\Omega&=  -\\oint_{\\partial \\omega}u dz\\\\\n",
    "  &= \\frac{1}{2} \\left((u_1-u_3)(z_2-z_4)+(u_2-u_4)(z_3-z_1)\\right)\n",
    "  \\end{aligned}\n",
    "\\end{equation}\n",
    "\n",
    "\\begin{equation}\n",
    "  \\begin{aligned}\n",
    "\\int_{\\Omega}  \\frac{\\partial u}{\\partial z} d\\Omega&= \\oint_{\\partial \\omega}u dy\\\\\n",
    "  &= -\\frac{1}{2} \\left((u_1-u_3)(r_2-r_4)+(u_2-u_4)(r_3-r_1)\\right)\n",
    "  \\end{aligned}\n",
    "\\end{equation}\n",
    "\n",
    "$$ \\frac{\\partial u}{\\partial x}  \\approx \\frac{1}{2A}((u_1-u_3)(y_2-y_4)+(u_2-u_4)(-y_1+y_3))$$ \n",
    "\n",
    "$$ \\frac{\\partial v}{\\partial y}  \\approx -\\frac{1}{2A}((v_1-v_3)(x_2-x_4)+(v_2-v_4)(-x_1+x_3))$$ "
   ]
  },
  {
   "cell_type": "markdown",
   "metadata": {},
   "source": [
    "对于节点\n",
    "$$ \\rho \\frac{d \\mathbf{u}}{dt} = - \\nabla p$$\n",
    "\n",
    "$$m_p \\frac{d\\bf{u}_p}{dt} = \\sum_{p\\in P(z)} \\bf{F}_z^p$$"
   ]
  },
  {
   "cell_type": "markdown",
   "metadata": {},
   "source": [
    "$$F_z^1 = \\mathbf{F}_1 + c\\mathbf{e}_1$$"
   ]
  },
  {
   "cell_type": "markdown",
   "metadata": {},
   "source": [
    "本构方程：\n",
    "\\begin{equation}\n",
    "  \\begin{array}{l}\n",
    "\t\\displaystyle \\frac{ds_{rr}}{dt}=2\\mu \\left(\\frac{\\partial u}{\\partial r}-\\frac{1}{3}\\nabla \\cdot \\vec{u} \\right) +s_{rz}\\left(\\frac{\\partial u}{\\partial z}-\\frac{\\partial v}{\\partial r}\\right)\\\\[0.3cm]\n",
    "\t\\displaystyle \\frac{ds_{zz}}{dt}=2\\mu \\left(\\frac{\\partial v}{\\partial z}-\\frac{1}{3}\\nabla \\cdot \\vec{u} \\right) -s_{rz}\\left(\\frac{\\partial u}{\\partial z}-\\frac{\\partial v}{\\partial r}\\right)\\\\[0.3cm]\n",
    "\t\\displaystyle \\frac{ds_{rz}}{dt}=\\mu \\left(\\frac{\\partial u}{\\partial z}+\\frac{\\partial v}{\\partial r}\\right) - \\frac{s_{rr}-s_{zz}}{2}\\left(\\frac{\\partial u}{\\partial z}-\\frac{\\partial v}{\\partial r}\\right)\\\\\n",
    "  \\end{array}\n",
    "  \\end{equation}\n",
    "\n",
    "Von Mises屈服条件：\n",
    "\\begin{equation}\n",
    "  \\frac{3}{2}(s_{rr}^2+s_{zz}^2+s_{\\theta \\theta}^2+2s_{xy}^2)\\le (Y^0)^2\n",
    "\\end{equation}\n"
   ]
  },
  {
   "cell_type": "code",
   "execution_count": 16,
   "metadata": {},
   "outputs": [
    {
     "data": {
      "text/plain": [
       "rhs (generic function with 1 method)"
      ]
     },
     "execution_count": 16,
     "metadata": {},
     "output_type": "execute_result"
    }
   ],
   "source": [
    "function rhs(var::Var)\n",
    "    μ = con1.μ\n",
    "    r,z,u,v,ρ,p,σ = var.r,var.z,var.u,var.v,var.ρ,var.p,var.σ\n",
    "    \n",
    "    Ic, = size(Tp)\n",
    "    Ip, = size(Tc)\n",
    "    rhsu = zeros(Float64,Ip)\n",
    "    rhsv = zeros(Float64,Ip) \n",
    "    rhse = zeros(Float64,Ic)\n",
    "    rhss = zeros(Float64,Ic,3)\n",
    "    \n",
    "    rcell = zeros(Float64,4)\n",
    "    zcell = zeros(Float64,4)\n",
    "    ucell = zeros(Float64,4)\n",
    "    vcell = zeros(Float64,4)\n",
    "    for i in 1:Ic\n",
    "        for j =1:4\n",
    "            rcell[j] = r[Tp[i,j]]\n",
    "            zcell[j] = z[Tp[i,j]]\n",
    "            ucell[j] = u[Tp[i,j]]\n",
    "            vcell[j] = v[Tp[i,j]]\n",
    "        end\n",
    "        Az = sum(A_z(rcell,zcell))\n",
    "        Fx,Fy = force_zone(rcell,zcell,ucell,vcell,ρ[i],p[i],σ[i,1:3])   \n",
    "       # @show Fx\n",
    "        ∂u_∂r,∂u_∂z = ∂uv(rcell,zcell, ucell)\n",
    "        ∂v_∂r,∂v_∂z = ∂uv(rcell,zcell, vcell)\n",
    "        rhse[i] = σ[i,1]*∂u_∂r + σ[i,2]*∂v_∂z+σ[i,3]*(∂u_∂z + ∂v_∂r)\n",
    "        for j = 1:4\n",
    "            ip = Tp[i,j]\n",
    "            rhsu[ip] +=  Fx[j]\n",
    "            rhsv[ip] +=  Fy[j]\n",
    "        end  \n",
    "        ∇u = ∂u_∂r + ∂v_∂z\n",
    "    \n",
    "        rhss[i,1] =  (2μ*(2/3*∂u_∂r - 1/3*∂v_∂z) + σ[i,3]*(∂u_∂z - ∂v_∂r)) ./Az\n",
    "        rhss[i,2] =  (2μ*(2/3*∂v_∂z - 1/3*∂u_∂r) - σ[i,3]*(∂u_∂z - ∂v_∂r)) ./Az\n",
    "        rhss[i,3] =   (μ*(∂u_∂z+∂v_∂r)  -   (σ[i,1] - σ[i,2])*(∂u_∂z - ∂v_∂r)) ./Az     \n",
    "    #    @show rhsu \n",
    "    end\n",
    "    \n",
    "    return rhse, rhsu,rhsv,rhss\n",
    "\n",
    "end     "
   ]
  },
  {
   "cell_type": "markdown",
   "metadata": {},
   "source": [
    "$$ \\mathbf{S} = \\mathbf{S} \\times \\text{min} \\left(1,Y_0/\\sqrt{\\frac{3}{2}\\mathbf{S}:\\mathbf{S}}\\right)$$"
   ]
  },
  {
   "cell_type": "code",
   "execution_count": 17,
   "metadata": {},
   "outputs": [
    {
     "data": {
      "text/plain": [
       "yield_s! (generic function with 1 method)"
      ]
     },
     "execution_count": 17,
     "metadata": {},
     "output_type": "execute_result"
    }
   ],
   "source": [
    "function yield_s!(s,con)\n",
    "    Y0 = con.Y0\n",
    "    I, = size(s)\n",
    "    for i in 1:I\n",
    "        for j = 1:3\n",
    "        sums = s[i,1]^2 +s[i,2]^2 +2*s[i,3]^2 +(s[i,1]+s[i,2])^2\n",
    "        s[i,j] = s[i,j] * min(1,Y0/√(3/2*sums))\n",
    "            end \n",
    "    end\n",
    "    return s\n",
    "end"
   ]
  },
  {
   "cell_type": "code",
   "execution_count": 18,
   "metadata": {},
   "outputs": [
    {
     "data": {
      "text/plain": [
       "predictor_corrector2nd (generic function with 1 method)"
      ]
     },
     "execution_count": 18,
     "metadata": {},
     "output_type": "execute_result"
    }
   ],
   "source": [
    "function predictor_corrector2nd(dt,var::Var,mz)\n",
    "    r,z,u,v,ρ,p,σ = var.r,var.z,var.u,var.v,var.ρ,var.p,var.σ\n",
    "    \n",
    "    Ip, = size(u)\n",
    "    Ic, = size(p)\n",
    "    \n",
    "    ρ,mp = MassAndDens(mz,r,z)\n",
    "    e = p_to_e(ρ, p,con1)  \n",
    "    p = artificial_viscosity!(r,z,u,v,ρ,p)\n",
    "    s = zeros(Float64,Ic,3)\n",
    "    \n",
    "    p = e_to_p(ρ, e, con1)\n",
    " #   @show p \"predictor\"\n",
    "   \n",
    "                \n",
    "    s[:,1] = σ[:,1] .+ p[:]\n",
    "    s[:,2] = σ[:,2] .+ p[:]\n",
    "    s[:,3] = σ[:,3]\n",
    "    \n",
    "    rhse, rhsu,rhsv,rhss = rhs(var)\n",
    "   \n",
    "    rhsu,rhsv = Bound(rhsu,rhsv,var)\n",
    " #    @show rhsu\n",
    "    r₀ =  r + dt*u\n",
    "    z₀  = z + dt*v\n",
    "    u₀  = u + dt*(rhsu ./ mp)\n",
    "    v₀  = v + dt*(rhsv ./ mp)\n",
    "    e₀  = e + dt*(rhse ./ mz) \n",
    "    s₀  = s + dt*rhss\n",
    "  #  @show rhsu\n",
    "    s₀ = yield_s!(s₀,con1)\n",
    "    \n",
    "    ρ,mp = MassAndDens(mz,r₀,z₀)\n",
    "    p = e_to_p(ρ,e₀,con1)\n",
    "    \n",
    "    p = artificial_viscosity!(r₀,z₀,u₀,v₀,ρ,p) \n",
    "    \n",
    "    σ[:,1] = s₀[:,1] .- p[:]\n",
    "    σ[:,2] = s₀[:,2] .- p[:]\n",
    "    σ[:,3] = s₀[:,3]\n",
    "    var = Var(r₀, z₀, u₀, v₀, ρ, p, σ)\n",
    "    rhse₀,rhsu₀,rhsv₀,rhss₀ = rhs(var)\n",
    "   #  @show u₀,rhsu₀\n",
    "    rhsu₀,rhsv₀ = Bound(rhsu₀,rhsv₀,var)\n",
    "  #  @show s[:,1]\n",
    "    r +=  0.5dt*(u + u₀)\n",
    "    z +=  0.5dt*(v + v₀)\n",
    "    u +=  0.5dt*(rhsu + rhsu₀) ./ mp\n",
    "    v +=  0.5dt*(rhsv + rhsv₀) ./ mp\n",
    "    e +=  0.5dt*(rhse + rhse₀) ./ mz\n",
    "    s  += 0.5dt*(rhss + rhss₀)\n",
    "    \n",
    "    s = yield_s!(s,con1)\n",
    "    \n",
    "    ρ,mp = MassAndDens(mz,r,z)\n",
    "    p = e_to_p(ρ,e,con1) \n",
    "    σ[:,1] = s[:,1] .- p[:]\n",
    "    σ[:,2] = s[:,2] .- p[:]\n",
    "    σ[:,3] = s[:,3]\n",
    "    \n",
    "    var = Var(r,z,u,v,ρ,p,σ) \n",
    "    return var\n",
    "end"
   ]
  },
  {
   "cell_type": "code",
   "execution_count": 19,
   "metadata": {},
   "outputs": [
    {
     "ename": "UndefVarError",
     "evalue": "UndefVarError: Area3 not defined",
     "output_type": "error",
     "traceback": [
      "UndefVarError: Area3 not defined",
      "",
      "Stacktrace:",
      " [1] A_z(::Array{Float64,1}, ::Array{Float64,1}) at ./In[14]:6",
      " [2] Collapse() at ./In[8]:114",
      " [3] top-level scope at In[19]:1"
     ]
    }
   ],
   "source": [
    "var,mz,I,J = Collapse()\n",
    "var = TimeSolve(var,mz)"
   ]
  },
  {
   "cell_type": "code",
   "execution_count": 20,
   "metadata": {},
   "outputs": [
    {
     "data": {
      "text/plain": [
       "fηη (generic function with 1 method)"
      ]
     },
     "execution_count": 20,
     "metadata": {},
     "output_type": "execute_result"
    }
   ],
   "source": [
    "function fη(ρ,c::Const)\n",
    "    η = ρ/c.ρ0\n",
    "    fη=(η .-1.0) .* (η .-c.Γ0*(η .-1.0)/2.0) ./ (η .-c.s0*(η .-1)) .^2\n",
    "end\n",
    "\n",
    "function fηη(ρ,c::Const)\n",
    "    η = ρ/c.ρ0\n",
    "    fηη=(η .+(c.s0-c.Γ0) .* (η .-1)) ./(η .-c.s0*(η .- 1)) .^3\n",
    "end"
   ]
  },
  {
   "cell_type": "code",
   "execution_count": 21,
   "metadata": {},
   "outputs": [
    {
     "data": {
      "text/plain": [
       "Euler1st (generic function with 1 method)"
      ]
     },
     "execution_count": 21,
     "metadata": {},
     "output_type": "execute_result"
    }
   ],
   "source": [
    "function Euler1st(dt,mz,p,var::Var)\n",
    "    r,z,u,v,ρ,σ = var.r,var.z,var.u,var.v,var.ρ,var.σ\n",
    "    Ip, = size(u)\n",
    "    Ic, = size(p)\n",
    "    \n",
    "    ρ,mp = MassAndDens(mz,r,z)\n",
    "  \n",
    "     e = p_to_e(p, ρ,con1)\n",
    "     \n",
    "     p = artificial_viscosity!(p,var)\n",
    "        \n",
    "     σ[:,1] = s[:,1] .- p[:]\n",
    "     σ[:,2] = s[:,2] .- p[:]\n",
    "     σ[:,3] = s[:,3]\n",
    "    \n",
    "     rhse, rhsu,rhsv,rhss = Rhs(r,z,u, v,ρ, σ)\n",
    "    \n",
    "     rhsu,rhsv = Bound(rhsu,rhsv,r,z,u, v,ρ, p)\n",
    "    \n",
    "    x  +=  dt*u\n",
    "    y  +=  dt*v\n",
    "    u  += dt*(rhsu ./ mp)\n",
    "    v  += dt*(rhsv ./ mp)\n",
    "    e  += dt*(rhse ./ mz)\n",
    "    s  += dt*(rhss ./ mz)\n",
    "\n",
    "    ρ,mp = MassAndDens(mz,r,z)\n",
    "    \n",
    "    p = eTop(e, ρ,con1)\n",
    "\n",
    "    return u,v,x,y,p,ρ\n",
    "end\n"
   ]
  },
  {
   "cell_type": "code",
   "execution_count": 22,
   "metadata": {},
   "outputs": [
    {
     "data": {
      "text/plain": [
       "Bound (generic function with 1 method)"
      ]
     },
     "execution_count": 22,
     "metadata": {},
     "output_type": "execute_result"
    }
   ],
   "source": [
    "function Bound(rhsu,rhsv,var)\n",
    "    Ip, = size(Tc)\n",
    "    Ib, = size(Tb)\n",
    "   \n",
    "    r,z,u,v,ρ,p,σ = var.r,var.z,var.u,var.v,var.ρ,var.p,var.σ\n",
    "    rcell = zeros(Float64,4)\n",
    "    zcell = zeros(Float64,4)\n",
    "    ucell = zeros(Float64,4)\n",
    "    vcell = zeros(Float64,4)\n",
    "    ip1 = zeros(Int,4)\n",
    "    \n",
    "    for i in 1:Ib\n",
    "        ic = Tb[i,1]        \n",
    "        rcell[1:4] = r[Tp[ic,1:4]]\n",
    "        zcell[1:4] = z[Tp[ic,1:4]]\n",
    "        ucell[1:4] = u[Tp[ic,1:4]]\n",
    "        vcell[1:4] = v[Tp[ic,1:4]]\n",
    "          \n",
    "        ex,ey = hourglass_viscosity(rcell, zcell, ucell, vcell, ρ[ic]\n",
    "                                    , p[ic],σ[ic,:])\n",
    "        i₁ = Tb[i,2]\n",
    "        i₂ = i₁+1\n",
    "        if i₁ == 4\n",
    "            i₂ = 1\n",
    "        end\n",
    "        nx = y[i₂] -y[i₁]\n",
    "        ny = x[i₁] -x[i₂]\n",
    "        for j in (i₁,i₂)\n",
    "            Fx = -σ[ic,1]*nx/2 -σ[ic,3]*ny/2+ex[j]*nx^2/(nx^2+ny^2) \n",
    "            Fy = -σ[ic,3]*nx/2 -σ[ic,2]*ny/2+ey[j]*nx^2/(nx^2+ny^2)\n",
    "            ip = Tp[ic,j]\n",
    "            rhsu[ip] -= Fx\n",
    "            rhsv[ip] -= Fy\n",
    "            \n",
    "        end\n",
    "        ip = Tp[ic,i₁]\n",
    "        if Tb[i,3] == 2 # boundary\n",
    "            u[ip] = u[ip]*ny^2/(nx^2 +ny^2)\n",
    "            v[ip] = v[ip]*nx^2/(nx^2 +ny^2)\n",
    "        end\n",
    "        \n",
    "    end \n",
    "    return rhsu, rhsv\n",
    "end  "
   ]
  },
  {
   "cell_type": "markdown",
   "metadata": {},
   "source": [
    "### Boundary force\n",
    "\n",
    "If one edge of a cell is a free boundary, then $f$ on the points is zero. As we have add it in RHs(), we need to remove it by resolve it again. Different from RHs(), at every point of a cell the force is composited by two parts on different edges. This is distinguished by $k$ when $k = 1$ the boundary is on y direction, forces on 12 and 34 boundary must be subtracted. When $ k =2$ the boundary is on x direction, subtract forces on 41, 23. "
   ]
  },
  {
   "cell_type": "code",
   "execution_count": 23,
   "metadata": {},
   "outputs": [
    {
     "data": {
      "text/plain": [
       "F_zB (generic function with 1 method)"
      ]
     },
     "execution_count": 23,
     "metadata": {},
     "output_type": "execute_result"
    }
   ],
   "source": [
    "function F_zB(x,y,u,v,ρ,p,σ,j::Int,k::Int)\n",
    "    Fx = 0.0\n",
    "    Fy = 0.0      \n",
    "    \n",
    "    ex,ey = hourglass_viscosity(x, y, u, v, ρ, p,σ)\n",
    "    \n",
    "    if k==1 # y direction \n",
    "     #   L12 = √((x[2]-x[1])^2+(y[2]-y[1])^2)\n",
    "        n12x = y[2]-y[1]\n",
    "        n12y = -x[2]+x[1]\n",
    "     #   L34 = √((x[4]-x[3])^2+(y[4]-y[3])^2)\n",
    "        n34x = y[4]-y[3]\n",
    "        n34y = -x[4]+x[3]\n",
    "        if j == 1  #Point 1\n",
    "            Fx = -σ[1]*n12x/2 -σ[3]*n12y/2\n",
    "            Fy = -σ[3]*n12x/2 -σ[2]*n12y/2 + ey[1]\n",
    "        elseif j == 2 \n",
    "             Fx = -σ[1]*n12x/2 -σ[3]*n12y/2\n",
    "             Fy = -σ[3]*n12x/2 -σ[2]*n12y/2+ ey[2]\n",
    "        elseif j == 3\n",
    "            Fx = -σ[1]*n34x/2  -σ[3]*n34y/2\n",
    "            Fy = -σ[3]*n34x/2  -σ[2]*n34y/2 + ey[3]\n",
    "        else \n",
    "            Fx = -σ[1]*n34x/2  -σ[3]*n34y/2\n",
    "            Fy = -σ[3]*n34x/2  -σ[2]*n34y/2 + ey[4]\n",
    "        end\n",
    "    elseif k == 2\n",
    "      #  L41 = √((x[1]-x[4])^2+(y[1]-y[4])^2)\n",
    "        n41x = y[1]-y[4]\n",
    "        n41y =  -x[1]+x[4]\n",
    "\n",
    "       # L23 = √((x[3]-x[2])^2+(y[3]-y[2])^2)\n",
    "        n23x = y[3]-y[2]\n",
    "        n23y = -x[3]+x[2]\n",
    "        if j == 1\n",
    "            Fx = -σ[1]*n41x/2 -σ[3]*n41y/2 + ex[1]\n",
    "            Fy = -σ[3]*n41x/2 -σ[2]*n41y/2 \n",
    "        elseif j == 4 \n",
    "            Fx = -σ[1]*n41x/2 -σ[3]*n41y/2 + ex[4]\n",
    "            Fy = -σ[3]*n41x/2 -σ[2]*n41y/2 \n",
    "        elseif j == 3\n",
    "            Fx = -σ[1]*n23x/2 -σ[3]*n23y/2+ ex[3]\n",
    "            Fy =  -σ[3]*n23x/2 -σ[2]*n23y/2\n",
    "        else \n",
    "           Fx = -σ[1]*n23x/2 -σ[3]*n23y/2+ ex[2]\n",
    "            Fy =  -σ[3]*n23x/2 -σ[2]*n23y/2\n",
    "        end\n",
    "    end\n",
    "    return Fx,Fy\n",
    "    end           "
   ]
  },
  {
   "cell_type": "markdown",
   "metadata": {},
   "source": [
    "### EOS \n",
    "$$ e = \\frac{p}{(\\gamma-1)\\rho}$$"
   ]
  },
  {
   "cell_type": "code",
   "execution_count": 24,
   "metadata": {},
   "outputs": [
    {
     "data": {
      "text/plain": [
       "e_to_p (generic function with 1 method)"
      ]
     },
     "execution_count": 24,
     "metadata": {},
     "output_type": "execute_result"
    }
   ],
   "source": [
    "function p_to_e(ρ,p,con)\n",
    "    c=con\n",
    "    ei = (p .- c.ρ0*c.a0^2*fη(ρ,c))/(c.ρ0*c.Γ0)\n",
    "    return ei\n",
    "end\n",
    "function e_to_p(ρ,ei,con::Const)\n",
    "    c=con\n",
    "    p = c.ρ0*c.Γ0*ei .+ c.ρ0*c.a0^2*fη(ρ,c)\n",
    "    return p\n",
    "end"
   ]
  },
  {
   "cell_type": "code",
   "execution_count": 25,
   "metadata": {},
   "outputs": [
    {
     "data": {
      "text/plain": [
       "CFL (generic function with 1 method)"
      ]
     },
     "execution_count": 25,
     "metadata": {},
     "output_type": "execute_result"
    }
   ],
   "source": [
    "function CFL(SF,var)\n",
    "    r,z,u,v,ρ,p,σ = var.r,var.z,var.u,var.v,var.ρ,var.p,var.σ\n",
    "    Ic, = size(ρ)\n",
    "    cflmin = 1.e9\n",
    "      cfl = 0 \n",
    "    for i in 1:Ic\n",
    "        cfl =0\n",
    "        u2max = 0\n",
    "        u2=0.0\n",
    "        for j = 1:4\n",
    "            ip = Tp[i,j]\n",
    "            u2 = u[ip]^2+v[ip]^2\n",
    "            if u2 > u2max ; u2max = u2; end\n",
    "        end\n",
    "        \n",
    "        dlmin = (r[Tp[i,4]] - r[Tp[i,1]])^2+(z[Tp[i,4]]-z[Tp[i,1]])^2\n",
    "       \n",
    "        for j=1:3\n",
    "            dl= (r[Tp[i,j+1]] - r[Tp[i,j]])^2+(z[Tp[i,j+1]]-z[Tp[i,j]])^2\n",
    "            if dl < dlmin; dlmin=dl; end\n",
    "        end\n",
    "        c = sound([ρ[i],u[i],p[i],min(σ[i,1]+p[i],σ[i,2]+p[i])],con1)\n",
    "        cfl = √(dlmin)/(√(u2max)+c)\n",
    "        if cfl < cflmin; cflmin = cfl; end\n",
    "    end\n",
    " #   @show cflmin\n",
    "    dt = cflmin*SF\n",
    "    return dt\n",
    "end \n",
    "        "
   ]
  },
  {
   "cell_type": "code",
   "execution_count": 26,
   "metadata": {},
   "outputs": [
    {
     "data": {
      "text/plain": [
       "sound (generic function with 2 methods)"
      ]
     },
     "execution_count": 26,
     "metadata": {},
     "output_type": "execute_result"
    }
   ],
   "source": [
    "function sound(uo::Array{Float64,1},con::Const,EoP::Int=1)\n",
    "    a0,ρ0,Γ0,Y0,μ  = con.a0,con.ρ0,con.Γ0,con.Y0,con.μ\n",
    "    ρ,uu,p,sxx   = uo[1:4]\n",
    "    a2  = a0^2*fηη(ρ,con)+p/ρ^2*ρ0*Γ0\n",
    "    if EoP == 2\n",
    "        c=sqrt(a2-ρ0/ρ^2*Γ0*sxx)\n",
    "        return c\n",
    "    else\n",
    "       #  @show a2,ρ0/ρ^2,4.0/3*μ/ρ\n",
    "        c=sqrt(a2-ρ0/ρ^2*Γ0*sxx+4.0/3*μ/ρ)\n",
    "       \n",
    "        return c\n",
    "    end\n",
    "end"
   ]
  },
  {
   "cell_type": "code",
   "execution_count": 27,
   "metadata": {},
   "outputs": [
    {
     "data": {
      "text/plain": [
       "TimeSolve (generic function with 1 method)"
      ]
     },
     "execution_count": 27,
     "metadata": {},
     "output_type": "execute_result"
    }
   ],
   "source": [
    "function TimeSolve(var,mz)\n",
    "    tt= problem.tt\n",
    "    sf =problem.sf\n",
    "    t= 0.0\n",
    "    t₁ = tt/100\n",
    "    t₂ = t₁\n",
    "    while t<tt   \n",
    "#for i in 1:50\n",
    "        dt=CFL(sf,var)\n",
    "   #     @show dt\n",
    "        if t+dt>tt\n",
    "           dt = tt-t\n",
    "        end\n",
    "        \n",
    "        var = predictor_corrector2nd(dt,var,mz)\n",
    "        t += dt\n",
    "        if t > t₁\n",
    "            println(t)\n",
    "            t₁ += t₂\n",
    "        end\n",
    "    end\n",
    "    return var\n",
    "end"
   ]
  },
  {
   "cell_type": "markdown",
   "metadata": {},
   "source": [
    "## Artificial Viscosity \n",
    "\n",
    "Use the strain rate to construct the artificial viscosity \n",
    "$$\\frac{ds}{dt} = \\frac{\\partial u}{\\partial x}  + \\frac{\\partial v}{\\partial y} $$\n"
   ]
  },
  {
   "cell_type": "markdown",
   "metadata": {},
   "source": [
    "Then the artificial viscosity can be written as\n",
    "$$ q_w = \\left\\{ \\begin{align}\n",
    "\\alpha L \\rho \\left( \\frac{ds}{dt} \\right)^2 +  \\beta L^2 \\rho c \\left|\\frac{ds}{dt}\\right|, \\quad \\text{if}  \\quad \\frac{ds}{dt}< 0,\\\\\n",
    "0, \\quad \\text{if} \\quad \\frac{ds}{dt}\\ge 0. \\\\\n",
    "\\end{align}\n",
    "\\right.\n",
    "$$\n",
    "where $\\alpha = 0.6$, $\\beta = 2.0 $ and $c$ is the sonic speed.\n",
    "\n",
    "$L$ is the reference length, and constructed as\n",
    "$$L = A/L_{\\text{max}} $$\n",
    "\n",
    "$$L_{\\text{max}} = \\text{max}(L_{13},L_{24})$$\n"
   ]
  },
  {
   "cell_type": "code",
   "execution_count": 28,
   "metadata": {},
   "outputs": [
    {
     "data": {
      "text/plain": [
       "artificial_viscosity_c! (generic function with 1 method)"
      ]
     },
     "execution_count": 28,
     "metadata": {},
     "output_type": "execute_result"
    }
   ],
   "source": [
    "function artificial_viscosity_c!(x,y,u,v,ρ,p)\n",
    "    xc = sum(x[i] for i in 1:4)/4\n",
    "    yc = sum(y[i] for i in 1:4)/4\n",
    "    \n",
    "    ∂u_∂x,tmp = ∂uv(x,y,u)\n",
    "    tmp,∂v_∂y = ∂uv(x,y,v)\n",
    "    c = sound([ρ,0.0,p,0.0],con1)\n",
    "    Lmax = max(√((x[3] - x[1])^2+(y[3] - y[1])^2) ,√((x[2] - x[4])^2+(y[2] - y[4])^2) )  \n",
    "    A = area_quadrangle(x, y)\n",
    "    L = A/Lmax \n",
    "\n",
    "    if ∂u_∂x + ∂v_∂y> 0\n",
    "        q = 0\n",
    "    else\n",
    "        q = 0.6ρ*L*c*(abs(∂u_∂x+∂v_∂y))/A +2.0L^2*ρ*((∂u_∂x+∂v_∂y)^2)/A^2 \n",
    "    end\n",
    "    return p+q\n",
    "end"
   ]
  },
  {
   "cell_type": "markdown",
   "metadata": {},
   "source": [
    "$$b_2 \\rho Lc \\frac{\\partial u}{\\partial x} - b_{12}\\rho L^2 \\left(\\frac{\\partial u}{\\partial x}\\right)^2$$"
   ]
  },
  {
   "cell_type": "code",
   "execution_count": 29,
   "metadata": {},
   "outputs": [
    {
     "data": {
      "text/plain": [
       "artificial_viscosity! (generic function with 1 method)"
      ]
     },
     "execution_count": 29,
     "metadata": {},
     "output_type": "execute_result"
    }
   ],
   "source": [
    "function artificial_viscosity!(r,z,u,v,ρ,p)\n",
    "    I, = size(Tp)\n",
    "    rcell = zeros(Float64,4)\n",
    "    zcell = zeros(Float64,4)\n",
    "    ucell = zeros(Float64,4)\n",
    "    vcell = zeros(Float64,4)\n",
    "   \n",
    "    for i in 1:I\n",
    "        for j in 1:4\n",
    "            ip = Tp[i,j]\n",
    "            rcell[j] = r[ip]\n",
    "            zcell[j] = z[ip]\n",
    "            ucell[j] = u[ip]\n",
    "            vcell[j] = v[ip]\n",
    "        end\n",
    "        p[i] = artificial_viscosity_c!(rcell,zcell,ucell,vcell,ρ[i],p[i])\n",
    "    end\n",
    "    \n",
    "        return p\n",
    "        \n",
    "    end       "
   ]
  },
  {
   "cell_type": "code",
   "execution_count": 30,
   "metadata": {},
   "outputs": [
    {
     "data": {
      "text/plain": [
       "l_viscosity (generic function with 1 method)"
      ]
     },
     "execution_count": 30,
     "metadata": {},
     "output_type": "execute_result"
    }
   ],
   "source": [
    "function l_viscosity(x,y,α)\n",
    "    xc = sum(x)/4; yc = sum(y)/4\n",
    "    d = zeros(Float64,4)\n",
    "    for i in 1:4\n",
    "    d[i] = distance(x[i],y[i],xc,yc,α)\n",
    "    end\n",
    "    A = A_z(x, y)\n",
    "    L = 2sum(A)/sum(d)\n",
    "    return L\n",
    "end"
   ]
  },
  {
   "cell_type": "markdown",
   "metadata": {},
   "source": [
    "#### distance from  Point to line \n",
    "Line: $$ (xc -cos \\alpha )(x-xc) = (yc-sin \\alpha)(y-yc)$$\n",
    "point: $x,y$"
   ]
  },
  {
   "cell_type": "code",
   "execution_count": 31,
   "metadata": {},
   "outputs": [
    {
     "data": {
      "text/plain": [
       "distance (generic function with 1 method)"
      ]
     },
     "execution_count": 31,
     "metadata": {},
     "output_type": "execute_result"
    }
   ],
   "source": [
    "function distance(x,y,xc,yc,α)\n",
    "    d = abs((xc - cosd(α)) * (x .-xc)- (yc-sind(α))*(y .- yc))/√((xc-cosd(α))^2+(yc-sind(α))^2)\n",
    "    return d\n",
    "end"
   ]
  },
  {
   "cell_type": "markdown",
   "metadata": {},
   "source": [
    "### 沙漏粘性 Hourglass"
   ]
  },
  {
   "cell_type": "markdown",
   "metadata": {},
   "source": [
    "$$ \\text{hg}_x = u_1 -u_2 + u_3 - u_4$$ \n",
    "$$ \\text{hg}_x = v_1 -v_2 + v_3 - v_4$$ \n",
    "\n",
    "$$ e_{1x} = -\\frac{1}{4}q\\rho c\\sqrt{A}\\text{hg}_x $$\n",
    "$$ e_{1y} = -\\frac{1}{4}q\\rho c\\sqrt{A}\\text{hg}_y $$\n",
    "\n",
    "$$ e_{2x} = \\frac{1}{4}q\\rho c\\sqrt{A}\\text{hg}_x $$\n",
    "$$ e_{2y} = \\frac{1}{4}q\\rho c\\sqrt{A}\\text{hg}_y $$\n",
    "\n",
    "$$ e_{3x} = -\\frac{1}{4}q\\rho c\\sqrt{A}\\text{hg}_x $$\n",
    "$$ e_{3y} = -\\frac{1}{4}q\\rho c\\sqrt{A}\\text{hg}_y $$\n",
    "\n",
    "$$ e_{4x} = \\frac{1}{4}q\\rho c\\sqrt{A}\\text{hg}_x $$\n",
    "$$ e_{4y} = \\frac{1}{4}q\\rho c\\sqrt{A}\\text{hg}_y $$"
   ]
  },
  {
   "cell_type": "code",
   "execution_count": 32,
   "metadata": {},
   "outputs": [
    {
     "data": {
      "text/plain": [
       "hourglass_viscosity (generic function with 1 method)"
      ]
     },
     "execution_count": 32,
     "metadata": {},
     "output_type": "execute_result"
    }
   ],
   "source": [
    "function hourglass_viscosity(x,y,u,v,ρ,p,σ)\n",
    "    hgx = u[1] - u[2] + u[3] -u[4]\n",
    "    hgy = v[1] - v[2] + v[3] -v[4]\n",
    "    \n",
    "    ex =zeros(Float64,4)\n",
    "    ey =zeros(Float64,4)\n",
    "    A = area_quadrangle(x,y)\n",
    "    c = sound([ρ,0.0,p,min(p+σ[1],p+σ[2])], con1)\n",
    " #   @show c\n",
    "    q = 0.6 # coefficient of hourglass viscosity 0.01 - 0.5 ?\n",
    "    ex[1] = -0.25q*ρ*c*√(A)*hgx\n",
    "    ey[1] = -0.25q*ρ*c*√(A)*hgy\n",
    "    \n",
    "    ex[2] = -ex[1]\n",
    "    ey[2] = -ey[1]\n",
    "    \n",
    "    ex[3] = ex[1]\n",
    "    ey[3] = ey[1]\n",
    "    \n",
    "    ex[4] = ex[2]\n",
    "    ey[4] = ey[2]\n",
    "    \n",
    " #  ex .= 0\n",
    "#    ey .= 0\n",
    " #   @show ex,ey\n",
    "    return ex, ey\n",
    "end"
   ]
  },
  {
   "cell_type": "code",
   "execution_count": 33,
   "metadata": {},
   "outputs": [
    {
     "data": {
      "text/plain": [
       "area_quadrangle (generic function with 1 method)"
      ]
     },
     "execution_count": 33,
     "metadata": {},
     "output_type": "execute_result"
    }
   ],
   "source": [
    "function area_quadrangle(x::Array{Float64,1},y::Array{Float64,1}) \n",
    "   \n",
    "    xc= sum(x[i] for i in 1:4)/4\n",
    "    yc= sum(y[i] for i in 1:4)/4\n",
    "    \n",
    "    A41 = Area3(x[4],x[1],xc,y[4],y[1],yc)\n",
    "    A12 = Area3(x[1],x[2],xc,y[1],y[2],yc)\n",
    "    A23 = Area3(x[2],x[3],xc,y[2],y[3],yc)\n",
    "    A34 = Area3(x[3],x[4],xc,y[3],y[4],yc)\n",
    "    \n",
    "    A = A12 + A23 +A34 +A41\n",
    "    return A\n",
    "end"
   ]
  },
  {
   "cell_type": "code",
   "execution_count": 34,
   "metadata": {},
   "outputs": [
    {
     "data": {
      "text/plain": [
       "Area3 (generic function with 1 method)"
      ]
     },
     "execution_count": 34,
     "metadata": {},
     "output_type": "execute_result"
    }
   ],
   "source": [
    "function Area3(x1,x2,x3,y1,y2,y3)\n",
    "    return abs((x1*y2+y1*x3+x2*y3-x1*y3-y1*x2-y2*x3)/2)\n",
    "end"
   ]
  },
  {
   "cell_type": "markdown",
   "metadata": {},
   "source": [
    "###  $\\frac{\\partial (u,v)}{\\partial (x,y)}$\n",
    "\n",
    "we use the diffences between 1 and 3 points and 2 and 4 points to solve the partial differences approximately, as\n",
    "$$ \\frac{\\partial u}{\\partial x}  \\approx \\frac{1}{2A}((u_1-u_3)(y_2-y_4)+(u_2-u_4)(-y_1+y_3))$$ \n",
    "\n",
    "$$ \\frac{\\partial v}{\\partial y}  \\approx -\\frac{1}{2A}((v_1-v_3)(x_2-x_4)+(v_2-v_4)(-x_1+x_3))$$ \n",
    "Similar process to $\\frac{\\partial u}{\\partial y}$,$\\frac{\\partial v}{\\partial x}$ and $\\frac{\\partial v}{\\partial y}$"
   ]
  },
  {
   "cell_type": "code",
   "execution_count": 35,
   "metadata": {},
   "outputs": [
    {
     "data": {
      "text/plain": [
       "∂uv (generic function with 1 method)"
      ]
     },
     "execution_count": 35,
     "metadata": {},
     "output_type": "execute_result"
    }
   ],
   "source": [
    "function ∂uv(x,y,u)\n",
    "    ∂u_∂x = 0.5(u[1]-u[3])*(y[2]-y[4]) + 0.5(u[2]-u[4])*(y[3]-y[1])\n",
    "    ∂u_∂y = -0.5(u[1]-u[3])*(x[2]-x[4]) - 0.5(u[2]-u[4])*(x[3]-x[1])\n",
    "    return ∂u_∂x,∂u_∂y\n",
    "end"
   ]
  },
  {
   "cell_type": "markdown",
   "metadata": {},
   "source": [
    "## Output function"
   ]
  },
  {
   "cell_type": "code",
   "execution_count": 36,
   "metadata": {},
   "outputs": [
    {
     "data": {
      "text/plain": [
       "cell_coordinate (generic function with 1 method)"
      ]
     },
     "execution_count": 36,
     "metadata": {},
     "output_type": "execute_result"
    }
   ],
   "source": [
    "function cell_coordinate(x,y)\n",
    "    Ip, = size(Tc)\n",
    "    Ic, = size(Tp)\n",
    "    xc = zeros(Float64,Ic)\n",
    "    yc = zeros(Float64,Ic)\n",
    "    \n",
    "    for i in 1:Ic\n",
    "        for j = 1:4\n",
    "            ip = Tp[i,j] \n",
    "            xc[i] += x[ip]/4\n",
    "            yc[i] += y[ip]/4\n",
    "        end\n",
    "        \n",
    "    end\n",
    "    \n",
    "    return xc,yc\n",
    "end"
   ]
  },
  {
   "cell_type": "code",
   "execution_count": 37,
   "metadata": {},
   "outputs": [
    {
     "data": {
      "text/plain": [
       "outputline (generic function with 1 method)"
      ]
     },
     "execution_count": 37,
     "metadata": {},
     "output_type": "execute_result"
    }
   ],
   "source": [
    "function outputline(Ix,Iy,var,mz)\n",
    "    r,z,u,v,ρ,p,σ = var.r,var.z,var.u,var.v,var.ρ,var.p,var.σ\n",
    "    I, = size(ρ)\n",
    "    \n",
    "    uline =  zeros(Float64,Ix)\n",
    "    rline =  zeros(Float64,Ix)\n",
    "    zline =  zeros(Float64,Ix)\n",
    "    ρline =  zeros(Float64,Ix)        \n",
    "    pline =  zeros(Float64,Ix)  \n",
    "    sline = zeros(Float64,Ix,3)\n",
    "    σline= zeros(Float64,Ix,3)\n",
    "    for i in 1:Ix\n",
    "        j = Int(floor(Iy/2))\n",
    "            ip = i+(j-1 ) *(Ix+1)\n",
    "            ic =i+(j-1)*Ix\n",
    "            uline[i] = u[ip]\n",
    "            rline[i]  = r[ip]\n",
    "            ρline[i]  = ρ[ic]\n",
    "            pline[i] = p[ic]\n",
    "            σline[i,:] .= σ[ic,:]\n",
    "            sline[i,1:2] .= σ[ic,1:2] .+ p[ic]\n",
    "            sline[i,3]=σ[i,3]\n",
    "    end\n",
    "    return rline,uline,ρline,pline,sline,σline\n",
    "end"
   ]
  },
  {
   "cell_type": "code",
   "execution_count": 38,
   "metadata": {},
   "outputs": [
    {
     "data": {
      "text/plain": [
       "Output_cell (generic function with 1 method)"
      ]
     },
     "execution_count": 38,
     "metadata": {},
     "output_type": "execute_result"
    }
   ],
   "source": [
    "function Output_cell(Ix,Iy,var,mz)\n",
    "    x,y,u,v,ρ,p,σ = var.r,var.z,var.u,var.v,var.ρ,var.p,var.σ\n",
    "    Ip, = size(Tc)\n",
    "    Ic, = size(Tp)\n",
    "    io = open(\"data.dat\", \"w+\")\n",
    "   \n",
    "    A = zeros(Float64,Ip,9)\n",
    "   # for i in 1:Ip\n",
    "    \n",
    "    text = \" TITLE = \\\"Dataset\\\"\n",
    "VARIABLES = \\\"x\\\" \\\"y\\\" \\\"u\\\" \\\"v\\\" \\\"rho\\\" \\\"p\\\" \\\"srr\\\" \\\"szz\\\" \\\"mz\\\" ZONE T=\\\"Zone 1\\\" \n",
    "I=$Ix,J=$Iy,K=1,ZONETYPE=Ordered \n",
    "DATAPACKING=POINT \\n \"\n",
    "  #  write(1,*)\n",
    "    write(io,text)\n",
    "\n",
    "    for i in 1:Ic\n",
    "        xc = 0\n",
    "        yc =0\n",
    "        uc =0\n",
    "        vc =0\n",
    "        for j = 1:4\n",
    "            ip = Tp[i,j] \n",
    "                xc += x[ip]/4\n",
    "                yc += y[ip]/4\n",
    "                uc += u[ip]/4\n",
    "                vc += v[ip]/4\n",
    "        \n",
    "        end\n",
    "        \n",
    "        A[i,1] = xc\n",
    "        A[i,2] = yc\n",
    "        A[i,3] = uc\n",
    "        A[i,4] = vc\n",
    "        A[i,5] = ρ[i]\n",
    "        A[i,6] = p[i]\n",
    "        A[i,7] = σ[i,1] + p[i]\n",
    "        A[i,8] = σ[i,2] +p[i]\n",
    "        A[i,9] = mz[i]\n",
    "        \n",
    "    end\n",
    "      writedlm(io, A, \"  \")\n",
    "    close(io)\n",
    "end"
   ]
  },
  {
   "cell_type": "markdown",
   "metadata": {},
   "source": [
    "## Cases"
   ]
  },
  {
   "cell_type": "code",
   "execution_count": 39,
   "metadata": {},
   "outputs": [
    {
     "data": {
      "text/plain": [
       "Piston (generic function with 1 method)"
      ]
     },
     "execution_count": 39,
     "metadata": {},
     "output_type": "execute_result"
    }
   ],
   "source": [
    " function Piston()\n",
    "\n",
    "    global problem = prb(1.5e-4,0.3)\n",
    "    # global problem = prb(3e-5,0.3)\n",
    "     \n",
    "    I = 200\n",
    "    J = 10\n",
    "    dx = 1.0/I\n",
    "    dy = 0.1/J\n",
    "    \n",
    "    global   con1 = Const(9e7,8930,2.0,4.5e10,3940.0,1.49)\n",
    "  #  global   con1 = Const(0.0,8930,2.0,4.5e10,3940.0,1.49)\n",
    "    Ip = (I+1)*(J+1) # Number of  points\n",
    "    Ic = I*J  # number of cells\n",
    "    \n",
    "    global Tp = zeros(Int,Ic,4) #格点\n",
    "    global Tc = zeros(Int,Ip,4) #点格\n",
    "    \n",
    "    #@show Tc, Ip\n",
    "    global Tb = zeros(Int, I*2+J*2,3) #边界 \n",
    "    \n",
    "    IBL = J+1\n",
    "    IBR = J+1\n",
    "    IBU = I+1\n",
    "    IBD = I+1\n",
    "   # 点格表，格点表初始化 \n",
    "    for i in 1:I \n",
    "        for j in 1:J\n",
    "            ic = i+(j-1)*I\n",
    "            Tp[ic,1] = i + (j-1)*(I+1)\n",
    "            Tp[ic,2] = i+1 +(j-1)*(I+1)\n",
    "            Tp[ic,3]=i+1+j*(I+1)\n",
    "            Tp[ic,4]=i+j*(I+1) \n",
    "        end\n",
    "    end\n",
    "    \n",
    "    for i = 1:I+1\n",
    "        for j = 1:J+1\n",
    "            ip = i+(j-1)*(I+1)\n",
    "            Tc[ip,1] = i +(j-1)*I #(i,j)\n",
    "            Tc[ip,2] = i-1+(j-1)*I #(i-1,j)\n",
    "            Tc[ip,3] = i-1+(j-2)*I #(i-1,j-1)\n",
    "            Tc[ip,4] = i+(j-2)*I   #(i,j-1)\n",
    "            end\n",
    "        end\n",
    "    \n",
    "\n",
    "# Bound \n",
    "  ib = 0\n",
    "    for i = 1:I+1\n",
    "        for j = 1:J+1\n",
    "            if i == 1 || i== I+1 ||  j == 1 || j == J+1\n",
    "                ib += 1\n",
    "                ic =i+(j-1)*I \n",
    "                Tb[ib,1] = ip\n",
    "                if i==1 \n",
    "                    Tb[ib,2] = 4\n",
    "                    Tb[ip,3] = 3\n",
    "                end   \n",
    "                 if  i==I+1 \n",
    "                    Tb[ib,3] = 2 #bound type 1:free 2: wall ..  Tb[:,2] y direction\n",
    "                    Tc[ip,1] =0\n",
    "                    Tc[ip,4] =0\n",
    "                end\n",
    "            \n",
    "                if j==1 \n",
    "                    Tb[ib,2] = 1\n",
    "                    Tc[ip,3] = 0\n",
    "                    Tc[ip,4] = 0\n",
    "                end\n",
    "                if j==J+1\n",
    "                    Tb[ib,2] = 1\n",
    "                    Tc[ip,1] = 0\n",
    "                    Tc[ip,2] = 0\n",
    "                end\n",
    "            end\n",
    "        end\n",
    "    end\n",
    "\n",
    "    #流场初始化 Init of the flow\n",
    "    \n",
    "    x = zeros(Float64,Ip)\n",
    "    y = zeros(Float64,Ip)\n",
    "    u = zeros(Float64,Ip)\n",
    "    v = zeros(Float64,Ip)\n",
    "    \n",
    "    ρ = zeros(Float64,Ic)\n",
    "    mz = zeros(Float64,Ic)\n",
    "    p = zeros(Float64,Ic)\n",
    "    Az= zeros(Float64,Ic)\n",
    "    σ = zeros(Float64,Ic,3)\n",
    "    \n",
    "    for i in 1:I+1\n",
    "        for j = 1:J+1\n",
    "            ip =i+(j-1)*(I+1)\n",
    "            x[ip] = (i-1)*dx\n",
    "            y[ip] = (j-1)*dy\n",
    "            if i >=I/2\n",
    "                u[ip] = 0.\n",
    "            else\n",
    "                u[ip] = 0\n",
    "            end\n",
    "            v[ip] = 0.0\n",
    "        end\n",
    "    end\n",
    "    \n",
    "    xz = zeros(Float64,4)\n",
    "    yz = zeros(Float64,4) \n",
    "    for i in 1:I\n",
    "        for j in 1:J\n",
    "            ic = i+(j-1)*I\n",
    "            xz[1:4] = x[Tp[ic,1:4]]\n",
    "            yz[1:4] = y[Tp[ic,1:4]]\n",
    "            A = A_z(xz,yz)\n",
    "            Az[ic] = sum(A) #[1]+A[2]+A[3]+A[4]\n",
    "          #  if i>=I/2\n",
    "               \n",
    "                p[ic] = 1.e5\n",
    "                ρ[ic] = 8930\n",
    "                mz[ic] = ρ[ic] * Az[ic]\n",
    "                σ[ic,1] = -p[ic]\n",
    "                σ[ic,2] = -p[ic]\n",
    "                σ[ic,3]= 0 \n",
    "#             else\n",
    "#                 mz[ic] = 1.0 * Az[ic]\n",
    "#                 p[ic] = 1.0\n",
    "#                 ρ[ic] = 1.0\n",
    "#             end\n",
    "        end\n",
    "    end\n",
    "    var = Var(x,y,u,v,ρ,p,σ)\n",
    "    return var,mz,I,J\n",
    "end"
   ]
  },
  {
   "cell_type": "code",
   "execution_count": 40,
   "metadata": {},
   "outputs": [
    {
     "ename": "UndefVarError",
     "evalue": "UndefVarError: y not defined",
     "output_type": "error",
     "traceback": [
      "UndefVarError: y not defined",
      "",
      "Stacktrace:",
      " [1] Bound(::Array{Float64,1}, ::Array{Float64,1}, ::Var) at ./In[22]:26",
      " [2] predictor_corrector2nd(::Float64, ::Var, ::Array{Float64,1}) at ./In[18]:22",
      " [3] TimeSolve(::Var, ::Array{Float64,1}) at ./In[27]:15",
      " [4] top-level scope at In[40]:2"
     ]
    }
   ],
   "source": [
    "var,mz,I,J=Piston()\n",
    "#Output1\n",
    "var = TimeSolve(var,mz)"
   ]
  },
  {
   "cell_type": "code",
   "execution_count": 5,
   "metadata": {},
   "outputs": [],
   "source": [
    "using PyPlot"
   ]
  },
  {
   "cell_type": "code",
   "execution_count": 2,
   "metadata": {},
   "outputs": [
    {
     "data": {
      "text/plain": [
       "4-element Array{String,1}:\n",
       " \"@\"                                  \n",
       " \"@v#.#\"                              \n",
       " \"@stdlib\"                            \n",
       " \"/home/bfly/workspace/Juliastudy/Src\""
      ]
     },
     "execution_count": 2,
     "metadata": {},
     "output_type": "execute_result"
    }
   ],
   "source": [
    "push!(LOAD_PATH,\"/home/bfly/workspace/Juliastudy/Src\")"
   ]
  },
  {
   "cell_type": "code",
   "execution_count": 3,
   "metadata": {
    "collapsed": true
   },
   "outputs": [
    {
     "name": "stderr",
     "output_type": "stream",
     "text": [
      "┌ Info: Recompiling stale cache file /home/bfly/.juliapro/JuliaPro_v1.1.1.1/compiled/v1.1/Lag1DNum.ji for Lag1DNum [top-level]\n",
      "└ @ Base loading.jl:1184\n"
     ]
    }
   ],
   "source": [
    "using Lag1DNum"
   ]
  },
  {
   "cell_type": "code",
   "execution_count": 4,
   "metadata": {
    "collapsed": true
   },
   "outputs": [
    {
     "name": "stdout",
     "output_type": "stream",
     "text": [
      "3.180526342855994e-7  3.180526342855994e-7\n",
      "3.180264183352437e-7  6.360790526208431e-7\n",
      "3.1796314542188546e-7  9.540421980427286e-7\n",
      "3.1787373431572483e-7  1.2719159323584536e-6\n",
      "3.177612408329017e-7  1.5896771731913552e-6\n",
      "3.1764099208808404e-7  1.9073181652794392e-6\n",
      "3.1751012713946967e-7  2.224828292418909e-6\n",
      "3.1737632129201164e-7  2.5422046137109208e-6\n",
      "3.172460196713848e-7  2.8594506333823056e-6\n",
      "3.17129074630918e-7  3.1765797080132238e-6\n",
      "3.17024269231959e-7  3.493603977245183e-6\n",
      "3.169314332081582e-7  3.810535410453341e-6\n",
      "3.16851916540164e-7  4.127387326993505e-6\n",
      "3.167880103080494e-7  4.444175337301554e-6\n",
      "3.167378873171647e-7  4.760913224618719e-6\n",
      "3.16698395164153e-7  5.077611619782872e-6\n",
      "3.166661892092715e-7  5.394277808992143e-6\n",
      "3.16638342092012e-7  5.710916151084156e-6\n",
      "3.166130239284036e-7  6.02752917501256e-6\n",
      "3.1658949836891756e-7  6.344118673381478e-6\n",
      "3.165679206893685e-7  6.660686594070846e-6\n",
      "3.1654928858314176e-7  6.977235882653988e-6\n",
      "3.1653383123296457e-7  7.293769713886952e-6\n",
      "3.165247955943917e-7  7.6102945094813435e-6\n",
      "3.1652185121437506e-7  7.926816360695718e-6\n",
      "3.1652270858412346e-7  8.243339069279842e-6\n",
      "3.165245305626038e-7  8.559863599842446e-6\n",
      "3.165268244590275e-7  8.876390424301473e-6\n",
      "3.1652711282296127e-7  9.192917537124433e-6\n",
      "3.1652571564642755e-7  9.50944325277086e-6\n",
      "3.165211220433707e-7  9.825964374814231e-6\n",
      "3.165131212867522e-7  1.0142477496100984e-5\n",
      "3.1651144756873993e-7  1.0458988943669723e-5\n",
      "3.1651236723592105e-7  1.0775501310905644e-5\n",
      "3.1651101495628235e-7  1.1092012325861926e-5\n",
      "3.165115820435862e-7  1.1408523907905513e-5\n",
      "3.165133272625695e-7  1.1725037235168083e-5\n",
      "3.165150447100288e-7  1.204155227987811e-5\n",
      "3.165155749361489e-7  1.235806785481426e-5\n",
      "3.165108880890405e-7  1.2674578742903301e-5\n",
      "3.165093677766297e-7  1.299108811067993e-5\n",
      "3.1650929141130103e-7  1.3307597402091232e-5\n",
      "3.165098717202047e-7  1.3624107273811437e-5\n",
      "3.16509328799835e-7  1.3940616602611272e-5\n",
      "3.165096352889621e-7  1.4257126237900234e-5\n",
      "3.165105089027238e-7  1.4573636746802958e-5\n",
      "3.165116532476433e-7  1.4890148400050601e-5\n",
      "3.1651258859470213e-7  1.5206660988645303e-5\n",
      "3.1651225581973487e-7  1.552317324446504e-5\n",
      "3.1651248139853707e-7  1.5839685725863575e-5\n",
      "3.165121897648088e-7  1.6156197915628384e-5\n",
      "3.1651245416010635e-7  1.647271036978849e-5\n",
      "3.165129648696879e-7  1.6789223334658175e-5\n",
      "3.1651012496516466e-7  1.710573345962334e-5\n",
      "3.165093745106674e-7  1.742224283413401e-5\n",
      "3.1651014839455147e-7  1.773875298252856e-5\n",
      "3.165104846579457e-7  1.8055263467186506e-5\n",
      "3.165102269671801e-7  1.8371773694153687e-5\n",
      "3.1651065613530707e-7  1.8688284350288993e-5\n",
      "3.165114519063257e-7  1.900479580219532e-5\n",
      "3.165118601621913e-7  1.932130766235751e-5\n",
      "3.165114292718603e-7  1.963781909162937e-5\n",
      "3.1651091679188576e-7  1.9954330008421258e-5\n",
      "3.1651070088935597e-7  2.0270840709310613e-5\n",
      "3.1651072894598256e-7  2.0587351438256597e-5\n",
      "3.165108965234077e-7  2.0903862334780005e-5\n",
      "3.1651116173950703e-7  2.1220373496519513e-5\n",
      "3.165114746506279e-7  2.1536884971170142e-5\n",
      "3.165117948426523e-7  2.1853396766012795e-5\n",
      "3.1651112400246896e-7  2.2169907890015263e-5\n",
      "3.165112218821579e-7  2.248641911189742e-5\n",
      "3.1651179628736093e-7  2.2802930908184782e-5\n",
      "3.165117623791527e-7  2.3119442670563935e-5\n",
      "3.165113706922985e-7  2.3435954041256235e-5\n",
      "3.165110791357227e-7  2.3752465120391958e-5\n",
      "3.1651104305451106e-7  2.406897616344647e-5\n",
      "3.165111635409684e-7  2.4385487326987437e-5\n",
      "3.1651141678973553e-7  2.470199874377717e-5\n",
      "3.165118606437566e-7  2.5018510604420927e-5\n",
      "3.1651223014133084e-7  2.5335022834562258e-5\n",
      "3.165123232094462e-7  2.5651535157771703e-5\n",
      "3.16512245821908e-7  2.5968047403593613e-5\n",
      "3.1651220031489313e-7  2.6284559603908505e-5\n",
      "3.165122414766182e-7  2.6601071845385122e-5\n",
      "3.1651210259291874e-7  2.691758394797804e-5\n",
      "3.165120250629549e-7  2.7234095973040994e-5\n",
      "3.165119935038753e-7  2.755060796654487e-5\n",
      "3.165119673125701e-7  2.786711993385744e-5\n",
      "3.165119411704194e-7  2.818363187502786e-5\n",
      "3.165119361797144e-7  2.8500143811207576e-5\n",
      "3.165120298859684e-7  2.8816655841093544e-5\n",
      "3.165119366067423e-7  2.9133167777700286e-5\n",
      "3.165116036456696e-7  2.9449679381345955e-5\n",
      "3.165116076325554e-7  2.976619098897851e-5\n",
      "3.1651172471543995e-7  3.008270271369395e-5\n",
      "3.1651173636267067e-7  3.039921445005662e-5\n",
      "3.1651179498925244e-7  3.071572624504587e-5\n",
      "3.165119037941314e-7  3.103223814884e-5\n",
      "3.165119916126163e-7  3.1348750140452615e-5\n",
      "3.1651201330184635e-7  3.166526215375446e-5\n",
      "3.165120565197947e-7  3.198177421027426e-5\n",
      "3.16512023175101e-7  3.229828623344936e-5\n",
      "3.165119854810036e-7  3.261479821893036e-5\n",
      "3.165119644617651e-7  3.293131018339213e-5\n",
      "3.1651177523584293e-7  3.3247821958627974e-5\n",
      "3.1651153044731287e-7  3.356433348907529e-5\n",
      "3.165116729311372e-7  3.388084516200643e-5\n",
      "3.165119546932034e-7  3.4197357116699634e-5\n",
      "3.165119664716994e-7  3.4513869083171334e-5\n",
      "3.1651197895858543e-7  3.483038106212992e-5\n",
      "3.16511983032266e-7  3.5146893045162185e-5\n",
      "3.165119157802521e-7  3.546340496094244e-5\n",
      "3.165117826430341e-7  3.5779916743585474e-5\n",
      "3.165116868607521e-7  3.6096428430446225e-5\n",
      "3.1651163854395766e-7  3.6412940068990184e-5\n",
      "3.1651161226778385e-7  3.672945168125797e-5\n",
      "3.1651162320711483e-7  3.704596330446508e-5\n",
      "3.165116933174516e-7  3.7362474997782534e-5\n",
      "3.165117846444992e-7  3.767898678242703e-5\n",
      "3.1651191744341046e-7  3.799549869987044e-5\n",
      "3.1651197361657273e-7  3.831201067348701e-5\n",
      "3.1651192395093727e-7  3.862852259743795e-5\n",
      "3.165118142378497e-7  3.89450344116758e-5\n",
      "3.1651173284293606e-7  3.926154614451874e-5\n",
      "3.1651168088222126e-7  3.957805782540096e-5\n",
      "3.1651165654801485e-7  3.989456948194898e-5\n",
      "3.1651166026083417e-7  4.021108114220981e-5\n",
      "3.1651169242371274e-7  4.052759283463352e-5\n",
      "3.165117451530607e-7  4.084410457978659e-5\n",
      "3.1651183467113454e-7  4.1160616414457725e-5\n",
      "3.16511947853594e-7  4.1477128362311316e-5\n",
      "3.1651197097200527e-7  4.179364033328332e-5\n",
      "3.165120189428294e-7  4.211015235222615e-5\n",
      "3.165119590035352e-7  4.2426664311229686e-5\n",
      "3.165118680488509e-7  4.274317617927854e-5\n",
      "3.1651182261974215e-7  4.305968800189828e-5\n",
      "3.1651180997501086e-7  4.337619981187329e-5\n",
      "3.1651183285714255e-7  4.369271164473044e-5\n",
      "3.16511893992546e-7  4.4009223538722985e-5\n",
      "3.165119864946078e-7  4.4325735525217596e-5\n",
      "3.165121050740049e-7  4.46422476302916e-5\n",
      "3.165122407433482e-7  4.495875987103495e-5\n",
      "3.165123661640732e-7  4.527527223719902e-5\n",
      "3.16512261510774e-7  4.559178449870979e-5\n",
      "3.165121759089881e-7  4.590829667461878e-5\n",
      "3.1651210985941275e-7  4.622480878447819e-5\n",
      "3.1651206965657156e-7  4.654132085413476e-5\n",
      "3.165120475688274e-7  4.685783290170359e-5\n",
      "3.165120434540537e-7  4.717434494515764e-5\n",
      "3.165120567536702e-7  4.749085700191131e-5\n",
      "3.165120839008221e-7  4.7807369085812136e-5\n",
      "3.1651213114833386e-7  4.812388121696047e-5\n",
      "3.1651219681839264e-7  4.8440393413778866e-5\n",
      "3.1651225490379865e-7  4.875690566868267e-5\n",
      "3.1651215491893e-7  4.907341782360159e-5\n",
      "3.165120709506099e-7  4.9389929894552206e-5\n",
      "3.165120179449824e-7  4.970644191249719e-5\n",
      "3.165119848376677e-7  5.0022953897334856e-5\n",
      "3.165119667598187e-7  5.033946586409468e-5\n",
      "3.165119621593844e-7  5.065597782625406e-5\n",
      "3.1651196704938907e-7  5.097248979330345e-5\n",
      "3.1651198367187174e-7  5.128900177697532e-5\n",
      "3.1651200712083046e-7  5.160551378409615e-5\n",
      "3.165120338148904e-7  5.1922025817911043e-5\n",
      "3.1651206053941623e-7  5.223853787845046e-5\n",
      "3.1651208491903504e-7  5.2555049963369495e-5\n",
      "3.1651210561650846e-7  5.2871562068986e-5\n",
      "3.1651212211008155e-7  5.318807419109608e-5\n",
      "3.1651213416905235e-7  5.3504586325265135e-5\n",
      "3.165121423801686e-7  5.3821098467645304e-5\n",
      "3.165121487379207e-7  5.413761061638323e-5\n",
      "3.1651215481004794e-7  5.4454122771193274e-5\n",
      "3.1651216179470354e-7  5.477063493298798e-5\n",
      "3.165121705127761e-7  5.508714710350076e-5\n",
      "3.165121813901209e-7  5.540365928489088e-5\n",
      "3.165121946878623e-7  5.572017147957874e-5\n",
      "3.1651221003161343e-7  5.6036683689610355e-5\n",
      "3.1651222657123663e-7  5.6353195916181594e-5\n",
      "3.1651224311051874e-7  5.6669708159292114e-5\n",
      "3.1651222130460414e-7  5.698622038059672e-5\n",
      "3.1651222690553306e-7  5.730273260750225e-5\n",
      "3.16512259935408e-7  5.761924486743766e-5\n",
      "3.165122831764616e-7  5.793575715061412e-5\n",
      "3.165122819922098e-7  5.825226943260633e-5\n",
      "3.165122758260051e-7  5.856878170843233e-5\n",
      "3.1651226457635544e-7  5.8885293973008686e-5\n",
      "3.165122483967017e-7  5.920180622140539e-5\n",
      "3.165122279859619e-7  5.951831844939135e-5\n",
      "3.165122033145871e-7  5.983483065270594e-5\n",
      "3.1651217642461065e-7  6.015134282913055e-5\n",
      "3.165121499049977e-7  6.046785497903555e-5\n",
      "3.1651212600854704e-7  6.0784367105044096e-5\n",
      "3.165121071155995e-7  6.11008792121597e-5\n",
      "3.1651209416071036e-7  6.14173913063204e-5\n",
      "3.165120886104514e-7  6.173390339493086e-5\n",
      "3.1651209041013217e-7  6.205041548534099e-5\n",
      "3.1651210136974155e-7  6.236692758671074e-5\n",
      "3.165120947890406e-7  6.268343968149978e-5\n",
      "3.1651205941674145e-7  6.299995174091653e-5\n",
      "3.165120266997384e-7  6.331646376761627e-5\n",
      "3.1651199935165284e-7  6.363297576696792e-5\n",
      "3.16511979732089e-7  6.394948774670001e-5\n",
      "3.1651197035000335e-7  6.426599971705001e-5\n",
      "3.1651196869671675e-7  6.458251168574672e-5\n",
      "3.1651197257191434e-7  6.489902365831863e-5\n",
      "3.1651198133729546e-7  6.521553563965593e-5\n",
      "3.1651199348907216e-7  6.5532047633145e-5\n",
      "3.1651201142684305e-7  6.584855964457184e-5\n",
      "3.16512037086993e-7  6.616507168165883e-5\n",
      "3.165120628409044e-7  6.648158374449974e-5\n",
      "3.165120792398653e-7  6.67980958237396e-5\n",
      "3.165120934480652e-7  6.711460791718767e-5\n",
      "3.165120539600653e-7  6.743111997114773e-5\n",
      "3.165120170736326e-7  6.774763198822137e-5\n",
      "3.165119864170683e-7  6.806414397463844e-5\n",
      "3.165119629601527e-7  6.838065593759858e-5\n",
      "3.1651194688440297e-7  6.869716788448299e-5\n",
      "3.1651193908129347e-7  6.901367982356429e-5\n",
      "3.165119401502322e-7  6.933019176371452e-5\n",
      "3.165119505444955e-7  6.964670371425901e-5\n",
      "3.165119700379594e-7  6.996321568429697e-5\n",
      "3.1651199771146195e-7  7.027972768200844e-5\n",
      "3.1651202838260374e-7  7.059623971039104e-5\n",
      "3.165120007656639e-7  7.09127517111567e-5\n",
      "3.1651197788355065e-7  7.122926368904025e-5\n",
      "3.165119626415848e-7  7.154577565168183e-5\n",
      "3.165119550002886e-7  7.186228760668212e-5\n",
      "3.165119547286511e-7  7.217879956141077e-5\n",
      "3.1651196149707926e-7  7.249531152290786e-5\n",
      "3.165119740058964e-7  7.281182349691376e-5\n",
      "3.165119924725203e-7  7.312833548938628e-5\n",
      "3.1651202059526875e-7  7.344484750998154e-5\n",
      "3.1651204968551333e-7  7.376135955966706e-5\n",
      "3.165120769304991e-7  7.407787163659756e-5\n",
      "3.165120623353596e-7  7.439438369893293e-5\n",
      "3.1651204334087673e-7  7.47108957422738e-5\n",
      "3.1651202831036094e-7  7.502740777058417e-5\n",
      "3.1651201817249554e-7  7.534391978875666e-5\n",
      "3.165120137353591e-7  7.566043180249201e-5\n",
      "3.1651201601685895e-7  7.597694381850887e-5\n",
      "3.165120249043299e-7  7.62934558434132e-5\n",
      "3.165120398294384e-7  7.660996788324264e-5\n",
      "3.165120594582513e-7  7.692647994270089e-5\n",
      "3.165120820320638e-7  7.724299202473295e-5\n",
      "3.165121056797968e-7  7.755950413041274e-5\n",
      "3.1651212852954595e-7  7.787601625894228e-5\n",
      "3.1651213723635146e-7  7.819252839617863e-5\n",
      "3.1651212885601103e-7  7.850904052503464e-5\n",
      "3.165121232067914e-7  7.882555264824142e-5\n",
      "3.165121206044797e-7  7.914206476884591e-5\n",
      "3.165121212612412e-7  7.945857689010715e-5\n",
      "3.1651212520701935e-7  7.977508901531416e-5\n",
      "3.1651213238069745e-7  8.009160114769486e-5\n",
      "3.1651213672056017e-7  8.040811328441542e-5\n",
      "3.165121164572533e-7  8.072462540087267e-5\n",
      "3.165120940107381e-7  8.104113749488341e-5\n",
      "3.1651207060643934e-7  8.135764956548984e-5\n",
      "3.1651204815952334e-7  8.167416161364936e-5\n",
      "3.1651202708852375e-7  8.199067364073788e-5\n",
      "3.165120075887712e-7  8.230718564832665e-5\n",
      "3.1651198996082265e-7  8.262369763828747e-5\n",
      "3.16511974460642e-7  8.294020961274811e-5\n",
      "3.1651196131326485e-7  8.325672157406138e-5\n",
      "3.16511950617875e-7  8.357323352467926e-5\n",
      "3.165119422297909e-7  8.388974546690905e-5\n",
      "3.165119359625721e-7  8.420625740287163e-5\n",
      "3.165119317994936e-7  8.452276933467113e-5\n",
      "3.165119299344167e-7  8.483928126460554e-5\n",
      "3.1651193047387537e-7  8.515579319507941e-5\n",
      "3.165119333790601e-7  8.547230512845847e-5\n",
      "3.1651193847810024e-7  8.578881706693657e-5\n",
      "3.165119454032648e-7  8.610532901233984e-5\n",
      "3.1651195390031075e-7  8.642184096624015e-5\n",
      "3.16511963896277e-7  8.673835293013642e-5\n",
      "3.1651197542973236e-7  8.705486490556615e-5\n",
      "3.1651198854477864e-7  8.737137689411093e-5\n",
      "3.1651200311032004e-7  8.768788889722125e-5\n",
      "3.1651201860114154e-7  8.80044009158224e-5\n",
      "3.1651203465161306e-7  8.832091295047402e-5\n",
      "3.165120435980244e-7  8.863742499407204e-5\n",
      "3.1651204068464107e-7  8.895393703475667e-5\n",
      "3.165120384809489e-7  8.927044907323763e-5\n",
      "3.1651203698703595e-7  8.958696111022466e-5\n",
      "3.1651203613460353e-7  8.990347314635926e-5\n",
      "3.1651203577275095e-7  9.021998518213201e-5\n",
      "3.1651203620793573e-7  9.053649721833995e-5\n",
      "3.165120373333776e-7  9.085300925567333e-5\n",
      "3.165120388115778e-7  9.116952129448491e-5\n",
      "3.165120399928984e-7  9.148603333447781e-5\n",
      "3.1651204039735206e-7  9.180254537487516e-5\n",
      "3.165120397336026e-7  9.211905741460876e-5\n",
      "3.165120377777059e-7  9.243556945238647e-5\n",
      "3.1651203436691756e-7  9.275208148675339e-5\n",
      "3.1651202788818463e-7  9.306859351464158e-5\n",
      "3.1651201258946125e-7  9.338510552723104e-5\n",
      "3.1651199857823357e-7  9.370161752580927e-5\n",
      "3.165119862706844e-7  9.401812951207995e-5\n"
     ]
    },
    {
     "name": "stdout",
     "output_type": "stream",
     "text": [
      "3.1651197594477275e-7  9.433464148802472e-5\n",
      "3.1651196760102764e-7  9.465115345562576e-5\n",
      "3.165119610784227e-7  9.496766541670417e-5\n",
      "3.165119500364571e-7  9.528417736674063e-5\n",
      "3.165119335466083e-7  9.560068930028724e-5\n",
      "3.165119184642271e-7  9.591720121875147e-5\n",
      "3.165119056058458e-7  9.623371312435732e-5\n",
      "3.165118953935306e-7  9.655022501975085e-5\n",
      "3.165118882419564e-7  9.686673690799281e-5\n",
      "3.165118843969105e-7  9.718324879238972e-5\n",
      "3.1651188345192714e-7  9.749976067584165e-5\n",
      "3.1651188513841824e-7  9.781627256098007e-5\n",
      "3.16511889181023e-7  9.81327844501611e-5\n",
      "3.16511895249664e-7  9.844929634541075e-5\n",
      "3.1651190321935336e-7  9.876580824863011e-5\n",
      "3.16511913176465e-7  9.908232016180658e-5\n",
      "3.1651192411612966e-7  9.93988320859227e-5\n",
      "3.1651193513310233e-7  9.971534402105581e-5\n",
      "3.165119374667682e-7  0.00010003185595852259\n",
      "3.1651193840201614e-7  0.0001003483678969246\n",
      "3.1651194173314923e-7  0.00010066487983865775\n",
      "3.1651194826453463e-7  0.00010098139178692228\n",
      "3.1651195836161597e-7  0.00010129790374528389\n",
      "3.165119718274605e-7  0.00010161441571711135\n",
      "3.1651198646439807e-7  0.00010193092770357575\n",
      "3.165119883536732e-7  0.00010224743969192943\n",
      "3.165119892555852e-7  0.00010256395168118502\n",
      "3.165119895947183e-7  0.00010288046367077974\n",
      "3.165119898712668e-7  0.000103196975660651\n",
      "3.16511990622288e-7  0.0001035134876512733\n",
      "3.165119923505123e-7  0.0001038299996436238\n",
      "3.1651199550154843e-7  0.00010414651163912536\n",
      "3.1651200032404613e-7  0.0001044630236394494\n",
      "3.165120069583891e-7  0.00010477953564640778\n",
      "3.1651201547654817e-7  0.00010509604766188434\n",
      "3.165120257968655e-7  0.00010541255968768121\n",
      "3.1651203768862884e-7  0.00010572907172536984\n",
      "3.1651205079025404e-7  0.0001060455837761601\n",
      "3.165120646081071e-7  0.0001063620958407682\n",
      "3.165120654840151e-7  0.00010667860790625222\n",
      "3.165120422196862e-7  0.0001069951199484719\n",
      "3.1651201800380337e-7  0.00010731163196647571\n",
      "3.165119933943783e-7  0.00010762814395987009\n",
      "3.165119679135977e-7  0.00010794465592778368\n",
      "3.165119416135954e-7  0.00010826116786939728\n",
      "3.1651191460230425e-7  0.00010857767978399959\n",
      "3.165118871024275e-7  0.00010889419167110201\n",
      "3.1651185948415036e-7  0.00010921070353058616\n",
      "3.1651183230257663e-7  0.00010952721536288873\n",
      "3.1651180636704564e-7  0.00010984372716925578\n",
      "3.1651178266023277e-7  0.00011016023895191602\n",
      "3.1651176219986325e-7  0.00011047675071411589\n",
      "3.165117455808971e-7  0.00011079326245969679\n",
      "3.16511733358914e-7  0.0001111097741930557\n",
      "3.1651172615498065e-7  0.00011142628591921068\n",
      "3.165117245554789e-7  0.00011174279764376616\n",
      "3.1651172940377605e-7  0.00011205930937316994\n",
      "3.1651174061973047e-7  0.00011237582111378967\n",
      "3.1651175741350363e-7  0.00011269233287120317\n",
      "3.1651177906684187e-7  0.00011300884465027001\n",
      "3.165118049897768e-7  0.00011332535645525979\n",
      "3.165118346072393e-7  0.00011364186828986703\n",
      "3.1651186634611086e-7  0.00011395838015621313\n",
      "3.165118966498045e-7  0.00011427489205286293\n",
      "3.1651192520811993e-7  0.00011459140397807105\n",
      "3.1651195233719054e-7  0.00011490791593040824\n",
      "3.165119664976192e-7  0.00011522442789690585\n",
      "3.165119652010045e-7  0.00011554093986210685\n",
      "3.1651196440083113e-7  0.00011585745182650768\n",
      "3.165119640886108e-7  0.0001161739637905963\n",
      "3.165119635677584e-7  0.00011649047575416406\n",
      "3.165119645434031e-7  0.00011680698771870746\n",
      "3.1651196681152035e-7  0.00011712349968551898\n",
      "3.1651196934478573e-7  0.00011744001165486376\n",
      "3.1651196737163487e-7  0.00011775652362223539\n",
      "3.1651196434442334e-7  0.00011807303558657982\n",
      "3.165119631708835e-7  0.0001183895475497507\n",
      "3.1651196352086395e-7  0.00011870605951327157\n",
      "3.165119613291961e-7  0.00011902257147460077\n",
      "3.165119543252113e-7  0.00011933908342892598\n",
      "3.16511946105037e-7  0.000119655595375031\n",
      "3.1651193695533215e-7  0.00011997210731198633\n",
      "3.165119268793488e-7  0.00012028861923886568\n",
      "3.1651191540899455e-7  0.00012060513115427467\n",
      "3.165119025263619e-7  0.00012092164305680104\n",
      "3.165118879429027e-7  0.00012123815494474393\n",
      "3.165118716281847e-7  0.00012155466681637212\n",
      "3.165118550275841e-7  0.00012187117867139971\n",
      "3.165118395651068e-7  0.00012218769051096481\n",
      "3.1651182579750674e-7  0.0001225042023367623\n",
      "3.165118142788589e-7  0.00012282071415104117\n",
      "3.165118053564403e-7  0.0001231372259563976\n",
      "3.1651178929800154e-7  0.0001234537377456956\n",
      "3.165117746943519e-7  0.00012377024952038996\n",
      "3.1651176198911484e-7  0.00012408676128237907\n",
      "3.1651175089671113e-7  0.0001244032730332758\n",
      "3.1651174130334583e-7  0.00012471978477457914\n",
      "3.1651173329745055e-7  0.0001250362965078766\n",
      "3.1651172696441814e-7  0.00012535280823484102\n",
      "3.165117222455181e-7  0.00012566931995708653\n",
      "3.16511719049836e-7  0.00012598583167613636\n",
      "3.1651171730408276e-7  0.00012630234339344043\n",
      "3.165117169698166e-7  0.00012661885511041024\n",
      "3.165117183632557e-7  0.0001269353668287735\n",
      "3.1651172157260027e-7  0.0001272518785503461\n",
      "3.1651172652245165e-7  0.00012756839027686854\n",
      "3.1651173298901457e-7  0.00012788490200985755\n",
      "3.165117406540733e-7  0.00012820141375051162\n",
      "3.1651174916207955e-7  0.0001285179254996737\n",
      "3.1651175816378006e-7  0.00012883443725783748\n",
      "3.1651176738765503e-7  0.00012915094902522513\n",
      "3.165117765343087e-7  0.00012946746080175943\n",
      "3.1651178526043323e-7  0.00012978397258701986\n",
      "3.165117932233476e-7  0.0001301004843802432\n",
      "3.165118001111663e-7  0.00013041699618035439\n",
      "3.165118056744159e-7  0.0001307335079860288\n",
      "3.1651180245150715e-7  0.0001310500197884803\n",
      "3.165117980324766e-7  0.00013136653158651277\n",
      "3.1651179392804107e-7  0.00013168304338044082\n",
      "3.165117902030914e-7  0.0001319995551706439\n",
      "3.1651178687474526e-7  0.00013231606695751866\n",
      "3.165117839185009e-7  0.00013263257874143717\n",
      "3.165117812847344e-7  0.0001329490905227219\n",
      "3.1651177891287415e-7  0.0001332656023016348\n",
      "3.165117767468107e-7  0.0001335821140783816\n",
      "3.1651177474751875e-7  0.0001338986258531291\n",
      "3.1651177289955046e-7  0.00013421513762602866\n",
      "3.1651177121166605e-7  0.00013453164939724032\n",
      "3.165117697187766e-7  0.00013484816116695909\n",
      "3.165117684789141e-7  0.00013516467293543799\n",
      "3.165117675587839e-7  0.00013548118470299678\n",
      "3.1651176702374876e-7  0.00013579769647002052\n",
      "3.1651176693333885e-7  0.00013611420823695386\n",
      "3.1651176733043086e-7  0.0001364307200042843\n",
      "3.165117682265341e-7  0.00013674723177251082\n",
      "3.16511769595735e-7  0.00013706374354210656\n",
      "3.165117706516803e-7  0.00013738025531275823\n",
      "3.1651176733577505e-7  0.000137696767080094\n",
      "3.1651176398154936e-7  0.00013801327884407555\n",
      "3.165117605956455e-7  0.0001383297906046712\n",
      "3.1651175719197937e-7  0.00013864630236186317\n",
      "3.165117537984508e-7  0.00013896281411566162\n",
      "3.1651175045970624e-7  0.00013927932586612132\n",
      "3.165117472354065e-7  0.00013959583761335672\n",
      "3.165117441945096e-7  0.00013991234935755123\n",
      "3.165117414070346e-7  0.00014022886109895825\n",
      "3.165117389351087e-7  0.00014054537283789335\n",
      "3.165117368258457e-7  0.00014086188457471918\n",
      "3.165117351089384e-7  0.00014117839630982813\n",
      "3.1651173379055274e-7  0.0001414949080436187\n",
      "3.165117328505315e-7  0.00014181141977646922\n",
      "3.165117322428917e-7  0.0001421279315087121\n",
      "3.16511731894429e-7  0.00014244444324060652\n",
      "3.1651173170441976e-7  0.00014276095497231094\n",
      "3.1651173155006944e-7  0.00014307746670386102\n",
      "3.1651173129966506e-7  0.00014339397843516068\n",
      "3.165117308299023e-7  0.00014371049016599058\n",
      "3.16511730042995e-7  0.00014402700189603356\n",
      "3.1651172887816955e-7  0.00014434351362491174\n",
      "3.165117273150425e-7  0.0001446600253522268\n",
      "3.16511725368276e-7  0.00014497653707759507\n",
      "3.1651172307847344e-7  0.00014529304880067355\n",
      "3.1651172050146967e-7  0.00014560956052117502\n",
      "3.1651171769920595e-7  0.00014592607223887422\n",
      "3.1651171473391825e-7  0.00014624258395360814\n",
      "3.1651171166636657e-7  0.0001465590956652745\n",
      "3.1651170855772156e-7  0.00014687560737383222\n",
      "3.165117054744582e-7  0.00014719211907930667\n",
      "3.1651170249305444e-7  0.00014750863078179973\n",
      "3.165116997032601e-7  0.000147825142481503\n",
      "3.1651169721063135e-7  0.00014814165417871363\n",
      "3.16511695134829e-7  0.00014845816587384845\n",
      "3.1651169360252415e-7  0.00014877467756745097\n",
      "3.165116927390354e-7  0.00014909118926019\n",
      "3.1651169265683134e-7  0.00014940770095284682\n",
      "3.165116934512627e-7  0.0001497242126462981\n",
      "2.7578735370189654e-7  0.00015\n"
     ]
    },
    {
     "data": {
      "text/plain": [
       "([8973.42 20.0 6.82542e8 -5.91304e7; 8973.42 20.0 6.82542e8 -5.91304e7; … ; 8930.0 -6.00601e-13 100000.0 -0.00307235; 8930.0 -6.24381e-13 100000.0 0.00615788], [-0.0119797, -0.00699711, -0.00201452, 0.00296129, 0.00793707, 0.0129129, 0.0178886, 0.0228644, 0.0278402, 0.032816  …  0.97, 0.975, 0.98, 0.985, 0.99, 0.995, 1.0, 1.005, 1.01, 1.015])"
      ]
     },
     "execution_count": 4,
     "metadata": {},
     "output_type": "execute_result"
    }
   ],
   "source": [
    "uo,u,x,inter = Lag1DNum.Piston()\n",
    "uo,x  = Lag1DNum.TimeSolve(uo, x,inter)"
   ]
  },
  {
   "cell_type": "code",
   "execution_count": 100,
   "metadata": {
    "scrolled": true
   },
   "outputs": [
    {
     "data": {
      "image/png": "[encoded data removed]",
      "text/plain": [
       "Figure(PyObject <Figure size 640x480 with 1 Axes>)"
      ]
     },
     "metadata": {},
     "output_type": "display_data"
    },
    {
     "data": {
      "text/plain": [
       "1-element Array{PyCall.PyObject,1}:\n",
       " PyObject <matplotlib.lines.Line2D object at 0x7f0024f871d0>"
      ]
     },
     "execution_count": 100,
     "metadata": {},
     "output_type": "execute_result"
    }
   ],
   "source": [
    "#plot(x,uo[:,4])\n",
    "plot(rline,sline[:,1])"
   ]
  },
  {
   "cell_type": "code",
   "execution_count": 37,
   "metadata": {},
   "outputs": [
    {
     "data": {
      "text/plain": [
       "([0.00548787, 0.0104636, 0.0154393, 0.020415, 0.0253907, 0.0303664, 0.0353422, 0.040318, 0.0452938, 0.0502696  …  0.9525, 0.9575, 0.9625, 0.9675, 0.9725, 0.9775, 0.9825, 0.9875, 0.9925, 0.9975], [0.00496078, 0.00492459, 0.00496417, 0.00504453, 0.00511843, 0.00516353, 0.00518388, 0.00519064, 0.00519236, 0.00519261  …  0.095, 0.095, 0.095, 0.095, 0.095, 0.095, 0.095, 0.095, 0.095, 0.095])"
      ]
     },
     "execution_count": 37,
     "metadata": {},
     "output_type": "execute_result"
    }
   ],
   "source": [
    "rcell, zcell = cell_coordinate(var.r,var.z)"
   ]
  },
  {
   "cell_type": "code",
   "execution_count": 382,
   "metadata": {},
   "outputs": [
    {
     "data": {
      "text/plain": [
       "4000-element Array{Float64,1}:\n",
       " 0.0\n",
       " 0.0\n",
       " 0.0\n",
       " 0.0\n",
       " 0.0\n",
       " 0.0\n",
       " 0.0\n",
       " 0.0\n",
       " 0.0\n",
       " 0.0\n",
       " 0.0\n",
       " 0.0\n",
       " 0.0\n",
       " ⋮  \n",
       " 0.0\n",
       " 0.0\n",
       " 0.0\n",
       " 0.0\n",
       " 0.0\n",
       " 0.0\n",
       " 0.0\n",
       " 0.0\n",
       " 0.0\n",
       " 0.0\n",
       " 0.0\n",
       " 0.0"
      ]
     },
     "execution_count": 382,
     "metadata": {},
     "output_type": "execute_result"
    }
   ],
   "source": [
    "var.σ[:,2] .+var.p[:]"
   ]
  },
  {
   "cell_type": "code",
   "execution_count": 96,
   "metadata": {
    "scrolled": false
   },
   "outputs": [
    {
     "data": {
      "text/plain": [
       "([0.003, 0.0079755, 0.0129505, 0.0179258, 0.0229011, 0.0278765, 0.0328519, 0.0378272, 0.0428026, 0.047778  …  0.95, 0.955, 0.96, 0.965, 0.97, 0.975, 0.98, 0.985, 0.99, 0.995], [20.0, 20.0052, 19.9953, 19.9939, 19.9944, 19.9938, 19.9946, 19.9945, 19.9946, 19.9948  …  -7.24954e-9, -3.3394e-9, -3.30875e-10, -1.91651e-9, -1.65644e-9, -5.41445e-9, -2.03663e-9, -2.64075e-9, -6.11685e-9, -2.2862e-9], [8973.97, 8974.87, 8974.41, 8974.23, 8974.24, 8974.17, 8974.21, 8974.2, 8974.19, 8974.2  …  8930.0, 8930.0, 8930.0, 8930.0, 8930.0, 8930.0, 8930.0, 8930.0, 8930.0, 8930.0], [6.96974e8, 6.98105e8, 6.95231e8, 6.94067e8, 6.93942e8, 6.93707e8, 6.93686e8, 6.93644e8, 6.93608e8, 6.93595e8  …  1.00002e5, 100003.0, 99999.5, 99999.9, 99999.0, 1.00001e5, 99999.9, 99999.1, 1.00001e5, 1.00001e5], [-3.14732e7 2.49999e7 -3.271e7; -3.02146e7 2.10528e7 -4.45125e7; … ; 1.08554 -1.37866 -0.296824; 0.608032 -0.767777 -0.203145], [-7.28447e8 -6.71974e8 -3.271e7; -7.2832e8 -6.77052e8 -4.45125e7; … ; -1.0e5 -1.00003e5 -0.439692; -1.0e5 -1.00002e5 -0.239617])"
      ]
     },
     "execution_count": 96,
     "metadata": {},
     "output_type": "execute_result"
    }
   ],
   "source": [
    "rline,uline,ρline,pline,sline,σline = outputline(I, J, var, mz)"
   ]
  },
  {
   "cell_type": "code",
   "execution_count": 433,
   "metadata": {
    "scrolled": true
   },
   "outputs": [
    {
     "data": {
      "image/png": "[encoded data removed]",
      "text/plain": [
       "Figure(PyObject <Figure size 640x480 with 1 Axes>)"
      ]
     },
     "metadata": {},
     "output_type": "display_data"
    },
    {
     "data": {
      "text/plain": [
       "1-element Array{PyCall.PyObject,1}:\n",
       " PyObject <matplotlib.lines.Line2D object at 0x7f649ebe5da0>"
      ]
     },
     "execution_count": 433,
     "metadata": {},
     "output_type": "execute_result"
    }
   ],
   "source": [
    "plot(rline1,ρline1)\n",
    "plot(rline,ρline)"
   ]
  },
  {
   "cell_type": "code",
   "execution_count": 427,
   "metadata": {},
   "outputs": [
    {
     "data": {
      "text/plain": [
       "500-element Array{Float64,1}:\n",
       " 8973.452548068302\n",
       " 8973.489348740997\n",
       " 8973.529132466845\n",
       " 8973.546156105233\n",
       " 8973.593873162596\n",
       " 8973.652536475118\n",
       " 8973.658593989336\n",
       " 8973.611523470208\n",
       " 8973.548061198695\n",
       " 8973.496301843043\n",
       " 8973.468327046758\n",
       " 8973.457481706046\n",
       " 8973.453148756262\n",
       "    ⋮             \n",
       " 8930.00000074822 \n",
       " 8929.999996725186\n",
       " 8930.000001110711\n",
       " 8929.999999780026\n",
       " 8929.999999121655\n",
       " 8930.000002731076\n",
       " 8929.999998861405\n",
       " 8929.999997659297\n",
       " 8930.00000244914 \n",
       " 8930.00000029278 \n",
       " 8929.999998062065\n",
       " 8929.999999677786"
      ]
     },
     "execution_count": 427,
     "metadata": {},
     "output_type": "execute_result"
    }
   ],
   "source": [
    "\n",
    "rline1 = copy(rline)\n",
    "ρline1 = copy(ρline)"
   ]
  },
  {
   "cell_type": "code",
   "execution_count": 426,
   "metadata": {},
   "outputs": [
    {
     "name": "stderr",
     "output_type": "stream",
     "text": [
      "WARNING: using Plots.plot in module Main conflicts with an existing identifier.\n"
     ]
    }
   ],
   "source": [
    "using Plots"
   ]
  },
  {
   "cell_type": "code",
   "execution_count": 120,
   "metadata": {},
   "outputs": [
    {
     "data": {
      "text/plain": [
       "100-element Array{Float64,1}:\n",
       " 0.5863745424229245  \n",
       " 0.43464244640415384 \n",
       " 0.3910598594800654  \n",
       " 0.43305240022454616 \n",
       " 0.23399114758541195 \n",
       " 0.18927979722780974 \n",
       " 0.0399318765583454  \n",
       " 0.8247603605119291  \n",
       " 0.8450500969105932  \n",
       " 0.8685808529175953  \n",
       " 0.9115293391579375  \n",
       " 0.4151161129201457  \n",
       " 0.8434724475699895  \n",
       " ⋮                   \n",
       " 0.5549218857722769  \n",
       " 0.8509211097763569  \n",
       " 0.7911310905976383  \n",
       " 0.683086936974606   \n",
       " 0.04829929770646024 \n",
       " 0.2695140134177052  \n",
       " 0.6730876715858984  \n",
       " 0.04185936225327502 \n",
       " 0.4647567613578325  \n",
       " 0.5453259625191897  \n",
       " 0.030370869037166237\n",
       " 0.9109183444891766  "
      ]
     },
     "execution_count": 120,
     "metadata": {},
     "output_type": "execute_result"
    }
   ],
   "source": [
    "A = rand(Float64,100)"
   ]
  },
  {
   "cell_type": "code",
   "execution_count": 171,
   "metadata": {},
   "outputs": [
    {
     "data": {
      "text/plain": [
       "Pistonz (generic function with 1 method)"
      ]
     },
     "execution_count": 171,
     "metadata": {},
     "output_type": "execute_result"
    }
   ],
   "source": [
    " function Pistonz()\n",
    "\n",
    "    global problem = prb(1.5e-4,0.3)\n",
    "    # global problem = prb(3e-5,0.3)\n",
    "     \n",
    "    I = 10\n",
    "    J = 100\n",
    "    dx = 0.1/I\n",
    "    dy = 1/J\n",
    "    \n",
    "    global   con1 = Const(9e7,8930,2.0,4.5e10,3940.0,1.49)\n",
    "    \n",
    "    Ip = (I+1)*(J+1) # Number of  points\n",
    "    Ic = I*J  # number of cells\n",
    "    \n",
    "    global Tp = zeros(Int,Ic,4) #格点\n",
    "    global Tc = zeros(Int,Ip,4) #点格\n",
    "    \n",
    "    #@show Tc, Ip\n",
    "    global Tb = zeros(Int, I*2+J*2,3) #边界 \n",
    "    \n",
    "    IBL = J+1\n",
    "    IBR = J+1\n",
    "    IBU = I+1\n",
    "    IBD = I+1\n",
    "   # 点格表，格点表初始化 \n",
    "    for i in 1:I \n",
    "        for j in 1:J\n",
    "            ic = i+(j-1)*I\n",
    "            Tp[ic,1] = i + (j-1)*(I+1)\n",
    "            Tp[ic,2] = i+1 +(j-1)*(I+1)\n",
    "            Tp[ic,3]=i+1+j*(I+1)\n",
    "            Tp[ic,4]=i+j*(I+1) \n",
    "        end\n",
    "    end\n",
    "    \n",
    "    for i = 1:I+1\n",
    "        for j = 1:J+1\n",
    "            ip = i+(j-1)*(I+1)\n",
    "            Tc[ip,1] = i +(j-1)*I #(i,j)\n",
    "            Tc[ip,2] = i-1+(j-1)*I #(i-1,j)\n",
    "            Tc[ip,3] = i-1+(j-2)*I #(i-1,j-1)\n",
    "            Tc[ip,4] = i+(j-2)*I   #(i,j-1)\n",
    "            end\n",
    "        end\n",
    "    \n",
    "\n",
    "# Bound \n",
    "  ib = 0\n",
    "    for i = 1:I+1\n",
    "        for j = 1:J+1\n",
    "            if i == 1 || i== I+1 ||  j == 1 || j == J+1\n",
    "                ib += 1\n",
    "                ic =i+(j-1)*I\n",
    "                #ic = Tc[ip]\n",
    "                Tb[ib,1] = ic\n",
    "                if i==1 \n",
    "                    Tb[ib,2] = 4 # 1->4 \n",
    "                    Tb[ib,3] = 2 # type 1:free 2:\n",
    "                end   \n",
    "                 if  i==I+1 \n",
    "                    Tb[ib,2] = 2 #bound type 1:free 2: wall ..  Tb[:,2] y direction\n",
    "                    Tb[ib,3] = 2\n",
    "                end\n",
    "            \n",
    "                if j==1 \n",
    "                    Tb[ib,2] = 1\n",
    "                    Tb[ib,3] = 1\n",
    "                end\n",
    "                if j==J+1\n",
    "                    Tb[ib,2] = 3 \n",
    "                    Tb[ib,3] = 1\n",
    "                end\n",
    "            end\n",
    "        end\n",
    "    end\n",
    "\n",
    "    #流场初始化 Init of the flow\n",
    "    \n",
    "    x = zeros(Float64,Ip)\n",
    "    y = zeros(Float64,Ip)\n",
    "    u = zeros(Float64,Ip)\n",
    "    v = zeros(Float64,Ip)\n",
    "    \n",
    "    ρ = zeros(Float64,Ic)\n",
    "    mz = zeros(Float64,Ic)\n",
    "    p = zeros(Float64,Ic)\n",
    "    Az= zeros(Float64,Ic)\n",
    "    σ = zeros(Float64,Ic,3)\n",
    "    \n",
    "    for i in 1:I+1\n",
    "        for j = 1:J+1\n",
    "            ip =i+(j-1)*(I+1)\n",
    "            x[ip] = (i-1)*dx\n",
    "            y[ip] = (j-1)*dy\n",
    "            u[ip] = 0\n",
    "            v[ip] = 0.0\n",
    "        end\n",
    "    end\n",
    "    \n",
    "    xz = zeros(Float64,4)\n",
    "    yz = zeros(Float64,4) \n",
    "    for i in 1:I\n",
    "        for j in 1:J\n",
    "            ic = i+(j-1)*I\n",
    "            xz[1:4] = x[Tp[ic,1:4]]\n",
    "            yz[1:4] = y[Tp[ic,1:4]]\n",
    "            A = A_z(xz,yz)\n",
    "            Az[ic] = sum(A) #[1]+A[2]+A[3]+A[4]\n",
    "          #  if i>=I/2\n",
    "               \n",
    "                p[ic] = 1.e5\n",
    "                ρ[ic] = 8930\n",
    "                mz[ic] = ρ[ic] * Az[ic]\n",
    "                σ[ic,1] = -p[ic]\n",
    "                σ[ic,2] = -p[ic]\n",
    "                σ[ic,3]= 0 \n",
    "#             else\n",
    "#                 mz[ic] = 1.0 * Az[ic]\n",
    "#                 p[ic] = 1.0\n",
    "#                 ρ[ic] = 1.0\n",
    "#             end\n",
    "        end\n",
    "    end\n",
    "    var = Var(x,y,u,v,ρ,p,σ)\n",
    "    return var,mz,I,J\n",
    "end"
   ]
  },
  {
   "cell_type": "code",
   "execution_count": 80,
   "metadata": {},
   "outputs": [
    {
     "name": "stdout",
     "output_type": "stream",
     "text": [
      "1.89753273733184e-6\n",
      "3.1539342762764637e-6\n",
      "5.0338827434729315e-6\n",
      "6.286262815781695e-6\n",
      "7.538634185142826e-6\n",
      "9.417370285475579e-6\n",
      "1.0669836096228317e-5\n",
      "1.2548744033034222e-5\n",
      "1.3801328840671643e-5\n",
      "1.5053929424875505e-5\n",
      "1.6932863026220495e-5\n",
      "1.818550906799995e-5\n",
      "2.0064458309234472e-5\n",
      "2.131709333505035e-5\n",
      "2.2569750378759563e-5\n",
      "2.444874048473567e-5\n",
      "2.5701382852252996e-5\n",
      "2.7580337957709158e-5\n",
      "2.8832984917209406e-5\n",
      "3.0085637169156982e-5\n",
      "3.196460501887529e-5\n",
      "3.3217245705678165e-5\n",
      "3.509621368280087e-5\n",
      "3.634886432712129e-5\n",
      "3.760151297808892e-5\n",
      "3.948048234022316e-5\n",
      "4.0733130324313886e-5\n",
      "4.261210774482241e-5\n",
      "4.3864757968481754e-5\n",
      "4.5117405843808e-5\n",
      "4.699637601564817e-5\n",
      "4.82490240625757e-5\n",
      "4.950167252000113e-5\n",
      "5.138064371139526e-5\n",
      "5.2633290220644624e-5\n",
      "5.451226045856058e-5\n",
      "5.5764907582727244e-5\n",
      "5.701755448410242e-5\n",
      "5.889652431465627e-5\n",
      "6.014917091458618e-5\n",
      "6.202814111643358e-5\n",
      "6.328078798479191e-5\n",
      "6.453343487462532e-5\n",
      "6.641240547518485e-5\n",
      "6.766505290408875e-5\n",
      "6.95440248468682e-5\n",
      "7.07966734510339e-5\n",
      "7.204932263598874e-5\n",
      "7.392829759895701e-5\n",
      "7.51809484360425e-5\n",
      "7.705992616089454e-5\n",
      "7.831257905451792e-5\n",
      "7.956523283198567e-5\n",
      "8.144421506391935e-5\n",
      "8.269687084557517e-5\n",
      "8.457585586326212e-5\n",
      "8.582851339446701e-5\n",
      "8.708117154508416e-5\n",
      "8.89601597338376e-5\n",
      "9.02128190116626e-5\n",
      "9.209180840039813e-5\n",
      "9.334446818268497e-5\n",
      "9.459712803789798e-5\n",
      "9.647611785351642e-5\n",
      "9.772877770503832e-5\n",
      "9.960776738419479e-5\n",
      "0.00010086042707116835\n",
      "0.0001021130866492507\n",
      "0.00010399207575994812\n",
      "0.00010524473497937289\n",
      "0.00010712372353758508\n",
      "0.00010837638241459907\n",
      "0.00010962904118547662\n",
      "0.00011150802920872188\n",
      "0.00011276068783321658\n",
      "0.00011401334640894914\n",
      "0.00011589233412104152\n",
      "0.0001171449924432269\n",
      "0.00011902397962465584\n",
      "0.00012027663751236194\n",
      "0.00012152929518510608\n",
      "0.00012340828121065246\n",
      "0.00012466093816493651\n",
      "0.00012653992284622612\n",
      "0.00012779257869892466\n",
      "0.00012904523398665047\n",
      "0.0001309242157102156\n",
      "0.00013217686882299151\n",
      "0.00013405584558219764\n",
      "0.00013530849477621533\n",
      "0.00013656114237547645\n",
      "0.00013844011079278858\n",
      "0.0001396927544301564\n",
      "0.00014157171694405266\n",
      "0.0001428243566610606\n",
      "0.00014407699480610352\n",
      "0.00014595594905376092\n",
      "0.0001472085832136919\n",
      "0.00014908753137643347\n"
     ]
    },
    {
     "data": {
      "text/plain": [
       "Var([-6.41544e-21, 0.00999969, 0.0199994, 0.0299991, 0.0399989, 0.0499987, 0.0599987, 0.0699987, 0.079999, 0.0899994  …  0.01, 0.02, 0.03, 0.04, 0.05, 0.06, 0.07, 0.08, 0.09, 0.1], [0.003, 0.003, 0.003, 0.003, 0.003, 0.003, 0.003, 0.003, 0.003, 0.003  …  1.0, 1.0, 1.0, 1.0, 1.0, 1.0, 1.0, 1.0, 1.0, 1.0], [-3.55384e-16, 0.00126263, 0.00195011, 0.00155113, 0.0021002, 0.00065951, 0.00161208, 0.00120274, 0.000158777, 0.00128656  …  5.0869e-10, -9.31551e-10, -3.57749e-9, -7.18434e-9, -1.16939e-8, -1.5029e-8, -1.62259e-8, -1.3183e-8, -5.23436e-9, -3.98691e-19], [20.0, 19.9997, 20.0006, 19.9992, 20.0008, 19.9998, 19.9988, 20.0021, 19.9986, 20.0  …  0.0, 0.0, 0.0, 0.0, 0.0, 0.0, 0.0, 0.0, 0.0, -1.07832e-8], [8974.62, 8974.63, 8974.61, 8974.64, 8974.59, 8974.67, 8974.61, 8974.61, 8974.63, 8974.63  …  8930.0, 8930.0, 8930.0, 8930.0, 8930.0, 8930.0, 8930.0, 8930.0, 8930.0, 8930.0], [7.00786e8, 7.00823e8, 7.00548e8, 7.01083e8, 7.00223e8, 7.01476e8, 7.00504e8, 7.00597e8, 7.00924e8, 7.00813e8  …  1.00002e5, 1.00002e5, 1.00002e5, 1.00002e5, 1.00002e5, 1.00002e5, 1.00002e5, 1.00002e5, 1.00002e5, 1.00002e5], [-6.87338e8 -7.29188e8 -3.96641e7; -6.87346e8 -7.29328e8 -3.97737e7; … ; -1.00004e5 -1.0e5 -0.57078; -1.00004e5 -1.00001e5 -1.69358])"
      ]
     },
     "execution_count": 80,
     "metadata": {},
     "output_type": "execute_result"
    }
   ],
   "source": [
    "var,mz,I,J=Pistonz()\n",
    "#Output1\n",
    "var = TimeSolve(var,mz)"
   ]
  },
  {
   "cell_type": "code",
   "execution_count": 81,
   "metadata": {},
   "outputs": [
    {
     "data": {
      "text/plain": [
       "([0.00502008, 0.0150198, 0.0250196, 0.0350193, 0.0450191, 0.0550188, 0.0650186, 0.0750183, 0.085018, 0.0950177  …  0.005, 0.015, 0.025, 0.035, 0.045, 0.055, 0.065, 0.075, 0.085, 0.095], [0.00797526, 0.00797526, 0.00797528, 0.00797524, 0.00797531, 0.00797521, 0.00797531, 0.00797527, 0.00797528, 0.00797531  …  0.995, 0.995, 0.995, 0.995, 0.995, 0.995, 0.995, 0.995, 0.995, 0.995])"
      ]
     },
     "execution_count": 81,
     "metadata": {},
     "output_type": "execute_result"
    }
   ],
   "source": [
    "rcell, zcell = cell_coordinate(var.r,var.z)"
   ]
  },
  {
   "cell_type": "code",
   "execution_count": 41,
   "metadata": {},
   "outputs": [
    {
     "data": {
      "image/png": "[encoded data removed]",
      "text/plain": [
       "Figure(PyObject <Figure size 640x480 with 1 Axes>)"
      ]
     },
     "metadata": {},
     "output_type": "display_data"
    },
    {
     "data": {
      "text/plain": [
       "1-element Array{PyCall.PyObject,1}:\n",
       " PyObject <mpl_toolkits.mplot3d.art3d.Line3D object at 0x7f00261cc898>"
      ]
     },
     "execution_count": 41,
     "metadata": {},
     "output_type": "execute_result"
    }
   ],
   "source": [
    "plot3D(var.r,var.z,var.v)\n",
    "#triplot()"
   ]
  },
  {
   "cell_type": "code",
   "execution_count": 445,
   "metadata": {},
   "outputs": [
    {
     "data": {
      "image/png": "[encoded data removed]",
      "text/plain": [
       "Figure(PyObject <Figure size 640x480 with 1 Axes>)"
      ]
     },
     "metadata": {},
     "output_type": "display_data"
    },
    {
     "data": {
      "text/plain": [
       "PyObject <matplotlib.tri.tricontour.TriContourSet object at 0x7f649e9f8588>"
      ]
     },
     "execution_count": 445,
     "metadata": {},
     "output_type": "execute_result"
    }
   ],
   "source": [
    "tricontourf(var.r,var.z,var.v)"
   ]
  },
  {
   "cell_type": "code",
   "execution_count": 342,
   "metadata": {},
   "outputs": [
    {
     "name": "stdout",
     "output_type": "stream",
     "text": [
      "var.u = [-1.63729e-16, -0.000339231, -0.00103502, -0.00215996, -0.00209362, -1.98177e-15, -0.553513, -0.540354, -0.528083, -0.51507, -0.502981, -0.494768, -0.541396, -0.55734, -0.573565, -0.591099, -0.606775, -0.618052, 0.227948, 0.184097, 0.140541, 0.0973573, 0.0495269, -0.00416906, 1.00851, 1.03848, 1.06852, 1.09921, 1.13693, 1.18099, 1.1355, 1.10624, 1.07644, 1.04596, 1.01744, 0.990026, 1.35043, 1.34889, 1.34802, 1.34816, 1.34832, 1.34794, 1.40056, 1.39694, 1.39166, 1.38495, 1.37805, 1.37194, 1.35646, 1.3584, 1.36112, 1.36443, 1.36736, 1.36873, 1.36, 1.36162, 1.36362, 1.36527, 1.36623, 1.36619, 1.36933, 1.3708, 1.37261, 1.37375, 1.3742, 1.37466, 1.37582, 1.37728, 1.379, 1.37993, 1.38032, 1.3811, 1.38187, 1.3829, 1.38428, 1.38494, 1.38504, 1.3852, 1.38695, 1.38848, 1.39018, 1.39115, 1.39151, 1.39174, 1.3938, 1.39441, 1.39499, 1.39518, 1.39502, 1.39442, 1.39943, 1.40025, 1.4009, 1.40113, 1.40114, 1.40066, 1.40306, 1.40367, 1.40416, 1.40431, 1.40418, 1.40364, 1.4115, 1.41161, 1.41154, 1.41121, 1.41063, 1.40965, 1.41246, 1.41287, 1.41308, 1.41313, 1.41293, 1.4124, 1.41308, 1.41345, 1.41361, 1.41373, 1.41366, 1.41336, 1.41801, 1.41807, 1.41793, 1.41786, 1.41765, 1.41727, 1.42227, 1.42208, 1.42171, 1.42152, 1.42121, 1.42082, 1.42187, 1.42187, 1.42175, 1.4219, 1.42199, 1.42206, 1.4221, 1.42192, 1.42169, 1.4218, 1.4219, 1.42203, 1.42794, 1.4275, 1.42709, 1.42703, 1.42695, 1.4269, 1.42901, 1.4285, 1.42812, 1.42812, 1.42812, 1.42819, 1.42978, 1.4293, 1.429, 1.42902, 1.42904, 1.42916, 1.42881, 1.42844, 1.42828, 1.42839, 1.42851, 1.42877, 1.4347, 1.43429, 1.43402, 1.43388, 1.43373, 1.43373, 1.43477, 1.43454, 1.43441, 1.43434, 1.43431, 1.4345, 1.43537, 1.43522, 1.43509, 1.43492, 1.43478, 1.43486, 1.4354, 1.43539, 1.43534, 1.43524, 1.43515, 1.43528, 1.4376, 1.43764, 1.43763, 1.4375, 1.43734, 1.43733, 1.44084, 1.44095, 1.44103, 1.44097, 1.44085, 1.44077, 1.43974, 1.43984, 1.43996, 1.43994, 1.4398, 1.43961, 1.44063, 1.44073, 1.44087, 1.4409, 1.44076, 1.4405, 1.4403, 1.4404, 1.44053, 1.44059, 1.44047, 1.44019, 1.44411, 1.44423, 1.44437, 1.44447, 1.44437, 1.44409, 1.44498, 1.44512, 1.44526, 1.44537, 1.44529, 1.44502, 1.44404, 1.44417, 1.44428, 1.44437, 1.44428, 1.44402, 1.44474, 1.44488, 1.44499, 1.44507, 1.44499, 1.44476, 1.4446, 1.44474, 1.44484, 1.4449, 1.44483, 1.44462, 1.44798, 1.44812, 1.44822, 1.44827, 1.44821, 1.44802, 1.44847, 1.44858, 1.44866, 1.44868, 1.44862, 1.44848, 1.44764, 1.44772, 1.44778, 1.44779, 1.44774, 1.44764, 1.44821, 1.44827, 1.4483, 1.44831, 1.44827, 1.44821, 1.44796, 1.44799, 1.44801, 1.44801, 1.44799, 1.44796, 1.45089, 1.45089, 1.4509, 1.4509, 1.45089, 1.45088, 1.4515, 1.45149, 1.45149, 1.45149, 1.45149, 1.4515, 1.45073, 1.45071, 1.4507, 1.4507, 1.45071, 1.45073, 1.45115, 1.45113, 1.45111, 1.45111, 1.45113, 1.45115, 1.45092, 1.4509, 1.45088, 1.45088, 1.4509, 1.45092, 1.45264, 1.45262, 1.45261, 1.45261, 1.45262, 1.45264, 1.45412, 1.45411, 1.4541, 1.4541, 1.45411, 1.45412, 1.45346, 1.45346, 1.45345, 1.45345, 1.45346, 1.45346, 1.45372, 1.45372, 1.45372, 1.45372, 1.45372, 1.45372, 1.45367, 1.45368, 1.45368, 1.45368, 1.45368, 1.45367, 1.45359, 1.45359, 1.4536, 1.4536, 1.45359, 1.45359, 1.45628, 1.45629, 1.45629, 1.45629, 1.45629, 1.45628, 1.45592, 1.45593, 1.45593, 1.45593, 1.45593, 1.45592, 1.45601, 1.45601, 1.45602, 1.45602, 1.45601, 1.45601, 1.45612, 1.45612, 1.45612, 1.45613, 1.45612, 1.45612, 1.45575, 1.45575, 1.45575, 1.45575, 1.45575, 1.45575, 1.45636, 1.45636, 1.45636, 1.45636, 1.45636, 1.45636, 1.4445, 1.4445, 1.4445, 1.4445, 1.4445, 1.4445, 1.3063, 1.3063, 1.3063, 1.3063, 1.3063, 1.3063, 1.1804, 1.1804, 1.1804, 1.1804, 1.1804, 1.1804, 1.10034, 1.10034, 1.10034, 1.10034, 1.10034, 1.10034, 1.0461, 1.0461, 1.0461, 1.0461, 1.0461, 1.0461, 0.979766, 0.979766, 0.979765, 0.979765, 0.979766, 0.979767, 0.891542, 0.891542, 0.891542, 0.891542, 0.891542, 0.891542, 0.785556, 0.785557, 0.785557, 0.785557, 0.785557, 0.785556, 0.668753, 0.668754, 0.668754, 0.668755, 0.668754, 0.668752, 0.549247, 0.549248, 0.549248, 0.549249, 0.549248, 0.549246, 0.434818, 0.434818, 0.434819, 0.434819, 0.434818, 0.434816, 0.331675, 0.331676, 0.331676, 0.331676, 0.331676, 0.331674, 0.243762, 0.243762, 0.243763, 0.243763, 0.243762, 0.243761, 0.172645, 0.172645, 0.172645, 0.172645, 0.172645, 0.172644, 0.117878, 0.117879, 0.117879, 0.117879, 0.117878, 0.117878, 0.0776267, 0.0776269, 0.077627, 0.077627, 0.0776267, 0.0776262, 0.0493301, 0.0493302, 0.0493303, 0.0493303, 0.0493301, 0.0493298, 0.0302676, 0.0302676, 0.0302677, 0.0302676, 0.0302675, 0.0302673, 0.0179412, 0.0179412, 0.0179412, 0.0179412, 0.0179411, 0.017941, 0.0102796, 0.0102796, 0.0102796, 0.0102796, 0.0102796, 0.0102795, 0.00569624, 0.00569625, 0.00569626, 0.00569626, 0.00569623, 0.00569619, 0.00305443, 0.00305443, 0.00305443, 0.00305443, 0.00305441, 0.00305439, 0.0015857, 0.00158571, 0.00158571, 0.00158571, 0.00158571, 0.00158569, 0.000797416, 0.000797418, 0.000797419, 0.000797418, 0.000797414, 0.000797407, 0.000388628, 0.000388629, 0.00038863, 0.00038863, 0.00038863, 0.000388627, 0.000183652, 0.00018365, 0.000183648, 0.000183646, 0.000183643, 0.000183639, 8.41958e-5, 8.41967e-5, 8.41979e-5, 8.4199e-5, 8.41999e-5, 8.42007e-5, 3.74563e-5, 3.74559e-5, 3.74555e-5, 3.74549e-5, 3.74539e-5, 3.74531e-5, 1.61737e-5, 1.61751e-5, 1.61766e-5, 1.61781e-5, 1.61796e-5, 1.61811e-5, 6.78623e-6, 6.78757e-6, 6.78896e-6, 6.7904e-6, 6.79185e-6, 6.79313e-6, 2.7555e-6, 2.75511e-6, 2.75461e-6, 2.75423e-6, 2.7537e-6, 2.7534e-6, 1.10478e-6, 1.10242e-6, 1.10021e-6, 1.09829e-6, 1.09563e-6, 1.09324e-6, 4.22818e-7, 4.24834e-7, 4.26722e-7, 4.29024e-7, 4.3129e-7, 4.33839e-7, 1.56113e-7, 1.55172e-7, 1.54149e-7, 1.53091e-7, 1.51472e-7, 1.49667e-7, 7.0489e-8, 7.15273e-8, 7.23843e-8, 7.36276e-8, 7.50658e-8, 7.63192e-8, 9.44488e-9, 1.19553e-8, 1.4404e-8, 1.66046e-8, 1.9183e-8, 2.16837e-8, -7.91584e-25, -2.24032e-10, -4.33077e-10, -6.91525e-10, -9.62238e-11, -3.42344e-24]\n"
     ]
    },
    {
     "data": {
      "text/plain": [
       "606-element Array{Float64,1}:\n",
       " -1.6372866436092676e-16\n",
       " -0.0003392307937845209 \n",
       " -0.0010350232755911197 \n",
       " -0.002159961415690488  \n",
       " -0.002093624784268034  \n",
       " -1.981769884851758e-15 \n",
       " -0.5535133193792093    \n",
       " -0.5403544097656826    \n",
       " -0.5280832664496713    \n",
       " -0.5150699134867768    \n",
       " -0.5029812338755582    \n",
       " -0.4947683706116317    \n",
       " -0.5413959943761063    \n",
       "  ⋮                     \n",
       "  9.444882773050668e-9  \n",
       "  1.1955284996236734e-8 \n",
       "  1.4404017967736131e-8 \n",
       "  1.6604582287583483e-8 \n",
       "  1.91830478657589e-8   \n",
       "  2.168373224922474e-8  \n",
       " -7.915838847811767e-25 \n",
       " -2.2403242988536943e-10\n",
       " -4.3307702885511666e-10\n",
       " -6.915252277924711e-10 \n",
       " -9.622376800382658e-11 \n",
       " -3.423441114867148e-24 "
      ]
     },
     "execution_count": 342,
     "metadata": {},
     "output_type": "execute_result"
    }
   ],
   "source": [
    "@show var.u"
   ]
  },
  {
   "cell_type": "code",
   "execution_count": 71,
   "metadata": {},
   "outputs": [
    {
     "name": "stdout",
     "output_type": "stream",
     "text": [
      "search: \u001b[0m\u001b[1mC\u001b[22m\u001b[0m\u001b[1mo\u001b[22m\u001b[0m\u001b[1mn\u001b[22m\u001b[0m\u001b[1ms\u001b[22m\u001b[0m\u001b[1mt\u001b[22m \u001b[0m\u001b[1mc\u001b[22m\u001b[0m\u001b[1mo\u001b[22m\u001b[0m\u001b[1mn\u001b[22m\u001b[0m\u001b[1ms\u001b[22m\u001b[0m\u001b[1mt\u001b[22m is\u001b[0m\u001b[1mc\u001b[22m\u001b[0m\u001b[1mo\u001b[22m\u001b[0m\u001b[1mn\u001b[22m\u001b[0m\u001b[1ms\u001b[22m\u001b[0m\u001b[1mt\u001b[22m Math\u001b[0m\u001b[1mC\u001b[22m\u001b[0m\u001b[1mo\u001b[22m\u001b[0m\u001b[1mn\u001b[22m\u001b[0m\u001b[1ms\u001b[22m\u001b[0m\u001b[1mt\u001b[22mants \u001b[0m\u001b[1mc\u001b[22m\u001b[0m\u001b[1mo\u001b[22mdeu\u001b[0m\u001b[1mn\u001b[22mit\u001b[0m\u001b[1ms\u001b[22m n\u001b[0m\u001b[1mc\u001b[22m\u001b[0m\u001b[1mo\u001b[22mdeu\u001b[0m\u001b[1mn\u001b[22mit\u001b[0m\u001b[1ms\u001b[22m \u001b[0m\u001b[1mc\u001b[22m\u001b[0m\u001b[1mo\u001b[22mu\u001b[0m\u001b[1mn\u001b[22mtline\u001b[0m\u001b[1ms\u001b[22m\n",
      "\n"
     ]
    },
    {
     "data": {
      "text/latex": [
       "No documentation found.\n",
       "\n",
       "\\section{Summary}\n",
       "\\begin{verbatim}\n",
       "struct Const <: Any\n",
       "\\end{verbatim}\n",
       "\\section{Fields}\n",
       "\\begin{verbatim}\n",
       "Y0 :: Float64\n",
       "ρ0 :: Float64\n",
       "Γ0 :: Float64\n",
       "μ  :: Float64\n",
       "a0 :: Float64\n",
       "s0 :: Float64\n",
       "\\end{verbatim}\n"
      ],
      "text/markdown": [
       "No documentation found.\n",
       "\n",
       "# Summary\n",
       "\n",
       "```\n",
       "struct Const <: Any\n",
       "```\n",
       "\n",
       "# Fields\n",
       "\n",
       "```\n",
       "Y0 :: Float64\n",
       "ρ0 :: Float64\n",
       "Γ0 :: Float64\n",
       "μ  :: Float64\n",
       "a0 :: Float64\n",
       "s0 :: Float64\n",
       "```\n"
      ],
      "text/plain": [
       "  No documentation found.\n",
       "\n",
       "\u001b[1m  Summary\u001b[22m\n",
       "\u001b[1m  ≡≡≡≡≡≡≡≡≡\u001b[22m\n",
       "\n",
       "\u001b[36m  struct Const <: Any\u001b[39m\n",
       "\n",
       "\u001b[1m  Fields\u001b[22m\n",
       "\u001b[1m  ≡≡≡≡≡≡≡≡\u001b[22m\n",
       "\n",
       "\u001b[36m  Y0 :: Float64\u001b[39m\n",
       "\u001b[36m  ρ0 :: Float64\u001b[39m\n",
       "\u001b[36m  Γ0 :: Float64\u001b[39m\n",
       "\u001b[36m  μ  :: Float64\u001b[39m\n",
       "\u001b[36m  a0 :: Float64\u001b[39m\n",
       "\u001b[36m  s0 :: Float64\u001b[39m"
      ]
     },
     "execution_count": 71,
     "metadata": {},
     "output_type": "execute_result"
    }
   ],
   "source": [
    "? Const"
   ]
  },
  {
   "cell_type": "code",
   "execution_count": 8,
   "metadata": {},
   "outputs": [
    {
     "data": {
      "text/plain": [
       "Collapse (generic function with 1 method)"
      ]
     },
     "execution_count": 8,
     "metadata": {},
     "output_type": "execute_result"
    }
   ],
   "source": [
    " function Collapse()\n",
    "\n",
    "    #global problem = prb(1.3e-4,0.3)\n",
    "     global problem = prb(5e-5,0.3)\n",
    "    \n",
    "    I = 40\n",
    "    J = 32\n",
    "    dr = 0.02/J\n",
    "    dθ = 90/I\n",
    "    \n",
    "    global   con1 = Const(3.3e8,1848,2.0,1.519e11,1.287e4,1.124)\n",
    "    \n",
    "    Ip = (I+1)*(J+1) # Number of  points\n",
    "    Ic = I*J  # number of cells\n",
    "    \n",
    "    global Tp = zeros(Int,Ic,4) #格点\n",
    "    global Tc = zeros(Int,Ip,4) #点格\n",
    "    \n",
    "    #@show Tc, Ip\n",
    "    global Tb = zeros(Int, I*2+J*2,3) #边界 \n",
    "    \n",
    "    IBL = J+1\n",
    "    IBR = J+1\n",
    "    IBU = I+1\n",
    "    IBD = I+1\n",
    "   # 点格表，格点表初始化 \n",
    "    for i in 1:I \n",
    "        for j in 1:J\n",
    "            ic = i+(j-1)*I\n",
    "            Tp[ic,1] = i + (j-1)*(I+1)\n",
    "            Tp[ic,2] = i+1 +(j-1)*(I+1)\n",
    "            Tp[ic,3]=i+1+j*(I+1)\n",
    "            Tp[ic,4]=i+j*(I+1) \n",
    "        end\n",
    "    end\n",
    "    \n",
    "    for i = 1:I+1\n",
    "        for j = 1:J+1\n",
    "            ip = i+(j-1)*(I+1)\n",
    "            Tc[ip,1] = i +(j-1)*I #(i,j)\n",
    "            Tc[ip,2] = i-1+(j-1)*I #(i-1,j)\n",
    "            Tc[ip,3] = i-1+(j-2)*I #(i-1,j-1)\n",
    "            Tc[ip,4] = i+(j-2)*I   #(i,j-1)\n",
    "            end\n",
    "        end\n",
    "    \n",
    "\n",
    "# Bound \n",
    "  ib = 0\n",
    "    for i = 1:I+1\n",
    "        for j = 1:J+1\n",
    "            if i == 1 || i== I+1 ||  j == 1 || j == J+1\n",
    "                ib += 1\n",
    "                ic =i+(j-1)*(I) \n",
    "                Tb[ib,1] = ic\n",
    "                if i==1 \n",
    "                    Tb[ib,2] = 1\n",
    "                    Tb[ib,3] = 2\n",
    "                end   \n",
    "                 if  i==I+1 \n",
    "                    Tb[ib,2] = 2 #bound type 1:free 2: wall ..  Tb[:,2] y direction\n",
    "                    Tb[ib,3] = 2\n",
    "                end\n",
    "            \n",
    "                if j==1 \n",
    "                    Tb[ib,2] = 1\n",
    "                    Tc[ip,3] = 0\n",
    "                    Tc[ip,4] = 0\n",
    "                end\n",
    "                if j==J+1\n",
    "                    Tb[ib,2] = 1\n",
    "                    Tc[ip,1] = 0\n",
    "                    Tc[ip,2] = 0\n",
    "                end\n",
    "            end\n",
    "        end\n",
    "    end\n",
    "\n",
    "    #流场初始化 Init of the flow\n",
    "    \n",
    "    x = zeros(Float64,Ip)\n",
    "    y = zeros(Float64,Ip)\n",
    "    u = zeros(Float64,Ip)\n",
    "    v = zeros(Float64,Ip)\n",
    "    \n",
    "    ρ = zeros(Float64,Ic)\n",
    "    mz = zeros(Float64,Ic)\n",
    "    p = zeros(Float64,Ic)\n",
    "    Az= zeros(Float64,Ic)\n",
    "    σ = zeros(Float64,Ic,3)\n",
    "    \n",
    "    for i in 1:I+1\n",
    "        for j = 1:J+1\n",
    "            ip =i+(j-1)*(I+1)\n",
    "            r₁ = (j-1)*dr+0.08\n",
    "            θ = 90-(i-1)*dθ\n",
    "            v₀ = 417.1\n",
    "            x[ip] = cosd(θ)*r₁\n",
    "            y[ip] = sind(θ)*r₁\n",
    "            u[ip] = -v₀*0.08/r₁ *cosd(θ)\n",
    "            v[ip] = -v₀*0.08/r₁ *sind(θ)\n",
    "        end\n",
    "    end\n",
    "    \n",
    "    xz = zeros(Float64,4)\n",
    "    yz = zeros(Float64,4) \n",
    "    for i in 1:I\n",
    "        for j in 1:J\n",
    "            ic = i+(j-1)*I\n",
    "            xz[1:4] = x[Tp[ic,1:4]]\n",
    "            yz[1:4] = y[Tp[ic,1:4]]\n",
    "            A = A_z(xz,yz)\n",
    "            Az[ic] = sum(A) #[1]+A[2]+A[3]+A[4]\n",
    "          #  if i>=I/2\n",
    "               \n",
    "                p[ic] = 1.e5\n",
    "                ρ[ic] = 1848.0\n",
    "                mz[ic] = ρ[ic] * Az[ic]\n",
    "                σ[ic,1] = -p[ic]\n",
    "                σ[ic,2] = -p[ic]\n",
    "                σ[ic,3]= 0 \n",
    "#             else\n",
    "#                 mz[ic] = 1.0 * Az[ic]\n",
    "#                 p[ic] = 1.0\n",
    "#                 ρ[ic] = 1.0\n",
    "#             end\n",
    "        end\n",
    "    end\n",
    "    var = Var(x,y,u,v,ρ,p,σ)\n",
    "    return var,mz,I,J\n",
    "end"
   ]
  },
  {
   "cell_type": "code",
   "execution_count": 170,
   "metadata": {},
   "outputs": [
    {
     "name": "stdout",
     "output_type": "stream",
     "text": [
      "5.069872948337846e-7\n",
      "1.0029394211623647e-6\n",
      "1.509907916691257e-6\n",
      "2.0058242801253917e-6\n",
      "2.5016921991587406e-6\n",
      "3.008512897607421e-6\n",
      "3.50422481237224e-6\n",
      "4.010841151022723e-6\n",
      "4.506350899653295e-6\n",
      "5.001763569430248e-6\n",
      "5.5080827698895975e-6\n",
      "6.003279637219993e-6\n",
      "6.509344029356328e-6\n",
      "7.004246113482291e-6\n",
      "7.509969962228995e-6\n",
      "8.004541726252994e-6\n",
      "8.510009981535977e-6\n",
      "9.004448770672106e-6\n",
      "9.509760557333868e-6\n",
      "1.0003888181766958e-5\n",
      "1.0508777551455481e-5\n",
      "1.1002508862369548e-5\n",
      "1.1506957152299452e-5\n",
      "1.2000197300852373e-5\n",
      "1.2504204377456656e-5\n",
      "1.30079828826561e-5\n",
      "1.3500510609729618e-5\n",
      "1.4003635674692461e-5\n",
      "1.4506444969505339e-5\n",
      "1.500893487707457e-5\n",
      "1.550022318176145e-5\n",
      "1.600217657559493e-5\n",
      "1.6503894250449706e-5\n",
      "1.7005306111726296e-5\n",
      "1.750635229184465e-5\n",
      "1.8006070456101768e-5\n",
      "1.850443690392119e-5\n",
      "1.9001555316566724e-5\n",
      "1.9508554945181923e-5\n",
      "2.0004289336963134e-5\n",
      "2.0510377520719836e-5\n",
      "2.1004705670466076e-5\n",
      "2.1508247389081566e-5\n",
      "2.2010180502734593e-5\n",
      "2.2510485137956666e-5\n",
      "2.3009134217942657e-5\n",
      "2.3506294974943212e-5\n",
      "2.400198125419246e-5\n",
      "2.4506744898951687e-5\n",
      "2.501011176107858e-5\n",
      "2.550164043063145e-5\n",
      "2.600227978031953e-5\n",
      "2.6501659558141653e-5\n",
      "2.7010254074426087e-5\n",
      "2.7502391056787296e-5\n",
      "2.8005469840848834e-5\n",
      "2.8505867769641916e-5\n",
      "2.9008722109588326e-5\n",
      "2.9500685388855187e-5\n",
      "3.0000565314781495e-5\n",
      "3.050207633746616e-5\n",
      "3.100091771233921e-5\n",
      "3.1508318556638435e-5\n",
      "3.200425959788483e-5\n",
      "3.250880279457962e-5\n",
      "3.3009754194013016e-5\n",
      "3.3505881779782694e-5\n",
      "3.400615425019891e-5\n",
      "3.450175838884755e-5\n",
      "3.5000003667677954e-5\n",
      "3.5502259673555065e-5\n"
     ]
    },
    {
     "ename": "DomainError",
     "evalue": "DomainError with -3.537735264589223e7:\nsqrt will only return a complex result if called with a complex argument. Try sqrt(Complex(x)).",
     "output_type": "error",
     "traceback": [
      "DomainError with -3.537735264589223e7:\nsqrt will only return a complex result if called with a complex argument. Try sqrt(Complex(x)).",
      "",
      "Stacktrace:",
      " [1] throw_complex_domainerror(::Symbol, ::Float64) at ./math.jl:31",
      " [2] sqrt at ./math.jl:492 [inlined]",
      " [3] sound(::Array{Float64,1}, ::Const, ::Int64) at ./In[109]:10",
      " [4] sound at ./In[109]:2 [inlined]",
      " [5] CFL(::Float64, ::Var) at ./In[21]:22",
      " [6] TimeSolve(::Var, ::Array{Float64,1}) at ./In[164]:9",
      " [7] top-level scope at In[170]:2"
     ]
    }
   ],
   "source": [
    "var,mz,I,J = Collapse()\n",
    "var = TimeSolve(var,mz)"
   ]
  },
  {
   "cell_type": "code",
   "execution_count": 159,
   "metadata": {
    "scrolled": true
   },
   "outputs": [
    {
     "data": {
      "image/png": "[encoded data removed]",
      "text/plain": [
       "Figure(PyObject <Figure size 640x480 with 1 Axes>)"
      ]
     },
     "metadata": {},
     "output_type": "display_data"
    },
    {
     "data": {
      "text/plain": [
       "2-element Array{PyCall.PyObject,1}:\n",
       " PyObject <matplotlib.lines.Line2D object at 0x7f00264988d0>\n",
       " PyObject <matplotlib.lines.Line2D object at 0x7f0026498cc0>"
      ]
     },
     "execution_count": 159,
     "metadata": {},
     "output_type": "execute_result"
    }
   ],
   "source": [
    "#scatter(var.r,var.z)\n",
    "triplot(var.r,var.z)"
   ]
  },
  {
   "cell_type": "code",
   "execution_count": 64,
   "metadata": {},
   "outputs": [
    {
     "data": {
      "text/plain": [
       "([0.08, 0.0799383, 0.0797534, 0.0794455, 0.0790151, 0.0784628, 0.0777896, 0.0769964, 0.0760845, 0.0750553  …  0.0346117, 0.0309017, 0.027144, 0.0233445, 0.019509, 0.0156434, 0.0117537, 0.00784591, 0.00392598, 0.0], [0.0, 0.00314079, 0.00627673, 0.00940299, 0.0125148, 0.0156072, 0.0186756, 0.0217152, 0.0247214, 0.0276894  …  0.0938191, 0.0951057, 0.0962455, 0.097237, 0.0980785, 0.0987688, 0.0993068, 0.0996917, 0.0999229, 0.1])"
      ]
     },
     "execution_count": 64,
     "metadata": {},
     "output_type": "execute_result"
    }
   ],
   "source": [
    "var.r,var.z"
   ]
  },
  {
   "cell_type": "code",
   "execution_count": 168,
   "metadata": {},
   "outputs": [],
   "source": [
    "using DelimitedFiles\n",
    "Output_cell(I,J,var,mz)"
   ]
  },
  {
   "cell_type": "code",
   "execution_count": 155,
   "metadata": {},
   "outputs": [
    {
     "data": {
      "text/plain": [
       "1.0"
      ]
     },
     "execution_count": 155,
     "metadata": {},
     "output_type": "execute_result"
    }
   ],
   "source": [
    "sind(90)"
   ]
  },
  {
   "cell_type": "code",
   "execution_count": 2,
   "metadata": {},
   "outputs": [
    {
     "data": {
      "text/plain": [
       "3-element Array{Float64,1}:\n",
       " 0.0\n",
       " 0.0\n",
       " 0.0"
      ]
     },
     "execution_count": 2,
     "metadata": {},
     "output_type": "execute_result"
    }
   ],
   "source": [
    "A = zeros(Float64,3)"
   ]
  },
  {
   "cell_type": "code",
   "execution_count": 4,
   "metadata": {},
   "outputs": [
    {
     "data": {
      "text/plain": [
       "0.0"
      ]
     },
     "execution_count": 4,
     "metadata": {},
     "output_type": "execute_result"
    }
   ],
   "source": [
    "A[end]"
   ]
  },
  {
   "cell_type": "code",
   "execution_count": 6,
   "metadata": {},
   "outputs": [
    {
     "name": "stdout",
     "output_type": "stream",
     "text": [
      "1\n",
      "3\n"
     ]
    }
   ],
   "source": [
    "for i in (1,3)\n",
    "    println(i)\n",
    "end"
   ]
  },
  {
   "cell_type": "code",
   "execution_count": null,
   "metadata": {},
   "outputs": [],
   "source": []
  }
 ],
 "metadata": {
  "@webio": {
   "lastCommId": null,
   "lastKernelId": null
  },
  "kernelspec": {
   "display_name": "Julia 1.1.1",
   "language": "julia",
   "name": "julia-1.1"
  },
  "language_info": {
   "file_extension": ".jl",
   "mimetype": "application/julia",
   "name": "julia",
   "version": "1.1.1"
  }
 },
 "nbformat": 4,
 "nbformat_minor": 2
}
