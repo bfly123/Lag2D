{
 "cells": [
  {
   "cell_type": "markdown",
   "metadata": {},
   "source": [
    "#  Code for 2D staggered Lagrangian method in Cartersian coordinates"
   ]
  },
  {
   "cell_type": "markdown",
   "metadata": {},
   "source": [
    "## Control equations"
   ]
  },
  {
   "cell_type": "markdown",
   "metadata": {},
   "source": [
    "一般形式下，弹塑性流体控制方程为：\n",
    "\n",
    "质量方程：\n",
    "\\begin{equation}\n",
    "  \\frac{dm}{dt}=0\n",
    "  \\end{equation}\n",
    "动量方程：\n",
    "\\begin{equation}\n",
    "  \\frac{d\\rho \\mathbf{u}}{dt}= \\nabla \\cdot  \\mathbf{\\Pi} \n",
    "\\end{equation}\n",
    "\n",
    "能量方程：\n",
    "\\begin{equation}\n",
    " \\rho \\frac{de}{dt}= \\mathbf{\\sigma} \\cdot \\mathbf{\\varepsilon}\n",
    "\\end{equation}\n",
    "\n",
    "\\section{二维控制方程}\n",
    "\n",
    "运动方程：\n",
    "\\begin{equation}\n",
    "  \\frac{d(r,z)}{dt}=(u,v)\n",
    "\\end{equation}\n",
    "\n",
    "质量守恒：\n",
    "\\begin{equation}\\label{eq:38}\n",
    "  \\frac{dm}{dt}=0\n",
    "\\end{equation}\n",
    "\n",
    "动量守恒方程：\n",
    "\\begin{equation}\\label{eq:3}\n",
    "  \\begin{array}{l}\n",
    "\t\\displaystyle \\rho \\frac{du}{dt}=\\frac{\\partial \\sigma _{rr}}{\\partial r}+ \\frac{\\partial s_{rz}}{\\partial z}\\\\[0.3cm]\n",
    "  \\displaystyle \\rho \\frac{dv}{dt}=\\frac{\\partial \\sigma _{zz}}{\\partial z}+ \\frac{\\partial s_{rz}}{\\partial r}\\\\\n",
    "  \\end{array}\n",
    "  \\end{equation}\n",
    "\n",
    "能量守恒方程：\n",
    "\\begin{equation}\n",
    "  \\begin{array}{l}\n",
    "\t\\displaystyle \\rho \\frac{de}{dt}=\\sigma _{rr}\\frac{\\partial u}{\\partial r}+\\sigma_{zz}\\frac{\\partial v}{\\partial z}+s_{rz}\\left( \\frac{\\partial u}{\\partial z}+\\frac{\\partial v}{\\partial r}\\right)\\\\[0.3cm]\n",
    "\t\\displaystyle = -p\\frac{dV}{dt}+ s_{rr}\\frac{\\partial u}{\\partial r}+s_{zz}\\frac{\\partial v}{\\partial z}+s_{rz}\\left( \\frac{\\partial u}{\\partial z}+\\frac{\\partial v}{\\partial r}\\right)\\\\\n",
    "\t\\end{array}\n",
    "\t\\end{equation}\n",
    "\n",
    "本构方程：\n",
    "\\begin{equation}\n",
    "  \\begin{array}{l}\n",
    "\t\\displaystyle \\frac{ds_{rr}}{dt}=2\\mu \\left(\\frac{\\partial u}{\\partial r}-\\frac{1}{3}\\nabla \\cdot \\vec{u} \\right) +s_{rz}\\left(\\frac{\\partial u}{\\partial z}-\\frac{\\partial v}{\\partial r}\\right)\\\\[0.3cm]\n",
    "\t\\displaystyle \\frac{ds_{zz}}{dt}=2\\mu \\left(\\frac{\\partial v}{\\partial z}-\\frac{1}{3}\\nabla \\cdot \\vec{u} \\right) -s_{rz}\\left(\\frac{\\partial u}{\\partial z}-\\frac{\\partial v}{\\partial r}\\right)\\\\[0.3cm]\n",
    "\t\\displaystyle \\frac{ds_{rz}}{dt}=\\mu \\left(\\frac{\\partial u}{\\partial r}+\\frac{\\partial v}{\\partial z}\\right) + \\frac{s_{rr}-s_{zz}}{2}\\left(\\frac{\\partial u}{\\partial z}-\\frac{\\partial v}{\\partial r}\\right)\\\\\n",
    "  \\end{array}\n",
    "  \\end{equation}\n",
    "\n",
    "Von Mises屈服条件：\n",
    "\\begin{equation}\n",
    "  \\frac{3}{2}(s_{rr}^2+s_{zz}^2+s_{\\theta \\theta}^2+2s_{xy}^2)\\le (Y^0)^2\n",
    "\\end{equation}\n",
    "\n",
    "\n",
    "\n",
    "\n",
    "\n"
   ]
  },
  {
   "cell_type": "markdown",
   "metadata": {},
   "source": [
    "$$ s_{\\theta\\theta} = - (s_{rr} +s_{zz}) $$"
   ]
  },
  {
   "cell_type": "markdown",
   "metadata": {},
   "source": [
    "一般形式下，弹塑性流体控制方程为：\n",
    "\n",
    "质量方程：\n",
    "\\begin{equation}\n",
    "  \\frac{dm}{dt}=0\n",
    "  \\end{equation}\n",
    "动量方程：\n",
    "\\begin{equation}\n",
    "  \\frac{d\\rho \\mathbf{u}}{dt}= \\nabla \\cdot  \\mathbf{\\Pi} \n",
    "\\end{equation}\n",
    "\n",
    "能量方程：\n",
    "\\begin{equation}\n",
    " \\rho \\frac{de}{dt}= \\mathbf{\\sigma} \\cdot \\mathbf{\\varepsilon}\n",
    "\\end{equation}\n",
    "\n",
    "\\section{二维控制方程}\n",
    "\n",
    "运动方程：\n",
    "\\begin{equation}\n",
    "  \\frac{d(r,z)}{dt}=(u,v)\n",
    "\\end{equation}\n",
    "\n",
    "质量守恒：\n",
    "\\begin{equation}\\label{eq:38}\n",
    "  \\frac{dm}{dt}=0\n",
    "\\end{equation}\n",
    "\n",
    "动量守恒方程：\n",
    "\\begin{equation}\\label{eq:3}\n",
    "  \\begin{array}{l}\n",
    "\t\\displaystyle \\rho \\frac{du}{dt}=\\frac{\\partial \\sigma _{rr}}{\\partial r}+ \\frac{\\partial s_{rz}}{\\partial z}\\\\[0.3cm]\n",
    "  \\displaystyle \\rho \\frac{dv}{dt}=\\frac{\\partial \\sigma _{zz}}{\\partial z}+ \\frac{\\partial s_{rz}}{\\partial r}\\\\\n",
    "  \\end{array}\n",
    "  \\end{equation}\n",
    "\n",
    "能量守恒方程：\n",
    "\\begin{equation}\n",
    "  \\begin{array}{l}\n",
    "\t\\displaystyle \\rho \\frac{de}{dt}=\\sigma _{rr}\\frac{\\partial u}{\\partial r}+\\sigma_{zz}\\frac{\\partial v}{\\partial z}+s_{rz}\\left( \\frac{\\partial u}{\\partial z}+\\frac{\\partial v}{\\partial r}\\right)\\\\[0.3cm]\n",
    "\t\\displaystyle = -p\\frac{dV}{dt}+ s_{rr}\\frac{\\partial u}{\\partial r}+s_{zz}\\frac{\\partial v}{\\partial z}+s_{rz}\\left( \\frac{\\partial u}{\\partial z}+\\frac{\\partial v}{\\partial r}\\right)\\\\\n",
    "\t\\end{array}\n",
    "\t\\end{equation}\n",
    "\n",
    "本构方程：\n",
    "\\begin{equation}\n",
    "  \\begin{array}{l}\n",
    "\t\\displaystyle \\frac{ds_{rr}}{dt}=2\\mu \\left(\\frac{\\partial u}{\\partial r}-\\frac{1}{3}\\nabla \\cdot \\vec{u} \\right) +s_{rz}\\left(\\frac{\\partial u}{\\partial z}-\\frac{\\partial v}{\\partial r}\\right)\\\\[0.3cm]\n",
    "\t\\displaystyle \\frac{ds_{zz}}{dt}=2\\mu \\left(\\frac{\\partial v}{\\partial z}-\\frac{1}{3}\\nabla \\cdot \\vec{u} \\right) -s_{rz}\\left(\\frac{\\partial u}{\\partial z}-\\frac{\\partial v}{\\partial r}\\right)\\\\[0.3cm]\n",
    "\t\\displaystyle \\frac{ds_{rz}}{dt}=\\mu \\left(\\frac{\\partial u}{\\partial r}+\\frac{\\partial v}{\\partial z}\\right) + \\frac{s_{rr}-s_{zz}}{2}\\left(\\frac{\\partial u}{\\partial z}-\\frac{\\partial v}{\\partial r}\\right)\\\\\n",
    "  \\end{array}\n",
    "  \\end{equation}\n",
    "\n",
    "Von Mises屈服条件：\n",
    "\\begin{equation}\n",
    "  \\frac{3}{2}(s_{rr}^2+s_{zz}^2+s_{\\theta \\theta}^2+2s_{xy}^2)\\le (Y^0)^2\n",
    "\\end{equation}\n",
    "\n",
    "\n",
    "\n",
    "\n",
    "\n"
   ]
  },
  {
   "cell_type": "markdown",
   "metadata": {},
   "source": [
    "## Compatible Staggered Discretization"
   ]
  },
  {
   "cell_type": "markdown",
   "metadata": {},
   "source": [
    "<img src=\"Grid.png\" width = \"800\" height = \"400\" div align=center /> "
   ]
  },
  {
   "cell_type": "markdown",
   "metadata": {},
   "source": [
    "<img src=\"cellpoint.png\" width = \"800\" height = \"400\" div align=center />"
   ]
  },
  {
   "cell_type": "markdown",
   "metadata": {},
   "source": [
    "### Quatities:\n",
    "\n",
    "On point: ($x_p$,$y_p$), ($u_p$,$v_p$)\n",
    "\n",
    "Zonal:  $V_z$, $\\rho_z$, $m_z$, $e_z$, $p_z$"
   ]
  },
  {
   "cell_type": "markdown",
   "metadata": {},
   "source": [
    "By the relation \n",
    "$$\\frac{dm_z}{dt} =0$$\n",
    "we have \n",
    "$$\\rho_z(t) = m_z/V_z(t)$$"
   ]
  },
  {
   "cell_type": "markdown",
   "metadata": {},
   "source": [
    "Also \n",
    "$$d(x_p)/dt = u_p, \\quad d(y_p)/dt = v_p$$"
   ]
  },
  {
   "cell_type": "code",
   "execution_count": 1,
   "metadata": {},
   "outputs": [],
   "source": [
    "struct Const\n",
    "    Y0 ::Float64\n",
    "    ρ0 ::Float64\n",
    "    Γ0 ::Float64\n",
    "    μ  ::Float64\n",
    "    a0 ::Float64\n",
    "    s0 ::Float64\n",
    "end\n"
   ]
  },
  {
   "cell_type": "code",
   "execution_count": 2,
   "metadata": {},
   "outputs": [],
   "source": [
    "mutable struct Var\n",
    "    r::Array{Float64,1}\n",
    "    z::Array{Float64,1}\n",
    "    u::Array{Float64,1}\n",
    "    v::Array{Float64,1}\n",
    "    ρ::Array{Float64,1}\n",
    "    p::Array{Float64,1}\n",
    "    σ::Array{Float64,2}\n",
    "end    "
   ]
  },
  {
   "cell_type": "code",
   "execution_count": 3,
   "metadata": {},
   "outputs": [],
   "source": [
    "struct prb\n",
    "    tt::Float64\n",
    "    sf::Float64\n",
    "end"
   ]
  },
  {
   "cell_type": "markdown",
   "metadata": {},
   "source": [
    "### Point mass "
   ]
  },
  {
   "cell_type": "markdown",
   "metadata": {},
   "source": [
    "Point mass $m_p$ is used to solve point momentum $\\mu_p = m_p \\bf{u}_p$ and kinetic energy $K_p = m_p \\frac{\\bf{u}_p^2}{2}$"
   ]
  },
  {
   "cell_type": "markdown",
   "metadata": {},
   "source": [
    "<img src=\"Ins.jpg\" width = \"200\" height = \"400\" div align=center /> "
   ]
  },
  {
   "cell_type": "markdown",
   "metadata": {},
   "source": [
    "$$m_p = \\sum_{z\\in Z(p)} A_z^p \\rho^p_z$$\n",
    "\n",
    "$$\\rho_z(t) = m_z/V_z(t)$$"
   ]
  },
  {
   "cell_type": "markdown",
   "metadata": {},
   "source": []
  },
  {
   "cell_type": "code",
   "execution_count": 4,
   "metadata": {},
   "outputs": [
    {
     "data": {
      "text/plain": [
       "MassAndDens (generic function with 1 method)"
      ]
     },
     "execution_count": 4,
     "metadata": {},
     "output_type": "execute_result"
    }
   ],
   "source": [
    "function MassAndDens(mz::Array{Float64,1},x::Array{Float64,1},y::Array{Float64,1})\n",
    "    \n",
    "    Ic, = size(mz)\n",
    "    Ip, = size(Tc)\n",
    "    Asbz = zeros(Float64,4)\n",
    "    ρ = zeros(Float64,Ic)\n",
    "    mp = zeros(Float64,Ip)\n",
    "    xz = zeros(Float64,4)\n",
    "    yz = zeros(Float64,4)\n",
    "    for i in 1:Ic\n",
    "        xz[1:4] = x[Tp[i,1:4]]\n",
    "        yz[1:4] = y[Tp[i,1:4]]\n",
    "        Asbz = A_z(xz,yz)\n",
    "        Az = sum(Asbz)\n",
    "        ρ[i] = mz[i]/Az\n",
    "        \n",
    "        for j = 1:4\n",
    "            ip = Tp[i,j]\n",
    "            mp[ip] = mp[ip] + Asbz[j]*ρ[i]\n",
    "        end\n",
    "    end\n",
    "   # @show mp\n",
    "    return ρ,mp   \n",
    "end"
   ]
  },
  {
   "cell_type": "markdown",
   "metadata": {},
   "source": [
    "\n",
    "$$ A_z^1 = \\frac{5A_{41}+5A_{12}+A_{23}+A_{34}}{12}$$\n",
    "$$ A_z^2 = \\frac{A_{41}+5A_{12}+5A_{23}+A_{34}}{12}$$\n",
    "$$ A_z^3 = \\frac{A_{41}+A_{12}+5A_{23}+5A_{34}}{12}$$\n",
    "$$ A_z^4 = \\frac{5A_{41}+A_{12}+A_{23}+5A_{34}}{12}$$"
   ]
  },
  {
   "cell_type": "code",
   "execution_count": 5,
   "metadata": {},
   "outputs": [
    {
     "data": {
      "text/plain": [
       "A_z (generic function with 1 method)"
      ]
     },
     "execution_count": 5,
     "metadata": {},
     "output_type": "execute_result"
    }
   ],
   "source": [
    "function A_z(xz::Array{Float64,1},yz::Array{Float64,1}) \n",
    "    A =zeros(Float64,4)\n",
    "    xc= sum(xz[i] for i in 1:4)/4\n",
    "    yc= sum(yz[i] for i in 1:4)/4\n",
    "    \n",
    "    A41 = Area3(xz[4],xz[1],xc,yz[4],yz[1],yc)\n",
    "    A12 = Area3(xz[1],xz[2],xc,yz[1],yz[2],yc)\n",
    "    A23 = Area3(xz[2],xz[3],xc,yz[2],yz[3],yc)\n",
    "    A34 = Area3(xz[3],xz[4],xc,yz[3],yz[4],yc)\n",
    "\n",
    "    A[1] = (5A41+5A12+A23+A34)/12\n",
    "    A[2] = (A41+5A12+5A23+A34)/12\n",
    "    A[3] = (A41+A12+5A23+5A34)/12\n",
    "    A[4] = (5A41+A12+A23+5A34)/12\n",
    "    \n",
    "#    A[1] = (A41+A12+A23+A34)/4\n",
    "#    A[2] = (A41+A12+A23+A34)/4\n",
    "#    A[3] = (A41+A12+A23+A34)/4\n",
    "#    A[4] = (A41+A12+A23+A34)/4\n",
    "    \n",
    "    return A\n",
    "end"
   ]
  },
  {
   "cell_type": "markdown",
   "metadata": {},
   "source": [
    "<img src=\"n12.png\" width = \"300\" height = \"300\" div align=center />"
   ]
  },
  {
   "cell_type": "markdown",
   "metadata": {},
   "source": [
    "$$\\overrightarrow{n}_{12} = \\frac{1}{L_{12}}(y_2- y_1, x_1-x_2)  $$\n",
    "\n",
    "$$\\overrightarrow{\\tau}_{12} = \\frac{1}{L_{12}}(x_2- x_1, y_2-y_1)  $$\n",
    "\n",
    "$$ \\mathbf{F_1}  = \\frac{1}{2}  \\left[ -\\sigma_{rr}(z_2-z_4)+ s_{rz}(r_2 -r_4), \\sigma_{zz}(r_2-r_4) +s_{rz}(z_4 -z_2) , \\right] $$ "
   ]
  },
  {
   "cell_type": "code",
   "execution_count": 6,
   "metadata": {},
   "outputs": [
    {
     "data": {
      "text/plain": [
       "force_zone (generic function with 1 method)"
      ]
     },
     "execution_count": 6,
     "metadata": {},
     "output_type": "execute_result"
    }
   ],
   "source": [
    "function force_zone(x,y,u,v,ρ,p,σ) #(r,z)\n",
    "   \n",
    "    Fx = zeros(Float64,4)\n",
    "    Fy = zeros(Float64,4)\n",
    "    \n",
    "    \n",
    "    Fx[1] = 0.5(σ[1]*(y[4] - y[2]) + σ[3]*(x[2] - x[4]))\n",
    "    Fy[1] = 0.5(σ[3]*(y[4] - y[2]) + σ[2]*(x[2] - x[4]))\n",
    "    \n",
    "    Fx[2] = 0.5(σ[1]*(y[1] - y[3]) + σ[3]*(x[3] - x[1]))\n",
    "    Fy[2] = 0.5(σ[3]*(y[1] - y[3]) + σ[2]*(x[3] - x[1]))\n",
    "    \n",
    "    Fx[3] = 0.5(σ[1]*(y[2] - y[4]) + σ[3]*(x[4] - x[2]))\n",
    "    Fy[3] = 0.5(σ[3]*(y[2] - y[4]) + σ[2]*(x[4] - x[2]))\n",
    "    \n",
    "    Fx[4] = 0.5(σ[1]*(y[3] - y[1]) + σ[3]*(x[1] - x[3]))\n",
    "    Fy[4] = 0.5(σ[3]*(y[3] - y[1]) + σ[2]*(x[1] - x[3]))\n",
    "      \n",
    "    ex,ey = hourglass_viscosity(x, y, u, v, ρ, p,σ) \n",
    "    \n",
    "    Fx = Fx .+ ex\n",
    "    Fy = Fy .+ ey\n",
    "    \n",
    "    return Fx,Fy\n",
    "end           "
   ]
  },
  {
   "cell_type": "markdown",
   "metadata": {},
   "source": [
    "\\begin{equation}\n",
    "  \\begin{aligned}\n",
    "\t&\\displaystyle \\rho \\frac{de}{dt}= \\mathbf{\\sigma} \\cdot \\mathbf{\\varepsilon}\\\\ \n",
    "\t&=\n",
    "\t\\sigma _{rr}\\frac{\\partial u}{\\partial r}+\\sigma_{zz}\\frac{\\partial v}{\\partial z}+\\sigma_{rz}\\left( \\frac{\\partial u}{\\partial z}+\\frac{\\partial v}{\\partial r}\\right)\n",
    "\t\\end{aligned}\n",
    "\t\\end{equation}\n",
    "    \n",
    "\\begin{equation}\n",
    "  \\begin{aligned}\n",
    "\t&\\displaystyle M \\frac{de}{dt}=  \n",
    "\\int_{\\Omega} \\sigma _{rr}\\frac{\\partial u}{\\partial r}+\\sigma_{zz}\\frac{\\partial v}{\\partial z}+\\sigma_{rz}\\left( \\frac{\\partial u}{\\partial z}+\\frac{\\partial v}{\\partial r}\\right)d\\Omega\n",
    "\t\\end{aligned}\n",
    "\t\\end{equation}\n",
    "\n",
    "\n",
    "\\begin{equation}\n",
    "  \\begin{aligned}\n",
    "\\int_{\\Omega}  \\frac{\\partial u}{\\partial r} d\\Omega&=  -\\oint_{\\partial \\omega}u dz\\\\\n",
    "  &= \\frac{1}{2} \\left((u_1-u_3)(z_2-z_4)+(u_2-u_4)(z_3-z_1)\\right)\n",
    "  \\end{aligned}\n",
    "\\end{equation}\n",
    "\n",
    "\\begin{equation}\n",
    "  \\begin{aligned}\n",
    "\\int_{\\Omega}  \\frac{\\partial u}{\\partial z} d\\Omega&= \\oint_{\\partial \\omega}u dy\\\\\n",
    "  &= -\\frac{1}{2} \\left((u_1-u_3)(r_2-r_4)+(u_2-u_4)(r_3-r_1)\\right)\n",
    "  \\end{aligned}\n",
    "\\end{equation}\n",
    "\n",
    "$$ \\frac{\\partial u}{\\partial x}  \\approx \\frac{1}{2A}((u_1-u_3)(y_2-y_4)+(u_2-u_4)(-y_1+y_3))$$ \n",
    "\n",
    "$$ \\frac{\\partial v}{\\partial y}  \\approx -\\frac{1}{2A}((v_1-v_3)(x_2-x_4)+(v_2-v_4)(-x_1+x_3))$$ "
   ]
  },
  {
   "cell_type": "markdown",
   "metadata": {},
   "source": [
    "对于节点\n",
    "$$ \\rho \\frac{d \\mathbf{u}}{dt} = - \\nabla p$$\n",
    "\n",
    "$$m_p \\frac{d\\bf{u}_p}{dt} = \\sum_{p\\in P(z)} \\bf{F}_z^p$$"
   ]
  },
  {
   "cell_type": "markdown",
   "metadata": {},
   "source": [
    "$$F_z^1 = \\mathbf{F}_1 + c\\mathbf{e}_1$$"
   ]
  },
  {
   "cell_type": "markdown",
   "metadata": {},
   "source": [
    "本构方程：\n",
    "\\begin{equation}\n",
    "  \\begin{array}{l}\n",
    "\t\\displaystyle \\frac{ds_{rr}}{dt}=2\\mu \\left(\\frac{\\partial u}{\\partial r}-\\frac{1}{3}\\nabla \\cdot \\vec{u} \\right) +s_{rz}\\left(\\frac{\\partial u}{\\partial z}-\\frac{\\partial v}{\\partial r}\\right)\\\\[0.3cm]\n",
    "\t\\displaystyle \\frac{ds_{zz}}{dt}=2\\mu \\left(\\frac{\\partial v}{\\partial z}-\\frac{1}{3}\\nabla \\cdot \\vec{u} \\right) -s_{rz}\\left(\\frac{\\partial u}{\\partial z}-\\frac{\\partial v}{\\partial r}\\right)\\\\[0.3cm]\n",
    "\t\\displaystyle \\frac{ds_{rz}}{dt}=\\mu \\left(\\frac{\\partial u}{\\partial r}+\\frac{\\partial v}{\\partial z}\\right) + \\frac{s_{rr}-s_{zz}}{2}\\left(\\frac{\\partial u}{\\partial z}-\\frac{\\partial v}{\\partial r}\\right)\\\\\n",
    "  \\end{array}\n",
    "  \\end{equation}\n",
    "\n",
    "Von Mises屈服条件：\n",
    "\\begin{equation}\n",
    "  \\frac{3}{2}(s_{rr}^2+s_{zz}^2+s_{\\theta \\theta}^2+2s_{xy}^2)\\le (Y^0)^2\n",
    "\\end{equation}\n"
   ]
  },
  {
   "cell_type": "code",
   "execution_count": 65,
   "metadata": {},
   "outputs": [
    {
     "data": {
      "text/plain": [
       "rhs (generic function with 1 method)"
      ]
     },
     "execution_count": 65,
     "metadata": {},
     "output_type": "execute_result"
    }
   ],
   "source": [
    "function rhs(var::Var)\n",
    "    μ = con1.μ\n",
    "    r,z,u,v,ρ,p,σ = var.r,var.z,var.u,var.v,var.ρ,var.p,var.σ\n",
    "    \n",
    "    Ic, = size(Tp)\n",
    "    Ip, = size(Tc)\n",
    "    rhsu = zeros(Float64,Ip)\n",
    "    rhsv = zeros(Float64,Ip) \n",
    "    rhse = zeros(Float64,Ic)\n",
    "    rhss = zeros(Float64,Ic,3)\n",
    "    \n",
    "    rcell = zeros(Float64,4)\n",
    "    zcell = zeros(Float64,4)\n",
    "    ucell = zeros(Float64,4)\n",
    "    vcell = zeros(Float64,4)\n",
    "    rcell = zeros(Float64,4)\n",
    "    zcell = zeros(Float64,4)\n",
    "    for i in 1:Ic\n",
    "        for j =1:4\n",
    "            rcell[j] = r[Tp[i,j]]\n",
    "            zcell[j] = z[Tp[i,j]]\n",
    "            ucell[j] = u[Tp[i,j]]\n",
    "            vcell[j] = v[Tp[i,j]]\n",
    "        end\n",
    "        Az = sum(A_z(rcell,zcell))\n",
    "        Fx,Fy = force_zone(rcell,zcell,ucell,vcell,ρ[i],p[i],σ[i,1:3])   \n",
    "        ∂u_∂r,∂u_∂z = ∂uv(rcell,zcell, ucell)\n",
    "        ∂v_∂r,∂v_∂z = ∂uv(rcell,zcell, vcell)\n",
    "        rhse[i] = σ[i,1]*∂u_∂r + σ[i,2]*∂v_∂z+σ[i,3]*(∂u_∂z + ∂v_∂r)\n",
    "        for j = 1:4\n",
    "            ip = Tp[i,j]\n",
    "            rhsu[ip] +=  Fx[j]\n",
    "            rhsv[ip] +=  Fy[j]\n",
    "        end  \n",
    "        ∇u = ∂u_∂r + ∂v_∂z\n",
    "    \n",
    "        rhss[i,1] =  (2μ*(∂u_∂r - 1/3*∇u) + σ[i,3]*(∂u_∂z - ∂v_∂r)) ./Az\n",
    "        rhss[i,2] =  (2μ*(∂v_∂z - 1/3*∇u) - σ[i,3]*(∂u_∂z - ∂v_∂r)) ./Az\n",
    "        rhss[i,3] =   (μ*∇u  +   (σ[i,1] - σ[i,2])*(∂u_∂z - ∂v_∂r)) ./Az     \n",
    "        \n",
    "    end\n",
    "    \n",
    "    \n",
    "    return rhse, rhsu,rhsv,rhss\n",
    "\n",
    "end     "
   ]
  },
  {
   "cell_type": "markdown",
   "metadata": {},
   "source": [
    "$$ \\mathbf{S} = \\mathbf{S} \\times \\text{min} \\left(1,Y_0/\\sqrt{\\frac{3}{2}\\mathbf{S}:\\mathbf{S}}\\right)$$"
   ]
  },
  {
   "cell_type": "code",
   "execution_count": 85,
   "metadata": {},
   "outputs": [
    {
     "data": {
      "text/plain": [
       "yield_s! (generic function with 1 method)"
      ]
     },
     "execution_count": 85,
     "metadata": {},
     "output_type": "execute_result"
    }
   ],
   "source": [
    "function yield_s!(s,con)\n",
    "    Y0 = con.Y0\n",
    "    sums = s[1]^2 +s[2]^2 +2*s[3]^2\n",
    "    s .= s * min(1,Y0/√(3/2sums))\n",
    "    return s\n",
    "end"
   ]
  },
  {
   "cell_type": "code",
   "execution_count": 69,
   "metadata": {},
   "outputs": [
    {
     "data": {
      "text/plain": [
       "predictor_corrector2nd (generic function with 1 method)"
      ]
     },
     "execution_count": 69,
     "metadata": {},
     "output_type": "execute_result"
    }
   ],
   "source": [
    "function predictor_corrector2nd(dt,var::Var,mz)\n",
    "    r,z,u,v,ρ,p,σ = var.r,var.z,var.u,var.v,var.ρ,var.p,var.σ\n",
    "    \n",
    "    Ip, = size(u)\n",
    "    Ic, = size(p)\n",
    "    \n",
    "    ρ,mp = MassAndDens(mz,r,z)\n",
    "    e = p_to_e(ρ, p,con1)  \n",
    "    p = artificial_viscosity!(var)\n",
    "    s = zeros(Float64,Ic,3)\n",
    "    \n",
    "    p = e_to_p(ρ, e, con1)\n",
    " #   @show p \"predictor\"\n",
    "   \n",
    "                \n",
    "    s[:,1] = σ[:,1] .+ p[:]\n",
    "    s[:,2] = σ[:,2] .+ p[:]\n",
    "    s[:,3] = σ[:,3]\n",
    "    \n",
    "    rhse, rhsu,rhsv,rhss = rhs(var)\n",
    "    rhsu,rhsv = Bound(rhsu,rhsv,var)\n",
    "    \n",
    "    r₀ =  r + dt*u\n",
    "    z₀  = z + dt*v\n",
    "    u₀  = u + dt*(rhsu ./ mp)\n",
    "    v₀  = v + dt*(rhsv ./ mp)\n",
    "    e₀  = e + dt*(rhse ./ mz) \n",
    "    s₀  = s + dt*rhss\n",
    "    \n",
    "    s₀ = yield_s!(s₀,con1)\n",
    "    \n",
    "    ρ,mp = MassAndDens(mz,r₀,z₀)\n",
    "    p = e_to_p(ρ,e₀,con1)   \n",
    "     \n",
    "    p = artificial_viscosity!(var) \n",
    "    \n",
    "    σ[:,1] = s₀[:,1] .- p[:]\n",
    "    σ[:,2] = s₀[:,2] .- p[:]\n",
    "    σ[:,3] = s₀[:,3]\n",
    "    var = Var(r₀, z₀, u₀, v₀, ρ, p, σ)\n",
    "    rhse₀,rhsu₀,rhsv₀,rhss₀ = rhs(var)\n",
    "    rhsu₀,rhsv₀ = Bound(rhsu₀,rhsv₀,var)\n",
    "    \n",
    "    r +=  0.5dt*(u + u₀)\n",
    "    z +=  0.5dt*(v + v₀)\n",
    "    u +=  0.5dt*(rhsu + rhsu₀) ./ mp\n",
    "    v +=  0.5dt*(rhsv + rhsv₀) ./ mp\n",
    "    e +=  0.5dt*(rhse + rhse₀) ./ mz\n",
    "    s  += 0.5dt*(rhss + rhss₀)\n",
    "    \n",
    "    s = yield_s!(s,con1)\n",
    "    \n",
    "    ρ,mp = MassAndDens(mz,r,z)\n",
    "    p = e_to_p(ρ,e,con1) \n",
    "    σ[:,1] = s[:,1] .- p[:]\n",
    "    σ[:,2] = s[:,2] .- p[:]\n",
    "    σ[:,3] = s[:,3]\n",
    "    \n",
    "    var = Var(r,z,u,v,ρ,p,σ) \n",
    "    return var\n",
    "end"
   ]
  },
  {
   "cell_type": "raw",
   "metadata": {},
   "source": []
  },
  {
   "cell_type": "code",
   "execution_count": 10,
   "metadata": {},
   "outputs": [
    {
     "data": {
      "text/plain": [
       "fηη (generic function with 1 method)"
      ]
     },
     "execution_count": 10,
     "metadata": {},
     "output_type": "execute_result"
    }
   ],
   "source": [
    "function fη(ρ,c::Const)\n",
    "    η = ρ/c.ρ0\n",
    "    fη=(η .-1.0) .* (η .-c.Γ0*(η .-1.0)/2.0) ./ (η .-c.s0*(η .-1)) .^2\n",
    "end\n",
    "\n",
    "function fηη(ρ,c::Const)\n",
    "    η = ρ/c.ρ0\n",
    "    fηη=(η .+(c.s0-c.Γ0) .* (η .-1)) ./(η .-c.s0*(η .- 1)) .^3\n",
    "end"
   ]
  },
  {
   "cell_type": "code",
   "execution_count": 11,
   "metadata": {},
   "outputs": [
    {
     "data": {
      "text/plain": [
       "Euler1st (generic function with 1 method)"
      ]
     },
     "execution_count": 11,
     "metadata": {},
     "output_type": "execute_result"
    }
   ],
   "source": [
    "function Euler1st(dt,mz,p,var::Var)\n",
    "    r,z,u,v,ρ,σ = var.r,var.z,var.u,var.v,var.ρ,var.σ\n",
    "    Ip, = size(u)\n",
    "    Ic, = size(p)\n",
    "    \n",
    "    ρ,mp = MassAndDens(mz,r,z)\n",
    "  \n",
    "     e = p_to_e(p, ρ,con1)\n",
    "     \n",
    "     p = artificial_viscosity!(p,var)\n",
    "        \n",
    "     σ[:,1] = s[:,1] .- p[:]\n",
    "     σ[:,2] = s[:,2] .- p[:]\n",
    "     σ[:,3] = s[:,3]\n",
    "    \n",
    "     rhse, rhsu,rhsv,rhss = Rhs(r,z,u, v,ρ, σ)\n",
    "    \n",
    "     rhsu,rhsv = Bound(rhsu,rhsv,r,z,u, v,ρ, p)\n",
    "    \n",
    "    x  +=  dt*u\n",
    "    y  +=  dt*v\n",
    "    u  += dt*(rhsu ./ mp)\n",
    "    v  += dt*(rhsv ./ mp)\n",
    "    e  += dt*(rhse ./ mz)\n",
    "    s  += dt*(rhss ./ mz)\n",
    "\n",
    "    ρ,mp = MassAndDens(mz,r,z)\n",
    "    \n",
    "    p = eTop(e, ρ,con1)\n",
    "\n",
    "    return u,v,x,y,p,ρ\n",
    "end\n"
   ]
  },
  {
   "cell_type": "code",
   "execution_count": 12,
   "metadata": {},
   "outputs": [
    {
     "data": {
      "text/plain": [
       "Bound (generic function with 1 method)"
      ]
     },
     "execution_count": 12,
     "metadata": {},
     "output_type": "execute_result"
    }
   ],
   "source": [
    "function Bound(rhsu,rhsv,var)\n",
    "    Ip, = size(Tc)\n",
    "    Ib, = size(Tb)\n",
    "   \n",
    "    r,z,u,v,ρ,p,σ = var.r,var.z,var.u,var.v,var.ρ,var.p,var.σ\n",
    "    rcell = zeros(Float64,4)\n",
    "    zcell = zeros(Float64,4)\n",
    "    ucell = zeros(Float64,4)\n",
    "    vcell = zeros(Float64,4)\n",
    "    ip1 = zeros(Int,4)\n",
    "    \n",
    "    for i in 1:Ib\n",
    "        ip = Tb[i,1]\n",
    "    #    @show ip\n",
    "        for j = 1:4\n",
    "            ic = Tc[ip,j]\n",
    "            if ic != 0\n",
    "                ip1 = Tp[ic,1:4]\n",
    "                rcell[1:4] = r[ip1]\n",
    "                zcell[1:4] = z[ip1]\n",
    "                ucell[1:4] = u[ip1]\n",
    "                vcell[1:4] = v[ip1]\n",
    "                \n",
    "                if Tb[i,2] ==1\n",
    "                    Fx,Fy = F_zB(rcell,zcell,ucell,vcell,ρ[ic],p[ic],σ[ic,1:3],j,1)\n",
    "                    rhsu[ip] -=  Fx\n",
    "                    rhsv[ip] -= Fy \n",
    "                   # mp[ip] *= 2.0\n",
    "                elseif Tb[i,2] == 2  #boundary in y\n",
    "                    Fx,Fy = F_zB(rcell,zcell,ucell,vcell,ρ[ic],p[ic],σ[ic,1:3],j,1)\n",
    "                    rhsu[ip] -= Fx\n",
    "                    rhsv[ip] = 0\n",
    "                    v[ip] = 0\n",
    "                end\n",
    "                if Tb[i,3] ==1\n",
    "                    Fx,Fy = F_zB(rcell,zcell,ucell,vcell,ρ[ic],p[ic],σ[ic,1:3],j,2)\n",
    "                    rhsu[ip] -= Fx\n",
    "                    rhsv[ip] -= Fy\n",
    "                   # mp[ip] *= 2.0\n",
    "                    \n",
    "                elseif Tb[i,3] ==2  #boundary in x\n",
    "                   Fx,Fy = F_zB(rcell,zcell,ucell,vcell,ρ[ic],p[ic],σ[ic,1:3],j,2)\n",
    "                    rhsu[ip]  = 0 \n",
    "                    rhsv[ip] -= Fy\n",
    "                   u[ip]  = 0\n",
    "                elseif Tb[i,3] ==3  #boundary in x\n",
    "                   Fx,Fy = F_zB(rcell,zcell,ucell,vcell,ρ[ic],p[ic],σ[ic,1:3],j,2)\n",
    "                    rhsu[ip]  -= Fx \n",
    "                    rhsv[ip] -= Fy\n",
    "                   u[ip]  = 20\n",
    "                 end\n",
    "            end\n",
    "        end\n",
    "    end\n",
    "    return rhsu, rhsv\n",
    "end  "
   ]
  },
  {
   "cell_type": "markdown",
   "metadata": {},
   "source": [
    "### Boundary force\n",
    "\n",
    "If one edge of a cell is a free boundary, then $f$ on the points is zero. As we have add it in RHs(), we need to remove it by resolve it again. Different from RHs(), at every point of a cell the force is composited by two parts on different edges. This is distinguished by $k$ when $k = 1$ the boundary is on y direction, forces on 12 and 34 boundary must be subtracted. When $ k =2$ the boundary is on x direction, subtract forces on 41, 23. "
   ]
  },
  {
   "cell_type": "code",
   "execution_count": 97,
   "metadata": {},
   "outputs": [
    {
     "data": {
      "text/plain": [
       "F_zB (generic function with 1 method)"
      ]
     },
     "execution_count": 97,
     "metadata": {},
     "output_type": "execute_result"
    }
   ],
   "source": [
    "function F_zB(x,y,u,v,ρ,p,σ,j::Int,k::Int)\n",
    "    fx = 0.0\n",
    "    fy = 0.0      \n",
    "    \n",
    "  #  ex,ey = hourglass_viscosity(x, y, u, v, ρ, p)\n",
    "    Fx,Fy = force_zone(x, y, u, v, ρ,p, σ) \n",
    "    \n",
    "    if k==1 # y direction \n",
    "        if j == 1  || j == 2 #Point 1\n",
    "            nx = y[2] -y[1]\n",
    "            ny = x[1]- x[2]\n",
    "        elseif j == 3 || j ==4\n",
    "            nx = y[4]-y[3]\n",
    "            ny = -x[4]+x[3]\n",
    "        end       \n",
    "        \n",
    "    elseif k == 2 \n",
    "        if j == 1  || j == 4\n",
    "            nx = y[1]-y[4]\n",
    "            ny =  -x[1]+x[4]      \n",
    "        elseif j == 2 || j == 3\n",
    "            nx = y[3]-y[2]\n",
    "            ny = -x[3]+x[2]\n",
    "        end\n",
    "    end\n",
    "    \n",
    "     f = Fx[j] *nx/(nx^2 +ny^2) + Fy[j]*ny/(nx^2 +ny^2)   \n",
    "     fx = f*nx \n",
    "     fy = f*ny\n",
    " \n",
    "    return fx,fy\n",
    "    end           "
   ]
  },
  {
   "cell_type": "markdown",
   "metadata": {},
   "source": [
    "### EOS \n",
    "$$ e = \\frac{p}{(\\gamma-1)\\rho}$$"
   ]
  },
  {
   "cell_type": "code",
   "execution_count": 14,
   "metadata": {},
   "outputs": [
    {
     "data": {
      "text/plain": [
       "e_to_p (generic function with 1 method)"
      ]
     },
     "execution_count": 14,
     "metadata": {},
     "output_type": "execute_result"
    }
   ],
   "source": [
    "function p_to_e(ρ,p,con)\n",
    "    c=con\n",
    "    ei = (p .- c.ρ0*c.a0^2*fη(ρ,c))/(c.ρ0*c.Γ0)\n",
    "    return ei\n",
    "end\n",
    "function e_to_p(ρ,ei,con::Const)\n",
    "    c=con\n",
    "    p = c.ρ0*c.Γ0*ei .+ c.ρ0*c.a0^2*fη(ρ,c)\n",
    "    return p\n",
    "end"
   ]
  },
  {
   "cell_type": "code",
   "execution_count": 32,
   "metadata": {},
   "outputs": [
    {
     "data": {
      "text/plain": [
       "2-element Array{Float64,1}:\n",
       " 1.0\n",
       " 1.0"
      ]
     },
     "execution_count": 32,
     "metadata": {},
     "output_type": "execute_result"
    }
   ],
   "source": [
    "p = [1.0,1.0]\n",
    "ρ = [1.0,1.0]\n",
    "\n",
    "ei = p_to_e(ρ,p,con1)\n",
    "p = e_to_p(ρ,ei,con1)"
   ]
  },
  {
   "cell_type": "code",
   "execution_count": 15,
   "metadata": {},
   "outputs": [
    {
     "data": {
      "text/plain": [
       "CFL (generic function with 1 method)"
      ]
     },
     "execution_count": 15,
     "metadata": {},
     "output_type": "execute_result"
    }
   ],
   "source": [
    "function CFL(SF,var)\n",
    "    r,z,u,v,ρ,p,σ = var.r,var.z,var.u,var.v,var.ρ,var.p,var.σ\n",
    "    Ic, = size(ρ)\n",
    "    cflmin = 1.e9\n",
    "      cfl = 0 \n",
    "    for i in 1:Ic\n",
    "        cfl =0\n",
    "        u2max = 0\n",
    "        u2=0.0\n",
    "        for j = 1:4\n",
    "            ip = Tp[i,j]\n",
    "            u2 = u[ip]^2+v[ip]^2\n",
    "            if u2 > u2max ; u2max = u2; end\n",
    "        end\n",
    "        \n",
    "        dlmin = (r[Tp[i,4]] - r[Tp[i,1]])^2+(z[Tp[i,4]]-z[Tp[i,1]])^2\n",
    "       \n",
    "        for j=1:3\n",
    "            dl= (r[Tp[i,j+1]] - r[Tp[i,j]])^2+(z[Tp[i,j+1]]-z[Tp[i,j]])^2\n",
    "            if dl < dlmin; dlmin=dl; end\n",
    "        end\n",
    "        c = sound([ρ[i],u[i],p[i],min(σ[i,1]+p[i],σ[i,2]+p[i])],con1)\n",
    "        cfl = √(dlmin)/(√(u2max)+c)\n",
    "        if cfl < cflmin; cflmin = cfl; end\n",
    "    end\n",
    " #   @show cflmin\n",
    "    dt = cflmin*SF\n",
    "    return dt\n",
    "end \n",
    "        "
   ]
  },
  {
   "cell_type": "code",
   "execution_count": 16,
   "metadata": {},
   "outputs": [
    {
     "data": {
      "text/plain": [
       "sound (generic function with 2 methods)"
      ]
     },
     "execution_count": 16,
     "metadata": {},
     "output_type": "execute_result"
    }
   ],
   "source": [
    "function sound(uo::Array{Float64,1},con::Const,EoP::Int=1)\n",
    "    a0,ρ0,Γ0,Y0,μ  = con.a0,con.ρ0,con.Γ0,con.Y0,con.μ\n",
    "    ρ,uu,p,sxx   = uo[1:4]\n",
    "    a2  = a0^2*fηη(ρ,con)+p/ρ^2*ρ0*Γ0\n",
    "    if EoP == 2\n",
    "        c=sqrt(a2-ρ0/ρ^2*Γ0*sxx)\n",
    "        return c\n",
    "    else\n",
    "        c=sqrt(a2-ρ0/ρ^2*Γ0*sxx+4.0/3*μ/ρ)\n",
    "        return c\n",
    "    end\n",
    "end"
   ]
  },
  {
   "cell_type": "code",
   "execution_count": 116,
   "metadata": {},
   "outputs": [
    {
     "data": {
      "text/plain": [
       "TimeSolve (generic function with 1 method)"
      ]
     },
     "execution_count": 116,
     "metadata": {},
     "output_type": "execute_result"
    }
   ],
   "source": [
    "function TimeSolve(var,mz)\n",
    "    \n",
    "   # r,z,u,v,ρ,σ = var.r,var.z,var.u,var.v,var.ρ,var.σ\n",
    "    tt= problem.tt\n",
    "    sf =problem.sf\n",
    "    t= 0.0\n",
    "    t₁ = tt/100\n",
    "    t₂ = t₁\n",
    " #   while t<tt   \n",
    "for i in 1:100\n",
    "        dt=CFL(sf,var)\n",
    " #       @show dt\n",
    "        if t+dt>tt\n",
    "           dt = tt-t\n",
    "        end\n",
    "        \n",
    "        var = predictor_corrector2nd(dt,var,mz)\n",
    "        t += dt\n",
    "        if t > t₁\n",
    "            println(t)\n",
    "            t₁ += t₂\n",
    "        end\n",
    "    end\n",
    "    return var\n",
    "end"
   ]
  },
  {
   "cell_type": "markdown",
   "metadata": {},
   "source": [
    "## Artificial Viscosity \n",
    "\n",
    "Wilkins（1980） use the strain rate along the direction of cell acceleration to construct the artificial viscosity \n",
    "$$\\frac{ds}{dt} = \\frac{\\partial u}{\\partial x} \\text{cos}^2 \\alpha + \\frac{\\partial v}{\\partial y} \\text{sin}^2\\alpha +(\\frac{\\partial u}{\\partial y} + \\frac{\\partial v}{\\partial x})\\text{sin} \\alpha \\text{cos} \\alpha$$\n"
   ]
  },
  {
   "cell_type": "markdown",
   "metadata": {},
   "source": [
    "Then the artificial viscosity can be written as\n",
    "$$ q_w = \\left\\{ \\begin{align}\n",
    "l_0^2 \\rho \\left( \\frac{ds}{dt} \\right)^2 +  l_L\\rho c \\left|\\frac{ds}{dt}\\right|, \\quad \\text{if}  \\quad \\frac{ds}{dt}< 0,\\\\\n",
    "0, \\quad \\text{if} \\quad \\frac{ds}{dt}\\ge 0. \\\\\n",
    "\\end{align}\n",
    "\\right.\n",
    "$$\n",
    "where $l_0 = a_0L$, $l_L = a_L L$, $a_0 \\approx 2$, $a_L \\approx 1$ and $c$ is the sonic speed.\n",
    "\n",
    "$L$ is the reference length, and constructed as\n",
    "$$L = \\frac{2A}{d_1 + d_2 +d_3 +d_4} $$\n"
   ]
  },
  {
   "cell_type": "markdown",
   "metadata": {},
   "source": [
    "<img src=\"L1.png\" width = \"400\" height = \"300\" div align=center />"
   ]
  },
  {
   "cell_type": "code",
   "execution_count": 19,
   "metadata": {},
   "outputs": [
    {
     "data": {
      "text/plain": [
       "artificial_viscosity_c! (generic function with 1 method)"
      ]
     },
     "execution_count": 19,
     "metadata": {},
     "output_type": "execute_result"
    }
   ],
   "source": [
    "function artificial_viscosity_c!(x,y,u,v,ρ,p,σ)\n",
    "    xc = sum(x[i] for i in 1:4)/4\n",
    "    yc = sum(y[i] for i in 1:4)/4\n",
    "    \n",
    "    ∂u_∂x,tmp = ∂uv(x,y,u)\n",
    "    tmp,∂v_∂y = ∂uv(x,y,v)\n",
    "    c = sound([ρ,0.0,p,min(p+σ[1],p+σ[2])],con1)\n",
    "    Lmax = max(√((x[3] - x[1])^2+(y[3] - y[1])^2) ,√((x[2] - x[4])^2+(y[2] - y[4])^2) )  \n",
    "    A = area_quadrangle(x, y)\n",
    "    L = A/Lmax \n",
    "\n",
    "    if ∂u_∂x + ∂v_∂y> 0\n",
    "        q = 0\n",
    "    else\n",
    "        q = 0.6ρ*L*c*(abs(∂u_∂x+∂v_∂y))/A +2.0L^2*ρ*((∂u_∂x+∂v_∂y)^2)/A^2 \n",
    "    end\n",
    "    return p+q\n",
    "end"
   ]
  },
  {
   "cell_type": "markdown",
   "metadata": {},
   "source": [
    "$$b_2 \\rho Lc \\frac{\\partial u}{\\partial x} - b_{12}\\rho L^2 \\left(\\frac{\\partial u}{\\partial x}\\right)^2$$"
   ]
  },
  {
   "cell_type": "code",
   "execution_count": 20,
   "metadata": {},
   "outputs": [
    {
     "data": {
      "text/plain": [
       "artificial_viscosity! (generic function with 1 method)"
      ]
     },
     "execution_count": 20,
     "metadata": {},
     "output_type": "execute_result"
    }
   ],
   "source": [
    "function artificial_viscosity!(var)\n",
    "    I, = size(Tp)\n",
    "    r,z,u,v,ρ,p,σ = var.r,var.z,var.u,var.v,var.ρ,var.p,var.σ\n",
    "    rcell = zeros(Float64,4)\n",
    "    zcell = zeros(Float64,4)\n",
    "    ucell = zeros(Float64,4)\n",
    "    vcell = zeros(Float64,4)\n",
    "   \n",
    "    for i in 1:I\n",
    "        for j in 1:4\n",
    "            ip = Tp[i,j]\n",
    "            rcell[j] = r[ip]\n",
    "            zcell[j] = z[ip]\n",
    "            ucell[j] = u[ip]\n",
    "            vcell[j] = v[ip]\n",
    "        end\n",
    "        p[i] = artificial_viscosity_c!(rcell,zcell,ucell,vcell,ρ[i],p[i],σ[i,1:2])\n",
    "    end\n",
    "    \n",
    "        return p\n",
    "        \n",
    "    end       "
   ]
  },
  {
   "cell_type": "code",
   "execution_count": 21,
   "metadata": {},
   "outputs": [
    {
     "data": {
      "text/plain": [
       "l_viscosity (generic function with 1 method)"
      ]
     },
     "execution_count": 21,
     "metadata": {},
     "output_type": "execute_result"
    }
   ],
   "source": [
    "function l_viscosity(x,y,α)\n",
    "    xc = sum(x)/4; yc = sum(y)/4\n",
    "    d = zeros(Float64,4)\n",
    "    for i in 1:4\n",
    "    d[i] = distance(x[i],y[i],xc,yc,α)\n",
    "    end\n",
    "    A = A_z(x, y)\n",
    "    L = 2sum(A)/sum(d)\n",
    "    return L\n",
    "end"
   ]
  },
  {
   "cell_type": "markdown",
   "metadata": {},
   "source": [
    "#### distance from  Point to line \n",
    "Line: $$ (xc -cos \\alpha )(x-xc) = (yc-sin \\alpha)(y-yc)$$\n",
    "point: $x,y$"
   ]
  },
  {
   "cell_type": "code",
   "execution_count": 22,
   "metadata": {},
   "outputs": [
    {
     "data": {
      "text/plain": [
       "distance (generic function with 1 method)"
      ]
     },
     "execution_count": 22,
     "metadata": {},
     "output_type": "execute_result"
    }
   ],
   "source": [
    "function distance(x,y,xc,yc,α)\n",
    "    d = abs((xc - cosd(α)) * (x .-xc)- (yc-sind(α))*(y .- yc))/√((xc-cosd(α))^2+(yc-sind(α))^2)\n",
    "    return d\n",
    "end"
   ]
  },
  {
   "cell_type": "markdown",
   "metadata": {},
   "source": [
    "### 沙漏粘性 Hourglass"
   ]
  },
  {
   "cell_type": "markdown",
   "metadata": {},
   "source": [
    "$$ \\text{hg}_x = u_1 -u_2 + u_3 - u_4$$ \n",
    "$$ \\text{hg}_x = v_1 -v_2 + v_3 - v_4$$ \n",
    "\n",
    "$$ e_{1x} = -\\frac{1}{4}q\\rho c\\sqrt{A}\\text{hg}_x $$\n",
    "$$ e_{1y} = -\\frac{1}{4}q\\rho c\\sqrt{A}\\text{hg}_y $$\n",
    "\n",
    "$$ e_{2x} = \\frac{1}{4}q\\rho c\\sqrt{A}\\text{hg}_x $$\n",
    "$$ e_{2y} = \\frac{1}{4}q\\rho c\\sqrt{A}\\text{hg}_y $$\n",
    "\n",
    "$$ e_{3x} = -\\frac{1}{4}q\\rho c\\sqrt{A}\\text{hg}_x $$\n",
    "$$ e_{3y} = -\\frac{1}{4}q\\rho c\\sqrt{A}\\text{hg}_y $$\n",
    "\n",
    "$$ e_{4x} = \\frac{1}{4}q\\rho c\\sqrt{A}\\text{hg}_x $$\n",
    "$$ e_{4y} = \\frac{1}{4}q\\rho c\\sqrt{A}\\text{hg}_y $$"
   ]
  },
  {
   "cell_type": "code",
   "execution_count": 23,
   "metadata": {},
   "outputs": [
    {
     "data": {
      "text/plain": [
       "hourglass_viscosity (generic function with 1 method)"
      ]
     },
     "execution_count": 23,
     "metadata": {},
     "output_type": "execute_result"
    }
   ],
   "source": [
    "function hourglass_viscosity(x,y,u,v,ρ,p,σ)\n",
    "    hgx = u[1] - u[2] + u[3] -u[4]\n",
    "    hgy = v[1] - v[2] + v[3] -v[4]\n",
    "    \n",
    "    ex =zeros(Float64,4)\n",
    "    ey =zeros(Float64,4)\n",
    "    A = area_quadrangle(x,y)\n",
    "    c = sound([ρ,0.0,p,min(p+σ[1],p+σ[2])], con1)\n",
    " #   @show c\n",
    "    q = 0.6 # coefficient of hourglass viscosity 0.01 - 0.5 ?\n",
    "    ex[1] = -0.25q*ρ*c*√(A)*hgx\n",
    "    ey[1] = -0.25q*ρ*c*√(A)*hgy\n",
    "    \n",
    "    ex[2] = -ex[1]\n",
    "    ey[2] = -ey[1]\n",
    "    \n",
    "    ex[3] = ex[1]\n",
    "    ey[3] = ey[1]\n",
    "    \n",
    "    ex[4] = ex[2]\n",
    "    ey[4] = ey[2]\n",
    "    \n",
    " #  ex .= 0\n",
    "#    ey .= 0\n",
    " #   @show ex,ey\n",
    "    return ex, ey\n",
    "end"
   ]
  },
  {
   "cell_type": "code",
   "execution_count": 24,
   "metadata": {},
   "outputs": [
    {
     "data": {
      "text/plain": [
       "area_quadrangle (generic function with 1 method)"
      ]
     },
     "execution_count": 24,
     "metadata": {},
     "output_type": "execute_result"
    }
   ],
   "source": [
    "function area_quadrangle(x::Array{Float64,1},y::Array{Float64,1}) \n",
    "   \n",
    "    xc= sum(x[i] for i in 1:4)/4\n",
    "    yc= sum(y[i] for i in 1:4)/4\n",
    "    \n",
    "    A41 = Area3(x[4],x[1],xc,y[4],y[1],yc)\n",
    "    A12 = Area3(x[1],x[2],xc,y[1],y[2],yc)\n",
    "    A23 = Area3(x[2],x[3],xc,y[2],y[3],yc)\n",
    "    A34 = Area3(x[3],x[4],xc,y[3],y[4],yc)\n",
    "    \n",
    "    A = A12 + A23 +A34 +A41\n",
    "    return A\n",
    "end"
   ]
  },
  {
   "cell_type": "code",
   "execution_count": 25,
   "metadata": {},
   "outputs": [
    {
     "data": {
      "text/plain": [
       "Area3 (generic function with 1 method)"
      ]
     },
     "execution_count": 25,
     "metadata": {},
     "output_type": "execute_result"
    }
   ],
   "source": [
    "function Area3(x1,x2,x3,y1,y2,y3)\n",
    "    return abs((x1*y2+y1*x3+x2*y3-x1*y3-y1*x2-y2*x3)/2)\n",
    "end"
   ]
  },
  {
   "cell_type": "markdown",
   "metadata": {},
   "source": [
    "###  $\\frac{\\partial (u,v)}{\\partial (x,y)}$\n",
    "\n",
    "we use the diffences between 1 and 3 points and 2 and 4 points to solve the partial differences approximately, as\n",
    "$$ \\frac{\\partial u}{\\partial x}  \\approx \\frac{1}{2A}((u_1-u_3)(y_2-y_4)+(u_2-u_4)(-y_1+y_3))$$ \n",
    "\n",
    "$$ \\frac{\\partial v}{\\partial y}  \\approx -\\frac{1}{2A}((v_1-v_3)(x_2-x_4)+(v_2-v_4)(-x_1+x_3))$$ \n",
    "Similar process to $\\frac{\\partial u}{\\partial y}$,$\\frac{\\partial v}{\\partial x}$ and $\\frac{\\partial v}{\\partial y}$"
   ]
  },
  {
   "cell_type": "code",
   "execution_count": 26,
   "metadata": {},
   "outputs": [
    {
     "data": {
      "text/plain": [
       "∂uv (generic function with 1 method)"
      ]
     },
     "execution_count": 26,
     "metadata": {},
     "output_type": "execute_result"
    }
   ],
   "source": [
    "function ∂uv(x,y,u)\n",
    "    ∂u_∂x = 0.5(u[1]-u[3])*(y[2]-y[4]) + 0.5(u[2]-u[4])*(y[3]-y[1])\n",
    "    ∂u_∂y = -0.5(u[1]-u[3])*(x[2]-x[4]) - 0.5(u[2]-u[4])*(x[3]-x[1])\n",
    "    return ∂u_∂x,∂u_∂y\n",
    "end"
   ]
  },
  {
   "cell_type": "code",
   "execution_count": 105,
   "metadata": {},
   "outputs": [
    {
     "data": {
      "text/plain": [
       "cell_coordinate (generic function with 1 method)"
      ]
     },
     "execution_count": 105,
     "metadata": {},
     "output_type": "execute_result"
    }
   ],
   "source": [
    "function cell_coordinate(x,y)\n",
    "    Ip, = size(Tc)\n",
    "    Ic, = size(Tp)\n",
    "    xc = zeros(Float64,Ic)\n",
    "    yc = zeros(Float64,Ic)\n",
    "    \n",
    "    for i in 1:Ic\n",
    "        for j = 1:4\n",
    "            ip = Tp[i,j] \n",
    "            xc[i] += x[ip]/4\n",
    "            yc[i] += y[ip]/4\n",
    "        end\n",
    "        \n",
    "    end\n",
    "    \n",
    "    return xc,yc\n",
    "end"
   ]
  },
  {
   "cell_type": "code",
   "execution_count": 63,
   "metadata": {},
   "outputs": [
    {
     "data": {
      "text/plain": [
       "Piston (generic function with 1 method)"
      ]
     },
     "execution_count": 63,
     "metadata": {},
     "output_type": "execute_result"
    }
   ],
   "source": [
    " function Piston()\n",
    "\n",
    "    global problem = prb(1.5e-4,0.3)\n",
    "    # global problem = prb(3e-5,0.3)\n",
    "     \n",
    "    I = 200\n",
    "    J = 10\n",
    "    dx = 1.0/I\n",
    "    dy = 0.1/J\n",
    "    \n",
    "    global   con1 = Const(9e7,8930,2.0,4.5e10,3940.0,1.49)\n",
    "    \n",
    "    Ip = (I+1)*(J+1) # Number of  points\n",
    "    Ic = I*J  # number of cells\n",
    "    \n",
    "    global Tp = zeros(Int,Ic,4) #格点\n",
    "    global Tc = zeros(Int,Ip,4) #点格\n",
    "    \n",
    "    #@show Tc, Ip\n",
    "    global Tb = zeros(Int, I*2+J*2,3) #边界 \n",
    "    \n",
    "    IBL = J+1\n",
    "    IBR = J+1\n",
    "    IBU = I+1\n",
    "    IBD = I+1\n",
    "   # 点格表，格点表初始化 \n",
    "    for i in 1:I \n",
    "        for j in 1:J\n",
    "            ic = i+(j-1)*I\n",
    "            Tp[ic,1] = i + (j-1)*(I+1)\n",
    "            Tp[ic,2] = i+1 +(j-1)*(I+1)\n",
    "            Tp[ic,3]=i+1+j*(I+1)\n",
    "            Tp[ic,4]=i+j*(I+1) \n",
    "        end\n",
    "    end\n",
    "    \n",
    "    for i = 1:I+1\n",
    "        for j = 1:J+1\n",
    "            ip = i+(j-1)*(I+1)\n",
    "            Tc[ip,1] = i +(j-1)*I #(i,j)\n",
    "            Tc[ip,2] = i-1+(j-1)*I #(i-1,j)\n",
    "            Tc[ip,3] = i-1+(j-2)*I #(i-1,j-1)\n",
    "            Tc[ip,4] = i+(j-2)*I   #(i,j-1)\n",
    "            end\n",
    "        end\n",
    "    \n",
    "\n",
    "# Bound \n",
    "  ib = 0\n",
    "    for i = 1:I+1\n",
    "        for j = 1:J+1\n",
    "            if i == 1 || i== I+1 ||  j == 1 || j == J+1\n",
    "                ib += 1\n",
    "                ip =i+(j-1)*(I+1) \n",
    "                Tb[ib,1] = ip\n",
    "                if i==1 \n",
    "                    Tb[ib,3] = 3\n",
    "                    Tc[ip,2] =0\n",
    "                    Tc[ip,3] =0\n",
    "                end   \n",
    "                 if  i==I+1 \n",
    "                    Tb[ib,3] = 2 #bound type 1:free 2: wall ..  Tb[:,2] y direction\n",
    "                    Tc[ip,1] =0\n",
    "                    Tc[ip,4] =0\n",
    "                end\n",
    "            \n",
    "                if j==1 \n",
    "                    Tb[ib,2] = 1\n",
    "                    Tc[ip,3] = 0\n",
    "                    Tc[ip,4] = 0\n",
    "                end\n",
    "                if j==J+1\n",
    "                    Tb[ib,2] = 1\n",
    "                    Tc[ip,1] = 0\n",
    "                    Tc[ip,2] = 0\n",
    "                end\n",
    "            end\n",
    "        end\n",
    "    end\n",
    "\n",
    "    #流场初始化 Init of the flow\n",
    "    \n",
    "    x = zeros(Float64,Ip)\n",
    "    y = zeros(Float64,Ip)\n",
    "    u = zeros(Float64,Ip)\n",
    "    v = zeros(Float64,Ip)\n",
    "    \n",
    "    ρ = zeros(Float64,Ic)\n",
    "    mz = zeros(Float64,Ic)\n",
    "    p = zeros(Float64,Ic)\n",
    "    Az= zeros(Float64,Ic)\n",
    "    σ = zeros(Float64,Ic,3)\n",
    "    \n",
    "    for i in 1:I+1\n",
    "        for j = 1:J+1\n",
    "            ip =i+(j-1)*(I+1)\n",
    "            x[ip] = i*dx\n",
    "            y[ip] = j*dy\n",
    "            if i >=I/2\n",
    "                u[ip] = 0.\n",
    "            else\n",
    "                u[ip] = 0\n",
    "            end\n",
    "            v[ip] = 0.0\n",
    "        end\n",
    "    end\n",
    "    \n",
    "    xz = zeros(Float64,4)\n",
    "    yz = zeros(Float64,4) \n",
    "    for i in 1:I\n",
    "        for j in 1:J\n",
    "            ic = i+(j-1)*I\n",
    "            xz[1:4] = x[Tp[ic,1:4]]\n",
    "            yz[1:4] = y[Tp[ic,1:4]]\n",
    "            A = A_z(xz,yz)\n",
    "            Az[ic] = sum(A) #[1]+A[2]+A[3]+A[4]\n",
    "          #  if i>=I/2\n",
    "               \n",
    "                p[ic] = 1.e5\n",
    "                ρ[ic] = 8930\n",
    "                mz[ic] = ρ[ic] * Az[ic]\n",
    "                σ[ic,1] = -p[ic]\n",
    "                σ[ic,2] = 0\n",
    "                σ[ic,3]= 0 \n",
    "#             else\n",
    "#                 mz[ic] = 1.0 * Az[ic]\n",
    "#                 p[ic] = 1.0\n",
    "#                 ρ[ic] = 1.0\n",
    "#             end\n",
    "        end\n",
    "    end\n",
    "    var = Var(x,y,u,v,ρ,p,σ)\n",
    "    return var,mz,I,J\n",
    "end"
   ]
  },
  {
   "cell_type": "code",
   "execution_count": 117,
   "metadata": {},
   "outputs": [
    {
     "name": "stdout",
     "output_type": "stream",
     "text": [
      "1.5766608433147841e-6\n",
      "3.142218966764436e-6\n",
      "4.7037614757000065e-6\n",
      "6.261680634170702e-6\n",
      "7.505347536419599e-6\n",
      "9.05541194646895e-6\n",
      "1.0599828291491855e-5\n",
      "1.213801240729052e-5\n",
      "1.3669392400819772e-5\n",
      "1.5193416394075412e-5\n",
      "1.6709599127946713e-5\n",
      "1.8217431433408335e-5\n",
      "1.971639541289425e-5\n",
      "2.1206039410548077e-5\n",
      "2.2685996408719088e-5\n",
      "2.4155986012250203e-5\n",
      "2.561572250871741e-5\n",
      "2.7064797356358552e-5\n",
      "2.8502522011653758e-5\n",
      "3.0211195118708685e-5\n"
     ]
    },
    {
     "data": {
      "text/plain": [
       "Var([0.00560422, 0.0104883, 0.0151008, 0.019989, 0.0249049, 0.0298644, 0.0348481, 0.039846, 0.0448521, 0.0498628  …  0.96, 0.965, 0.97, 0.975, 0.98, 0.985, 0.99, 0.995, 1.0, 1.005], [0.01, 0.01, 0.01, 0.01, 0.01, 0.01, 0.01, 0.01, 0.01, 0.01  …  0.11, 0.11, 0.11, 0.11, 0.11, 0.11, 0.11, 0.11, 0.11, 0.11], [20.0, 21.1515, -19.7383, -24.8752, -30.674, -32.2355, -31.9187, -30.5031, -28.6228, -26.6378  …  0.0, 0.0, 0.0, 0.0, 0.0, 0.0, 0.0, 0.0, 0.0, 0.0], [-5.37036e-15, -1.43109e-15, 2.96956e-16, -2.41347e-16, 2.49603e-15, -8.19082e-16, -1.09403e-15, 1.5867e-15, 2.37697e-15, 1.30324e-15  …  1.99231e-39, -7.73711e-38, 4.86674e-38, 3.90548e-37, -1.07253e-36, -3.74532e-36, -2.03688e-36, 1.47888e-35, 2.02455e-20, 6.21505e-35], [9289.63, 8798.42, 9031.56, 8993.74, 8991.23, 8986.6, 8981.87, 8977.42, 8973.24, 8969.37  …  8930.0, 8930.0, 8930.0, 8930.0, 8930.0, 8930.0, 8930.0, 8930.0, 8930.0, 8930.0], [5.37889e9, -1.67506e9, 1.54842e9, 9.64066e8, 9.22745e8, 8.52759e8, 7.82676e8, 7.17293e8, 6.55793e8, 5.98594e8  …  100000.0, 100000.0, 100000.0, 100000.0, 100000.0, 100000.0, 100000.0, 100000.0, 100000.0, 100000.0], [-3.31153e9 -8.61152e9 -2.57506e9; -1.81147e9 5.60703e9 3.98088e7; … ; -100000.0 0.0 2.12406e-13; -100000.0 0.0 2.56542e-12])"
      ]
     },
     "execution_count": 117,
     "metadata": {},
     "output_type": "execute_result"
    }
   ],
   "source": [
    "var,mz,I,J=Piston()\n",
    "#Output1\n",
    "var = TimeSolve(var,mz)"
   ]
  },
  {
   "cell_type": "code",
   "execution_count": 71,
   "metadata": {},
   "outputs": [],
   "source": [
    "using PyPlot"
   ]
  },
  {
   "cell_type": "code",
   "execution_count": 120,
   "metadata": {},
   "outputs": [
    {
     "data": {
      "text/plain": [
       "([0.00812006, 0.0130492, 0.0179404, 0.0228898, 0.0278368, 0.0327909, 0.0377513, 0.0427171, 0.0476878, 0.0526628  …  0.9575, 0.9625, 0.9675, 0.9725, 0.9775, 0.9825, 0.9875, 0.9925, 0.9975, 1.0025], [0.0147967, 0.0152288, 0.014993, 0.0150211, 0.0150148, 0.0150108, 0.0150077, 0.0150051, 0.0150028, 0.0150009  …  0.105, 0.105, 0.105, 0.105, 0.105, 0.105, 0.105, 0.105, 0.105, 0.105])"
      ]
     },
     "execution_count": 120,
     "metadata": {},
     "output_type": "execute_result"
    }
   ],
   "source": [
    "rcell, zcell = cell_coordinate(var.r,var.z)"
   ]
  },
  {
   "cell_type": "code",
   "execution_count": 123,
   "metadata": {},
   "outputs": [
    {
     "data": {
      "image/png": "[encoded data removed]",
      "text/plain": [
       "Figure(PyObject <Figure size 640x480 with 1 Axes>)"
      ]
     },
     "metadata": {},
     "output_type": "display_data"
    },
    {
     "data": {
      "text/plain": [
       "PyObject <matplotlib.tri.tricontour.TriContourSet object at 0x7f5f3d7336d8>"
      ]
     },
     "execution_count": 123,
     "metadata": {},
     "output_type": "execute_result"
    }
   ],
   "source": [
    "tricontour(rcell,zcell,var.p)"
   ]
  },
  {
   "cell_type": "code",
   "execution_count": 119,
   "metadata": {},
   "outputs": [
    {
     "name": "stdout",
     "output_type": "stream",
     "text": [
      "var.ρ = [9289.63, 8798.42, 9031.56, 8993.74, 8991.23, 8986.6, 8981.87, 8977.42, 8973.24, 8969.37, 8965.84, 8962.68, 8959.9, 8957.48, 8955.44, 8953.73, 8952.31, 8951.12, 8950.07, 8949.09, 8948.1, 8947.03, 8945.82, 8944.45, 8942.93, 8941.28, 8939.56, 8937.82, 8936.16, 8934.63, 8933.31, 8932.24, 8931.43, 8930.85, 8930.48, 8930.25, 8930.12, 8930.06, 8930.02, 8930.01, 8930.0, 8930.0, 8930.0, 8930.0, 8930.0, 8930.0, 8930.0, 8930.0, 8930.0, 8930.0, 8930.0, 8930.0, 8930.0, 8930.0, 8930.0, 8930.0, 8930.0, 8930.0, 8930.0, 8930.0, 8930.0, 8930.0, 8930.0, 8930.0, 8930.0, 8930.0, 8930.0, 8930.0, 8930.0, 8930.0, 8930.0, 8930.0, 8930.0, 8930.0, 8930.0, 8930.0, 8930.0, 8930.0, 8930.0, 8930.0, 8930.0, 8930.0, 8930.0, 8930.0, 8930.0, 8930.0, 8930.0, 8930.0, 8930.0, 8930.0, 8930.0, 8930.0, 8930.0, 8930.0, 8930.0, 8930.0, 8930.0, 8930.0, 8930.0, 8930.0, 8930.0, 8930.0, 8930.0, 8930.0, 8930.0, 8930.0, 8930.0, 8930.0, 8930.0, 8930.0, 8930.0, 8930.0, 8930.0, 8930.0, 8930.0, 8930.0, 8930.0, 8930.0, 8930.0, 8930.0, 8930.0, 8930.0, 8930.0, 8930.0, 8930.0, 8930.0, 8930.0, 8930.0, 8930.0, 8930.0, 8930.0, 8930.0, 8930.0, 8930.0, 8930.0, 8930.0, 8930.0, 8930.0, 8930.0, 8930.0, 8930.0, 8930.0, 8930.0, 8930.0, 8930.0, 8930.0, 8930.0, 8930.0, 8930.0, 8930.0, 8930.0, 8930.0, 8930.0, 8930.0, 8930.0, 8930.0, 8930.0, 8930.0, 8930.0, 8930.0, 8930.0, 8930.0, 8930.0, 8930.0, 8930.0, 8930.0, 8930.0, 8930.0, 8930.0, 8930.0, 8930.0, 8930.0, 8930.0, 8930.0, 8930.0, 8930.0, 8930.0, 8930.0, 8930.0, 8930.0, 8930.0, 8930.0, 8930.0, 8930.0, 8930.0, 8930.0, 8930.0, 8930.0, 8930.0, 8930.0, 8930.0, 8930.0, 8930.0, 8930.0, 8930.0, 8930.0, 8930.0, 8930.0, 8930.0, 8930.0, 9129.35, 8922.17, 8925.01, 8966.1, 8965.14, 8973.51, 8978.58, 8981.61, 8983.2, 8983.67, 8983.22, 8982.04, 8980.29, 8978.17, 8975.79, 8973.26, 8970.66, 8968.05, 8965.47, 8962.93, 8960.41, 8957.9, 8955.36, 8952.77, 8950.12, 8947.42, 8944.68, 8941.98, 8939.39, 8937.04, 8935.02, 8933.38, 8932.14, 8931.27, 8930.71, 8930.37, 8930.18, 8930.08, 8930.04, 8930.01, 8930.01, 8930.0, 8930.0, 8930.0, 8930.0, 8930.0, 8930.0, 8930.0, 8930.0, 8930.0, 8930.0, 8930.0, 8930.0, 8930.0, 8930.0, 8930.0, 8930.0, 8930.0, 8930.0, 8930.0, 8930.0, 8930.0, 8930.0, 8930.0, 8930.0, 8930.0, 8930.0, 8930.0, 8930.0, 8930.0, 8930.0, 8930.0, 8930.0, 8930.0, 8930.0, 8930.0, 8930.0, 8930.0, 8930.0, 8930.0, 8930.0, 8930.0, 8930.0, 8930.0, 8930.0, 8930.0, 8930.0, 8930.0, 8930.0, 8930.0, 8930.0, 8930.0, 8930.0, 8930.0, 8930.0, 8930.0, 8930.0, 8930.0, 8930.0, 8930.0, 8930.0, 8930.0, 8930.0, 8930.0, 8930.0, 8930.0, 8930.0, 8930.0, 8930.0, 8930.0, 8930.0, 8930.0, 8930.0, 8930.0, 8930.0, 8930.0, 8930.0, 8930.0, 8930.0, 8930.0, 8930.0, 8930.0, 8930.0, 8930.0, 8930.0, 8930.0, 8930.0, 8930.0, 8930.0, 8930.0, 8930.0, 8930.0, 8930.0, 8930.0, 8930.0, 8930.0, 8930.0, 8930.0, 8930.0, 8930.0, 8930.0, 8930.0, 8930.0, 8930.0, 8930.0, 8930.0, 8930.0, 8930.0, 8930.0, 8930.0, 8930.0, 8930.0, 8930.0, 8930.0, 8930.0, 8930.0, 8930.0, 8930.0, 8930.0, 8930.0, 8930.0, 8930.0, 8930.0, 8930.0, 8930.0, 8930.0, 8930.0, 8930.0, 8930.0, 8930.0, 8930.0, 8930.0, 8930.0, 8930.0, 8930.0, 8930.0, 8930.0, 8930.0, 8930.0, 8930.0, 8930.0, 8930.0, 8930.0, 8930.0, 8930.0, 8930.0, 8930.0, 8930.0, 8930.0, 8930.0, 8930.0, 8930.0, 8930.0, 8930.0, 8930.0, 8930.0, 8930.0, 8930.0, 8930.0, 8930.0, 9052.52, 9017.65, 8946.35, 8963.13, 8960.41, 8957.22, 8958.77, 8961.0, 8963.76, 8966.76, 8969.43, 8971.46, 8972.79, 8973.5, 8973.58, 8973.09, 8972.14, 8970.77, 8969.07, 8967.13, 8965.01, 8962.75, 8960.33, 8957.75, 8954.98, 8952.0, 8948.84, 8945.58, 8942.35, 8939.32, 8936.67, 8934.5, 8932.85, 8931.7, 8930.95, 8930.49, 8930.24, 8930.11, 8930.05, 8930.02, 8930.01, 8930.0, 8930.0, 8930.0, 8930.0, 8930.0, 8930.0, 8930.0, 8930.0, 8930.0, 8930.0, 8930.0, 8930.0, 8930.0, 8930.0, 8930.0, 8930.0, 8930.0, 8930.0, 8930.0, 8930.0, 8930.0, 8930.0, 8930.0, 8930.0, 8930.0, 8930.0, 8930.0, 8930.0, 8930.0, 8930.0, 8930.0, 8930.0, 8930.0, 8930.0, 8930.0, 8930.0, 8930.0, 8930.0, 8930.0, 8930.0, 8930.0, 8930.0, 8930.0, 8930.0, 8930.0, 8930.0, 8930.0, 8930.0, 8930.0, 8930.0, 8930.0, 8930.0, 8930.0, 8930.0, 8930.0, 8930.0, 8930.0, 8930.0, 8930.0, 8930.0, 8930.0, 8930.0, 8930.0, 8930.0, 8930.0, 8930.0, 8930.0, 8930.0, 8930.0, 8930.0, 8930.0, 8930.0, 8930.0, 8930.0, 8930.0, 8930.0, 8930.0, 8930.0, 8930.0, 8930.0, 8930.0, 8930.0, 8930.0, 8930.0, 8930.0, 8930.0, 8930.0, 8930.0, 8930.0, 8930.0, 8930.0, 8930.0, 8930.0, 8930.0, 8930.0, 8930.0, 8930.0, 8930.0, 8930.0, 8930.0, 8930.0, 8930.0, 8930.0, 8930.0, 8930.0, 8930.0, 8930.0, 8930.0, 8930.0, 8930.0, 8930.0, 8930.0, 8930.0, 8930.0, 8930.0, 8930.0, 8930.0, 8930.0, 8930.0, 8930.0, 8930.0, 8930.0, 8930.0, 8930.0, 8930.0, 8930.0, 8930.0, 8930.0, 8930.0, 8930.0, 8930.0, 8930.0, 8930.0, 8930.0, 8930.0, 8930.0, 8930.0, 8930.0, 8930.0, 8930.0, 8930.0, 8930.0, 8930.0, 8930.0, 8930.0, 8930.0, 8930.0, 8930.0, 8930.0, 8930.0, 8930.0, 8930.0, 8930.0, 8930.0, 8930.0, 8930.0, 8930.0, 8930.0, 8930.0, 8946.06, 9030.33, 8944.69, 8968.75, 8971.97, 8970.71, 8969.31, 8968.57, 8968.11, 8968.13, 8968.3, 8968.78, 8969.28, 8969.57, 8969.7, 8969.73, 8969.51, 8968.97, 8968.16, 8967.11, 8965.85, 8964.35, 8962.6, 8960.55, 8958.13, 8955.29, 8952.05, 8948.5, 8944.84, 8941.3, 8938.13, 8935.51, 8933.5, 8932.09, 8931.16, 8930.61, 8930.3, 8930.13, 8930.06, 8930.02, 8930.01, 8930.0, 8930.0, 8930.0, 8930.0, 8930.0, 8930.0, 8930.0, 8930.0, 8930.0, 8930.0, 8930.0, 8930.0, 8930.0, 8930.0, 8930.0, 8930.0, 8930.0, 8930.0, 8930.0, 8930.0, 8930.0, 8930.0, 8930.0, 8930.0, 8930.0, 8930.0, 8930.0, 8930.0, 8930.0, 8930.0, 8930.0, 8930.0, 8930.0, 8930.0, 8930.0, 8930.0, 8930.0, 8930.0, 8930.0, 8930.0, 8930.0, 8930.0, 8930.0, 8930.0, 8930.0, 8930.0, 8930.0, 8930.0, 8930.0, 8930.0, 8930.0, 8930.0, 8930.0, 8930.0, 8930.0, 8930.0, 8930.0, 8930.0, 8930.0, 8930.0, 8930.0, 8930.0, 8930.0, 8930.0, 8930.0, 8930.0, 8930.0, 8930.0, 8930.0, 8930.0, 8930.0, 8930.0, 8930.0, 8930.0, 8930.0, 8930.0, 8930.0, 8930.0, 8930.0, 8930.0, 8930.0, 8930.0, 8930.0, 8930.0, 8930.0, 8930.0, 8930.0, 8930.0, 8930.0, 8930.0, 8930.0, 8930.0, 8930.0, 8930.0, 8930.0, 8930.0, 8930.0, 8930.0, 8930.0, 8930.0, 8930.0, 8930.0, 8930.0, 8930.0, 8930.0, 8930.0, 8930.0, 8930.0, 8930.0, 8930.0, 8930.0, 8930.0, 8930.0, 8930.0, 8930.0, 8930.0, 8930.0, 8930.0, 8930.0, 8930.0, 8930.0, 8930.0, 8930.0, 8930.0, 8930.0, 8930.0, 8930.0, 8930.0, 8930.0, 8930.0, 8930.0, 8930.0, 8930.0, 8930.0, 8930.0, 8930.0, 8930.0, 8930.0, 8930.0, 8930.0, 8930.0, 8930.0, 8930.0, 8930.0, 8930.0, 8930.0, 8930.0, 8930.0, 8930.0, 8930.0, 8930.0, 8930.0, 8930.0, 8930.0, 8930.0, 8930.0, 8930.0, 8930.0, 8930.0, 8929.03, 9031.02, 8956.79, 8958.9, 8965.33, 8965.78, 8966.15, 8966.58, 8967.25, 8968.06, 8968.8, 8969.94, 8970.77, 8970.78, 8970.72, 8970.66, 8970.22, 8969.56, 8968.87, 8968.06, 8967.08, 8965.91, 8964.51, 8962.77, 8960.58, 8957.85, 8954.56, 8950.81, 8946.83, 8942.91, 8939.34, 8936.35, 8934.05, 8932.42, 8931.35, 8930.71, 8930.34, 8930.16, 8930.07, 8930.03, 8930.01, 8930.0, 8930.0, 8930.0, 8930.0, 8930.0, 8930.0, 8930.0, 8930.0, 8930.0, 8930.0, 8930.0, 8930.0, 8930.0, 8930.0, 8930.0, 8930.0, 8930.0, 8930.0, 8930.0, 8930.0, 8930.0, 8930.0, 8930.0, 8930.0, 8930.0, 8930.0, 8930.0, 8930.0, 8930.0, 8930.0, 8930.0, 8930.0, 8930.0, 8930.0, 8930.0, 8930.0, 8930.0, 8930.0, 8930.0, 8930.0, 8930.0, 8930.0, 8930.0, 8930.0, 8930.0, 8930.0, 8930.0, 8930.0, 8930.0, 8930.0, 8930.0, 8930.0, 8930.0, 8930.0, 8930.0, 8930.0, 8930.0, 8930.0, 8930.0, 8930.0, 8930.0, 8930.0, 8930.0, 8930.0, 8930.0, 8930.0, 8930.0, 8930.0, 8930.0, 8930.0, 8930.0, 8930.0, 8930.0, 8930.0, 8930.0, 8930.0, 8930.0, 8930.0, 8930.0, 8930.0, 8930.0, 8930.0, 8930.0, 8930.0, 8930.0, 8930.0, 8930.0, 8930.0, 8930.0, 8930.0, 8930.0, 8930.0, 8930.0, 8930.0, 8930.0, 8930.0, 8930.0, 8930.0, 8930.0, 8930.0, 8930.0, 8930.0, 8930.0, 8930.0, 8930.0, 8930.0, 8930.0, 8930.0, 8930.0, 8930.0, 8930.0, 8930.0, 8930.0, 8930.0, 8930.0, 8930.0, 8930.0, 8930.0, 8930.0, 8930.0, 8930.0, 8930.0, 8930.0, 8930.0, 8930.0, 8930.0, 8930.0, 8930.0, 8930.0, 8930.0, 8930.0, 8930.0, 8930.0, 8930.0, 8930.0, 8930.0, 8930.0, 8930.0, 8930.0, 8930.0, 8930.0, 8930.0, 8930.0, 8930.0, 8930.0, 8930.0, 8930.0, 8930.0, 8930.0, 8930.0, 8930.0, 8930.0, 8930.0, 8930.0, 8930.0, 8930.0, 8930.0, 8930.0, 8930.0, 8914.5, 9013.42, 8968.88, 8963.36, 8966.47, 8967.39, 8966.86, 8966.28, 8965.69, 8965.27, 8965.13, 8965.92, 8967.01, 8967.85, 8969.54, 8970.97, 8971.17, 8971.22, 8971.24, 8970.77, 8969.94, 8968.85, 8967.46, 8965.68, 8963.37, 8960.46, 8956.93, 8952.89, 8948.57, 8944.29, 8940.38, 8937.08, 8934.53, 8932.72, 8931.52, 8930.8, 8930.39, 8930.18, 8930.08, 8930.03, 8930.01, 8930.0, 8930.0, 8930.0, 8930.0, 8930.0, 8930.0, 8930.0, 8930.0, 8930.0, 8930.0, 8930.0, 8930.0, 8930.0, 8930.0, 8930.0, 8930.0, 8930.0, 8930.0, 8930.0, 8930.0, 8930.0, 8930.0, 8930.0, 8930.0, 8930.0, 8930.0, 8930.0, 8930.0, 8930.0, 8930.0, 8930.0, 8930.0, 8930.0, 8930.0, 8930.0, 8930.0, 8930.0, 8930.0, 8930.0, 8930.0, 8930.0, 8930.0, 8930.0, 8930.0, 8930.0, 8930.0, 8930.0, 8930.0, 8930.0, 8930.0, 8930.0, 8930.0, 8930.0, 8930.0, 8930.0, 8930.0, 8930.0, 8930.0, 8930.0, 8930.0, 8930.0, 8930.0, 8930.0, 8930.0, 8930.0, 8930.0, 8930.0, 8930.0, 8930.0, 8930.0, 8930.0, 8930.0, 8930.0, 8930.0, 8930.0, 8930.0, 8930.0, 8930.0, 8930.0, 8930.0, 8930.0, 8930.0, 8930.0, 8930.0, 8930.0, 8930.0, 8930.0, 8930.0, 8930.0, 8930.0, 8930.0, 8930.0, 8930.0, 8930.0, 8930.0, 8930.0, 8930.0, 8930.0, 8930.0, 8930.0, 8930.0, 8930.0, 8930.0, 8930.0, 8930.0, 8930.0, 8930.0, 8930.0, 8930.0, 8930.0, 8930.0, 8930.0, 8930.0, 8930.0, 8930.0, 8930.0, 8930.0, 8930.0, 8930.0, 8930.0, 8930.0, 8930.0, 8930.0, 8930.0, 8930.0, 8930.0, 8930.0, 8930.0, 8930.0, 8930.0, 8930.0, 8930.0, 8930.0, 8930.0, 8930.0, 8930.0, 8930.0, 8930.0, 8930.0, 8930.0, 8930.0, 8930.0, 8930.0, 8930.0, 8930.0, 8930.0, 8930.0, 8930.0, 8930.0, 8930.0, 8930.0, 8930.0, 8930.0, 8930.0, 8930.0, 8930.0, 8930.0, 8930.0, 8930.0, 8907.36, 8994.87, 8977.41, 8965.6, 8967.17, 8967.83, 8967.54, 8966.69, 8965.75, 8964.85, 8963.87, 8963.18, 8962.95, 8963.17, 8965.25, 8967.57, 8968.75, 8971.0, 8972.99, 8973.33, 8973.02, 8972.36, 8971.18, 8969.4, 8966.88, 8963.65, 8959.73, 8955.27, 8950.52, 8945.83, 8941.53, 8937.9, 8935.07, 8933.05, 8931.72, 8930.9, 8930.44, 8930.2, 8930.09, 8930.04, 8930.01, 8930.0, 8930.0, 8930.0, 8930.0, 8930.0, 8930.0, 8930.0, 8930.0, 8930.0, 8930.0, 8930.0, 8930.0, 8930.0, 8930.0, 8930.0, 8930.0, 8930.0, 8930.0, 8930.0, 8930.0, 8930.0, 8930.0, 8930.0, 8930.0, 8930.0, 8930.0, 8930.0, 8930.0, 8930.0, 8930.0, 8930.0, 8930.0, 8930.0, 8930.0, 8930.0, 8930.0, 8930.0, 8930.0, 8930.0, 8930.0, 8930.0, 8930.0, 8930.0, 8930.0, 8930.0, 8930.0, 8930.0, 8930.0, 8930.0, 8930.0, 8930.0, 8930.0, 8930.0, 8930.0, 8930.0, 8930.0, 8930.0, 8930.0, 8930.0, 8930.0, 8930.0, 8930.0, 8930.0, 8930.0, 8930.0, 8930.0, 8930.0, 8930.0, 8930.0, 8930.0, 8930.0, 8930.0, 8930.0, 8930.0, 8930.0, 8930.0, 8930.0, 8930.0, 8930.0, 8930.0, 8930.0, 8930.0, 8930.0, 8930.0, 8930.0, 8930.0, 8930.0, 8930.0, 8930.0, 8930.0, 8930.0, 8930.0, 8930.0, 8930.0, 8930.0, 8930.0, 8930.0, 8930.0, 8930.0, 8930.0, 8930.0, 8930.0, 8930.0, 8930.0, 8930.0, 8930.0, 8930.0, 8930.0, 8930.0, 8930.0, 8930.0, 8930.0, 8930.0, 8930.0, 8930.0, 8930.0, 8930.0, 8930.0, 8930.0, 8930.0, 8930.0, 8930.0, 8930.0, 8930.0, 8930.0, 8930.0, 8930.0, 8930.0, 8930.0, 8930.0, 8930.0, 8930.0, 8930.0, 8930.0, 8930.0, 8930.0, 8930.0, 8930.0, 8930.0, 8930.0, 8930.0, 8930.0, 8930.0, 8930.0, 8930.0, 8930.0, 8930.0, 8930.0, 8930.0, 8930.0, 8930.0, 8930.0, 8930.0, 8930.0, 8930.0, 8930.0, 8930.0, 8930.0, 8930.0, 8904.21, 8969.83, 8977.3, 8965.12, 8963.45, 8964.01, 8964.83, 8965.86, 8966.94, 8967.78, 8967.96, 8967.64, 8967.03, 8965.71, 8965.13, 8965.06, 8964.61, 8967.54, 8970.81, 8971.69, 8972.6, 8973.53, 8973.55, 8972.47, 8970.38, 8967.35, 8963.39, 8958.67, 8953.48, 8948.24, 8943.38, 8939.22, 8935.95, 8933.6, 8932.03, 8931.07, 8930.53, 8930.24, 8930.1, 8930.04, 8930.02, 8930.01, 8930.0, 8930.0, 8930.0, 8930.0, 8930.0, 8930.0, 8930.0, 8930.0, 8930.0, 8930.0, 8930.0, 8930.0, 8930.0, 8930.0, 8930.0, 8930.0, 8930.0, 8930.0, 8930.0, 8930.0, 8930.0, 8930.0, 8930.0, 8930.0, 8930.0, 8930.0, 8930.0, 8930.0, 8930.0, 8930.0, 8930.0, 8930.0, 8930.0, 8930.0, 8930.0, 8930.0, 8930.0, 8930.0, 8930.0, 8930.0, 8930.0, 8930.0, 8930.0, 8930.0, 8930.0, 8930.0, 8930.0, 8930.0, 8930.0, 8930.0, 8930.0, 8930.0, 8930.0, 8930.0, 8930.0, 8930.0, 8930.0, 8930.0, 8930.0, 8930.0, 8930.0, 8930.0, 8930.0, 8930.0, 8930.0, 8930.0, 8930.0, 8930.0, 8930.0, 8930.0, 8930.0, 8930.0, 8930.0, 8930.0, 8930.0, 8930.0, 8930.0, 8930.0, 8930.0, 8930.0, 8930.0, 8930.0, 8930.0, 8930.0, 8930.0, 8930.0, 8930.0, 8930.0, 8930.0, 8930.0, 8930.0, 8930.0, 8930.0, 8930.0, 8930.0, 8930.0, 8930.0, 8930.0, 8930.0, 8930.0, 8930.0, 8930.0, 8930.0, 8930.0, 8930.0, 8930.0, 8930.0, 8930.0, 8930.0, 8930.0, 8930.0, 8930.0, 8930.0, 8930.0, 8930.0, 8930.0, 8930.0, 8930.0, 8930.0, 8930.0, 8930.0, 8930.0, 8930.0, 8930.0, 8930.0, 8930.0, 8930.0, 8930.0, 8930.0, 8930.0, 8930.0, 8930.0, 8930.0, 8930.0, 8930.0, 8930.0, 8930.0, 8930.0, 8930.0, 8930.0, 8930.0, 8930.0, 8930.0, 8930.0, 8930.0, 8930.0, 8930.0, 8930.0, 8930.0, 8930.0, 8930.0, 8930.0, 8930.0, 8930.0, 8930.0, 8930.0, 8930.0, 8930.0, 8901.81, 8955.98, 8987.73, 8980.08, 8977.53, 8975.83, 8973.91, 8971.57, 8969.13, 8966.8, 8964.61, 8962.66, 8960.76, 8958.37, 8956.84, 8955.69, 8953.85, 8955.81, 8958.62, 8959.4, 8962.92, 8968.22, 8971.83, 8973.42, 8973.49, 8972.13, 8969.17, 8964.72, 8959.17, 8953.1, 8947.18, 8941.95, 8937.77, 8934.71, 8932.67, 8931.41, 8930.69, 8930.32, 8930.14, 8930.06, 8930.02, 8930.01, 8930.0, 8930.0, 8930.0, 8930.0, 8930.0, 8930.0, 8930.0, 8930.0, 8930.0, 8930.0, 8930.0, 8930.0, 8930.0, 8930.0, 8930.0, 8930.0, 8930.0, 8930.0, 8930.0, 8930.0, 8930.0, 8930.0, 8930.0, 8930.0, 8930.0, 8930.0, 8930.0, 8930.0, 8930.0, 8930.0, 8930.0, 8930.0, 8930.0, 8930.0, 8930.0, 8930.0, 8930.0, 8930.0, 8930.0, 8930.0, 8930.0, 8930.0, 8930.0, 8930.0, 8930.0, 8930.0, 8930.0, 8930.0, 8930.0, 8930.0, 8930.0, 8930.0, 8930.0, 8930.0, 8930.0, 8930.0, 8930.0, 8930.0, 8930.0, 8930.0, 8930.0, 8930.0, 8930.0, 8930.0, 8930.0, 8930.0, 8930.0, 8930.0, 8930.0, 8930.0, 8930.0, 8930.0, 8930.0, 8930.0, 8930.0, 8930.0, 8930.0, 8930.0, 8930.0, 8930.0, 8930.0, 8930.0, 8930.0, 8930.0, 8930.0, 8930.0, 8930.0, 8930.0, 8930.0, 8930.0, 8930.0, 8930.0, 8930.0, 8930.0, 8930.0, 8930.0, 8930.0, 8930.0, 8930.0, 8930.0, 8930.0, 8930.0, 8930.0, 8930.0, 8930.0, 8930.0, 8930.0, 8930.0, 8930.0, 8930.0, 8930.0, 8930.0, 8930.0, 8930.0, 8930.0, 8930.0, 8930.0, 8930.0, 8930.0, 8930.0, 8930.0, 8930.0, 8930.0, 8930.0, 8930.0, 8930.0, 8930.0, 8930.0, 8930.0, 8930.0, 8930.0, 8930.0, 8930.0, 8930.0, 8930.0, 8930.0, 8930.0, 8930.0, 8930.0, 8930.0, 8930.0, 8930.0, 8930.0, 8930.0, 8930.0, 8930.0, 8930.0, 8930.0, 8930.0, 8930.0, 8930.0, 8930.0, 8930.0, 8930.0, 8930.0, 8930.0, 8930.0, 8930.0, 8887.3, 8888.73, 8939.84, 8938.68, 8938.11, 8940.01, 8942.86, 8946.31, 8950.17, 8954.1, 8957.86, 8961.5, 8965.08, 8969.2, 8974.65, 8978.41, 8979.15, 8981.25, 8983.03, 8982.18, 8985.85, 8992.07, 8995.3, 8996.14, 8995.56, 8993.37, 8989.11, 8982.69, 8974.5, 8965.38, 8956.34, 8948.32, 8941.88, 8937.19, 8934.05, 8932.13, 8931.05, 8930.48, 8930.21, 8930.08, 8930.03, 8930.01, 8930.0, 8930.0, 8930.0, 8930.0, 8930.0, 8930.0, 8930.0, 8930.0, 8930.0, 8930.0, 8930.0, 8930.0, 8930.0, 8930.0, 8930.0, 8930.0, 8930.0, 8930.0, 8930.0, 8930.0, 8930.0, 8930.0, 8930.0, 8930.0, 8930.0, 8930.0, 8930.0, 8930.0, 8930.0, 8930.0, 8930.0, 8930.0, 8930.0, 8930.0, 8930.0, 8930.0, 8930.0, 8930.0, 8930.0, 8930.0, 8930.0, 8930.0, 8930.0, 8930.0, 8930.0, 8930.0, 8930.0, 8930.0, 8930.0, 8930.0, 8930.0, 8930.0, 8930.0, 8930.0, 8930.0, 8930.0, 8930.0, 8930.0, 8930.0, 8930.0, 8930.0, 8930.0, 8930.0, 8930.0, 8930.0, 8930.0, 8930.0, 8930.0, 8930.0, 8930.0, 8930.0, 8930.0, 8930.0, 8930.0, 8930.0, 8930.0, 8930.0, 8930.0, 8930.0, 8930.0, 8930.0, 8930.0, 8930.0, 8930.0, 8930.0, 8930.0, 8930.0, 8930.0, 8930.0, 8930.0, 8930.0, 8930.0, 8930.0, 8930.0, 8930.0, 8930.0, 8930.0, 8930.0, 8930.0, 8930.0, 8930.0, 8930.0, 8930.0, 8930.0, 8930.0, 8930.0, 8930.0, 8930.0, 8930.0, 8930.0, 8930.0, 8930.0, 8930.0, 8930.0, 8930.0, 8930.0, 8930.0, 8930.0, 8930.0, 8930.0, 8930.0, 8930.0, 8930.0, 8930.0, 8930.0, 8930.0, 8930.0, 8930.0, 8930.0, 8930.0, 8930.0, 8930.0, 8930.0, 8930.0, 8930.0, 8930.0, 8930.0, 8930.0, 8930.0, 8930.0, 8930.0, 8930.0, 8930.0, 8930.0, 8930.0, 8930.0, 8930.0, 8930.0, 8930.0, 8930.0, 8930.0, 8930.0, 8930.0, 8930.0, 8930.0, 8930.0, 8930.0, 8930.0]"
     ]
    },
    {
     "name": "stdout",
     "output_type": "stream",
     "text": [
      "\n"
     ]
    },
    {
     "data": {
      "text/plain": [
       "2000-element Array{Float64,1}:\n",
       " 9289.625119157836\n",
       " 8798.415784711467\n",
       " 9031.556372381154\n",
       " 8993.739530281915\n",
       " 8991.225833912215\n",
       " 8986.604031563038\n",
       " 8981.866878335286\n",
       " 8977.420572518397\n",
       " 8973.243787094429\n",
       " 8969.373930516786\n",
       " 8965.837127618744\n",
       " 8962.682332363227\n",
       " 8959.89775878449 \n",
       "    ⋮             \n",
       " 8930.0           \n",
       " 8930.0           \n",
       " 8930.0           \n",
       " 8930.0           \n",
       " 8930.0           \n",
       " 8930.0           \n",
       " 8930.0           \n",
       " 8930.0           \n",
       " 8930.0           \n",
       " 8930.0           \n",
       " 8930.0           \n",
       " 8930.0           "
      ]
     },
     "execution_count": 119,
     "metadata": {},
     "output_type": "execute_result"
    }
   ],
   "source": [
    "@show var.ρ"
   ]
  },
  {
   "cell_type": "code",
   "execution_count": null,
   "metadata": {},
   "outputs": [],
   "source": []
  }
 ],
 "metadata": {
  "@webio": {
   "lastCommId": null,
   "lastKernelId": null
  },
  "kernelspec": {
   "display_name": "Julia 1.0.0",
   "language": "julia",
   "name": "julia-1.0"
  },
  "language_info": {
   "file_extension": ".jl",
   "mimetype": "application/julia",
   "name": "julia",
   "version": "1.0.0"
  }
 },
 "nbformat": 4,
 "nbformat_minor": 2
}
