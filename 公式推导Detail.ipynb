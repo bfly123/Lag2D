{
 "cells": [
  {
   "cell_type": "markdown",
   "metadata": {},
   "source": [
    "# Deviatoric  coordinate  transformation"
   ]
  },
  {
   "cell_type": "markdown",
   "metadata": {},
   "source": [
    "### In the  cylindrical r-z coordinate:\n",
    "$$ S_{rz\\theta} = \\left(\\begin{array}{lll}\n",
    "    s_{rr}& s_{zr} & \\\\\n",
    "    s_{zr}& s_{zz} &\\\\\n",
    "    & & s_{\\theta\\theta}\\\\\n",
    "    \\end{array}\\right)\n",
    "    $$\n",
    "    \n",
    "### In the spherical  $\\xi$-$\\eta$ coordinate\n",
    "\n",
    "$$ S_{\\xi\\eta\\theta} = \\left(\\begin{array}{lll}\n",
    "    s_{\\xi\\xi}&  & \\\\\n",
    "    & s_{\\eta\\eta} &\\\\\n",
    "    & & s_{\\theta\\theta}\\\\\n",
    "    \\end{array}\\right)\n",
    "    $$"
   ]
  },
  {
   "cell_type": "markdown",
   "metadata": {},
   "source": [
    "### From the spherical  coordinate tranform to cylindrical coordinate "
   ]
  },
  {
   "cell_type": "markdown",
   "metadata": {},
   "source": [
    "<img src=\"coordinate.png\" width = \"400\" height = \"400\" div align=center /> "
   ]
  },
  {
   "cell_type": "markdown",
   "metadata": {},
   "source": [
    "$$ R =  \\left(\\begin{array}{lll}\n",
    "   \\text{cos}\\psi& -\\text{sin}\\psi & \\\\\n",
    "   \\text{sin}\\psi&  \\text{cos}\\psi &\\\\\n",
    "    & & 1\\\\\n",
    "    \\end{array}\\right)\n",
    "    $$"
   ]
  },
  {
   "cell_type": "markdown",
   "metadata": {},
   "source": [
    "$$ S_{rz\\theta} = RS_{\\xi\\eta\\theta}R^T$$"
   ]
  },
  {
   "cell_type": "markdown",
   "metadata": {},
   "source": [
    "$$ \\left(\\begin{array}{lll}\n",
    "    s_{rr}& s_{zr} & \\\\\n",
    "    s_{zr}& s_{zz} &\\\\\n",
    "    & & s_{\\theta\\theta}\\\\\n",
    "    \\end{array}\\right) =  \\left(\\begin{array}{lll}\n",
    "    s_{\\xi\\xi}\\text{cos}^2\\psi + s_{\\eta\\eta}\\text{sin}^2\\psi & (s_{\\xi\\xi}-s_{\\eta\\eta})\\text{sin}\\psi\\text{cos}\\psi & \\\\\n",
    "    (s_{\\xi\\xi}-s_{\\eta\\eta})\\text{sin}\\psi\\text{cos}\\psi& s_{\\xi\\xi}\\text{sin}^2\\psi + s_{\\eta\\eta}\\text{cos}^2\\psi &\\\\\n",
    "    & & s_{\\theta\\theta}\\\\\n",
    "    \\end{array}\\right) $$"
   ]
  },
  {
   "cell_type": "markdown",
   "metadata": {},
   "source": [
    "$$ S_{rz\\theta,i+\\frac{1}{2},j+\\frac{1}{2}} = R(\\phi-\\frac{1}{2}\\Delta\\phi)S_{\\xi\\eta\\theta}R(\\phi-\\frac{1}{2}\\Delta\\phi)^T$$"
   ]
  },
  {
   "cell_type": "markdown",
   "metadata": {},
   "source": [
    "### From the cylindrical coordinate to local coordinate $n$-$\\tau$."
   ]
  },
  {
   "cell_type": "markdown",
   "metadata": {},
   "source": [
    "<img src=\"cellij1.png\" width = \"400\" height = \"400\" div align=center /> "
   ]
  },
  {
   "cell_type": "markdown",
   "metadata": {},
   "source": [
    "$$S_{n\\tau\\theta}(\\phi_i) = L(\\phi_i)S_{rz\\theta}L^T(\\phi_i)$$"
   ]
  },
  {
   "cell_type": "markdown",
   "metadata": {},
   "source": [
    "$$L = R^T$$"
   ]
  },
  {
   "cell_type": "markdown",
   "metadata": {},
   "source": [
    "# Velosity derivatives"
   ]
  },
  {
   "cell_type": "markdown",
   "metadata": {},
   "source": [
    "$ u_{i,j}(0) = U_j(0)\\text{cos}\\phi_i$,$ v_{i,j}(0) = U_j(0)\\text{sin}\\phi_i$, $r_{i,j}(0)=R_j(0)\\text{cos}\\phi_i$ and $ v_{i,j}(0) = R_j(0)\\text{sin}\\phi_i$"
   ]
  },
  {
   "cell_type": "markdown",
   "metadata": {},
   "source": [
    "Area：\n",
    "$$A^I = \\frac{1}{2}\\left( (r_{i,j} - r_{i+1,j+1})(z_{i+1,j}-z_{i,j+1})+(r_{i+1,j}-r_{i,j+1})(z_{i+1,j+1}-z_{i,j})\\right) =\\frac{1}{2} \\text{sin}\\Delta \\phi (R_{j+1}^2-R_{j}^2) $$ "
   ]
  },
  {
   "cell_type": "markdown",
   "metadata": {},
   "source": [
    "$$ \\frac{\\partial u_{i+\\frac{1}{2},j+\\frac{1}{2}}}{\\partial r} = \\frac{1}{2A}\\left( (u_{i+1,j}-u_{i,j+1})(z_{i+1,j+1}-z_{i,j}) +(u_{i+1,j+1}-u_{i,j})(z_{i,j+1}-z_{i+1,j}\\right)$$"
   ]
  },
  {
   "cell_type": "markdown",
   "metadata": {},
   "source": [
    "$$= \\frac{(R_{j+1}U_{j+1}-R_{j}U_{j})\\text{sin}\\Delta\\phi +\\text{cos}(2\\phi-\\Delta\\phi)\\text{sin}\\Delta\\phi(R_jU_{j+1}-R_{j+1}U_j)}{2A}=\\frac{(R_{j+1}U_{j+1}-R_{j}U_{j}) +\\text{cos}(2\\phi-\\Delta\\phi)(R_jU_{j+1}-R_{j+1}U_j)}{R_{j+1}^2-R_{j}^2}$$"
   ]
  },
  {
   "cell_type": "markdown",
   "metadata": {},
   "source": [
    "$$ \\frac{\\partial v_{i+\\frac{1}{2},j+\\frac{1}{2}}}{\\partial z} = -\\frac{1}{2A}\\left( (v_{i+1,j}-v_{i,j+1})(r_{i+1,j+1}-r_{i,j}) +(v_{i+1,j+1}-v_{i,j})(r_{i,j+1}-r_{i+1,j}\\right)\n",
    "=\\frac{(R_{j+1}U_{j+1}-R_{j}U_{j}) -\\text{cos}(2\\phi-\\Delta\\phi)(R_jU_{j+1}-R_{j+1}U_j)}{R_{j+1}^2-R_{j}^2}$$"
   ]
  },
  {
   "cell_type": "markdown",
   "metadata": {},
   "source": [
    "$$ u_c =\\frac{1}{4}( U_j\\text{cos}\\phi+ U_j\\text{cos}(\\phi-\\Delta\\phi)+U_{j+1}\\text{cos}\\phi+U_{j+1}\\text{cos}(\\phi-\\Delta\\phi)) = \\frac{1}{4}(U_j+U_{j+1})[\\text{cos}\\phi+\\text{cos}(\\phi-\\Delta\\phi)]$$"
   ]
  },
  {
   "cell_type": "markdown",
   "metadata": {},
   "source": [
    "$$ r_c =\\frac{1}{4}(R_j+R_{j+1})[\\text{cos}\\phi+\\text{cos}(\\phi-\\Delta\\phi)]$$"
   ]
  },
  {
   "cell_type": "markdown",
   "metadata": {},
   "source": [
    "$$\\frac{u_c}{r_c} = \\frac{U_j+U_{j+1}}{R_j+R_{j+1}}$$"
   ]
  },
  {
   "cell_type": "markdown",
   "metadata": {},
   "source": [
    "$$ \\nabla \\cdot {\\bf{u}} = \\frac{2(R_{j+1}U_{j+1}-R_{j}U_{j})}{R_{j+1}^2-R_{j}^2} + \\frac{U_j+U_{j+1}}{R_j+R_{j+1}}$$"
   ]
  },
  {
   "cell_type": "markdown",
   "metadata": {},
   "source": [
    "$$ \\frac{\\partial v_{i+\\frac{1}{2},j+\\frac{1}{2}}}{\\partial r} = \\frac{1}{2A}\\left( (v_{i+1,j}-v_{i,j+1})(z_{i+1,j+1}-z_{i,j}) +(v_{i+1,j+1}-v_{i,j})(z_{i,j+1}-z_{i+1,j}\\right)\n",
    "=\\frac{(R_jU_{j+1}-R_{j+1}U_j)\\text{sin}(2\\phi-\\Delta\\phi)}{R_{j+1}^2-R_{j}^2}$$"
   ]
  },
  {
   "cell_type": "markdown",
   "metadata": {},
   "source": [
    "$$ \\frac{\\partial u_{i+\\frac{1}{2},j+\\frac{1}{2}}}{\\partial z} = -\\frac{1}{2A}\\left( (u_{i+1,j}-u_{i,j+1})(r_{i+1,j+1}-r_{i,j}) +(u_{i+1,j+1}-u_{i,j})(r_{i,j+1}-r_{i+1,j}\\right) = \\frac{(R_jU_{j+1}-R_{j+1}U_j)\\text{sin}(2\\phi-\\Delta\\phi)}{R_{j+1}^2-R_{j}^2}$$"
   ]
  },
  {
   "cell_type": "markdown",
   "metadata": {},
   "source": [
    "# Deviatoric stress"
   ]
  },
  {
   "cell_type": "markdown",
   "metadata": {},
   "source": [
    "\\begin{equation}\n",
    "  \\begin{array}{l}\n",
    "\t\\displaystyle \\frac{ds_{rr}}{dt}=2\\mu \\left(\\frac{\\partial u}{\\partial r}-\\frac{1}{3}\\nabla \\cdot \\vec{u} \\right) +s_{rz}\\left(\\frac{\\partial u}{\\partial z}-\\frac{\\partial v}{\\partial r}\\right)\\\\[0.3cm]\n",
    "\t\\displaystyle \\frac{ds_{zz}}{dt}=2\\mu \\left(\\frac{\\partial v}{\\partial z}-\\frac{1}{3}\\nabla \\cdot \\vec{u} \\right) -s_{rz}\\left(\\frac{\\partial u}{\\partial z}-\\frac{\\partial v}{\\partial r}\\right)\\\\[0.3cm]\n",
    "    \\displaystyle \\frac{ds_{\\theta\\theta}}{dt}=2\\mu \\left(\\frac{u}{r}-\\frac{1}{3}\\nabla \\cdot \\vec{u} \\right)\\\\[0.3cm]\n",
    "\t\\displaystyle \\frac{ds_{rz}}{dt}=\\mu \\left(\\frac{\\partial u}{\\partial z}+\\frac{\\partial v}{\\partial r}\\right) + \\frac{s_{rr}-s_{zz}}{2}\\left(\\frac{\\partial u}{\\partial z}-\\frac{\\partial v}{\\partial r}\\right)\\\\\n",
    "  \\end{array}\n",
    "  \\end{equation}\n"
   ]
  },
  {
   "cell_type": "markdown",
   "metadata": {},
   "source": [
    " $$ \\frac{ds_{rr,i+\\frac{1}{2},j+\\frac{1}{2}}}{dt}= 2\\mu \\left[\\frac{(R_{j+1}U_{j+1}-R_{j}U_{j}) +\\text{cos}(2\\phi-\\Delta\\phi)(R_jU_{j+1}-R_{j+1}U_j)}{R_{j+1}^2-R_{j}^2}-\\frac{1}{3} \\left(\\frac{2(R_{j+1}U_{j+1}-R_{j}U_{j})}{R_{j+1}^2-R_{j}^2} + \\frac{U_j+U_{j+1}}{R_j+R_{j+1}}\\right)\\right] $$"
   ]
  },
  {
   "cell_type": "markdown",
   "metadata": {},
   "source": [
    " $$ \\frac{ds_{zz,i+\\frac{1}{2},j+\\frac{1}{2}}}{dt}= 2\\mu \\left[\\frac{(R_{j+1}U_{j+1}-R_{j}U_{j}) -\\text{cos}(2\\phi-\\Delta\\phi)(R_jU_{j+1}-R_{j+1}U_j)}{R_{j+1}^2-R_{j}^2}-\\frac{1}{3} \\left(\\frac{2(R_{j+1}U_{j+1}-R_{j}U_{j})}{R_{j+1}^2-R_{j}^2} + \\frac{U_j+U_{j+1}}{R_j+R_{j+1}}\\right)\\right] $$"
   ]
  },
  {
   "cell_type": "markdown",
   "metadata": {},
   "source": [
    "$$ \\frac{ds_{rz,i+\\frac{1}{2},j+\\frac{1}{2}}}{dt}= 2\\mu\\frac{(R_jU_{j+1}-R_{j+1}U_j)\\text{sin}(2\\phi-\\Delta\\phi)}{R_{j+1}^2-R_{j}^2}$$"
   ]
  },
  {
   "cell_type": "markdown",
   "metadata": {},
   "source": [
    "$$ \\frac{d}{dt}\\left(\\begin{array}{lll}\n",
    "    s_{\\xi\\xi}& s_{\\xi\\eta} & \\\\\n",
    "    s_{\\xi\\eta}& s_{\\eta\\eta} &\\\\\n",
    "    & & s_{\\theta\\theta}\\\\\n",
    "    \\end{array}\\right) =  L(\\psi) \\frac{d}{dt}  \\left(\\begin{array}{lll}\n",
    "    s_{rr}& s_{zr} & \\\\\n",
    "    s_{zr}& s_{zz} &\\\\\n",
    "    & & s_{\\theta\\theta}\\\\\n",
    "    \\end{array}\\right) L(\\psi )^T = $$"
   ]
  },
  {
   "cell_type": "markdown",
   "metadata": {},
   "source": [
    "where $\\psi = \\phi-\\frac{1}{2}\\Delta\\phi$"
   ]
  },
  {
   "cell_type": "markdown",
   "metadata": {},
   "source": [
    "$$ \\frac{d}{dt}s_{\\xi\\xi,i+\\frac{1}{2},j+\\frac{1}{2}} = \\frac{d}{dt} \\left[\\frac{\\text{cos}(2\\psi)}{2}(s_{rr}-s_{zz}) + \\frac{s_{rr}+s_{zz}}{2}+ s_{rz}\\text{sin}(2\\psi)\\right]$$"
   ]
  },
  {
   "cell_type": "markdown",
   "metadata": {},
   "source": [
    "$$ = 2\\mu \\frac{\\text{cos}^2(2\\phi-\\Delta\\phi)(R_jU_{j+1}-R_{j+1}U_j)}{R_{j+1}^2-R_{j}^2} + 2\\mu \\left[\\frac{(R_{j+1}U_{j+1}-R_{j}U_{j})}{R_{j+1}^2-R_{j}^2}-\\frac{1}{3} \\left(\\frac{2(R_{j+1}U_{j+1}-R_{j}U_{j})}{R_{j+1}^2-R_{j}^2} + \\frac{U_j+U_{j+1}}{R_j+R_{j+1}}\\right)\\right]+ 2\\mu\\frac{(R_jU_{j+1}-R_{j+1}U_j)\\text{sin}^2(2\\phi-\\Delta\\phi)}{R_{j+1}^2-R_{j}^2}$$"
   ]
  },
  {
   "cell_type": "markdown",
   "metadata": {},
   "source": [
    "$$ =  2\\mu \\frac{R_jU_{j+1}-R_{j+1}U_j}{R_{j+1}^2-R_{j}^2} + 2\\mu \\left[\\frac{(R_{j+1}U_{j+1}-R_{j}U_{j})}{R_{j+1}^2-R_{j}^2}-\\frac{1}{3} \\left(\\frac{2(R_{j+1}U_{j+1}-R_{j}U_{j})}{R_{j+1}^2-R_{j}^2} + \\frac{U_j+U_{j+1}}{R_j+R_{j+1}}\\right)\\right]$$"
   ]
  },
  {
   "cell_type": "markdown",
   "metadata": {},
   "source": [
    "$$ = 8\\mu \\frac{R_{j+1}U_{j+1}-R_jU_j}{3(R_{j+1}^2-R_j^2)}$$ "
   ]
  },
  {
   "cell_type": "markdown",
   "metadata": {},
   "source": [
    "$$\\frac{d}{dt} s_{\\xi\\eta,i+\\frac{1}{2},j+\\frac{1}{2}} = \\frac{d}{dt}\\left[-\\frac{\\text{sin}(2\\psi)}{2}(s_{rr}-s_{zz})+s_{rz}\\text{cos}(2\\psi)\\right]= 0$$"
   ]
  },
  {
   "cell_type": "markdown",
   "metadata": {},
   "source": [
    "$$\\frac{d}{dt} s_{\\eta\\eta,i+\\frac{1}{2},j+\\frac{1}{2}} = \\frac{d}{dt} \\left[\\frac{\\text{cos}(2\\psi)}{2}(s_{zz}-s_{rr}) + \\frac{s_{rr}+s_{zz}}{2}- s_{rz}\\text{sin}(2\\psi)\\right] $$"
   ]
  },
  {
   "cell_type": "markdown",
   "metadata": {},
   "source": [
    "$$ -2\\mu \\frac{R_jU_{j+1}-R_{j+1}U_j}{R_{j+1}^2-R_{j}^2} + 2\\mu \\left[\\frac{(R_{j+1}U_{j+1}-R_{j}U_{j})}{R_{j+1}^2-R_{j}^2}-\\frac{1}{3} \\left(\\frac{2(R_{j+1}U_{j+1}-R_{j}U_{j})}{R_{j+1}^2-R_{j}^2} + \\frac{U_j+U_{j+1}}{R_j+R_{j+1}}\\right)\\right] =$$"
   ]
  },
  {
   "cell_type": "markdown",
   "metadata": {},
   "source": [
    "$$ \\frac{4\\mu}{3}\\frac{ 2R_jU_j-3R_jU_{j+1}+3R_{j+1}U_j+2R_{j+1}U_{j+1}}{R_{j+1}^2 - R_j^2}$$"
   ]
  },
  {
   "cell_type": "markdown",
   "metadata": {},
   "source": [
    "Also  $$s_{\\xi\\xi} +s_{\\eta\\eta}+s_{\\theta\\theta} = 0$$ \n",
    "We have \n",
    "$$ \\frac{d}{dt}s_{\\theta\\theta,i+\\frac{1}{2},j+\\frac{1}{2}} = \\frac{d}{dt}s_{\\eta\\eta,i+\\frac{1}{2},j+\\frac{1}{2}}$$"
   ]
  },
  {
   "cell_type": "markdown",
   "metadata": {},
   "source": [
    "Let $$ s_{\\xi\\xi}(0) = 2s_{\\eta\\eta}(0) =2s_{\\theta\\theta}(0)$$ \n",
    "Then $$ s_{\\xi\\xi}(t) = 2s_{\\eta\\eta}(t) =2s_{\\theta\\theta}(t)$$ "
   ]
  },
  {
   "cell_type": "markdown",
   "metadata": {},
   "source": [
    "# Energy Equation\n",
    "\n",
    "$$ \\frac{de}{dt} = \\frac{1}{\\rho A} \\left[\\sigma_{rr}\\int \\frac{\\partial u}{\\partial r}drdz + \\sigma_{zz}\\frac{\\partial v}{\\partial z}drdz + \\sigma_{rz} \\int \\left( \\frac{\\partial u}{\\partial z}+\\frac{\\partial v}{\\partial r}\\right)dr dz \\right] + \\nu \\sigma_{\\theta \\theta} \\frac{u_c}{r_c} $$"
   ]
  },
  {
   "cell_type": "markdown",
   "metadata": {},
   "source": [
    "$$ = \\frac{1}{\\rho A} p\\nabla \\cdot {\\bf{u}} + \\left(s_{\\xi\\xi} \\text{cos}^2(\\phi-\\frac{1}{2}\\Delta\\phi) + s_{\\eta\\eta} \\text{sin}^2(\\phi-\\frac{1}{2}\\Delta\\phi)\\right) (\\frac{(R_{j+1}U_{j+1}-R_{j}U_{j}) +\\text{cos}(2\\phi-\\Delta\\phi)(R_jU_{j+1}-R_{j+1}U_j)}{R_{j+1}^2-R_{j}^2}) + \\left(s_{\\xi\\xi} \\text{sin}^2(\\phi-\\frac{1}{2}\\Delta\\phi) + s_{\\eta\\eta} \\text{cos}^2(\\phi-\\frac{1}{2}\\Delta\\phi)\\right)(\\frac{(R_{j+1}U_{j+1}-R_{j}U_{j}) -\\text{cos}(2\\phi-\\Delta\\phi)(R_jU_{j+1}-R_{j+1}U_j)}{R_{j+1}^2-R_{j}^2}) + (s_{\\xi\\xi}-s_{\\eta\\eta})\\text{sin}(2\\phi-\\Delta\\phi)\\frac{(R_jU_{j+1}-R_{j+1}U_j)\\text{sin}(2\\phi-\\Delta\\phi)}{R_{j+1}^2-R_{j}^2} + \\nu s_{\\theta\\theta}\\frac{U_j+U_{j+1}}{R_j+R_{j+1}}$$"
   ]
  },
  {
   "cell_type": "markdown",
   "metadata": {},
   "source": [
    "$$ = \\frac{1}{\\rho} p\\nabla \\cdot {\\bf{u}} +  \\frac{(s_{\\xi\\xi}+s_{\\eta\\eta})(R_{j+1}U_{j+1}-R_{j}U_{j})}{R_{j+1}^2-R_{j}^2} + \\frac{\\text{cos}(2\\phi-\\Delta\\phi)(R_jU_{j+1}-R_{j+1}U_j)(-s_{\\xi\\xi}+s_{\\eta\\eta})(\\text{cos}^2(\\phi-\\frac{1}{2}\\Delta\\phi)-\\text{sin}^2(\\phi-\\frac{1}{2}\\Delta\\phi))}{R_{j+1}^2-R_{j}^2} + (s_{\\eta\\eta}-s_{\\xi\\xi})\\text{sin}(2\\phi-\\Delta\\phi)\\frac{(R_jU_{j+1}-R_{j+1}U_j)\\text{sin}(2\\phi-\\Delta\\phi)}{R_{j+1}^2-R_{j}^2} + \\nu s_{\\theta\\theta}\\frac{U_j+U_{j+1}}{R_j+R_{j+1}}$$"
   ]
  },
  {
   "cell_type": "markdown",
   "metadata": {},
   "source": [
    "$$ = \\frac{1}{\\rho} p\\nabla \\cdot {\\bf{u}} +  \\frac{(s_{\\xi\\xi}+s_{\\eta\\eta})(R_{j+1}U_{j+1}-R_{j}U_{j})}{R_{j+1}^2-R_{j}^2} + \\frac{(R_jU_{j+1}-R_{j+1}U_j)(s_{\\eta\\eta}-s_{\\xi\\xi})}{R_{j+1}^2-R_{j}^2}+ \\nu s_{\\theta\\theta}\\frac{U_j+U_{j+1}}{R_j+R_{j+1}}$$"
   ]
  },
  {
   "cell_type": "markdown",
   "metadata": {},
   "source": [
    "$$= \\frac{p_{j+\\frac{1}{2}}}{\\rho_{j+\\frac{1}{2}} }\\left[\\frac{2(R_{j+1}U_{j+1}-R_{j}U_{j})}{R_{j+1}^2-R_{j}^2} + \\frac{U_j+U_{j+1}}{R_j+R_{j+1}}\\right] +\\frac{(s_{\\xi\\xi}+s_{\\eta\\eta})(R_{j+1}U_{j+1}-R_{j}U_{j})}{R_{j+1}^2-R_{j}^2} + \\frac{(R_jU_{j+1}-R_{j+1}U_j)(s_{\\eta\\eta}-s_{\\xi\\xi})}{R_{j+1}^2-R_{j}^2}+ \\nu s_{\\theta\\theta}\\frac{U_j+U_{j+1}}{R_j+R_{j+1}} $$"
   ]
  },
  {
   "cell_type": "markdown",
   "metadata": {},
   "source": [
    "# Force"
   ]
  },
  {
   "cell_type": "markdown",
   "metadata": {},
   "source": [
    "\\begin{equation}\n",
    "  \\begin{array}{l}\n",
    "\t\\displaystyle \\rho \\frac{du}{dt}=\\frac{\\partial \\sigma _{rr}}{\\partial r}+ \\frac{\\partial s_{rz}}{\\partial z} + \\frac{\\sigma_{rr}-\\sigma_{\\theta \\theta}}{r} \\\\\n",
    "  \\displaystyle \\rho \\frac{dv}{dt}=\\frac{\\partial \\sigma _{zz}}{\\partial z}+ \\frac{\\partial s_{rz}}{\\partial r} + \\frac{s_{rz}}{r}\\\\\n",
    "  \\end{array}\n",
    "  \\end{equation}"
   ]
  },
  {
   "cell_type": "markdown",
   "metadata": {},
   "source": [
    " $$ F_r(i,j) =\\frac{\\partial p}{\\partial r} + \\frac{\\partial s _{rr}}{\\partial r}+ \\frac{\\partial s_{rz}}{\\partial z} + \\frac{s_{rr}-s_{\\theta \\theta}}{r} $$"
   ]
  },
  {
   "cell_type": "markdown",
   "metadata": {},
   "source": [
    "<img src=\"Cellij.png\" width = \"400\" height = \"400\" div align=center /> "
   ]
  },
  {
   "cell_type": "markdown",
   "metadata": {},
   "source": [
    "##  Cell I"
   ]
  },
  {
   "cell_type": "markdown",
   "metadata": {},
   "source": [
    "The angles of $n_1$...$n_4$  are $$ \\phi_1 = \\phi-\\Delta\\phi-\\frac{\\pi}{2}$$ \n",
    "$$ \\phi_2 = \\phi-\\frac{\\Delta\\phi}{2}$$\n",
    "$$\\phi_3 = \\phi +\\frac{\\pi}{2}$$\n",
    "$$\\phi_4=\\phi-\\frac{1}{2}\\Delta\\phi+\\frac{\\pi}{2}$$"
   ]
  },
  {
   "cell_type": "markdown",
   "metadata": {},
   "source": [
    "$$S_{n\\tau\\theta}(\\phi_i) = L(\\phi_i)R(\\phi-\\frac{1}{2}\\Delta\\phi)S_{\\xi\\eta\\theta}R^T(\\phi-\\frac{1}{2}\\Delta\\phi)L^T(\\phi_i) = \\left( \\begin{array}{lll}\n",
    "s_η \\text{sin}^2(ϕ- \\frac{1}{2}\\Delta\\phi - ϕ_i) + s_ξ \\text{cos}^2(ϕ -\\frac{1}{2}\\Delta\\phi- ϕ_i)& \\frac{1}{2}(s_η - s_ξ)\\text{sin}(2(ϕ - \\frac{1}{2}\\Delta\\phi- ϕ_i)) &    \\\\\n",
    "\\frac{1}{2}(s_η - s_ξ)\\text{sin}(2(ϕ-\\frac{1}{2}\\Delta\\phi - ϕ_i))  &          s_η\\text{cos}^2(ϕ-\\frac{1}{2}\\Delta\\phi - ϕ_i) + s_ξ \\text{sin}^2(ϕ -\\frac{1}{2}\\Delta\\phi- ϕ_i)&  \\\\ \n",
    "& & s_r\\\\ \\end{array}\\right)\n",
    "$$"
   ]
  },
  {
   "cell_type": "markdown",
   "metadata": {},
   "source": [
    "$$S_{n\\tau\\theta}(\\phi_1) = \\left(\\begin{array}{lll}\n",
    "    s_{\\xi\\xi} \\text{sin}^2(\\frac{\\Delta\\phi}{2}) +s_{\\eta\\eta}\\text{cos}^2(\\frac{\\Delta\\phi}{2}) & (s_{\\xi\\xi}-s_{\\eta\\eta})\\text{sin}\\Delta\\phi & \\\\\n",
    "  (s_{\\xi\\xi}-s_{\\eta\\eta})\\text{sin}\\Delta\\phi   &s_{\\xi\\xi} \\text{cos}^2(\\frac{\\Delta\\phi}{2}) +s_{\\eta\\eta}\\text{sin}^2(\\frac{\\Delta\\phi}{2}) &\\\\\n",
    "    & & s_{\\theta\\theta}\\\\\n",
    "    \\end{array}\\right) $$\n",
    "\n",
    "\n",
    "\n",
    "$$S_{n\\tau\\theta}(\\phi_2) = \\left(\\begin{array}{lll}\n",
    "    s_{\\xi\\xi} &  & \\\\\n",
    "     & s_{\\eta\\eta} &\\\\\n",
    "    & & s_{\\theta\\theta}\\\\\n",
    "    \\end{array}\\right) $$\n",
    "\n",
    "\n",
    "$$S_{n\\tau\\theta}(\\phi_3) = \\left(\\begin{array}{lll}\n",
    "    s_{\\xi\\xi} \\text{sin}^2(\\frac{\\Delta\\phi}{2}) +s_{\\eta\\eta}\\text{cos}^2(\\frac{\\Delta\\phi}{2}) & (s_{\\eta\\eta}-s_{\\xi\\xi})\\text{sin}\\Delta\\phi & \\\\\n",
    "  (s_{\\eta\\eta}-s_{\\xi\\xi})\\text{sin}\\Delta\\phi   &s_{\\xi\\xi} \\text{cos}^2(\\frac{\\Delta\\phi}{2}) +s_{\\eta\\eta}\\text{sin}^2(\\frac{\\Delta\\phi}{2}) &\\\\\n",
    "    & & s_{\\theta\\theta}\\\\\n",
    "    \\end{array}\\right) $$    \n",
    "  \n",
    " $$S_{n\\tau\\theta}(\\phi_4) = \\left(\\begin{array}{lll}\n",
    "    s_{\\xi\\xi} &  & \\\\\n",
    "     & s_{\\eta\\eta} &\\\\\n",
    "    & & s_{\\theta\\theta}\\\\\n",
    "    \\end{array}\\right) $$"
   ]
  },
  {
   "cell_type": "markdown",
   "metadata": {},
   "source": [
    "### For Point 4"
   ]
  },
  {
   "cell_type": "markdown",
   "metadata": {},
   "source": [
    "$$ {\\bf{F}}_4^I = \\frac{1}{2}L_4[(s_{nn4}-p) {\\bf{n_4}} +s_{n\\tau4} {\\bf{\\tau_4}} ]+ \\frac{1}{2}L_3[ (s_{nn3}-p) {\\bf{n_3}} +s_{n\\tau3} {\\bf{\\tau_3}}] +\\frac{A}{4}[\\frac{(s_{rr}-s_{\\theta\\theta})}{r_c} {\\bf{n}}_r + \\frac{s_{rz}}{r_c}{\\bf{n}}_z] $$"
   ]
  },
  {
   "cell_type": "markdown",
   "metadata": {},
   "source": [
    "let $$ F_4^{I(1)}= \\frac{1}{2}L_4[(s_{nn4}-p) {\\bf{n_4}} +s_{n\\tau4} {\\bf{\\tau_4}} ]+ \\frac{1}{2}L_3[ (s_{nn3}-p) {\\bf{n_3}} +s_{n\\tau3} {\\bf{\\tau_3}}]$$\n",
    "$$F_4^{I(2)} = \\frac{A}{4}[\\frac{(s_{rr}-s_{\\theta\\theta})}{r_c} {\\bf{n}}_r + \\frac{s_{rz}}{r_c}{\\bf{n}}_z]$$"
   ]
  },
  {
   "cell_type": "markdown",
   "metadata": {},
   "source": [
    "where $s_{nn4} = s_{\\xi\\xi}$ and $s_{n\\tau4} =0$ "
   ]
  },
  {
   "cell_type": "markdown",
   "metadata": {},
   "source": [
    "$$ {\\bf{F}}_4^{I(1)} = \\frac{1}{2}L_4^I(s_{\\xi\\xi}-p) {\\bf{n_4^I}} + \\frac{1}{2}L_3^I[(s_{nn3}^I-p) {\\bf{n}}_3^I +s_{n\\tau3}^I {\\bf{\\tau}}_3^I] +\\frac{(s_{rr}-s_{\\theta\\theta})}{r_c} {\\bf{n}}_r + \\frac{s_{rz}}{r_c}{\\bf{n}}_z $$"
   ]
  },
  {
   "cell_type": "markdown",
   "metadata": {},
   "source": [
    "同理 $$ {\\bf{F}}_1^{II(1)} = \\frac{1}{2}L_4^{II}(s_{\\xi\\xi}-p) {\\bf{n_4^{II}}} +\\frac{1}{2}L_1^{II}[ (s_{nn1}^{II}-p) {\\bf{n}}_1^{II} +s_{n\\tau1}^{II} {\\bf{\\tau}}_1^{II}] $$"
   ]
  },
  {
   "cell_type": "markdown",
   "metadata": {},
   "source": [
    "$${\\bf{F}}_4^{I(1)}  +{\\bf{F}}_1^{II(1)} =\\frac{1}{2}L_4^I (s_{\\xi\\xi}-p) ({\\bf{n_4^I}+\\bf{n_4^{II}}})+\\frac{1}{2}L_3^I[(s_{nn3}^I-s_{nn1}^{II}){\\bf{n}}_3^I+(s_{n\\tau3}^I-s_{n\\tau1}^{II}){\\bf{\\tau}}_3^I]$$"
   ]
  },
  {
   "cell_type": "markdown",
   "metadata": {},
   "source": [
    "where ${\\bf{n}}_3^I =-{\\bf{n}}_1^{II}$, $L_4^I = L_4^{II}$, ${\\bf{\\tau}}_1^{II} = -{\\bf{\\tau}}_3^{I}$ and $L_1^{II} =L_3^I$."
   ]
  },
  {
   "cell_type": "markdown",
   "metadata": {},
   "source": [
    "## For cell II"
   ]
  },
  {
   "cell_type": "markdown",
   "metadata": {},
   "source": [
    "$$\\phi_1 = \\phi-\\frac{\\pi}{2}$$"
   ]
  },
  {
   "cell_type": "markdown",
   "metadata": {},
   "source": [
    "$$S_{n\\tau\\theta}(\\phi_1) = L(\\phi_1)R(\\phi+\\frac{1}{2}\\Delta\\phi)S_{\\xi\\eta\\theta}R^T(\\phi+\\frac{1}{2}\\Delta\\phi)L^T(\\phi_1) = \\left( \\begin{array}{lll}\n",
    "s_η \\text{cos}^2(\\frac{1}{2}\\Delta\\phi) + s_ξ \\text{sin}^2(\\frac{1}{2}\\Delta\\phi)& -\\frac{1}{2}(s_η - s_ξ)\\text{sin}(\\Delta\\phi) &    \\\\\n",
    "-\\frac{1}{2}(s_η - s_ξ)\\text{sin}(\\Delta\\phi)  &          s_η\\text{sin}^2(\\frac{1}{2}\\Delta\\phi) + s_ξ \\text{cos}^2(\\frac{1}{2}\\Delta\\phi)&  \\\\ \n",
    "& & s_r\\\\ \\end{array}\\right)\n",
    "$$"
   ]
  },
  {
   "cell_type": "markdown",
   "metadata": {},
   "source": [
    "We have $s_{nn3}^I=s_{nn1}^{II}$ and $s_{n\\tau3}^I=-s_{n\\tau1}^{II}= \\frac{1}{2}(s_η - s_ξ)\\text{sin}(\\Delta\\phi) $"
   ]
  },
  {
   "cell_type": "markdown",
   "metadata": {},
   "source": [
    "## Sum of cell I and II of Part 1"
   ]
  },
  {
   "cell_type": "markdown",
   "metadata": {},
   "source": [
    "$${\\bf{F}}_4^{I(1)}  +{\\bf{F}}_1^{II(1)} = \\frac{1}{2}L_4^I(s_{\\xi\\xi}-p) ({\\bf{n_4^I}+\\bf{n_4^{II}}})+L_3^I(s_{\\eta\\eta} - s_{\\xi\\xi})\\text{sin}(\\Delta\\phi){\\bf{\\tau}}_3^I$$"
   ]
  },
  {
   "cell_type": "markdown",
   "metadata": {},
   "source": [
    "$$ L_4^I{\\bf{n}}_4^{I} = (-z_{i+1,j}+z_{i,j},r_{i+1,j}-r_{i,j}) = R_j(-\\text{sin}(\\phi - \\Delta\\phi)+\\text{sin}\\phi,\\text{cos}(\\phi-\\Delta\\phi)-\\text{cos}(\\phi))$$\n",
    "$$L_4^{II} {\\bf{n}}_4^{II} = (-z_{i,j}+z_{i-1,j},r_{i,j}-r_{i-1,j}) = R_j(-\\text{sin}\\phi +\\text{sin}(\\phi+\\Delta\\phi),\\text{cos}\\phi-\\text{cos}(\\phi+\\Delta\\phi))$$\n",
    "$$ L_3^{I}{\\bf{\\tau}}_3^{I} = (-z_{i,j}+z_{i,j+1},r_{i,j}-r_{i,j+1})= \\frac{1}{2}(R_j-R_{j+1})(\\text{sin}\\phi,\\text{cos}\\phi)$$"
   ]
  },
  {
   "cell_type": "markdown",
   "metadata": {},
   "source": [
    "So $${\\bf{F}}_4^{I(1)}  +{\\bf{F}}_1^{II(1)} = (s_{\\xi\\xi}-p)R_j\\text{sin}\\Delta\\phi(\\text{cos}\\phi,\\text{sin}\\phi)+\\frac{1}{2}(R_j-R_{j+1})(s_{\\eta\\eta} - s_{\\xi\\xi})\\text{sin}\\Delta\\phi(\\text{cos}\\phi,\\text{sin}\\phi)$$"
   ]
  },
  {
   "cell_type": "markdown",
   "metadata": {},
   "source": [
    "$$ = \\left[\\left(\\frac{s_{\\eta\\eta}+s_{\\xi\\xi}}{2}-p\\right)R_j + \\frac{1}{2}(s_{\\xi\\xi}-s_{\\eta\\eta})R_{j+1}\\right] \\text{sin}\\Delta\\phi (\\text{cos}\\phi,\\text{sin}\\phi)$$"
   ]
  },
  {
   "cell_type": "markdown",
   "metadata": {},
   "source": [
    "## Part 2"
   ]
  },
  {
   "cell_type": "markdown",
   "metadata": {},
   "source": [
    "$$ {\\bf{n}}_\\xi = { \\bf{n}}_r\\text{cos}\\phi + {\\bf{n}}_z\\text{sin}\\phi $$ \n",
    "$$ {\\bf{n}}_\\eta = { \\bf{n}}_r\\text{sin}\\phi - {\\bf{n}}_z\\text{cos}\\phi $$ "
   ]
  },
  {
   "cell_type": "markdown",
   "metadata": {},
   "source": [
    "$$ {\\bf{n}}_r = { \\bf{n}}_\\xi\\text{cos}\\phi + {\\bf{n}}_\\eta\\text{sin}\\phi $$ \n",
    "$$ {\\bf{n}}_z = { \\bf{n}}_\\xi\\text{sin}\\phi - {\\bf{n}}_\\eta\\text{cos}\\phi $$ "
   ]
  },
  {
   "cell_type": "markdown",
   "metadata": {},
   "source": [
    "### For Cell I"
   ]
  },
  {
   "cell_type": "markdown",
   "metadata": {},
   "source": [
    "For cell I, $\\psi = \\phi - \\frac{1}{2}\\Delta \\phi$."
   ]
  },
  {
   "cell_type": "markdown",
   "metadata": {},
   "source": [
    "$${\\bf{F}}_4^{I(2)} = \\frac{A^I}{4r^I_c}[(s_{rr}-s_{\\theta\\theta}) {\\bf{n}}_r + s_{rz}{\\bf{n}}_z]$$"
   ]
  },
  {
   "cell_type": "markdown",
   "metadata": {},
   "source": [
    "$$ r_c^I =\\frac{1}{4}(R_j+R_{j+1})[\\text{cos}\\phi+\\text{cos}(\\phi-\\Delta\\phi)]$$"
   ]
  },
  {
   "cell_type": "markdown",
   "metadata": {},
   "source": [
    "$$ = \\frac{1}{2}(R_j+R_{j+1})\\text{cos}(\\phi-\\frac{\\Delta\\phi}{2})\\text{cos}\\frac{\\Delta\\phi}{2}$$"
   ]
  },
  {
   "cell_type": "markdown",
   "metadata": {},
   "source": [
    "$$A^I=\\frac{1}{2} \\text{sin}\\Delta \\phi (R_{j+1}^2-R_{j}^2) $$ "
   ]
  },
  {
   "cell_type": "markdown",
   "metadata": {},
   "source": [
    "$$s_{rr} = s_{\\xi\\xi}\\text{sin}^2\\psi+s_{\\eta\\eta}\\text{cos}^2\\psi$$\n",
    "$$s_{zz} = s_{\\xi\\xi}\\text{cos}^2\\psi+s_{\\eta\\eta}\\text{sin}^2\\psi$$"
   ]
  },
  {
   "cell_type": "markdown",
   "metadata": {},
   "source": [
    "$$s_{rz} = (s_{\\eta\\eta}-s_{\\xi\\xi})\\text{sin}\\psi\\text{cos}\\psi$$"
   ]
  },
  {
   "cell_type": "markdown",
   "metadata": {},
   "source": [
    "$${\\bf{F}}_4^{I(2)} = \\frac{A^I}{4r^I_c}[[(s_{rr}-s_{\\theta\\theta}) \\text{cos}\\phi + s_{rz}\\text{sin}\\phi]{\\bf{n}}_\\xi  + [(s_{rr}-s_{\\theta\\theta}) \\text{sin}\\phi - s_{rz}\\text{cos}\\phi]{\\bf{n}}_\\eta ]$$"
   ]
  },
  {
   "cell_type": "markdown",
   "metadata": {},
   "source": [
    "$$ =  \\frac{A^I}{4r^I_c} \\left[ (s_{\\xi\\xi} \\text{cos}^2\\psi+s_{\\eta\\eta}\\text{sin}^2\\psi-s_{\\theta\\theta})\\text{cos}\\phi + (s_{\\xi\\xi} -s_{\\eta\\eta})\\text{sin}\\psi\\text{cos}\\psi\\text{sin}\\phi \\right] {\\bf{n}}_\\xi + \n",
    " \\left[ (s_{\\xi\\xi} \\text{cos}^2\\psi+s_{\\eta\\eta}\\text{sin}^2\\psi-s_{\\theta\\theta})\\text{sin}\\phi - (s_{\\xi\\xi} -s_{\\eta\\eta})\\text{sin}\\psi\\text{cos}\\psi\\text{cos}\\phi \\right] {\\bf{n}}_\\eta$$"
   ]
  },
  {
   "cell_type": "markdown",
   "metadata": {},
   "source": [
    "Substitute $s_{\\xi\\xi} = 2s_{\\theta\\theta} =2s_{\\eta\\eta}$ in, we get \n",
    "$${\\bf{F}}_4^{I(2)} = \\frac{A^I s_{\\eta\\eta}}{4r^I_c} \\left[ \\text{cos}(\\phi - \\frac{1}{2}\\Delta\\phi)\\text{cos}\\frac{\\Delta\\phi}{2}{\\bf{n}}_\\xi+\\text{cos}(\\phi - \\frac{1}{2}\\Delta\\phi)\\text{sin}\\frac{\\Delta\\phi}{2} {\\bf{n}}_\\eta\\right] $$"
   ]
  },
  {
   "cell_type": "markdown",
   "metadata": {},
   "source": [
    "$$ = \\frac{\\text{sin}\\Delta\\phi(R_{j+1}-R_j)}{4}s_{\\eta\\eta}[{\\bf{n}}_\\xi +\\text{tan}\\frac{\\Delta\\phi}{2}{\\bf{n}}_\\eta]$$"
   ]
  },
  {
   "cell_type": "markdown",
   "metadata": {},
   "source": [
    "By the same process we have \n",
    "$$ {\\bf{F}}_1^{II(2)} =  \\frac{\\text{sin}\\Delta\\phi(R_{j+1}-R_j)}{4}s_{\\eta\\eta}[{\\bf{n}}_\\xi -\\text{tan}\\frac{\\Delta\\phi}{2}{\\bf{n}}_\\eta]$$"
   ]
  },
  {
   "cell_type": "markdown",
   "metadata": {},
   "source": [
    "At last we have \n",
    "\n",
    "$$  {\\bf{F}}_1^{II}+{\\bf{F}}_4^{I} = \\left[s_{\\eta\\eta,j+\\frac{1}{2}}(R_j+R_{j+1})-p_{j+\\frac{1}{2}}R_j\\right] \\text{sin}\\Delta \\phi {\\bf{n}}_\\xi$$"
   ]
  },
  {
   "cell_type": "markdown",
   "metadata": {},
   "source": [
    "## Hourglass viscosity"
   ]
  },
  {
   "cell_type": "markdown",
   "metadata": {},
   "source": [
    "$$ \\text{hg}_x = u_1 -u_2 + u_3 - u_4$$ \n",
    "$$ \\text{hg}_x = v_1 -v_2 + v_3 - v_4$$ \n",
    "\n",
    "$$ e_{1x} = -\\frac{1}{4}q\\rho c\\sqrt{A}\\text{hg}_x $$\n",
    "$$ e_{1y} = -\\frac{1}{4}q\\rho c\\sqrt{A}\\text{hg}_y $$\n",
    "\n",
    "$$ e_{2x} = \\frac{1}{4}q\\rho c\\sqrt{A}\\text{hg}_x $$\n",
    "$$ e_{2y} = \\frac{1}{4}q\\rho c\\sqrt{A}\\text{hg}_y $$\n",
    "\n",
    "$$ e_{3x} = -\\frac{1}{4}q\\rho c\\sqrt{A}\\text{hg}_x $$\n",
    "$$ e_{3y} = -\\frac{1}{4}q\\rho c\\sqrt{A}\\text{hg}_y $$\n",
    "\n",
    "$$ e_{4x} = \\frac{1}{4}q\\rho c\\sqrt{A}\\text{hg}_x $$\n",
    "$$ e_{4y} = \\frac{1}{4}q\\rho c\\sqrt{A}\\text{hg}_y $$"
   ]
  },
  {
   "cell_type": "markdown",
   "metadata": {},
   "source": [
    "### Cell I $[i,j]-[i+1,j]-[i+1,j+1]-[i,j+1]$: \n",
    "$$\\text{hg}_x = U_j\\text{cos}\\phi-U_j\\text{cos}(\\phi-\\Delta \\phi)+U_{j+1}\\text{cos}(\\phi-\\Delta\\phi)-U_{j+1}\\text{cos}\\phi  = (U_{j+1}-U_{j})\\left(\\text{cos}(\\phi-\\Delta \\phi)-\\text{cos}(\\phi)\\right)$$"
   ]
  },
  {
   "cell_type": "markdown",
   "metadata": {},
   "source": [
    "### Cell V $[i-1,j]-[i,j]-[i,j+1]-[i-1,j+1]$: "
   ]
  },
  {
   "cell_type": "markdown",
   "metadata": {},
   "source": [
    "$$\\text{hg}_x = U_j\\text{cos}(\\phi+\\Delta\\phi)-U_j\\text{cos}(\\phi)+U_{j+1}\\text{cos}(\\phi)-U_{j+1}\\text{cos}(\\phi+\\Delta\\phi)  = (U_{j+1}-U_{j})\\left(\\text{cos}(\\phi)-\\text{cos}(\\phi+\\Delta\\phi)\\right)$$\n",
    "$$ e_{2x}^V + e_{1x}^I = q\\rho_{j+\\frac{1}{2}}c_{j+\\frac{1}{2}}\\sqrt{(R_{j+1}^2-R_j^2)\\text{sin}\\Delta \\phi}(U_{j+1}-U_{j})\\left(2\\text{cos}(\\phi)-\\text{cos}(\\phi-\\Delta\\phi) -\\text{cos}(\\phi+\\Delta \\phi)\\right)$$\n",
    "$$ = -4 q\\rho_{j+\\frac{1}{2}}c_{j+\\frac{1}{2}}\\sqrt{(R_{j+1}^2-R_j^2)\\text{sin}\\Delta \\phi}(U_{j+1}-U_{j})\\text{sin}\\Delta \\phi \\text{sin}\\frac{\\Delta \\phi}{2}\\text{cos}\\phi $$"
   ]
  }
 ],
 "metadata": {
  "@webio": {
   "lastCommId": null,
   "lastKernelId": null
  },
  "kernelspec": {
   "display_name": "Julia 1.1.0",
   "language": "julia",
   "name": "julia-1.1"
  },
  "language_info": {
   "file_extension": ".jl",
   "mimetype": "application/julia",
   "name": "julia",
   "version": "1.1.0"
  }
 },
 "nbformat": 4,
 "nbformat_minor": 2
}
