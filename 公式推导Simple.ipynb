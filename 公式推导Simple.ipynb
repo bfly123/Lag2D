{
 "cells": [
  {
   "cell_type": "markdown",
   "metadata": {},
   "source": [
    "### In  local r-z coordinate:\n",
    "$$ S_{rz\\theta} = \\left(\\begin{array}{lll}\n",
    "    s_{rr}& s_{zr} & \\\\\n",
    "    s_{zr}& s_{zz} &\\\\\n",
    "    & & s_{\\theta\\theta}\\\\\n",
    "    \\end{array}\\right)\n",
    "    $$\n",
    "    \n",
    "### In the spherically  $\\xi$-$\\eta$ coordinate\n",
    "\n",
    "$$ S_{\\xi\\eta\\theta} = \\left(\\begin{array}{lll}\n",
    "    s_{\\xi\\xi}&  & \\\\\n",
    "    & s_{\\eta\\eta} &\\\\\n",
    "    & & s_{\\theta\\theta}\\\\\n",
    "    \\end{array}\\right)\n",
    "    $$"
   ]
  },
  {
   "cell_type": "markdown",
   "metadata": {},
   "source": [
    "## From one coordinate tranform to another coordinate "
   ]
  },
  {
   "cell_type": "markdown",
   "metadata": {},
   "source": [
    "<img src=\"coordinate.png\" width = \"400\" height = \"400\" div align=center /> "
   ]
  },
  {
   "cell_type": "markdown",
   "metadata": {},
   "source": [
    "$$ R =  \\left(\\begin{array}{lll}\n",
    "   \\text{cos}\\psi& \\text{sin}\\psi & \\\\\n",
    "   -\\text{sin}\\psi&  \\text{cos}\\psi &\\\\\n",
    "    & & 1\\\\\n",
    "    \\end{array}\\right)\n",
    "    $$"
   ]
  },
  {
   "cell_type": "markdown",
   "metadata": {},
   "source": [
    "$$ S_{rz\\theta} = RS_{\\xi\\eta\\theta}R^T$$"
   ]
  },
  {
   "cell_type": "markdown",
   "metadata": {},
   "source": [
    "$$ \\left(\\begin{array}{lll}\n",
    "    s_{rr}& s_{zr} & \\\\\n",
    "    s_{zr}& s_{zz} &\\\\\n",
    "    & & s_{\\theta\\theta}\\\\\n",
    "    \\end{array}\\right) =  \\left(\\begin{array}{lll}\n",
    "    s_{\\xi\\xi}\\text{sin}^2\\psi + s_{\\eta\\eta}\\text{cos}^2\\psi & (s_{\\eta\\eta}-s_{\\xi\\xi})\\text{sin}\\psi\\text{cos}\\psi & \\\\\n",
    "    (s_{\\eta\\eta}-s_{\\xi\\xi})\\text{sin}\\psi\\text{cos}\\psi& s_{\\xi\\xi}\\text{cos}^2\\psi + s_{\\eta\\eta}\\text{sin}^2\\psi &\\\\\n",
    "    & & s_{\\theta\\theta}\\\\\n",
    "    \\end{array}\\right) $$"
   ]
  },
  {
   "cell_type": "markdown",
   "metadata": {},
   "source": [
    "$$ {s_{rr}} = s_{\\xi\\xi} \\text{sin}^2\\psi + s_{\\eta\\eta}\\text{cos}^2\\psi$$\n",
    "$$ {s_{zz}} = s_{\\xi\\xi} \\text{cos}^2\\psi + s_{\\eta\\eta}\\text{sin}^2\\psi$$\n",
    "$$ {s_{rz}} = (s_{\\eta\\eta}-s_{\\xi\\xi})\\text{sin}\\psi\\text{cos}\\psi$$"
   ]
  },
  {
   "cell_type": "markdown",
   "metadata": {},
   "source": [
    "## The derivatives of velocities:"
   ]
  },
  {
   "cell_type": "markdown",
   "metadata": {},
   "source": [
    "<img src=\"cellij1.png\" width = \"400\" height = \"400\" div align=center /> "
   ]
  },
  {
   "cell_type": "markdown",
   "metadata": {},
   "source": [
    "$ u_{i,j}(0) = U_j(0)\\text{cos}\\phi_i$,$ v_{i,j}(0) = U_j(0)\\text{sin}\\phi_i$, $r_{i,j}(0)=R_j(0)\\text{cos}\\phi_i$ and $ v_{i,j}(0) = R_j(0)\\text{sin}\\phi_i$"
   ]
  },
  {
   "cell_type": "markdown",
   "metadata": {},
   "source": [
    "Area：\n",
    "$$A^I =\\frac{1}{2} \\text{sin}\\Delta \\phi (R_{j+1}^2-R_{j}^2) $$ "
   ]
  },
  {
   "cell_type": "markdown",
   "metadata": {},
   "source": [
    "$$ \\frac{\\partial u_{i+\\frac{1}{2},j+\\frac{1}{2}}}{\\partial r} = \\frac{(R_{j+1}U_{j+1}-R_{j}U_{j}) +\\text{cos}(2\\phi-\\Delta\\phi)(R_jU_{j+1}-R_{j+1}U_j)}{R_{j+1}^2-R_{j}^2} $$"
   ]
  },
  {
   "cell_type": "markdown",
   "metadata": {},
   "source": [
    "$$ \\frac{\\partial v_{i+\\frac{1}{2},j+\\frac{1}{2}}}{\\partial z} = \n",
    "\\frac{(R_{j+1}U_{j+1}-R_{j}U_{j}) -\\text{cos}(2\\phi-\\Delta\\phi)(R_jU_{j+1}-R_{j+1}U_j)}{R_{j+1}^2-R_{j}^2}$$"
   ]
  },
  {
   "cell_type": "markdown",
   "metadata": {},
   "source": [
    "$$ u_c = \\frac{1}{4}(U_j+U_{j+1})[\\text{cos}\\phi+\\text{cos}(\\phi-\\Delta\\phi)]$$"
   ]
  },
  {
   "cell_type": "markdown",
   "metadata": {},
   "source": [
    "$$ r_c =\\frac{1}{4}(R_j+R_{j+1})[\\text{cos}\\phi+\\text{cos}(\\phi-\\Delta\\phi)]$$"
   ]
  },
  {
   "cell_type": "markdown",
   "metadata": {},
   "source": [
    "$$\\frac{u_c}{r_c} = \\frac{U_j+U_{j+1}}{R_j+R_{j+1}}$$"
   ]
  },
  {
   "cell_type": "markdown",
   "metadata": {},
   "source": [
    "$$ \\nabla \\cdot {\\bf{u}} = \\frac{2(R_{j+1}U_{j+1}-R_{j}U_{j})}{R_{j+1}^2-R_{j}^2} + \\frac{U_j+U_{j+1}}{R_j+R_{j+1}}$$"
   ]
  },
  {
   "cell_type": "markdown",
   "metadata": {},
   "source": [
    "$$ \\frac{\\partial v_{i+\\frac{1}{2},j+\\frac{1}{2}}}{\\partial r} \n",
    "=\\frac{(R_jU_{j+1}-R_{j+1}U_j)\\text{sin}(2\\phi-\\Delta\\phi)}{R_{j+1}^2-R_{j}^2}$$"
   ]
  },
  {
   "cell_type": "markdown",
   "metadata": {},
   "source": [
    "$$ \\frac{\\partial u_{i+\\frac{1}{2},j+\\frac{1}{2}}}{\\partial z}= \\frac{(R_jU_{j+1}-R_{j+1}U_j)\\text{sin}(2\\phi-\\Delta\\phi)}{R_{j+1}^2-R_{j}^2}$$"
   ]
  },
  {
   "cell_type": "markdown",
   "metadata": {},
   "source": [
    "## 偏应力"
   ]
  },
  {
   "cell_type": "markdown",
   "metadata": {},
   "source": [
    "\\begin{equation}\n",
    "  \\begin{array}{l}\n",
    "\t\\displaystyle \\frac{ds_{rr}}{dt}=2\\mu \\left(\\frac{\\partial u}{\\partial r}-\\frac{1}{3}\\nabla \\cdot \\vec{u} \\right) +s_{rz}\\left(\\frac{\\partial u}{\\partial z}-\\frac{\\partial v}{\\partial r}\\right)\\\\[0.3cm]\n",
    "\t\\displaystyle \\frac{ds_{zz}}{dt}=2\\mu \\left(\\frac{\\partial v}{\\partial z}-\\frac{1}{3}\\nabla \\cdot \\vec{u} \\right) -s_{rz}\\left(\\frac{\\partial u}{\\partial z}-\\frac{\\partial v}{\\partial r}\\right)\\\\[0.3cm]\n",
    "    \\displaystyle \\frac{ds_{\\theta\\theta}}{dt}=2\\mu \\left(\\frac{u}{r}-\\frac{1}{3}\\nabla \\cdot \\vec{u} \\right)\\\\[0.3cm]\n",
    "\t\\displaystyle \\frac{ds_{rz}}{dt}=\\mu \\left(\\frac{\\partial u}{\\partial z}+\\frac{\\partial v}{\\partial r}\\right) + \\frac{s_{rr}-s_{zz}}{2}\\left(\\frac{\\partial u}{\\partial z}-\\frac{\\partial v}{\\partial r}\\right)\\\\\n",
    "  \\end{array}\n",
    "  \\end{equation}\n"
   ]
  },
  {
   "cell_type": "markdown",
   "metadata": {},
   "source": [
    " $$ \\frac{ds_{rr,i+\\frac{1}{2},j+\\frac{1}{2}}}{dt}= 2\\mu \\left[\\frac{(R_{j+1}U_{j+1}-R_{j}U_{j}) +\\text{cos}(2\\phi-\\Delta\\phi)(R_jU_{j+1}-R_{j+1}U_j)}{R_{j+1}^2-R_{j}^2}-\\frac{1}{3} \\left(\\frac{2(R_{j+1}U_{j+1}-R_{j}U_{j})}{R_{j+1}^2-R_{j}^2} + \\frac{U_j+U_{j+1}}{R_j+R_{j+1}}\\right)\\right] $$"
   ]
  },
  {
   "cell_type": "markdown",
   "metadata": {},
   "source": [
    " $$ \\frac{ds_{zz,i+\\frac{1}{2},j+\\frac{1}{2}}}{dt}= 2\\mu \\left[\\frac{-(R_{j+1}U_{j+1}-R_{j}U_{j}) -\\text{cos}(2\\phi-\\Delta\\phi)(R_jU_{j+1}-R_{j+1}U_j)}{R_{j+1}^2-R_{j}^2}-\\frac{1}{3} \\left(\\frac{-2(R_{j+1}U_{j+1}-R_{j}U_{j})}{R_{j+1}^2-R_{j}^2} + \\frac{U_j+U_{j+1}}{R_j+R_{j+1}}\\right)\\right] $$"
   ]
  },
  {
   "cell_type": "markdown",
   "metadata": {},
   "source": [
    "$$ \\frac{ds_{rz,i+\\frac{1}{2},j+\\frac{1}{2}}}{dt}= 2\\mu\\frac{-(R_jU_{j+1}-R_{j+1}U_j)\\text{sin}(2\\phi-\\Delta\\phi)}{R_{j+1}^2-R_{j}^2}$$"
   ]
  },
  {
   "cell_type": "markdown",
   "metadata": {},
   "source": [
    "$$ \\frac{d}{dt}\\left(\\begin{array}{lll}\n",
    "    s_{\\xi\\xi}& s_{\\xi\\eta} & \\\\\n",
    "    s_{\\xi\\eta}& s_{\\eta\\eta} &\\\\\n",
    "    & & s_{\\theta\\theta}\\\\\n",
    "    \\end{array}\\right) =  L(\\psi) \\frac{d}{dt}  \\left(\\begin{array}{lll}\n",
    "    s_{rr}& s_{zr} & \\\\\n",
    "    s_{zr}& s_{zz} &\\\\\n",
    "    & & s_{\\theta\\theta}\\\\\n",
    "    \\end{array}\\right) L(\\psi )^T $$"
   ]
  },
  {
   "cell_type": "markdown",
   "metadata": {},
   "source": [
    "where $\\psi = \\phi-\\frac{1}{2}\\Delta\\phi$"
   ]
  },
  {
   "cell_type": "markdown",
   "metadata": {},
   "source": [
    "$$ \\frac{d}{dt}s_{\\xi\\xi,i+\\frac{1}{2},j+\\frac{1}{2}} = \\frac{d}{dt} \\left[\\frac{\\text{cos}(2\\psi)}{2}(s_{rr}-s_{zz}) + \\frac{s_{rr}+s_{zz}}{2}- s_{rz}\\text{sin}(2\\psi)\\right]$$"
   ]
  },
  {
   "cell_type": "markdown",
   "metadata": {},
   "source": [
    "$$ = 4\\mu \\frac{R_jU_j+2R_jU_{j+1}-2R_{j+1}U_j-R_{j+1}U_{j+1}}{3(R_{j+1}^2-R_j^2)}$$ "
   ]
  },
  {
   "cell_type": "markdown",
   "metadata": {},
   "source": [
    "$$\\frac{d}{dt} s_{\\xi\\eta,i+\\frac{1}{2},j+\\frac{1}{2}} = \\frac{d}{dt}\\left[\\frac{\\text{sin}(2\\psi)}{2}(s_{rr}-s_{zz})+s_{rz}\\text{cos}(2\\psi)\\right]= 0$$"
   ]
  },
  {
   "cell_type": "markdown",
   "metadata": {},
   "source": [
    "$$\\frac{d}{dt} s_{\\eta\\eta,i+\\frac{1}{2},j+\\frac{1}{2}} = \\frac{d}{dt} \\left[\\frac{\\text{cos}(2\\psi)}{2}(s_{zz}-s_{rr}) + \\frac{s_{rr}+s_{zz}}{2}+ s_{rz}\\text{sin}(2\\psi)\\right] = 4\\mu \\left[ \\frac{U_{j+1}-U_j}{3(R_{j+1}-R_j)}\\right]$$"
   ]
  },
  {
   "cell_type": "markdown",
   "metadata": {},
   "source": [
    "The deviatoric stress is symmetric."
   ]
  },
  {
   "cell_type": "markdown",
   "metadata": {},
   "source": [
    "## 能量方程\n",
    "\n",
    "$$ \\frac{de}{dt} = \\frac{1}{\\rho A} \\left[\\sigma_{rr}\\int \\frac{\\partial u}{\\partial r}drdz + \\sigma_{zz}\\frac{\\partial v}{\\partial z}drdz + \\sigma_{rz} \\int \\left( \\frac{\\partial u}{\\partial z}+\\frac{\\partial v}{\\partial r}\\right)dr dz \\right] + \\nu \\sigma_{\\theta \\theta} \\frac{u_c}{r_c} $$"
   ]
  },
  {
   "cell_type": "markdown",
   "metadata": {},
   "source": [
    "$$ = \\frac{1}{\\rho A} p\\nabla \\cdot {\\bf{u}} + \\left(s_{\\xi\\xi} \\text{sin}^2(\\phi-\\frac{1}{2}\\Delta\\phi) + s_{\\eta\\eta} \\text{cos}^2(\\phi-\\frac{1}{2}\\Delta\\phi)\\right) (\\frac{-(R_{j+1}U_{j+1}-R_{j}U_{j}) +\\text{cos}(2\\phi-\\Delta\\phi)(R_jU_{j+1}-R_{j+1}U_j)}{R_{j+1}^2-R_{j}^2}) + \\left(s_{\\xi\\xi} \\text{cos}^2(\\phi-\\frac{1}{2}\\Delta\\phi) + s_{\\eta\\eta} \\text{sin}^2(\\phi-\\frac{1}{2}\\Delta\\phi)\\right)(\\frac{-(R_{j+1}U_{j+1}-R_{j}U_{j}) -\\text{cos}(2\\phi-\\Delta\\phi)(R_jU_{j+1}-R_{j+1}U_j)}{R_{j+1}^2-R_{j}^2}) + (-s_{\\eta\\eta}+s_{\\xi\\xi})\\text{sin}(2\\phi-\\Delta\\phi)\\frac{(R_jU_{j+1}-R_{j+1}U_j)\\text{sin}(2\\phi-\\Delta\\phi)}{R_{j+1}^2-R_{j}^2} + \\nu s_{\\theta\\theta}\\frac{U_j+U_{j+1}}{R_j+R_{j+1}}$$"
   ]
  },
  {
   "cell_type": "markdown",
   "metadata": {},
   "source": [
    "$$ = \\frac{1}{\\rho} p\\nabla \\cdot {\\bf{u}} -  \\frac{(s_{\\xi\\xi}+s_{\\eta\\eta})(R_{j+1}U_{j+1}-R_{j}U_{j})}{R_{j+1}^2-R_{j}^2} - \\frac{\\text{cos}(2\\phi-\\Delta\\phi)(R_jU_{j+1}-R_{j+1}U_j)(s_{\\xi\\xi}-s_{\\eta\\eta})(\\text{cos}^2(\\phi-\\frac{1}{2}\\Delta\\phi)-\\text{sin}^2(\\phi-\\frac{1}{2}\\Delta\\phi))}{R_{j+1}^2-R_{j}^2} + (s_{\\xi\\xi}-s_{\\eta\\eta})\\text{sin}(2\\phi-\\Delta\\phi)\\frac{(R_jU_{j+1}-R_{j+1}U_j)\\text{sin}(2\\phi-\\Delta\\phi)}{R_{j+1}^2-R_{j}^2} + \\nu s_{\\theta\\theta}\\frac{U_j+U_{j+1}}{R_j+R_{j+1}}$$"
   ]
  },
  {
   "cell_type": "markdown",
   "metadata": {},
   "source": [
    "$$ = \\frac{1}{\\rho} p\\nabla \\cdot {\\bf{u}} +  \\frac{(s_{\\xi\\xi}+s_{\\eta\\eta})(R_{j+1}U_{j+1}-R_{j}U_{j})}{R_{j+1}^2-R_{j}^2} + \\frac{(R_jU_{j+1}-R_{j+1}U_j)(s_{\\xi\\xi}-s_{\\eta\\eta})}{R_{j+1}^2-R_{j}^2}+ \\nu s_{\\theta\\theta}\\frac{U_j+U_{j+1}}{R_j+R_{j+1}}$$"
   ]
  },
  {
   "cell_type": "markdown",
   "metadata": {},
   "source": [
    "$$= \\frac{p_{j+\\frac{1}{2}}}{\\rho_{j+\\frac{1}{2}} }\\left[\\frac{2(R_{j+1}U_{j+1}-R_{j}U_{j})}{R_{j+1}^2-R_{j}^2} + \\frac{U_j+U_{j+1}}{R_j+R_{j+1}}\\right] +\\frac{(s_{\\xi\\xi}+s_{\\eta\\eta})(R_{j+1}U_{j+1}-R_{j}U_{j})}{R_{j+1}^2-R_{j}^2} + \\frac{(R_jU_{j+1}-R_{j+1}U_j)(s_{\\xi\\xi}-s_{\\eta\\eta})}{R_{j+1}^2-R_{j}^2}+ \\nu s_{\\theta\\theta}\\frac{U_j+U_{j+1}}{R_j+R_{j+1}} $$"
   ]
  },
  {
   "cell_type": "markdown",
   "metadata": {},
   "source": [
    "## Force"
   ]
  },
  {
   "cell_type": "markdown",
   "metadata": {},
   "source": [
    "\\begin{equation}\n",
    "  \\begin{array}{l}\n",
    "\t\\displaystyle \\rho \\frac{du}{dt}=\\frac{\\partial \\sigma _{rr}}{\\partial r}+ \\frac{\\partial s_{rz}}{\\partial z} + \\frac{\\sigma_{rr}-\\sigma_{\\theta \\theta}}{r} \\\\\n",
    "  \\displaystyle \\rho \\frac{dv}{dt}=\\frac{\\partial \\sigma _{zz}}{\\partial z}+ \\frac{\\partial s_{rz}}{\\partial r} + \\frac{s_{rz}}{r}\\\\\n",
    "  \\end{array}\n",
    "  \\end{equation}"
   ]
  },
  {
   "cell_type": "markdown",
   "metadata": {},
   "source": [
    " $$ F_r(i,j) =\\frac{\\partial p}{\\partial r} + \\frac{\\partial s _{rr}}{\\partial r}+ \\frac{\\partial s_{rz}}{\\partial z} + \\frac{s_{rr}-s_{\\theta \\theta}}{r} $$"
   ]
  },
  {
   "cell_type": "markdown",
   "metadata": {},
   "source": [
    "### In  local r-z coordinate:\n",
    "$$ S_{rz\\theta} = \\left(\\begin{array}{lll}\n",
    "    s_{rr}& s_{zr} & \\\\\n",
    "    s_{zr}& s_{zz} &\\\\\n",
    "    & & s_{\\theta\\theta}\\\\\n",
    "    \\end{array}\\right)\n",
    "    $$\n",
    "    \n",
    "### In the spherically  $\\xi$-$\\eta$ coordinate\n",
    "\n",
    "$$ S_{\\xi\\eta\\theta} = \\left(\\begin{array}{lll}\n",
    "    s_{\\xi\\xi}&  & \\\\\n",
    "    & s_{\\eta\\eta} &\\\\\n",
    "    & & s_{\\theta\\theta}\\\\\n",
    "    \\end{array}\\right)\n",
    "    $$"
   ]
  },
  {
   "cell_type": "markdown",
   "metadata": {},
   "source": [
    "## From one coordinate tranform to another coordinate "
   ]
  },
  {
   "cell_type": "markdown",
   "metadata": {},
   "source": [
    "<img src=\"coordinate.png\" width = \"400\" height = \"400\" div align=center /> "
   ]
  },
  {
   "cell_type": "markdown",
   "metadata": {},
   "source": [
    "$$ R =  \\left(\\begin{array}{lll}\n",
    "   \\text{cos}\\psi& \\text{sin}\\psi & \\\\\n",
    "   -\\text{sin}\\psi&  \\text{cos}\\psi &\\\\\n",
    "    & & 1\\\\\n",
    "    \\end{array}\\right)\n",
    "    $$"
   ]
  },
  {
   "cell_type": "markdown",
   "metadata": {},
   "source": [
    "$$ S_{rz\\theta} = RS_{\\xi\\eta\\theta}R^T$$"
   ]
  },
  {
   "cell_type": "markdown",
   "metadata": {},
   "source": [
    "$$ \\left(\\begin{array}{lll}\n",
    "    s_{rr}& s_{zr} & \\\\\n",
    "    s_{zr}& s_{zz} &\\\\\n",
    "    & & s_{\\theta\\theta}\\\\\n",
    "    \\end{array}\\right) =  \\left(\\begin{array}{lll}\n",
    "    s_{\\xi\\xi}\\text{sin}^2\\psi + s_{\\eta\\eta}\\text{cos}^2\\psi & (s_{\\eta\\eta}-s_{\\xi\\xi})\\text{sin}\\psi\\text{cos}\\psi & \\\\\n",
    "    (s_{\\eta\\eta}-s_{\\xi\\xi})\\text{sin}\\psi\\text{cos}\\psi& s_{\\xi\\xi}\\text{cos}^2\\psi + s_{\\eta\\eta}\\text{sin}^2\\psi &\\\\\n",
    "    & & s_{\\theta\\theta}\\\\\n",
    "    \\end{array}\\right) $$"
   ]
  },
  {
   "cell_type": "markdown",
   "metadata": {},
   "source": [
    "$$ \\psi = \\phi -\\frac{1}{2}\\Delta \\phi $$"
   ]
  },
  {
   "cell_type": "markdown",
   "metadata": {},
   "source": [
    "$$ S_{rz\\theta,i+\\frac{1}{2},j+\\frac{1}{2}} = R(\\phi-\\frac{1}{2}\\Delta\\phi)S_{\\xi\\eta\\theta}R(\\phi-\\frac{1}{2}\\Delta\\phi)^T$$"
   ]
  },
  {
   "cell_type": "markdown",
   "metadata": {},
   "source": [
    "$$S_{n\\tau\\theta}(\\phi_i) = L(\\phi_i)S_{rz\\theta}L^T(\\phi_i)$$"
   ]
  },
  {
   "cell_type": "markdown",
   "metadata": {},
   "source": [
    "$$L = R^T$$"
   ]
  },
  {
   "cell_type": "markdown",
   "metadata": {},
   "source": [
    "$n_1$...$n_4$ 方向角为 $$ \\phi_1 = \\phi-\\Delta\\phi-\\frac{\\pi}{2}$$ \n",
    "$$ \\phi_2 = \\phi-\\frac{\\Delta\\phi}{2}$$\n",
    "$$\\phi_3 = \\phi +\\frac{\\pi}{2}$$\n",
    "$$\\phi_4=\\phi-\\frac{1}{2}\\Delta\\phi+\\frac{\\pi}{2}$$"
   ]
  },
  {
   "cell_type": "markdown",
   "metadata": {},
   "source": [
    "$$S_{n\\tau\\theta}(\\phi_i) = L(\\phi_i)R(\\phi-\\frac{1}{2}\\Delta\\phi)S_{\\xi\\eta\\theta}R^T(\\phi-\\frac{1}{2}\\Delta\\phi)L^T(\\phi_i) = \\left( \\begin{array}{lll}\n",
    "s_η \\text{sin}^2(ϕ- \\frac{1}{2}\\Delta\\phi - ϕ_i) + s_ξ \\text{cos}^2(ϕ -\\frac{1}{2}\\Delta\\phi- ϕ_i)& \\frac{1}{2}(s_η - s_ξ)\\text{sin}(2(ϕ - \\frac{1}{2}\\Delta\\phi- ϕ_i)) &    \\\\\n",
    "\\frac{1}{2}(s_η - s_ξ)\\text{sin}(2(ϕ-\\frac{1}{2}\\Delta\\phi - ϕ_i))  &          s_η\\text{cos}^2(ϕ-\\frac{1}{2}\\Delta\\phi - ϕ_i) + s_ξ \\text{sin}^2(ϕ -\\frac{1}{2}\\Delta\\phi- ϕ_i)&  \\\\ \n",
    "& & s_r\\\\ \\end{array}\\right)\n",
    "$$"
   ]
  },
  {
   "cell_type": "markdown",
   "metadata": {},
   "source": [
    "$$S_{n\\tau\\theta}(\\phi_1) = \\left(\\begin{array}{lll}\n",
    "    s_{\\xi\\xi} \\text{sin}^2(\\frac{\\Delta\\phi}{2}) +s_{\\eta\\eta}\\text{cos}^2(\\frac{\\Delta\\phi}{2}) & (s_{\\xi\\xi}-s_{\\eta\\eta})\\text{sin}\\Delta\\phi & \\\\\n",
    "  (s_{\\xi\\xi}-s_{\\eta\\eta})\\text{sin}\\Delta\\phi   &s_{\\xi\\xi} \\text{cos}^2(\\frac{\\Delta\\phi}{2}) +s_{\\eta\\eta}\\text{sin}^2(\\frac{\\Delta\\phi}{2}) &\\\\\n",
    "    & & s_{\\theta\\theta}\\\\\n",
    "    \\end{array}\\right) $$\n",
    "\n",
    "\n",
    "\n",
    "$$S_{n\\tau\\theta}(\\phi_2) = \\left(\\begin{array}{lll}\n",
    "    s_{\\xi\\xi} &  & \\\\\n",
    "     & s_{\\eta\\eta} &\\\\\n",
    "    & & s_{\\theta\\theta}\\\\\n",
    "    \\end{array}\\right) $$\n",
    "\n",
    "\n",
    "$$S_{n\\tau\\theta}(\\phi_3) = \\left(\\begin{array}{lll}\n",
    "    s_{\\xi\\xi} \\text{sin}^2(\\frac{\\Delta\\phi}{2}) +s_{\\eta\\eta}\\text{cos}^2(\\frac{\\Delta\\phi}{2}) & (s_{\\eta\\eta}-s_{\\xi\\xi})\\text{sin}\\Delta\\phi & \\\\\n",
    "  (s_{\\eta\\eta}-s_{\\xi\\xi})\\text{sin}\\Delta\\phi   &s_{\\xi\\xi} \\text{cos}^2(\\frac{\\Delta\\phi}{2}) +s_{\\eta\\eta}\\text{sin}^2(\\frac{\\Delta\\phi}{2}) &\\\\\n",
    "    & & s_{\\theta\\theta}\\\\\n",
    "    \\end{array}\\right) $$    \n",
    "  \n",
    " $$S_{n\\tau\\theta}(\\phi_4) = \\left(\\begin{array}{lll}\n",
    "    s_{\\xi\\xi} &  & \\\\\n",
    "     & s_{\\eta\\eta} &\\\\\n",
    "    & & s_{\\theta\\theta}\\\\\n",
    "    \\end{array}\\right) $$"
   ]
  },
  {
   "cell_type": "markdown",
   "metadata": {},
   "source": [
    "$$\\xi-\\eta$$"
   ]
  },
  {
   "cell_type": "markdown",
   "metadata": {},
   "source": [
    "## For Point 4"
   ]
  },
  {
   "cell_type": "markdown",
   "metadata": {},
   "source": [
    "$$ {\\bf{F}}_4^I = \\frac{1}{2}L_4[(s_{nn4}-p) {\\bf{n_4}} +s_{n\\tau4} {\\bf{\\tau_4}} ]+ \\frac{1}{2}L_3[ (s_{nn3}-p) {\\bf{n_3}} +s_{n\\tau3} {\\bf{\\tau_3}}] +\\frac{A}{4}[\\frac{(s_{rr}-s_{\\theta\\theta})}{r_c} {\\bf{n}}_r + \\frac{s_{rz}}{r_c}{\\bf{n}}_z] $$"
   ]
  },
  {
   "cell_type": "markdown",
   "metadata": {},
   "source": [
    "let $$ F_4^{I(1)}= \\frac{1}{2}L_4[(s_{nn4}-p) {\\bf{n_4}} +s_{n\\tau4} {\\bf{\\tau_4}} ]+ \\frac{1}{2}L_3[ (s_{nn3}-p) {\\bf{n_3}} +s_{n\\tau3} {\\bf{\\tau_3}}]$$\n",
    "$$F_4^{I(2)} = \\frac{A}{4}[\\frac{(s_{rr}-s_{\\theta\\theta})}{r_c} {\\bf{n}}_r + \\frac{s_{rz}}{r_c}{\\bf{n}}_z]$$"
   ]
  },
  {
   "cell_type": "markdown",
   "metadata": {},
   "source": [
    "where $s_{nn4} = s_{\\xi\\xi}$ and $s_{n\\tau4} =0$ "
   ]
  },
  {
   "cell_type": "markdown",
   "metadata": {},
   "source": [
    "$$ {\\bf{F}}_4^{I(1)} = \\frac{1}{2}L_4^I(s_{\\xi\\xi}-p) {\\bf{n_4^I}} + \\frac{1}{2}L_3^I[(s_{nn3}^I-p) {\\bf{n}}_3^I +s_{n\\tau3}^I {\\bf{\\tau}}_3^I] +\\frac{(s_{rr}-s_{\\theta\\theta})}{r_c} {\\bf{n}}_r + \\frac{s_{rz}}{r_c}{\\bf{n}}_z $$"
   ]
  },
  {
   "cell_type": "markdown",
   "metadata": {},
   "source": [
    "同理 $$ {\\bf{F}}_1^{II(1)} = \\frac{1}{2}L_4^{II}(s_{\\xi\\xi}-p) {\\bf{n_4^{II}}} +\\frac{1}{2}L_1^{II}[ (s_{nn1}^{II}-p) {\\bf{n}}_1^{II} +s_{n\\tau1}^{II} {\\bf{\\tau}}_1^{II}] $$"
   ]
  },
  {
   "cell_type": "markdown",
   "metadata": {},
   "source": [
    "$${\\bf{F}}_4^{I(1)}  +{\\bf{F}}_1^{II(1)} =\\frac{1}{2}L_4^I (s_{\\xi\\xi}-p) ({\\bf{n_4^I}+\\bf{n_4^{II}}})+\\frac{1}{2}L_3^I[(s_{nn3}^I-s_{nn1}^{II}){\\bf{n}}_3^I+(s_{n\\tau3}^I-s_{n\\tau1}^{II}){\\bf{\\tau}}_3^I]$$"
   ]
  },
  {
   "cell_type": "markdown",
   "metadata": {},
   "source": [
    "where ${\\bf{n}}_3^I =-{\\bf{n}}_1^{II}$, $L_4^I = L_4^{II}$, ${\\bf{\\tau}}_1^{II} = -{\\bf{\\tau}}_3^{I}$ and $L_1^{II} =L_3^I$."
   ]
  },
  {
   "cell_type": "markdown",
   "metadata": {},
   "source": [
    "## For cell II"
   ]
  },
  {
   "cell_type": "markdown",
   "metadata": {},
   "source": [
    "$$\\phi_1 = \\phi-\\frac{\\pi}{2}$$"
   ]
  },
  {
   "cell_type": "markdown",
   "metadata": {},
   "source": [
    "$$S_{n\\tau\\theta}(\\phi_1) = L(\\phi_1)R(\\phi+\\frac{1}{2}\\Delta\\phi)S_{\\xi\\eta\\theta}R^T(\\phi+\\frac{1}{2}\\Delta\\phi)L^T(\\phi_1) = \\left( \\begin{array}{lll}\n",
    "s_η \\text{cos}^2(\\frac{1}{2}\\Delta\\phi) + s_ξ \\text{sin}^2(\\frac{1}{2}\\Delta\\phi)& -\\frac{1}{2}(s_η - s_ξ)\\text{sin}(\\Delta\\phi) &    \\\\\n",
    "-\\frac{1}{2}(s_η - s_ξ)\\text{sin}(\\Delta\\phi)  &          s_η\\text{sin}^2(\\frac{1}{2}\\Delta\\phi) + s_ξ \\text{cos}^2(\\frac{1}{2}\\Delta\\phi)&  \\\\ \n",
    "& & s_r\\\\ \\end{array}\\right)\n",
    "$$"
   ]
  },
  {
   "cell_type": "markdown",
   "metadata": {},
   "source": [
    "We have $s_{nn3}^I=s_{nn1}^{II}$ and $s_{n\\tau3}^I=-s_{n\\tau1}^{II}= \\frac{1}{2}(s_η - s_ξ)\\text{sin}(\\Delta\\phi) $"
   ]
  },
  {
   "cell_type": "markdown",
   "metadata": {},
   "source": [
    "So $${\\bf{F}}_4^{I(1)}  +{\\bf{F}}_1^{II(1)} = \\frac{1}{2}L_4^I(s_{\\xi\\xi}-p) ({\\bf{n_4^I}+\\bf{n_4^{II}}})+L_3^I(s_{\\eta\\eta} - s_{\\xi\\xi})\\text{sin}(\\Delta\\phi){\\bf{\\tau}}_3^I$$"
   ]
  },
  {
   "cell_type": "markdown",
   "metadata": {},
   "source": [
    "$$ L_4^I{\\bf{n}}_4^{I} = (-z_{i,j+1}+z_{i,j},r_{i,j+1}-r_{i,j}) = R_j(-\\text{cos}(\\phi - \\Delta\\phi)+\\text{cos}\\phi,\\text{sin}(\\phi-\\Delta\\phi)-\\text{sin}(\\phi))$$\n",
    "$$L_4^{II} {\\bf{n}}_4^{II} = (-z_{i,j}+z_{i,j-1},r_{i,j}-r_{i,j-1}) = R_j(-\\text{cos}\\phi +\\text{cos}(\\phi+\\Delta\\phi),\\text{sin}\\phi-\\text{sin}(\\phi+\\Delta\\phi))$$\n",
    "$$ L_3^{I}{\\bf{\\tau}}_3^{I} = (-z_{i,j}+z_{i,j+1},r_{i,j}-r_{i,j+1})= \\frac{1}{2}(R_j-R_{j+1})(\\text{sin}\\phi,\\text{cos}\\phi)$$"
   ]
  },
  {
   "cell_type": "markdown",
   "metadata": {},
   "source": [
    "So $${\\bf{F}}_4^{I(1)}  +{\\bf{F}}_1^{II(1)} = -(s_{\\xi\\xi}-p)R_j\\text{sin}\\Delta\\phi(\\text{sin}\\phi,\\text{cos}\\phi)+\\frac{1}{2}(R_j-R_{j+1})(s_{\\eta\\eta} - s_{\\xi\\xi})\\text{sin}\\Delta\\phi(\\text{sin}\\phi,\\text{cos}\\phi)$$"
   ]
  },
  {
   "cell_type": "markdown",
   "metadata": {},
   "source": [
    "$${\\bf{F}}_4^{I(2)} = \\frac{A^I}{4r^I_c}[(s_{rr}-s_{\\theta\\theta}) {\\bf{n}}_r + s_{rz}{\\bf{n}}_z]$$"
   ]
  },
  {
   "cell_type": "markdown",
   "metadata": {},
   "source": [
    "$$ r_c^I =\\frac{1}{4}( R_j\\text{sin}\\phi+ R_j\\text{sin}(\\phi-\\Delta\\phi)+R_{j+1}\\text{sin}\\phi+U_{j+1}\\text{sin}(\\phi-\\Delta\\phi)) = \\frac{1}{4}(R_j+R_{j+1})[\\text{sin}\\phi+\\text{sin}(\\phi-\\Delta\\phi)]$$"
   ]
  },
  {
   "cell_type": "markdown",
   "metadata": {},
   "source": [
    "$$A^I=\\frac{1}{2} \\text{sin}\\Delta \\phi (R_{j+1}^2-R_{j}^2) $$ "
   ]
  },
  {
   "cell_type": "markdown",
   "metadata": {},
   "source": [
    "$$s_{rr} = s_{\\xi\\xi}\\text{sin}^2(\\phi-\\frac{1}{2}\\Delta\\phi)+s_{\\eta\\eta}\\text{cos}^2(\\phi-\\frac{1}{2}\\Delta\\phi)$$"
   ]
  },
  {
   "cell_type": "markdown",
   "metadata": {},
   "source": [
    "$$s_{rz} = (s_{\\eta\\eta}-s_{\\xi\\xi})\\text{sin}(\\phi-\\frac{1}{2}\\Delta\\phi)\\text{cos}(\\phi-\\frac{1}{2}\\Delta\\phi)$$"
   ]
  },
  {
   "cell_type": "markdown",
   "metadata": {},
   "source": [
    "$${\\bf{F}}_4^{I(2)}   =  \\frac{\\frac{1}{2} \\text{sin}\\Delta \\phi (R_{j+1}-R_{j})}{\\text{sin}\\phi+\\text{sin}(\\phi-\\Delta\\phi)}\\left[ (s_{\\xi\\xi}-s_{\\eta\\eta})\\text{sin}^2(\\phi-\\frac{1}{2}\\Delta\\phi) +s_{\\eta\\eta}-s_{\\theta\\theta}\\right] $$"
   ]
  },
  {
   "cell_type": "markdown",
   "metadata": {},
   "source": [
    "$$ = \\frac{\\text{sin}\\Delta\\phi(R_{j+1}-R_j)}{4(\\text{sin}(\\phi -\\frac{1}{2}\\Delta\\phi)\\text{cos}\\Delta\\phi}\\left[ (s_{\\xi\\xi}-s_{\\eta\\eta})\\text{sin}^2(\\phi-\\frac{1}{2}\\Delta\\phi) +s_{\\eta\\eta}-s_{\\theta\\theta}\\right] $$"
   ]
  },
  {
   "cell_type": "markdown",
   "metadata": {},
   "source": [
    "$${\\bf{F}}_4^{I(2)}+{\\bf{F}}_1^{II(2)} = \\frac{\\text{sin}\\Delta\\phi(R_{j+1}-R_j)}{4(\\text{sin}(\\phi -\\frac{1}{2}\\Delta\\phi)\\text{cos}\\Delta\\phi}\\left[ (s_{\\xi\\xi}-s_{\\eta\\eta})\\text{sin}^2(\\phi-\\frac{1}{2}\\Delta\\phi) +s_{\\eta\\eta}-s_{\\theta\\theta}\\right] + \\frac{\\text{sin}\\Delta\\phi(R_{j+1}-R_j)}{4(\\text{sin}(\\phi +\\frac{1}{2}\\Delta\\phi)\\text{cos}\\Delta\\phi}\\left[ (s_{\\xi\\xi}-s_{\\eta\\eta})\\text{sin}^2(\\phi+\\frac{1}{2}\\Delta\\phi) +s_{\\eta\\eta}-s_{\\theta\\theta}\\right] $$"
   ]
  },
  {
   "cell_type": "markdown",
   "metadata": {},
   "source": [
    "$$V = \\frac{2}{3}\\left( (r_1^2-r_3^2)(z_2-z_4)+(r_4^2 -r_2^2) (z_1-z_3) +(r_3z_3-r_1z_1)(r_2-r_4)+(r_4z_4-r_2z_2)(r_3-r_1)\\right)$$"
   ]
  },
  {
   "cell_type": "markdown",
   "metadata": {},
   "source": [
    "$$ V = \\frac{2}{3}(R_{j+1}^3-R_j^3)[\\text{cos}\\phi-\\text{cos}(\\phi-2\\Delta\\phi)-\\text{cos}(\\phi-\\Delta\\phi)+\\text{cos}(\\phi+\\Delta\\phi)]= \\frac{4}{3}(R_{j+1}^3-R_j^3) \\text{sin}\\Delta\\phi[\\text{sin}\\phi+\\text{sin}(\\phi-\\Delta\\phi)] $$"
   ]
  },
  {
   "cell_type": "code",
   "execution_count": 38,
   "metadata": {},
   "outputs": [
    {
     "data": {
      "text/plain": [
       "(Rj, Rp1, Uj, Up1)"
      ]
     },
     "execution_count": 38,
     "metadata": {},
     "output_type": "execute_result"
    }
   ],
   "source": [
    "@vars Rj Rp1 Uj Up1"
   ]
  },
  {
   "cell_type": "code",
   "execution_count": 41,
   "metadata": {},
   "outputs": [
    {
     "data": {
      "text/latex": [
       "\\begin{equation*}- \\frac{- \\frac{Rj Uj}{3} + \\frac{Rp_{1} Up_{1}}{3}}{- Rj^{2} + Rp_{1}^{2}} + \\frac{- Rj Up_{1} + Rp_{1} Uj}{- Rj^{2} + Rp_{1}^{2}} - \\frac{\\frac{Uj}{3} + \\frac{Up_{1}}{3}}{Rj + Rp_{1}}\\end{equation*}"
      ],
      "text/plain": [
       "    Rj⋅Uj   Rp₁⋅Up₁                      Uj   Up₁\n",
       "  - ───── + ───────                      ── + ───\n",
       "      3        3      -Rj⋅Up₁ + Rp₁⋅Uj   3     3 \n",
       "- ───────────────── + ──────────────── - ────────\n",
       "         2      2           2      2     Rj + Rp₁\n",
       "     - Rj  + Rp₁        - Rj  + Rp₁              "
      ]
     },
     "execution_count": 41,
     "metadata": {},
     "output_type": "execute_result"
    }
   ],
   "source": [
    "f=-(Rj*Up1-Rp1*Uj)/(Rp1^2-Rj^2)-1//3*(Rp1*Up1-Rj*Uj)/(Rp1^2-Rj^2)-1//3*(Uj+Up1)/(Rj+Rp1)"
   ]
  },
  {
   "cell_type": "code",
   "execution_count": 42,
   "metadata": {},
   "outputs": [
    {
     "data": {
      "text/latex": [
       "\\begin{equation*}\\frac{- \\frac{2 Uj}{3} + \\frac{2 Up_{1}}{3}}{Rj - Rp_{1}}\\end{equation*}"
      ],
      "text/plain": [
       "  2⋅Uj   2⋅Up₁\n",
       "- ──── + ─────\n",
       "   3       3  \n",
       "──────────────\n",
       "   Rj - Rp₁   "
      ]
     },
     "execution_count": 42,
     "metadata": {},
     "output_type": "execute_result"
    }
   ],
   "source": [
    "simplify(f)"
   ]
  },
  {
   "cell_type": "code",
   "execution_count": 3,
   "metadata": {},
   "outputs": [
    {
     "data": {
      "text/plain": [
       "(a, b, r_1, r_2, r_3, r_4, z_1, z_2, z_3, z_4, R_j, R_jp1)"
      ]
     },
     "execution_count": 3,
     "metadata": {},
     "output_type": "execute_result"
    }
   ],
   "source": [
    "@vars a b r_1 r_2 r_3 r_4 z_1 z_2 z_3 z_4 R_j R_jp1 "
   ]
  },
  {
   "cell_type": "code",
   "execution_count": 4,
   "metadata": {},
   "outputs": [
    {
     "data": {
      "text/latex": [
       "\\begin{equation*}R_{jp1} \\sin{\\left (a \\right )}\\end{equation*}"
      ],
      "text/plain": [
       "R_jp1⋅sin(a)"
      ]
     },
     "execution_count": 4,
     "metadata": {},
     "output_type": "execute_result"
    }
   ],
   "source": [
    "r_1 = R_j*sin(a); r_2 = R_j*sin(a-b); r_3 = R_jp1*sin(a-b); r_4 = R_jp1*sin(a)"
   ]
  },
  {
   "cell_type": "code",
   "execution_count": 5,
   "metadata": {},
   "outputs": [
    {
     "data": {
      "text/latex": [
       "\\begin{equation*}R_{jp1} \\cos{\\left (a \\right )}\\end{equation*}"
      ],
      "text/plain": [
       "R_jp1⋅cos(a)"
      ]
     },
     "execution_count": 5,
     "metadata": {},
     "output_type": "execute_result"
    }
   ],
   "source": [
    "z_1 = R_j*cos(a); z_2 = R_j*cos(a-b); z_3 = R_jp1*cos(a-b); z_4 = R_jp1*cos(a)"
   ]
  },
  {
   "cell_type": "code",
   "execution_count": 8,
   "metadata": {},
   "outputs": [
    {
     "data": {
      "text/latex": [
       "\\begin{equation*}\\left(- R_{j} \\sin{\\left (a \\right )} + R_{jp1} \\sin{\\left (a - b \\right )}\\right) \\left(- R_{j}^{2} \\sin{\\left (a - b \\right )} \\cos{\\left (a - b \\right )} + R_{jp1}^{2} \\sin{\\left (a \\right )} \\cos{\\left (a \\right )}\\right) + \\left(R_{j} \\sin{\\left (a - b \\right )} - R_{jp1} \\sin{\\left (a \\right )}\\right) \\left(- R_{j}^{2} \\sin{\\left (a \\right )} \\cos{\\left (a \\right )} + R_{jp1}^{2} \\sin{\\left (a - b \\right )} \\cos{\\left (a - b \\right )}\\right) + \\left(R_{j} \\cos{\\left (a \\right )} - R_{jp1} \\cos{\\left (a - b \\right )}\\right) \\left(- R_{j}^{2} \\sin^{2}{\\left (a - b \\right )} + R_{jp1}^{2} \\sin^{2}{\\left (a \\right )}\\right) + \\left(R_{j} \\cos{\\left (a - b \\right )} - R_{jp1} \\cos{\\left (a \\right )}\\right) \\left(R_{j}^{2} \\sin^{2}{\\left (a \\right )} - R_{jp1}^{2} \\sin^{2}{\\left (a - b \\right )}\\right)\\end{equation*}"
      ],
      "text/plain": [
       "                                 ⎛     2                              2       \n",
       "(-R_j⋅sin(a) + R_jp1⋅sin(a - b))⋅⎝- R_j ⋅sin(a - b)⋅cos(a - b) + R_jp1 ⋅sin(a)\n",
       "\n",
       "       ⎞                                   ⎛     2                      2     \n",
       "⋅cos(a)⎠ + (R_j⋅sin(a - b) - R_jp1⋅sin(a))⋅⎝- R_j ⋅sin(a)⋅cos(a) + R_jp1 ⋅sin(\n",
       "\n",
       "                 ⎞                                   ⎛     2    2             \n",
       "a - b)⋅cos(a - b)⎠ + (R_j⋅cos(a) - R_jp1⋅cos(a - b))⋅⎝- R_j ⋅sin (a - b) + R_j\n",
       "\n",
       "  2    2   ⎞                                   ⎛   2    2           2    2    \n",
       "p1 ⋅sin (a)⎠ + (R_j⋅cos(a - b) - R_jp1⋅cos(a))⋅⎝R_j ⋅sin (a) - R_jp1 ⋅sin (a -\n",
       "\n",
       "   ⎞\n",
       " b)⎠"
      ]
     },
     "execution_count": 8,
     "metadata": {},
     "output_type": "execute_result"
    }
   ],
   "source": [
    "V = (r_1^2 - r_3^2)*(z_2-z_4)+(r_4^2-r_2^2)*(z_1-z_3)+(r_3*z_3-r_1*z_1)*(r_2-r_4)+(r_4*z_4-r_2*z_2)*(r_3-r_1)"
   ]
  },
  {
   "cell_type": "code",
   "execution_count": 7,
   "metadata": {},
   "outputs": [
    {
     "data": {
      "text/latex": [
       "\\begin{equation*}- \\frac{R_{j}^{3} \\cos{\\left (a \\right )}}{2} + \\frac{R_{j}^{3} \\cos{\\left (a - 2 b \\right )}}{2} + \\frac{R_{j}^{3} \\cos{\\left (a - b \\right )}}{2} - \\frac{R_{j}^{3} \\cos{\\left (a + b \\right )}}{2} + \\frac{R_{jp1}^{3} \\cos{\\left (a \\right )}}{2} - \\frac{R_{jp1}^{3} \\cos{\\left (a - 2 b \\right )}}{2} - \\frac{R_{jp1}^{3} \\cos{\\left (a - b \\right )}}{2} + \\frac{R_{jp1}^{3} \\cos{\\left (a + b \\right )}}{2}\\end{equation*}"
      ],
      "text/plain": [
       "     3             3                   3                 3                   3\n",
       "  R_j ⋅cos(a)   R_j ⋅cos(a - 2⋅b)   R_j ⋅cos(a - b)   R_j ⋅cos(a + b)   R_jp1 \n",
       "- ─────────── + ───────────────── + ─────────────── - ─────────────── + ──────\n",
       "       2                2                  2                 2                \n",
       "\n",
       "               3                     3                   3           \n",
       "⋅cos(a)   R_jp1 ⋅cos(a - 2⋅b)   R_jp1 ⋅cos(a - b)   R_jp1 ⋅cos(a + b)\n",
       "─────── - ─────────────────── - ───────────────── + ─────────────────\n",
       "2                  2                    2                   2        "
      ]
     },
     "execution_count": 7,
     "metadata": {},
     "output_type": "execute_result"
    }
   ],
   "source": [
    "simplify(V)"
   ]
  },
  {
   "cell_type": "code",
   "execution_count": 10,
   "metadata": {},
   "outputs": [
    {
     "data": {
      "text/latex": [
       "\\begin{equation*}\\frac{1}{\\sin{\\left (a \\right )} + \\sin{\\left (a + b \\right )}} + \\frac{1}{\\sin{\\left (a \\right )} + \\sin{\\left (a - b \\right )}}\\end{equation*}"
      ],
      "text/plain": [
       "         1                     1         \n",
       "─────────────────── + ───────────────────\n",
       "sin(a) + sin(a + b)   sin(a) + sin(a - b)"
      ]
     },
     "execution_count": 10,
     "metadata": {},
     "output_type": "execute_result"
    }
   ],
   "source": [
    "F = 1/(sin(a)+sin(a-b))+1/(sin(a)+sin(a+b))"
   ]
  },
  {
   "cell_type": "code",
   "execution_count": 11,
   "metadata": {},
   "outputs": [
    {
     "data": {
      "text/latex": [
       "\\begin{equation*}\\frac{2 \\left(\\cos{\\left (b \\right )} + 1\\right) \\sin{\\left (a \\right )}}{\\left(\\sin{\\left (a \\right )} + \\sin{\\left (a - b \\right )}\\right) \\left(\\sin{\\left (a \\right )} + \\sin{\\left (a + b \\right )}\\right)}\\end{equation*}"
      ],
      "text/plain": [
       "           2⋅(cos(b) + 1)⋅sin(a)           \n",
       "───────────────────────────────────────────\n",
       "(sin(a) + sin(a - b))⋅(sin(a) + sin(a + b))"
      ]
     },
     "execution_count": 11,
     "metadata": {},
     "output_type": "execute_result"
    }
   ],
   "source": [
    "simplify(F)"
   ]
  },
  {
   "cell_type": "code",
   "execution_count": 12,
   "metadata": {},
   "outputs": [
    {
     "data": {
      "text/latex": [
       "\\begin{equation*}\\frac{1}{\\sin{\\left (a \\right )} + \\sin{\\left (a + b \\right )}} + \\frac{1}{\\sin{\\left (a \\right )} + \\sin{\\left (a - b \\right )}}\\end{equation*}"
      ],
      "text/plain": [
       "         1                     1         \n",
       "─────────────────── + ───────────────────\n",
       "sin(a) + sin(a + b)   sin(a) + sin(a - b)"
      ]
     },
     "execution_count": 12,
     "metadata": {},
     "output_type": "execute_result"
    }
   ],
   "source": [
    "sympy.trigsimp(F)"
   ]
  },
  {
   "cell_type": "code",
   "execution_count": null,
   "metadata": {},
   "outputs": [],
   "source": []
  }
 ],
 "metadata": {
  "@webio": {
   "lastCommId": null,
   "lastKernelId": null
  },
  "kernelspec": {
   "display_name": "Julia 1.1.1",
   "language": "julia",
   "name": "julia-1.1"
  },
  "language_info": {
   "file_extension": ".jl",
   "mimetype": "application/julia",
   "name": "julia",
   "version": "1.1.1"
  }
 },
 "nbformat": 4,
 "nbformat_minor": 2
}
