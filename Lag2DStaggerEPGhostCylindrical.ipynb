{
 "cells": [
  {
   "cell_type": "markdown",
   "metadata": {
    "slideshow": {
     "slide_type": "slide"
    }
   },
   "source": [
    "#  Code for 2D staggered Lagrangian method in Cylindrical coordinates"
   ]
  },
  {
   "cell_type": "code",
   "execution_count": 1,
   "metadata": {
    "slideshow": {
     "slide_type": "subslide"
    }
   },
   "outputs": [],
   "source": [
    "struct Const\n",
    "    Y0 ::Float64 #Yielding strength\n",
    "    ρ0 ::Float64 \n",
    "    Γ0 ::Float64\n",
    "    μ  ::Float64\n",
    "    a0 ::Float64\n",
    "    s0 ::Float64\n",
    "end\n"
   ]
  },
  {
   "cell_type": "code",
   "execution_count": 2,
   "metadata": {
    "slideshow": {
     "slide_type": "notes"
    }
   },
   "outputs": [],
   "source": [
    "mutable struct Var\n",
    "    r::Array{Float64,1}\n",
    "    z::Array{Float64,1}\n",
    "    u::Array{Float64,1}\n",
    "    v::Array{Float64,1}\n",
    "    ρ::Array{Float64,1}\n",
    "    p::Array{Float64,1}\n",
    "    s::Array{Float64,2} # σ[1] = σrr σ[2] = σzz σ[3] = σrz\n",
    "end    "
   ]
  },
  {
   "cell_type": "code",
   "execution_count": 3,
   "metadata": {},
   "outputs": [],
   "source": [
    "struct prb\n",
    "    tt::Float64\n",
    "    sf::Float64\n",
    "end"
   ]
  },
  {
   "cell_type": "markdown",
   "metadata": {},
   "source": [
    "## Control equations"
   ]
  },
  {
   "cell_type": "markdown",
   "metadata": {},
   "source": [
    "一般形式下，弹塑性流体控制方程为：\n",
    "\n",
    "质量方程：\n",
    "\\begin{equation}\n",
    "  \\frac{dm}{dt}=0\n",
    "  \\end{equation}\n",
    "动量方程：\n",
    "\\begin{equation}\n",
    "  \\frac{d\\rho \\mathbf{u}}{dt}= \\nabla \\cdot  \\mathbf{\\Pi} \n",
    "\\end{equation}\n",
    "\n",
    "能量方程：\n",
    "\\begin{equation}\n",
    " \\rho \\frac{de}{dt}= \\mathbf{\\sigma} \\cdot \\mathbf{\\varepsilon}\n",
    "\\end{equation}\n",
    "\n",
    "\n",
    "\n",
    "\n",
    "\n",
    "\n"
   ]
  },
  {
   "cell_type": "markdown",
   "metadata": {},
   "source": [
    "\n",
    "## Cylindrical coordinate\n",
    "运动方程：\n",
    "\\begin{equation}\n",
    "  \\frac{d(r,z)}{dt}=(u,v)\n",
    "\\end{equation}\n",
    "\n",
    "质量守恒：\n",
    "\\begin{equation}\\label{eq:38}\n",
    "  \\frac{dm}{dt}=0\n",
    "\\end{equation}\n",
    "\n",
    "动量守恒方程：\n",
    "\\begin{equation}\\label{eq:3}\n",
    "  \\begin{array}{l}\n",
    "\t\\displaystyle \\rho \\frac{du}{dt}=\\frac{\\partial \\sigma _{rr}}{\\partial r}+ \\frac{\\partial s_{rz}}{\\partial z} + \\frac{\\sigma_{rr}-\\sigma_{\\theta \\theta}}{r}\\\\[0.3cm]\n",
    "  \\displaystyle \\rho \\frac{dv}{dt}=\\frac{\\partial \\sigma _{zz}}{\\partial z}+ \\frac{\\partial s_{rz}}{\\partial r} + \\frac{s_{rz}}{r}\\\\\n",
    "  \\end{array}\n",
    "  \\end{equation}\n",
    "\n",
    "能量守恒方程：\n",
    "\\begin{equation}\n",
    "  \\begin{array}{l}\n",
    "\t\\displaystyle \\rho \\frac{de}{dt}=\\sigma _{rr}\\frac{\\partial u}{\\partial r}+\\sigma_{zz}\\frac{\\partial v}{\\partial z}+\\sigma_{\\theta \\theta}\\frac{u}{r}+s_{rz}\\left( \\frac{\\partial u}{\\partial z}+\\frac{\\partial v}{\\partial r}\\right)\\\\[0.3cm]\n",
    "\t\\displaystyle = -p\\frac{dV}{dt}+ s_{rr}\\frac{\\partial u}{\\partial r}+s_{zz}\\frac{\\partial v}{\\partial z}+s_{\\theta\\theta}\\frac{u}{r}+s_{rz}\\left( \\frac{\\partial u}{\\partial z}+\\frac{\\partial v}{\\partial r}\\right)\\\\\n",
    "\t\\end{array}\n",
    "\t\\end{equation}\n",
    "\n",
    "本构方程：\n",
    "\\begin{equation}\n",
    "  \\begin{array}{l}\n",
    "\t\\displaystyle \\frac{ds_{rr}}{dt}=2\\mu \\left(\\frac{\\partial u}{\\partial r}-\\frac{1}{3}\\nabla \\cdot \\vec{u} \\right) +s_{rz}\\left(\\frac{\\partial u}{\\partial z}-\\frac{\\partial v}{\\partial r}\\right)\\\\[0.3cm]\n",
    "\t\\displaystyle \\frac{ds_{zz}}{dt}=2\\mu \\left(\\frac{\\partial v}{\\partial z}-\\frac{1}{3}\\nabla \\cdot \\vec{u} \\right) -s_{rz}\\left(\\frac{\\partial u}{\\partial z}-\\frac{\\partial v}{\\partial r}\\right)\\\\[0.3cm]\n",
    "    \\displaystyle \\frac{ds_{\\theta\\theta}}{dt}=2\\mu \\left(\\frac{u}{r}-\\frac{1}{3}\\nabla \\cdot \\vec{u} \\right)\\\\[0.3cm]\n",
    "\t\\displaystyle \\frac{ds_{rz}}{dt}=\\mu \\left(\\frac{\\partial u}{\\partial z}+\\frac{\\partial v}{\\partial r}\\right) + \\frac{s_{rr}-s_{zz}}{2}\\left(\\frac{\\partial u}{\\partial z}-\\frac{\\partial v}{\\partial r}\\right)\\\\\n",
    "  \\end{array}\n",
    "  \\end{equation}\n",
    "\n",
    "Von Mises屈服条件：\n",
    "\\begin{equation}\n",
    "  \\frac{3}{2}(s_{rr}^2+s_{zz}^2+s_{\\theta \\theta}^2+2s_{xy}^2)\\le (Y^0)^2\n",
    "\\end{equation}\n"
   ]
  },
  {
   "cell_type": "markdown",
   "metadata": {},
   "source": [
    "$$ s_{\\theta\\theta} = - (s_{rr} +s_{zz}) $$"
   ]
  },
  {
   "cell_type": "markdown",
   "metadata": {},
   "source": [
    "## Compatible Staggered Discretization"
   ]
  },
  {
   "cell_type": "markdown",
   "metadata": {},
   "source": [
    "<img src=\"Grid.png\" width = \"800\" height = \"400\" div align=center /> "
   ]
  },
  {
   "cell_type": "markdown",
   "metadata": {},
   "source": [
    "<img src=\"cellpoint.png\" width = \"800\" height = \"400\" div align=center />"
   ]
  },
  {
   "cell_type": "markdown",
   "metadata": {},
   "source": [
    "### Quatities:\n",
    "\n",
    "On point: ($x_p$,$y_p$), ($u_p$,$v_p$)\n",
    "\n",
    "Zonal:  $V_z$, $\\rho_z$, $m_z$, $e_z$, $p_z$"
   ]
  },
  {
   "cell_type": "markdown",
   "metadata": {},
   "source": [
    "By the relation \n",
    "$$\\frac{dm_z}{dt} =0$$\n",
    "we have \n",
    "$$\\rho_z(t) = m_z/V_z(t)$$"
   ]
  },
  {
   "cell_type": "markdown",
   "metadata": {},
   "source": [
    "Also \n",
    "$$d(x_p)/dt = u_p, \\quad d(y_p)/dt = v_p$$"
   ]
  },
  {
   "cell_type": "markdown",
   "metadata": {},
   "source": [
    "### Point mass "
   ]
  },
  {
   "cell_type": "markdown",
   "metadata": {},
   "source": [
    "Point mass $m_p$ is used to solve point momentum $\\mu_p = m_p \\bf{u}_p$ and kinetic energy $K_p = m_p \\frac{\\bf{u}_p^2}{2}$"
   ]
  },
  {
   "cell_type": "markdown",
   "metadata": {},
   "source": [
    "<img src=\"Ins.jpg\" width = \"200\" height = \"400\" div align=center /> "
   ]
  },
  {
   "cell_type": "markdown",
   "metadata": {},
   "source": [
    "$$m_p = \\sum_{z\\in Z(p)} A_z^p \\rho^p_z$$\n",
    "\n",
    "$$\\rho_z(t) = m_z/V_z(t)$$"
   ]
  },
  {
   "cell_type": "markdown",
   "metadata": {},
   "source": []
  },
  {
   "cell_type": "code",
   "execution_count": 4,
   "metadata": {},
   "outputs": [
    {
     "data": {
      "text/plain": [
       "MassAndDens (generic function with 1 method)"
      ]
     },
     "execution_count": 4,
     "metadata": {},
     "output_type": "execute_result"
    }
   ],
   "source": [
    "function MassAndDens(mz,x,y)\n",
    "    \n",
    "    Ic, = size(mz)\n",
    "    Ip, = size(Tc)\n",
    "    Asbz = zeros(Float64,4)\n",
    "    ρ = zeros(Float64,Ic)\n",
    "    mp = zeros(Float64,Ip)\n",
    "    xz = zeros(Float64,4)\n",
    "    yz = zeros(Float64,4)\n",
    "    for i in 1:Ic\n",
    "        xz[1:4] = x[Tp[i,1:4]]\n",
    "        yz[1:4] = y[Tp[i,1:4]]\n",
    "        Asbz = A_z(xz,yz)\n",
    "        Az = sum(Asbz)\n",
    "        ρ[i] = mz[i]/Az\n",
    "        \n",
    "        for j = 1:4\n",
    "            ip = Tp[i,j]\n",
    "            mp[ip] = mp[ip] + Asbz[j]*ρ[i]\n",
    "        end\n",
    "    end\n",
    "   # @show mp\n",
    "    return ρ,mp   \n",
    "end"
   ]
  },
  {
   "cell_type": "code",
   "execution_count": 5,
   "metadata": {},
   "outputs": [
    {
     "ename": "LoadError",
     "evalue": "syntax: incomplete: \"function\" at none:1 requires end",
     "output_type": "error",
     "traceback": [
      "syntax: incomplete: \"function\" at none:1 requires end",
      ""
     ]
    }
   ],
   "source": [
    "function density(mz,A)\n",
    "    I = \n",
    "    for i in length(mz)\n",
    "    ρ[i] = mz ./ (A[i,1] + A[i,2] +A[i,3] +A[i,4])\n",
    "    return ρ\n",
    "end\n",
    "\n",
    "function mass_point(ρ,A)\n",
    "    Ic, = size(mz)\n",
    "    Ip, = size(Tc)\n",
    "    mp = zeros(Float64,Ip)\n",
    "    for j = 1:4\n",
    "        for i in 1:Ic\n",
    "            ip = Tp[i,j]\n",
    "            mp[ip] += A[i,j]*ρ[i]\n",
    "        end    \n",
    "    end\n",
    "    return mp\n",
    "end"
   ]
  },
  {
   "cell_type": "markdown",
   "metadata": {},
   "source": [
    "\n",
    "$$ A_z^1 = \\frac{5A_{41}+5A_{12}+A_{23}+A_{34}}{12}$$\n",
    "$$ A_z^2 = \\frac{A_{41}+5A_{12}+5A_{23}+A_{34}}{12}$$\n",
    "$$ A_z^3 = \\frac{A_{41}+A_{12}+5A_{23}+5A_{34}}{12}$$\n",
    "$$ A_z^4 = \\frac{5A_{41}+A_{12}+A_{23}+5A_{34}}{12}$$"
   ]
  },
  {
   "cell_type": "code",
   "execution_count": 6,
   "metadata": {},
   "outputs": [
    {
     "data": {
      "text/plain": [
       "area4 (generic function with 1 method)"
      ]
     },
     "execution_count": 6,
     "metadata": {},
     "output_type": "execute_result"
    }
   ],
   "source": [
    "function area4(xz,yz) \n",
    "    A =zeros(Float64,4)\n",
    "    xc= sum(xz)/4\n",
    "    yc= sum(yz[i])/4\n",
    "    \n",
    "    A41 = area3(xz[4],xz[1],xc,yz[4],yz[1],yc)\n",
    "    A12 = area3(xz[1],xz[2],xc,yz[1],yz[2],yc)\n",
    "    A23 = area3(xz[2],xz[3],xc,yz[2],yz[3],yc)\n",
    "    A34 = area3(xz[3],xz[4],xc,yz[3],yz[4],yc)\n",
    "\n",
    "    A[1] = (5A41+5A12+A23+A34)/12\n",
    "    A[2] = (A41+5A12+5A23+A34)/12\n",
    "    A[3] = (A41+A12+5A23+5A34)/12\n",
    "    A[4] = (5A41+A12+A23+5A34)/12\n",
    "    \n",
    "#    A[1] = (A41+A12+A23+A34)/4\n",
    "#    A[2] = (A41+A12+A23+A34)/4\n",
    "#    A[3] = (A41+A12+A23+A34)/4\n",
    "#    A[4] = (A41+A12+A23+A34)/4\n",
    "    \n",
    "    return A\n",
    "end"
   ]
  },
  {
   "cell_type": "markdown",
   "metadata": {},
   "source": [
    "动量守恒方程：\n",
    "\\begin{equation}\\label{eq:3}\n",
    "  \\begin{array}{l}\n",
    "\t\\displaystyle \\rho \\frac{du}{dt}=\\frac{\\partial \\sigma _{rr}}{\\partial r}+ \\frac{\\partial s_{rz}}{\\partial z} + \\frac{\\sigma_{rr}-\\sigma_{\\theta \\theta}}{r}\\\\[0.3cm]\n",
    "  \\displaystyle \\rho \\frac{dv}{dt}=\\frac{\\partial \\sigma _{zz}}{\\partial z}+ \\frac{\\partial s_{rz}}{\\partial r} + \\frac{s_{rz}}{r}\\\\\n",
    "  \\end{array}\n",
    "  \\end{equation}"
   ]
  },
  {
   "cell_type": "markdown",
   "metadata": {},
   "source": [
    "<img src=\"n12.png\" width = \"300\" height = \"300\" div align=center />"
   ]
  },
  {
   "cell_type": "markdown",
   "metadata": {},
   "source": [
    "$$\\overrightarrow{n}_{12} = \\frac{1}{L_{12}}(z_2- z_1, r_1-r_2)  $$\n",
    "\n",
    "$$\\overrightarrow{\\tau}_{12} = \\frac{1}{L_{12}}(r_2- r_1, z_2-z_1)  $$\n",
    "\n",
    "$$ \\mathbf{F_1}  =  \\left(\\frac{1}{2} ( -\\sigma_{rr}(z_2-z_4)+ s_{rz}(r_2 -r_4)) + \\frac{A}{4}\\frac{(\\sigma_{rr}-\\sigma_{\\theta\\theta})}{r_c}, \\frac{1}{2}(\\sigma_{zz}(r_2-r_4) +s_{rz}(z_4 -z_2) ) + \\frac{A}{4} \\frac{s_{rz}}{r_c }\\right)$$ "
   ]
  },
  {
   "cell_type": "code",
   "execution_count": 7,
   "metadata": {},
   "outputs": [
    {
     "data": {
      "text/plain": [
       "force_zone (generic function with 1 method)"
      ]
     },
     "execution_count": 7,
     "metadata": {},
     "output_type": "execute_result"
    }
   ],
   "source": [
    "function force_zone(x,y,u,v,ρ,p,σ) #(r,z)\n",
    "   \n",
    "    Fx = zeros(Float64,4)\n",
    "    Fy = zeros(Float64,4)\n",
    "    \n",
    "    \n",
    "    Fx[1] = 0.5(σ[1]*(y[4] - y[2]) + σ[3]*(x[2] - x[4])) \n",
    "    Fy[1] = 0.5(σ[3]*(y[4] - y[2]) + σ[2]*(x[2] - x[4]))\n",
    "    \n",
    "    Fx[2] = 0.5(σ[1]*(y[1] - y[3]) + σ[3]*(x[3] - x[1]))\n",
    "    Fy[2] = 0.5(σ[3]*(y[1] - y[3]) + σ[2]*(x[3] - x[1]))\n",
    "    \n",
    "    Fx[3] = 0.5(σ[1]*(y[2] - y[4]) + σ[3]*(x[4] - x[2]))\n",
    "    Fy[3] = 0.5(σ[3]*(y[2] - y[4]) + σ[2]*(x[4] - x[2]))\n",
    "    \n",
    "    Fx[4] = 0.5(σ[1]*(y[3] - y[1]) + σ[3]*(x[1] - x[3]))\n",
    "    Fy[4] = 0.5(σ[3]*(y[3] - y[1]) + σ[2]*(x[1] - x[3]))\n",
    "      \n",
    "    ex,ey = hourglass_viscosity(x, y, u, v, ρ, p,σ) \n",
    "\n",
    "    Fx = Fx .+ ex\n",
    "    Fy = Fy .+ ey\n",
    "    \n",
    "    return Fx,Fy\n",
    "end           "
   ]
  },
  {
   "cell_type": "code",
   "execution_count": 8,
   "metadata": {},
   "outputs": [
    {
     "data": {
      "text/plain": [
       "force_zone (generic function with 1 method)"
      ]
     },
     "execution_count": 8,
     "metadata": {},
     "output_type": "execute_result"
    }
   ],
   "source": [
    "function force_zone(x,y,u,v,ρ,p,σ)\n",
    "   \n",
    "    Fx = zeros(Float64,4)\n",
    "    Fy = zeros(Float64,4)\n",
    "    A = area_quadrangle(x, y) \n",
    "    xc = sum(x)/4\n",
    "    yc = sum(y)/4\n",
    "    \n",
    "    for i in 1:4\n",
    "        i == 1 ? im = 4 : im = i-1\n",
    "        i == 4 ? ip = 1 :  ip = i+1\n",
    "        Fx[i] = 0.5(σ[1]*(y[im] - y[ip]) + σ[3]*(x[ip] - x[im])) +A/4*(2σ[1]+σ[2])/xc \n",
    "        Fy[i] = 0.5(σ[3]*(y[im] - y[ip]) + σ[2]*(x[ip] - x[im])) +A/4*(σ[3])/xc\n",
    "    end\n",
    "      \n",
    "    ex,ey = hourglass_viscosity(x, y, u, v, ρ, p,σ) \n",
    "\n",
    "    Fx = Fx .+ ex\n",
    "    Fy = Fy .+ ey\n",
    "    \n",
    "    return Fx,Fy\n",
    "end           "
   ]
  },
  {
   "cell_type": "markdown",
   "metadata": {},
   "source": [
    "\\begin{equation}\n",
    "  \\begin{aligned}\n",
    "\t&\\displaystyle \\rho \\frac{de}{dt}= \\mathbf{\\sigma} \\cdot \\mathbf{\\varepsilon}\\\\ \n",
    "\t&=\n",
    "\t\\sigma _{rr}\\frac{\\partial u}{\\partial r}+\\sigma_{zz}\\frac{\\partial v}{\\partial z}+ \\sigma_{\\theta\\theta} \\frac{u}{r} + \\sigma_{rz}\\left( \\frac{\\partial u}{\\partial z}+\\frac{\\partial v}{\\partial r}\\right)\n",
    "\t\\end{aligned}\n",
    "\t\\end{equation}\n",
    "    \n",
    "\\begin{equation}\n",
    "  \\begin{aligned}\n",
    "\t&\\displaystyle M \\frac{de}{dt}=  \n",
    "\\int_{\\Omega}  r\\sigma _{rr}\\frac{\\partial u}{\\partial r}+r\\sigma_{zz}\\frac{\\partial v}{\\partial z}+ \\sigma_{\\theta \\theta} u + r \\sigma_{rz}\\left( \\frac{\\partial u}{\\partial z}+\\frac{\\partial v}{\\partial r}\\right)dr dz\n",
    "\t\\end{aligned}\n",
    "\t\\end{equation}\n",
    "\n"
   ]
  },
  {
   "cell_type": "markdown",
   "metadata": {},
   "source": [
    "\\begin{equation} \n",
    "\\int_{\\Omega}  r\\sigma _{rr}\\frac{\\partial u}{\\partial r}  dr dz= \\int _\\Omega (\\frac{\\partial ru}{\\partial r}  - u )dr dz \n",
    "\t\\end{equation}\n",
    "\n"
   ]
  },
  {
   "cell_type": "markdown",
   "metadata": {},
   "source": [
    "# Infinite element method to solve the integration"
   ]
  },
  {
   "cell_type": "code",
   "execution_count": null,
   "metadata": {},
   "outputs": [],
   "source": []
  },
  {
   "cell_type": "markdown",
   "metadata": {},
   "source": [
    "\n",
    "\n",
    "\\begin{equation}\n",
    "  \\begin{aligned}\n",
    "\\int_{\\Omega}  \\frac{\\partial u}{\\partial r} d\\Omega&=  -\\oint_{\\partial \\omega}u dz\\\\\n",
    "  &= \\frac{1}{2} \\left((u_1-u_3)(z_2-z_4)+(u_2-u_4)(z_3-z_1)\\right)\n",
    "  \\end{aligned}\n",
    "\\end{equation}\n",
    "\n",
    "\\begin{equation}\n",
    "  \\begin{aligned}\n",
    "\\int_{\\Omega}  \\frac{\\partial u}{\\partial z} d\\Omega&= \\oint_{\\partial \\omega}u dr\\\\\n",
    "  &= -\\frac{1}{2} \\left((u_1-u_3)(r_2-r_4)+(u_2-u_4)(r_3-r_1)\\right)\n",
    "  \\end{aligned}\n",
    "\\end{equation}\n",
    "\n",
    "$$ \\frac{\\partial u}{\\partial x}  \\approx \\frac{1}{2A}((u_1-u_3)(y_2-y_4)+(u_2-u_4)(-y_1+y_3))$$ \n",
    "\n",
    "$$ \\frac{\\partial v}{\\partial y}  \\approx -\\frac{1}{2A}((v_1-v_3)(x_2-x_4)+(v_2-v_4)(-x_1+x_3))$$ "
   ]
  },
  {
   "cell_type": "markdown",
   "metadata": {},
   "source": [
    "对于节点\n",
    "$$ \\rho \\frac{d \\mathbf{u}}{dt} = - \\nabla p$$\n",
    "\n",
    "$$m_p \\frac{d\\bf{u}_p}{dt} = \\sum_{p\\in P(z)} \\bf{F}_z^p$$"
   ]
  },
  {
   "cell_type": "markdown",
   "metadata": {},
   "source": [
    "$$F_z^1 = \\mathbf{F}_1 + c\\mathbf{e}_1$$"
   ]
  },
  {
   "cell_type": "markdown",
   "metadata": {},
   "source": [
    "本构方程：\n",
    "\\begin{equation}\n",
    "  \\begin{array}{l}\n",
    "\t\\displaystyle \\frac{ds_{rr}}{dt}=2\\mu \\left(\\frac{\\partial u}{\\partial r}-\\frac{1}{3}\\nabla \\cdot \\vec{u} \\right) +s_{rz}\\left(\\frac{\\partial u}{\\partial z}-\\frac{\\partial v}{\\partial r}\\right)\\\\[0.3cm]\n",
    "\t\\displaystyle \\frac{ds_{zz}}{dt}=2\\mu \\left(\\frac{\\partial v}{\\partial z}-\\frac{1}{3}\\nabla \\cdot \\vec{u} \\right) -s_{rz}\\left(\\frac{\\partial u}{\\partial z}-\\frac{\\partial v}{\\partial r}\\right)\\\\[0.3cm]\n",
    "\t\\displaystyle \\frac{ds_{rz}}{dt}=\\mu \\left(\\frac{\\partial u}{\\partial z}+\\frac{\\partial v}{\\partial r}\\right) - \\frac{s_{rr}-s_{zz}}{2}\\left(\\frac{\\partial u}{\\partial z}-\\frac{\\partial v}{\\partial r}\\right)\\\\\n",
    "  \\end{array}\n",
    "  \\end{equation}\n",
    "\n",
    "Von Mises屈服条件：\n",
    "\\begin{equation}\n",
    "  \\frac{3}{2}(s_{rr}^2+s_{zz}^2+s_{\\theta \\theta}^2+2s_{xy}^2)\\le (Y^0)^2\n",
    "\\end{equation}\n"
   ]
  },
  {
   "cell_type": "code",
   "execution_count": 9,
   "metadata": {},
   "outputs": [
    {
     "data": {
      "text/plain": [
       "rhs (generic function with 1 method)"
      ]
     },
     "execution_count": 9,
     "metadata": {},
     "output_type": "execute_result"
    }
   ],
   "source": [
    "function rhs(var::Var)\n",
    "    μ = con1.μ\n",
    "    r,z,u,v,ρ,p,s = var.r,var.z,var.u,var.v,var.ρ,var.p,var.s\n",
    "    \n",
    "    Ic, = size(Tp)\n",
    "    Ip, = size(Tc)\n",
    "    rhsu = zeros(Float64,Ip)\n",
    "    rhsv = zeros(Float64,Ip) \n",
    "    rhse = zeros(Float64,Ic)\n",
    "    rhss = zeros(Float64,Ic,3)\n",
    "    σ = zeros(Float64,Ic,3)\n",
    "  \n",
    "    σ[:,1] = s[:,1] - p[:]\n",
    "    σ[:,2] = s[:,2] - p[:]\n",
    "    σ[:,3] = s[:,3] \n",
    "    \n",
    "    rcell = zeros(Float64,4)\n",
    "    zcell = zeros(Float64,4)\n",
    "    ucell = zeros(Float64,4)\n",
    "    vcell = zeros(Float64,4)\n",
    "    \n",
    "    for i in 1:Ic\n",
    "        for j =1:4\n",
    "            rcell[j] = r[Tp[i,j]]\n",
    "            zcell[j] = z[Tp[i,j]]\n",
    "            ucell[j] = u[Tp[i,j]]\n",
    "            vcell[j] = v[Tp[i,j]]\n",
    "        end\n",
    "        Az = sum(A_z(rcell,zcell))\n",
    "        Fx,Fy = force_zone(rcell,zcell,ucell,vcell,ρ[i],p[i],σ[i,1:3])  \n",
    "        ∂u_∂r,∂u_∂z = ∂uv(rcell,zcell, ucell)\n",
    "        ∂v_∂r,∂v_∂z = ∂uv(rcell,zcell, vcell)\n",
    "        rhse[i] = σ[i,1]*∂u_∂r + σ[i,2]*∂v_∂z+σ[i,3]*(∂u_∂z + ∂v_∂r)\n",
    "        for j = 1:4\n",
    "            ip = Tp[i,j]\n",
    "            rhsu[ip] +=  Fx[j]\n",
    "            rhsv[ip] +=  Fy[j]\n",
    "        end  \n",
    "        ∇u = ∂u_∂r + ∂v_∂z\n",
    "    \n",
    "        rhss[i,1] =  (2μ*(2/3*∂u_∂r - 1/3*∂v_∂z) + σ[i,3]*(∂u_∂z - ∂v_∂r)) ./Az\n",
    "        rhss[i,2] =  (2μ*(2/3*∂v_∂z - 1/3*∂u_∂r) - σ[i,3]*(∂u_∂z - ∂v_∂r)) ./Az\n",
    "        rhss[i,3] =   (μ*(∂u_∂z+∂v_∂r)  -   (σ[i,1] - σ[i,2])*(∂u_∂z - ∂v_∂r)) ./Az      \n",
    "    end\n",
    "\n",
    "    return rhse, rhsu,rhsv,rhss\n",
    "\n",
    "end     "
   ]
  },
  {
   "cell_type": "code",
   "execution_count": 10,
   "metadata": {},
   "outputs": [
    {
     "data": {
      "text/plain": [
       "output (generic function with 1 method)"
      ]
     },
     "execution_count": 10,
     "metadata": {},
     "output_type": "execute_result"
    }
   ],
   "source": [
    "function output(f)\n",
    "    io = open(\"data2.dat\", \"w+\")\n",
    "     writedlm(io,f,\"  \") \n",
    "    close(io)\n",
    "end"
   ]
  },
  {
   "cell_type": "markdown",
   "metadata": {},
   "source": [
    "$$ \\mathbf{S} = \\mathbf{S} \\times \\text{min} \\left(1,Y_0/\\sqrt{\\frac{3}{2}\\mathbf{S}:\\mathbf{S}}\\right)$$"
   ]
  },
  {
   "cell_type": "code",
   "execution_count": 11,
   "metadata": {},
   "outputs": [
    {
     "data": {
      "text/plain": [
       "yield_s! (generic function with 1 method)"
      ]
     },
     "execution_count": 11,
     "metadata": {},
     "output_type": "execute_result"
    }
   ],
   "source": [
    "function yield_s!(s,con)\n",
    "    Y0 = con.Y0\n",
    "    I, = size(s)\n",
    "    for i in 1:I\n",
    "         sums = s[i,1]^2 +s[i,2]^2 +2*s[i,3]^2 +(s[i,1]+s[i,2])^2\n",
    "        for j = 1:3\n",
    "       \n",
    "        s[i,j] = s[i,j] * min(1,Y0/√(3/2*sums))\n",
    "            end \n",
    "    end\n",
    "    return s\n",
    "end"
   ]
  },
  {
   "cell_type": "code",
   "execution_count": 12,
   "metadata": {},
   "outputs": [
    {
     "data": {
      "text/plain": [
       "predictor_corrector2nd (generic function with 1 method)"
      ]
     },
     "execution_count": 12,
     "metadata": {},
     "output_type": "execute_result"
    }
   ],
   "source": [
    "function predictor_corrector2nd(dt,var::Var,mz)\n",
    "    r,z,u,v,ρ,p,s = var.r,var.z,var.u,var.v,var.ρ,var.p,var.s\n",
    "    \n",
    "    Ip, = size(u)\n",
    "    Ic, = size(p)\n",
    "    \n",
    "    ρ,mp = MassAndDens(mz,r,z)\n",
    "    e = p_to_e(ρ, p,con1)    \n",
    "    p = artificial_viscosity!(r,z,u,v,ρ,p)\n",
    "    ρ,p,s = bound_ghost_cell!(ρ,p,s)\n",
    "    var = Var(r, z, u, v, ρ, p, s)\n",
    "    \n",
    "    rhse, rhsu,rhsv,rhss = rhs(var)\n",
    "    rhsu,rhsv = bound_force(rhsu,rhsv,var)\n",
    "    \n",
    "    s = yield_s!(s,con1)\n",
    "    r₀ =  r + dt*u\n",
    "    z₀  = z + dt*v\n",
    "    u₀  = u + dt*(rhsu ./ mp)\n",
    "    v₀  = v + dt*(rhsv ./ mp)\n",
    "    e₀  = e + dt*(rhse ./ mz) \n",
    "    s₀  = s + dt*rhss\n",
    "  #  @show rhsu\n",
    "    s₀ = yield_s!(s₀,con1)\n",
    "    r₀,z₀,u₀,v₀ = bound_ghost_coordinate!(r₀,z₀,u₀,v₀)\n",
    "    ρ,mp = MassAndDens(mz,r₀,z₀)\n",
    "    p = e_to_p(ρ,e₀,con1)\n",
    "    p = artificial_viscosity!(r₀,z₀,u₀,v₀,ρ,p) \n",
    "    ρ,p,s₀ = bound_ghost_cell!(ρ,p,s₀)\n",
    "    var = Var(r₀, z₀, u₀, v₀, ρ, p, s₀)\n",
    "   \n",
    "    rhse₀,rhsu₀,rhsv₀,rhss₀ = rhs(var)\n",
    "    rhsu₀,rhsv₀ = bound_force(rhsu₀,rhsv₀,var)\n",
    "  #  @show s[:,1]\n",
    "    r +=  0.5dt*(u + u₀)\n",
    "    z +=  0.5dt*(v + v₀)\n",
    "    u +=  0.5dt*(rhsu + rhsu₀) ./ mp\n",
    "    v +=  0.5dt*(rhsv + rhsv₀) ./ mp\n",
    "    e +=  0.5dt*(rhse + rhse₀) ./ mz\n",
    "    s  += 0.5dt*(rhss + rhss₀)\n",
    "    s = yield_s!(s,con1)\n",
    "    r,z,u,v = bound_ghost_coordinate!(r,z,u,v)\n",
    "    ρ,mp = MassAndDens(mz,r,z)\n",
    "    p = e_to_p(ρ,e,con1)\n",
    "    ρ,p,s = bound_ghost_cell!(ρ,p,s)\n",
    "    var = Var(r,z,u,v,ρ,p,s)\n",
    "   \n",
    "    return var\n",
    "end"
   ]
  },
  {
   "cell_type": "code",
   "execution_count": 13,
   "metadata": {},
   "outputs": [
    {
     "data": {
      "text/plain": [
       "fηη (generic function with 1 method)"
      ]
     },
     "execution_count": 13,
     "metadata": {},
     "output_type": "execute_result"
    }
   ],
   "source": [
    "function fη(ρ,c::Const)\n",
    "    η = ρ/c.ρ0\n",
    "    fη=(η .-1.0) .* (η .-c.Γ0*(η .-1.0)/2.0) ./ (η .-c.s0*(η .-1)) .^2\n",
    "end\n",
    "\n",
    "function fηη(ρ,c::Const)\n",
    "    η = ρ/c.ρ0\n",
    "    fηη=(η .+(c.s0-c.Γ0) .* (η .-1)) ./(η .-c.s0*(η .- 1)) .^3\n",
    "end"
   ]
  },
  {
   "cell_type": "code",
   "execution_count": 14,
   "metadata": {},
   "outputs": [
    {
     "data": {
      "text/plain": [
       "euler1st (generic function with 1 method)"
      ]
     },
     "execution_count": 14,
     "metadata": {},
     "output_type": "execute_result"
    }
   ],
   "source": [
    "function euler1st(dt,var::Var,mz)\n",
    "    r,z,u,v,ρ,p,s = var.r,var.z,var.u,var.v,var.ρ,var.p,var.s\n",
    "    \n",
    "    Ip, = size(u)\n",
    "    Ic, = size(p)\n",
    "    \n",
    "    ρ,mp = MassAndDens(mz,r,z)\n",
    "    e = p_to_e(ρ, p,con1)    \n",
    "    p = artificial_viscosity!(r,z,u,v,ρ,p)\n",
    "    ρ,p,s = bound_ghost_cell!(ρ,p,s)\n",
    "    var = Var(r, z, u, v, ρ, p, s)\n",
    "    \n",
    "    rhse, rhsu,rhsv,rhss = rhs(var)\n",
    "    rhsu,rhsv = bound_force(rhsu,rhsv,var)\n",
    "    \n",
    " #   @show rhsv\n",
    "    s = yield_s!(s,con1)\n",
    "    r =  r + dt*u\n",
    "    z = z + dt*v\n",
    "    u  = u + dt*(rhsu ./ mp)\n",
    "    v  = v + dt*(rhsv ./ mp)\n",
    "    e  = e + dt*(rhse ./ mz) \n",
    "    s  = s + dt*rhss\n",
    "  #  @show rhsu\n",
    "    s = yield_s!(s,con1)\n",
    "    r,z,u,v = bound_ghost_coordinate!(r,z,u,v)\n",
    "    ρ,mp = MassAndDens(mz,r,z)\n",
    "    p = e_to_p(ρ,e,con1)\n",
    "    ρ,p,s = bound_ghost_cell!(ρ,p,s)\n",
    "    var = Var(r,z,u,v,ρ,p,s)\n",
    "   \n",
    "    return var\n",
    "end"
   ]
  },
  {
   "cell_type": "markdown",
   "metadata": {},
   "source": [
    "### Boundary force\n",
    "\n",
    "If one edge of a cell is a free boundary, then $f$ on the points is zero. As we have add it in RHs(), we need to remove it by resolve it again. Different from RHs(), at every point of a cell the force is composited by two parts on different edges. This is distinguished by $k$ when $k = 1$ the boundary is on y direction, forces on 12 and 34 boundary must be subtracted. When $ k =2$ the boundary is on x direction, subtract forces on 41, 23. "
   ]
  },
  {
   "cell_type": "code",
   "execution_count": 15,
   "metadata": {},
   "outputs": [
    {
     "data": {
      "text/plain": [
       "bound_force (generic function with 1 method)"
      ]
     },
     "execution_count": 15,
     "metadata": {},
     "output_type": "execute_result"
    }
   ],
   "source": [
    "function bound_force(rhsu,rhsv,var)\n",
    "    Ip, = size(Tc)\n",
    "    Ib, = size(Tb)\n",
    "   \n",
    "    r,z,u,v,ρ,p,s = var.r,var.z,var.u,var.v,var.ρ,var.p,var.s\n",
    "    rcell = zeros(Float64,4)\n",
    "    zcell = zeros(Float64,4)\n",
    "    ucell = zeros(Float64,4)\n",
    "    vcell = zeros(Float64,4)\n",
    "    ip1 = zeros(Int,4)\n",
    "    σ = zeros(Float64,3)\n",
    "    for i in 1:Ib\n",
    "        if Tb[i,4] == 1 || Tb[i,4] == 3\n",
    "            ic = Tb[i,1]        \n",
    "            rcell[1:4] = r[Tp[ic,1:4]]\n",
    "            zcell[1:4] = z[Tp[ic,1:4]]\n",
    "            ucell[1:4] = u[Tp[ic,1:4]]\n",
    "            vcell[1:4] = v[Tp[ic,1:4]]\n",
    "\n",
    "            σ[1] = s[ic,1] - p[ic]\n",
    "            σ[2] = s[ic,2] - p[ic]\n",
    "            σ[3] = s[ic,3]\n",
    "\n",
    "            ex,ey = hourglass_viscosity(rcell, zcell, ucell, vcell, ρ[ic]\n",
    "                                        , p[ic],s[ic,:])\n",
    "            i₁ = Tb[i,3]\n",
    "            i₂ = i₁+1\n",
    "            if i₁ == 4\n",
    "                i₂ = 1\n",
    "            end\n",
    "            nx = zcell[i₂] -zcell[i₁]\n",
    "            ny = rcell[i₁] -rcell[i₂]\n",
    "            p0 = 1e-10\n",
    "            for j in (i₁,i₂)\n",
    "\n",
    "                ip = Tp[ic,j]\n",
    "                    Fx = -σ[1]*nx/2 -σ[3]*ny/2+ex[j] #*nx^2/(nx^2+ny^2)  #+ex[j] \n",
    "                    Fy = -σ[3]*nx/2 -σ[2]*ny/2+ey[j] #*ny^2/(nx^2+ny^2)\n",
    "                    Fx1 = (Fx*nx+Fy*ny)*nx/(nx^2+ny^2)\n",
    "                    Fy1 = (Fx*nx+Fy*ny)*ny/(nx^2+ny^2)\n",
    "                    Fx = Fx- Fx1\n",
    "                    Fy = Fy - Fy1\n",
    "                    Fx1 =  p0*nx/2 #+ex[j]*nx^2/(nx^2+ny^2) \n",
    "                    Fy1 =  p0*ny/2 #+ey[j]*ny^2/(nx^2+ny^2)\n",
    "\n",
    "                    rhsu[ip] +=  -Fx1 # -Fx1\n",
    "                    rhsv[ip] +=  -Fy1 #-Fy1\n",
    "\n",
    "                if Tb[i,4] == 3 # boundary\n",
    "                    uL = 2e-3\n",
    "                    u[ip] = uL #*nx/(nx^2 +ny^2)\n",
    "                end  \n",
    "            end\n",
    "        end\n",
    "    end \n",
    "\n",
    "    return rhsu, rhsv\n",
    "end  "
   ]
  },
  {
   "cell_type": "markdown",
   "metadata": {},
   "source": [
    "<img src=\"bound_corresponding.png\" width = \"400\" height = \"800\" div align=center /> "
   ]
  },
  {
   "cell_type": "markdown",
   "metadata": {},
   "source": [
    "$$ Ig_1 = Tb[i,3] $$\n",
    "$$Ib_1 = Ig_1 -1$$"
   ]
  },
  {
   "cell_type": "code",
   "execution_count": 16,
   "metadata": {},
   "outputs": [
    {
     "data": {
      "text/plain": [
       "bound_ghost_coordinate! (generic function with 1 method)"
      ]
     },
     "execution_count": 16,
     "metadata": {},
     "output_type": "execute_result"
    }
   ],
   "source": [
    "function bound_ghost_coordinate!(r,z,u,v)\n",
    "    Ip, = size(Tc)\n",
    "    Ic, = size(Tp)\n",
    "    Ib, = size(Tb)\n",
    "   # r,z,u,v,ρ,p,s = var.r,var.z,var.u,var.v,var.ρ,var.p,var.s\n",
    "   \n",
    "    rt= copy(r)\n",
    "    zt= copy(z)\n",
    "   # output(r)\n",
    "    for i in 1:Ib\n",
    "        if Tb[i,4] == 2\n",
    "            ic = Tb[i,1]\n",
    "            ic2= Tb[i,2]\n",
    "            ig₁ = Tb[i,3]\n",
    "            \n",
    "           \n",
    "            ig₁ == 4 ? ig₂ = 1 : ig₂ = ig₁+1\n",
    "            ig₂ == 4 ? ig₃ = 1 : ig₃ = ig₂+1\n",
    "            ig₃ == 4 ? ig₄ = 1 : ig₄ = ig₃+1\n",
    "\n",
    "            ig₁ == 1 ? ib₁ = 4 : ib₁ = ig₁-1\n",
    "            ib₁ == 1 ? ib₂ = 4 : ib₂ = ib₁-1\n",
    "            ib₂ == 1 ? ib₃ = 4 : ib₃ = ib₂-1\n",
    "            ib₃ == 1 ? ib₄ = 4 : ib₄ = ib₃-1\n",
    "\n",
    "                r1 =    rt[Tp[ic2,ib₁]]\n",
    "                r2 =    rt[Tp[ic2,ib₂]]\n",
    "                z1 =    zt[Tp[ic2,ib₁]]\n",
    "                z2 =    zt[Tp[ic2,ib₂]]\n",
    "\n",
    "                r3=     rt[Tp[ic2,ib₃]]\n",
    "                z3=     zt[Tp[ic2,ib₃]]\n",
    "                r4=     rt[Tp[ic2,ib₄]]\n",
    "                z4=     zt[Tp[ic2,ib₄]]\n",
    "                \n",
    "                nx = zt[Tp[ic2,ib₁]] -zt[Tp[ic2,ib₂]]\n",
    "                ny = rt[Tp[ic2,ib₂]] -rt[Tp[ic2,ib₁]]\n",
    "                for j in (ib₁,ib₂)\n",
    "                    ip = Tp[ic2,j]\n",
    "                    u[ip] = u[ip]*ny^2/(nx^2 +ny^2)\n",
    "                    v[ip] = v[ip]*nx^2/(nx^2 +ny^2)\n",
    "                end\n",
    "\n",
    "                r[Tp[ic,ig₃]],z[Tp[ic,ig₃]] = reflect(r1,z1,r2,z2,r3,z3)\n",
    "                r[Tp[ic,ig₄]],z[Tp[ic,ig₄]] = reflect(r1,z1,r2,z2,r4,z4)\n",
    "                u[Tp[ic,ig₃]],v[Tp[ic,ig₃]] = u[Tp[ic2,ib₃]],v[Tp[ic2,ib₃]]\n",
    "                u[Tp[ic,ig₄]],v[Tp[ic,ig₄]] = u[Tp[ic2,ib₄]],v[Tp[ic2,ib₄]]\n",
    "            \n",
    "       \n",
    "          end \n",
    "    end\n",
    "    return r,z,u,v\n",
    "end  "
   ]
  },
  {
   "cell_type": "code",
   "execution_count": 17,
   "metadata": {},
   "outputs": [
    {
     "data": {
      "text/plain": [
       "bound_ghost_cell! (generic function with 1 method)"
      ]
     },
     "execution_count": 17,
     "metadata": {},
     "output_type": "execute_result"
    }
   ],
   "source": [
    "function bound_ghost_cell!(ρ,p,s)\n",
    "    Ip, = size(Tc)\n",
    "    Ic, = size(Tp)\n",
    "    Ib, = size(Tb)    \n",
    "    for i in 1:Ib\n",
    "        if Tb[i,4] == 2\n",
    "            ic = Tb[i,1]\n",
    "            ic2= Tb[i,2]\n",
    "            ρ[ic] = ρ[ic2]\n",
    "            p[ic] = p[ic2]\n",
    "            s[ic,1:2] = s[ic2,1:2]\n",
    "            s[ic,3] = -s[ic2,3]\n",
    "          end \n",
    "    end\n",
    "    return ρ,p,s\n",
    "end  "
   ]
  },
  {
   "cell_type": "code",
   "execution_count": 18,
   "metadata": {},
   "outputs": [
    {
     "ename": "UndefVarError",
     "evalue": "UndefVarError: exp1 not defined",
     "output_type": "error",
     "traceback": [
      "UndefVarError: exp1 not defined",
      "",
      "Stacktrace:",
      " [1] top-level scope at In[18]:1"
     ]
    }
   ],
   "source": [
    "exp1[r4]"
   ]
  },
  {
   "cell_type": "markdown",
   "metadata": {},
   "source": [
    "## Ghost cell coordinate of a reflect boundary"
   ]
  },
  {
   "cell_type": "markdown",
   "metadata": {},
   "source": [
    "<img src=\"reflect.png\" width = \"200\" height = \"400\" div align=center /> "
   ]
  },
  {
   "cell_type": "markdown",
   "metadata": {},
   "source": [
    "$$ k_1 k_2 = -1$$\n",
    "$$ d_3 = -d_4 $$"
   ]
  },
  {
   "cell_type": "markdown",
   "metadata": {},
   "source": [
    "$$(z_2-z_1)(z_3-z_4)+(r_3-r_4)(r_2-r_1) = 0$$\n",
    "$$(z_2-z_1)(r_3-r_1)-(z_3-z_1)(r_2-r_1) = -(z_2-z_1)(r_4-r_1)+(z_4-z_1)(r_2-r_1)$$"
   ]
  },
  {
   "cell_type": "code",
   "execution_count": 19,
   "metadata": {
    "scrolled": true
   },
   "outputs": [
    {
     "ename": "ArgumentError",
     "evalue": "ArgumentError: Package SymPy not found in current path:\n- Run `import Pkg; Pkg.add(\"SymPy\")` to install the SymPy package.\n",
     "output_type": "error",
     "traceback": [
      "ArgumentError: Package SymPy not found in current path:\n- Run `import Pkg; Pkg.add(\"SymPy\")` to install the SymPy package.\n",
      "",
      "Stacktrace:",
      " [1] require(::Module, ::Symbol) at ./loading.jl:876",
      " [2] top-level scope at In[19]:1"
     ]
    }
   ],
   "source": [
    "using SymPy\n",
    "@vars z1 z2 z3 z4 r1 r2 r3 r4\n",
    "exp1 = solve([(z2-z1)*(z3-z4)+(r2-r1)*(r3-r4),(z2-z1)*(r3-r1)-(z3-z1)*(r2-r1)+(z2-z1)*(r4-r1)-(z4-z1)*(r2-r1)],[r4,z4])\n",
    "@show exp1[r4],exp1[z4]"
   ]
  },
  {
   "cell_type": "code",
   "execution_count": 20,
   "metadata": {},
   "outputs": [
    {
     "data": {
      "text/plain": [
       "reflect (generic function with 1 method)"
      ]
     },
     "execution_count": 20,
     "metadata": {},
     "output_type": "execute_result"
    }
   ],
   "source": [
    "function reflect(r1,z1,r2,z2,r3,z3)\n",
    "    tmp1=(r1*r3-r2*r3+z1*z3-z2*z3) \n",
    "    tmp2 = (2r1*z2-r1*z3-2r2*z1+r2*z3+r3*z1-r3*z2)\n",
    "    tmp3 = ((r1-r2)^2+(z1-z2)^2)\n",
    "    \n",
    "    r4 = ((r1-r2)*tmp1 - (z1-z2)*tmp2)/tmp3\n",
    "    z4 = ((r1-r2)*tmp2 + (z1-z2)*tmp1)/tmp3\n",
    "    \n",
    "    return r4,z4\n",
    "end"
   ]
  },
  {
   "cell_type": "code",
   "execution_count": 21,
   "metadata": {},
   "outputs": [
    {
     "data": {
      "text/plain": [
       "(1.1, 0.0)"
      ]
     },
     "execution_count": 21,
     "metadata": {},
     "output_type": "execute_result"
    }
   ],
   "source": [
    "reflect(1,1,1,0,0.9,0)"
   ]
  },
  {
   "cell_type": "markdown",
   "metadata": {},
   "source": [
    "### EOS \n",
    "$$ e = \\frac{p}{(\\gamma-1)\\rho}$$"
   ]
  },
  {
   "cell_type": "code",
   "execution_count": 22,
   "metadata": {},
   "outputs": [
    {
     "data": {
      "text/plain": [
       "e_to_p (generic function with 1 method)"
      ]
     },
     "execution_count": 22,
     "metadata": {},
     "output_type": "execute_result"
    }
   ],
   "source": [
    "function p_to_e(ρ,p,con)\n",
    "    c=con\n",
    "    ei = (p .- c.ρ0*c.a0^2*fη(ρ,c))/(c.ρ0*c.Γ0)\n",
    "    return ei\n",
    "end\n",
    "function e_to_p(ρ,ei,con::Const)\n",
    "    c=con\n",
    "    p = c.ρ0*c.Γ0*ei .+ c.ρ0*c.a0^2*fη(ρ,c)\n",
    "    return p\n",
    "end"
   ]
  },
  {
   "cell_type": "code",
   "execution_count": 23,
   "metadata": {},
   "outputs": [
    {
     "data": {
      "text/plain": [
       "CFL (generic function with 1 method)"
      ]
     },
     "execution_count": 23,
     "metadata": {},
     "output_type": "execute_result"
    }
   ],
   "source": [
    "function CFL(SF,var)\n",
    "    r,z,u,v,ρ,p,s = var.r,var.z,var.u,var.v,var.ρ,var.p,var.s\n",
    "    Ic, = size(ρ)\n",
    "    cflmin = 1.e9\n",
    "      cfl = 0 \n",
    "    for i in 1:Ic\n",
    "        cfl =0\n",
    "        u2max = 0\n",
    "        u2=0.0\n",
    "        for j = 1:4\n",
    "            ip = Tp[i,j]\n",
    "            u2 = u[ip]^2+v[ip]^2\n",
    "            if u2 > u2max ; u2max = u2; end\n",
    "        end\n",
    "        \n",
    "        dlmin = (r[Tp[i,4]] - r[Tp[i,1]])^2+(z[Tp[i,4]]-z[Tp[i,1]])^2\n",
    "       \n",
    "        for j=1:3\n",
    "            dl= (r[Tp[i,j+1]] - r[Tp[i,j]])^2+(z[Tp[i,j+1]]-z[Tp[i,j]])^2\n",
    "            if dl < dlmin; dlmin=dl; end\n",
    "        end\n",
    "        c = sound([ρ[i],u[i],p[i],min(s[i,1],s[i,2])],con1)\n",
    "        cfl = √(dlmin)/(√(u2max)+c)\n",
    "        if cfl < cflmin; cflmin = cfl; end\n",
    "    end\n",
    " #   @show cflmin\n",
    "    dt = cflmin*SF\n",
    "    return dt\n",
    "end \n",
    "        "
   ]
  },
  {
   "cell_type": "code",
   "execution_count": 24,
   "metadata": {},
   "outputs": [
    {
     "data": {
      "text/plain": [
       "sound (generic function with 2 methods)"
      ]
     },
     "execution_count": 24,
     "metadata": {},
     "output_type": "execute_result"
    }
   ],
   "source": [
    "function sound(uo::Array{Float64,1},con::Const,EoP::Int=1)\n",
    "    a0,ρ0,Γ0,Y0,μ  = con.a0,con.ρ0,con.Γ0,con.Y0,con.μ\n",
    "    ρ,uu,p,sxx   = uo[1:4]\n",
    "    a2  = a0^2*fηη(ρ,con)+p/ρ^2*ρ0*Γ0\n",
    "    if EoP == 2\n",
    "        c=sqrt(a2-ρ0/ρ^2*Γ0*sxx)\n",
    "        return c\n",
    "    else\n",
    "       #  @show a2,ρ0/ρ^2,4.0/3*μ/ρ\n",
    "        c=sqrt(a2-ρ0/ρ^2*Γ0*sxx+4.0/3*μ/ρ)\n",
    "       \n",
    "        return c\n",
    "    end\n",
    "end"
   ]
  },
  {
   "cell_type": "code",
   "execution_count": 25,
   "metadata": {},
   "outputs": [
    {
     "data": {
      "text/plain": [
       "TimeSolve (generic function with 1 method)"
      ]
     },
     "execution_count": 25,
     "metadata": {},
     "output_type": "execute_result"
    }
   ],
   "source": [
    "function TimeSolve(var,mz)\n",
    "    tt= problem.tt\n",
    "    sf =problem.sf\n",
    "    t= 0.0\n",
    "    t₁ = tt/100\n",
    "    t₂ = t₁\n",
    "    kinetic_init,energy_init = total_kinetic(var,mz)\n",
    "    kinetic = kinetic_init\n",
    "   # while kinetic > 1e-4*kinetic_init && t<tt\n",
    "    while t<tt\n",
    "    \n",
    "#for i in 1:50\n",
    "        dt=CFL(sf,var)\n",
    "   #     @show dt\n",
    "        if t+dt>tt\n",
    "           dt = tt-t\n",
    "        end\n",
    "        \n",
    "        var = predictor_corrector2nd(dt,var,mz)\n",
    "       # var = euler1st(dt,var,mz)\n",
    "        kinetic,energy = total_kinetic(var,mz)\n",
    "         t += dt\n",
    "        if t > t₁\n",
    "            println(t)\n",
    "            t₁ += t₂\n",
    "            @show kinetic/kinetic_init,(energy+kinetic)/(kinetic_init+energy_init)\n",
    "        end\n",
    "        \n",
    "    end\n",
    "    return var\n",
    "end"
   ]
  },
  {
   "cell_type": "code",
   "execution_count": 26,
   "metadata": {},
   "outputs": [
    {
     "data": {
      "text/plain": [
       "total_kinetic (generic function with 1 method)"
      ]
     },
     "execution_count": 26,
     "metadata": {},
     "output_type": "execute_result"
    }
   ],
   "source": [
    "function total_kinetic(var,mz)\n",
    "    r,z,u,v,ρ,p = var.r,var.z,var.u,var.v,var.ρ,var.p\n",
    "    Ip, = size(Tc)\n",
    "    Ic, = size(Tp)\n",
    "    Ib, = size(Tb)\n",
    "    k = zeros(Float64,Ip)\n",
    "    \n",
    "    kinetic = 0\n",
    "    energy = 0\n",
    "     ρ1,mp = MassAndDens(mz, r, z)\n",
    "    \n",
    "    for i in 1:Ip\n",
    "        k[i]= mp[i]*0.5*(u[i]^2+v[i]^2)\n",
    "    end\n",
    "    \n",
    "    \n",
    "    for i in 1:Ic\n",
    "        energy += mz[i]*p_to_e(ρ[i], p[i], con1)\n",
    "    end\n",
    "    \n",
    "    for i in 1:Ib\n",
    "        if Tb[i,4] == 2\n",
    "            ic= Tb[i,1]\n",
    "            energy -= mz[ic]*p_to_e(ρ[ic], p[ic], con1)\n",
    "            \n",
    "            ig₁ = Tb[i,3]\n",
    "            ig₁ == 4 ? ig₂ = 1 : ig₂ = ig₁+1\n",
    "            k[Tp[ic,ig₁]] = 0\n",
    "            k[Tp[ic,ig₂]] = 0\n",
    "            end\n",
    "    end\n",
    "    kinetic = sum(k)\n",
    "    return kinetic,energy\n",
    "end\n"
   ]
  },
  {
   "cell_type": "markdown",
   "metadata": {},
   "source": [
    "## Artificial Viscosity \n",
    "\n",
    "Use the strain rate to construct the artificial viscosity \n",
    "$$\\frac{ds}{dt} = \\frac{\\partial u}{\\partial x}  + \\frac{\\partial v}{\\partial y} $$\n"
   ]
  },
  {
   "cell_type": "markdown",
   "metadata": {},
   "source": [
    "Then the artificial viscosity can be written as\n",
    "$$ q_w = \\left\\{ \\begin{align}\n",
    "\\alpha L \\rho \\left( \\frac{ds}{dt} \\right)^2 +  \\beta L^2 \\rho c \\left|\\frac{ds}{dt}\\right|, \\quad \\text{if}  \\quad \\frac{ds}{dt}< 0,\\\\\n",
    "0, \\quad \\text{if} \\quad \\frac{ds}{dt}\\ge 0. \\\\\n",
    "\\end{align}\n",
    "\\right.\n",
    "$$\n",
    "where $\\alpha = 0.6$, $\\beta = 2.0 $ and $c$ is the sonic speed.\n",
    "\n",
    "$L$ is the reference length, and constructed as\n",
    "$$L = A/L_{\\text{max}} $$\n",
    "\n",
    "$$L_{\\text{max}} = \\text{max}(L_{13},L_{24})$$\n"
   ]
  },
  {
   "cell_type": "code",
   "execution_count": 27,
   "metadata": {},
   "outputs": [
    {
     "data": {
      "text/plain": [
       "artificial_viscosity_c! (generic function with 1 method)"
      ]
     },
     "execution_count": 27,
     "metadata": {},
     "output_type": "execute_result"
    }
   ],
   "source": [
    "function artificial_viscosity_c!(x,y,u,v,ρ,p)\n",
    "    xc = sum(x[i] for i in 1:4)/4\n",
    "    yc = sum(y[i] for i in 1:4)/4\n",
    "    \n",
    "    ∂u_∂x,tmp = ∂uv(x,y,u)\n",
    "    tmp,∂v_∂y = ∂uv(x,y,v)\n",
    "    c = sound([ρ,0.0,p,0.0],con1)\n",
    "    Lmax = max(√((x[3] - x[1])^2+(y[3] - y[1])^2) ,√((x[2] - x[4])^2+(y[2] - y[4])^2) )  \n",
    "    A = area_quadrangle(x, y)\n",
    "    L = A/Lmax \n",
    "\n",
    "    if ∂u_∂x + ∂v_∂y> 0\n",
    "        q = 0\n",
    "    else\n",
    "        q = 0.6ρ*L*c*(abs(∂u_∂x+∂v_∂y))/A +2.0L^2*ρ*((∂u_∂x+∂v_∂y)^2)/A^2 \n",
    "    end\n",
    "    return p+q\n",
    "end"
   ]
  },
  {
   "cell_type": "markdown",
   "metadata": {},
   "source": [
    "$$b_2 \\rho Lc \\frac{\\partial u}{\\partial x} - b_{12}\\rho L^2 \\left(\\frac{\\partial u}{\\partial x}\\right)^2$$"
   ]
  },
  {
   "cell_type": "code",
   "execution_count": 28,
   "metadata": {},
   "outputs": [
    {
     "data": {
      "text/plain": [
       "artificial_viscosity! (generic function with 1 method)"
      ]
     },
     "execution_count": 28,
     "metadata": {},
     "output_type": "execute_result"
    }
   ],
   "source": [
    "function artificial_viscosity!(r,z,u,v,ρ,p)\n",
    "    I, = size(Tp)\n",
    "    rcell = zeros(Float64,4)\n",
    "    zcell = zeros(Float64,4)\n",
    "    ucell = zeros(Float64,4)\n",
    "    vcell = zeros(Float64,4)\n",
    "   \n",
    "    for i in 1:I\n",
    "        for j in 1:4\n",
    "            ip = Tp[i,j]\n",
    "            rcell[j] = r[ip]\n",
    "            zcell[j] = z[ip]\n",
    "            ucell[j] = u[ip]\n",
    "            vcell[j] = v[ip]\n",
    "        end\n",
    "        p[i] = artificial_viscosity_c!(rcell,zcell,ucell,vcell,ρ[i],p[i])\n",
    "    end\n",
    "    \n",
    "        return p\n",
    "        \n",
    "    end       "
   ]
  },
  {
   "cell_type": "code",
   "execution_count": 29,
   "metadata": {},
   "outputs": [
    {
     "data": {
      "text/plain": [
       "l_viscosity (generic function with 1 method)"
      ]
     },
     "execution_count": 29,
     "metadata": {},
     "output_type": "execute_result"
    }
   ],
   "source": [
    "function l_viscosity(x,y,α)\n",
    "    xc = sum(x)/4; yc = sum(y)/4\n",
    "    d = zeros(Float64,4)\n",
    "    for i in 1:4\n",
    "    d[i] = distance(x[i],y[i],xc,yc,α)\n",
    "    end\n",
    "    A = A_z(x, y)\n",
    "    L = 2sum(A)/sum(d)\n",
    "    return L\n",
    "end"
   ]
  },
  {
   "cell_type": "markdown",
   "metadata": {},
   "source": [
    "#### distance from  Point to line \n",
    "Line: $$ (xc -cos \\alpha )(x-xc) = (yc-sin \\alpha)(y-yc)$$\n",
    "point: $x,y$"
   ]
  },
  {
   "cell_type": "code",
   "execution_count": 30,
   "metadata": {},
   "outputs": [
    {
     "data": {
      "text/plain": [
       "distance (generic function with 1 method)"
      ]
     },
     "execution_count": 30,
     "metadata": {},
     "output_type": "execute_result"
    }
   ],
   "source": [
    "function distance(x,y,xc,yc,α)\n",
    "    d = abs((xc - cosd(α)) * (x .-xc)- (yc-sind(α))*(y .- yc))/√((xc-cosd(α))^2+(yc-sind(α))^2)\n",
    "    return d\n",
    "end"
   ]
  },
  {
   "cell_type": "markdown",
   "metadata": {},
   "source": [
    "### 沙漏粘性 Hourglass"
   ]
  },
  {
   "cell_type": "markdown",
   "metadata": {},
   "source": [
    "$$ \\text{hg}_x = u_1 -u_2 + u_3 - u_4$$ \n",
    "$$ \\text{hg}_x = v_1 -v_2 + v_3 - v_4$$ \n",
    "\n",
    "$$ e_{1x} = -\\frac{1}{4}q\\rho c\\sqrt{A}\\text{hg}_x $$\n",
    "$$ e_{1y} = -\\frac{1}{4}q\\rho c\\sqrt{A}\\text{hg}_y $$\n",
    "\n",
    "$$ e_{2x} = \\frac{1}{4}q\\rho c\\sqrt{A}\\text{hg}_x $$\n",
    "$$ e_{2y} = \\frac{1}{4}q\\rho c\\sqrt{A}\\text{hg}_y $$\n",
    "\n",
    "$$ e_{3x} = -\\frac{1}{4}q\\rho c\\sqrt{A}\\text{hg}_x $$\n",
    "$$ e_{3y} = -\\frac{1}{4}q\\rho c\\sqrt{A}\\text{hg}_y $$\n",
    "\n",
    "$$ e_{4x} = \\frac{1}{4}q\\rho c\\sqrt{A}\\text{hg}_x $$\n",
    "$$ e_{4y} = \\frac{1}{4}q\\rho c\\sqrt{A}\\text{hg}_y $$"
   ]
  },
  {
   "cell_type": "code",
   "execution_count": 31,
   "metadata": {},
   "outputs": [
    {
     "data": {
      "text/plain": [
       "hourglass_viscosity (generic function with 1 method)"
      ]
     },
     "execution_count": 31,
     "metadata": {},
     "output_type": "execute_result"
    }
   ],
   "source": [
    "function hourglass_viscosity(x,y,u,v,ρ,p,s)\n",
    "    hgx = u[1] - u[2] + u[3] -u[4]\n",
    "    hgy = v[1] - v[2] + v[3] -v[4]\n",
    "    \n",
    "    ex =zeros(Float64,4)\n",
    "    ey =zeros(Float64,4)\n",
    "    A = area_quadrangle(x,y)\n",
    "    c = sound([ρ,0.0,p,min(s[1],s[2])], con1)\n",
    " #   @show c\n",
    "    q = 0.1 # coefficient of hourglass viscosity 0.01 - 0.5 ?\n",
    "    ex[1] = -0.25q*ρ*c*√(A)*hgx\n",
    "    ey[1] = -0.25q*ρ*c*√(A)*hgy\n",
    "    \n",
    "    ex[2] = -ex[1]\n",
    "    ey[2] = -ey[1]\n",
    "    \n",
    "    ex[3] = ex[1]\n",
    "    ey[3] = ey[1]\n",
    "    \n",
    "    ex[4] = ex[2]\n",
    "    ey[4] = ey[2]\n",
    "    \n",
    "  #ex .= 0\n",
    "  #ey .= 0\n",
    " #   @show ex,ey\n",
    "    return ex, ey\n",
    "end"
   ]
  },
  {
   "cell_type": "code",
   "execution_count": 32,
   "metadata": {},
   "outputs": [
    {
     "data": {
      "text/plain": [
       "area_quadrangle (generic function with 1 method)"
      ]
     },
     "execution_count": 32,
     "metadata": {},
     "output_type": "execute_result"
    }
   ],
   "source": [
    "function area_quadrangle(x::Array{Float64,1},y::Array{Float64,1}) \n",
    "   \n",
    "    xc= sum(x[i] for i in 1:4)/4\n",
    "    yc= sum(y[i] for i in 1:4)/4\n",
    "    \n",
    "    A41 = Area3(x[4],x[1],xc,y[4],y[1],yc)\n",
    "    A12 = Area3(x[1],x[2],xc,y[1],y[2],yc)\n",
    "    A23 = Area3(x[2],x[3],xc,y[2],y[3],yc)\n",
    "    A34 = Area3(x[3],x[4],xc,y[3],y[4],yc)\n",
    "    \n",
    "    A = A12 + A23 +A34 +A41\n",
    "    return A\n",
    "end"
   ]
  },
  {
   "cell_type": "code",
   "execution_count": 33,
   "metadata": {},
   "outputs": [
    {
     "data": {
      "text/plain": [
       "Area3 (generic function with 1 method)"
      ]
     },
     "execution_count": 33,
     "metadata": {},
     "output_type": "execute_result"
    }
   ],
   "source": [
    "function Area3(x1,x2,x3,y1,y2,y3)\n",
    "    return abs((x1*y2+y1*x3+x2*y3-x1*y3-y1*x2-y2*x3)/2)\n",
    "end"
   ]
  },
  {
   "cell_type": "markdown",
   "metadata": {},
   "source": [
    "###  $\\frac{\\partial (u,v)}{\\partial (x,y)}$\n",
    "\n",
    "we use the diffences between 1 and 3 points and 2 and 4 points to solve the partial differences approximately, as\n",
    "$$ \\frac{\\partial u}{\\partial x}  \\approx \\frac{1}{2A}((u_1-u_3)(y_2-y_4)+(u_2-u_4)(-y_1+y_3))$$ \n",
    "\n",
    "$$ \\frac{\\partial v}{\\partial y}  \\approx -\\frac{1}{2A}((v_1-v_3)(x_2-x_4)+(v_2-v_4)(-x_1+x_3))$$ \n",
    "Similar process to $\\frac{\\partial u}{\\partial y}$,$\\frac{\\partial v}{\\partial x}$ and $\\frac{\\partial v}{\\partial y}$"
   ]
  },
  {
   "cell_type": "code",
   "execution_count": 34,
   "metadata": {},
   "outputs": [
    {
     "data": {
      "text/plain": [
       "∂uv (generic function with 1 method)"
      ]
     },
     "execution_count": 34,
     "metadata": {},
     "output_type": "execute_result"
    }
   ],
   "source": [
    "function ∂uv(x,y,u)\n",
    "    ∂u_∂x = 0.5(u[1]-u[3])*(y[2]-y[4]) + 0.5(u[2]-u[4])*(y[3]-y[1])\n",
    "    ∂u_∂y = -0.5(u[1]-u[3])*(x[2]-x[4]) - 0.5(u[2]-u[4])*(x[3]-x[1])\n",
    "    return ∂u_∂x,∂u_∂y\n",
    "end"
   ]
  },
  {
   "cell_type": "markdown",
   "metadata": {},
   "source": [
    "## Output function"
   ]
  },
  {
   "cell_type": "code",
   "execution_count": 35,
   "metadata": {},
   "outputs": [
    {
     "data": {
      "text/plain": [
       "cell_coordinate (generic function with 1 method)"
      ]
     },
     "execution_count": 35,
     "metadata": {},
     "output_type": "execute_result"
    }
   ],
   "source": [
    "function cell_coordinate(x,y)\n",
    "    Ip, = size(Tc)\n",
    "    Ic, = size(Tp)\n",
    "    xc = zeros(Float64,Ic)\n",
    "    yc = zeros(Float64,Ic)\n",
    "    \n",
    "    for i in 1:Ic\n",
    "        for j = 1:4\n",
    "            ip = Tp[i,j] \n",
    "            xc[i] += x[ip]/4\n",
    "            yc[i] += y[ip]/4\n",
    "        end\n",
    "        \n",
    "    end\n",
    "    \n",
    "    return xc,yc\n",
    "end"
   ]
  },
  {
   "cell_type": "code",
   "execution_count": 36,
   "metadata": {},
   "outputs": [
    {
     "data": {
      "text/plain": [
       "outputline (generic function with 1 method)"
      ]
     },
     "execution_count": 36,
     "metadata": {},
     "output_type": "execute_result"
    }
   ],
   "source": [
    "function outputline(Ix,Iy,var,mz)\n",
    "    r,z,u,v,ρ,p,s = var.r,var.z,var.u,var.v,var.ρ,var.p,var.s\n",
    "    I, = size(ρ)\n",
    "    \n",
    "    uline =  zeros(Float64,Ix)\n",
    "    rline =  zeros(Float64,Ix)\n",
    "    zline =  zeros(Float64,Ix)\n",
    "    ρline =  zeros(Float64,Ix)        \n",
    "    pline =  zeros(Float64,Ix)  \n",
    "    sline = zeros(Float64,Ix,3)\n",
    "    for i in 1:Ix\n",
    "        j = Int(floor(Iy/2))\n",
    "            ip = i+(j-1 ) *(Ix+1)\n",
    "            ic =i+(j-1)*Ix\n",
    "            uline[i] = u[ip]\n",
    "            rline[i]  = r[ip]\n",
    "            ρline[i]  = ρ[ic]\n",
    "            pline[i] = p[ic]\n",
    "           # σline[i,:] .= σ[ic,:]\n",
    "            sline[i,:] = s[ic,:]\n",
    "    end\n",
    "    return rline,uline,ρline,pline,sline\n",
    "end"
   ]
  },
  {
   "cell_type": "code",
   "execution_count": 37,
   "metadata": {},
   "outputs": [
    {
     "data": {
      "text/plain": [
       "Output_cell (generic function with 1 method)"
      ]
     },
     "execution_count": 37,
     "metadata": {},
     "output_type": "execute_result"
    }
   ],
   "source": [
    "function Output_cell(Ix,Iy,var,mz)\n",
    "    x,y,u,v,ρ,p,s= var.r,var.z,var.u,var.v,var.ρ,var.p,var.s\n",
    "    Ip, = size(Tc)\n",
    "    Ic, = size(Tp)\n",
    "    io = open(\"data.dat\", \"w+\")\n",
    "    A = zeros(Float64,Ip,10)\n",
    "    \n",
    "    text = \" TITLE = \\\"Dataset\\\"\n",
    "VARIABLES = \\\"x\\\" \\\"y\\\" \\\"u\\\" \\\"v\\\" \\\"rho\\\" \\\"p\\\" \\\"srr\\\" \\\"szz\\\" \\\"szr\\\" \\\"s:s\\\"  ZONE T=\\\"Zone 1\\\" \n",
    "I=$Ix,J=$Iy,K=1,ZONETYPE=Ordered \n",
    "DATAPACKING=POINT \\n \"\n",
    "\n",
    "    write(io,text) \n",
    "    for i in 1:Ic\n",
    "        xc = 0\n",
    "        yc =0\n",
    "        uc =0\n",
    "        vc =0\n",
    "        for j = 1:4\n",
    "            ip = Tp[i,j] \n",
    "                xc += x[ip]/4\n",
    "                yc += y[ip]/4\n",
    "                uc += u[ip]/4\n",
    "                vc += v[ip]/4\n",
    "        end\n",
    "        \n",
    "        A[i,1] = xc\n",
    "        A[i,2] = yc\n",
    "        A[i,3] = uc\n",
    "        A[i,4] = vc\n",
    "        A[i,5] = ρ[i]        \n",
    "        A[i,6] = p[i]      \n",
    "        A[i,7:9] .= s[i,1:3] \n",
    "        A[i,10] = (s[i,1]^2+s[i,2]^2 +2s[i,3]^2+(s[i,1]+s[i,2])^2)\n",
    "    end\n",
    "      writedlm(io, A, \"  \")\n",
    "    close(io)\n",
    "end"
   ]
  },
  {
   "cell_type": "code",
   "execution_count": 51,
   "metadata": {},
   "outputs": [
    {
     "data": {
      "text/plain": [
       "Output_point (generic function with 1 method)"
      ]
     },
     "execution_count": 51,
     "metadata": {},
     "output_type": "execute_result"
    }
   ],
   "source": [
    "function Output_point(Ix,Iy,var,mz)\n",
    "    x,y,u,v,ρ,p,s = var.r,var.z,var.u,var.v,var.ρ,var.p,var.s\n",
    "    Ip, = size(Tc)\n",
    "    Ic, = size(Tp)\n",
    "    \n",
    "    io = open(\"data.dat\", \"w+\")\n",
    "    #s = zeros(Float64,Ip,3)\n",
    "    A = zeros(Float64,Ip,9)\n",
    "   # for i in 1:Ip\n",
    "    \n",
    "    text = \" TITLE = \\\"Dataset\\\"\n",
    "VARIABLES = \\\"x\\\" \\\"y\\\" \\\"u\\\" \\\"v\\\" \\\"rho\\\" \\\"p\\\" \\\"srr\\\" \\\"szz\\\" \\\"szr\\\"   ZONE T=\\\"Zone 1\\\" \n",
    "I=$(Ix+1),J=$(Iy+1),K=1,ZONETYPE=Ordered \n",
    "DATAPACKING=POINT \\n \"\n",
    "  #  write(1,*)\n",
    "    write(io,text)\n",
    "    \n",
    "       ρp = zeros(Float64,Ip)\n",
    "       pp = zeros(Float64,Ip)\n",
    "       np = zeros(Int,Ip)\n",
    "       sp = zeros(Float64,Ip,3)\n",
    "    \n",
    "    for i in 1:Ic\n",
    "        \n",
    "        xc = 0\n",
    "        yc =0\n",
    "        uc =0\n",
    "        vc =0\n",
    "        for j = 1:4\n",
    "            ip = Tp[i,j] \n",
    "            ρp[ip] += ρ[i]\n",
    "            pp[ip] += p[i]\n",
    "            sp[ip,:] += s[i,:]\n",
    "            np[ip] += 1   \n",
    "        end\n",
    "    end\n",
    "        ρp = ρp ./ np\n",
    "        pp = pp ./ np\n",
    "        sp = sp ./ np\n",
    "    \n",
    "        A[:,1] = x\n",
    "        A[:,2] = y\n",
    "        A[:,3] = u\n",
    "        A[:,4] = v\n",
    "        A[:,5] = ρp\n",
    "        A[:,6] = pp\n",
    "        A[:,7:9] .= sp[:,1:3]\n",
    "    \n",
    "      writedlm(io, A, \"  \")\n",
    "    close(io)\n",
    "end"
   ]
  },
  {
   "cell_type": "markdown",
   "metadata": {},
   "source": [
    "## Cases"
   ]
  },
  {
   "cell_type": "code",
   "execution_count": 39,
   "metadata": {},
   "outputs": [
    {
     "data": {
      "text/plain": [
       "Piston (generic function with 1 method)"
      ]
     },
     "execution_count": 39,
     "metadata": {},
     "output_type": "execute_result"
    }
   ],
   "source": [
    " function Piston()\n",
    "\n",
    "    global problem = prb(1.5e2,0.1)\n",
    "    # global problem = prb(3e-5,0.3)\n",
    "     \n",
    "    I = 200\n",
    "    J = 5\n",
    "    dx = 100/I\n",
    "    dy = 10/J\n",
    "    @show typeof(dx)\n",
    "    I1= I+1\n",
    "    J1= J+2\n",
    "    global   con1 = Const(9e-5,8.930,2.0,4.5e-1,0.3940,1.49)\n",
    "  #  global   con1 = Const(0.0,8930,2.0,4.5e10,3940.0,1.49)\n",
    "    Ip = (I1+1)*(J1+1) # Number of  points\n",
    "    Ic = I1*J1  # number of cells\n",
    "    \n",
    "    global Tp = zeros(Int,Ic,4) #格点\n",
    "    global Tc = zeros(Int,Ip,4) #点格\n",
    "    \n",
    "    #@show Tc, Ip\n",
    "    global Tb = zeros(Int, 2I1 + 2J1-2,4) #边界 \n",
    "    \n",
    "    ## Tb[i,1] ghost cell number\n",
    "    ## Tb[i,2] bound cell number\n",
    "    ## Tb[i,3] ghost cell point share with the bound \n",
    "    ## Tb[i,4] type of the boundary\n",
    "    \n",
    "    \n",
    "    \n",
    "   # 点格表，格点表初始化 \n",
    "    for i in 1:I1 \n",
    "        for j in 1:J1\n",
    "            ic = i+(j-1)*I1\n",
    "            Tp[ic,1] = i + (j-1)*(I1+1)\n",
    "            Tp[ic,2] = i+1 +(j-1)*(I1+1)\n",
    "            Tp[ic,3]=i+1+j*(I1+1)\n",
    "            Tp[ic,4]=i+j*(I1+1) \n",
    "        end\n",
    "    end\n",
    "    \n",
    "    for i = 1:I1+1\n",
    "        for j = 1:J1+1\n",
    "            ip =i+(j-1)*(I1+1)\n",
    "            Tc[ip,1] = i +(j-1)*I1 #(i,j)\n",
    "            Tc[ip,2] = i-1+(j-1)*I1 #(i-1,j)\n",
    "            Tc[ip,3] = i-1+(j-2)*I1 #(i-1,j-1)\n",
    "            Tc[ip,4] = i+(j-2)*I1   #(i,j-1)\n",
    "        end\n",
    "    end\n",
    "    \n",
    "\n",
    "# Bound \n",
    "  ib = 0\n",
    "        for j = 1:J1\n",
    "            i=1\n",
    "            ib += 1\n",
    "            ic =i+(j-1)*I1 \n",
    "            Tb[ib,1] = ic\n",
    "            Tb[ib,2] = (i+1)+(j-1)*I1\n",
    "            Tb[ib,3] = 4\n",
    "            Tb[ib,4] = 3\n",
    "        end\n",
    "    \n",
    "      for i = 1:I1-1\n",
    "            for j in (1,J1)\n",
    "                ib += 1\n",
    "                ic =i+(j-1)*I1\n",
    "                \n",
    "                Tb[ib,1] = ic\n",
    "               \n",
    "                if j==1 \n",
    "                    Tb[ib,2] = i+(j+1-1)*I1\n",
    "                    Tb[ib,3] = 3\n",
    "                    Tb[ib,4] = 2\n",
    "                end\n",
    "                if j==J1\n",
    "                    Tb[ib,2] = i+(j-1-1)*I1\n",
    "                    Tb[ib,3] = 1\n",
    "                    Tb[ib,4] = 2\n",
    "                end\n",
    "            end\n",
    "        end\n",
    "         for j = 1:J1\n",
    "             i = I1\n",
    "            ib += 1\n",
    "            ic =i+(j-1)*I1\n",
    "            Tb[ib,1] = ic\n",
    "             Tb[ib,2] = (i-1)+(j-1)*I1 #bound type 1:free 2: wall ..  Tb[:,2] y direction\n",
    "             Tb[ib,3] = 4\n",
    "             Tb[ib,4] = 2\n",
    "         end\n",
    "    #流场初始化 Init of the flow\n",
    "    \n",
    "    x = zeros(Float64,Ip)\n",
    "    y = zeros(Float64,Ip)\n",
    "    u = zeros(Float64,Ip)\n",
    "    v = zeros(Float64,Ip)\n",
    "    \n",
    "    ρ = zeros(Float64,Ic)\n",
    "    mz = zeros(Float64,Ic)\n",
    "    p = zeros(Float64,Ic)\n",
    "    Az= zeros(Float64,Ic)\n",
    "    s = zeros(Float64,Ic,3)\n",
    "    \n",
    "    for i in 1:I1+1\n",
    "        for j = 1:J1+1\n",
    "            ip =i+(j-1)*(I1+1)\n",
    "            x[ip] = (i-1)*dx\n",
    "            y[ip] = (j-2)*dy\n",
    "            u[ip] = 0\n",
    "            v[ip] = 0.0\n",
    "        end\n",
    "    end\n",
    "    \n",
    "      \n",
    "    \n",
    "    var = Var(x,y,u,v,ρ,p,s)\n",
    "    x,y = bound_ghost_coordinate!(x,y)\n",
    "    x,y = bound_ghost_coordinate!(x,y)\n",
    "    xz = zeros(Float64,4)\n",
    "    yz = zeros(Float64,4) \n",
    "    for i in 1:I1\n",
    "        for j in 1:J1\n",
    "            ic = i+(j-1)*(I1)\n",
    "            xz[1:4] = x[Tp[ic,1:4]]\n",
    "            yz[1:4] = y[Tp[ic,1:4]]\n",
    "            A = A_z(xz,yz)\n",
    "            Az[ic] = sum(A)\n",
    "                p[ic] = 1.e-7\n",
    "                ρ[ic] = 8.930\n",
    "                mz[ic] = ρ[ic] * Az[ic]\n",
    "                s[ic,:] .= 0       \n",
    "        end\n",
    "    end \n",
    "    return var,mz,I1,J1\n",
    "end"
   ]
  },
  {
   "cell_type": "code",
   "execution_count": null,
   "metadata": {},
   "outputs": [],
   "source": [
    "var,mz,I,J=Piston()\n",
    "#Output1\n",
    "var= TimeSolve(var,mz)"
   ]
  },
  {
   "cell_type": "code",
   "execution_count": null,
   "metadata": {},
   "outputs": [],
   "source": [
    "push!(LOAD_PATH,\"/home/bfly/workspace/Juliastudy/Src\")"
   ]
  },
  {
   "cell_type": "code",
   "execution_count": null,
   "metadata": {},
   "outputs": [],
   "source": [
    "uo,u,x,inter = Lag1DNum.Piston()\n",
    "uo,x  = Lag1DNum.TimeSolve(uo, x,inter)"
   ]
  },
  {
   "cell_type": "code",
   "execution_count": null,
   "metadata": {},
   "outputs": [],
   "source": [
    "rcell, zcell = cell_coordinate(var.r,var.z)"
   ]
  },
  {
   "cell_type": "code",
   "execution_count": 52,
   "metadata": {},
   "outputs": [],
   "source": [
    "using DelimitedFiles\n",
    "Output_point(I,J,var,mz)"
   ]
  },
  {
   "cell_type": "code",
   "execution_count": null,
   "metadata": {},
   "outputs": [],
   "source": [
    " function Pistonz()\n",
    "\n",
    "    global problem = prb(1.5e-4,0.3)\n",
    "    # global problem = prb(3e-5,0.3)\n",
    "     \n",
    "    I = 10\n",
    "    J = 100\n",
    "    dx = 0.1/I\n",
    "    dy = 1/J\n",
    "    \n",
    "    global   con1 = Const(9e7,8930,2.0,4.5e10,3940.0,1.49)\n",
    "    \n",
    "    Ip = (I+1)*(J+1) # Number of  points\n",
    "    Ic = I*J  # number of cells\n",
    "    \n",
    "    global Tp = zeros(Int,Ic,4) #格点\n",
    "    global Tc = zeros(Int,Ip,4) #点格\n",
    "    \n",
    "    #@show Tc, Ip\n",
    "    global Tb = zeros(Int, I*2+J*2,3) #边界 \n",
    "    \n",
    "    IBL = J+1\n",
    "    IBR = J+1\n",
    "    IBU = I+1\n",
    "    IBD = I+1\n",
    "   # 点格表，格点表初始化 \n",
    "    for i in 1:I \n",
    "        for j in 1:J\n",
    "            ic = i+(j-1)*I\n",
    "            Tp[ic,1] = i + (j-1)*(I+1)\n",
    "            Tp[ic,2] = i+1 +(j-1)*(I+1)\n",
    "            Tp[ic,3]=i+1+j*(I+1)\n",
    "            Tp[ic,4]=i+j*(I+1) \n",
    "        end\n",
    "    end\n",
    "    \n",
    "    for i = 1:I+1\n",
    "        for j = 1:J+1\n",
    "            ip = i+(j-1)*(I+1)\n",
    "            Tc[ip,1] = i +(j-1)*I #(i,j)\n",
    "            Tc[ip,2] = i-1+(j-1)*I #(i-1,j)\n",
    "            Tc[ip,3] = i-1+(j-2)*I #(i-1,j-1)\n",
    "            Tc[ip,4] = i+(j-2)*I   #(i,j-1)\n",
    "            end\n",
    "        end\n",
    "    \n",
    "\n",
    "# Bound \n",
    "  ib = 0\n",
    "    for i = 1:I+1\n",
    "        for j = 1:J+1\n",
    "            if i == 1 || i== I+1 ||  j == 1 || j == J+1\n",
    "                ib += 1\n",
    "                ic =i+(j-1)*I\n",
    "                #ic = Tc[ip]\n",
    "                Tb[ib,1] = ic\n",
    "                if i==1 \n",
    "                    Tb[ib,2] = 4 # 1->4 \n",
    "                    Tb[ib,3] = 2 # type 1:free 2:\n",
    "                end   \n",
    "                 if  i==I+1 \n",
    "                    Tb[ib,2] = 2 #bound type 1:free 2: wall ..  Tb[:,2] y direction\n",
    "                    Tb[ib,3] = 2\n",
    "                end\n",
    "            \n",
    "                if j==1 \n",
    "                    Tb[ib,2] = 1\n",
    "                    Tb[ib,3] = 1\n",
    "                end\n",
    "                if j==J+1\n",
    "                    Tb[ib,2] = 3 \n",
    "                    Tb[ib,3] = 1\n",
    "                end\n",
    "            end\n",
    "        end\n",
    "    end\n",
    "\n",
    "    #流场初始化 Init of the flow\n",
    "    \n",
    "    x = zeros(Float64,Ip)\n",
    "    y = zeros(Float64,Ip)\n",
    "    u = zeros(Float64,Ip)\n",
    "    v = zeros(Float64,Ip)\n",
    "    \n",
    "    ρ = zeros(Float64,Ic)\n",
    "    mz = zeros(Float64,Ic)\n",
    "    p = zeros(Float64,Ic)\n",
    "    Az= zeros(Float64,Ic)\n",
    "    σ = zeros(Float64,Ic,3)\n",
    "    \n",
    "    for i in 1:I+1\n",
    "        for j = 1:J+1\n",
    "            ip =i+(j-1)*(I+1)\n",
    "            x[ip] = (i-1)*dx\n",
    "            y[ip] = (j-1)*dy\n",
    "            u[ip] = 0\n",
    "            v[ip] = 0.0\n",
    "        end\n",
    "    end\n",
    "    \n",
    "    xz = zeros(Float64,4)\n",
    "    yz = zeros(Float64,4) \n",
    "    for i in 1:I\n",
    "        for j in 1:J\n",
    "            ic = i+(j-1)*I\n",
    "            xz[1:4] = x[Tp[ic,1:4]]\n",
    "            yz[1:4] = y[Tp[ic,1:4]]\n",
    "            A = A_z(xz,yz)\n",
    "            Az[ic] = sum(A) #[1]+A[2]+A[3]+A[4]\n",
    "          #  if i>=I/2\n",
    "               \n",
    "                p[ic] = 1.e5\n",
    "                ρ[ic] = 8930\n",
    "                mz[ic] = ρ[ic] * Az[ic]\n",
    "                σ[ic,1] = -p[ic]\n",
    "                σ[ic,2] = -p[ic]\n",
    "                σ[ic,3]= 0 \n",
    "#             else\n",
    "#                 mz[ic] = 1.0 * Az[ic]\n",
    "#                 p[ic] = 1.0\n",
    "#                 ρ[ic] = 1.0\n",
    "#             end\n",
    "        end\n",
    "    end\n",
    "    var = Var(x,y,u,v,ρ,p,σ)\n",
    "    return var,mz,I,J\n",
    "end"
   ]
  },
  {
   "cell_type": "code",
   "execution_count": null,
   "metadata": {},
   "outputs": [],
   "source": [
    "var,mz,I,J=Pistonz()\n",
    "#Output1\n",
    "var = TimeSolve(var,mz)"
   ]
  },
  {
   "cell_type": "code",
   "execution_count": null,
   "metadata": {},
   "outputs": [],
   "source": [
    "rcell, zcell = cell_coordinate(var.r,var.z)"
   ]
  },
  {
   "cell_type": "code",
   "execution_count": null,
   "metadata": {},
   "outputs": [],
   "source": [
    "plot3D(var.r,var.z,var.v)\n",
    "#triplot()"
   ]
  },
  {
   "cell_type": "code",
   "execution_count": null,
   "metadata": {},
   "outputs": [],
   "source": [
    "tricontourf(var.r,var.z,var.v)"
   ]
  },
  {
   "cell_type": "code",
   "execution_count": null,
   "metadata": {},
   "outputs": [],
   "source": [
    "? Const"
   ]
  },
  {
   "cell_type": "markdown",
   "metadata": {},
   "source": [
    "## 单位变换"
   ]
  },
  {
   "cell_type": "markdown",
   "metadata": {},
   "source": [
    "$$ 1kg/m^3 = 10^{-3} g/cm^3$$\n",
    "$$1m/s = 10^{-4} cm/\\mu s$$\n",
    "$$ 1Pa = 1N/m^2 = 1kg/(m\\cdot s^2) = (1000g)/(100cm \\cdot 10^{12} \\mu s^2) = 10^{-11} g/(cm \\cdot s^2)$$ "
   ]
  },
  {
   "cell_type": "code",
   "execution_count": 108,
   "metadata": {},
   "outputs": [
    {
     "data": {
      "text/plain": [
       "Collapse (generic function with 1 method)"
      ]
     },
     "execution_count": 108,
     "metadata": {},
     "output_type": "execute_result"
    }
   ],
   "source": [
    " function Collapse()\n",
    "\n",
    "    global problem = prb(1.3e2,0.1)\n",
    "  #  global problem = prb(50,0.3)\n",
    "    # global problem = prb(5e-5,0.3)\n",
    "    \n",
    "    I = 20\n",
    "    J = 16\n",
    "    dr = 2.0/J\n",
    "    dθ = 90/I\n",
    "    \n",
    "    I1 = I +2\n",
    "    J1 = J\n",
    "    \n",
    "    global   con1 = Const(3.3e-3,1.845,2.0,1.519,1.287,1.124)\n",
    "    \n",
    "    Ip = (I1+1)*(J1+1) # Number of  points\n",
    "    Ic = I1*J1  # number of cells\n",
    "    \n",
    "     Ip = (I1+1)*(J1+1) # Number of  points\n",
    "    Ic = I1*J1  # number of cells\n",
    "    \n",
    "    global Tp = zeros(Int,Ic,4) #格点\n",
    "    global Tc = zeros(Int,Ip,4) #点格\n",
    "    \n",
    "    #@show Tc, Ip\n",
    "    global Tb = zeros(Int, 2I1 + 2J1,4) #边界 \n",
    "    \n",
    "    ## Tb[i,1] ghost cell number\n",
    "    ## Tb[i,2] bound cell number\n",
    "    ## Tb[i,3] ghost cell point share with the bound \n",
    "    ## Tb[i,4] type of the boundary\n",
    "    \n",
    "    \n",
    "    \n",
    "   # 点格表，格点表初始化 \n",
    "    for i in 1:I1 \n",
    "        for j in 1:J1\n",
    "            ic = i+(j-1)*I1\n",
    "            Tp[ic,1] = i + (j-1)*(I1+1)\n",
    "            Tp[ic,2] = i+1 +(j-1)*(I1+1)\n",
    "            Tp[ic,3]=i+1+j*(I1+1)\n",
    "            Tp[ic,4]=i+j*(I1+1) \n",
    "        end\n",
    "    end\n",
    "    \n",
    "    for i = 1:I1+1\n",
    "        for j = 1:J1+1\n",
    "            ip =i+(j-1)*(I1+1)\n",
    "            Tc[ip,1] = i +(j-1)*I1 #(i,j)\n",
    "            Tc[ip,2] = i-1+(j-1)*I1 #(i-1,j)\n",
    "            Tc[ip,3] = i-1+(j-2)*I1 #(i-1,j-1)\n",
    "            Tc[ip,4] = i+(j-2)*I1   #(i,j-1)\n",
    "        end\n",
    "    end\n",
    "    \n",
    "\n",
    "# Bound \n",
    "  ib = 0\n",
    "        for j = 1:J1\n",
    "            i=1\n",
    "            ib += 1\n",
    "            ic =i+(j-1)*I1 \n",
    "            Tb[ib,1] = ic\n",
    "            Tb[ib,2] = (i+1)+(j-1)*I1\n",
    "            Tb[ib,3] = 2\n",
    "            Tb[ib,4] = 2\n",
    "        end\n",
    "         for j = 1:J1\n",
    "             i = I1\n",
    "            ib += 1\n",
    "            ic =i+(j-1)*I1\n",
    "            Tb[ib,1] = ic\n",
    "             Tb[ib,2] = (i-1)+(j-1)*I1 #bound type 1:free 2: wall ..  Tb[:,2] y direction\n",
    "             Tb[ib,3] = 4\n",
    "             Tb[ib,4] = 2\n",
    "         end\n",
    "      for i = 1:I1\n",
    "            for j in (1,J1)\n",
    "                ib += 1\n",
    "                ic =i+(j-1)*I1\n",
    "                \n",
    "                Tb[ib,1] = ic\n",
    "               \n",
    "                if j==1 \n",
    "                    Tb[ib,2] = i+(j+1-1)*I1\n",
    "                    Tb[ib,3] = 1\n",
    "                    Tb[ib,4] = 1\n",
    "                end\n",
    "                if j==J1\n",
    "                    Tb[ib,2] = i+(j-1-1)*I1\n",
    "                    Tb[ib,3] = 3\n",
    "                    Tb[ib,4] = 1\n",
    "                end\n",
    "            end\n",
    "        end\n",
    "        \n",
    "    #流场初始化 Init of the flow\n",
    "    \n",
    "    x = zeros(Float64,Ip)\n",
    "    y = zeros(Float64,Ip)\n",
    "    u = zeros(Float64,Ip)\n",
    "    v = zeros(Float64,Ip)\n",
    "    \n",
    "    ρ = zeros(Float64,Ic)\n",
    "    mz = zeros(Float64,Ic)\n",
    "    p = zeros(Float64,Ic)\n",
    "    Az= zeros(Float64,Ic)\n",
    "    s = zeros(Float64,Ic,3)\n",
    "    \n",
    "    for i in 1:I1+1\n",
    "        for j = 1:J1+1\n",
    "            ip =i+(j-1)*(I1+1)\n",
    "            r₁ = (j-1)*dr+8\n",
    "            θ = 90-(i-2)*dθ\n",
    "            v₀ = 4.171e-2\n",
    "            x[ip] = cosd(θ)*r₁\n",
    "            y[ip] = sind(θ)*r₁\n",
    "            u[ip] = -v₀*8/r₁ *cosd(θ)\n",
    "            v[ip] = -v₀*8/r₁ *sind(θ)\n",
    "        end\n",
    "    end\n",
    "      \n",
    "    \n",
    "    var = Var(x,y,u,v,ρ,p,s)\n",
    "    x,y,u,v = bound_ghost_coordinate!(x,y,u,v)\n",
    "    xz = zeros(Float64,4)\n",
    "    yz = zeros(Float64,4) \n",
    "    for i in 1:I1\n",
    "        for j in 1:J1\n",
    "            ic = i+(j-1)*(I1)\n",
    "            xz[1:4] = x[Tp[ic,1:4]]\n",
    "            yz[1:4] = y[Tp[ic,1:4]]\n",
    "            A = A_z(xz,yz)\n",
    "            Az[ic] = sum(A)\n",
    "                p[ic] = 1.e-5\n",
    "                ρ[ic] = 1.845\n",
    "                mz[ic] = ρ[ic] * Az[ic]\n",
    "                s[ic,:] .= 0       \n",
    "        end\n",
    "    end \n",
    "    return var,mz,I1,J1\n",
    "end"
   ]
  },
  {
   "cell_type": "code",
   "execution_count": 109,
   "metadata": {},
   "outputs": [
    {
     "name": "stdout",
     "output_type": "stream",
     "text": [
      "1.3039221439716024\n",
      "(kinetic / kinetic_init, (energy + kinetic) / (kinetic_init + energy_init)) = (0.9849354785644913, 0.9999978109878737)\n",
      "2.6007636210726086\n",
      "(kinetic / kinetic_init, (energy + kinetic) / (kinetic_init + energy_init)) = (0.9690472983094149, 0.9999942588223742)\n",
      "3.905579672660331\n",
      "(kinetic / kinetic_init, (energy + kinetic) / (kinetic_init + energy_init)) = (0.9529723491849652, 0.9999911870264317)\n",
      "5.201318924684604\n",
      "(kinetic / kinetic_init, (energy + kinetic) / (kinetic_init + energy_init)) = (0.9370208365989564, 0.999988333576505)\n",
      "6.5032973483457095\n",
      "(kinetic / kinetic_init, (energy + kinetic) / (kinetic_init + energy_init)) = (0.921072696433555, 0.999984755310165)\n",
      "7.803109765843356\n",
      "(kinetic / kinetic_init, (energy + kinetic) / (kinetic_init + energy_init)) = (0.9052310752699532, 0.9999820432773296)\n",
      "9.101489076952236\n",
      "(kinetic / kinetic_init, (energy + kinetic) / (kinetic_init + energy_init)) = (0.8894966936493964, 0.9999785897242837)\n",
      "10.405463021359367\n",
      "(kinetic / kinetic_init, (energy + kinetic) / (kinetic_init + energy_init)) = (0.8737169569269675, 0.999975529115047)\n",
      "11.707539562923554\n",
      "(kinetic / kinetic_init, (energy + kinetic) / (kinetic_init + energy_init)) = (0.8580101469130724, 0.9999724198964264)\n",
      "13.00009171979695\n",
      "(kinetic / kinetic_init, (energy + kinetic) / (kinetic_init + energy_init)) = (0.8424752354087987, 0.999969063568392)\n",
      "14.305804100756513\n",
      "(kinetic / kinetic_init, (energy + kinetic) / (kinetic_init + energy_init)) = (0.8268490534001715, 0.9999660628298639)\n",
      "15.601841536080634\n",
      "(kinetic / kinetic_init, (energy + kinetic) / (kinetic_init + energy_init)) = (0.8114156790392215, 0.9999627227694503)\n",
      "16.90338646641719\n",
      "(kinetic / kinetic_init, (energy + kinetic) / (kinetic_init + energy_init)) = (0.7959703949774934, 0.9999595522547641)\n",
      "18.20266901863505\n",
      "(kinetic / kinetic_init, (energy + kinetic) / (kinetic_init + energy_init)) = (0.7806192578501667, 0.9999563883571688)\n",
      "19.50758631400281\n",
      "(kinetic / kinetic_init, (energy + kinetic) / (kinetic_init + energy_init)) = (0.7652731355851807, 0.9999530454806259)\n",
      "20.80213329553319\n",
      "(kinetic / kinetic_init, (energy + kinetic) / (kinetic_init + energy_init)) = (0.7501206818328255, 0.9999499320655217)\n",
      "22.102184359348335\n",
      "(kinetic / kinetic_init, (energy + kinetic) / (kinetic_init + energy_init)) = (0.7349828654514254, 0.999946647692761)\n",
      "23.40766200563625\n",
      "(kinetic / kinetic_init, (energy + kinetic) / (kinetic_init + energy_init)) = (0.7198542820816842, 0.999943391670368)\n",
      "24.70253002713327\n",
      "(kinetic / kinetic_init, (energy + kinetic) / (kinetic_init + energy_init)) = (0.7049279087053971, 0.9999402213224641)\n",
      "26.002776525542156\n",
      "(kinetic / kinetic_init, (energy + kinetic) / (kinetic_init + energy_init)) = (0.690023558091604, 0.9999369245151934)\n",
      "27.30022370301615\n",
      "(kinetic / kinetic_init, (energy + kinetic) / (kinetic_init + energy_init)) = (0.6752332575244766, 0.9999337366237105)\n",
      "28.6029452648876\n",
      "(kinetic / kinetic_init, (energy + kinetic) / (kinetic_init + energy_init)) = (0.660470977932392, 0.9999305014988841)\n",
      "29.90280732301548\n",
      "(kinetic / kinetic_init, (energy + kinetic) / (kinetic_init + energy_init)) = (0.6458293741517225, 0.9999272463338107)\n",
      "31.207828675870065\n",
      "(kinetic / kinetic_init, (energy + kinetic) / (kinetic_init + energy_init)) = (0.6312214686384038, 0.9999240543830119)\n",
      "32.50166249541485\n",
      "(kinetic / kinetic_init, (energy + kinetic) / (kinetic_init + energy_init)) = (0.6168340915914124, 0.9999208373718153)\n",
      "33.800550875386364\n",
      "(kinetic / kinetic_init, (energy + kinetic) / (kinetic_init + energy_init)) = (0.6024854797908302, 0.9999176363157422)\n",
      "35.10448078418095\n",
      "(kinetic / kinetic_init, (energy + kinetic) / (kinetic_init + energy_init)) = (0.588181132485716, 0.9999144594095009)\n",
      "36.40518410826887\n",
      "(kinetic / kinetic_init, (energy + kinetic) / (kinetic_init + energy_init)) = (0.5740152361386297, 0.9999112569102603)\n",
      "37.70251793109486\n",
      "(kinetic / kinetic_init, (energy + kinetic) / (kinetic_init + energy_init)) = (0.5599894832530498, 0.9999081123335256)\n",
      "39.00475867411673\n",
      "(kinetic / kinetic_init, (energy + kinetic) / (kinetic_init + energy_init)) = (0.5460186685218283, 0.9999049683100378)\n",
      "40.303515012725256\n",
      "(kinetic / kinetic_init, (energy + kinetic) / (kinetic_init + energy_init)) = (0.5321952878586899, 0.9999018255034241)\n",
      "41.60707725599899\n",
      "(kinetic / kinetic_init, (energy + kinetic) / (kinetic_init + energy_init)) = (0.518433471451054, 0.9998987233628758)\n",
      "42.90699878958549\n",
      "(kinetic / kinetic_init, (energy + kinetic) / (kinetic_init + energy_init)) = (0.5048263255569164, 0.9998956350319885)\n",
      "44.20317125785803\n",
      "(kinetic / kinetic_init, (energy + kinetic) / (kinetic_init + energy_init)) = (0.49137590773471557, 0.9998925698260741)\n",
      "45.50398626074184\n",
      "(kinetic / kinetic_init, (energy + kinetic) / (kinetic_init + energy_init)) = (0.47799813024343585, 0.9998895426814886)\n",
      "46.800900386107685\n",
      "(kinetic / kinetic_init, (energy + kinetic) / (kinetic_init + energy_init)) = (0.4647844376337362, 0.9998865323206647)\n",
      "48.10237345210976\n",
      "(kinetic / kinetic_init, (energy + kinetic) / (kinetic_init + energy_init)) = (0.4516506954574639, 0.9998835405851247)\n",
      "49.40837564709801\n",
      "(kinetic / kinetic_init, (energy + kinetic) / (kinetic_init + energy_init)) = (0.43860171343653737, 0.9998805852272454)\n",
      "50.70162956672445\n",
      "(kinetic / kinetic_init, (energy + kinetic) / (kinetic_init + energy_init)) = (0.4258121494143489, 0.9998776731675011)\n",
      "52.0079217182722\n",
      "(kinetic / kinetic_init, (energy + kinetic) / (kinetic_init + energy_init)) = (0.41302919897650037, 0.9998747714464916)\n",
      "53.3012276495012\n",
      "(kinetic / kinetic_init, (energy + kinetic) / (kinetic_init + energy_init)) = (0.4005107650601882, 0.9998719444443682)\n",
      "54.6075312610577\n",
      "(kinetic / kinetic_init, (energy + kinetic) / (kinetic_init + energy_init)) = (0.3880084855949017, 0.9998691117804589)\n",
      "55.90062542063733\n",
      "(kinetic / kinetic_init, (energy + kinetic) / (kinetic_init + energy_init)) = (0.37577547674873274, 0.9998663540564076)\n",
      "57.206649371789645\n",
      "(kinetic / kinetic_init, (energy + kinetic) / (kinetic_init + energy_init)) = (0.36356768433292513, 0.9998636168220856)\n",
      "58.50805307159708\n",
      "(kinetic / kinetic_init, (energy + kinetic) / (kinetic_init + energy_init)) = (0.351553610308469, 0.9998609200894201)\n",
      "59.804711413887865\n",
      "(kinetic / kinetic_init, (energy + kinetic) / (kinetic_init + energy_init)) = (0.3397352820847136, 0.9998582849263364)\n",
      "61.10537185905052\n",
      "(kinetic / kinetic_init, (energy + kinetic) / (kinetic_init + energy_init)) = (0.32803606377006406, 0.9998556926344119)\n",
      "62.40112020692134\n",
      "(kinetic / kinetic_init, (energy + kinetic) / (kinetic_init + energy_init)) = (0.31653894310309744, 0.9998531480308295)\n",
      "63.70074703858601\n",
      "(kinetic / kinetic_init, (energy + kinetic) / (kinetic_init + energy_init)) = (0.30516832309652914, 0.9998506517020829)\n",
      "65.0042162518356\n",
      "(kinetic / kinetic_init, (energy + kinetic) / (kinetic_init + energy_init)) = (0.293929135844394, 0.9998482032787288)\n",
      "66.30252963919118\n",
      "(kinetic / kinetic_init, (energy + kinetic) / (kinetic_init + energy_init)) = (0.2829016796433601, 0.999845809231384)\n",
      "67.60455538193149\n",
      "(kinetic / kinetic_init, (energy + kinetic) / (kinetic_init + energy_init)) = (0.2720130135406505, 0.9998434678150071)\n",
      "68.90123555552928\n",
      "(kinetic / kinetic_init, (energy + kinetic) / (kinetic_init + energy_init)) = (0.2613416526178212, 0.9998411950848208)\n",
      "70.2015013913408\n",
      "(kinetic / kinetic_init, (energy + kinetic) / (kinetic_init + energy_init)) = (0.2508166750984381, 0.9998389665402334)\n",
      "71.50530369425468\n",
      "(kinetic / kinetic_init, (energy + kinetic) / (kinetic_init + energy_init)) = (0.24044261162656452, 0.9998367942591384)\n",
      "72.80350676517564\n",
      "(kinetic / kinetic_init, (energy + kinetic) / (kinetic_init + energy_init)) = (0.23029473773759107, 0.9998346944093451)\n",
      "74.10511252919721\n",
      "(kinetic / kinetic_init, (energy + kinetic) / (kinetic_init + energy_init)) = (0.22030512943277467, 0.999832644641489)\n",
      "75.40093229468243\n",
      "(kinetic / kinetic_init, (energy + kinetic) / (kinetic_init + energy_init)) = (0.21054644964423636, 0.9998306677925093)\n",
      "76.7000075420516\n",
      "(kinetic / kinetic_init, (energy + kinetic) / (kinetic_init + energy_init)) = (0.20095296137536425, 0.9998287521538223)\n",
      "78.00229388642961\n",
      "(kinetic / kinetic_init, (energy + kinetic) / (kinetic_init + energy_init)) = (0.19152925717194272, 0.9998268915865501)\n"
     ]
    },
    {
     "name": "stdout",
     "output_type": "stream",
     "text": [
      "79.30773755038521\n",
      "(kinetic / kinetic_init, (energy + kinetic) / (kinetic_init + energy_init)) = (0.18227979989720172, 0.9998250923745775)\n",
      "80.60705846510358\n",
      "(kinetic / kinetic_init, (energy + kinetic) / (kinetic_init + energy_init)) = (0.1732724735999379, 0.9998233702106889)\n",
      "81.90014351605589\n",
      "(kinetic / kinetic_init, (energy + kinetic) / (kinetic_init + energy_init)) = (0.16450797044788082, 0.9998217186511906)\n",
      "83.2054098782492\n",
      "(kinetic / kinetic_init, (energy + kinetic) / (kinetic_init + energy_init)) = (0.15586541851368474, 0.9998201177663498)\n",
      "84.50428597969668\n",
      "(kinetic / kinetic_init, (energy + kinetic) / (kinetic_init + energy_init)) = (0.14747180961610015, 0.9998185942631286)\n",
      "85.80596614058676\n",
      "(kinetic / kinetic_init, (energy + kinetic) / (kinetic_init + energy_init)) = (0.13926953460166186, 0.9998171325293809)\n",
      "87.10106578192509\n",
      "(kinetic / kinetic_init, (energy + kinetic) / (kinetic_init + energy_init)) = (0.1313192953528227, 0.9998157437164643)\n",
      "88.40815856336569\n",
      "(kinetic / kinetic_init, (energy + kinetic) / (kinetic_init + energy_init)) = (0.12351093249632071, 0.9998144116045208)\n",
      "89.70851498218036\n",
      "(kinetic / kinetic_init, (energy + kinetic) / (kinetic_init + energy_init)) = (0.11596016307473592, 0.999813152330947)\n",
      "91.00202032743066\n",
      "(kinetic / kinetic_init, (energy + kinetic) / (kinetic_init + energy_init)) = (0.10866662444071222, 0.999811964130694)\n",
      "92.30735768656646\n",
      "(kinetic / kinetic_init, (energy + kinetic) / (kinetic_init + energy_init)) = (0.10152859638621008, 0.9998108327276305)\n",
      "93.60568490378749\n",
      "(kinetic / kinetic_init, (energy + kinetic) / (kinetic_init + energy_init)) = (0.09465270578512434, 0.9998097725194651)\n",
      "94.90632292050897\n",
      "(kinetic / kinetic_init, (energy + kinetic) / (kinetic_init + energy_init)) = (0.08799062825118131, 0.9998087735011488)\n",
      "96.20920612692271\n",
      "(kinetic / kinetic_init, (energy + kinetic) / (kinetic_init + energy_init)) = (0.0815460855755601, 0.9998078374311689)\n",
      "97.50480540320244\n",
      "(kinetic / kinetic_init, (energy + kinetic) / (kinetic_init + energy_init)) = (0.07536705643811965, 0.9998069692284134)\n",
      "98.80249088433108\n",
      "(kinetic / kinetic_init, (energy + kinetic) / (kinetic_init + energy_init)) = (0.06940954777117186, 0.999806159571693)\n",
      "100.10219564715389\n",
      "(kinetic / kinetic_init, (energy + kinetic) / (kinetic_init + energy_init)) = (0.06367696360197016, 0.9998054088936553)\n",
      "101.40385268388873\n",
      "(kinetic / kinetic_init, (energy + kinetic) / (kinetic_init + energy_init)) = (0.058172653770278436, 0.9998047163024627)\n",
      "102.70739571700831\n",
      "(kinetic / kinetic_init, (energy + kinetic) / (kinetic_init + energy_init)) = (0.052899854216096984, 0.9998040791780366)\n",
      "104.00322082191575\n",
      "(kinetic / kinetic_init, (energy + kinetic) / (kinetic_init + energy_init)) = (0.047897605836433446, 0.9998035007747311)\n",
      "105.30076729297629\n",
      "(kinetic / kinetic_init, (energy + kinetic) / (kinetic_init + energy_init)) = (0.043129556725344874, 0.9998029752416016)\n",
      "106.60952607356919\n",
      "(kinetic / kinetic_init, (energy + kinetic) / (kinetic_init + energy_init)) = (0.038566139471137295, 0.999802496614817)\n",
      "107.9007504945854\n",
      "(kinetic / kinetic_init, (energy + kinetic) / (kinetic_init + energy_init)) = (0.034307386648415844, 0.999802073073495)\n",
      "109.20304562506657\n",
      "(kinetic / kinetic_init, (energy + kinetic) / (kinetic_init + energy_init)) = (0.03025864204525872, 0.9998016932631768)\n",
      "110.50678171015096\n",
      "(kinetic / kinetic_init, (energy + kinetic) / (kinetic_init + energy_init)) = (0.02645485326665672, 0.9998013578220556)\n",
      "111.80228553835147\n",
      "(kinetic / kinetic_init, (energy + kinetic) / (kinetic_init + energy_init)) = (0.022923642384200194, 0.9998010663109957)\n",
      "113.10867639295063\n",
      "(kinetic / kinetic_init, (energy + kinetic) / (kinetic_init + energy_init)) = (0.019614939502982775, 0.9998008124699945)\n",
      "114.40667039326176\n",
      "(kinetic / kinetic_init, (energy + kinetic) / (kinetic_init + energy_init)) = (0.016579496210739942, 0.9998005973208719)\n",
      "115.70579641882702\n",
      "(kinetic / kinetic_init, (energy + kinetic) / (kinetic_init + energy_init)) = (0.013794009754326177, 0.9998004160357483)\n",
      "117.00598054596749\n",
      "(kinetic / kinetic_init, (energy + kinetic) / (kinetic_init + energy_init)) = (0.011260285214406869, 0.9998002662013301)\n",
      "118.30714891038527\n",
      "(kinetic / kinetic_init, (energy + kinetic) / (kinetic_init + energy_init)) = (0.008979990637317681, 0.9998001449889948)\n",
      "119.60922759210308\n",
      "(kinetic / kinetic_init, (energy + kinetic) / (kinetic_init + energy_init)) = (0.00695464553210946, 0.9998000493390227)\n",
      "120.90248722333149\n",
      "(kinetic / kinetic_init, (energy + kinetic) / (kinetic_init + energy_init)) = (0.005197782019812088, 0.9997999769126049)\n",
      "122.20615519780952\n",
      "(kinetic / kinetic_init, (energy + kinetic) / (kinetic_init + energy_init)) = (0.0036843985105658506, 0.9997999236655559)\n",
      "123.50084387537756\n",
      "(kinetic / kinetic_init, (energy + kinetic) / (kinetic_init + energy_init)) = (0.0024379724830474354, 0.9997998872592249)\n",
      "124.80580116980889\n",
      "(kinetic / kinetic_init, (energy + kinetic) / (kinetic_init + energy_init)) = (0.0014408160104495962, 0.9997998641255945)\n",
      "126.10161901360992\n",
      "(kinetic / kinetic_init, (energy + kinetic) / (kinetic_init + energy_init)) = (0.0007084575235523044, 0.9997998515573858)\n",
      "127.40756223800855\n",
      "(kinetic / kinetic_init, (energy + kinetic) / (kinetic_init + energy_init)) = (0.0002305728788620409, 0.9997998461849089)\n",
      "128.7042078439015\n",
      "(kinetic / kinetic_init, (energy + kinetic) / (kinetic_init + energy_init)) = (1.468754603598058e-5, 0.9997998449982434)\n",
      "130.0\n",
      "(kinetic / kinetic_init, (energy + kinetic) / (kinetic_init + energy_init)) = (5.5394805010730106e-5, 0.9997998449216863)\n"
     ]
    },
    {
     "data": {
      "text/plain": [
       "Var([-0.392023, 0.0, 0.392023, 0.78163, 1.16642, 1.54401, 1.91209, 2.26838, 2.61068, 2.93689  …  6.31723, 6.65787, 6.95745, 7.21414, 7.42635, 7.59278, 7.71239, 7.78446, 7.80853, 7.78446], [4.98113, 4.99653, 4.98113, 4.93501, 4.85848, 4.75198, 4.61619, 4.45194, 4.26024, 4.04228  …  4.58974, 4.07994, 3.545, 2.98819, 2.41297, 1.82286, 1.22152, 0.61265, 0.0, -0.61265], [2.55221e-5, 0.0, 2.55221e-5, 5.08867e-5, 7.59375e-5, 0.00010052, 0.000124483, 0.000147678, 0.000169962, 0.000191198  …  0.000193487, 0.000203916, 0.000213084, 0.000220936, 0.000227425, 0.000232514, 0.000236171, 0.000238374, 0.00023911, 0.000238374], [0.00032421, 0.000325212, 0.00032421, 0.00032121, 0.00031623, 0.000309303, 0.000300471, 0.000289787, 0.000277318, 0.000263138  …  0.00014056, 0.000124939, 0.000108549, 9.14928e-5, 7.3876e-5, 5.58066e-5, 3.73955e-5, 1.87552e-5, -0.0, 1.87552e-5], [1.84401, 1.84401, 1.84401, 1.84401, 1.84401, 1.84401, 1.84401, 1.84401, 1.84401, 1.84401  …  1.84498, 1.84498, 1.84498, 1.84498, 1.84498, 1.84498, 1.84498, 1.84498, 1.84498, 1.84498], [0.00186002, 0.00186002, 0.00186002, 0.00186002, 0.00186002, 0.00186003, 0.00186003, 0.00186004, 0.00186005, 0.00186006  …  0.00188474, 0.00188474, 0.00188475, 0.00188476, 0.00188477, 0.00188477, 0.00188478, 0.00188478, 0.00188478, 0.00188478], [-0.00182855 0.00184505 -0.000144559; -0.00182855 0.00184505 0.000144559; … ; 0.00187435 -0.00186582 0.000147179; 0.00187435 -0.00186582 -0.000147179])"
      ]
     },
     "execution_count": 109,
     "metadata": {},
     "output_type": "execute_result"
    }
   ],
   "source": [
    "var,mz,I,J = Collapse()\n",
    "var = TimeSolve(var,mz)"
   ]
  },
  {
   "cell_type": "code",
   "execution_count": null,
   "metadata": {
    "scrolled": true
   },
   "outputs": [],
   "source": [
    "var,mz,I,J = Collapse()\n",
    "var = TimeSolve(var,mz)\n",
    "using DelimitedFiles\n",
    "(I,J,var,mz)"
   ]
  },
  {
   "cell_type": "code",
   "execution_count": 110,
   "metadata": {},
   "outputs": [],
   "source": [
    "using DelimitedFiles\n",
    "Output_cell(I,J,var,mz)"
   ]
  },
  {
   "cell_type": "code",
   "execution_count": 85,
   "metadata": {},
   "outputs": [
    {
     "name": "stdout",
     "output_type": "stream",
     "text": [
      "tmp / 21 = 4.99603340740572\n"
     ]
    },
    {
     "data": {
      "text/plain": [
       "4.99603340740572"
      ]
     },
     "execution_count": 85,
     "metadata": {},
     "output_type": "execute_result"
    }
   ],
   "source": [
    "tmp =0.0\n",
    "for i in 1:21\n",
    "   tmp += √(var.r[i]^2 + var.z[i]^2)\n",
    "end\n",
    "@show tmp/21"
   ]
  },
  {
   "cell_type": "code",
   "execution_count": 86,
   "metadata": {},
   "outputs": [
    {
     "name": "stdout",
     "output_type": "stream",
     "text": [
      "tmax = 1.3224976669334865e-12\n"
     ]
    },
    {
     "data": {
      "text/plain": [
       "1.3224976669334865e-12"
      ]
     },
     "execution_count": 86,
     "metadata": {},
     "output_type": "execute_result"
    }
   ],
   "source": [
    "tmax =0.0\n",
    "for i in 1:21\n",
    "    tmp2 = √(var.r[i]^2 + var.z[i]^2)\n",
    "    if abs(tmp2 - tmp/21) >tmax\n",
    "        tmax = abs(tmp2-tmp/21)\n",
    "    end\n",
    "end\n",
    "@show tmax"
   ]
  },
  {
   "cell_type": "code",
   "execution_count": null,
   "metadata": {},
   "outputs": [],
   "source": [
    " rcell = zeros(Float64,4)\n",
    "    zcell = zeros(Float64,4)\n",
    "    ucell = zeros(Float64,4)\n",
    "    vcell = zeros(Float64,4)\n",
    "\n",
    "Ic, = size(Tp) \n",
    "for i in 1:Ic\n",
    "        for j =1:4\n",
    "            rcell[j] = var.r[Tp[i,j]]\n",
    "            zcell[j] = var.z[Tp[i,j]]\n",
    "            ucell[j] = var.u[Tp[i,j]]\n",
    "            vcell[j] = var.v[Tp[i,j]]\n",
    "        end\n",
    "        Az = sum(A_z(rcell,zcell))\n",
    "@show Az\n",
    "end"
   ]
  },
  {
   "cell_type": "code",
   "execution_count": 104,
   "metadata": {},
   "outputs": [
    {
     "data": {
      "text/plain": [
       "Impact (generic function with 1 method)"
      ]
     },
     "execution_count": 104,
     "metadata": {},
     "output_type": "execute_result"
    }
   ],
   "source": [
    " function Impact()\n",
    "\n",
    "    global problem = prb(5000,0.1)\n",
    "    # global problem = prb(5e-5,0.3)\n",
    "    \n",
    "    I = 100\n",
    "    J = 20\n",
    "    dx = 500/I\n",
    "    dy = 100/J\n",
    "    \n",
    "    global   con1 = Const(3e-3,2.785,2.0,2.7e-1,0.5328,1.338)\n",
    "    \n",
    "    I1 = I +1\n",
    "    J1 = J\n",
    "    \n",
    "    Ip = (I1+1)*(J1+1) # Number of  points\n",
    "    Ic = I1*J1  # number of cells\n",
    "    \n",
    "    global Tp = zeros(Int,Ic,4) #格点\n",
    "    global Tc = zeros(Int,Ip,4) #点格\n",
    "    \n",
    "    #@show Tc, Ip\n",
    "    global Tb = zeros(Int, 2I1 + 2J1,4) #边界 \n",
    "    \n",
    "    ## Tb[i,1] ghost cell number\n",
    "    ## Tb[i,2] bound cell number\n",
    "    ## Tb[i,3] ghost cell point share with the bound \n",
    "    ## Tb[i,4] type of the boundary\n",
    "    \n",
    "    \n",
    "    \n",
    "   # 点格表，格点表初始化 \n",
    "    for i in 1:I1 \n",
    "        for j in 1:J1\n",
    "            ic = i+(j-1)*I1\n",
    "            Tp[ic,1] = i + (j-1)*(I1+1)\n",
    "            Tp[ic,2] = i+1 +(j-1)*(I1+1)\n",
    "            Tp[ic,3]=i+1+j*(I1+1)\n",
    "            Tp[ic,4]=i+j*(I1+1) \n",
    "        end\n",
    "    end\n",
    "    \n",
    "    for i = 1:I1+1\n",
    "        for j = 1:J1+1\n",
    "            ip =i+(j-1)*(I1+1)\n",
    "            Tc[ip,1] = i +(j-1)*I1 #(i,j)\n",
    "            Tc[ip,2] = i-1+(j-1)*I1 #(i-1,j)\n",
    "            Tc[ip,3] = i-1+(j-2)*I1 #(i-1,j-1)\n",
    "            Tc[ip,4] = i+(j-2)*I1   #(i,j-1)\n",
    "        end\n",
    "    end\n",
    "    \n",
    "# Bound \n",
    "  ib = 0\n",
    "        for j = 1:J1\n",
    "            i=1\n",
    "            ib += 1\n",
    "            ic =i+(j-1)*I1 \n",
    "            Tb[ib,1] = ic\n",
    "            Tb[ib,2] = (i+1)+(j-1)*I1\n",
    "            Tb[ib,3] = 2\n",
    "            Tb[ib,4] = 2\n",
    "        end\n",
    "    \n",
    "         for j = 1:J1\n",
    "             i = I1\n",
    "            ib += 1\n",
    "            ic =i+(j-1)*I1\n",
    "            Tb[ib,1] = ic\n",
    "             Tb[ib,2] = (i-1)+(j-1)*I1 #bound type 1:free 2: wall ..  Tb[:,2] y direction\n",
    "             Tb[ib,3] = 2\n",
    "             Tb[ib,4] = 1\n",
    "         end\n",
    "      for i = 1:I1\n",
    "            for j in (1,J1)\n",
    "                ib += 1\n",
    "                ic =i+(j-1)*I1\n",
    "                \n",
    "                Tb[ib,1] = ic\n",
    "               \n",
    "                if j==1 \n",
    "                    Tb[ib,2] = i+(j+1-1)*I1\n",
    "                    Tb[ib,3] = 1\n",
    "                    Tb[ib,4] = 1\n",
    "                end\n",
    "                if j==J1\n",
    "                    Tb[ib,2] = i+(j-1-1)*I1\n",
    "                    Tb[ib,3] = 3\n",
    "                    Tb[ib,4] = 1\n",
    "                end\n",
    "            end\n",
    "        end\n",
    "        \n",
    "    #流场初始化 Init of the flow\n",
    "    \n",
    "    x = zeros(Float64,Ip)\n",
    "    y = zeros(Float64,Ip)\n",
    "    u = zeros(Float64,Ip)\n",
    "    v = zeros(Float64,Ip)\n",
    "    \n",
    "    ρ = zeros(Float64,Ic)\n",
    "    mz = zeros(Float64,Ic)\n",
    "    p = zeros(Float64,Ic)\n",
    "    Az= zeros(Float64,Ic)\n",
    "    s = zeros(Float64,Ic,3)\n",
    "    \n",
    "    for i in 1:I1+1\n",
    "        for j = 1:J1+1\n",
    "            ip =i+(j-1)*(I1+1)\n",
    "            x[ip] = (i-2)*dx\n",
    "            y[ip] = (j-1)*dy\n",
    "            u[ip] = -1.50e-2\n",
    "            v[ip] = 0.0\n",
    "        end\n",
    "    end\n",
    "    \n",
    "    var = Var(x,y,u,v,ρ,p,s)\n",
    "    x,y,u,v = bound_ghost_coordinate!(x,y,u,v)\n",
    "    xz = zeros(Float64,4)\n",
    "    yz = zeros(Float64,4) \n",
    "    for i in 1:I1\n",
    "        for j in 1:J1\n",
    "            ic = i+(j-1)*(I1)\n",
    "            xz[1:4] = x[Tp[ic,1:4]]\n",
    "            yz[1:4] = y[Tp[ic,1:4]]\n",
    "            A = A_z(xz,yz)\n",
    "            Az[ic] = sum(A)\n",
    "                 p[ic] = 1e-10\n",
    "                ρ[ic] = 2.785\n",
    "                mz[ic] = ρ[ic] * Az[ic]\n",
    "                s[ic,:] .= 0\n",
    "        end\n",
    "    end \n",
    " return var,mz,I1,J1\n",
    "end"
   ]
  },
  {
   "cell_type": "code",
   "execution_count": 114,
   "metadata": {
    "scrolled": true
   },
   "outputs": [
    {
     "name": "stdout",
     "output_type": "stream",
     "text": [
      "50.32973643796638\n",
      "(kinetic / kinetic_init, (energy + kinetic) / (kinetic_init + energy_init)) = (0.9485466456740563, 0.9974313331880645)\n",
      "100.06664913224165\n",
      "(kinetic / kinetic_init, (energy + kinetic) / (kinetic_init + energy_init)) = (0.931579003653482, 0.9974270961807475)\n",
      "150.1631269195772\n",
      "(kinetic / kinetic_init, (energy + kinetic) / (kinetic_init + energy_init)) = (0.9251480787680706, 0.9974240353682438)\n",
      "200.12920291957965\n",
      "(kinetic / kinetic_init, (energy + kinetic) / (kinetic_init + energy_init)) = (0.9060005044677821, 0.9974301350705642)\n",
      "250.19060056165284\n",
      "(kinetic / kinetic_init, (energy + kinetic) / (kinetic_init + energy_init)) = (0.8820844491921004, 0.9974338689446197)\n",
      "300.1304317580426\n",
      "(kinetic / kinetic_init, (energy + kinetic) / (kinetic_init + energy_init)) = (0.8678158960866412, 0.9974327903482122)\n",
      "350.0425854941553\n",
      "(kinetic / kinetic_init, (energy + kinetic) / (kinetic_init + energy_init)) = (0.8557196314628925, 0.9974292939487116)\n",
      "400.21653046610834\n",
      "(kinetic / kinetic_init, (energy + kinetic) / (kinetic_init + energy_init)) = (0.8364087219195213, 0.9974242666587105)\n",
      "450.18162962953977\n",
      "(kinetic / kinetic_init, (energy + kinetic) / (kinetic_init + energy_init)) = (0.8181255545327142, 0.9974192810036562)\n",
      "500.26931426865474\n",
      "(kinetic / kinetic_init, (energy + kinetic) / (kinetic_init + energy_init)) = (0.8050480224724559, 0.9974141535023507)\n",
      "550.0073732189396\n",
      "(kinetic / kinetic_init, (energy + kinetic) / (kinetic_init + energy_init)) = (0.790420835408811, 0.9974112183612568)\n",
      "600.0739207348104\n",
      "(kinetic / kinetic_init, (energy + kinetic) / (kinetic_init + energy_init)) = (0.7716260597447421, 0.9974100805205572)\n",
      "650.2548937576071\n",
      "(kinetic / kinetic_init, (energy + kinetic) / (kinetic_init + energy_init)) = (0.7540459332181672, 0.9974091569588446)\n",
      "700.2119901470303\n",
      "(kinetic / kinetic_init, (energy + kinetic) / (kinetic_init + energy_init)) = (0.7394080747473326, 0.9974072131331838)\n",
      "750.2020780644051\n",
      "(kinetic / kinetic_init, (energy + kinetic) / (kinetic_init + energy_init)) = (0.72377715069165, 0.9974048043701693)\n",
      "800.0674098099081\n",
      "(kinetic / kinetic_init, (energy + kinetic) / (kinetic_init + energy_init)) = (0.7065585078731784, 0.9974019747997658)\n",
      "850.0901876672173\n",
      "(kinetic / kinetic_init, (energy + kinetic) / (kinetic_init + energy_init)) = (0.6899185204120445, 0.9973991423548771)\n",
      "900.0502386764282\n",
      "(kinetic / kinetic_init, (energy + kinetic) / (kinetic_init + energy_init)) = (0.6749758257981184, 0.9973968859365512)\n",
      "950.0349448462005\n",
      "(kinetic / kinetic_init, (energy + kinetic) / (kinetic_init + energy_init)) = (0.6600136555899659, 0.997395028068933)\n",
      "1000.2871004113613\n",
      "(kinetic / kinetic_init, (energy + kinetic) / (kinetic_init + energy_init)) = (0.6435076959189581, 0.9973936124033222)\n",
      "1050.117864858995\n",
      "(kinetic / kinetic_init, (energy + kinetic) / (kinetic_init + energy_init)) = (0.6276624953657133, 0.9973925813530987)\n",
      "1100.0085843026945\n",
      "(kinetic / kinetic_init, (energy + kinetic) / (kinetic_init + energy_init)) = (0.6130850779117157, 0.9973912707797019)\n",
      "1150.1091505528875\n",
      "(kinetic / kinetic_init, (energy + kinetic) / (kinetic_init + energy_init)) = (0.5985423377120452, 0.9973897588675905)\n",
      "1200.0494265439245\n",
      "(kinetic / kinetic_init, (energy + kinetic) / (kinetic_init + energy_init)) = (0.5833348242815335, 0.9973879323590865)\n",
      "1250.0358197143646\n",
      "(kinetic / kinetic_init, (energy + kinetic) / (kinetic_init + energy_init)) = (0.5682412812377171, 0.9973857790151537)\n",
      "1300.1127940263539\n",
      "(kinetic / kinetic_init, (energy + kinetic) / (kinetic_init + energy_init)) = (0.5544242172137573, 0.9973836339393509)\n",
      "1350.0089542709845\n",
      "(kinetic / kinetic_init, (energy + kinetic) / (kinetic_init + energy_init)) = (0.5406246935130248, 0.9973817301485756)\n",
      "1400.0179345435754\n",
      "(kinetic / kinetic_init, (energy + kinetic) / (kinetic_init + energy_init)) = (0.526408266865218, 0.9973797801962904)\n",
      "1450.144915738464\n",
      "(kinetic / kinetic_init, (energy + kinetic) / (kinetic_init + energy_init)) = (0.5118036189591343, 0.99737803723803)\n",
      "1500.047849554621\n",
      "(kinetic / kinetic_init, (energy + kinetic) / (kinetic_init + energy_init)) = (0.4983391265216215, 0.9973760194116112)\n",
      "1550.1462513724912\n",
      "(kinetic / kinetic_init, (energy + kinetic) / (kinetic_init + energy_init)) = (0.48500780616308803, 0.9973739815729297)\n",
      "1600.169380248998\n",
      "(kinetic / kinetic_init, (energy + kinetic) / (kinetic_init + energy_init)) = (0.4713471546796115, 0.9973717534767422)\n",
      "1650.07103147672\n",
      "(kinetic / kinetic_init, (energy + kinetic) / (kinetic_init + energy_init)) = (0.45784711631831976, 0.9973693159050576)\n",
      "1700.0612753579658\n",
      "(kinetic / kinetic_init, (energy + kinetic) / (kinetic_init + energy_init)) = (0.44524287228810744, 0.9973664910574389)\n",
      "1750.182902978374\n",
      "(kinetic / kinetic_init, (energy + kinetic) / (kinetic_init + energy_init)) = (0.43271561815511855, 0.997363835761706)\n",
      "1800.2176905135952\n",
      "(kinetic / kinetic_init, (energy + kinetic) / (kinetic_init + energy_init)) = (0.41998418432912277, 0.9973609115482034)\n",
      "1850.1041776583186\n",
      "(kinetic / kinetic_init, (energy + kinetic) / (kinetic_init + energy_init)) = (0.4076559448419461, 0.9973578905726886)\n",
      "1900.0256349075257\n",
      "(kinetic / kinetic_init, (energy + kinetic) / (kinetic_init + energy_init)) = (0.39534839097303287, 0.9973551246593666)\n",
      "1950.1738580108502\n",
      "(kinetic / kinetic_init, (energy + kinetic) / (kinetic_init + energy_init)) = (0.3831686893252645, 0.9973523500469608)\n",
      "2000.0553144353635\n",
      "(kinetic / kinetic_init, (energy + kinetic) / (kinetic_init + energy_init)) = (0.3714370709387366, 0.9973489050687181)\n",
      "2050.0897513341615\n",
      "(kinetic / kinetic_init, (energy + kinetic) / (kinetic_init + energy_init)) = (0.35965698865475365, 0.99734462189392)\n",
      "2100.0652644556562\n",
      "(kinetic / kinetic_init, (energy + kinetic) / (kinetic_init + energy_init)) = (0.3479062353918512, 0.9973409534445928)\n",
      "2150.130427107635\n",
      "(kinetic / kinetic_init, (energy + kinetic) / (kinetic_init + energy_init)) = (0.33663591795815906, 0.9973367234717607)\n",
      "2200.104276644139\n",
      "(kinetic / kinetic_init, (energy + kinetic) / (kinetic_init + energy_init)) = (0.32564157449879927, 0.9973313366936574)\n",
      "2250.0761128543\n",
      "(kinetic / kinetic_init, (energy + kinetic) / (kinetic_init + energy_init)) = (0.31462775244872404, 0.9973260621441572)\n",
      "2300.1435745002896\n",
      "(kinetic / kinetic_init, (energy + kinetic) / (kinetic_init + energy_init)) = (0.30363837126271914, 0.9973220157055318)\n",
      "2350.052348629331\n",
      "(kinetic / kinetic_init, (energy + kinetic) / (kinetic_init + energy_init)) = (0.293143550346683, 0.9973169842509415)\n",
      "2400.083913378797\n",
      "(kinetic / kinetic_init, (energy + kinetic) / (kinetic_init + energy_init)) = (0.282771369335617, 0.9973120558120101)\n",
      "2450.0707786811636\n",
      "(kinetic / kinetic_init, (energy + kinetic) / (kinetic_init + energy_init)) = (0.27238785300501095, 0.997307221718567)\n",
      "2500.1258686620445\n",
      "(kinetic / kinetic_init, (energy + kinetic) / (kinetic_init + energy_init)) = (0.2622649235155214, 0.9973030587443098)\n",
      "2550.038026994704\n",
      "(kinetic / kinetic_init, (energy + kinetic) / (kinetic_init + energy_init)) = (0.25251041911091215, 0.9972978976773895)\n",
      "2600.01338479321\n",
      "(kinetic / kinetic_init, (energy + kinetic) / (kinetic_init + energy_init)) = (0.24275093592027394, 0.997292434977564)\n",
      "2650.0805265234926\n",
      "(kinetic / kinetic_init, (energy + kinetic) / (kinetic_init + energy_init)) = (0.23320075332621262, 0.997286447020868)\n",
      "2700.0806787432853\n",
      "(kinetic / kinetic_init, (energy + kinetic) / (kinetic_init + energy_init)) = (0.22396512890899267, 0.9972809329901586)\n",
      "2750.109236449206\n",
      "(kinetic / kinetic_init, (energy + kinetic) / (kinetic_init + energy_init)) = (0.2148663385026645, 0.997274460217266)\n",
      "2800.0845430609643\n",
      "(kinetic / kinetic_init, (energy + kinetic) / (kinetic_init + energy_init)) = (0.2058370824044835, 0.9972674940970623)\n",
      "2850.028755916579\n",
      "(kinetic / kinetic_init, (energy + kinetic) / (kinetic_init + energy_init)) = (0.19712493398962908, 0.997260573924904)\n",
      "2900.0888190096925\n",
      "(kinetic / kinetic_init, (energy + kinetic) / (kinetic_init + energy_init)) = (0.18862483702195876, 0.9972529205196627)\n",
      "2950.0919682354197\n",
      "(kinetic / kinetic_init, (energy + kinetic) / (kinetic_init + energy_init)) = (0.18025872761265954, 0.9972446831006172)\n",
      "3000.1152130773717\n",
      "(kinetic / kinetic_init, (energy + kinetic) / (kinetic_init + energy_init)) = (0.17209652874800002, 0.9972364146092588)\n"
     ]
    },
    {
     "name": "stdout",
     "output_type": "stream",
     "text": [
      "3050.1153958320524\n",
      "(kinetic / kinetic_init, (energy + kinetic) / (kinetic_init + energy_init)) = (0.16416609280789876, 0.9972279989114494)\n",
      "3100.084024450892\n",
      "(kinetic / kinetic_init, (energy + kinetic) / (kinetic_init + energy_init)) = (0.15640342629848164, 0.9972191085569612)\n",
      "3150.0529183932676\n",
      "(kinetic / kinetic_init, (energy + kinetic) / (kinetic_init + energy_init)) = (0.14875620575406176, 0.9972084056663604)\n",
      "3200.0816444363845\n",
      "(kinetic / kinetic_init, (energy + kinetic) / (kinetic_init + energy_init)) = (0.1414710664976176, 0.9971972799208684)\n",
      "3250.013447177605\n",
      "(kinetic / kinetic_init, (energy + kinetic) / (kinetic_init + energy_init)) = (0.134286931425188, 0.9971877982254709)\n",
      "3300.11468004044\n",
      "(kinetic / kinetic_init, (energy + kinetic) / (kinetic_init + energy_init)) = (0.12721981032689514, 0.9971791018922248)\n",
      "3350.024560238917\n",
      "(kinetic / kinetic_init, (energy + kinetic) / (kinetic_init + energy_init)) = (0.12047025262422795, 0.9971694396236495)\n",
      "3400.047676969782\n",
      "(kinetic / kinetic_init, (energy + kinetic) / (kinetic_init + energy_init)) = (0.11386494733941689, 0.9971588246404745)\n",
      "3450.033397540081\n",
      "(kinetic / kinetic_init, (energy + kinetic) / (kinetic_init + energy_init)) = (0.10738524962843424, 0.9971479578924655)\n",
      "3500.0391263226484\n",
      "(kinetic / kinetic_init, (energy + kinetic) / (kinetic_init + energy_init)) = (0.10111734901129284, 0.9971371902510395)\n",
      "3550.078299639007\n",
      "(kinetic / kinetic_init, (energy + kinetic) / (kinetic_init + energy_init)) = (0.09507537020649835, 0.9971264450618291)\n",
      "3600.0152652735987\n",
      "(kinetic / kinetic_init, (energy + kinetic) / (kinetic_init + energy_init)) = (0.08923113275661793, 0.997116441084541)\n",
      "3650.0919504976714\n",
      "(kinetic / kinetic_init, (energy + kinetic) / (kinetic_init + energy_init)) = (0.08353551694408695, 0.9971070706628206)\n",
      "3700.020713961234\n",
      "(kinetic / kinetic_init, (energy + kinetic) / (kinetic_init + energy_init)) = (0.07807153153296736, 0.9970973415583099)\n",
      "3750.0251192260944\n",
      "(kinetic / kinetic_init, (energy + kinetic) / (kinetic_init + energy_init)) = (0.07278386774638071, 0.9970871650027997)\n",
      "3800.008553487784\n",
      "(kinetic / kinetic_init, (energy + kinetic) / (kinetic_init + energy_init)) = (0.06762652732721189, 0.997077010831524)\n",
      "3850.054058700294\n",
      "(kinetic / kinetic_init, (energy + kinetic) / (kinetic_init + energy_init)) = (0.06266322758960943, 0.9970677110158146)\n",
      "3900.051918465298\n",
      "(kinetic / kinetic_init, (energy + kinetic) / (kinetic_init + energy_init)) = (0.057965296992879875, 0.9970581795019008)\n",
      "3950.059918806212\n",
      "(kinetic / kinetic_init, (energy + kinetic) / (kinetic_init + energy_init)) = (0.05342088802340352, 0.9970498906738313)\n",
      "4000.024273848265\n",
      "(kinetic / kinetic_init, (energy + kinetic) / (kinetic_init + energy_init)) = (0.04899884741607069, 0.9970425340945204)\n",
      "4050.0831022309335\n",
      "(kinetic / kinetic_init, (energy + kinetic) / (kinetic_init + energy_init)) = (0.04484396452877923, 0.9970350999116243)\n",
      "4100.069000004875\n",
      "(kinetic / kinetic_init, (energy + kinetic) / (kinetic_init + energy_init)) = (0.040868408527279194, 0.9970279917945054)\n",
      "4150.013453038479\n",
      "(kinetic / kinetic_init, (energy + kinetic) / (kinetic_init + energy_init)) = (0.03701782228608805, 0.9970207439071032)\n",
      "4200.040301360656\n",
      "(kinetic / kinetic_init, (energy + kinetic) / (kinetic_init + energy_init)) = (0.03340814212933085, 0.9970139669761489)\n",
      "4250.07230144286\n",
      "(kinetic / kinetic_init, (energy + kinetic) / (kinetic_init + energy_init)) = (0.030018177868426636, 0.9970080382247837)\n",
      "4300.01696200368\n",
      "(kinetic / kinetic_init, (energy + kinetic) / (kinetic_init + energy_init)) = (0.02674297865973842, 0.9970029263356208)\n",
      "4350.008599933927\n",
      "(kinetic / kinetic_init, (energy + kinetic) / (kinetic_init + energy_init)) = (0.02363461010824885, 0.9969978944995432)\n",
      "4400.036637588526\n",
      "(kinetic / kinetic_init, (energy + kinetic) / (kinetic_init + energy_init)) = (0.02079301337311547, 0.9969927672095911)\n",
      "4450.070151919295\n",
      "(kinetic / kinetic_init, (energy + kinetic) / (kinetic_init + energy_init)) = (0.01812107509991858, 0.9969878738997854)\n",
      "4500.041182473511\n",
      "(kinetic / kinetic_init, (energy + kinetic) / (kinetic_init + energy_init)) = (0.015563264828193854, 0.9969833634622514)\n",
      "4550.026458328455\n",
      "(kinetic / kinetic_init, (energy + kinetic) / (kinetic_init + energy_init)) = (0.01327170606269796, 0.9969798902357488)\n",
      "4600.00312483849\n",
      "(kinetic / kinetic_init, (energy + kinetic) / (kinetic_init + energy_init)) = (0.01117704415559755, 0.9969772844031402)\n",
      "4650.001589460848\n",
      "(kinetic / kinetic_init, (energy + kinetic) / (kinetic_init + energy_init)) = (0.00919202523418833, 0.9969750456731163)\n",
      "4700.004689401475\n",
      "(kinetic / kinetic_init, (energy + kinetic) / (kinetic_init + energy_init)) = (0.007432910579562557, 0.9969729298419249)\n",
      "4750.014267076432\n",
      "(kinetic / kinetic_init, (energy + kinetic) / (kinetic_init + energy_init)) = (0.005900269177481353, 0.99697119810833)\n",
      "4800.008233521521\n",
      "(kinetic / kinetic_init, (energy + kinetic) / (kinetic_init + energy_init)) = (0.004493259923403474, 0.9969696788781361)\n",
      "4850.0233860300195\n",
      "(kinetic / kinetic_init, (energy + kinetic) / (kinetic_init + energy_init)) = (0.003281731218269702, 0.9969681609104802)\n",
      "4900.032974136451\n",
      "(kinetic / kinetic_init, (energy + kinetic) / (kinetic_init + energy_init)) = (0.0023096678896133566, 0.9969668974669166)\n",
      "4950.049764819735\n",
      "(kinetic / kinetic_init, (energy + kinetic) / (kinetic_init + energy_init)) = (0.0015027400273458814, 0.9969662618412575)\n"
     ]
    },
    {
     "data": {
      "text/plain": [
       "Var([-2.43129, 0.0, 2.43129, 4.74098, 7.00225, 9.2604, 11.5163, 13.7644, 16.0166, 18.2717  …  437.19, 439.689, 442.188, 444.687, 447.186, 449.686, 452.185, 454.685, 457.185, 459.685], [-37.7219, -38.0063, -37.7219, -37.1471, -36.5641, -35.9754, -35.385, -34.8011, -34.2181, -33.6271  …  99.9999, 99.9989, 99.9981, 99.9977, 99.9974, 99.9974, 99.9974, 99.9974, 99.9974, 99.9975], [-5.53997e-6, -0.0, -5.53997e-6, 4.38559e-7, -1.46352e-6, -7.77751e-6, -1.94089e-6, 7.49829e-6, 1.61537e-5, 1.89513e-5  …  -0.00035215, -0.000362538, -0.000370775, -0.000376769, -0.000381197, -0.000383567, -0.000383277, -0.000380116, -0.000377754, -0.000377492], [-8.49738e-5, -8.09077e-5, -8.49738e-5, -9.13681e-5, -9.1891e-5, -9.43001e-5, -0.000101233, -0.000109222, -0.000125303, -0.000143465  …  -5.72282e-5, -7.05329e-5, -7.93128e-5, -8.47208e-5, -8.79398e-5, -8.78117e-5, -8.57841e-5, -8.57193e-5, -8.81551e-5, -9.21397e-5], [2.77708, 2.77708, 2.77714, 2.77682, 2.77666, 2.77658, 2.77656, 2.77655, 2.77654, 2.77647  …  2.78549, 2.78549, 2.78548, 2.78544, 2.78538, 2.78531, 2.78524, 2.78516, 2.7851, 2.78503], [-0.00123328, -0.00123328, -0.00145566, -0.00162938, -0.00168507, -0.00170917, -0.00171456, -0.00171305, -0.00170461, -0.00170137  …  0.00014032, 0.000141126, 0.000135841, 0.000124379, 0.000108346, 8.92014e-5, 6.83724e-5, 4.67559e-5, 2.79702e-5, 9.8438e-6], [0.00182929 -0.00152688 -0.000286963; 0.00182929 -0.00152688 0.000286963; … ; -2.30962e-5 1.67485e-5 3.03682e-6; -6.4543e-6 4.21635e-6 1.15938e-6])"
      ]
     },
     "execution_count": 114,
     "metadata": {},
     "output_type": "execute_result"
    }
   ],
   "source": [
    "var,mz,I,J = Impact()\n",
    "var = TimeSolve(var,mz)"
   ]
  },
  {
   "cell_type": "code",
   "execution_count": 112,
   "metadata": {},
   "outputs": [],
   "source": [
    "using DelimitedFiles\n",
    "Output_point(I,J,var,mz)"
   ]
  },
  {
   "cell_type": "code",
   "execution_count": 11,
   "metadata": {},
   "outputs": [],
   "source": [
    "using PyCall"
   ]
  },
  {
   "cell_type": "markdown",
   "metadata": {},
   "source": [
    "## 基函数变换法\n",
    "$$\\phi_i =\\frac{1}{4} (1+\\xi_i\\xi)(1+\\eta_i\\eta) \\quad i = (1,2,3,4)$$\n",
    "\n",
    "$$ (\\xi_1,\\eta_1) = (-1,-1), \\quad (\\xi_2,\\eta_2) = (1,-1), \\quad (\\xi_3,\\eta_3) = (1,1),\\quad (\\xi_4,\\eta_4) = (-1,1)$$\n",
    "$$ r = \\sum r_i \\phi_i ,\\quad  z = \\sum z_i \\phi_i ,\\quad u = \\sum u_i \\phi_i,\\quad  v = \\sum v_i \\phi_i $$\n",
    "\n",
    "\n",
    "$$ J =\\frac{\\partial r}{\\partial \\xi} \\frac{\\partial z}{\\partial \\eta} - \\frac{\\partial r}{\\partial \\eta}\\frac{\\partial z}{\\partial \\xi}$$"
   ]
  },
  {
   "cell_type": "markdown",
   "metadata": {},
   "source": [
    "$$\\int_\\Omega d\\Omega = \\int _{-1}^1 \\int_{-1}^1 J d\\xi d\\eta $$\n"
   ]
  },
  {
   "cell_type": "markdown",
   "metadata": {},
   "source": [
    "$$ J = \\frac{1}{16}\\sum_1^4 \\xi_i r_i (1+\\eta_i\\eta)\\sum_1^4 \\eta_i z_i (1+ \\xi_i \\xi) - \\frac{1}{16}\\sum_1^4 \\eta_i r_i (1+\\xi_i\\xi) \\sum_1^4 \\xi_i z_i (1+ \\eta_i \\eta) $$"
   ]
  },
  {
   "cell_type": "code",
   "execution_count": 48,
   "metadata": {},
   "outputs": [
    {
     "data": {
      "text/latex": [
       "\\begin{equation*}8 r₁ z₂ - 8 r₁ z₄ - 8 r₂ z₁ + 8 r₂ z₃ - 8 r₃ z₂ + 8 r₃ z₄ + 8 r₄ z₁ - 8 r₄ z₃\\end{equation*}"
      ],
      "text/plain": [
       "8⋅r₁⋅z₂ - 8⋅r₁⋅z₄ - 8⋅r₂⋅z₁ + 8⋅r₂⋅z₃ - 8⋅r₃⋅z₂ + 8⋅r₃⋅z₄ + 8⋅r₄⋅z₁ - 8⋅r₄⋅z₃"
      ]
     },
     "execution_count": 48,
     "metadata": {},
     "output_type": "execute_result"
    }
   ],
   "source": [
    "@vars r₁ r₂ r₃ r₄ η ξ  z₁ z₂ z₃ z₄ r_ξ z_η r_η z_ξ\n",
    "r =[r₁,r₂,r₃,r₄]\n",
    "z = [z₁,z₂,z₃,z₄]\n",
    "ξn = [-1,1,1,-1]\n",
    "ηn = [-1,-1,1,1]\n",
    "\n",
    "r_ξ=0; z_η=0; r_η =0; z_ξ =0\n",
    "for i in 1:4\n",
    "    r_ξ += ξn[i]*r[i]*(1+ηn[i]*η)\n",
    "    z_η += ηn[i]*z[i]*(1+ξn[i]*ξ)\n",
    "    r_η += ηn[i]*r[i]*(1+ξn[i]*ξ)\n",
    "    z_ξ += ξn[i]*z[i]*(1+ηn[i]*η)\n",
    "end\n",
    "y = r_ξ*z_η -r_η*z_ξ\n",
    "y = integrate(y,(η,-1,1),(ξ,-1,1))"
   ]
  },
  {
   "cell_type": "markdown",
   "metadata": {},
   "source": [
    "$$ \\int_\\Omega d\\Omega = \\frac{1}{2}\\left((r_1-r_3)(z_2-z_4) +(r_2-r_4)(z_3-z_1)\\right)$$"
   ]
  },
  {
   "cell_type": "markdown",
   "metadata": {},
   "source": [
    "# 求解$ \\int_\\Omega u d\\Omega$ "
   ]
  },
  {
   "cell_type": "code",
   "execution_count": 51,
   "metadata": {},
   "outputs": [
    {
     "data": {
      "text/latex": [
       "\\[ \\left[ \\begin{array}{r}\\left(1 - η\\right) \\left(1 - ξ\\right)\\\\\\left(1 - η\\right) \\left(ξ + 1\\right)\\\\\\left(η + 1\\right) \\left(ξ + 1\\right)\\\\\\left(1 - ξ\\right) \\left(η + 1\\right)\\end{array} \\right] \\]"
      ],
      "text/plain": [
       "4-element Array{Sym,1}:\n",
       " (1 - η)*(1 - ξ)\n",
       " (1 - η)*(ξ + 1)\n",
       " (η + 1)*(ξ + 1)\n",
       " (1 - ξ)*(η + 1)"
      ]
     },
     "execution_count": 51,
     "metadata": {},
     "output_type": "execute_result"
    }
   ],
   "source": [
    "@vars r₁ r₂ r₃ r₄ η ξ  z₁ z₂ z₃ z₄ r_ξ z_η r_η z_ξ u u₁ u₂ u₃ u₄\n",
    "\n",
    "ξn = [-1,1,1,-1]\n",
    "ηn = [-1,-1,1,1]\n",
    "un = [u₁,u₂,u₃,u₄]\n",
    "ϕ = [(1+ξn[i]*ξ)*(1+ηn[i]*η) for i in 1:4] \n",
    "r = [rn[i]*ϕ[i] for i in 1:4]\n",
    "z =  [zn[i]*ϕ[i] for i in 1:4]\n",
    "\n",
    "# r_ξ=0; z_η=0; r_η =0; z_ξ =0; u =0\n",
    "# for i in 1:4\n",
    "#     r_ξ += ξn[i]*r[i]*(1+ηn[i]*η)\n",
    "#     z_η += ηn[i]*z[i]*(1+ξn[i]*ξ)\n",
    "#     r_η += ηn[i]*r[i]*(1+ξn[i]*ξ)\n",
    "#     z_ξ += ξn[i]*z[i]*(1+ηn[i]*η)\n",
    "#     u   += un[i]*\n",
    "# end\n",
    "# y = r_ξ*z_η -r_η*z_ξ\n",
    "# y = integrate(y,(η,-1,1),(ξ,-1,1))\n"
   ]
  },
  {
   "cell_type": "code",
   "execution_count": null,
   "metadata": {},
   "outputs": [],
   "source": []
  }
 ],
 "metadata": {
  "@webio": {
   "lastCommId": null,
   "lastKernelId": null
  },
  "kernelspec": {
   "display_name": "Julia 1.1.0",
   "language": "julia",
   "name": "julia-1.1"
  },
  "language_info": {
   "file_extension": ".jl",
   "mimetype": "application/julia",
   "name": "julia",
   "version": "1.1.0"
  },
  "widgets": {
   "application/vnd.jupyter.widget-state+json": {
    "state": {},
    "version_major": 2,
    "version_minor": 0
   }
  }
 },
 "nbformat": 4,
 "nbformat_minor": 2
}
