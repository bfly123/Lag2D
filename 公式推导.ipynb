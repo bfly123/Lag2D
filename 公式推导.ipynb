{
 "cells": [
  {
   "cell_type": "markdown",
   "metadata": {},
   "source": [
    "#  Symmetry preserving"
   ]
  },
  {
   "cell_type": "code",
   "execution_count": 1,
   "metadata": {},
   "outputs": [
    {
     "name": "stderr",
     "output_type": "stream",
     "text": [
      "┌ Info: Recompiling stale cache file /home/bfly/.juliapro/JuliaPro_v1.1.1.1/compiled/v1.1/SymPy/KzewI.ji for SymPy [24249f21-da20-56a4-8eb1-6a02cf4ae2e6]\n",
      "└ @ Base loading.jl:1184\n"
     ]
    }
   ],
   "source": [
    "using SymPy"
   ]
  },
  {
   "cell_type": "code",
   "execution_count": 2,
   "metadata": {},
   "outputs": [
    {
     "data": {
      "text/plain": [
       "(ϕ, s_ξ, s_η, s_r)"
      ]
     },
     "execution_count": 2,
     "metadata": {},
     "output_type": "execute_result"
    }
   ],
   "source": [
    "@vars ϕ s_ξ s_η s_r "
   ]
  },
  {
   "cell_type": "code",
   "execution_count": 3,
   "metadata": {},
   "outputs": [
    {
     "data": {
      "text/plain": [
       "(a, b, c, d)"
      ]
     },
     "execution_count": 3,
     "metadata": {},
     "output_type": "execute_result"
    }
   ],
   "source": [
    "@vars a b c d"
   ]
  },
  {
   "cell_type": "code",
   "execution_count": 16,
   "metadata": {},
   "outputs": [
    {
     "data": {
      "text/latex": [
       "\\[\\left[ \\begin{array}{rrr}\\sin{\\left (ϕ \\right )}&\\cos{\\left (ϕ \\right )}&0\\\\- \\cos{\\left (ϕ \\right )}&\\sin{\\left (ϕ \\right )}&0\\\\0&0&1\\end{array}\\right]\\]"
      ],
      "text/plain": [
       "3×3 Array{Sym,2}:\n",
       "  sin(ϕ)  cos(ϕ)  0\n",
       " -cos(ϕ)  sin(ϕ)  0\n",
       "       0       0  1"
      ]
     },
     "execution_count": 16,
     "metadata": {},
     "output_type": "execute_result"
    }
   ],
   "source": [
    "A = [[sin(ϕ) cos(ϕ) 0];[-cos(ϕ) sin(ϕ) 0];[0 0 1]]"
   ]
  },
  {
   "cell_type": "code",
   "execution_count": 17,
   "metadata": {},
   "outputs": [
    {
     "data": {
      "text/latex": [
       "\\[\\left[ \\begin{array}{rrr}\\sin{\\left (ϕ \\right )}&- \\cos{\\left (ϕ \\right )}&0\\\\\\cos{\\left (ϕ \\right )}&\\sin{\\left (ϕ \\right )}&0\\\\0&0&1\\end{array}\\right]\\]"
      ],
      "text/plain": [
       "3×3 Array{Sym,2}:\n",
       " sin(ϕ)  -cos(ϕ)  0\n",
       " cos(ϕ)   sin(ϕ)  0\n",
       "      0        0  1"
      ]
     },
     "execution_count": 17,
     "metadata": {},
     "output_type": "execute_result"
    }
   ],
   "source": [
    "A1 = [[sin(ϕ) -cos(ϕ) 0];[cos(ϕ) sin(ϕ) 0];[0 0 1]]"
   ]
  },
  {
   "cell_type": "code",
   "execution_count": 19,
   "metadata": {},
   "outputs": [
    {
     "data": {
      "text/latex": [
       "\\[\\left[ \\begin{array}{rrr}- \\sin{\\left (ϕ \\right )}&\\cos{\\left (ϕ \\right )}&0\\\\- \\cos{\\left (ϕ \\right )}&- \\sin{\\left (ϕ \\right )}&0\\\\0&0&1\\end{array}\\right]\\]"
      ],
      "text/plain": [
       "3×3 Array{Sym,2}:\n",
       " -sin(ϕ)   cos(ϕ)  0\n",
       " -cos(ϕ)  -sin(ϕ)  0\n",
       "       0        0  1"
      ]
     },
     "execution_count": 19,
     "metadata": {},
     "output_type": "execute_result"
    }
   ],
   "source": [
    "A2 = [[-sin(ϕ) cos(ϕ) 0];[-cos(ϕ) -sin(ϕ) 0];[0 0 1]]"
   ]
  },
  {
   "cell_type": "code",
   "execution_count": 20,
   "metadata": {},
   "outputs": [
    {
     "data": {
      "text/latex": [
       "\\[\\left[ \\begin{array}{rrr}- \\sin{\\left (ϕ \\right )}&- \\cos{\\left (ϕ \\right )}&0\\\\\\cos{\\left (ϕ \\right )}&- \\sin{\\left (ϕ \\right )}&0\\\\0&0&1\\end{array}\\right]\\]"
      ],
      "text/plain": [
       "3×3 Array{Sym,2}:\n",
       " -sin(ϕ)  -cos(ϕ)  0\n",
       "  cos(ϕ)  -sin(ϕ)  0\n",
       "       0        0  1"
      ]
     },
     "execution_count": 20,
     "metadata": {},
     "output_type": "execute_result"
    }
   ],
   "source": [
    "A3 = [[-sin(ϕ) -cos(ϕ) 0];[cos(ϕ) -sin(ϕ) 0];[0 0 1]]"
   ]
  },
  {
   "cell_type": "code",
   "execution_count": 12,
   "metadata": {},
   "outputs": [
    {
     "data": {
      "text/latex": [
       "\\[\\left[ \\begin{array}{rrr}2 \\sin{\\left (ϕ \\right )} \\cos{\\left (ϕ \\right )}&- \\sin^{2}{\\left (ϕ \\right )} + \\cos^{2}{\\left (ϕ \\right )}&0\\\\\\sin^{2}{\\left (ϕ \\right )} - \\cos^{2}{\\left (ϕ \\right )}&2 \\sin{\\left (ϕ \\right )} \\cos{\\left (ϕ \\right )}&0\\\\0&0&1\\end{array}\\right]\\]"
      ],
      "text/plain": [
       "3×3 Array{Sym,2}:\n",
       "     2*sin(ϕ)*cos(ϕ)  -sin(ϕ)^2 + cos(ϕ)^2  0\n",
       " sin(ϕ)^2 - cos(ϕ)^2       2*sin(ϕ)*cos(ϕ)  0\n",
       "                   0                     0  1"
      ]
     },
     "execution_count": 12,
     "metadata": {},
     "output_type": "execute_result"
    }
   ],
   "source": [
    "A*A1"
   ]
  },
  {
   "cell_type": "code",
   "execution_count": 21,
   "metadata": {},
   "outputs": [
    {
     "data": {
      "text/latex": [
       "\\[\\left[ \\begin{array}{rrr}s_{η} \\cos^{2}{\\left (ϕ \\right )} + s_{ξ} \\sin^{2}{\\left (ϕ \\right )}&s_{η} \\sin{\\left (ϕ \\right )} \\cos{\\left (ϕ \\right )} - s_{ξ} \\sin{\\left (ϕ \\right )} \\cos{\\left (ϕ \\right )}&0\\\\s_{η} \\sin{\\left (ϕ \\right )} \\cos{\\left (ϕ \\right )} - s_{ξ} \\sin{\\left (ϕ \\right )} \\cos{\\left (ϕ \\right )}&s_{η} \\sin^{2}{\\left (ϕ \\right )} + s_{ξ} \\cos^{2}{\\left (ϕ \\right )}&0\\\\0&0&s_{r}\\end{array}\\right]\\]"
      ],
      "text/plain": [
       "3×3 Array{Sym,2}:\n",
       "           s_η*cos(ϕ)^2 + s_ξ*sin(ϕ)^2  …    0\n",
       " s_η*sin(ϕ)*cos(ϕ) - s_ξ*sin(ϕ)*cos(ϕ)       0\n",
       "                                     0     s_r"
      ]
     },
     "execution_count": 21,
     "metadata": {},
     "output_type": "execute_result"
    }
   ],
   "source": [
    "T = A*B*A1"
   ]
  },
  {
   "cell_type": "code",
   "execution_count": 22,
   "metadata": {},
   "outputs": [
    {
     "data": {
      "text/latex": [
       "\\[\\left[ \\begin{array}{rrr}\\left(\\left(s_{η} \\sin^{2}{\\left (ϕ \\right )} + s_{ξ} \\cos^{2}{\\left (ϕ \\right )}\\right) \\cos{\\left (ϕ \\right )} - \\left(s_{η} \\sin{\\left (ϕ \\right )} \\cos{\\left (ϕ \\right )} - s_{ξ} \\sin{\\left (ϕ \\right )} \\cos{\\left (ϕ \\right )}\\right) \\sin{\\left (ϕ \\right )}\\right) \\cos{\\left (ϕ \\right )} - \\left(- \\left(s_{η} \\cos^{2}{\\left (ϕ \\right )} + s_{ξ} \\sin^{2}{\\left (ϕ \\right )}\\right) \\sin{\\left (ϕ \\right )} + \\left(s_{η} \\sin{\\left (ϕ \\right )} \\cos{\\left (ϕ \\right )} - s_{ξ} \\sin{\\left (ϕ \\right )} \\cos{\\left (ϕ \\right )}\\right) \\cos{\\left (ϕ \\right )}\\right) \\sin{\\left (ϕ \\right )}&- \\left(\\left(s_{η} \\sin^{2}{\\left (ϕ \\right )} + s_{ξ} \\cos^{2}{\\left (ϕ \\right )}\\right) \\cos{\\left (ϕ \\right )} - \\left(s_{η} \\sin{\\left (ϕ \\right )} \\cos{\\left (ϕ \\right )} - s_{ξ} \\sin{\\left (ϕ \\right )} \\cos{\\left (ϕ \\right )}\\right) \\sin{\\left (ϕ \\right )}\\right) \\sin{\\left (ϕ \\right )} - \\left(- \\left(s_{η} \\cos^{2}{\\left (ϕ \\right )} + s_{ξ} \\sin^{2}{\\left (ϕ \\right )}\\right) \\sin{\\left (ϕ \\right )} + \\left(s_{η} \\sin{\\left (ϕ \\right )} \\cos{\\left (ϕ \\right )} - s_{ξ} \\sin{\\left (ϕ \\right )} \\cos{\\left (ϕ \\right )}\\right) \\cos{\\left (ϕ \\right )}\\right) \\cos{\\left (ϕ \\right )}&0\\\\\\left(- \\left(s_{η} \\sin^{2}{\\left (ϕ \\right )} + s_{ξ} \\cos^{2}{\\left (ϕ \\right )}\\right) \\sin{\\left (ϕ \\right )} - \\left(s_{η} \\sin{\\left (ϕ \\right )} \\cos{\\left (ϕ \\right )} - s_{ξ} \\sin{\\left (ϕ \\right )} \\cos{\\left (ϕ \\right )}\\right) \\cos{\\left (ϕ \\right )}\\right) \\cos{\\left (ϕ \\right )} - \\left(- \\left(s_{η} \\cos^{2}{\\left (ϕ \\right )} + s_{ξ} \\sin^{2}{\\left (ϕ \\right )}\\right) \\cos{\\left (ϕ \\right )} - \\left(s_{η} \\sin{\\left (ϕ \\right )} \\cos{\\left (ϕ \\right )} - s_{ξ} \\sin{\\left (ϕ \\right )} \\cos{\\left (ϕ \\right )}\\right) \\sin{\\left (ϕ \\right )}\\right) \\sin{\\left (ϕ \\right )}&- \\left(- \\left(s_{η} \\sin^{2}{\\left (ϕ \\right )} + s_{ξ} \\cos^{2}{\\left (ϕ \\right )}\\right) \\sin{\\left (ϕ \\right )} - \\left(s_{η} \\sin{\\left (ϕ \\right )} \\cos{\\left (ϕ \\right )} - s_{ξ} \\sin{\\left (ϕ \\right )} \\cos{\\left (ϕ \\right )}\\right) \\cos{\\left (ϕ \\right )}\\right) \\sin{\\left (ϕ \\right )} - \\left(- \\left(s_{η} \\cos^{2}{\\left (ϕ \\right )} + s_{ξ} \\sin^{2}{\\left (ϕ \\right )}\\right) \\cos{\\left (ϕ \\right )} - \\left(s_{η} \\sin{\\left (ϕ \\right )} \\cos{\\left (ϕ \\right )} - s_{ξ} \\sin{\\left (ϕ \\right )} \\cos{\\left (ϕ \\right )}\\right) \\sin{\\left (ϕ \\right )}\\right) \\cos{\\left (ϕ \\right )}&0\\\\0&0&s_{r}\\end{array}\\right]\\]"
      ],
      "text/plain": [
       "3×3 Array{Sym,2}:\n",
       "  ((s_η*sin(ϕ)^2 + s_ξ*cos(ϕ)^2)*cos(ϕ) - (s_η*sin(ϕ)*cos(ϕ) - s_ξ*sin(ϕ)*cos(ϕ))*sin(ϕ))*cos(ϕ) - (-(s_η*cos(ϕ)^2 + s_ξ*sin(ϕ)^2)*sin(ϕ) + (s_η*sin(ϕ)*cos(ϕ) - s_ξ*sin(ϕ)*cos(ϕ))*cos(ϕ))*sin(ϕ)  …    0\n",
       " (-(s_η*sin(ϕ)^2 + s_ξ*cos(ϕ)^2)*sin(ϕ) - (s_η*sin(ϕ)*cos(ϕ) - s_ξ*sin(ϕ)*cos(ϕ))*cos(ϕ))*cos(ϕ) - (-(s_η*cos(ϕ)^2 + s_ξ*sin(ϕ)^2)*cos(ϕ) - (s_η*sin(ϕ)*cos(ϕ) - s_ξ*sin(ϕ)*cos(ϕ))*sin(ϕ))*sin(ϕ)       0\n",
       "                                                                                                                                                                                                 0     s_r"
      ]
     },
     "execution_count": 22,
     "metadata": {},
     "output_type": "execute_result"
    }
   ],
   "source": [
    "A2*T*A3"
   ]
  },
  {
   "cell_type": "code",
   "execution_count": null,
   "metadata": {},
   "outputs": [
    {
     "name": "stdout",
     "output_type": "stream",
     "text": [
      "\u001b[32m\u001b[1m  Updating\u001b[22m\u001b[39m registry at `~/.juliapro/JuliaPro_v1.1.1.1/registries/JuliaPro`\n",
      "\u001b[32m\u001b[1m  Updating\u001b[22m\u001b[39m git-repo `https://pkg.juliacomputing.com//registry/JuliaPro`\n",
      "\u001b[?25l\u001b[2K\u001b[?25h\u001b[32m\u001b[1m Resolving\u001b[22m\u001b[39m package versions...\n",
      "\u001b[32m\u001b[1m Installed\u001b[22m\u001b[39m Atom ────────────────── v0.11.2\n",
      "\u001b[32m\u001b[1m Installed\u001b[22m\u001b[39m CUDAdrv ─────────────── v3.1.0\n",
      "\u001b[32m\u001b[1m Installed\u001b[22m\u001b[39m BenchmarkTools ──────── v0.4.3\n",
      "\u001b[32m\u001b[1m Installed\u001b[22m\u001b[39m Juno ────────────────── v0.7.2\n",
      "\u001b[32m\u001b[1m Installed\u001b[22m\u001b[39m Makie ───────────────── v0.9.5\n",
      "\u001b[32m\u001b[1m Installed\u001b[22m\u001b[39m SymPy ───────────────── v1.0.6\n",
      "\u001b[32m\u001b[1m Installed\u001b[22m\u001b[39m DiffEqFlux ──────────── v0.6.1\n",
      "\u001b[32m\u001b[1m Installed\u001b[22m\u001b[39m Flux ────────────────── v0.9.0\n",
      "\u001b[32m\u001b[1m Installed\u001b[22m\u001b[39m CuArrays ────────────── v1.2.1\n",
      "\u001b[32m\u001b[1m Installed\u001b[22m\u001b[39m PyPlot ──────────────── v2.8.2\n",
      "\u001b[32m\u001b[1m Installed\u001b[22m\u001b[39m CUDAnative ──────────── v2.3.1\n",
      "\u001b[32m\u001b[1m Installed\u001b[22m\u001b[39m IJulia ──────────────── v1.20.0\n",
      "\u001b[32m\u001b[1m Installed\u001b[22m\u001b[39m Plots ───────────────── v0.26.3\n",
      "\u001b[32m\u001b[1m Installed\u001b[22m\u001b[39m Widgets ─────────────── v0.6.2\n",
      "\u001b[32m\u001b[1m Installed\u001b[22m\u001b[39m GLFW ────────────────── v3.1.0\n",
      "\u001b[32m\u001b[1m Installed\u001b[22m\u001b[39m GPUArrays ───────────── v1.0.3\n",
      "\u001b[32m\u001b[1m Installed\u001b[22m\u001b[39m DiffEqCallbacks ─────── v2.8.0\n",
      "\u001b[32m\u001b[1m Installed\u001b[22m\u001b[39m DifferentialEquations ─ v6.8.0\n",
      "\u001b[32m\u001b[1m Installed\u001b[22m\u001b[39m NLSolversBase ───────── v7.4.1\n",
      "\u001b[32m\u001b[1m Installed\u001b[22m\u001b[39m JSON ────────────────── v0.21.0\n",
      "\u001b[32m\u001b[1m Installed\u001b[22m\u001b[39m Mocking ─────────────── v0.7.0\n",
      "\u001b[32m\u001b[1m Installed\u001b[22m\u001b[39m LLVM ────────────────── v1.3.0\n",
      "\u001b[32m\u001b[1m Installed\u001b[22m\u001b[39m StochasticDiffEq ────── v6.11.2\n",
      "\u001b[32m\u001b[1m Installed\u001b[22m\u001b[39m FFMPEG ──────────────── v0.2.91\n",
      "\u001b[32m\u001b[1m Installed\u001b[22m\u001b[39m Parameters ──────────── v0.12.0\n",
      "\u001b[32m\u001b[1m Installed\u001b[22m\u001b[39m Distances ───────────── v0.8.2\n",
      "\u001b[32m\u001b[1m Installed\u001b[22m\u001b[39m FastGaussQuadrature ─── v0.4.0\n",
      "\u001b[32m\u001b[1m Installed\u001b[22m\u001b[39m Tokenize ────────────── v0.5.6\n",
      "\u001b[32m\u001b[1m Installed\u001b[22m\u001b[39m DiffEqSensitivity ───── v4.1.1\n",
      "\u001b[32m\u001b[1m Installed\u001b[22m\u001b[39m ImageAxes ───────────── v0.6.1\n",
      "\u001b[32m\u001b[1m Installed\u001b[22m\u001b[39m ImageCore ───────────── v0.8.5\n",
      "\u001b[32m\u001b[1m Installed\u001b[22m\u001b[39m JuliaInterpreter ────── v0.7.2\n",
      "\u001b[32m\u001b[1m Installed\u001b[22m\u001b[39m WebIO ───────────────── v0.8.90\n",
      "\u001b[32m\u001b[1m Installed\u001b[22m\u001b[39m AxisArrays ──────────── v0.3.3\n",
      "\u001b[32m\u001b[1m Installed\u001b[22m\u001b[39m Rotations ───────────── v0.12.0\n",
      "\u001b[32m\u001b[1m Installed\u001b[22m\u001b[39m GeometryTypes ───────── v0.7.6\n",
      "\u001b[32m\u001b[1m Installed\u001b[22m\u001b[39m LightGraphs ─────────── v1.3.0\n",
      "\u001b[32m\u001b[1m Installed\u001b[22m\u001b[39m Missings ────────────── v0.4.2\n",
      "\u001b[32m\u001b[1m Installed\u001b[22m\u001b[39m Sundials ────────────── v3.7.0\n",
      "\u001b[32m\u001b[1m Installed\u001b[22m\u001b[39m DiffEqBase ──────────── v6.3.4\n",
      "\u001b[32m\u001b[1m Installed\u001b[22m\u001b[39m ColorVectorSpace ────── v0.7.1\n",
      "\u001b[32m\u001b[1m Installed\u001b[22m\u001b[39m CodeTracking ────────── v0.5.8\n",
      "\u001b[32m\u001b[1m Installed\u001b[22m\u001b[39m CUDAapi ─────────────── v1.2.0\n",
      "\u001b[32m\u001b[1m Installed\u001b[22m\u001b[39m Colors ──────────────── v0.9.6\n",
      "\u001b[32m\u001b[1m Installed\u001b[22m\u001b[39m DocSeeker ───────────── v0.3.1\n",
      "\u001b[32m\u001b[1m Installed\u001b[22m\u001b[39m TimeZones ───────────── v0.10.0\n",
      "\u001b[32m\u001b[1m Installed\u001b[22m\u001b[39m BlockBandedMatrices ─── v0.4.6\n",
      "\u001b[32m\u001b[1m Installed\u001b[22m\u001b[39m Clustering ──────────── v0.13.3\n",
      "\u001b[32m\u001b[1m Installed\u001b[22m\u001b[39m PDMats ──────────────── v0.9.10\n",
      "\u001b[32m\u001b[1m Installed\u001b[22m\u001b[39m OrdinaryDiffEq ──────── v5.17.0\n",
      "\u001b[32m\u001b[1m Installed\u001b[22m\u001b[39m Tracker ─────────────── v0.2.3\n",
      "\u001b[32m\u001b[1m Installed\u001b[22m\u001b[39m Lazy ────────────────── v0.14.0\n",
      "\u001b[32m\u001b[1m Installed\u001b[22m\u001b[39m Adapt ───────────────── v1.0.0\n",
      "\u001b[32m\u001b[1m Installed\u001b[22m\u001b[39m Parsers ─────────────── v0.3.7\n",
      "\u001b[32m\u001b[1m Installed\u001b[22m\u001b[39m GLMakie ─────────────── v0.0.8\n",
      "\u001b[32m\u001b[1m Installed\u001b[22m\u001b[39m Tables ──────────────── v0.2.11\n",
      "\u001b[32m\u001b[1m Installed\u001b[22m\u001b[39m DiffEqJump ──────────── v6.2.1\n",
      "\u001b[32m\u001b[1m Installed\u001b[22m\u001b[39m LazyArrays ──────────── v0.10.0\n",
      "\u001b[32m\u001b[1m Installed\u001b[22m\u001b[39m FillArrays ──────────── v0.6.4\n",
      "\u001b[32m\u001b[1m Installed\u001b[22m\u001b[39m JuliaFormatter ──────── v0.1.10\n",
      "\u001b[32m\u001b[1m Installed\u001b[22m\u001b[39m DataFrames ──────────── v0.19.4\n",
      "\u001b[32m\u001b[1m Installed\u001b[22m\u001b[39m EzXML ───────────────── v0.9.4\n",
      "\u001b[32m\u001b[1m Installed\u001b[22m\u001b[39m HDF5 ────────────────── v0.12.3\n",
      "\u001b[32m\u001b[1m Installed\u001b[22m\u001b[39m FFTViews ────────────── v0.3.0\n",
      "\u001b[32m\u001b[1m Installed\u001b[22m\u001b[39m MappedArrays ────────── v0.2.2\n",
      "\u001b[32m\u001b[1m Installed\u001b[22m\u001b[39m StringDistances ─────── v0.4.0\n",
      "\u001b[32m\u001b[1m Installed\u001b[22m\u001b[39m Optim ───────────────── v0.19.3\n",
      "\u001b[32m\u001b[1m Installed\u001b[22m\u001b[39m DiffEqFinancial ─────── v2.2.1\n",
      "\u001b[32m\u001b[1m Installed\u001b[22m\u001b[39m Roots ───────────────── v0.8.3\n",
      "\u001b[32m\u001b[1m Installed\u001b[22m\u001b[39m DelayDiffEq ─────────── v5.16.0\n",
      "\u001b[32m\u001b[1m Installed\u001b[22m\u001b[39m BandedMatrices ──────── v0.10.1\n",
      "\u001b[32m\u001b[1m Installed\u001b[22m\u001b[39m CategoricalArrays ───── v0.6.0\n",
      "\u001b[32m\u001b[1m Installed\u001b[22m\u001b[39m ImageFiltering ──────── v0.6.5\n",
      "\u001b[32m\u001b[1m Installed\u001b[22m\u001b[39m CSV ─────────────────── v0.5.12\n",
      "\u001b[32m\u001b[1m Installed\u001b[22m\u001b[39m AbstractPlotting ────── v0.9.10\n",
      "\u001b[32m\u001b[1m  Updating\u001b[22m\u001b[39m `~/.juliapro/JuliaPro_v1.1.1.1/environments/v1.1/Project.toml`\n",
      " \u001b[90m [c52e3926]\u001b[39m\u001b[93m ↑ Atom v0.8.7 ⇒ v0.11.2\u001b[39m\n",
      " \u001b[90m [6e4b80f9]\u001b[39m\u001b[93m ↑ BenchmarkTools v0.4.2 ⇒ v0.4.3\u001b[39m\n",
      " \u001b[90m [c5f51814]\u001b[39m\u001b[93m ↑ CUDAdrv v3.0.1 ⇒ v3.1.0\u001b[39m\n",
      " \u001b[90m [be33ccc6]\u001b[39m\u001b[93m ↑ CUDAnative v2.2.0 ⇒ v2.3.1\u001b[39m\n",
      " \u001b[90m [3a865a2d]\u001b[39m\u001b[93m ↑ CuArrays v1.0.2 ⇒ v1.2.1\u001b[39m\n",
      " \u001b[90m [aae7a2af]\u001b[39m\u001b[93m ↑ DiffEqFlux v0.5.0 ⇒ v0.6.1\u001b[39m\n",
      " \u001b[90m [0c46a032]\u001b[39m\u001b[93m ↑ DifferentialEquations v6.4.0 ⇒ v6.8.0\u001b[39m\n",
      " \u001b[90m [587475ba]\u001b[39m\u001b[93m ↑ Flux v0.8.3 ⇒ v0.9.0\u001b[39m\n",
      " \u001b[90m [7073ff75]\u001b[39m\u001b[93m ↑ IJulia v1.18.1 ⇒ v1.20.0\u001b[39m\n",
      " \u001b[90m [e5e0dc1b]\u001b[39m\u001b[93m ↑ Juno v0.7.0 ⇒ v0.7.2\u001b[39m\n",
      " \u001b[90m [ee78f7c6]\u001b[39m\u001b[93m ↑ Makie v0.9.4 ⇒ v0.9.5\u001b[39m\n",
      " \u001b[90m [91a5bcdd]\u001b[39m\u001b[93m ↑ Plots v0.25.3 ⇒ v0.26.3\u001b[39m\n",
      " \u001b[90m [d330b81b]\u001b[39m\u001b[93m ↑ PyPlot v2.8.1 ⇒ v2.8.2\u001b[39m\n",
      " \u001b[90m [24249f21]\u001b[39m\u001b[93m ↑ SymPy v1.0.4 ⇒ v1.0.6\u001b[39m\n",
      "\u001b[32m\u001b[1m  Updating\u001b[22m\u001b[39m `~/.juliapro/JuliaPro_v1.1.1.1/environments/v1.1/Manifest.toml`\n",
      " \u001b[90m [537997a7]\u001b[39m\u001b[93m ↑ AbstractPlotting v0.9.8 ⇒ v0.9.10\u001b[39m\n",
      " \u001b[90m [79e6a3ab]\u001b[39m\u001b[93m ↑ Adapt v0.4.2 ⇒ v1.0.0\u001b[39m\n",
      " \u001b[90m [c52e3926]\u001b[39m\u001b[93m ↑ Atom v0.8.7 ⇒ v0.11.2\u001b[39m\n",
      " \u001b[90m [39de3d68]\u001b[39m\u001b[93m ↑ AxisArrays v0.3.0 ⇒ v0.3.3\u001b[39m\n",
      " \u001b[90m [aae01518]\u001b[39m\u001b[93m ↑ BandedMatrices v0.9.4 ⇒ v0.10.1\u001b[39m\n",
      " \u001b[90m [6e4b80f9]\u001b[39m\u001b[93m ↑ BenchmarkTools v0.4.2 ⇒ v0.4.3\u001b[39m\n",
      " \u001b[90m [ffab5731]\u001b[39m\u001b[93m ↑ BlockBandedMatrices v0.4.5 ⇒ v0.4.6\u001b[39m\n",
      " \u001b[90m [336ed68f]\u001b[39m\u001b[93m ↑ CSV v0.5.11 ⇒ v0.5.12\u001b[39m\n",
      " \u001b[90m [3895d2a7]\u001b[39m\u001b[93m ↑ CUDAapi v0.6.3 ⇒ v1.2.0\u001b[39m\n",
      " \u001b[90m [c5f51814]\u001b[39m\u001b[93m ↑ CUDAdrv v3.0.1 ⇒ v3.1.0\u001b[39m\n",
      " \u001b[90m [be33ccc6]\u001b[39m\u001b[93m ↑ CUDAnative v2.2.0 ⇒ v2.3.1\u001b[39m\n",
      " \u001b[90m [324d7699]\u001b[39m\u001b[93m ↑ CategoricalArrays v0.5.5 ⇒ v0.6.0\u001b[39m\n",
      " \u001b[90m [aaaa29a8]\u001b[39m\u001b[93m ↑ Clustering v0.13.2 ⇒ v0.13.3\u001b[39m\n",
      " \u001b[90m [da1fd8a2]\u001b[39m\u001b[93m ↑ CodeTracking v0.5.7 ⇒ v0.5.8\u001b[39m\n",
      " \u001b[90m [c3611d14]\u001b[39m\u001b[93m ↑ ColorVectorSpace v0.6.2 ⇒ v0.7.1\u001b[39m\n",
      " \u001b[90m [5ae59095]\u001b[39m\u001b[93m ↑ Colors v0.9.5 ⇒ v0.9.6\u001b[39m\n",
      " \u001b[90m [3a865a2d]\u001b[39m\u001b[93m ↑ CuArrays v1.0.2 ⇒ v1.2.1\u001b[39m\n",
      " \u001b[90m [a93c6f00]\u001b[39m\u001b[93m ↑ DataFrames v0.19.2 ⇒ v0.19.4\u001b[39m\n",
      " \u001b[90m [bcd4f6db]\u001b[39m\u001b[93m ↑ DelayDiffEq v5.13.0 ⇒ v5.16.0\u001b[39m\n",
      " \u001b[90m [2b5f629d]\u001b[39m\u001b[93m ↑ DiffEqBase v5.20.0 ⇒ v6.3.4\u001b[39m\n",
      " \u001b[90m [459566f4]\u001b[39m\u001b[93m ↑ DiffEqCallbacks v2.7.0 ⇒ v2.8.0\u001b[39m\n",
      " \u001b[90m [5a0ffddc]\u001b[39m\u001b[93m ↑ DiffEqFinancial v2.1.0 ⇒ v2.2.1\u001b[39m\n",
      " \u001b[90m [aae7a2af]\u001b[39m\u001b[93m ↑ DiffEqFlux v0.5.0 ⇒ v0.6.1\u001b[39m\n",
      " \u001b[90m [c894b116]\u001b[39m\u001b[93m ↑ DiffEqJump v6.2.0 ⇒ v6.2.1\u001b[39m\n",
      " \u001b[90m [78ddff82]\u001b[39m\u001b[91m - DiffEqMonteCarlo v0.15.1\u001b[39m\n",
      " \u001b[90m [41bf760c]\u001b[39m\u001b[93m ↑ DiffEqSensitivity v3.3.2 ⇒ v4.1.1\u001b[39m\n",
      " \u001b[90m [0c46a032]\u001b[39m\u001b[93m ↑ DifferentialEquations v6.4.0 ⇒ v6.8.0\u001b[39m\n",
      " \u001b[90m [b4f34e82]\u001b[39m\u001b[93m ↑ Distances v0.8.0 ⇒ v0.8.2\u001b[39m\n",
      " \u001b[90m [33d173f1]\u001b[39m\u001b[93m ↑ DocSeeker v0.2.0 ⇒ v0.3.1\u001b[39m\n",
      " \u001b[90m [8f5d6c58]\u001b[39m\u001b[93m ↑ EzXML v0.9.3 ⇒ v0.9.4\u001b[39m\n",
      " \u001b[90m [c87230d0]\u001b[39m\u001b[92m + FFMPEG v0.2.91\u001b[39m\n",
      " \u001b[90m [4f61f5a4]\u001b[39m\u001b[93m ↑ FFTViews v0.2.0 ⇒ v0.3.0\u001b[39m\n",
      " \u001b[90m [442a2c76]\u001b[39m\u001b[93m ↑ FastGaussQuadrature v0.3.3 ⇒ v0.4.0\u001b[39m\n",
      " \u001b[90m [1a297f60]\u001b[39m\u001b[93m ↑ FillArrays v0.6.3 ⇒ v0.6.4\u001b[39m\n",
      " \u001b[90m [53c48c17]\u001b[39m\u001b[93m ↑ FixedPointNumbers v0.5.3 ⇒ v0.6.1\u001b[39m\n",
      " \u001b[90m [587475ba]\u001b[39m\u001b[93m ↑ Flux v0.8.3 ⇒ v0.9.0\u001b[39m\n",
      " \u001b[90m [f7f18e0c]\u001b[39m\u001b[93m ↑ GLFW v3.0.0 ⇒ v3.1.0\u001b[39m\n",
      " \u001b[90m [e9467ef8]\u001b[39m\u001b[93m ↑ GLMakie v0.0.6 ⇒ v0.0.8\u001b[39m\n",
      " \u001b[90m [0c68f7d7]\u001b[39m\u001b[93m ↑ GPUArrays v0.7.2 ⇒ v1.0.3\u001b[39m\n",
      " \u001b[90m [4d00f742]\u001b[39m\u001b[93m ↑ GeometryTypes v0.7.5 ⇒ v0.7.6\u001b[39m\n",
      " \u001b[90m [f67ccb44]\u001b[39m\u001b[93m ↑ HDF5 v0.12.0 ⇒ v0.12.3\u001b[39m\n",
      " \u001b[90m [7073ff75]\u001b[39m\u001b[93m ↑ IJulia v1.18.1 ⇒ v1.20.0\u001b[39m\n",
      " \u001b[90m [2803e5a7]\u001b[39m\u001b[93m ↑ ImageAxes v0.6.0 ⇒ v0.6.1\u001b[39m\n",
      " \u001b[90m [a09fc81d]\u001b[39m\u001b[93m ↑ ImageCore v0.8.4 ⇒ v0.8.5\u001b[39m\n",
      " \u001b[90m [6a3955dd]\u001b[39m\u001b[93m ↑ ImageFiltering v0.6.4 ⇒ v0.6.5\u001b[39m\n",
      " \u001b[90m [682c06a0]\u001b[39m\u001b[93m ↑ JSON v0.20.0 ⇒ v0.21.0\u001b[39m\n",
      " \u001b[90m [98e50ef6]\u001b[39m\u001b[92m + JuliaFormatter v0.1.10\u001b[39m\n",
      " \u001b[90m [aa1ae85d]\u001b[39m\u001b[93m ↑ JuliaInterpreter v0.6.1 ⇒ v0.7.2\u001b[39m\n",
      " \u001b[90m [e5e0dc1b]\u001b[39m\u001b[93m ↑ Juno v0.7.0 ⇒ v0.7.2\u001b[39m\n",
      " \u001b[90m [929cbde3]\u001b[39m\u001b[93m ↑ LLVM v1.2.0 ⇒ v1.3.0\u001b[39m\n",
      " \u001b[90m [50d2b5c4]\u001b[39m\u001b[93m ↑ Lazy v0.13.2 ⇒ v0.14.0\u001b[39m\n",
      " \u001b[90m [5078a376]\u001b[39m\u001b[93m ↑ LazyArrays v0.9.1 ⇒ v0.10.0\u001b[39m\n",
      " \u001b[90m [093fc24a]\u001b[39m\u001b[93m ↑ LightGraphs v1.2.0 ⇒ v1.3.0\u001b[39m\n",
      " \u001b[90m [ee78f7c6]\u001b[39m\u001b[93m ↑ Makie v0.9.4 ⇒ v0.9.5\u001b[39m\n",
      " \u001b[90m [dbb5928d]\u001b[39m\u001b[93m ↑ MappedArrays v0.2.1 ⇒ v0.2.2\u001b[39m\n",
      " \u001b[90m [e1d29d7a]\u001b[39m\u001b[93m ↑ Missings v0.4.1 ⇒ v0.4.2\u001b[39m\n",
      " \u001b[90m [78c3b35d]\u001b[39m\u001b[93m ↑ Mocking v0.5.7 ⇒ v0.7.0\u001b[39m\n",
      " \u001b[90m [d41bc354]\u001b[39m\u001b[93m ↑ NLSolversBase v7.4.0 ⇒ v7.4.1\u001b[39m\n",
      " \u001b[90m [429524aa]\u001b[39m\u001b[93m ↑ Optim v0.19.2 ⇒ v0.19.3\u001b[39m\n",
      " \u001b[90m [1dea7af3]\u001b[39m\u001b[93m ↑ OrdinaryDiffEq v5.14.0 ⇒ v5.17.0\u001b[39m\n",
      " \u001b[90m [90014a1f]\u001b[39m\u001b[93m ↑ PDMats v0.9.8 ⇒ v0.9.10\u001b[39m\n",
      " \u001b[90m [d96e819e]\u001b[39m\u001b[93m ↑ Parameters v0.10.3 ⇒ v0.12.0\u001b[39m\n",
      " \u001b[90m [69de0a69]\u001b[39m\u001b[93m ↑ Parsers v0.3.6 ⇒ v0.3.7\u001b[39m\n",
      " \u001b[90m [91a5bcdd]\u001b[39m\u001b[93m ↑ Plots v0.25.3 ⇒ v0.26.3\u001b[39m\n",
      " \u001b[90m [d330b81b]\u001b[39m\u001b[93m ↑ PyPlot v2.8.1 ⇒ v2.8.2\u001b[39m\n",
      " \u001b[90m [f2b01f46]\u001b[39m\u001b[93m ↑ Roots v0.8.1 ⇒ v0.8.3\u001b[39m\n",
      " \u001b[90m [6038ab10]\u001b[39m\u001b[93m ↑ Rotations v0.11.1 ⇒ v0.12.0\u001b[39m\n",
      " \u001b[90m [789caeaf]\u001b[39m\u001b[93m ↑ StochasticDiffEq v6.8.0 ⇒ v6.11.2\u001b[39m\n",
      " \u001b[90m [88034a9c]\u001b[39m\u001b[93m ↑ StringDistances v0.3.2 ⇒ v0.4.0\u001b[39m\n",
      " \u001b[90m [c3572dad]\u001b[39m\u001b[93m ↑ Sundials v3.6.1 ⇒ v3.7.0\u001b[39m\n",
      " \u001b[90m [24249f21]\u001b[39m\u001b[93m ↑ SymPy v1.0.4 ⇒ v1.0.6\u001b[39m\n",
      " \u001b[90m [bd369af6]\u001b[39m\u001b[93m ↑ Tables v0.2.10 ⇒ v0.2.11\u001b[39m\n",
      " \u001b[90m [f269a46b]\u001b[39m\u001b[93m ↑ TimeZones v0.9.2 ⇒ v0.10.0\u001b[39m\n",
      " \u001b[90m [0796e94c]\u001b[39m\u001b[93m ↑ Tokenize v0.5.5 ⇒ v0.5.6\u001b[39m\n",
      " \u001b[90m [9f7883ad]\u001b[39m\u001b[93m ↑ Tracker v0.2.2 ⇒ v0.2.3\u001b[39m\n",
      " \u001b[90m [0f1e0344]\u001b[39m\u001b[93m ↑ WebIO v0.8.9 ⇒ v0.8.90\u001b[39m\n",
      " \u001b[90m [cc8bc4a8]\u001b[39m\u001b[93m ↑ Widgets v0.6.1 ⇒ v0.6.2\u001b[39m\n"
     ]
    },
    {
     "name": "stdout",
     "output_type": "stream",
     "text": [
      "\u001b[32m\u001b[1m  Building\u001b[22m\u001b[39m IJulia ───→ `~/.juliapro/JuliaPro_v1.1.1.1/packages/IJulia/fRegO/deps/build.log`\n",
      "\u001b[32m\u001b[1m  Building\u001b[22m\u001b[39m FFMPEG ───→ `~/.juliapro/JuliaPro_v1.1.1.1/packages/FFMPEG/8bbhD/deps/build.log`\n",
      "\u001b[32m\u001b[1m  Building\u001b[22m\u001b[39m Plots ────→ `~/.juliapro/JuliaPro_v1.1.1.1/packages/Plots/h3o4c/deps/build.log`\n",
      "\u001b[32m\u001b[1m  Building\u001b[22m\u001b[39m GLFW ─────→ `~/.juliapro/JuliaPro_v1.1.1.1/packages/GLFW/e257h/deps/build.log`\n",
      "\u001b[32m\u001b[1m  Building\u001b[22m\u001b[39m WebIO ────→ `~/.juliapro/JuliaPro_v1.1.1.1/packages/WebIO/HiW4T/deps/build.log`\n"
     ]
    },
    {
     "name": "stderr",
     "output_type": "stream",
     "text": [
      "┌ Error: Error building `GLFW`: \n",
      "│ ERROR: LoadError: HTTP.ExceptionRequest.StatusError(401, HTTP.Messages.Response:\n",
      "│ \"\"\"\n",
      "│ HTTP/1.1 401 Unauthorized\n",
      "│ Date: Thu, 24 Oct 2019 03:15:06 GMT\n",
      "│ Content-Type: text/plain; charset=utf-8\n",
      "│ Transfer-Encoding: chunked\n",
      "│ Server: GitHub.com\n",
      "│ Status: 401 Unauthorized\n",
      "│ WWW-Authenticate: Basic realm=\"GitHub\"\n",
      "│ Cache-Control: no-cache\n",
      "│ X-Request-Id: 4f94ddc7-259b-4ea3-ae83-076f1b0a4eba\n",
      "│ Strict-Transport-Security: max-age=31536000; includeSubdomains; preload\n",
      "│ X-Frame-Options: deny\n",
      "│ X-Content-Type-Options: nosniff\n",
      "│ X-XSS-Protection: 1; mode=block\n",
      "│ Referrer-Policy: origin-when-cross-origin, strict-origin-when-cross-origin\n",
      "│ Expect-CT: max-age=2592000, report-uri=\"https://api.github.com/_private/browser/errors\"\n",
      "│ Content-Security-Policy: default-src 'none'; base-uri 'self'; block-all-mixed-content; connect-src 'self' uploads.github.com www.githubstatus.com collector.githubapp.com api.github.com www.google-analytics.com github-cloud.s3.amazonaws.com github-production-repository-file-5c1aeb.s3.amazonaws.com github-production-upload-manifest-file-7fdce7.s3.amazonaws.com github-production-user-asset-6210df.s3.amazonaws.com; font-src github.githubassets.com; form-action 'self' github.com gist.github.com; frame-ancestors 'none'; frame-src render.githubusercontent.com; img-src 'self' data: github.githubassets.com media.githubusercontent.com camo.githubusercontent.com identicons.github.com collector.githubapp.com avatars0.githubusercontent.com avatars1.githubusercontent.com avatars2.githubusercontent.com avatars3.githubusercontent.com github-cloud.s3.amazonaws.com; manifest-src 'self'; media-src 'none'; script-src github.githubassets.com; style-src 'unsafe-inline' github.githubassets.com\n",
      "│ X-GitHub-Request-Id: 805C:13AB:D328A9:12CCDCA:5DB11739\n",
      "│ \n",
      "│ \"\"\")\n",
      "│ Stacktrace:\n",
      "│  [1] (::getfield(HTTP, Symbol(\"#kw##request\")))(::NamedTuple{(:iofunction,),Tuple{getfield(CredentialsHandler, Symbol(\"##1#3\")){String}}}, ::typeof(HTTP.request), ::Type{HTTP.ExceptionRequest.ExceptionLayer{HTTP.ConnectionRequest.ConnectionPoolLayer{HTTP.StreamRequest.StreamLayer}}}, ::HTTP.URIs.URI, ::HTTP.Messages.Request, ::Nothing) at /home/buildbot/build-worker/worker/juliapro-release-centos7-0_6/build/tmp_julia/share/julia/stdlib/v1.1/HTTP/src/ExceptionRequest.jl:22\n",
      "│  [2] (::getfield(Base, Symbol(\"###48#49#50\")){ExponentialBackOff,getfield(HTTP.RetryRequest, Symbol(\"##2#3\")){Bool,HTTP.Messages.Request},typeof(HTTP.request)})(::Base.Iterators.Pairs{Symbol,getfield(CredentialsHandler, Symbol(\"##1#3\")){String},Tuple{Symbol},NamedTuple{(:iofunction,),Tuple{getfield(CredentialsHandler, Symbol(\"##1#3\")){String}}}}, ::Function, ::Type, ::Vararg{Any,N} where N) at ./error.jl:231\n",
      "│  [3] ##48#51 at ./none:0 [inlined]\n",
      "│  [4] #request#1 at /home/buildbot/build-worker/worker/juliapro-release-centos7-0_6/build/tmp_julia/share/julia/stdlib/v1.1/HTTP/src/RetryRequest.jl:44 [inlined]\n",
      "│  [5] (::getfield(HTTP, Symbol(\"#kw##request\")))(::NamedTuple{(:iofunction,),Tuple{getfield(CredentialsHandler, Symbol(\"##1#3\")){String}}}, ::typeof(HTTP.request), ::Type{HTTP.RetryRequest.RetryLayer{HTTP.ExceptionRequest.ExceptionLayer{HTTP.ConnectionRequest.ConnectionPoolLayer{HTTP.StreamRequest.StreamLayer}}}}, ::HTTP.URIs.URI, ::HTTP.Messages.Request, ::Nothing) at ./none:0\n",
      "│  [6] #request#1(::VersionNumber, ::String, ::Nothing, ::Function, ::Base.Iterators.Pairs{Union{},Union{},Tuple{},NamedTuple{(),Tuple{}}}, ::Function, ::Type{HTTP.MessageRequest.MessageLayer{HTTP.RetryRequest.RetryLayer{HTTP.ExceptionRequest.ExceptionLayer{HTTP.ConnectionRequest.ConnectionPoolLayer{HTTP.StreamRequest.StreamLayer}}}}}, ::String, ::HTTP.URIs.URI, ::Array{Pair{SubString{String},SubString{String}},1}, ::Nothing) at /home/buildbot/build-worker/worker/juliapro-release-centos7-0_6/build/tmp_julia/share/julia/stdlib/v1.1/HTTP/src/MessageRequest.jl:47\n",
      "│  [7] (::getfield(HTTP, Symbol(\"#kw##request\")))(::NamedTuple{(:iofunction,),Tuple{getfield(CredentialsHandler, Symbol(\"##1#3\")){String}}}, ::typeof(HTTP.request), ::Type{HTTP.MessageRequest.MessageLayer{HTTP.RetryRequest.RetryLayer{HTTP.ExceptionRequest.ExceptionLayer{HTTP.ConnectionRequest.ConnectionPoolLayer{HTTP.StreamRequest.StreamLayer}}}}}, ::String, ::HTTP.URIs.URI, ::Array{Pair{SubString{String},SubString{String}},1}, ::Nothing) at ./none:0\n",
      "│  [8] #request#1(::Int64, ::Bool, ::Base.Iterators.Pairs{Symbol,getfield(CredentialsHandler, Symbol(\"##1#3\")){String},Tuple{Symbol},NamedTuple{(:iofunction,),Tuple{getfield(CredentialsHandler, Symbol(\"##1#3\")){String}}}}, ::Function, ::Type{HTTP.RedirectRequest.RedirectLayer{HTTP.MessageRequest.MessageLayer{HTTP.RetryRequest.RetryLayer{HTTP.ExceptionRequest.ExceptionLayer{HTTP.ConnectionRequest.ConnectionPoolLayer{HTTP.StreamRequest.StreamLayer}}}}}}, ::String, ::HTTP.URIs.URI, ::Array{Pair{SubString{String},SubString{String}},1}, ::Nothing) at /home/buildbot/build-worker/worker/juliapro-release-centos7-0_6/build/tmp_julia/share/julia/stdlib/v1.1/HTTP/src/RedirectRequest.jl:24\n",
      "│  [9] (::getfield(HTTP, Symbol(\"#kw##request\")))(::NamedTuple{(:iofunction,),Tuple{getfield(CredentialsHandler, Symbol(\"##1#3\")){String}}}, ::typeof(HTTP.request), ::Type{HTTP.RedirectRequest.RedirectLayer{HTTP.MessageRequest.MessageLayer{HTTP.RetryRequest.RetryLayer{HTTP.ExceptionRequest.ExceptionLayer{HTTP.ConnectionRequest.ConnectionPoolLayer{HTTP.StreamRequest.StreamLayer}}}}}}, ::String, ::HTTP.URIs.URI, ::Array{Pair{SubString{String},SubString{String}},1}, ::Nothing) at ./none:0\n",
      "│  [10] #request#5(::Base.Iterators.Pairs{Symbol,getfield(CredentialsHandler, Symbol(\"##1#3\")){String},Tuple{Symbol},NamedTuple{(:iofunction,),Tuple{getfield(CredentialsHandler, Symbol(\"##1#3\")){String}}}}, ::Function, ::String, ::HTTP.URIs.URI, ::Array{Pair{SubString{String},SubString{String}},1}, ::Nothing) at /home/buildbot/build-worker/worker/juliapro-release-centos7-0_6/build/tmp_julia/share/julia/stdlib/v1.1/HTTP/src/HTTP.jl:300\n",
      "│  [11] #request at ./none:0 [inlined]\n",
      "│  [12] #request#6 at /home/buildbot/build-worker/worker/juliapro-release-centos7-0_6/build/tmp_julia/share/julia/stdlib/v1.1/HTTP/src/HTTP.jl:314 [inlined]\n",
      "│  [13] #request at ./none:0 [inlined]\n",
      "│  [14] #open#7 at /home/buildbot/build-worker/worker/juliapro-release-centos7-0_6/build/tmp_julia/share/julia/stdlib/v1.1/HTTP/src/HTTP.jl:339 [inlined]\n",
      "│  [15] open at /home/buildbot/build-worker/worker/juliapro-release-centos7-0_6/build/tmp_julia/share/julia/stdlib/v1.1/HTTP/src/HTTP.jl:339 [inlined]\n",
      "│  [16] download at /home/buildbot/build-worker/worker/juliapro-release-centos7-0_6/build/tmp_julia/share/julia/stdlib/v1.1/CredentialsHandler/src/CredentialsHandler.jl:89 [inlined] (repeats 2 times)\n",
      "│  [17] (::getfield(BinaryProvider.JuliaTeam, Symbol(\"##1#2\")){getfield(BinaryProvider, Symbol(\"##49#72\"))})(::String, ::String) at /home/buildbot/build-worker/worker/juliapro-release-centos7-0_6/build/tmp_julia/share/julia/stdlib/v1.1/BinaryProvider/src/JuliaTeam.jl:18\n",
      "│  [18] #download#93(::Bool, ::Function, ::String, ::String) at /home/buildbot/build-worker/worker/juliapro-release-centos7-0_6/build/tmp_julia/share/julia/stdlib/v1.1/BinaryProvider/src/PlatformEngines.jl:494\n",
      "│  [19] #download at ./none:0 [inlined]\n",
      "│  [20] #download_verify#94(::Bool, ::Bool, ::Bool, ::Function, ::String, ::String, ::String) at /home/buildbot/build-worker/worker/juliapro-release-centos7-0_6/build/tmp_julia/share/julia/stdlib/v1.1/BinaryProvider/src/PlatformEngines.jl:578\n",
      "│  [21] (::getfield(BinaryProvider, Symbol(\"#kw##download_verify\")))(::NamedTuple{(:force, :verbose),Tuple{Bool,Bool}}, ::typeof(download_verify), ::String, ::String, ::String) at ./none:0\n",
      "│  [22] top-level scope at /home/bfly/.juliapro/JuliaPro_v1.1.1.1/packages/GLFW/e257h/deps/build.jl:28\n",
      "│  [23] include at ./boot.jl:326 [inlined]\n",
      "│  [24] include_relative(::Module, ::String) at ./loading.jl:1038\n",
      "│  [25] include(::Module, ::String) at ./sysimg.jl:29\n",
      "│  [26] include(::String) at ./client.jl:403\n",
      "│  [27] top-level scope at none:0\n",
      "│ in expression starting at /home/bfly/.juliapro/JuliaPro_v1.1.1.1/packages/GLFW/e257h/deps/build.jl:21\n",
      "└ @ Pkg.Operations /home/buildbot/build-worker/worker/juliapro-release-centos7-0_6/build/tmp_julia/share/julia/stdlib/v1.1/Pkg/src/Operations.jl:1138\n"
     ]
    },
    {
     "name": "stdout",
     "output_type": "stream",
     "text": [
      "\u001b[32m\u001b[1m  Building\u001b[22m\u001b[39m Sundials ─→ `~/.juliapro/JuliaPro_v1.1.1.1/packages/Sundials/CRi5j/deps/build.log`\n",
      "\u001b[32m\u001b[1m  Building\u001b[22m\u001b[39m GLMakie ──→ `~/.juliapro/JuliaPro_v1.1.1.1/packages/GLMakie/5wmnA/deps/build.log`\n",
      "\u001b[32m\u001b[1m  Building\u001b[22m\u001b[39m EzXML ────→ `~/.juliapro/JuliaPro_v1.1.1.1/packages/EzXML/G0JeY/deps/build.log`\n"
     ]
    },
    {
     "name": "stderr",
     "output_type": "stream",
     "text": [
      "┌ Error: Error building `GLMakie`: \n",
      "│ ERROR: LoadError: GLFW not installed properly, run Pkg.build(\"GLFW\"), restart Julia and try again\n",
      "│ Stacktrace:\n",
      "│  [1] error(::String) at ./error.jl:33\n",
      "│  [2] top-level scope at /home/bfly/.juliapro/JuliaPro_v1.1.1.1/packages/GLFW/e257h/src/GLFW.jl:5\n",
      "│  [3] include at ./boot.jl:326 [inlined]\n",
      "│  [4] include_relative(::Module, ::String) at ./loading.jl:1038\n",
      "│  [5] include(::Module, ::String) at ./sysimg.jl:29\n",
      "│  [6] top-level scope at none:2\n",
      "│  [7] eval at ./boot.jl:328 [inlined]\n",
      "│  [8] eval(::Expr) at ./client.jl:404\n",
      "│  [9] top-level scope at ./none:3\n",
      "│ in expression starting at /home/bfly/.juliapro/JuliaPro_v1.1.1.1/packages/GLFW/e257h/src/GLFW.jl:4\n",
      "│ ERROR: LoadError: OpenGL/GLFW wasn't installed correctly. This likely means,\n",
      "│ you don't have an OpenGL capable Graphic Card,\n",
      "│ you don't have the newest video driver installed,\n",
      "│ or the GLFW build failed. If you're on linux and `]build` GLFW failed,\n",
      "│ try manually adding `sudo apt-get install libglfw3` and then `]build GLMakie`.\n",
      "│ If you're on a headless server, you still need to install x-server and\n",
      "│ proper GPU drivers. You can take inspiration from this article\n",
      "│ on how to get Makie running on a headless system:\n",
      "│ https://nextjournal.com/sdanisch/makie-1.0\n",
      "│ If you don't have a GPU, there is also a Cairo software backend\n",
      "│ for Makie which you can use:\n",
      "│ https://github.com/JuliaPlots/CairoMakie.jl.\n",
      "│ Please check the below error and open an issue at:\n",
      "│ https://github.com/JuliaPlots/GLMakie.jl.\n",
      "│ After you fixed your OpenGL install, please run `]build GLMakie` again!\n",
      "│ GLMakie will still load, but will be disabled as a default backend for Makie\n",
      "│ \n",
      "│ Stacktrace:\n",
      "│  [1] error(::String) at ./error.jl:33\n",
      "│  [2] top-level scope at /home/bfly/.juliapro/JuliaPro_v1.1.1.1/packages/GLMakie/5wmnA/deps/build.jl:28\n",
      "│  [3] include at ./boot.jl:326 [inlined]\n",
      "│  [4] include_relative(::Module, ::String) at ./loading.jl:1038\n",
      "│  [5] include(::Module, ::String) at ./sysimg.jl:29\n",
      "│  [6] include(::String) at ./client.jl:403\n",
      "│  [7] top-level scope at none:0\n",
      "│ in expression starting at /home/bfly/.juliapro/JuliaPro_v1.1.1.1/packages/GLMakie/5wmnA/deps/build.jl:19\n",
      "└ @ Pkg.Operations /home/buildbot/build-worker/worker/juliapro-release-centos7-0_6/build/tmp_julia/share/julia/stdlib/v1.1/Pkg/src/Operations.jl:1138\n"
     ]
    },
    {
     "name": "stdout",
     "output_type": "stream",
     "text": [
      "\u001b[32m\u001b[1m  Building\u001b[22m\u001b[39m TimeZones → `~/.juliapro/JuliaPro_v1.1.1.1/packages/TimeZones/UXytc/deps/build.log`\n",
      "\u001b[32m\u001b[1m  Building\u001b[22m\u001b[39m HDF5 ─────→ `~/.juliapro/JuliaPro_v1.1.1.1/packages/HDF5/DktP4/deps/build.log`\n"
     ]
    }
   ],
   "source": [
    "using Pkg\n",
    "Pkg.update()\n",
    "Pkg.add(\"LatexPrint\")\n",
    "LatexPrint(T)"
   ]
  },
  {
   "cell_type": "code",
   "execution_count": 10,
   "metadata": {},
   "outputs": [
    {
     "data": {
      "text/latex": [
       "\\[\\left[ \\begin{array}{rrr}\\operatorname{transpose}{\\left (\\sin{\\left (ϕ \\right )} \\right )}&- \\operatorname{transpose}{\\left (\\cos{\\left (ϕ \\right )} \\right )}&0\\\\\\operatorname{transpose}{\\left (\\cos{\\left (ϕ \\right )} \\right )}&\\operatorname{transpose}{\\left (\\sin{\\left (ϕ \\right )} \\right )}&0\\\\0&0&1\\end{array}\\right]\\]"
      ],
      "text/plain": [
       "3×3 LinearAlgebra.Transpose{Sym,Array{Sym,2}}:\n",
       " transpose(sin(ϕ))  -transpose(cos(ϕ))  0\n",
       " transpose(cos(ϕ))   transpose(sin(ϕ))  0\n",
       "                 0                   0  1"
      ]
     },
     "execution_count": 10,
     "metadata": {},
     "output_type": "execute_result"
    }
   ],
   "source": [
    "transpose(A)"
   ]
  },
  {
   "cell_type": "code",
   "execution_count": 16,
   "metadata": {},
   "outputs": [
    {
     "data": {
      "text/latex": [
       "\\begin{equation*}\\sin{\\left (\\frac{a}{2} + \\frac{b}{2} \\right )}\\end{equation*}"
      ],
      "text/plain": [
       "   ⎛a   b⎞\n",
       "sin⎜─ + ─⎟\n",
       "   ⎝2   2⎠"
      ]
     },
     "execution_count": 16,
     "metadata": {},
     "output_type": "execute_result"
    }
   ],
   "source": [
    "simplify(sin(a/2+b/2))"
   ]
  },
  {
   "cell_type": "code",
   "execution_count": 34,
   "metadata": {},
   "outputs": [
    {
     "data": {
      "text/latex": [
       "\\begin{equation*}\\left(c - d\\right) \\sin{\\left (2 b \\right )} \\sin{\\left (a + b \\right )} \\cos{\\left (a + b \\right )} - \\left(c \\cos^{2}{\\left (a + b \\right )} + d \\sin^{2}{\\left (a + b \\right )}\\right) \\cos{\\left (2 b \\right )}\\end{equation*}"
      ],
      "text/plain": [
       "                                         ⎛     2               2       ⎞      \n",
       "(c - d)⋅sin(2⋅b)⋅sin(a + b)⋅cos(a + b) - ⎝c⋅cos (a + b) + d⋅sin (a + b)⎠⋅cos(2\n",
       "\n",
       "   \n",
       "⋅b)"
      ]
     },
     "execution_count": 34,
     "metadata": {},
     "output_type": "execute_result"
    }
   ],
   "source": [
    "f= (c-d)*sin(a+b)*cos(a+b)*sin(2b)-(c*(cos(a+b))^2+d*(sin(a+b))^2)*cos(2b)"
   ]
  },
  {
   "cell_type": "code",
   "execution_count": 36,
   "metadata": {},
   "outputs": [
    {
     "data": {
      "text/latex": [
       "\\begin{equation*}c \\sin{\\left (2 b \\right )} \\sin{\\left (a + b \\right )} \\cos{\\left (a + b \\right )} - c \\cos{\\left (2 b \\right )} \\cos^{2}{\\left (a + b \\right )}\\end{equation*}"
      ],
      "text/plain": [
       "                                                 2       \n",
       "c⋅sin(2⋅b)⋅sin(a + b)⋅cos(a + b) - c⋅cos(2⋅b)⋅cos (a + b)"
      ]
     },
     "execution_count": 36,
     "metadata": {},
     "output_type": "execute_result"
    }
   ],
   "source": [
    "f= c*sin(a+b)*cos(a+b)*sin(2b)-c*(cos(a+b))^2*cos(2b)"
   ]
  },
  {
   "cell_type": "code",
   "execution_count": 37,
   "metadata": {},
   "outputs": [
    {
     "data": {
      "text/latex": [
       "\\begin{equation*}- c \\cos{\\left (a + b \\right )} \\cos{\\left (a + 3 b \\right )}\\end{equation*}"
      ],
      "text/plain": [
       "-c⋅cos(a + b)⋅cos(a + 3⋅b)"
      ]
     },
     "execution_count": 37,
     "metadata": {},
     "output_type": "execute_result"
    }
   ],
   "source": [
    "simplify(f)"
   ]
  },
  {
   "cell_type": "code",
   "execution_count": 25,
   "metadata": {},
   "outputs": [
    {
     "data": {
      "text/latex": [
       "\\begin{equation*}- \\left(- \\sin{\\left (a \\right )} \\sin{\\left (b \\right )} + \\cos{\\left (a \\right )} \\cos{\\left (b \\right )}\\right)^{2} \\left(- \\sin^{2}{\\left (b \\right )} + \\cos^{2}{\\left (b \\right )}\\right) + 2 \\left(- \\sin{\\left (a \\right )} \\sin{\\left (b \\right )} + \\cos{\\left (a \\right )} \\cos{\\left (b \\right )}\\right) \\left(\\sin{\\left (a \\right )} \\cos{\\left (b \\right )} + \\sin{\\left (b \\right )} \\cos{\\left (a \\right )}\\right) \\sin{\\left (b \\right )} \\cos{\\left (b \\right )}\\end{equation*}"
      ],
      "text/plain": [
       "                                  2 ⎛     2         2   ⎞                     \n",
       "- (-sin(a)⋅sin(b) + cos(a)⋅cos(b)) ⋅⎝- sin (b) + cos (b)⎠ + 2⋅(-sin(a)⋅sin(b) \n",
       "\n",
       "                                                              \n",
       "+ cos(a)⋅cos(b))⋅(sin(a)⋅cos(b) + sin(b)⋅cos(a))⋅sin(b)⋅cos(b)"
      ]
     },
     "execution_count": 25,
     "metadata": {},
     "output_type": "execute_result"
    }
   ],
   "source": [
    "f = (sin(a)*cos(b)+sin(b)*cos(a))*(cos(a)*cos(b)-sin(a)*sin(b))*2*sin(b)*cos(b)-(cos(a)*cos(b)-sin(a)*sin(b))^2*(cos(b)^2 - sin(b)^2)"
   ]
  },
  {
   "cell_type": "code",
   "execution_count": 26,
   "metadata": {},
   "outputs": [
    {
     "data": {
      "text/latex": [
       "\\begin{equation*}- \\cos{\\left (a + b \\right )} \\cos{\\left (a + 3 b \\right )}\\end{equation*}"
      ],
      "text/plain": [
       "-cos(a + b)⋅cos(a + 3⋅b)"
      ]
     },
     "execution_count": 26,
     "metadata": {},
     "output_type": "execute_result"
    }
   ],
   "source": [
    "simplify(f)"
   ]
  },
  {
   "cell_type": "markdown",
   "metadata": {},
   "source": [
    "# Fluid"
   ]
  },
  {
   "cell_type": "markdown",
   "metadata": {},
   "source": [
    "## Velocity"
   ]
  },
  {
   "cell_type": "markdown",
   "metadata": {},
   "source": [
    "$$ F_r(i,j) =\\frac{1}{2}\\left( p_I(z_{i,j-1}-z_{i+1,j}) + p_V(z_{i-1,j}- z_{i,j-1}) +p_{III}(z_{i,j+1}-z_{i-1,j})+p_{II}(z_{i+1,j}-z_{i,j+1}) \\right)$$\n",
    "where $p_I=p_{i+\\frac{1}{2},j-\\frac{1}{2}} = p_{j-\\frac{1}{2}}$, $p_V = p_{i-\\frac{1}{2},j-\\frac{1}{2}} = p_{j-\\frac{1}{2}}$, $p_{II} = p_{i+\\frac{1}{2},j+\\frac{1}{2}} = p_{j+\\frac{1}{2}}$ and  $p_{III} = p_{i-\\frac{1}{2},j+\\frac{1}{2}} = p_{j+\\frac{1}{2}}$"
   ]
  },
  {
   "cell_type": "markdown",
   "metadata": {},
   "source": [
    "$$ F_r = \\frac{1}{2}p_{j-\\frac{1}{2}}(z_{i-1,j}-z_{i+1,j}) -\\frac{1}{2}p_{j+\\frac{1}{2}}(z_{i-1,j}-z_{i+1,j}) \n",
    "       = \\frac{1}{2}(p_{j+\\frac{1}{2}}-p_{j-\\frac{1}{2}})(z_{i+1,j}-z_{i-1,j})$$ "
   ]
  },
  {
   "cell_type": "markdown",
   "metadata": {},
   "source": [
    "$$F_z = -\\frac{1}{2}(p_{j+\\frac{1}{2}}-p_{j-\\frac{1}{2}})(r_{i+1,j}-r_{i-1,j})$$"
   ]
  },
  {
   "cell_type": "markdown",
   "metadata": {},
   "source": [
    "$ r_{i,j} = R_j \\text{sin}\\phi_i$, $z_{i,j} = R_j\\text{cos}\\phi_i$"
   ]
  },
  {
   "cell_type": "markdown",
   "metadata": {},
   "source": [
    "$$ F_r=  \\frac{1}{2}(p_{j+\\frac{1}{2}}-p_{j-\\frac{1}{2}})(\\text{cos}\\phi_{i+1}-\\text{cos}\\phi_{i-1})R_j = -R_j(p_{j+\\frac{1}{2}}-p_{j-\\frac{1}{2}})\\text{sin}\\phi_{i}\\text{sin}\\Delta\\phi$$\n",
    "$$ F_z=  -\\frac{1}{2}(p_{j+\\frac{1}{2}}-p_{j-\\frac{1}{2}})(\\text{sin}\\phi_{i+1}-\\text{sin}\\phi_{i-1})R_j =-R_j(p_{j+\\frac{1}{2}}-p_{j-\\frac{1}{2}})\\text{cos}\\phi_{i}\\text{sin}\\Delta\\phi$$"
   ]
  },
  {
   "cell_type": "markdown",
   "metadata": {},
   "source": [
    "$$ <\\rho A>_p = \\frac{1}{4}(\\rho_I A_I + \\rho_{II}A_{II} +\\rho_{III}A_{III}+\\rho_{V}A_{V})$$"
   ]
  },
  {
   "cell_type": "markdown",
   "metadata": {},
   "source": [
    "$$A_I = \\frac{1}{2}\\left( (r_{i,j-1} - r_{i+1,j})(z_{i+1,j-1}-z_{i,j})+(r_{i+1,j-1}-r_{i,j})(z_{i+1,j}-z_{i,j-1})\\right) =\\frac{1}{2} \\text{sin}\\Delta \\phi (R_j^2-R_{j-1}^2) $$ "
   ]
  },
  {
   "cell_type": "markdown",
   "metadata": {},
   "source": [
    "$$ <\\rho A>_p = \\frac{1}{4} \\left( \\rho_{j-\\frac{1}{2}}(R_j^2-R_{j-1}^2) + \\rho_{j+\\frac{1}{2}}(R_{j+1}^2-R_{j}^2)\\right)\\text{sin}\\Delta \\phi$$               "
   ]
  },
  {
   "cell_type": "markdown",
   "metadata": {},
   "source": [
    "$$ \\frac{d\\bf{u}_{i,j}}{dt} = \\frac{1}{ <\\rho A>_p}(F_r,R_z) = \\frac{-4R_j(p_{j+\\frac{1}{2}}-p_{j-\\frac{1}{2}})}{ \\rho_{j-\\frac{1}{2}}(R_j^2-R_{j-1}^2) + \\rho_{j+\\frac{1}{2}}(R_{j+1}^2-R_{j}^2)}(\\text{sin}\\phi_i,\\text{cos}\\phi_i)$$"
   ]
  },
  {
   "cell_type": "markdown",
   "metadata": {},
   "source": [
    "## Internal Energy"
   ]
  },
  {
   "cell_type": "markdown",
   "metadata": {},
   "source": [
    "$$ \\rho_{i,j}V_{i,j} \\frac{de_{i,j}}{dt} = \\int  p \\nabla \\cdot {\\bf{u}} r dr dz$$"
   ]
  },
  {
   "cell_type": "markdown",
   "metadata": {},
   "source": [
    "$ u_{i,j} = U_j(t)\\text{sin}\\phi_i$,$ v_{i,j} = U_j(t)\\text{cos}\\phi_i$,"
   ]
  },
  {
   "cell_type": "markdown",
   "metadata": {},
   "source": [
    "$$ \\frac{\\partial u_{i,j}}{\\partial r} = \\frac{1}{2A}\\left( (u_{i,j}-u_{i+1,j+1})(z_{i+1,j}-z_{i,j+1}) +(u_{i+1,j}-u_{i,j+1})(z_{i+1,j+1}-z_{i,j}\\right)$$"
   ]
  },
  {
   "cell_type": "markdown",
   "metadata": {},
   "source": [
    "$$= \\frac{(R_{j+1}U_{j+1}-R_{j}U_{j})\\text{sin}\\Delta\\phi -\\text{cos}(2\\phi+\\Delta\\phi)\\text{sin}\\Delta\\phi(R_jU_{j+1}-R_{j+1}U_j)}{2A}=\\frac{(R_{j+1}U_{j+1}-R_{j}U_{j}) -\\text{cos}(2\\phi+\\Delta\\phi)(R_jU_{j+1}-R_{j+1}U_j)}{R_{j+1}^2-R_{j}^2}$$"
   ]
  },
  {
   "cell_type": "markdown",
   "metadata": {},
   "source": [
    "$$ \\frac{\\partial v_{i,j}}{\\partial z} = -\\frac{1}{2A}\\left( (v_{i,j}-v_{i+1,j+1})(r_{i+1,j}-r_{i,j+1}) +(v_{i+1,j}-v_{i,j+1})(r_{i+1,j+1}-r_{i,j}\\right)\n",
    "=\\frac{(R_{j+1}U_{j+1}-R_{j}U_{j}) +\\text{cos}(2\\phi+\\Delta\\phi)(R_jU_{j+1}-R_{j+1}U_j)}{R_{j+1}^2-R_{j}^2}$$"
   ]
  },
  {
   "cell_type": "markdown",
   "metadata": {},
   "source": [
    "$$ u_c =\\frac{1}{4}( U_j\\text{sin}\\phi+ U_j\\text{sin}(\\phi+\\Delta\\phi)+U_{j+1}\\text{sin}\\phi+U_{j+1}\\text{sin}(\\phi+\\Delta\\phi)) = \\frac{1}{4}(U_j+U_{j+1})[\\text{sin}\\phi+\\text{sin}(\\phi+\\Delta\\phi)]$$"
   ]
  },
  {
   "cell_type": "markdown",
   "metadata": {},
   "source": [
    "$$\\frac{u_c}{r_c} = \\frac{U_j+U_{j+1}}{R_j+R_{j+1}}$$"
   ]
  },
  {
   "cell_type": "markdown",
   "metadata": {},
   "source": [
    "$$ \\frac{\\partial v_{i,j}}{\\partial r} = \\frac{1}{2A}\\left( (v_{i,j}-v_{i+1,j+1})(z_{i+1,j}-z_{i,j+1}) +(v_{i+1,j}-v_{i,j+1})(z_{i+1,j+1}-z_{i,j}\\right)\n",
    "=\\frac{(R_jU_{j+1}-R_{j+1}U_j)\\text{sin}(2\\phi+\\Delta\\phi)}{R_{j+1}^2-R_{j}^2}$$"
   ]
  },
  {
   "cell_type": "markdown",
   "metadata": {},
   "source": [
    "$$ \\frac{\\partial u_{i,j}}{\\partial z} = -\\frac{1}{2A}\\left( (u_{i,j}-u_{i+1,j+1})(r_{i+1,j}-r_{i,j+1}) +(u_{i+1,j}-u_{i,j+1})(r_{i+1,j+1}-r_{i,j}\\right) = \\frac{(R_jU_{j+1}-R_{j+1}U_j)\\text{sin}(2\\phi+\\Delta\\phi)}{R_{j+1}^2-R_{j}^2}$$"
   ]
  },
  {
   "cell_type": "markdown",
   "metadata": {},
   "source": [
    "## Hourglass viscosity"
   ]
  },
  {
   "cell_type": "markdown",
   "metadata": {},
   "source": [
    "$$ \\text{hg}_x = u_1 -u_2 + u_3 - u_4$$ \n",
    "$$ \\text{hg}_x = v_1 -v_2 + v_3 - v_4$$ \n",
    "\n",
    "$$ e_{1x} = -\\frac{1}{4}q\\rho c\\sqrt{A}\\text{hg}_x $$\n",
    "$$ e_{1y} = -\\frac{1}{4}q\\rho c\\sqrt{A}\\text{hg}_y $$\n",
    "\n",
    "$$ e_{2x} = \\frac{1}{4}q\\rho c\\sqrt{A}\\text{hg}_x $$\n",
    "$$ e_{2y} = \\frac{1}{4}q\\rho c\\sqrt{A}\\text{hg}_y $$\n",
    "\n",
    "$$ e_{3x} = -\\frac{1}{4}q\\rho c\\sqrt{A}\\text{hg}_x $$\n",
    "$$ e_{3y} = -\\frac{1}{4}q\\rho c\\sqrt{A}\\text{hg}_y $$\n",
    "\n",
    "$$ e_{4x} = \\frac{1}{4}q\\rho c\\sqrt{A}\\text{hg}_x $$\n",
    "$$ e_{4y} = \\frac{1}{4}q\\rho c\\sqrt{A}\\text{hg}_y $$"
   ]
  },
  {
   "cell_type": "markdown",
   "metadata": {},
   "source": [
    "$$ hg_x = (U_j-U_{j+1})\\left(\\text{sin}(\\phi+\\Delta \\phi)-\\text{sin}(\\phi)\\right)$$"
   ]
  },
  {
   "cell_type": "markdown",
   "metadata": {},
   "source": [
    "### Cell I $[i,j]-[i+1,j]-[i+1,j+1]-[i,j+1]$: \n",
    "$$\\text{hg}_x = U_j\\text{sin}\\phi-U_j\\text{sin}(\\phi+\\Delta \\phi)+U_{j+1}\\text{sin}(\\phi+\\Delta\\phi)-U_{j+1}\\text{sin}\\phi  = (U_{j+1}-U_{j})\\left(\\text{sin}(\\phi+\\Delta \\phi)-\\text{sin}(\\phi)\\right)$$"
   ]
  },
  {
   "cell_type": "markdown",
   "metadata": {},
   "source": [
    "### Cell V $[i-1,j]-[i,j]-[i,j+1]-[i-1,j+1]$: "
   ]
  },
  {
   "cell_type": "markdown",
   "metadata": {},
   "source": [
    "$$\\text{hg}_x = U_j\\text{sin}(\\phi-\\Delta\\phi)-U_j\\text{sin}(\\phi)+U_{j+1}\\text{sin}(\\phi)-U_{j+1}\\text{sin}(\\phi-\\Delta\\phi)  = (U_{j+1}-U_{j})\\left(\\text{sin}(\\phi)-\\text{sin}(\\phi-\\Delta\\phi)\\right)$$"
   ]
  },
  {
   "cell_type": "markdown",
   "metadata": {},
   "source": [
    "$$ e_{2x}^V + e_{1x}^I = (U_{j+1}-U_{j})\\left(2\\text{sin}(\\phi)-\\text{sin}(\\phi-\\Delta\\phi) +\\text{sin}(\\phi+\\Delta \\phi)\\right)$$"
   ]
  },
  {
   "cell_type": "markdown",
   "metadata": {},
   "source": [
    "$$ f_{i,j} = -q\\rho_{j+\\frac{1}{2}}c_{j+\\frac{1}{2}}\\sqrt{\\frac{1}{2}(R_{j+1}^2-R_j^2)\\text{sin}\\Delta\\theta} [\\text{sin}(\\phi+\\Delta \\phi)+\\text{sin}(\\phi-\\Delta \\phi)-2\\text{sin}(\\phi)] + q\\rho_{j-\\frac{1}{2}}c_{j-\\frac{1}{2}}\\sqrt{\\frac{1}{2}(R_{j}^2-R_{j-1}^2)\\text{sin}\\Delta\\theta} [\\text{sin}(\\phi+\\Delta \\phi)+\\text{sin}(\\phi-\\Delta \\phi)-2\\text{sin}(\\phi)]$$ "
   ]
  },
  {
   "cell_type": "markdown",
   "metadata": {},
   "source": [
    "## A new hourglass "
   ]
  },
  {
   "cell_type": "markdown",
   "metadata": {},
   "source": [
    "$$\\text{hg}_x = (u_1+u_3)(r_2+r_4)-(u_2+u_4)(r_1+r_3)$$\n",
    "$$\\text{hg}_y = (v_1+v_3)(z_2+z_4)-(v_2+v_4)(z_1+z_3)$$"
   ]
  },
  {
   "cell_type": "markdown",
   "metadata": {},
   "source": [
    "$$ e_{1x} = -\\frac{1}{4}q\\rho c\\text{hg}_x $$\n",
    "$$ e_{1y} = -\\frac{1}{4}q\\rho c\\text{hg}_y $$\n",
    "\n",
    "$$ e_{2x} = \\frac{1}{4}q\\rho c\\text{hg}_x $$\n",
    "$$ e_{2y} = \\frac{1}{4}q\\rho c\\text{hg}_y $$\n",
    "\n",
    "$$ e_{3x} = -\\frac{1}{4}q\\rho c\\text{hg}_x $$\n",
    "$$ e_{3y} = -\\frac{1}{4}q\\rho c\\text{hg}_y $$\n",
    "\n",
    "$$ e_{4x} = \\frac{1}{4}q\\rho c\\text{hg}_x $$\n",
    "$$ e_{4y} = \\frac{1}{4}q\\rho c\\text{hg}_y $$"
   ]
  },
  {
   "cell_type": "markdown",
   "metadata": {},
   "source": [
    "### Cell I $[i,j]-[i+1,j]-[i+1,j+1]-[i,j+1]$: \n",
    "$$\\text{hg}_x = (U_j\\text{sin}\\phi+U_{j+1}\\text{sin}(\\phi+\\Delta\\phi))(R_j\\text{sin}(\\phi+\\Delta\\phi)+R_{j+1}\\text{sin}\\phi)-(U_{j+1}\\text{sin}\\phi +U_j\\text{sin}(\\phi+\\Delta \\phi))(R_{j+1}\\text{sin}(\\phi+\\Delta\\phi)+R_{j}\\text{sin}\\phi)$$"
   ]
  },
  {
   "cell_type": "markdown",
   "metadata": {},
   "source": [
    "$$ = -(U_jR_{j+1}-U_{j+1}R_j)(\\text{sin}^2(\\phi+\\Delta \\phi)-\\text{sin}^2\\phi)$$"
   ]
  },
  {
   "cell_type": "markdown",
   "metadata": {},
   "source": [
    "### Cell V $[i-1,j]-[i,j]-[i,j+1]-[i-1,j+1]$: \n",
    "$$\\text{hg}_x = (U_j\\text{sin}(\\phi-\\Delta\\phi)+U_{j+1}\\text{sin}\\phi)(R_j\\text{sin}\\phi+R_{j+1}\\text{sin}(\\phi-\\Delta\\phi))-(U_{j+1}\\text{sin}(\\phi-\\Delta\\phi)+U_{j}\\text{sin}\\phi)(R_{j+1}\\text{sin}\\phi+R_{j}\\text{sin}(\\phi-\\Delta\\phi))$$"
   ]
  },
  {
   "cell_type": "markdown",
   "metadata": {},
   "source": [
    "$$ = (U_jR_{j+1}-U_{j+1}R_j)(\\text{sin}^2(\\phi-\\Delta\\phi)-\\text{sin}^2\\phi)$$"
   ]
  },
  {
   "cell_type": "markdown",
   "metadata": {},
   "source": []
  },
  {
   "cell_type": "code",
   "execution_count": 43,
   "metadata": {},
   "outputs": [
    {
     "data": {
      "text/plain": [
       "(U_1, U_2, R_1, R_2, ϕ_1, δϕ, a, b, c, d)"
      ]
     },
     "execution_count": 43,
     "metadata": {},
     "output_type": "execute_result"
    }
   ],
   "source": [
    "@vars U_1 U_2 R_1 R_2 ϕ_1 δϕ a b c d"
   ]
  },
  {
   "cell_type": "code",
   "execution_count": 99,
   "metadata": {},
   "outputs": [
    {
     "data": {
      "text/latex": [
       "\\begin{equation*}\\left(- R_{1} \\sin{\\left (ϕ \\right )} + R_{2} \\sin{\\left (δϕ + ϕ \\right )}\\right) \\left(U_{1} \\sin{\\left (δϕ + ϕ \\right )} - U_{2} \\sin{\\left (ϕ \\right )}\\right) + \\left(R_{1} \\sin{\\left (δϕ + ϕ \\right )} - R_{2} \\sin{\\left (ϕ \\right )}\\right) \\left(U_{1} \\sin{\\left (ϕ \\right )} - U_{2} \\sin{\\left (δϕ + ϕ \\right )}\\right)\\end{equation*}"
      ],
      "text/plain": [
       "(-R₁⋅sin(ϕ) + R₂⋅sin(δϕ + ϕ))⋅(U₁⋅sin(δϕ + ϕ) - U₂⋅sin(ϕ)) + (R₁⋅sin(δϕ + ϕ) -\n",
       " R₂⋅sin(ϕ))⋅(U₁⋅sin(ϕ) - U₂⋅sin(δϕ + ϕ))"
      ]
     },
     "execution_count": 99,
     "metadata": {},
     "output_type": "execute_result"
    }
   ],
   "source": [
    "f =(U_1*sin(ϕ) -U_2*sin(ϕ+δϕ)) *(R_1*sin(ϕ+δϕ)-R_2*sin(ϕ))+(U_1*sin(ϕ+δϕ) -U_2*sin(ϕ)) *(R_2*sin(ϕ+δϕ)-R_1*sin(ϕ))"
   ]
  },
  {
   "cell_type": "code",
   "execution_count": 42,
   "metadata": {},
   "outputs": [
    {
     "data": {
      "text/latex": [
       "\\begin{equation*}- \\left(R_{1} \\cos{\\left (ϕ \\right )} - R_{2} \\cos{\\left (δϕ + ϕ \\right )}\\right) \\left(U_{1} \\sin{\\left (δϕ + ϕ \\right )} - U_{2} \\sin{\\left (ϕ \\right )}\\right) + \\left(R_{1} \\cos{\\left (δϕ + ϕ \\right )} - R_{2} \\cos{\\left (ϕ \\right )}\\right) \\left(U_{1} \\sin{\\left (ϕ \\right )} - U_{2} \\sin{\\left (δϕ + ϕ \\right )}\\right)\\end{equation*}"
      ],
      "text/plain": [
       "-(R₁⋅cos(ϕ) - R₂⋅cos(δϕ + ϕ))⋅(U₁⋅sin(δϕ + ϕ) - U₂⋅sin(ϕ)) + (R₁⋅cos(δϕ + ϕ) -\n",
       " R₂⋅cos(ϕ))⋅(U₁⋅sin(ϕ) - U₂⋅sin(δϕ + ϕ))"
      ]
     },
     "execution_count": 42,
     "metadata": {},
     "output_type": "execute_result"
    }
   ],
   "source": [
    "simplify(f)"
   ]
  },
  {
   "cell_type": "code",
   "execution_count": 92,
   "metadata": {},
   "outputs": [
    {
     "data": {
      "text/latex": [
       "\\begin{equation*}- \\left(R_{1} b - R_{2} \\left(a d + b c\\right)\\right) \\left(U_{1} \\left(a d + b c\\right) - U_{2} b\\right) + \\left(R_{1} \\left(a d + b c\\right) - R_{2} b\\right) \\left(U_{1} b - U_{2} \\left(a d + b c\\right)\\right)\\end{equation*}"
      ],
      "text/plain": [
       "-(R₁⋅b - R₂⋅(a⋅d + b⋅c))⋅(U₁⋅(a⋅d + b⋅c) - U₂⋅b) + (R₁⋅(a⋅d + b⋅c) - R₂⋅b)⋅(U₁\n",
       "⋅b - U₂⋅(a⋅d + b⋅c))"
      ]
     },
     "execution_count": 92,
     "metadata": {},
     "output_type": "execute_result"
    }
   ],
   "source": [
    "f =simplify((U_1*b -U_2*(a*d+b*c)) *(R_1*(a*d+b*c)-R_2*b)+(U_1*(a*d+b*c) -U_2*b) *(R_2*(a*d+b*c)-R_1*b))"
   ]
  },
  {
   "cell_type": "code",
   "execution_count": 96,
   "metadata": {},
   "outputs": [
    {
     "data": {
      "text/latex": [
       "\\begin{equation*}R_{2} U_{1} \\left(- b^{2} + \\left(a d + b c\\right)^{2}\\right)\\end{equation*}"
      ],
      "text/plain": [
       "      ⎛   2              2⎞\n",
       "R₂⋅U₁⋅⎝- b  + (a⋅d + b⋅c) ⎠"
      ]
     },
     "execution_count": 96,
     "metadata": {},
     "output_type": "execute_result"
    }
   ],
   "source": [
    "simplify(f(R_1=>0,U_2=>0))"
   ]
  },
  {
   "cell_type": "code",
   "execution_count": 116,
   "metadata": {},
   "outputs": [
    {
     "data": {
      "text/latex": [
       "\\begin{equation*}R_{1} U_{2} \\sin^{2}{\\left (ϕ \\right )} - R_{1} U_{2} \\sin^{2}{\\left (δϕ + ϕ \\right )} - R_{2} U_{1} \\sin^{2}{\\left (ϕ \\right )} + R_{2} U_{1} \\sin^{2}{\\left (δϕ + ϕ \\right )}\\end{equation*}"
      ],
      "text/plain": [
       "         2               2                    2               2        \n",
       "R₁⋅U₂⋅sin (ϕ) - R₁⋅U₂⋅sin (δϕ + ϕ) - R₂⋅U₁⋅sin (ϕ) + R₂⋅U₁⋅sin (δϕ + ϕ)"
      ]
     },
     "execution_count": 116,
     "metadata": {},
     "output_type": "execute_result"
    }
   ],
   "source": [
    "f=sympy.trigsimp(sympy.trigsimp(f))"
   ]
  },
  {
   "cell_type": "code",
   "execution_count": 109,
   "metadata": {},
   "outputs": [
    {
     "name": "stdout",
     "output_type": "stream",
     "text": [
      "search: \u001b[0m\u001b[1ms\u001b[22m\u001b[0m\u001b[1my\u001b[22m\u001b[0m\u001b[1mm\u001b[22m\u001b[0m\u001b[1mp\u001b[22m\u001b[0m\u001b[1mi\u001b[22m\u001b[0m\u001b[1mf\u001b[22m\u001b[0m\u001b[1my\u001b[22m \u001b[0m\u001b[1ms\u001b[22m\u001b[0m\u001b[1my\u001b[22m\u001b[0m\u001b[1mm\u001b[22m\u001b[0m\u001b[1mp\u001b[22my_plott\u001b[0m\u001b[1mi\u001b[22mng \u001b[0m\u001b[1mS\u001b[22m\u001b[0m\u001b[1my\u001b[22m\u001b[0m\u001b[1mm\u001b[22m\u001b[0m\u001b[1mP\u001b[22mermutat\u001b[0m\u001b[1mi\u001b[22mon \u001b[0m\u001b[1mS\u001b[22m\u001b[0m\u001b[1my\u001b[22m\u001b[0m\u001b[1mm\u001b[22m\u001b[0m\u001b[1mP\u001b[22mermutat\u001b[0m\u001b[1mi\u001b[22monGroup\n",
      "\n"
     ]
    },
    {
     "data": {
      "text/latex": [
       "No documentation found.\n",
       "\n",
       "\\texttt{SymPy.sympify} is a \\texttt{Function}.\n",
       "\n",
       "\\begin{verbatim}\n",
       "# 1 method for generic function \"sympify\":\n",
       "[1] sympify(s, args...; kwargs...) in SymPy at /home/bfly/.juliapro/JuliaPro_v1.1.1.1/packages/SymPy/uBeIy/src/constructors.jl:85\n",
       "\\end{verbatim}\n"
      ],
      "text/markdown": [
       "No documentation found.\n",
       "\n",
       "`SymPy.sympify` is a `Function`.\n",
       "\n",
       "```\n",
       "# 1 method for generic function \"sympify\":\n",
       "[1] sympify(s, args...; kwargs...) in SymPy at /home/bfly/.juliapro/JuliaPro_v1.1.1.1/packages/SymPy/uBeIy/src/constructors.jl:85\n",
       "```\n"
      ],
      "text/plain": [
       "  No documentation found.\n",
       "\n",
       "  \u001b[36mSymPy.sympify\u001b[39m is a \u001b[36mFunction\u001b[39m.\n",
       "\n",
       "\u001b[36m  # 1 method for generic function \"sympify\":\u001b[39m\n",
       "\u001b[36m  [1] sympify(s, args...; kwargs...) in SymPy at /home/bfly/.juliapro/JuliaPro_v1.1.1.1/packages/SymPy/uBeIy/src/constructors.jl:85\u001b[39m"
      ]
     },
     "execution_count": 109,
     "metadata": {},
     "output_type": "execute_result"
    }
   ],
   "source": [
    "? sympify"
   ]
  },
  {
   "cell_type": "code",
   "execution_count": 112,
   "metadata": {},
   "outputs": [],
   "source": [
    "using PyCall"
   ]
  },
  {
   "cell_type": "code",
   "execution_count": 121,
   "metadata": {},
   "outputs": [
    {
     "data": {
      "text/latex": [
       "\\begin{equation*}R_{1} U_{2} \\sin^{2}{\\left (ϕ \\right )} - R_{1} U_{2} \\sin^{2}{\\left (δϕ + ϕ \\right )} - R_{2} U_{1} \\sin^{2}{\\left (ϕ \\right )} + R_{2} U_{1} \\sin^{2}{\\left (δϕ + ϕ \\right )}\\end{equation*}"
      ],
      "text/plain": [
       "         2               2                    2               2        \n",
       "R₁⋅U₂⋅sin (ϕ) - R₁⋅U₂⋅sin (δϕ + ϕ) - R₂⋅U₁⋅sin (ϕ) + R₂⋅U₁⋅sin (δϕ + ϕ)"
      ]
     },
     "execution_count": 121,
     "metadata": {},
     "output_type": "execute_result"
    }
   ],
   "source": [
    "sympy.trigsimp(sympy.expand_trig(f))"
   ]
  },
  {
   "cell_type": "code",
   "execution_count": null,
   "metadata": {},
   "outputs": [],
   "source": [
    "b = sin(ϕ) a=cos(ϕ) c=cos(δϕ) d= sin(δϕ)\n"
   ]
  },
  {
   "cell_type": "code",
   "execution_count": 153,
   "metadata": {},
   "outputs": [
    {
     "data": {
      "text/latex": [
       "\\begin{equation*}- \\sin{\\left (a \\right )} + \\sin{\\left (a + b \\right )}\\end{equation*}"
      ],
      "text/plain": [
       "-sin(a) + sin(a + b)"
      ]
     },
     "execution_count": 153,
     "metadata": {},
     "output_type": "execute_result"
    }
   ],
   "source": [
    "f=(sin(a+b)-sin(a))#+(sin(a-b)-sin(a))"
   ]
  },
  {
   "cell_type": "code",
   "execution_count": 154,
   "metadata": {},
   "outputs": [
    {
     "data": {
      "text/latex": [
       "\\begin{equation*}- \\sin{\\left (a \\right )} + \\sin{\\left (a + b \\right )}\\end{equation*}"
      ],
      "text/plain": [
       "-sin(a) + sin(a + b)"
      ]
     },
     "execution_count": 154,
     "metadata": {},
     "output_type": "execute_result"
    }
   ],
   "source": [
    "simplify(f)"
   ]
  },
  {
   "cell_type": "code",
   "execution_count": 151,
   "metadata": {},
   "outputs": [
    {
     "data": {
      "text/latex": [
       "\\begin{equation*}- \\sin{\\left (a - b \\right )} + \\sin{\\left (a + b \\right )}\\end{equation*}"
      ],
      "text/plain": [
       "-sin(a - b) + sin(a + b)"
      ]
     },
     "execution_count": 151,
     "metadata": {},
     "output_type": "execute_result"
    }
   ],
   "source": [
    "f=(sin(a+b)+sin(a))-(sin(a-b)+sin(a))"
   ]
  },
  {
   "cell_type": "code",
   "execution_count": 167,
   "metadata": {},
   "outputs": [
    {
     "data": {
      "text/latex": [
       "\\begin{equation*}- \\left(- \\sin{\\left (a \\right )} + \\sin{\\left (a - b \\right )}\\right)^{2} \\left(- \\cos{\\left (a \\right )} + \\cos{\\left (a - b \\right )}\\right) + \\left(- \\sin{\\left (a \\right )} + \\sin{\\left (a + b \\right )}\\right)^{2} \\left(- \\cos{\\left (a \\right )} + \\cos{\\left (a + b \\right )}\\right)\\end{equation*}"
      ],
      "text/plain": [
       "                        2                                                2    \n",
       "- (-sin(a) + sin(a - b)) ⋅(-cos(a) + cos(a - b)) + (-sin(a) + sin(a + b)) ⋅(-c\n",
       "\n",
       "                   \n",
       "os(a) + cos(a + b))"
      ]
     },
     "execution_count": 167,
     "metadata": {},
     "output_type": "execute_result"
    }
   ],
   "source": [
    "sympy.trigsimp(f)"
   ]
  },
  {
   "cell_type": "code",
   "execution_count": 165,
   "metadata": {},
   "outputs": [
    {
     "data": {
      "text/latex": [
       "\\begin{equation*}- \\left(- \\sin{\\left (a \\right )} + \\sin{\\left (a - b \\right )}\\right)^{2} \\left(- \\cos{\\left (a \\right )} + \\cos{\\left (a - b \\right )}\\right) + \\left(- \\sin{\\left (a \\right )} + \\sin{\\left (a + b \\right )}\\right)^{2} \\left(- \\cos{\\left (a \\right )} + \\cos{\\left (a + b \\right )}\\right)\\end{equation*}"
      ],
      "text/plain": [
       "                        2                                                2    \n",
       "- (-sin(a) + sin(a - b)) ⋅(-cos(a) + cos(a - b)) + (-sin(a) + sin(a + b)) ⋅(-c\n",
       "\n",
       "                   \n",
       "os(a) + cos(a + b))"
      ]
     },
     "execution_count": 165,
     "metadata": {},
     "output_type": "execute_result"
    }
   ],
   "source": [
    "f= (sin(a+b)-sin(a))*(cos(a+b)-cos(a))*(sin(a+b)-sin(a))-(sin(a-b)-sin(a))*(cos(a-b)-cos(a))*(sin(a-b)-sin(a))"
   ]
  },
  {
   "cell_type": "code",
   "execution_count": 169,
   "metadata": {},
   "outputs": [
    {
     "data": {
      "text/latex": [
       "\\begin{equation*}2 \\sin{\\left (b \\right )} \\cos{\\left (a \\right )}\\end{equation*}"
      ],
      "text/plain": [
       "2⋅sin(b)⋅cos(a)"
      ]
     },
     "execution_count": 169,
     "metadata": {},
     "output_type": "execute_result"
    }
   ],
   "source": [
    "simplify(sin(a+b) - sin(a-b))"
   ]
  },
  {
   "cell_type": "code",
   "execution_count": 171,
   "metadata": {},
   "outputs": [
    {
     "data": {
      "text/plain": [
       "(U1, U2, R1, R2)"
      ]
     },
     "execution_count": 171,
     "metadata": {},
     "output_type": "execute_result"
    }
   ],
   "source": [
    "@vars U1 U2 R1 R2"
   ]
  },
  {
   "cell_type": "code",
   "execution_count": 174,
   "metadata": {},
   "outputs": [
    {
     "data": {
      "text/latex": [
       "\\begin{equation*}- R_{1} U_{1} \\sin{\\left (a \\right )} \\sin{\\left (a - b \\right )} + R_{1} U_{1} \\sin{\\left (a \\right )} \\sin{\\left (a + b \\right )} - R_{1} U_{2} \\sin^{2}{\\left (a \\right )} + R_{1} U_{2} \\sin^{2}{\\left (a - b \\right )} + R_{2} U_{1} \\sin^{2}{\\left (a \\right )} - R_{2} U_{1} \\sin^{2}{\\left (a + b \\right )} - R_{2} U_{2} \\sin{\\left (a \\right )} \\sin{\\left (a - b \\right )} + R_{2} U_{2} \\sin{\\left (a \\right )} \\sin{\\left (a + b \\right )}\\end{equation*}"
      ],
      "text/plain": [
       "                                                              2               \n",
       "-R₁⋅U₁⋅sin(a)⋅sin(a - b) + R₁⋅U₁⋅sin(a)⋅sin(a + b) - R₁⋅U₂⋅sin (a) + R₁⋅U₂⋅sin\n",
       "\n",
       "2                   2               2                                         \n",
       " (a - b) + R₂⋅U₁⋅sin (a) - R₂⋅U₁⋅sin (a + b) - R₂⋅U₂⋅sin(a)⋅sin(a - b) + R₂⋅U₂\n",
       "\n",
       "                  \n",
       "⋅sin(a)⋅sin(a + b)"
      ]
     },
     "execution_count": 174,
     "metadata": {},
     "output_type": "execute_result"
    }
   ],
   "source": [
    "f=U1*sin(a)*R1*sin(a+b)-U1*sin(a+b)*R2*sin(a+b)+U2*sin(a+b)*R2*sin(a)-U2*sin(a)*R1*sin(a)+U1*sin(a)*R2*sin(a)-U2*sin(a)*R2*sin(a-b)+U2*sin(a-b)*R1*sin(a-b)-U1*sin(a-b)*R1*sin(a)"
   ]
  },
  {
   "cell_type": "code",
   "execution_count": 176,
   "metadata": {},
   "outputs": [
    {
     "data": {
      "text/latex": [
       "\\begin{equation*}- R_{1} U_{1} \\sin{\\left (a \\right )} \\sin{\\left (a - b \\right )} + R_{1} U_{1} \\sin{\\left (a \\right )} \\sin{\\left (a + b \\right )} - R_{1} U_{2} \\sin^{2}{\\left (a \\right )} + R_{1} U_{2} \\sin^{2}{\\left (a - b \\right )} + R_{2} U_{1} \\sin^{2}{\\left (a \\right )} - R_{2} U_{1} \\sin^{2}{\\left (a + b \\right )} - R_{2} U_{2} \\sin{\\left (a \\right )} \\sin{\\left (a - b \\right )} + R_{2} U_{2} \\sin{\\left (a \\right )} \\sin{\\left (a + b \\right )}\\end{equation*}"
      ],
      "text/plain": [
       "                                                              2               \n",
       "-R₁⋅U₁⋅sin(a)⋅sin(a - b) + R₁⋅U₁⋅sin(a)⋅sin(a + b) - R₁⋅U₂⋅sin (a) + R₁⋅U₂⋅sin\n",
       "\n",
       "2                   2               2                                         \n",
       " (a - b) + R₂⋅U₁⋅sin (a) - R₂⋅U₁⋅sin (a + b) - R₂⋅U₂⋅sin(a)⋅sin(a - b) + R₂⋅U₂\n",
       "\n",
       "                  \n",
       "⋅sin(a)⋅sin(a + b)"
      ]
     },
     "execution_count": 176,
     "metadata": {},
     "output_type": "execute_result"
    }
   ],
   "source": [
    "sympy.trigsimp(f)"
   ]
  },
  {
   "cell_type": "code",
   "execution_count": null,
   "metadata": {},
   "outputs": [],
   "source": []
  },
  {
   "cell_type": "markdown",
   "metadata": {},
   "source": [
    "## Cylindrical "
   ]
  },
  {
   "cell_type": "markdown",
   "metadata": {},
   "source": [
    "\\begin{equation}\n",
    "  \\begin{array}{l}\n",
    "\t\\displaystyle \\rho \\frac{du}{dt}=\\frac{\\partial \\sigma _{rr}}{\\partial r}+ \\frac{\\partial s_{rz}}{\\partial z} + \\frac{\\sigma_{rr}-\\sigma_{\\theta \\theta}}{r} \\\\\n",
    "  \\displaystyle \\rho \\frac{dv}{dt}=\\frac{\\partial \\sigma _{zz}}{\\partial z}+ \\frac{\\partial s_{rz}}{\\partial r} + \\frac{s_{rz}}{r}\\\\\n",
    "  \\end{array}\n",
    "  \\end{equation}"
   ]
  },
  {
   "cell_type": "markdown",
   "metadata": {},
   "source": [
    " $$ F_r(i,j) =\\frac{\\partial p}{\\partial r} + \\frac{\\partial s _{rr}}{\\partial r}+ \\frac{\\partial s_{rz}}{\\partial z} + \\frac{s_{rr}-s_{\\theta \\theta}}{r} $$"
   ]
  },
  {
   "cell_type": "code",
   "execution_count": null,
   "metadata": {},
   "outputs": [],
   "source": [
    "\\frac{1}{2}\\left( p_I(z_{i,j-1}-z_{i+1,j}) + p_V(z_{i-1,j}- z_{i,j-1}) +p_{III}(z_{i,j+1}-z_{i-1,j})+p_{II}(z_{i+1,j}-z_{i,j+1}) \\right)"
   ]
  },
  {
   "cell_type": "markdown",
   "metadata": {},
   "source": [
    "### In  local r-z coordinate:\n",
    "$$ S_{rz\\theta} = \\left(\\begin{array}{lll}\n",
    "    s_{rr}& s_{zr} & \\\\\n",
    "    s_{zr}& s_{zz} &\\\\\n",
    "    & & s_{\\theta\\theta}\\\\\n",
    "    \\end{array}\\right)\n",
    "    $$\n",
    "    \n",
    "### In the spherically  $\\xi$-$\\eta$ coordinate\n",
    "\n",
    "$$ S_{\\xi\\eta\\theta} = \\left(\\begin{array}{lll}\n",
    "    s_{\\xi\\xi}&  & \\\\\n",
    "    & s_{\\eta\\eta} &\\\\\n",
    "    & & s_{\\theta\\theta}\\\\\n",
    "    \\end{array}\\right)\n",
    "    $$"
   ]
  },
  {
   "cell_type": "markdown",
   "metadata": {},
   "source": [
    "## From one coordinate tranform to another coordinate "
   ]
  },
  {
   "cell_type": "markdown",
   "metadata": {},
   "source": [
    "<img src=\"coord.png\" width = \"400\" height = \"400\" div align=center /> "
   ]
  },
  {
   "cell_type": "markdown",
   "metadata": {},
   "source": [
    "$$ R =  \\left(\\begin{array}{lll}\n",
    "   \\text{sin}\\psi& \\text{cos}\\psi & \\\\\n",
    "   -\\text{cos}\\psi&  \\text{sin}\\psi &\\\\\n",
    "    & & 1\\\\\n",
    "    \\end{array}\\right)\n",
    "    $$"
   ]
  },
  {
   "cell_type": "markdown",
   "metadata": {},
   "source": [
    "$$ S_{rz\\theta} = RS_{\\xi\\eta\\theta}R^T$$"
   ]
  },
  {
   "cell_type": "markdown",
   "metadata": {},
   "source": [
    "$$ \\left(\\begin{array}{lll}\n",
    "    s_{rr}& s_{zr} & \\\\\n",
    "    s_{zr}& s_{zz} &\\\\\n",
    "    & & s_{\\theta\\theta}\\\\\n",
    "    \\end{array}\\right) =  \\left(\\begin{array}{lll}\n",
    "    s_{\\xi\\xi}\\text{sin}^2\\psi + s_{\\eta\\eta}\\text{cos}^2\\psi & (s_{\\eta\\eta}-s_{\\xi\\xi})\\text{sin}\\psi\\text{cos}\\psi & \\\\\n",
    "    (s_{\\eta\\eta}-s_{\\xi\\xi})\\text{sin}\\psi\\text{cos}\\psi& s_{\\xi\\xi}\\text{cos}^2\\psi + s_{\\eta\\eta}\\text{sin}^2\\psi &\\\\\n",
    "    & & s_{\\theta\\theta}\\\\\n",
    "    \\end{array}\\right) $$"
   ]
  },
  {
   "cell_type": "markdown",
   "metadata": {},
   "source": [
    "<img src=\"Cellij.png\" width = \"400\" height = \"400\" div align=center /> "
   ]
  },
  {
   "cell_type": "markdown",
   "metadata": {},
   "source": [
    "$$ S_{rz\\theta} = R(\\phi)S_{\\xi\\eta\\theta}R(\\phi)^T$$"
   ]
  },
  {
   "cell_type": "markdown",
   "metadata": {},
   "source": [
    "$$n_{{\\circled{1}}}$$ 方向角为 "
   ]
  },
  {
   "cell_type": "markdown",
   "metadata": {},
   "source": [
    "$\\circled{1}$"
   ]
  },
  {
   "cell_type": "code",
   "execution_count": null,
   "metadata": {},
   "outputs": [],
   "source": []
  }
 ],
 "metadata": {
  "@webio": {
   "lastCommId": null,
   "lastKernelId": null
  },
  "kernelspec": {
   "display_name": "Julia 1.1.1",
   "language": "julia",
   "name": "julia-1.1"
  },
  "language_info": {
   "file_extension": ".jl",
   "mimetype": "application/julia",
   "name": "julia",
   "version": "1.1.1"
  }
 },
 "nbformat": 4,
 "nbformat_minor": 2
}
