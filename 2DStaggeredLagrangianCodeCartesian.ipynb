{
 "cells": [
  {
   "cell_type": "markdown",
   "metadata": {},
   "source": [
    "#  Code for 2D staggered Lagrangian method in Cartersian coordinates"
   ]
  },
  {
   "cell_type": "markdown",
   "metadata": {},
   "source": [
    "## Control equations"
   ]
  },
  {
   "cell_type": "markdown",
   "metadata": {},
   "source": [
    "### Momentum equation\n",
    "\n",
    "$$\\tag{1.1}\\rho \\frac{d\\mathbf{v}}{dt} =  -\\nabla p $$ \n",
    "where $\\mathbf{v}$ is the vector of velocity, and $\\rho$ is the density and $p$ is the pressure.  "
   ]
  },
  {
   "cell_type": "markdown",
   "metadata": {},
   "source": [
    "### Energy equation\n",
    "\n",
    "$$ \\rho \\frac{dE}{dt} = -\\nabla \\cdot (p\\mathbf{v})$$ \n",
    "\n",
    "where $E$ is the specific total energy and it has a realtion with the specific internal energy \n",
    "$$E = e + \\frac{1}{2}\\mathbf{v}\\cdot\\mathbf{v}$$"
   ]
  },
  {
   "cell_type": "markdown",
   "metadata": {},
   "source": [
    "By (1.1) and (1.2) we have \n",
    "$$\\tag{1.3} \\rho \\frac{de}{dt} = - p\\nabla\\cdot \\mathbf{v}$$"
   ]
  },
  {
   "cell_type": "markdown",
   "metadata": {},
   "source": [
    "In  a Cartersian coordinates $x-y$, The equations (1.1) and (1.3) can be written as\n",
    "$$\\rho \\frac{du}{dt} = -\\frac{\\partial p}{\\partial x},\\quad \\rho \\frac{dv}{dt} = -\\frac{\\partial p}{\\partial y}$$\n",
    "and\n",
    "$$\\rho \\frac{de}{dt} = -p (\\frac{\\partial u}{\\partial x} +\\frac{\\partial v}{\\partial y})$$"
   ]
  },
  {
   "cell_type": "markdown",
   "metadata": {},
   "source": [
    "## Compatible Staggered Discretization"
   ]
  },
  {
   "cell_type": "markdown",
   "metadata": {},
   "source": [
    "<img src=\"Grid.png\" width = \"800\" height = \"400\" div align=center /> "
   ]
  },
  {
   "cell_type": "markdown",
   "metadata": {},
   "source": [
    "<img src=\"cellpoint.png\" width = \"800\" height = \"400\" div align=center />"
   ]
  },
  {
   "cell_type": "markdown",
   "metadata": {},
   "source": [
    "### Quatities:\n",
    "\n",
    "On point: ($x_p$,$y_p$), ($u_p$,$v_p$)\n",
    "\n",
    "Zonal:  $V_z$, $\\rho_z$, $m_z$, $e_z$, $p_z$"
   ]
  },
  {
   "cell_type": "markdown",
   "metadata": {},
   "source": [
    "By the relation \n",
    "$$\\frac{dm_z}{dt} =0$$\n",
    "we have \n",
    "$$\\rho_z(t) = m_z/V_z(t)$$"
   ]
  },
  {
   "cell_type": "markdown",
   "metadata": {},
   "source": [
    "Also \n",
    "$$d(x_p)/dt = u_p, \\quad d(y_p)/dt = v_p$$"
   ]
  },
  {
   "cell_type": "markdown",
   "metadata": {},
   "source": [
    "### Point mass "
   ]
  },
  {
   "cell_type": "markdown",
   "metadata": {},
   "source": [
    "Point mass $m_p$ is used to solve point momentum $\\mu_p = m_p \\bf{u}_p$ and kinetic energy $K_p = m_p \\frac{\\bf{u}_p^2}{2}$"
   ]
  },
  {
   "cell_type": "markdown",
   "metadata": {},
   "source": [
    "<img src=\"Ins.jpg\" width = \"200\" height = \"400\" div align=center /> "
   ]
  },
  {
   "cell_type": "markdown",
   "metadata": {},
   "source": [
    "$$m_p = \\sum_{z\\in Z(p)} A_z^p \\rho^p_z$$\n",
    "\n",
    "$$\\rho_z(t) = m_z/V_z(t)$$"
   ]
  },
  {
   "cell_type": "markdown",
   "metadata": {},
   "source": []
  },
  {
   "cell_type": "code",
   "execution_count": 179,
   "metadata": {},
   "outputs": [
    {
     "data": {
      "text/plain": [
       "MassAndDens (generic function with 1 method)"
      ]
     },
     "execution_count": 179,
     "metadata": {},
     "output_type": "execute_result"
    }
   ],
   "source": [
    "function MassAndDens(mz::Array{Float64,1},x::Array{Float64,1},y::Array{Float64,1})\n",
    "    \n",
    "    Ic, = size(mz)\n",
    "    Ip, = size(Tc)\n",
    "    Asbz = zeros(Float64,4)\n",
    "    ρ = zeros(Float64,Ic)\n",
    "    mp = zeros(Float64,Ip)\n",
    "    xz = zeros(Float64,4)\n",
    "    yz = zeros(Float64,4)\n",
    "    for i in 1:Ic\n",
    "        xz[1:4] = x[Tp[i,1:4]]\n",
    "        yz[1:4] = y[Tp[i,1:4]]\n",
    "        Asbz = A_z(xz,yz)\n",
    "        Az = sum(Asbz[j] for j in 1:4)\n",
    "        ρ[i] = mz[i]/Az\n",
    "        \n",
    "        for j = 1:4\n",
    "            ip = Tp[i,j]\n",
    "            mp[ip] = mp[ip] + Asbz[j]*ρ[i]\n",
    "        end\n",
    "    end\n",
    "   # @show mp\n",
    "    return ρ,mp\n",
    "    \n",
    "   \n",
    "end           \n",
    "        "
   ]
  },
  {
   "cell_type": "markdown",
   "metadata": {},
   "source": [
    "\n",
    "$$ A_z^1 = \\frac{5A_{41}+5A_{12}+A_{23}+A_{34}}{12}$$\n",
    "$$ A_z^2 = \\frac{A_{41}+5A_{12}+5A_{23}+A_{34}}{12}$$\n",
    "$$ A_z^3 = \\frac{A_{41}+A_{12}+5A_{23}+5A_{34}}{12}$$\n",
    "$$ A_z^4 = \\frac{5A_{41}+A_{12}+A_{23}+5A_{34}}{12}$$"
   ]
  },
  {
   "cell_type": "code",
   "execution_count": 21,
   "metadata": {},
   "outputs": [
    {
     "data": {
      "text/plain": [
       "A_z (generic function with 1 method)"
      ]
     },
     "execution_count": 21,
     "metadata": {},
     "output_type": "execute_result"
    }
   ],
   "source": [
    "function A_z(xz::Array{Float64,1},yz::Array{Float64,1}) \n",
    "    A =zeros(Float64,4)\n",
    "    xc= sum(xz[i] for i in 1:4)/4\n",
    "    yc= sum(yz[i] for i in 1:4)/4\n",
    "    \n",
    "    A41 = Area3(xz[4],xz[1],xc,yz[4],yz[1],yc)\n",
    "    A12 = Area3(xz[1],xz[2],xc,yz[1],yz[2],yc)\n",
    "    A23 = Area3(xz[2],xz[3],xc,yz[2],yz[3],yc)\n",
    "    A34 = Area3(xz[3],xz[4],xc,yz[3],yz[4],yc)\n",
    "\n",
    "    A[1] = (5A41+5A12+A23+A34)/12\n",
    "    A[2] = (A41+5A12+5A23+A34)/12\n",
    "    A[3] = (A41+A12+5A23+5A34)/12\n",
    "    A[4] = (5A41+A12+A23+5A34)/12\n",
    "    \n",
    "    \n",
    "\n",
    "    return A\n",
    "end"
   ]
  },
  {
   "cell_type": "markdown",
   "metadata": {},
   "source": [
    "<img src=\"Ins2.jpg\" width = \"400\" height = \"300\" div align=center />"
   ]
  },
  {
   "cell_type": "code",
   "execution_count": 22,
   "metadata": {},
   "outputs": [
    {
     "data": {
      "text/plain": [
       "F_z (generic function with 1 method)"
      ]
     },
     "execution_count": 22,
     "metadata": {},
     "output_type": "execute_result"
    }
   ],
   "source": [
    "function F_z(x::Array{Float64,1},y::Array{Float64,1},p::Float64)\n",
    "   \n",
    "    Fx = zeros(Float64,4)\n",
    "    Fy = zeros(Float64,4)\n",
    "    \n",
    "    L12 = √((x[2]-x[1])^2+(y[2]-y[1])^2)\n",
    "    n12x = (-y[2]+y[1])/L12\n",
    "    n12y = (x[2]-x[1])/L12\n",
    "    \n",
    "    L41 = √((x[1]-x[4])^2+(y[1]-y[4])^2)\n",
    "    n41x = (-y[1]+y[4])/L41\n",
    "    n41y = (x[1]-x[4])/L41\n",
    "    \n",
    "    L23 = √((x[3]-x[2])^2+(y[3]-y[2])^2)\n",
    "    n23x = (-y[3]+y[2])/L23\n",
    "    n23y = (x[3]-x[2])/L23\n",
    "    \n",
    "    L34 = √((x[4]-x[3])^2+(y[4]-y[3])^2)\n",
    "    n34x = (-y[4]+y[3])/L34\n",
    "    n34y = (x[4]-x[3])/L34\n",
    "    \n",
    "    Fx[1] = p*(L12*n12x+L41*n41x)/2\n",
    "    Fy[1] = p*(L12*n12y+L41*n41y)/2\n",
    "    \n",
    "    Fx[2] = p*(L12*n12x+L23*n23x)/2\n",
    "    Fy[2] = p*(L12*n12y+L23*n23y)/2\n",
    "    \n",
    "    Fx[3] = p*(L23*n23x+L34*n34x)/2\n",
    "    Fy[3] = p*(L23*n23y+L34*n34y)/2\n",
    "    \n",
    "    Fx[4] = p*(L34*n34x+L41*n41x)/2\n",
    "    Fy[4] = p*(L34*n34y+L41*n41y)/2\n",
    "    \n",
    "    return Fx,Fy\n",
    "end           "
   ]
  },
  {
   "cell_type": "markdown",
   "metadata": {},
   "source": [
    "对于单元 \n",
    "$$ m_z \\frac{de_z}{dt} = -\\sum_{z\\in Z(p)} \\bf{f}_z^p \\cdot \\bf{u}_p $$  "
   ]
  },
  {
   "cell_type": "markdown",
   "metadata": {},
   "source": [
    "对于节点\n",
    "$$m_p \\frac{d\\bf{u}_p}{dt} = \\sum_{p\\in P(z)} \\bf{f}_z^p$$"
   ]
  },
  {
   "cell_type": "code",
   "execution_count": 255,
   "metadata": {},
   "outputs": [
    {
     "data": {
      "text/plain": [
       "Rhs (generic function with 1 method)"
      ]
     },
     "execution_count": 255,
     "metadata": {},
     "output_type": "execute_result"
    }
   ],
   "source": [
    "function Rhs(x::Array{Float64,1},y::Array{Float64,1},u::Array{Float64,1},v::Array{Float64,1},p::Array{Float64,1})  #Right hand e\n",
    "    Ic, = size(Tp)\n",
    "    Ip, = size(Tc)\n",
    "    rhsu = zeros(Float64,Ip)\n",
    "    rhsv = zeros(Float64,Ip) \n",
    "    rhse = zeros(Float64,Ic)\n",
    "    xz = zeros(Float64,4)\n",
    "    yz = zeros(Float64,4)\n",
    "    \n",
    "    for i in 1:Ic\n",
    "        for j =1:4\n",
    "            xz[j] = x[Tp[i,j]]\n",
    "            yz[j] = y[Tp[i,j]]\n",
    "        end\n",
    "        Fx,Fy = F_z(xz,yz,p[i])\n",
    "        \n",
    "        ∑=0\n",
    "        for j in 1:4\n",
    "            ip = Tp[i,j]\n",
    "            ∑ = ∑ +u[ip]*Fx[j] + v[ip]*Fy[j]\n",
    "        end\n",
    "        rhse[i] = ∑\n",
    "        \n",
    "        for j = 1:4\n",
    "            ip = Tp[i,j]\n",
    "            rhsu[ip] +=  Fx[j]\n",
    "            rhsv[ip] +=  Fy[j]\n",
    "        end     \n",
    "    end\n",
    "    return rhse, rhsu,rhsv\n",
    "end"
   ]
  },
  {
   "cell_type": "code",
   "execution_count": 253,
   "metadata": {},
   "outputs": [
    {
     "data": {
      "text/plain": [
       "Euler1st (generic function with 1 method)"
      ]
     },
     "execution_count": 253,
     "metadata": {},
     "output_type": "execute_result"
    }
   ],
   "source": [
    "function Euler1st(dt,u,v,x,y,p,mz,ρ,α)\n",
    "    Ip, = size(u)\n",
    "    Ic, = size(p)\n",
    "    \n",
    "    ρ,mp = MassAndDens(mz,x,y)\n",
    "   \n",
    "    \n",
    "    \n",
    "    e = pToe(p, ρ,problem.γ)\n",
    "    \n",
    "    p = artificial_viscosity!(p,ρ,x,y,u,v,α)\n",
    "    \n",
    "    rhse, rhsu,rhsv = Rhs(x,y,u, v, p)\n",
    "    \n",
    "    rhsu,rhsv = Bound(rhsu,rhsv,x,y,u, v, p)\n",
    "    \n",
    "    x  +=  dt*u\n",
    "    y  +=  dt*v\n",
    "    u  += dt*(rhsu ./ mp)\n",
    "    v  += dt*(rhsv ./ mp)\n",
    "    e  += dt*(rhse ./ mz)\n",
    "    \n",
    "\n",
    "    ρ,mp = MassAndDens(mz,x,y)\n",
    "    \n",
    "    p = eTop(e, ρ,problem.γ)\n",
    "    return u,v,x,y,p,ρ\n",
    "end"
   ]
  },
  {
   "cell_type": "code",
   "execution_count": 254,
   "metadata": {},
   "outputs": [
    {
     "name": "stdout",
     "output_type": "stream",
     "text": [
      "0.00042257712736425824\n",
      "0.0008451542547285165\n",
      "0.0012677313820927748\n",
      "0.001690308509457033\n",
      "0.002112885636821291\n",
      "0.0025354627641855495\n",
      "0.002958039891549808\n",
      "0.0033806170189140663\n",
      "0.0038031941462783247\n",
      "0.004225771273642583\n",
      "0.0046483484010068415\n",
      "0.0050709255283711\n",
      "0.005493502655735358\n",
      "0.005916079783099617\n",
      "0.006338656910463875\n",
      "0.0067612340378281335\n",
      "0.007183811165192392\n",
      "0.00760638829255665\n",
      "0.008028965419920908\n",
      "0.008451542547285166\n"
     ]
    }
   ],
   "source": [
    "x,y,u,v,mz,p,ρ,Az,α=InitTest2()\n",
    "u,v,x,y,p,ρ = TimeSolve(u, v, x, y, p, mz,ρ,α)\n",
    "Output(x, y, u, v, p, ρ, mz)"
   ]
  },
  {
   "cell_type": "code",
   "execution_count": 25,
   "metadata": {},
   "outputs": [
    {
     "data": {
      "text/plain": [
       "3-element Array{Float64,1}:\n",
       " 45.0             \n",
       " 26.56505117707799\n",
       " 18.43494882292201"
      ]
     },
     "execution_count": 25,
     "metadata": {},
     "output_type": "execute_result"
    }
   ],
   "source": [
    "acotd.([1,2,3,])\n",
    "#sind(90)"
   ]
  },
  {
   "cell_type": "raw",
   "metadata": {},
   "source": [
    "100/0"
   ]
  },
  {
   "cell_type": "code",
   "execution_count": 242,
   "metadata": {},
   "outputs": [
    {
     "data": {
      "text/plain": [
       "Bound (generic function with 1 method)"
      ]
     },
     "execution_count": 242,
     "metadata": {},
     "output_type": "execute_result"
    }
   ],
   "source": [
    "function Bound(rhsu,rhsv,x,y,u,v,p)\n",
    "    Ip, = size(Tc)\n",
    "    Ib, = size(Tb)\n",
    "    xz = zeros(Float64,4)\n",
    "    yz = zeros(Float64,4)\n",
    "    for i in 1:Ib\n",
    "        ip = Tb[i,1]\n",
    "    #    @show ip\n",
    "        for j = 1:4\n",
    "            ic = Tc[ip,j]\n",
    "            if ic != 0\n",
    "                xz[1:4] = x[Tp[ic,1:4]]\n",
    "                yz[1:4] = y[Tp[ic,1:4]]\n",
    "                if Tb[i,2] ==1\n",
    "                    Fx,Fy = F_zB(xz,yz,p[ic],j,1)\n",
    "                    rhsu[ip] +=  -Fx\n",
    "                    rhsv[ip] += -Fy\n",
    "                   # mp[ip] *= 2.0\n",
    "                end\n",
    "                if Tb[i,3] ==1\n",
    "                    Fx,Fy = F_zB(xz,yz,p[ic],j,2)\n",
    "                    rhsu[ip] += -Fx\n",
    "                    rhsv[ip] += -Fy\n",
    "                   # mp[ip] *= 2.0\n",
    "                end\n",
    "            end\n",
    "        end\n",
    "    end\n",
    "    return rhsu, rhsv\n",
    "end  "
   ]
  },
  {
   "cell_type": "markdown",
   "metadata": {},
   "source": [
    "### Boundary force\n",
    "\n",
    "If one edge of a cell is a free boundary, then $f$ on the points is zero. As we have add it in RHs(), we need to remove it by resolve it again. Different from RHs(), at every point of a cell the force is composited by two parts on different edges. This is distinguished by $k$ when $k = 1$ the boundary is on y direction, forces on 12 and 34 boundary must be subtracted. When $ k =2$ the boundary is on x direction, subtract forces on 41, 23. "
   ]
  },
  {
   "cell_type": "code",
   "execution_count": 27,
   "metadata": {},
   "outputs": [
    {
     "data": {
      "text/plain": [
       "F_zB (generic function with 1 method)"
      ]
     },
     "execution_count": 27,
     "metadata": {},
     "output_type": "execute_result"
    }
   ],
   "source": [
    "function F_zB(x::Array{Float64,1},y::Array{Float64,1},p::Float64,j::Int,k::Int)\n",
    "    Fx = 0.0\n",
    "    Fy = 0.0      \n",
    "    if k==1 # y direction \n",
    "        L12 = √((x[2]-x[1])^2+(y[2]-y[1])^2)\n",
    "        n12x = (-y[2]+y[1])/L12\n",
    "        n12y = (x[2]-x[1])/L12\n",
    "        L34 = √((x[4]-x[3])^2+(y[4]-y[3])^2)\n",
    "        n34x = (-y[4]+y[3])/L34\n",
    "        n34y = (x[4]-x[3])/L34\n",
    "        if j == 1  #Point 1\n",
    "            Fx = p*(L12*n12x)/2\n",
    "            Fy = p*(L12*n12y)/2\n",
    "        elseif j == 2 \n",
    "            Fx = p*(L12*n12x)/2\n",
    "            Fy = p*(L12*n12y)/2\n",
    "        elseif j == 3\n",
    "            Fx = p*(L34*n34x)/2\n",
    "            Fy = p*(L34*n34y)/2\n",
    "        else \n",
    "            Fx = p*(L34*n34x)/2\n",
    "            Fy = p*(L34*n34y)/2\n",
    "        end\n",
    "    elseif k == 2\n",
    "        L41 = √((x[1]-x[4])^2+(y[1]-y[4])^2)\n",
    "        n41x = (-y[1]+y[4])/L41\n",
    "        n41y = (x[1]-x[4])/L41\n",
    "\n",
    "        L23 = √((x[3]-x[2])^2+(y[3]-y[2])^2)\n",
    "        n23x = (-y[3]+y[2])/L23\n",
    "        n23y = (x[3]-x[2])/L23\n",
    "        if j == 1\n",
    "            Fx = p*(L41*n41x)/2\n",
    "            Fy = p*(L41*n41y)/2\n",
    "        elseif j == 2 \n",
    "            Fx = p*(L23*n23x)/2\n",
    "            Fy = p*(L23*n23y)/2\n",
    "        elseif j == 3\n",
    "            Fx = p*(L23*n23x)/2\n",
    "            Fy = p*(L23*n23y)/2\n",
    "        else \n",
    "            Fx = p*(L41*n41x)/2\n",
    "            Fy = p*(L41*n41y)/2\n",
    "        end\n",
    "    end\n",
    "    return Fx,Fy\n",
    "    end           "
   ]
  },
  {
   "cell_type": "markdown",
   "metadata": {},
   "source": [
    "### EOS \n",
    "$$ e = \\frac{p}{(\\gamma-1)\\rho}$$"
   ]
  },
  {
   "cell_type": "code",
   "execution_count": 28,
   "metadata": {},
   "outputs": [
    {
     "data": {
      "text/plain": [
       "eTop (generic function with 1 method)"
      ]
     },
     "execution_count": 28,
     "metadata": {},
     "output_type": "execute_result"
    }
   ],
   "source": [
    "function pToe(p,ρ,γ)\n",
    "    return p ./ ρ/(γ-1)\n",
    "end\n",
    "function eTop(e,ρ,γ)\n",
    "    return (γ-1)*ρ .* e\n",
    "end"
   ]
  },
  {
   "cell_type": "code",
   "execution_count": 147,
   "metadata": {},
   "outputs": [
    {
     "data": {
      "text/plain": [
       "CFL (generic function with 1 method)"
      ]
     },
     "execution_count": 147,
     "metadata": {},
     "output_type": "execute_result"
    }
   ],
   "source": [
    "function CFL(SF,x::Array{Float64,1},y::Array{Float64,1},\n",
    "                u::Array{Float64,1},v::Array{Float64},\n",
    "                p::Array{Float64,1},ρ::Array{Float64,1})\n",
    "    Ic, = size(ρ)\n",
    "    cflmin = 1.e9\n",
    "    cfl =0\n",
    "    γ = problem.γ\n",
    "    for i in 1:Ic\n",
    "        u2max = 0\n",
    "        u2=0.0\n",
    "        for j = 1:4\n",
    "            u2 = u[j]^2+v[j]^2\n",
    "            if u2 > u2max ; u2max = u2; end\n",
    "        end\n",
    "        \n",
    "        dlmin = (x[4] - x[1])^2+(y[4]-y[1])^2\n",
    "        for j=1:3\n",
    "            dl= (x[j+1] - x[j])^2+(y[j+1]-y[j])^2\n",
    "            if dl < dlmin; dlmin=dl; end\n",
    "        end\n",
    "        c = √(γ*p[i]/ρ[i])\n",
    "        cfl = √(dlmin)/(√(u2max)+c)\n",
    "        if cfl < cflmin; cflmin = cfl; end\n",
    "    end\n",
    " #   @show cfl\n",
    "    dt = cfl*SF\n",
    "    return dt\n",
    "end \n",
    "        "
   ]
  },
  {
   "cell_type": "code",
   "execution_count": 246,
   "metadata": {},
   "outputs": [
    {
     "data": {
      "text/plain": [
       "TimeSolve (generic function with 2 methods)"
      ]
     },
     "execution_count": 246,
     "metadata": {},
     "output_type": "execute_result"
    }
   ],
   "source": [
    "function TimeSolve(u,v,x,y,p,mz,ρ,α)\n",
    "    tt= problem.tt\n",
    "    sf =problem.sf\n",
    "    t= 0.0\n",
    "#    while t<tt\n",
    "for i in 1:20\n",
    "        dt=CFL(sf,x,y,u,v,p,ρ)\n",
    "        if t+dt>tt\n",
    "           dt = tt-t\n",
    "        end\n",
    "        \n",
    "        u,v,x,y,p,ρ = Euler1st(dt,u,v,x,y,p,mz,ρ,α)\n",
    "        t += dt\n",
    "        \n",
    "        println(t)\n",
    "    end\n",
    "#\n",
    "    return u,v,x,y,p,ρ\n",
    "end"
   ]
  },
  {
   "cell_type": "markdown",
   "metadata": {},
   "source": [
    "## Artificial Viscosity \n",
    "\n",
    "Wilkins（1980） use the strain rate along the direction of cell acceleration to construct the artificial viscosity \n",
    "$$\\frac{ds}{dt} = \\frac{\\partial u}{\\partial x} \\text{cos}^2 \\alpha + \\frac{\\partial v}{\\partial y} \\text{sin}^2\\alpha +(\\frac{\\partial u}{\\partial y} + \\frac{\\partial v}{\\partial x})\\text{sin} \\alpha \\text{cos} \\alpha$$\n"
   ]
  },
  {
   "cell_type": "markdown",
   "metadata": {},
   "source": [
    "Then the artificial viscosity can be written as\n",
    "$$ q_w = \\left\\{ \\begin{align}\n",
    "l_0^2 \\rho \\left( \\frac{ds}{dt} \\right)^2 +  l_L\\rho c \\left|\\frac{ds}{dt}\\right|, \\quad \\text{if}  \\quad \\frac{ds}{dt}< 0,\\\\\n",
    "0, \\quad \\text{if} \\quad \\frac{ds}{dt}\\ge 0. \\\\\n",
    "\\end{align}\n",
    "\\right.\n",
    "$$\n",
    "where $l_0 = a_0L$, $l_L = a_L L$, $a_0 \\approx 2$, $a_L \\approx 1$ and $c$ is the sonic speed.\n",
    "\n",
    "$L$ is the reference length, and constructed as\n",
    "$$L = \\frac{2A}{d_1 + d_2 +d_3 +d_4} $$\n"
   ]
  },
  {
   "cell_type": "markdown",
   "metadata": {},
   "source": [
    "<img src=\"L1.png\" width = \"400\" height = \"300\" div align=center />"
   ]
  },
  {
   "cell_type": "code",
   "execution_count": 187,
   "metadata": {},
   "outputs": [
    {
     "data": {
      "text/plain": [
       "artificial_viscosity_c! (generic function with 2 methods)"
      ]
     },
     "execution_count": 187,
     "metadata": {},
     "output_type": "execute_result"
    }
   ],
   "source": [
    "function artificial_viscosity_c!(p,ρ,x,y,u,v,α)\n",
    "    γ = problem.γ\n",
    "    xc = sum(x[i] for i in 1:4)/4\n",
    "    yc = sum(y[i] for i in 1:4)/4\n",
    "    \n",
    "    ∂u_∂x,∂u_∂y,∂v_∂x,∂v_∂y = ∂uv(x,y,u,v)\n",
    "    \n",
    "    ds_dt = ∂u_∂x*cosd(α)^2 +∂v_∂y*sind(α)^2 + (∂u_∂y+∂v_∂x)*sind(α)*cosd(α)\n",
    "    \n",
    "    L = l_viscosity(x,y,α)\n",
    "    a₀ = 2; aₗ = 1\n",
    "    c = √(γ*p/ρ)\n",
    "    l₀ = a₀*L\n",
    "    lₗ = aₗ*L\n",
    "    \n",
    "    L = 3abs(x[3] - x[1])\n",
    "    \n",
    "   # if ds_dt > 0\n",
    "    if ∂u_∂x > 0\n",
    "        q = 0\n",
    "    else\n",
    "        #q = l₀^2*ρ*(ds_dt)^2 +lₗ*ρ*c*abs(ds_dt)\n",
    "        q = 1.5ρ*L*c*∂u_∂x +0.06L^2*ρ*(∂u_∂x)^2 \n",
    "    end\n",
    "    return p+q\n",
    "end"
   ]
  },
  {
   "cell_type": "markdown",
   "metadata": {},
   "source": [
    "$$b_2 \\rho Lc \\frac{\\partial u}{\\partial x} - b_{12}\\rho L^2 \\left(\\frac{\\partial u}{\\partial x}\\right)^2$$"
   ]
  },
  {
   "cell_type": "code",
   "execution_count": 50,
   "metadata": {},
   "outputs": [
    {
     "data": {
      "text/plain": [
       "artificial_viscosity! (generic function with 1 method)"
      ]
     },
     "execution_count": 50,
     "metadata": {},
     "output_type": "execute_result"
    }
   ],
   "source": [
    "function artificial_viscosity!(p,ρ,x,y,u,v,α)\n",
    "    I, = size(Tp)\n",
    "    \n",
    "    xc = zeros(Float64,4)\n",
    "    yc = zeros(Float64,4)\n",
    "    uc = zeros(Float64,4)\n",
    "    vc = zeros(Float64,4)\n",
    "    for i in 1:I\n",
    "        for j in 1:4\n",
    "            ip = Tp[i,j]\n",
    "            xc[j] = x[ip]\n",
    "            yc[j] = y[ip]\n",
    "            uc[j] = u[ip]\n",
    "            vc[j] = v[ip]\n",
    "        end\n",
    "        p[i] = artificial_viscosity_c!(p[i],ρ[i],xc,yc,uc,vc,α[i])\n",
    "    end\n",
    "    \n",
    "        return p\n",
    "        \n",
    "    end       "
   ]
  },
  {
   "cell_type": "markdown",
   "metadata": {},
   "source": [
    "### noh 算例 "
   ]
  },
  {
   "cell_type": "markdown",
   "metadata": {},
   "source": [
    "### 对流涡"
   ]
  },
  {
   "cell_type": "markdown",
   "metadata": {},
   "source": [
    "### chenjuan shuqiwang "
   ]
  },
  {
   "cell_type": "code",
   "execution_count": 66,
   "metadata": {},
   "outputs": [
    {
     "data": {
      "text/plain": [
       "l_viscosity (generic function with 1 method)"
      ]
     },
     "execution_count": 66,
     "metadata": {},
     "output_type": "execute_result"
    }
   ],
   "source": [
    "function l_viscosity(x,y,α)\n",
    "    xc = sum(x)/4; yc = sum(y)/4\n",
    "    d = zeros(Float64,4)\n",
    "    for i in 1:4\n",
    "    d[i] = distance(x[i],y[i],xc,yc,α)\n",
    "    end\n",
    "    A = A_z(x, y)\n",
    "    L = 2sum(A)/sum(d)\n",
    "    return L\n",
    "end"
   ]
  },
  {
   "cell_type": "markdown",
   "metadata": {},
   "source": [
    "#### distance from  Point to line \n",
    "Line: $$ (xc -cos \\alpha )(x-xc) = (yc-sin \\alpha)(y-yc)$$\n",
    "point: $x,y$"
   ]
  },
  {
   "cell_type": "code",
   "execution_count": 56,
   "metadata": {},
   "outputs": [
    {
     "data": {
      "text/plain": [
       "distance (generic function with 1 method)"
      ]
     },
     "execution_count": 56,
     "metadata": {},
     "output_type": "execute_result"
    }
   ],
   "source": [
    "function distance(x,y,xc,yc,α)\n",
    "    d = abs((xc - cosd(α)) * (x .-xc)- (yc-sind(α))*(y .- yc))/√((xc-cosd(α))^2+(yc-sind(α))^2)\n",
    "    return d\n",
    "end"
   ]
  },
  {
   "cell_type": "code",
   "execution_count": 54,
   "metadata": {},
   "outputs": [
    {
     "data": {
      "text/plain": [
       "0.4976124745549702"
      ]
     },
     "execution_count": 54,
     "metadata": {},
     "output_type": "execute_result"
    }
   ],
   "source": [
    "distance(1,2,2,3,30)"
   ]
  },
  {
   "cell_type": "code",
   "execution_count": 37,
   "metadata": {},
   "outputs": [
    {
     "data": {
      "text/plain": [
       "4.0"
      ]
     },
     "execution_count": 37,
     "metadata": {},
     "output_type": "execute_result"
    }
   ],
   "source": [
    "x = ones(Float64,4)\n",
    "sum(x)"
   ]
  },
  {
   "cell_type": "markdown",
   "metadata": {},
   "source": [
    "###  $\\frac{\\partial (u,v)}{\\partial (x,y)}$\n",
    "\n",
    "we use the diffences between 1 and 3 points and 2 and 4 points to solve the partial differences approximately, as\n",
    "$$ \\frac{\\partial u}{\\partial x}  \\approx \\frac{1}{2}\\frac{u_3-u_1}{x_3-x_1}+\\frac{1}{2}\\frac{u_4-u_2}{x_4-x_2}$$ \n",
    "Similar process to $\\frac{\\partial u}{\\partial y}$,$\\frac{\\partial v}{\\partial x}$ and $\\frac{\\partial v}{\\partial y}$"
   ]
  },
  {
   "cell_type": "code",
   "execution_count": 117,
   "metadata": {},
   "outputs": [
    {
     "data": {
      "text/plain": [
       "∂uv (generic function with 1 method)"
      ]
     },
     "execution_count": 117,
     "metadata": {},
     "output_type": "execute_result"
    }
   ],
   "source": [
    "function ∂uv(x,y,u,v)\n",
    "    ∂u_∂x = (u[3]-u[1])/(x[3]-x[1]) #+ 0.5(u[2]-u[4])/(x[2]-x[4])\n",
    "    ∂v_∂x = 0.5(v[3]-v[1])/(x[3]-x[1]) + 0.5(v[2]-v[4])/(x[4]-x[2])\n",
    "    ∂u_∂y = 0.5(u[3]-u[1])/(y[3]-y[1]) + 0.5(u[4]-u[2])/(y[4]-y[2])\n",
    "    ∂v_∂y = 0.5(v[3]-v[1])/(y[3]-y[1]) + 0.5(v[4]-v[2])/(y[4]-y[2])\n",
    "    return ∂u_∂x,∂u_∂y,∂v_∂x,∂v_∂y\n",
    "end"
   ]
  },
  {
   "cell_type": "code",
   "execution_count": 70,
   "metadata": {},
   "outputs": [],
   "source": [
    "using Plots   "
   ]
  },
  {
   "cell_type": "code",
   "execution_count": 105,
   "metadata": {},
   "outputs": [
    {
     "ename": "DimensionMismatch",
     "evalue": "DimensionMismatch(\"dimensions must match\")",
     "output_type": "error",
     "traceback": [
      "DimensionMismatch(\"dimensions must match\")",
      "",
      "Stacktrace:",
      " [1] promote_shape at ./indices.jl:154 [inlined]",
      " [2] _promote_shape at ./iterators.jl:317 [inlined] (repeats 2 times)",
      " [3] axes at ./iterators.jl:316 [inlined]",
      " [4] _array_for at ./array.jl:598 [inlined]",
      " [5] collect(::Base.Generator{Base.Iterators.Zip{Tuple{Array{Float64,1},Array{Float64,1},Array{Float64,1}}},getfield(Base, Symbol(\"##3#4\")){typeof(GR.wc3towc)}}) at ./array.jl:611",
      " [6] map(::Function, ::Array{Float64,1}, ::Array{Float64,1}, ::Array{Float64,1}) at ./abstractarray.jl:2091",
      " [7] gr_display(::Plots.Subplot{Plots.GRBackend}, ::Measures.Length{:mm,Float64}, ::Measures.Length{:mm,Float64}, ::Array{Float64,1}) at /home/bfly/.juliapro/JuliaPro_v1.1.1.1/packages/Plots/oiirH/src/backends/gr.jl:1337",
      " [8] gr_display(::Plots.Plot{Plots.GRBackend}, ::String) at /home/bfly/.juliapro/JuliaPro_v1.1.1.1/packages/Plots/oiirH/src/backends/gr.jl:655",
      " [9] _show(::Base.GenericIOBuffer{Array{UInt8,1}}, ::MIME{Symbol(\"image/svg+xml\")}, ::Plots.Plot{Plots.GRBackend}) at /home/bfly/.juliapro/JuliaPro_v1.1.1.1/packages/Plots/oiirH/src/backends/gr.jl:1566",
      " [10] show(::Base.GenericIOBuffer{Array{UInt8,1}}, ::MIME{Symbol(\"image/svg+xml\")}, ::Plots.Plot{Plots.GRBackend}) at /home/bfly/.juliapro/JuliaPro_v1.1.1.1/packages/Plots/oiirH/src/output.jl:198",
      " [11] #sprint#340(::Nothing, ::Int64, ::Function, ::Function, ::MIME{Symbol(\"image/svg+xml\")}, ::Vararg{Any,N} where N) at ./strings/io.jl:101",
      " [12] sprint(::Function, ::MIME{Symbol(\"image/svg+xml\")}, ::Vararg{Any,N} where N) at ./strings/io.jl:97",
      " [13] _ijulia_display_dict(::Plots.Plot{Plots.GRBackend}) at /home/bfly/.juliapro/JuliaPro_v1.1.1.1/packages/Plots/oiirH/src/ijulia.jl:50",
      " [14] display_dict(::Plots.Plot{Plots.GRBackend}) at /home/bfly/.juliapro/JuliaPro_v1.1.1.1/packages/Plots/oiirH/src/init.jl:42",
      " [15] #invokelatest#1 at ./essentials.jl:742 [inlined]",
      " [16] invokelatest at ./essentials.jl:741 [inlined]",
      " [17] execute_request(::ZMQ.Socket, ::IJulia.Msg) at /home/bfly/.juliapro/JuliaPro_v1.1.1.1/packages/IJulia/gI2uA/src/execute_request.jl:112",
      " [18] #invokelatest#1 at ./essentials.jl:742 [inlined]",
      " [19] invokelatest at ./essentials.jl:741 [inlined]",
      " [20] eventloop(::ZMQ.Socket) at /home/bfly/.juliapro/JuliaPro_v1.1.1.1/packages/IJulia/gI2uA/src/eventloop.jl:8",
      " [21] (::getfield(IJulia, Symbol(\"##15#18\")))() at ./task.jl:259"
     ]
    }
   ],
   "source": [
    "scatter3d(x, y,ρ)"
   ]
  },
  {
   "cell_type": "code",
   "execution_count": 109,
   "metadata": {},
   "outputs": [
    {
     "data": {
      "text/plain": [
       "InitTest1 (generic function with 1 method)"
      ]
     },
     "execution_count": 109,
     "metadata": {},
     "output_type": "execute_result"
    }
   ],
   "source": [
    "@inline function InitTest1()\n",
    "\n",
    "    global problem = prb(0.1,0.3,1.4)\n",
    "     \n",
    "    I = 200\n",
    "    J = 40\n",
    "    dx = 1.0/I\n",
    "    dy = 0.1/J\n",
    "    \n",
    "    \n",
    "    Ip = (I+1)*(J+1) # Number of  points\n",
    "    Ic = I*J  # number of cells\n",
    "    \n",
    "    global Tp = zeros(Int,Ic,4) #格点\n",
    "    global Tc = zeros(Int,Ip,4) #点格\n",
    "    \n",
    "    #@show Tc, Ip\n",
    "    global Tb = zeros(Int, I*2+J*2,3) #边界 \n",
    "    \n",
    "    IBL = J+1\n",
    "    IBR = J+1\n",
    "    IBU = I+1\n",
    "    IBD = I+1\n",
    "   # 点格表，格点表初始化 \n",
    "    for i in 1:I \n",
    "        for j in 1:J\n",
    "            ic = i+(j-1)*I\n",
    "            Tp[ic,1] = i + (j-1)*(I+1)\n",
    "            Tp[ic,2] = i+1 +(j-1)*(I+1)\n",
    "            Tp[ic,3]=i+1+j*(I+1)\n",
    "            Tp[ic,4]=i+j*(I+1) \n",
    "        end\n",
    "    end\n",
    "    \n",
    "    for i = 1:I+1\n",
    "        for j = 1:J+1\n",
    "            ip = i+(j-1)*(I+1)\n",
    "            Tc[ip,1] = i +(j-1)*I #(i,j)\n",
    "            Tc[ip,2] = i-1+(j-1)*I #(i-1,j)\n",
    "            Tc[ip,3] = i-1+(j-2)*I #(i-1,j-1)\n",
    "            Tc[ip,4] = i+(j-2)*I   #(i,j-1)\n",
    "            end\n",
    "        end\n",
    "    \n",
    "\n",
    "# Bound \n",
    "  ib = 0\n",
    "    for i = 1:I+1\n",
    "        for j = 1:J+1\n",
    "            if i == 1 || i== I+1 ||  j == 1 || j == J+1\n",
    "                ib += 1\n",
    "                ip =i+(j-1)*(I+1) \n",
    "                Tb[ib,1] = ip\n",
    "                if i==1 \n",
    "                   Tb[ib,3] = 1\n",
    "                    Tc[ip,2] =0\n",
    "                    Tc[ip,3] =0\n",
    "                end   \n",
    "                 if  i==I+1 \n",
    "                    Tb[ib,3] = 1 #bound type 1:free 2: wall ..  Tb[:,2] y direction\n",
    "                    Tc[ip,1] =0\n",
    "                    Tc[ip,4] =0\n",
    "                end\n",
    "            \n",
    "                if j==1 \n",
    "                    Tb[ib,2] = 1\n",
    "                    Tc[ip,3] = 0\n",
    "                    Tc[ip,4] = 0\n",
    "                end\n",
    "                if j==J+1\n",
    "                    Tb[ib,2] = 1\n",
    "                    Tc[ip,1] = 0\n",
    "                    Tc[ip,2] = 0\n",
    "                end\n",
    "            end\n",
    "        end\n",
    "    end\n",
    "\n",
    "    #流场初始化 Init of the flow\n",
    "    \n",
    "    x = zeros(Float64,Ip)\n",
    "    y = zeros(Float64,Ip)\n",
    "    u = zeros(Float64,Ip)\n",
    "    v = zeros(Float64,Ip)\n",
    "    \n",
    "    ρ = zeros(Float64,Ic)\n",
    "    mz = zeros(Float64,Ic)\n",
    "    p = zeros(Float64,Ic)\n",
    "    Az= zeros(Float64,Ic)\n",
    "    α = zeros(Float64,Ic)\n",
    "    for i in 1:I+1\n",
    "        for j = 1:J+1\n",
    "            ip =i+(j-1)*(I+1)\n",
    "            x[ip] = i*dx\n",
    "            y[ip] = j*dy\n",
    "            \n",
    "            u[ip] = 1.0\n",
    "            v[ip] = 0.0\n",
    "        end\n",
    "    end\n",
    "    \n",
    "    xz = zeros(Float64,4)\n",
    "    yz = zeros(Float64,4) \n",
    "    for i in 1:I\n",
    "        for j in 1:J\n",
    "            ic = i+(j-1)*I\n",
    "            xz[1:4] = x[Tp[ic,1:4]]\n",
    "            yz[1:4] = y[Tp[ic,1:4]]\n",
    "            A = A_z(xz,yz)\n",
    "            Az[ic] = sum(A) #[1]+A[2]+A[3]+A[4]\n",
    "          #  if i<=100\n",
    "                mz[ic] = (2+sin(2π*dx*i)) * Az[ic]\n",
    "                p[ic] = 1.0\n",
    "                ρ[ic] = sin(2π*dx*i)+2\n",
    "#             else\n",
    "#                 mz[ic] = 0.1 * Az[ic]\n",
    "#                 p[ic] = 1.0\n",
    "#                 ρ[ic] = 0.1\n",
    "#             end\n",
    "        end\n",
    "    end\n",
    "    \n",
    "    return x,y,u,v,mz,p,ρ,Az,α\n",
    "end"
   ]
  },
  {
   "cell_type": "code",
   "execution_count": 216,
   "metadata": {},
   "outputs": [
    {
     "data": {
      "text/plain": [
       "InitTest2 (generic function with 1 method)"
      ]
     },
     "execution_count": 216,
     "metadata": {},
     "output_type": "execute_result"
    }
   ],
   "source": [
    "@inline function InitTest2()\n",
    "\n",
    "    global problem = prb(0.1,0.1,1.4)\n",
    "     \n",
    "    I = 200\n",
    "    J = 40\n",
    "    dx = 1.0/I\n",
    "    dy = 0.1/J\n",
    "    \n",
    "    \n",
    "    Ip = (I+1)*(J+1) # Number of  points\n",
    "    Ic = I*J  # number of cells\n",
    "    \n",
    "    global Tp = zeros(Int,Ic,4) #格点\n",
    "    global Tc = zeros(Int,Ip,4) #点格\n",
    "    \n",
    "    #@show Tc, Ip\n",
    "    global Tb = zeros(Int, I*2+J*2,3) #边界 \n",
    "    \n",
    "    IBL = J+1\n",
    "    IBR = J+1\n",
    "    IBU = I+1\n",
    "    IBD = I+1\n",
    "   # 点格表，格点表初始化 \n",
    "    for i in 1:I \n",
    "        for j in 1:J\n",
    "            ic = i+(j-1)*I\n",
    "            Tp[ic,1] = i + (j-1)*(I+1)\n",
    "            Tp[ic,2] = i+1 +(j-1)*(I+1)\n",
    "            Tp[ic,3]=i+1+j*(I+1)\n",
    "            Tp[ic,4]=i+j*(I+1) \n",
    "        end\n",
    "    end\n",
    "    \n",
    "    for i = 1:I+1\n",
    "        for j = 1:J+1\n",
    "            ip = i+(j-1)*(I+1)\n",
    "            Tc[ip,1] = i +(j-1)*I #(i,j)\n",
    "            Tc[ip,2] = i-1+(j-1)*I #(i-1,j)\n",
    "            Tc[ip,3] = i-1+(j-2)*I #(i-1,j-1)\n",
    "            Tc[ip,4] = i+(j-2)*I   #(i,j-1)\n",
    "            end\n",
    "        end\n",
    "    \n",
    "\n",
    "# Bound \n",
    "  ib = 0\n",
    "    for i = 1:I+1\n",
    "        for j = 1:J+1\n",
    "            if i == 1 || i== I+1 ||  j == 1 || j == J+1\n",
    "                ib += 1\n",
    "                ip =i+(j-1)*(I+1) \n",
    "                Tb[ib,1] = ip\n",
    "                if i==1 \n",
    "                   Tb[ib,3] = 1\n",
    "                    Tc[ip,2] =0\n",
    "                    Tc[ip,3] =0\n",
    "                end   \n",
    "                 if  i==I+1 \n",
    "                    Tb[ib,3] = 1 #bound type 1:free 2: wall ..  Tb[:,2] y direction\n",
    "                    Tc[ip,1] =0\n",
    "                    Tc[ip,4] =0\n",
    "                end\n",
    "            \n",
    "                if j==1 \n",
    "                    Tb[ib,2] = 1\n",
    "                    Tc[ip,3] = 0\n",
    "                    Tc[ip,4] = 0\n",
    "                end\n",
    "                if j==J+1\n",
    "                    Tb[ib,2] = 1\n",
    "                    Tc[ip,1] = 0\n",
    "                    Tc[ip,2] = 0\n",
    "                end\n",
    "            end\n",
    "        end\n",
    "    end\n",
    "\n",
    "    #流场初始化 Init of the flow\n",
    "    \n",
    "    x = zeros(Float64,Ip)\n",
    "    y = zeros(Float64,Ip)\n",
    "    u = zeros(Float64,Ip)\n",
    "    v = zeros(Float64,Ip)\n",
    "    \n",
    "    ρ = zeros(Float64,Ic)\n",
    "    mz = zeros(Float64,Ic)\n",
    "    p = zeros(Float64,Ic)\n",
    "    Az= zeros(Float64,Ic)\n",
    "    α = zeros(Float64,Ic)\n",
    "    for i in 1:I+1\n",
    "        for j = 1:J+1\n",
    "            ip =i+(j-1)*(I+1)\n",
    "            x[ip] = i*dx\n",
    "            y[ip] = j*dy\n",
    "            \n",
    "            u[ip] = 0.0\n",
    "            v[ip] = 0.0\n",
    "        end\n",
    "    end\n",
    "    \n",
    "    xz = zeros(Float64,4)\n",
    "    yz = zeros(Float64,4) \n",
    "    for i in 1:I\n",
    "        for j in 1:J\n",
    "            ic = i+(j-1)*I\n",
    "            xz[1:4] = x[Tp[ic,1:4]]\n",
    "            yz[1:4] = y[Tp[ic,1:4]]\n",
    "            A = A_z(xz,yz)\n",
    "            Az[ic] = sum(A) #[1]+A[2]+A[3]+A[4]\n",
    "            if i>=100\n",
    "                mz[ic] = 0.1 * Az[ic]\n",
    "                p[ic] = 0.1\n",
    "                ρ[ic] = 0.1\n",
    "            else\n",
    "                mz[ic] = 1.0 * Az[ic]\n",
    "                p[ic] = 1.0\n",
    "                ρ[ic] = 1.0\n",
    "            end\n",
    "        end\n",
    "    end\n",
    "    \n",
    "    return x,y,u,v,mz,p,ρ,Az,α\n",
    "end"
   ]
  },
  {
   "cell_type": "code",
   "execution_count": 42,
   "metadata": {},
   "outputs": [
    {
     "data": {
      "text/plain": [
       "Output (generic function with 1 method)"
      ]
     },
     "execution_count": 42,
     "metadata": {},
     "output_type": "execute_result"
    }
   ],
   "source": [
    "function Output(x,y,u,v,p,ρ,mz)\n",
    "    Ip, = size(Tc)\n",
    "    Ic, = size(Tp)\n",
    "    io = open(\"data.dat\", \"w+\")\n",
    "    A = zeros(Float64,Ip,6)\n",
    "   # for i in 1:Ip\n",
    "    \n",
    "    text = \" TITLE = \\\"Dataset\\\"\n",
    "VARIABLES = \\\"x\\\" \\\"y\\\" \\\"u\\\" \\\"v\\\" \\\"rho\\\" \\\"p\\\"  ZONE T=\\\"Zone 1\\\" \n",
    "I=201,J=21,K=1,ZONETYPE=Ordered \n",
    "DATAPACKING=POINT \\n \"\n",
    "  #  write(1,*)\n",
    "    write(io,text)\n",
    "\n",
    "    for i in 1:Ip\n",
    "        nc = 0\n",
    "        ρz = 0.0\n",
    "        pz = 0.0\n",
    "        for j = 1:4\n",
    "            ic = Tc[i,j] \n",
    "            if ic != 0\n",
    "                ρz += ρ[ic]\n",
    "                pz += p[ic]\n",
    "                nc +=  1\n",
    "            end\n",
    "        end\n",
    "        ρz = ρz/nc\n",
    "        pz = pz/nc\n",
    "        A[i,1] = x[i]\n",
    "        A[i,2] = y[i]\n",
    "        A[i,3] = u[i]\n",
    "        A[i,4] = v[i]\n",
    "        A[i,5] = ρz\n",
    "        A[i,6] = pz\n",
    "        \n",
    "    end\n",
    "    writedlm(io, A, \"  \")\n",
    "    close(io)\n",
    "end"
   ]
  },
  {
   "cell_type": "code",
   "execution_count": 43,
   "metadata": {},
   "outputs": [
    {
     "ename": "UndefVarError",
     "evalue": "UndefVarError: y not defined",
     "output_type": "error",
     "traceback": [
      "UndefVarError: y not defined",
      "",
      "Stacktrace:",
      " [1] top-level scope at In[43]:1"
     ]
    }
   ],
   "source": [
    "Output(x,y,u,v,p,ρ,mz)"
   ]
  },
  {
   "cell_type": "code",
   "execution_count": 44,
   "metadata": {},
   "outputs": [],
   "source": [
    "struct prb\n",
    "    tt::Float64\n",
    "    sf::Float64\n",
    "    γ ::Float64\n",
    "end"
   ]
  },
  {
   "cell_type": "code",
   "execution_count": 45,
   "metadata": {},
   "outputs": [
    {
     "data": {
      "text/plain": [
       "Area3 (generic function with 1 method)"
      ]
     },
     "execution_count": 45,
     "metadata": {},
     "output_type": "execute_result"
    }
   ],
   "source": [
    "function Area3(x1,x2,x3,y1,y2,y3)\n",
    "    return abs((x1*y2+y1*x3+x2*y3-x1*y3-y1*x2-y2*x3)/2)\n",
    "end"
   ]
  },
  {
   "cell_type": "code",
   "execution_count": 46,
   "metadata": {},
   "outputs": [
    {
     "name": "stdout",
     "output_type": "stream",
     "text": [
      "  2.313 ns (0 allocations: 0 bytes)\n"
     ]
    },
    {
     "data": {
      "text/plain": [
       "10"
      ]
     },
     "execution_count": 46,
     "metadata": {},
     "output_type": "execute_result"
    }
   ],
   "source": [
    "using BenchmarkTools\n",
    "@btime sum(i for i in 1:4)"
   ]
  },
  {
   "cell_type": "code",
   "execution_count": 72,
   "metadata": {},
   "outputs": [],
   "source": [
    "using DelimitedFiles"
   ]
  },
  {
   "cell_type": "code",
   "execution_count": 220,
   "metadata": {},
   "outputs": [
    {
     "name": "stdout",
     "output_type": "stream",
     "text": [
      "search: \u001b[0m\u001b[1me\u001b[22m\u001b[0m\u001b[1mv\u001b[22m\u001b[0m\u001b[1ma\u001b[22m\u001b[0m\u001b[1ml\u001b[22m \u001b[0m\u001b[1me\u001b[22m\u001b[0m\u001b[1mv\u001b[22m\u001b[0m\u001b[1ma\u001b[22m\u001b[0m\u001b[1ml\u001b[22mfile @\u001b[0m\u001b[1me\u001b[22m\u001b[0m\u001b[1mv\u001b[22m\u001b[0m\u001b[1ma\u001b[22m\u001b[0m\u001b[1ml\u001b[22m @\u001b[0m\u001b[1me\u001b[22m\u001b[0m\u001b[1mv\u001b[22m\u001b[0m\u001b[1ma\u001b[22m\u001b[0m\u001b[1ml\u001b[22mpoly byt\u001b[0m\u001b[1me\u001b[22msa\u001b[0m\u001b[1mv\u001b[22m\u001b[0m\u001b[1ma\u001b[22mi\u001b[0m\u001b[1ml\u001b[22mable r\u001b[0m\u001b[1me\u001b[22mada\u001b[0m\u001b[1mv\u001b[22m\u001b[0m\u001b[1ma\u001b[22mi\u001b[0m\u001b[1ml\u001b[22mable Typ\u001b[0m\u001b[1me\u001b[22m\u001b[0m\u001b[1mV\u001b[22m\u001b[0m\u001b[1ma\u001b[22mr\n",
      "\n"
     ]
    },
    {
     "data": {
      "text/latex": [
       "\\begin{verbatim}\n",
       "eval(expr)\n",
       "\\end{verbatim}\n",
       "Evaluate an expression in the global scope of the containing module. Every \\texttt{Module} (except those defined with \\texttt{baremodule}) has its own 1-argument definition of \\texttt{eval}, which evaluates expressions in that module.\n",
       "\n"
      ],
      "text/markdown": [
       "```\n",
       "eval(expr)\n",
       "```\n",
       "\n",
       "Evaluate an expression in the global scope of the containing module. Every `Module` (except those defined with `baremodule`) has its own 1-argument definition of `eval`, which evaluates expressions in that module.\n"
      ],
      "text/plain": [
       "\u001b[36m  eval(expr)\u001b[39m\n",
       "\n",
       "  Evaluate an expression in the global scope of the containing module. Every\n",
       "  \u001b[36mModule\u001b[39m (except those defined with \u001b[36mbaremodule\u001b[39m) has its own 1-argument\n",
       "  definition of \u001b[36meval\u001b[39m, which evaluates expressions in that module."
      ]
     },
     "execution_count": 220,
     "metadata": {},
     "output_type": "execute_result"
    }
   ],
   "source": [
    "? eval"
   ]
  },
  {
   "cell_type": "code",
   "execution_count": 53,
   "metadata": {},
   "outputs": [
    {
     "ename": "MethodError",
     "evalue": "MethodError: no method matching setindex!(::Tuple{Int64,Int64,Int64}, ::Tuple{Int64,Int64,Int64}, ::Int64)",
     "output_type": "error",
     "traceback": [
      "MethodError: no method matching setindex!(::Tuple{Int64,Int64,Int64}, ::Tuple{Int64,Int64,Int64}, ::Int64)",
      "",
      "Stacktrace:",
      " [1] top-level scope at In[53]:1"
     ]
    }
   ],
   "source": [
    "A[1] = (3,2,2)"
   ]
  }
 ],
 "metadata": {
  "@webio": {
   "lastCommId": null,
   "lastKernelId": null
  },
  "kernelspec": {
   "display_name": "Julia 1.1.1",
   "language": "julia",
   "name": "julia-1.1"
  },
  "language_info": {
   "file_extension": ".jl",
   "mimetype": "application/julia",
   "name": "julia",
   "version": "1.1.1"
  }
 },
 "nbformat": 4,
 "nbformat_minor": 2
}
