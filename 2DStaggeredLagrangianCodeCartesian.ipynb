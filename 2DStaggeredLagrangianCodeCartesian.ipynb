{
 "cells": [
  {
   "cell_type": "markdown",
   "metadata": {},
   "source": [
    "#  Code for 2D staggered Lagrangian method in Cartersian coordinates"
   ]
  },
  {
   "cell_type": "markdown",
   "metadata": {},
   "source": [
    "## Control equations"
   ]
  },
  {
   "cell_type": "markdown",
   "metadata": {},
   "source": [
    "### Momentum equation\n",
    "\n",
    "$$\\tag{1.1}\\rho \\frac{d\\mathbf{v}}{dt} =  -\\nabla p $$ \n",
    "where $\\mathbf{v}$ is the vector of velocity, and $\\rho$ is the density and $p$ is the pressure.  "
   ]
  },
  {
   "cell_type": "markdown",
   "metadata": {},
   "source": [
    "### Energy equation\n",
    "\n",
    "$$ \\rho \\frac{dE}{dt} = -\\nabla \\cdot (p\\mathbf{v})$$ \n",
    "\n",
    "where $E$ is the specific total energy and it has a realtion with the specific internal energy \n",
    "$$E = e + \\frac{1}{2}\\mathbf{v}\\cdot\\mathbf{v}$$"
   ]
  },
  {
   "cell_type": "markdown",
   "metadata": {},
   "source": [
    "By (1.1) and (1.2) we have \n",
    "$$\\tag{1.3} \\rho \\frac{de}{dt} = - p\\nabla\\cdot \\mathbf{v}$$"
   ]
  },
  {
   "cell_type": "markdown",
   "metadata": {},
   "source": [
    "In  a Cartersian coordinates $x-y$, The equations (1.1) and (1.3) can be written as\n",
    "$$\\rho \\frac{du}{dt} = -\\frac{\\partial p}{\\partial x},\\quad \\rho \\frac{dv}{dt} = -\\frac{\\partial p}{\\partial y}$$\n",
    "and\n",
    "$$\\rho \\frac{de}{dt} = -p (\\frac{\\partial u}{\\partial x} +\\frac{\\partial v}{\\partial y})$$"
   ]
  },
  {
   "cell_type": "markdown",
   "metadata": {},
   "source": [
    "## Compatible Staggered Discretization"
   ]
  },
  {
   "cell_type": "markdown",
   "metadata": {},
   "source": [
    "<img src=\"Grid.png\" width = \"800\" height = \"400\" div align=center /> "
   ]
  },
  {
   "cell_type": "markdown",
   "metadata": {},
   "source": [
    "### Quatities:\n",
    "\n",
    "On point: ($x_p$,$y_p$), ($u_p$,$v_p$)\n",
    "\n",
    "Zonal:  $V_z$, $\\rho_z$, $m_z$, $e_z$, $p_z$"
   ]
  },
  {
   "cell_type": "markdown",
   "metadata": {},
   "source": [
    "By the relation \n",
    "$$\\frac{dm_z}{dt} =0$$\n",
    "we have \n",
    "$$\\rho_z(t) = m_z/V_z(t)$$"
   ]
  },
  {
   "cell_type": "markdown",
   "metadata": {},
   "source": [
    "Also \n",
    "$$d(x_p)/dt = u_p, \\quad d(y_p)/dt = v_p$$"
   ]
  },
  {
   "cell_type": "markdown",
   "metadata": {},
   "source": [
    "### Point mass "
   ]
  },
  {
   "cell_type": "markdown",
   "metadata": {},
   "source": [
    "Point mass $m_p$ is used to solve point momentum $\\mu_p = m_p \\bf{u}_p$ and kinetic energy $K_p = m_p \\frac{\\bf{u}_p^2}{2}$"
   ]
  },
  {
   "cell_type": "markdown",
   "metadata": {},
   "source": [
    "<img src=\"Ins.jpg\" width = \"200\" height = \"400\" div align=center /> "
   ]
  },
  {
   "cell_type": "markdown",
   "metadata": {},
   "source": [
    "$$m_p = \\sum_{z\\in Z(p)} A_z^p \\rho^p_z$$\n",
    "\n",
    "$$\\rho_z(t) = m_z/V_z(t)$$"
   ]
  },
  {
   "cell_type": "code",
   "execution_count": 1,
   "metadata": {},
   "outputs": [
    {
     "data": {
      "text/plain": [
       "MassAndDens (generic function with 1 method)"
      ]
     },
     "execution_count": 1,
     "metadata": {},
     "output_type": "execute_result"
    }
   ],
   "source": [
    "function MassAndDens(mz::Array{Float64,1},x::Array{Float64,1},y::Array{Float64,1})\n",
    "    \n",
    "    Ic, = size(mz)\n",
    "    Ip, = size(Tc)\n",
    "    Asbz = zeros(Float64,4)\n",
    "    ρ = zeros(Float64,Ic)\n",
    "    mp = zeros(Float64,Ip)\n",
    "    xz = zeros(Float64,4)\n",
    "    yz = zeros(Float64,4)\n",
    "    for i in 1:Ic\n",
    "        xz[1:4] = x[Tp[i,1:4]]\n",
    "        yz[1:4] = y[Tp[i,1:4]]\n",
    "        Asbz = A_z(i,xz,yz)\n",
    "        Az = sum(Asbz[j] for j in 1:4)\n",
    "        ρ[i] = mz[i]/Az\n",
    "        \n",
    "        for j = 1:4\n",
    "            ip = Tp[i,j]\n",
    "            mp[ip] = mp[ip] + Asbz[j]*ρ[i]\n",
    "        end\n",
    "    end\n",
    "    return ρ,mp\n",
    "end           \n",
    "        "
   ]
  },
  {
   "cell_type": "code",
   "execution_count": 2,
   "metadata": {},
   "outputs": [
    {
     "ename": "UndefVarError",
     "evalue": "UndefVarError: mz not defined",
     "output_type": "error",
     "traceback": [
      "UndefVarError: mz not defined",
      "",
      "Stacktrace:",
      " [1] top-level scope at In[2]:1"
     ]
    }
   ],
   "source": [
    "mz"
   ]
  },
  {
   "cell_type": "markdown",
   "metadata": {},
   "source": [
    "\n",
    "$$ A_z^1 = \\frac{5A_{41}+5A_{12}+A_{23}+A_{34}}{12}$$\n",
    "$$ A_z^2 = \\frac{A_{41}+5A_{12}+5A_{23}+A_{34}}{12}$$\n",
    "$$ A_z^3 = \\frac{A_{41}+A_{12}+5A_{23}+5A_{34}}{12}$$\n",
    "$$ A_z^4 = \\frac{5A_{41}+A_{12}+A_{23}+5A_{34}}{12}$$"
   ]
  },
  {
   "cell_type": "code",
   "execution_count": 3,
   "metadata": {},
   "outputs": [
    {
     "data": {
      "text/plain": [
       "A_z (generic function with 1 method)"
      ]
     },
     "execution_count": 3,
     "metadata": {},
     "output_type": "execute_result"
    }
   ],
   "source": [
    "function A_z(ic::Int,x::Array{Float64,1},y::Array{Float64,1}) \n",
    "    A =zeros(Float64,4)\n",
    "    xc= sum(x[i] for i in 1:4)/4\n",
    "    yc= sum(y[i] for i in 1:4)/4\n",
    "    \n",
    "    A41 = Area3(x[1],x[4],xc,y[1],y[4],yc)\n",
    "    A12 = Area3(x[1],x[2],xc,y[1],y[4],yc)\n",
    "    A23 = Area3(x[2],x[3],xc,y[2],y[3],yc)\n",
    "    A34 = Area3(x[3],x[4],xc,y[3],y[4],yc)\n",
    "    \n",
    "    A[1] = (5A41+5A12+A23+A34)/12\n",
    "    A[2] = (A41+5A12+5A23+A34)/12\n",
    "    A[3] = (A41+A12+5A23+5A34)/12\n",
    "    A[4] = (5A41+A12+A23+5A34)/12\n",
    "    \n",
    "    return A\n",
    "end"
   ]
  },
  {
   "cell_type": "markdown",
   "metadata": {},
   "source": [
    "<img src=\"Ins2.jpg\" width = \"400\" height = \"300\" div align=center />"
   ]
  },
  {
   "cell_type": "code",
   "execution_count": 4,
   "metadata": {},
   "outputs": [
    {
     "data": {
      "text/plain": [
       "F_z (generic function with 1 method)"
      ]
     },
     "execution_count": 4,
     "metadata": {},
     "output_type": "execute_result"
    }
   ],
   "source": [
    "function F_z(x::Array{Float64,1},y::Array{Float64,1},p::Float64)\n",
    "   \n",
    "    Fx = zeros(Float64,4)\n",
    "    Fy = zeros(Float64,4)\n",
    "    \n",
    "    L12 = √((x[2]-x[1])^2+(y[2]-y[1])^2)\n",
    "    n12x = (-y[2]+y[1])/L12\n",
    "    n12y = (x[2]-x[1])/L12\n",
    "    \n",
    "    L41 = √((x[1]-x[4])^2+(y[1]-y[4])^2)\n",
    "    n41x = (-y[1]+y[4])/L41\n",
    "    n41y = (x[1]-x[4])/L41\n",
    "    \n",
    "    L23 = √((x[3]-x[2])^2+(y[3]-y[2])^2)\n",
    "    n23x = (-y[3]+y[2])/L23\n",
    "    n23y = (x[3]-x[2])/L23\n",
    "    \n",
    "    L34 = √((x[4]-x[3])^2+(y[4]-y[3])^2)\n",
    "    n34x = (-y[4]+y[3])/L34\n",
    "    n34y = (x[4]-x[3])/L34\n",
    "    \n",
    "    Fx[1] = p*(L12*n12x+L41*n41x)/2\n",
    "    Fy[1] = p*(L12*n12y+L41*n41y)/2\n",
    "    \n",
    "    Fx[2] = p*(L12*n12x+L23*n23x)/2\n",
    "    Fy[2] = p*(L12*n12y+L23*n23y)/2\n",
    "    \n",
    "    Fx[3] = p*(L23*n23x+L34*n34x)/2\n",
    "    Fy[3] = p*(L23*n23y+L34*n34y)/2\n",
    "    \n",
    "    Fx[4] = p*(L34*n34x+L41*n41x)/2\n",
    "    Fy[4] = p*(L34*n34y+L41*n41y)/2\n",
    "    \n",
    "    return Fx,Fy\n",
    "    end           "
   ]
  },
  {
   "cell_type": "markdown",
   "metadata": {},
   "source": [
    "对于单元 \n",
    "$$ m_z \\frac{de_z}{dt} = -\\sum_{z\\in Z(p)} \\bf{f}_z^p \\cdot \\bf{u}_p $$  "
   ]
  },
  {
   "cell_type": "markdown",
   "metadata": {},
   "source": [
    "对于节点\n",
    "$$m_p \\frac{d\\bf{u}_p}{dt} = \\sum_{p\\in P(z)} \\bf{f}_z^p$$"
   ]
  },
  {
   "cell_type": "code",
   "execution_count": 17,
   "metadata": {},
   "outputs": [
    {
     "data": {
      "text/plain": [
       "Rhs (generic function with 1 method)"
      ]
     },
     "execution_count": 17,
     "metadata": {},
     "output_type": "execute_result"
    }
   ],
   "source": [
    "function Rhs(x::Array{Float64,1},y::Array{Float64,1},u::Array{Float64,1},v::Array{Float64,1},p::Array{Float64,1})  #Right hand e\n",
    "    Ic, = size(Tp)\n",
    "    Ip, = size(Tc)\n",
    "    rhsu = zeros(Float64,Ip)\n",
    "    rhsv = zeros(Float64,Ip) \n",
    "    rhse = zeros(Float64,Ic)\n",
    "    xz = zeros(Float64,4)\n",
    "    yz = zeros(Float64,4)\n",
    "    \n",
    "    for i in 1:Ic\n",
    "        for j =1:4\n",
    "            xz[j] = x[Tp[i,j]]\n",
    "            yz[j] = y[Tp[i,j]]\n",
    "        end\n",
    "        Fx,Fy = F_z(xz,yz,p[i])\n",
    "        \n",
    "        ∑=0\n",
    "        for j in 1:4\n",
    "            ip = Tp[i,j]\n",
    "            ∑ = ∑ +u[ip]*Fx[j] + v[ip]*Fy[j]\n",
    "        end\n",
    "        rhse[i] = -∑\n",
    "        \n",
    "        for j = 1:4\n",
    "            ip = Tp[i,j]\n",
    "            rhsu[ip] = rhsu[ip] + Fx[j]\n",
    "            rhsv[ip] = rhsv[ip] + Fy[j]\n",
    "        end     \n",
    "    end\n",
    "    return rhse, rhsu,rhsv\n",
    "end"
   ]
  },
  {
   "cell_type": "code",
   "execution_count": 22,
   "metadata": {},
   "outputs": [
    {
     "data": {
      "text/plain": [
       "Euler1st (generic function with 2 methods)"
      ]
     },
     "execution_count": 22,
     "metadata": {},
     "output_type": "execute_result"
    }
   ],
   "source": [
    "function Euler1st(dt,u,v,x,y,p,mz,ρ)\n",
    "    Ip, = size(u)\n",
    "    Ic, = size(p)\n",
    "    \n",
    "    ρ,mp = MassAndDens(mz,x,y)\n",
    "    \n",
    "    e = pToe(p, ρ,problem.γ)\n",
    "    rhse, rhsu,rhsv = Rhs(x,y,u, v, p)\n",
    "    \n",
    "    rhsu,rhsv = Bound(x,y,u, v, p)\n",
    "    u  += dt*(rhsu ./ mp)\n",
    "    v  += dt*(rhsv ./ mp)\n",
    "    e  += dt*(rhse ./ mz)\n",
    "    \n",
    "    x  +=  dt*u\n",
    "    y  +=  dt*v\n",
    "    \n",
    "    ρ,mp = MassAndDens(mz,x,y)\n",
    "    \n",
    "    p = eTop(e, ρ,problem.γ)\n",
    "    return u,v,x,y,p,ρ\n",
    "end"
   ]
  },
  {
   "cell_type": "markdown",
   "metadata": {},
   "source": [
    "### EOS \n",
    "$$ e = \\frac{p}{(\\gamma-1)\\rho}$$"
   ]
  },
  {
   "cell_type": "code",
   "execution_count": 6,
   "metadata": {},
   "outputs": [
    {
     "data": {
      "text/plain": [
       "eTop (generic function with 1 method)"
      ]
     },
     "execution_count": 6,
     "metadata": {},
     "output_type": "execute_result"
    }
   ],
   "source": [
    "function pToe(p,ρ,γ)\n",
    "    return p ./ ρ/(γ-1)\n",
    "end\n",
    "function eTop(e,ρ,γ)\n",
    "    return (γ-1)*ρ .* e\n",
    "end"
   ]
  },
  {
   "cell_type": "code",
   "execution_count": 7,
   "metadata": {},
   "outputs": [
    {
     "data": {
      "text/plain": [
       "CFL (generic function with 1 method)"
      ]
     },
     "execution_count": 7,
     "metadata": {},
     "output_type": "execute_result"
    }
   ],
   "source": [
    "function CFL(SF,x::Array{Float64,1},y::Array{Float64,1},\n",
    "                u::Array{Float64,1},v::Array{Float64},\n",
    "                p::Array{Float64,1},ρ::Array{Float64,1})\n",
    "    Ic, = size(ρ)\n",
    "    cflmin = 1.e9\n",
    "    cfl =0\n",
    "    γ = problem.γ\n",
    "    for i in 1:Ic\n",
    "        u2max = 0\n",
    "        u2=0.0\n",
    "        for j = 1:4\n",
    "            u2 = u[j]^2+v[j]^2\n",
    "            if u2 > u2max ; u2max = u2; end\n",
    "        end\n",
    "        \n",
    "        dlmin = 1.e9\n",
    "        for j=1:3\n",
    "            dl= (x[j+1] - x[j])^2+(y[j+1]-y[j])^2\n",
    "            if dl < dlmin; dlmin=dl; end\n",
    "        end\n",
    "        c = √(γ*p[i]/ρ[i])\n",
    "        cfl = √(dlmin)/(√(u2)+c)\n",
    "        if cfl < cflmin; cflmin = cfl; end\n",
    "    end\n",
    "    dt = cfl*SF\n",
    "    return dt\n",
    "end \n",
    "        "
   ]
  },
  {
   "cell_type": "code",
   "execution_count": 25,
   "metadata": {},
   "outputs": [
    {
     "data": {
      "text/plain": [
       "TimeSolve (generic function with 1 method)"
      ]
     },
     "execution_count": 25,
     "metadata": {},
     "output_type": "execute_result"
    }
   ],
   "source": [
    "function TimeSolve(u,v,x,y,p,mz,ρ)\n",
    "    tt= problem.tt\n",
    "    sf =problem.sf\n",
    "    t= 0.0\n",
    "#    while t<tt\n",
    "for i in 1:2\n",
    "        dt=CFL(sf,x,y,u,v,p,ρ)\n",
    "        if t+dt>tt\n",
    "           dt = tt-t\n",
    "        end\n",
    "        \n",
    "        u,v,x,y,p,ρ = Euler1st(dt,u,v,x,y,p,mz,ρ)\n",
    "    t += dt\n",
    "        println(t)\n",
    "    end\n",
    "#\n",
    "    return u,v,x,y,p,ρ\n",
    "end"
   ]
  },
  {
   "cell_type": "code",
   "execution_count": 26,
   "metadata": {},
   "outputs": [
    {
     "name": "stdout",
     "output_type": "stream",
     "text": [
      "0.0012677313820927745\n",
      "0.001474106258247412\n"
     ]
    },
    {
     "data": {
      "text/plain": [
       "([-1.96749, -0.380653, 3.80629e-14, -1.83871e-14, -1.51221e-14, 6.69323e-14, -7.00255e-14, -2.44015e-14, -1.86448e-14, 3.71178e-14  …  1.30058e-12, -2.73636e-13, 2.97565e-13, -1.15662e-12, -6.73469e-13, 8.29866e-13, -2.17745e-13, 1.41898e-13, 0.00729655, -0.791689], [-2.31353, 6.63338, 4.26032, 4.26032, 4.26032, 4.26032, 4.26032, 4.26032, 4.26032, 4.26032  …  -1.50356, -1.50356, -1.50356, -1.50356, -1.50356, -1.50356, -1.50356, -1.50356, -1.4581, -0.806425], [0.00202253, 0.00992144, 0.015, 0.02, 0.025, 0.03, 0.035, 0.04, 0.045, 0.05  …  0.96, 0.965, 0.97, 0.975, 0.98, 0.985, 0.99, 0.995, 1.0, 1.00398], [0.00195112, 0.0140832, 0.0135935, 0.0135935, 0.0135935, 0.0135935, 0.0135935, 0.0135935, 0.0135935, 0.0135935  …  0.103147, 0.103147, 0.103147, 0.103147, 0.103147, 0.103147, 0.103147, 0.103147, 0.103156, 0.103976], [-0.353184, -2.41522, -2.48847, -2.48847, -2.48847, -2.48847, -2.48847, -2.48847, -2.48847, -2.48847  …  0.141102, 0.141102, 0.141102, 0.141102, 0.141102, 0.141102, 0.141102, 0.141102, 0.139839, 0.121815], [-0.384194, -1.38784, -1.42993, -1.42993, -1.42993, -1.42993, -1.42993, -1.42993, -1.42993, -1.42993  …  0.159661, 0.159661, 0.159661, 0.159661, 0.159661, 0.159661, 0.159661, 0.159661, 0.158232, 0.137927])"
      ]
     },
     "execution_count": 26,
     "metadata": {},
     "output_type": "execute_result"
    }
   ],
   "source": [
    "x,y,u,v,mz,p,ρ,Az=InitTest1()\n",
    "u,v,x,y,p,ρ = TimeSolve(u, v, x, y, p, mz,ρ)"
   ]
  },
  {
   "cell_type": "code",
   "execution_count": 37,
   "metadata": {},
   "outputs": [
    {
     "ename": "UndefVarError",
     "evalue": "UndefVarError: plots not defined",
     "output_type": "error",
     "traceback": [
      "UndefVarError: plots not defined",
      "",
      "Stacktrace:",
      " [1] top-level scope at In[37]:2"
     ]
    }
   ],
   "source": [
    "using Plots\n",
    "plots()    "
   ]
  },
  {
   "cell_type": "code",
   "execution_count": 1,
   "metadata": {},
   "outputs": [
    {
     "ename": "UndefVarError",
     "evalue": "UndefVarError: Tc not defined",
     "output_type": "error",
     "traceback": [
      "UndefVarError: Tc not defined",
      "",
      "Stacktrace:",
      " [1] top-level scope at In[1]:1"
     ]
    }
   ],
   "source": [
    "Ip, = size(Tc) \n",
    "p = zeros(Float64,Ip,4)\n",
    "for i in 1:Ip\n",
    "    p[i,1] = x[i]\n",
    "    p[i,2] = y[i]\n",
    "    p[i,3] = u[i]\n",
    "    p[i,4] = v[i]\n",
    "end\n",
    "p"
   ]
  },
  {
   "cell_type": "code",
   "execution_count": 2,
   "metadata": {},
   "outputs": [
    {
     "ename": "UndefVarError",
     "evalue": "UndefVarError: p not defined",
     "output_type": "error",
     "traceback": [
      "UndefVarError: p not defined",
      "",
      "Stacktrace:",
      " [1] top-level scope at In[2]:1"
     ]
    }
   ],
   "source": [
    "scatter3D(p[:,1],p[:,2],p[:,3])"
   ]
  },
  {
   "cell_type": "code",
   "execution_count": 9,
   "metadata": {},
   "outputs": [
    {
     "data": {
      "text/plain": [
       "InitTest1 (generic function with 1 method)"
      ]
     },
     "execution_count": 9,
     "metadata": {},
     "output_type": "execute_result"
    }
   ],
   "source": [
    "function InitTest1()\n",
    "\n",
    "    global problem = prb(0.1,0.3,1.4)\n",
    "     \n",
    "    I =200\n",
    "    J =20\n",
    "    dx = 1.0/I\n",
    "    dy = 0.1/J\n",
    "    \n",
    "    \n",
    "    Ip = (I+1)*(J+1) # Number of  points\n",
    "    Ic = I*J  # number of cells\n",
    "    \n",
    "    global Tp = zeros(Int,Ic,4) #格点\n",
    "    global Tc = zeros(Int,Ip,4) #点格\n",
    "    \n",
    "    IBL = J+1\n",
    "    IBR = J+1\n",
    "    IBU = I+1\n",
    "    IBD = I+1\n",
    "   # 点格表，格点表初始化 \n",
    "    for i in 1:200 \n",
    "        for j in 1:20\n",
    "            ic = i+(j-1)*200\n",
    "            Tp[ic,1] = i + (j-1)*201\n",
    "            Tp[ic,2] = i+1 +(j-1)*201\n",
    "            Tp[ic,3]=i+1+j*201\n",
    "            Tp[ic,4]=i+j*201\n",
    "        end\n",
    "    end\n",
    "    \n",
    "    \n",
    "    for i in 1:201\n",
    "        for j in 1:21\n",
    "            ip = i+(j-1)*201\n",
    "            Tc[ip,1] = i +(j-1)*200\n",
    "            if i==1 \n",
    "                Tc[ip,2] = 0  \n",
    "            else\n",
    "                Tc[ip,2] = i-1+(j-1)*200\n",
    "            end\n",
    "            if i==1 & j ==1\n",
    "                Tc[ip,3] = 0\n",
    "            else\n",
    "                Tc[ip,3] = i-1+(j-2)*200\n",
    "            end\n",
    "            \n",
    "            if j==1\n",
    "                Tc[ip,4] = 0\n",
    "            else\n",
    "                Tc[ip,4] = i+(j-2)*200\n",
    "            end\n",
    "        end\n",
    "    end\n",
    "    \n",
    "    #流场初始化 Init of the flow\n",
    "    \n",
    "    x = zeros(Float64,Ip)\n",
    "    y = zeros(Float64,Ip)\n",
    "    u = zeros(Float64,Ip)\n",
    "    v = zeros(Float64,Ip)\n",
    "    \n",
    "    ρ = zeros(Float64,Ic)\n",
    "    mz = zeros(Float64,Ic)\n",
    "    p = zeros(Float64,Ic)\n",
    "    Az= zeros(Float64,Ic)\n",
    "    for i in 1:201\n",
    "        for j = 1:21\n",
    "            ip =i+(j-1)*201\n",
    "            x[ip] = i*dx\n",
    "            y[ip] = j*dy\n",
    "            \n",
    "            u[ip] = 0.0\n",
    "            v[ip] = 0.0\n",
    "        end\n",
    "    end\n",
    "    \n",
    "    xz = zeros(Float64,4)\n",
    "    yz = zeros(Float64,4) \n",
    "    for i in 1:200\n",
    "        for j in 1:20\n",
    "            ic = i+(j-1)*200\n",
    "            xz[1:4] = x[Tp[ic,1:4]]\n",
    "            yz[1:4] = y[Tp[ic,1:4]]\n",
    "            A = A_z(ic,xz,yz)\n",
    "            Az[ic] = A[1]+A[2]+A[3]+A[4]\n",
    "            if i<=100\n",
    "                mz[ic] = 1.0* Az[ic]\n",
    "                p[ic] = 1.0\n",
    "                ρ[ic] = 1.0\n",
    "            else\n",
    "                mz[ic] = 0.1 * Az[ic]\n",
    "                p[ic] = 0.1\n",
    "                ρ[ic] = 0.1\n",
    "            end\n",
    "        end\n",
    "    end\n",
    "    \n",
    "    return x,y,u,v,mz,p,ρ,Az\n",
    "end"
   ]
  },
  {
   "cell_type": "code",
   "execution_count": 10,
   "metadata": {},
   "outputs": [],
   "source": [
    "struct prb\n",
    "    tt::Float64\n",
    "    sf::Float64\n",
    "    γ ::Float64\n",
    "end"
   ]
  },
  {
   "cell_type": "code",
   "execution_count": 11,
   "metadata": {},
   "outputs": [
    {
     "data": {
      "text/plain": [
       "Area3 (generic function with 1 method)"
      ]
     },
     "execution_count": 11,
     "metadata": {},
     "output_type": "execute_result"
    }
   ],
   "source": [
    "function Area3(x1,x2,x3,y1,y2,y3)\n",
    "    return (x1*y2+y1*x3+x2*y3-x1*y3-y1*x2-y2*x3)/2\n",
    "end"
   ]
  },
  {
   "cell_type": "code",
   "execution_count": 34,
   "metadata": {},
   "outputs": [
    {
     "name": "stdout",
     "output_type": "stream",
     "text": [
      "  2.515 ns (0 allocations: 0 bytes)\n"
     ]
    },
    {
     "data": {
      "text/plain": [
       "10"
      ]
     },
     "execution_count": 34,
     "metadata": {},
     "output_type": "execute_result"
    }
   ],
   "source": [
    "using BenchmarkTools\n",
    "@btime sum(i for i in 1:4)"
   ]
  },
  {
   "cell_type": "code",
   "execution_count": 50,
   "metadata": {},
   "outputs": [
    {
     "data": {
      "text/plain": [
       "(3, 2, 2)"
      ]
     },
     "execution_count": 50,
     "metadata": {},
     "output_type": "execute_result"
    }
   ],
   "source": [
    "A = (3,2,2)"
   ]
  },
  {
   "cell_type": "code",
   "execution_count": 51,
   "metadata": {},
   "outputs": [
    {
     "data": {
      "text/plain": [
       "Tuple{Int64,Int64,Int64}"
      ]
     },
     "execution_count": 51,
     "metadata": {},
     "output_type": "execute_result"
    }
   ],
   "source": [
    "typeof(A)"
   ]
  },
  {
   "cell_type": "code",
   "execution_count": 52,
   "metadata": {},
   "outputs": [
    {
     "data": {
      "text/plain": [
       "(3, 2, 2)"
      ]
     },
     "execution_count": 52,
     "metadata": {},
     "output_type": "execute_result"
    }
   ],
   "source": [
    "A ::Tuple"
   ]
  },
  {
   "cell_type": "code",
   "execution_count": 53,
   "metadata": {},
   "outputs": [
    {
     "ename": "MethodError",
     "evalue": "MethodError: no method matching setindex!(::Tuple{Int64,Int64,Int64}, ::Tuple{Int64,Int64,Int64}, ::Int64)",
     "output_type": "error",
     "traceback": [
      "MethodError: no method matching setindex!(::Tuple{Int64,Int64,Int64}, ::Tuple{Int64,Int64,Int64}, ::Int64)",
      "",
      "Stacktrace:",
      " [1] top-level scope at In[53]:1"
     ]
    }
   ],
   "source": [
    "A[1] = (3,2,2)"
   ]
  },
  {
   "cell_type": "code",
   "execution_count": 56,
   "metadata": {},
   "outputs": [
    {
     "ename": "BoundsError",
     "evalue": "BoundsError",
     "output_type": "error",
     "traceback": [
      "BoundsError",
      "",
      "Stacktrace:",
      " [1] getindex(::Int64, ::Int64) at ./number.jl:78",
      " [2] top-level scope at In[56]:1"
     ]
    }
   ],
   "source": []
  },
  {
   "cell_type": "code",
   "execution_count": 70,
   "metadata": {},
   "outputs": [
    {
     "name": "stdout",
     "output_type": "stream",
     "text": [
      "search: \u001b[0m\u001b[1ma\u001b[22m\u001b[0m\u001b[1mp\u001b[22m\u001b[0m\u001b[1mp\u001b[22m\u001b[0m\u001b[1me\u001b[22m\u001b[0m\u001b[1mn\u001b[22m\u001b[0m\u001b[1md\u001b[22m\u001b[0m\u001b[1m!\u001b[22m\n",
      "\n"
     ]
    },
    {
     "data": {
      "text/latex": [
       "\\begin{verbatim}\n",
       "append!(collection, collection2) -> collection.\n",
       "\\end{verbatim}\n",
       "Add the elements of \\texttt{collection2} to the end of \\texttt{collection}.\n",
       "\n",
       "\\section{Examples}\n",
       "\\begin{verbatim}\n",
       "julia> append!([1],[2,3])\n",
       "3-element Array{Int64,1}:\n",
       " 1\n",
       " 2\n",
       " 3\n",
       "\n",
       "julia> append!([1, 2, 3], [4, 5, 6])\n",
       "6-element Array{Int64,1}:\n",
       " 1\n",
       " 2\n",
       " 3\n",
       " 4\n",
       " 5\n",
       " 6\n",
       "\\end{verbatim}\n",
       "Use \\href{@ref}{\\texttt{push!}} to add individual items to \\texttt{collection} which are not already themselves in another collection. The result of the preceding example is equivalent to \\texttt{push!([1, 2, 3], 4, 5, 6)}.\n",
       "\n",
       "\\rule{\\textwidth}{1pt}\n",
       "\\begin{verbatim}\n",
       "append!(cb, datavec)\n",
       "\\end{verbatim}\n",
       "Push at most last \\texttt{capacity} items.\n",
       "\n"
      ],
      "text/markdown": [
       "```\n",
       "append!(collection, collection2) -> collection.\n",
       "```\n",
       "\n",
       "Add the elements of `collection2` to the end of `collection`.\n",
       "\n",
       "# Examples\n",
       "\n",
       "```jldoctest\n",
       "julia> append!([1],[2,3])\n",
       "3-element Array{Int64,1}:\n",
       " 1\n",
       " 2\n",
       " 3\n",
       "\n",
       "julia> append!([1, 2, 3], [4, 5, 6])\n",
       "6-element Array{Int64,1}:\n",
       " 1\n",
       " 2\n",
       " 3\n",
       " 4\n",
       " 5\n",
       " 6\n",
       "```\n",
       "\n",
       "Use [`push!`](@ref) to add individual items to `collection` which are not already themselves in another collection. The result of the preceding example is equivalent to `push!([1, 2, 3], 4, 5, 6)`.\n",
       "\n",
       "---\n",
       "\n",
       "```\n",
       "append!(cb, datavec)\n",
       "```\n",
       "\n",
       "Push at most last `capacity` items.\n"
      ],
      "text/plain": [
       "\u001b[36m  append!(collection, collection2) -> collection.\u001b[39m\n",
       "\n",
       "  Add the elements of \u001b[36mcollection2\u001b[39m to the end of \u001b[36mcollection\u001b[39m.\n",
       "\n",
       "\u001b[1m  Examples\u001b[22m\n",
       "\u001b[1m  ≡≡≡≡≡≡≡≡≡≡\u001b[22m\n",
       "\n",
       "\u001b[36m  julia> append!([1],[2,3])\u001b[39m\n",
       "\u001b[36m  3-element Array{Int64,1}:\u001b[39m\n",
       "\u001b[36m   1\u001b[39m\n",
       "\u001b[36m   2\u001b[39m\n",
       "\u001b[36m   3\u001b[39m\n",
       "\u001b[36m  \u001b[39m\n",
       "\u001b[36m  julia> append!([1, 2, 3], [4, 5, 6])\u001b[39m\n",
       "\u001b[36m  6-element Array{Int64,1}:\u001b[39m\n",
       "\u001b[36m   1\u001b[39m\n",
       "\u001b[36m   2\u001b[39m\n",
       "\u001b[36m   3\u001b[39m\n",
       "\u001b[36m   4\u001b[39m\n",
       "\u001b[36m   5\u001b[39m\n",
       "\u001b[36m   6\u001b[39m\n",
       "\n",
       "  Use \u001b[36mpush!\u001b[39m to add individual items to \u001b[36mcollection\u001b[39m which are not already\n",
       "  themselves in another collection. The result of the preceding example is\n",
       "  equivalent to \u001b[36mpush!([1, 2, 3], 4, 5, 6)\u001b[39m.\n",
       "\n",
       "  ────────────────────────────────────────────────────────────────────────────\n",
       "\n",
       "\u001b[36m  append!(cb, datavec)\u001b[39m\n",
       "\n",
       "  Push at most last \u001b[36mcapacity\u001b[39m items."
      ]
     },
     "execution_count": 70,
     "metadata": {},
     "output_type": "execute_result"
    }
   ],
   "source": [
    "? append!"
   ]
  },
  {
   "cell_type": "code",
   "execution_count": 63,
   "metadata": {},
   "outputs": [
    {
     "data": {
      "text/plain": [
       "4-element Array{Int64,1}:\n",
       " 1\n",
       " 2\n",
       " 3\n",
       " 4"
      ]
     },
     "execution_count": 63,
     "metadata": {},
     "output_type": "execute_result"
    }
   ],
   "source": [
    "B = [1; 2; 3; 4]"
   ]
  },
  {
   "cell_type": "code",
   "execution_count": 68,
   "metadata": {},
   "outputs": [
    {
     "name": "stdout",
     "output_type": "stream",
     "text": [
      "search: \u001b[0m\u001b[1mB\u001b[22m\u001b[0m\u001b[1mi\u001b[22m\u001b[0m\u001b[1mt\u001b[22m\u001b[0m\u001b[1mA\u001b[22m\u001b[0m\u001b[1mr\u001b[22m\u001b[0m\u001b[1mr\u001b[22m\u001b[0m\u001b[1ma\u001b[22m\u001b[0m\u001b[1my\u001b[22m\n",
      "\n"
     ]
    },
    {
     "data": {
      "text/latex": [
       "\\begin{verbatim}\n",
       "BitArray{N} <: AbstractArray{Bool, N}\n",
       "\\end{verbatim}\n",
       "Space-efficient \\texttt{N}-dimensional boolean array, using just one bit for each boolean value.\n",
       "\n",
       "\\texttt{BitArray}s pack up to 64 values into every 8 bytes, resulting in an 8x space efficiency over \\texttt{Array\\{Bool, N\\}} and allowing some operations to work on 64 values at once.\n",
       "\n",
       "By default, Julia returns \\texttt{BitArrays} from \\href{@ref Broadcasting}{broadcasting} operations that generate boolean elements (including dotted-comparisons like \\texttt{.==}) as well as from the functions \\href{@ref}{\\texttt{trues}} and \\href{@ref}{\\texttt{falses}}.\n",
       "\n",
       "\\rule{\\textwidth}{1pt}\n",
       "\\begin{verbatim}\n",
       "BitArray(undef, dims::Integer...)\n",
       "BitArray{N}(undef, dims::NTuple{N,Int})\n",
       "\\end{verbatim}\n",
       "Construct an undef \\href{@ref}{\\texttt{BitArray}} with the given dimensions. Behaves identically to the \\href{@ref}{\\texttt{Array}} constructor. See \\href{@ref}{\\texttt{undef}}.\n",
       "\n",
       "\\section{Examples}\n",
       "\\begin{verbatim}\n",
       "julia> BitArray(undef, 2, 2)\n",
       "2×2 BitArray{2}:\n",
       " false  false\n",
       " false  true\n",
       "\n",
       "julia> BitArray(undef, (3, 1))\n",
       "3×1 BitArray{2}:\n",
       " false\n",
       " true\n",
       " false\n",
       "\\end{verbatim}\n",
       "\\rule{\\textwidth}{1pt}\n",
       "\\begin{verbatim}\n",
       "BitArray(itr)\n",
       "\\end{verbatim}\n",
       "Construct a \\href{@ref}{\\texttt{BitArray}} generated by the given iterable object. The shape is inferred from the \\texttt{itr} object.\n",
       "\n",
       "\\section{Examples}\n",
       "\\begin{verbatim}\n",
       "julia> BitArray([1 0; 0 1])\n",
       "2×2 BitArray{2}:\n",
       "  true  false\n",
       " false   true\n",
       "\n",
       "julia> BitArray(x+y == 3 for x = 1:2, y = 1:3)\n",
       "2×3 BitArray{2}:\n",
       " false   true  false\n",
       "  true  false  false\n",
       "\n",
       "julia> BitArray(x+y == 3 for x = 1:2 for y = 1:3)\n",
       "6-element BitArray{1}:\n",
       " false\n",
       "  true\n",
       " false\n",
       "  true\n",
       " false\n",
       " false\n",
       "\\end{verbatim}\n"
      ],
      "text/markdown": [
       "```\n",
       "BitArray{N} <: AbstractArray{Bool, N}\n",
       "```\n",
       "\n",
       "Space-efficient `N`-dimensional boolean array, using just one bit for each boolean value.\n",
       "\n",
       "`BitArray`s pack up to 64 values into every 8 bytes, resulting in an 8x space efficiency over `Array{Bool, N}` and allowing some operations to work on 64 values at once.\n",
       "\n",
       "By default, Julia returns `BitArrays` from [broadcasting](@ref Broadcasting) operations that generate boolean elements (including dotted-comparisons like `.==`) as well as from the functions [`trues`](@ref) and [`falses`](@ref).\n",
       "\n",
       "---\n",
       "\n",
       "```\n",
       "BitArray(undef, dims::Integer...)\n",
       "BitArray{N}(undef, dims::NTuple{N,Int})\n",
       "```\n",
       "\n",
       "Construct an undef [`BitArray`](@ref) with the given dimensions. Behaves identically to the [`Array`](@ref) constructor. See [`undef`](@ref).\n",
       "\n",
       "# Examples\n",
       "\n",
       "```julia-repl\n",
       "julia> BitArray(undef, 2, 2)\n",
       "2×2 BitArray{2}:\n",
       " false  false\n",
       " false  true\n",
       "\n",
       "julia> BitArray(undef, (3, 1))\n",
       "3×1 BitArray{2}:\n",
       " false\n",
       " true\n",
       " false\n",
       "```\n",
       "\n",
       "---\n",
       "\n",
       "```\n",
       "BitArray(itr)\n",
       "```\n",
       "\n",
       "Construct a [`BitArray`](@ref) generated by the given iterable object. The shape is inferred from the `itr` object.\n",
       "\n",
       "# Examples\n",
       "\n",
       "```jldoctest\n",
       "julia> BitArray([1 0; 0 1])\n",
       "2×2 BitArray{2}:\n",
       "  true  false\n",
       " false   true\n",
       "\n",
       "julia> BitArray(x+y == 3 for x = 1:2, y = 1:3)\n",
       "2×3 BitArray{2}:\n",
       " false   true  false\n",
       "  true  false  false\n",
       "\n",
       "julia> BitArray(x+y == 3 for x = 1:2 for y = 1:3)\n",
       "6-element BitArray{1}:\n",
       " false\n",
       "  true\n",
       " false\n",
       "  true\n",
       " false\n",
       " false\n",
       "```\n"
      ],
      "text/plain": [
       "\u001b[36m  BitArray{N} <: AbstractArray{Bool, N}\u001b[39m\n",
       "\n",
       "  Space-efficient \u001b[36mN\u001b[39m-dimensional boolean array, using just one bit for each\n",
       "  boolean value.\n",
       "\n",
       "  \u001b[36mBitArray\u001b[39ms pack up to 64 values into every 8 bytes, resulting in an 8x space\n",
       "  efficiency over \u001b[36mArray{Bool, N}\u001b[39m and allowing some operations to work on 64\n",
       "  values at once.\n",
       "\n",
       "  By default, Julia returns \u001b[36mBitArrays\u001b[39m from broadcasting operations that\n",
       "  generate boolean elements (including dotted-comparisons like \u001b[36m.==\u001b[39m) as well as\n",
       "  from the functions \u001b[36mtrues\u001b[39m and \u001b[36mfalses\u001b[39m.\n",
       "\n",
       "  ────────────────────────────────────────────────────────────────────────────\n",
       "\n",
       "\u001b[36m  BitArray(undef, dims::Integer...)\u001b[39m\n",
       "\u001b[36m  BitArray{N}(undef, dims::NTuple{N,Int})\u001b[39m\n",
       "\n",
       "  Construct an undef \u001b[36mBitArray\u001b[39m with the given dimensions. Behaves identically\n",
       "  to the \u001b[36mArray\u001b[39m constructor. See \u001b[36mundef\u001b[39m.\n",
       "\n",
       "\u001b[1m  Examples\u001b[22m\n",
       "\u001b[1m  ≡≡≡≡≡≡≡≡≡≡\u001b[22m\n",
       "\n",
       "\u001b[36m  julia> BitArray(undef, 2, 2)\u001b[39m\n",
       "\u001b[36m  2×2 BitArray{2}:\u001b[39m\n",
       "\u001b[36m   false  false\u001b[39m\n",
       "\u001b[36m   false  true\u001b[39m\n",
       "\u001b[36m  \u001b[39m\n",
       "\u001b[36m  julia> BitArray(undef, (3, 1))\u001b[39m\n",
       "\u001b[36m  3×1 BitArray{2}:\u001b[39m\n",
       "\u001b[36m   false\u001b[39m\n",
       "\u001b[36m   true\u001b[39m\n",
       "\u001b[36m   false\u001b[39m\n",
       "\n",
       "  ────────────────────────────────────────────────────────────────────────────\n",
       "\n",
       "\u001b[36m  BitArray(itr)\u001b[39m\n",
       "\n",
       "  Construct a \u001b[36mBitArray\u001b[39m generated by the given iterable object. The shape is\n",
       "  inferred from the \u001b[36mitr\u001b[39m object.\n",
       "\n",
       "\u001b[1m  Examples\u001b[22m\n",
       "\u001b[1m  ≡≡≡≡≡≡≡≡≡≡\u001b[22m\n",
       "\n",
       "\u001b[36m  julia> BitArray([1 0; 0 1])\u001b[39m\n",
       "\u001b[36m  2×2 BitArray{2}:\u001b[39m\n",
       "\u001b[36m    true  false\u001b[39m\n",
       "\u001b[36m   false   true\u001b[39m\n",
       "\u001b[36m  \u001b[39m\n",
       "\u001b[36m  julia> BitArray(x+y == 3 for x = 1:2, y = 1:3)\u001b[39m\n",
       "\u001b[36m  2×3 BitArray{2}:\u001b[39m\n",
       "\u001b[36m   false   true  false\u001b[39m\n",
       "\u001b[36m    true  false  false\u001b[39m\n",
       "\u001b[36m  \u001b[39m\n",
       "\u001b[36m  julia> BitArray(x+y == 3 for x = 1:2 for y = 1:3)\u001b[39m\n",
       "\u001b[36m  6-element BitArray{1}:\u001b[39m\n",
       "\u001b[36m   false\u001b[39m\n",
       "\u001b[36m    true\u001b[39m\n",
       "\u001b[36m   false\u001b[39m\n",
       "\u001b[36m    true\u001b[39m\n",
       "\u001b[36m   false\u001b[39m\n",
       "\u001b[36m   false\u001b[39m"
      ]
     },
     "execution_count": 68,
     "metadata": {},
     "output_type": "execute_result"
    }
   ],
   "source": [
    "? BitArray"
   ]
  },
  {
   "cell_type": "code",
   "execution_count": null,
   "metadata": {},
   "outputs": [],
   "source": []
  }
 ],
 "metadata": {
  "@webio": {
   "lastCommId": null,
   "lastKernelId": null
  },
  "kernelspec": {
   "display_name": "Julia 1.1.1",
   "language": "julia",
   "name": "julia-1.1"
  },
  "language_info": {
   "file_extension": ".jl",
   "mimetype": "application/julia",
   "name": "julia",
   "version": "1.1.1"
  }
 },
 "nbformat": 4,
 "nbformat_minor": 2
}
