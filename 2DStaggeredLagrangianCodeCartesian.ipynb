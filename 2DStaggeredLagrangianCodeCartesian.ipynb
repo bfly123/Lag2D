{
 "cells": [
  {
   "cell_type": "markdown",
   "metadata": {},
   "source": [
    "#  Code for 2D staggered Lagrangian method in Cartersian coordinates"
   ]
  },
  {
   "cell_type": "markdown",
   "metadata": {},
   "source": [
    "## Control equations"
   ]
  },
  {
   "cell_type": "markdown",
   "metadata": {},
   "source": [
    "### Momentum equation\n",
    "\n",
    "$$\\tag{1.1}\\rho \\frac{d\\mathbf{v}}{dt} =  -\\nabla p $$ \n",
    "where $\\mathbf{v}$ is the vector of velocity, and $\\rho$ is the density and $p$ is the pressure.  "
   ]
  },
  {
   "cell_type": "markdown",
   "metadata": {},
   "source": [
    "### Energy equation\n",
    "\n",
    "$$ \\rho \\frac{dE}{dt} = -\\nabla \\cdot (p\\mathbf{v})$$ \n",
    "\n",
    "where $E$ is the specific total energy and it has a realtion with the specific internal energy \n",
    "$$E = e + \\frac{1}{2}\\mathbf{v}\\cdot\\mathbf{v}$$"
   ]
  },
  {
   "cell_type": "markdown",
   "metadata": {},
   "source": [
    "By (1.1) and (1.2) we have \n",
    "$$\\tag{1.3} \\rho \\frac{de}{dt} = - p\\nabla\\cdot \\mathbf{v}$$"
   ]
  },
  {
   "cell_type": "markdown",
   "metadata": {},
   "source": [
    "In  a Cartersian coordinates $x-y$, The equations (1.1) and (1.3) can be written as\n",
    "$$\\rho \\frac{du}{dt} = -\\frac{\\partial p}{\\partial x},\\quad \\rho \\frac{dv}{dt} = -\\frac{\\partial p}{\\partial y}$$\n",
    "and\n",
    "$$\\rho \\frac{de}{dt} = -p (\\frac{\\partial u}{\\partial x} +\\frac{\\partial v}{\\partial y})$$"
   ]
  },
  {
   "cell_type": "markdown",
   "metadata": {},
   "source": [
    "## Compatible Staggered Discretization"
   ]
  },
  {
   "cell_type": "markdown",
   "metadata": {},
   "source": [
    "<img src=\"Grid.png\" width = \"800\" height = \"400\" div align=center /> "
   ]
  },
  {
   "cell_type": "markdown",
   "metadata": {},
   "source": [
    "<img src=\"cellpoint.png\" width = \"800\" height = \"400\" div align=center />"
   ]
  },
  {
   "cell_type": "markdown",
   "metadata": {},
   "source": [
    "### Quatities:\n",
    "\n",
    "On point: ($x_p$,$y_p$), ($u_p$,$v_p$)\n",
    "\n",
    "Zonal:  $V_z$, $\\rho_z$, $m_z$, $e_z$, $p_z$"
   ]
  },
  {
   "cell_type": "markdown",
   "metadata": {},
   "source": [
    "By the relation \n",
    "$$\\frac{dm_z}{dt} =0$$\n",
    "we have \n",
    "$$\\rho_z(t) = m_z/V_z(t)$$"
   ]
  },
  {
   "cell_type": "markdown",
   "metadata": {},
   "source": [
    "Also \n",
    "$$d(x_p)/dt = u_p, \\quad d(y_p)/dt = v_p$$"
   ]
  },
  {
   "cell_type": "markdown",
   "metadata": {},
   "source": [
    "### Point mass "
   ]
  },
  {
   "cell_type": "markdown",
   "metadata": {},
   "source": [
    "Point mass $m_p$ is used to solve point momentum $\\mu_p = m_p \\bf{u}_p$ and kinetic energy $K_p = m_p \\frac{\\bf{u}_p^2}{2}$"
   ]
  },
  {
   "cell_type": "markdown",
   "metadata": {},
   "source": [
    "<img src=\"Ins.jpg\" width = \"200\" height = \"400\" div align=center /> "
   ]
  },
  {
   "cell_type": "markdown",
   "metadata": {},
   "source": [
    "$$m_p = \\sum_{z\\in Z(p)} A_z^p \\rho^p_z$$\n",
    "\n",
    "$$\\rho_z(t) = m_z/V_z(t)$$"
   ]
  },
  {
   "cell_type": "markdown",
   "metadata": {},
   "source": []
  },
  {
   "cell_type": "code",
   "execution_count": 1,
   "metadata": {},
   "outputs": [
    {
     "data": {
      "text/plain": [
       "MassAndDens (generic function with 1 method)"
      ]
     },
     "execution_count": 1,
     "metadata": {},
     "output_type": "execute_result"
    }
   ],
   "source": [
    "function MassAndDens(mz::Array{Float64,1},x::Array{Float64,1},y::Array{Float64,1})\n",
    "    \n",
    "    Ic, = size(mz)\n",
    "    Ip, = size(Tc)\n",
    "    Asbz = zeros(Float64,4)\n",
    "    ρ = zeros(Float64,Ic)\n",
    "    mp = zeros(Float64,Ip)\n",
    "    xz = zeros(Float64,4)\n",
    "    yz = zeros(Float64,4)\n",
    "    for i in 1:Ic\n",
    "        xz[1:4] = x[Tp[i,1:4]]\n",
    "        yz[1:4] = y[Tp[i,1:4]]\n",
    "        Asbz = A_z(xz,yz)\n",
    "        Az = sum(Asbz)\n",
    "        ρ[i] = mz[i]/Az\n",
    "        \n",
    "        for j = 1:4\n",
    "            ip = Tp[i,j]\n",
    "            mp[ip] = mp[ip] + Asbz[j]*ρ[i]\n",
    "        end\n",
    "    end\n",
    "   # @show mp\n",
    "    return ρ,mp\n",
    "    \n",
    "   \n",
    "end           \n",
    "        "
   ]
  },
  {
   "cell_type": "markdown",
   "metadata": {},
   "source": [
    "\n",
    "$$ A_z^1 = \\frac{5A_{41}+5A_{12}+A_{23}+A_{34}}{12}$$\n",
    "$$ A_z^2 = \\frac{A_{41}+5A_{12}+5A_{23}+A_{34}}{12}$$\n",
    "$$ A_z^3 = \\frac{A_{41}+A_{12}+5A_{23}+5A_{34}}{12}$$\n",
    "$$ A_z^4 = \\frac{5A_{41}+A_{12}+A_{23}+5A_{34}}{12}$$"
   ]
  },
  {
   "cell_type": "code",
   "execution_count": 274,
   "metadata": {},
   "outputs": [
    {
     "data": {
      "text/plain": [
       "A_z (generic function with 1 method)"
      ]
     },
     "execution_count": 274,
     "metadata": {},
     "output_type": "execute_result"
    }
   ],
   "source": [
    "function A_z(xz::Array{Float64,1},yz::Array{Float64,1}) \n",
    "    A =zeros(Float64,4)\n",
    "    xc= sum(xz[i] for i in 1:4)/4\n",
    "    yc= sum(yz[i] for i in 1:4)/4\n",
    "    \n",
    "    A41 = Area3(xz[4],xz[1],xc,yz[4],yz[1],yc)\n",
    "    A12 = Area3(xz[1],xz[2],xc,yz[1],yz[2],yc)\n",
    "    A23 = Area3(xz[2],xz[3],xc,yz[2],yz[3],yc)\n",
    "    A34 = Area3(xz[3],xz[4],xc,yz[3],yz[4],yc)\n",
    "\n",
    "    A[1] = (5A41+5A12+A23+A34)/12\n",
    "    A[2] = (A41+5A12+5A23+A34)/12\n",
    "    A[3] = (A41+A12+5A23+5A34)/12\n",
    "    A[4] = (5A41+A12+A23+5A34)/12\n",
    "    \n",
    "  #  A[1] = (A41+A12+A23+A34)/4\n",
    "  #  A[2] = (A41+A12+A23+A34)/4\n",
    "  #  A[3] = (A41+A12+A23+A34)/4\n",
    "  #  A[4] = (A41+A12+A23+A34)/4\n",
    "    \n",
    "    \n",
    "    \n",
    "\n",
    "    return A\n",
    "end"
   ]
  },
  {
   "cell_type": "markdown",
   "metadata": {},
   "source": [
    "<img src=\"n1234.png\" width = \"300\" height = \"300\" div align=center />"
   ]
  },
  {
   "cell_type": "markdown",
   "metadata": {},
   "source": [
    "$$\\overrightarrow{n}_{12} = \\frac{1}{L_{12}}(y_1- y_2, x_2-x_1)  $$\n",
    "\n",
    "$$ \\mathbf{F_1}  = \\frac{1}{2} ( p \\cdot \\overrightarrow{n}_{12}L_{12} + p\\cdot \\overrightarrow{n}_{41}L_{41}) $$ \n",
    "\n",
    "$$ \\mathbf{F_1}  = \\frac{1}{2}  p \\left[ (y_1 - y_2, x_2 -x_1) + (y_4 -y_1, x_1 - x_4) \\right] $$ "
   ]
  },
  {
   "cell_type": "code",
   "execution_count": 63,
   "metadata": {},
   "outputs": [
    {
     "data": {
      "text/plain": [
       "force_zone (generic function with 1 method)"
      ]
     },
     "execution_count": 63,
     "metadata": {},
     "output_type": "execute_result"
    }
   ],
   "source": [
    "function force_zone(x,y,u,v,ρ,p)\n",
    "   \n",
    "    Fx = zeros(Float64,4)\n",
    "    Fy = zeros(Float64,4)\n",
    "    \n",
    "   # L12 = √((x[2]-x[1])^2+(y[2]-y[1])^2)\n",
    "    n12x = -y[2]+y[1]\n",
    "    n12y = x[2]-x[1]\n",
    "    \n",
    "  #  L41 = √((x[1]-x[4])^2+(y[1]-y[4])^2)\n",
    "    n41x = -y[1]+y[4]\n",
    "    n41y =  x[1]-x[4]\n",
    "    \n",
    "   # L23 = √((x[3]-x[2])^2+(y[3]-y[2])^2)\n",
    "    n23x = -y[3]+y[2]\n",
    "    n23y =  x[3]-x[2]\n",
    "    \n",
    "  #  L34 = √((x[4]-x[3])^2+(y[4]-y[3])^2)\n",
    "    n34x = -y[4]+y[3]\n",
    "    n34y =  x[4]-x[3]\n",
    "    \n",
    "    Fx[1] = p*(n12x+n41x)/2\n",
    "    Fy[1] = p*(n12y+n41y)/2\n",
    "    \n",
    "    Fx[2] = p*(n12x+n23x)/2\n",
    "    Fy[2] = p*(n12y+n23y)/2\n",
    "    \n",
    "    Fx[3] = p*(n23x+n34x)/2\n",
    "    Fy[3] = p*(n23y+n34y)/2\n",
    "    \n",
    "    Fx[4] = p*(n34x+n41x)/2\n",
    "    Fy[4] = p*(n34y+n41y)/2\n",
    "    \n",
    "    ex,ey = hourglass_viscosity(x, y, u, v, ρ, p) \n",
    "    \n",
    "    Fx = Fx .- ex\n",
    "    Fy = Fy .- ey\n",
    "    \n",
    "    return Fx,Fy\n",
    "end           "
   ]
  },
  {
   "cell_type": "markdown",
   "metadata": {},
   "source": [
    "对于单元 \n",
    "$$ \\frac{d e}{d t} = -\\frac{p}{\\rho}\\nabla \\cdot \\mathbf{u}$$ \n",
    "在单元上做积分\n",
    "\n",
    "$$ m_z \\frac{de_z}{dt} = \\sum_{z\\in Z(p)} \\bf{F}_z^p \\cdot \\bf{u}_p $$  "
   ]
  },
  {
   "cell_type": "markdown",
   "metadata": {},
   "source": [
    "对于节点\n",
    "$$ \\rho \\frac{d \\mathbf{u}}{dt} = - \\nabla p$$\n",
    "\n",
    "$$m_p \\frac{d\\bf{u}_p}{dt} = -\\sum_{p\\in P(z)} \\bf{F}_z^p$$"
   ]
  },
  {
   "cell_type": "markdown",
   "metadata": {},
   "source": [
    "$$F_z^1 = \\mathbf{F}_1 - c\\mathbf{e}_1$$"
   ]
  },
  {
   "cell_type": "code",
   "execution_count": 226,
   "metadata": {},
   "outputs": [
    {
     "data": {
      "text/plain": [
       "Rhs (generic function with 2 methods)"
      ]
     },
     "execution_count": 226,
     "metadata": {},
     "output_type": "execute_result"
    }
   ],
   "source": [
    "function Rhs(x::Array{Float64,1},y::Array{Float64,1},u::Array{Float64,1},v::Array{Float64,1},ρ,p::Array{Float64,1})  #Right hand e\n",
    "    Ic, = size(Tp)\n",
    "    Ip, = size(Tc)\n",
    "    rhsu = zeros(Float64,Ip)\n",
    "    rhsv = zeros(Float64,Ip) \n",
    "    rhse = zeros(Float64,Ic)\n",
    "    xz = zeros(Float64,4)\n",
    "    yz = zeros(Float64,4)\n",
    "    uz = zeros(Float64,4)\n",
    "    vz = zeros(Float64,4)\n",
    "    \n",
    "    for i in 1:Ic\n",
    "        for j =1:4\n",
    "            xz[j] = x[Tp[i,j]]\n",
    "            yz[j] = y[Tp[i,j]]\n",
    "            uz[j] = u[Tp[i,j]]\n",
    "            vz[j] = v[Tp[i,j]]\n",
    "        end\n",
    "        Fx,Fy = force_zone(xz,yz,uz,vz,ρ[i],p[i])\n",
    "      #  ex,ey = hourglass_viscosity(uz, vz, xz, yz, ρ[i], p[i])\n",
    "        ∑=0\n",
    "        for j in 1:4\n",
    "            ip = Tp[i,j]\n",
    "            ∑ = ∑ +u[ip]*Fx[j] + v[ip]*Fy[j]\n",
    "        end\n",
    "        rhse[i] = ∑\n",
    "        \n",
    "        for j = 1:4\n",
    "            ip = Tp[i,j]\n",
    "            rhsu[ip] +=  -Fx[j]\n",
    "            rhsv[ip] +=  -Fy[j]\n",
    "        end     \n",
    "    end\n",
    "    return rhse, rhsu,rhsv\n",
    "end"
   ]
  },
  {
   "cell_type": "code",
   "execution_count": 31,
   "metadata": {},
   "outputs": [
    {
     "data": {
      "text/plain": [
       "Euler1st (generic function with 1 method)"
      ]
     },
     "execution_count": 31,
     "metadata": {},
     "output_type": "execute_result"
    }
   ],
   "source": [
    "function Euler1st(dt,u,v,x,y,p,mz,ρ,α)\n",
    "    Ip, = size(u)\n",
    "    Ic, = size(p)\n",
    "    \n",
    "    ρ,mp = MassAndDens(mz,x,y)\n",
    "   \n",
    " #   @show mp\n",
    "    \n",
    "    e = pToe(p, ρ,problem.γ)\n",
    "    \n",
    "    p = artificial_viscosity!(p,ρ,x,y,u,v,α)\n",
    "    \n",
    "    rhse, rhsu,rhsv = Rhs(x,y,u, v, p)\n",
    "    \n",
    "    rhsu,rhsv = Bound(rhsu,rhsv,x,y,u, v,ρ, p)\n",
    "    \n",
    "    x  +=  dt*u\n",
    "    y  +=  dt*v\n",
    "    u  += dt*(rhsu ./ mp)\n",
    "    v  += dt*(rhsv ./ mp)\n",
    "    e  += dt*(rhse ./ mz)\n",
    "    \n",
    "\n",
    "    ρ,mp = MassAndDens(mz,x,y)\n",
    "    \n",
    "    p = eTop(e, ρ,problem.γ)\n",
    "    return u,v,x,y,p,ρ\n",
    "end"
   ]
  },
  {
   "cell_type": "code",
   "execution_count": 227,
   "metadata": {},
   "outputs": [
    {
     "data": {
      "text/plain": [
       "predictor_corrector2nd (generic function with 1 method)"
      ]
     },
     "execution_count": 227,
     "metadata": {},
     "output_type": "execute_result"
    }
   ],
   "source": [
    "function predictor_corrector2nd(dt,u,v,x,y,p,mz,ρ,α)\n",
    "    Ip, = size(u)\n",
    "    Ic, = size(p)\n",
    "    \n",
    "    ρ,mp = MassAndDens(mz,x,y)\n",
    "    e = pToe(p, ρ,problem.γ)  \n",
    "    p = artificial_viscosity!(p,ρ,x,y,u,v,α)\n",
    "    \n",
    "    rhse, rhsu,rhsv = Rhs(x,y,u, v,ρ, p)\n",
    "    \n",
    "    rhsu,rhsv = Bound(rhsu,rhsv,x,y,u, v, ρ, p)\n",
    "    \n",
    "    x₀ =  x + dt*u\n",
    "    y₀  = y + dt*v\n",
    "    u₀  = u + dt*(rhsu ./ mp)\n",
    "    v₀  = v + dt*(rhsv ./ mp)\n",
    "    e₀  = e + dt*(rhse ./ mz)\n",
    "    \n",
    "\n",
    "    ρ,mp = MassAndDens(mz,x₀,y₀)\n",
    "    p = eTop(e₀, ρ,problem.γ)   \n",
    "    \n",
    "    p = artificial_viscosity!(p,ρ,x₀,y₀,u₀,v₀,α) \n",
    "    rhse₀,rhsu₀,rhsv₀ = Rhs(x₀,y₀,u₀, v₀,ρ, p)\n",
    "    rhsu₀,rhsv₀ = Bound(rhsu₀,rhsv₀,x₀,y₀,u₀, v₀,ρ, p)\n",
    "    \n",
    "    x +=  0.5dt*(u + u₀)\n",
    "    y +=  0.5dt*(v + v₀)\n",
    "    u +=  0.5dt*(rhsu + rhsu₀) ./ mp\n",
    "    v +=  0.5dt*(rhsv + rhsv₀) ./ mp\n",
    "    e +=  0.5dt*(rhse + rhse₀)  ./ mz\n",
    "    \n",
    "    ρ,mp = MassAndDens(mz,x,y)\n",
    "    p = eTop(e, ρ,problem.γ) \n",
    "    \n",
    "    return u,v,x,y,p,ρ\n",
    "end"
   ]
  },
  {
   "cell_type": "code",
   "execution_count": 267,
   "metadata": {},
   "outputs": [
    {
     "data": {
      "text/plain": [
       "Bound (generic function with 1 method)"
      ]
     },
     "execution_count": 267,
     "metadata": {},
     "output_type": "execute_result"
    }
   ],
   "source": [
    "function Bound(rhsu,rhsv,x,y,u,v,ρ,p)\n",
    "    Ip, = size(Tc)\n",
    "    Ib, = size(Tb)\n",
    "    xz = zeros(Float64,4)\n",
    "    yz = zeros(Float64,4)\n",
    "    uz = zeros(Float64,4)\n",
    "    vz = zeros(Float64,4)\n",
    "    ip1 = zeros(Int,4)\n",
    "    \n",
    "    for i in 1:Ib\n",
    "        ip = Tb[i,1]\n",
    "    #    @show ip\n",
    "        for j = 1:4\n",
    "            ic = Tc[ip,j]\n",
    "            if ic != 0\n",
    "                ip1 = Tp[ic,1:4]\n",
    "                xz[1:4] = x[ip1]\n",
    "                yz[1:4] = y[ip1]\n",
    "                uz[1:4] = u[ip1]\n",
    "                vz[1:4] = v[ip1]\n",
    "                \n",
    "                if Tb[i,2] ==1\n",
    "                    Fx,Fy = F_zB(xz,yz,uz,vz,ρ[ic],p[ic],j,1)\n",
    "                    rhsu[ip] +=  Fx\n",
    "                    rhsv[ip] += Fy \n",
    "                   # mp[ip] *= 2.0\n",
    "                elseif Tb[i,2] == 2  #boundary in y\n",
    "                    Fx,Fy = F_zB(xz,yz,uz,vz,ρ[ic],p[ic],j,1)\n",
    "                    rhsu[ip] += Fx\n",
    "                    rhsv[ip] = 0\n",
    "                    v[ip] = 0\n",
    "                end\n",
    "                if Tb[i,3] ==1\n",
    "                    Fx,Fy = F_zB(xz,yz,uz,vz,ρ[ic],p[ic],j,2)\n",
    "                    rhsu[ip] += Fx\n",
    "                    rhsv[ip] += Fy\n",
    "                   # mp[ip] *= 2.0\n",
    "                    \n",
    "                elseif Tb[i,3] ==2  #boundary in x\n",
    "                   Fx,Fy = F_zB(xz,yz,uz,vz,ρ[ic],p[ic],j,2)\n",
    "                    rhsu[ip] += Fx\n",
    "                    rhsv[ip] += Fy\n",
    "                   u[ip]  = 1.0\n",
    "                 end\n",
    "            end\n",
    "        end\n",
    "    end\n",
    "    return rhsu, rhsv\n",
    "end  "
   ]
  },
  {
   "cell_type": "markdown",
   "metadata": {},
   "source": [
    "### Boundary force\n",
    "\n",
    "If one edge of a cell is a free boundary, then $f$ on the points is zero. As we have add it in RHs(), we need to remove it by resolve it again. Different from RHs(), at every point of a cell the force is composited by two parts on different edges. This is distinguished by $k$ when $k = 1$ the boundary is on y direction, forces on 12 and 34 boundary must be subtracted. When $ k =2$ the boundary is on x direction, subtract forces on 41, 23. "
   ]
  },
  {
   "cell_type": "code",
   "execution_count": 71,
   "metadata": {},
   "outputs": [
    {
     "data": {
      "text/plain": [
       "F_zB (generic function with 1 method)"
      ]
     },
     "execution_count": 71,
     "metadata": {},
     "output_type": "execute_result"
    }
   ],
   "source": [
    "function F_zB(x::Array{Float64,1},y::Array{Float64,1},u,v,ρ,p::Float64,j::Int,k::Int)\n",
    "    Fx = 0.0\n",
    "    Fy = 0.0      \n",
    "    \n",
    "    ex,ey = hourglass_viscosity(u, v, x, y, ρ, p)\n",
    "    \n",
    "    if k==1 # y direction \n",
    "     #   L12 = √((x[2]-x[1])^2+(y[2]-y[1])^2)\n",
    "        n12x = -y[2]+y[1]\n",
    "        n12y = x[2]-x[1]\n",
    "     #   L34 = √((x[4]-x[3])^2+(y[4]-y[3])^2)\n",
    "        n34x = -y[4]+y[3]\n",
    "        n34y = x[4]-x[3]\n",
    "        if j == 1  #Point 1\n",
    "            Fx = p*n12x/2 \n",
    "            Fy = p*n12y/2 - ey[1]\n",
    "        elseif j == 2 \n",
    "            Fx = p*n12x/2  \n",
    "            Fy = p*n12y/2  - ey[2]\n",
    "        elseif j == 3\n",
    "            Fx = p*n34x/2 \n",
    "            Fy = p*n34y/2 - ey[3]\n",
    "        else \n",
    "            Fx = p*n34x/2 \n",
    "            Fy = p*n34y/2 - ey[4]\n",
    "        end\n",
    "    elseif k == 2\n",
    "      #  L41 = √((x[1]-x[4])^2+(y[1]-y[4])^2)\n",
    "        n41x = -y[1]+y[4]\n",
    "        n41y =  x[1]-x[4]\n",
    "\n",
    "       # L23 = √((x[3]-x[2])^2+(y[3]-y[2])^2)\n",
    "        n23x = -y[3]+y[2]\n",
    "        n23y = x[3]-x[2]\n",
    "        if j == 1\n",
    "            Fx = p*n41x/2 - ex[1]\n",
    "            Fy = p*n41y/2 \n",
    "        elseif j == 2 \n",
    "            Fx = p*n23x/2 - ex[2]\n",
    "            Fy = p*n23y/2  \n",
    "        elseif j == 3\n",
    "            Fx = p*n23x/2 - ex[3]\n",
    "            Fy = p*n23y/2 \n",
    "        else \n",
    "            Fx = p*n41x/2 - ex[4]\n",
    "            Fy = p*n41y/2  \n",
    "        end\n",
    "    end\n",
    "    return Fx,Fy\n",
    "    end           "
   ]
  },
  {
   "cell_type": "markdown",
   "metadata": {},
   "source": [
    "### EOS \n",
    "$$ e = \\frac{p}{(\\gamma-1)\\rho}$$"
   ]
  },
  {
   "cell_type": "code",
   "execution_count": 9,
   "metadata": {},
   "outputs": [
    {
     "data": {
      "text/plain": [
       "eTop (generic function with 1 method)"
      ]
     },
     "execution_count": 9,
     "metadata": {},
     "output_type": "execute_result"
    }
   ],
   "source": [
    "function pToe(p,ρ,γ)\n",
    "    return p ./ ρ/(γ-1)\n",
    "end\n",
    "function eTop(e,ρ,γ)\n",
    "    return (γ-1)*ρ .* e\n",
    "end"
   ]
  },
  {
   "cell_type": "code",
   "execution_count": 10,
   "metadata": {},
   "outputs": [
    {
     "data": {
      "text/plain": [
       "CFL (generic function with 1 method)"
      ]
     },
     "execution_count": 10,
     "metadata": {},
     "output_type": "execute_result"
    }
   ],
   "source": [
    "function CFL(SF,x::Array{Float64,1},y::Array{Float64,1},\n",
    "                u::Array{Float64,1},v::Array{Float64},\n",
    "                p::Array{Float64,1},ρ::Array{Float64,1})\n",
    "    Ic, = size(ρ)\n",
    "    cflmin = 1.e9\n",
    "      cfl = 0 \n",
    "    γ = problem.γ\n",
    "    for i in 1:Ic\n",
    "        cfl =0\n",
    "        u2max = 0\n",
    "        u2=0.0\n",
    "        for j = 1:4\n",
    "            ip = Tp[i,j]\n",
    "            u2 = u[ip]^2+v[ip]^2\n",
    "            if u2 > u2max ; u2max = u2; end\n",
    "        end\n",
    "        \n",
    "        dlmin = (x[Tp[i,4]] - x[Tp[i,1]])^2+(y[Tp[i,4]]-y[Tp[i,1]])^2\n",
    "        for j=1:3\n",
    "            dl= (x[Tp[i,j+1]] - x[Tp[i,j]])^2+(y[Tp[i,j+1]]-y[Tp[i,j]])^2\n",
    "            if dl < dlmin; dlmin=dl; end\n",
    "        end\n",
    "        c = √(γ*p[i]/ρ[i])\n",
    "        cfl = √(dlmin)/(√(u2max)+c)\n",
    "        if cfl < cflmin; cflmin = cfl; end\n",
    "    end\n",
    " #   @show cflmin\n",
    "    dt = cflmin*SF\n",
    "    return dt\n",
    "end \n",
    "        "
   ]
  },
  {
   "cell_type": "code",
   "execution_count": 11,
   "metadata": {},
   "outputs": [
    {
     "data": {
      "text/plain": [
       "TimeSolve (generic function with 1 method)"
      ]
     },
     "execution_count": 11,
     "metadata": {},
     "output_type": "execute_result"
    }
   ],
   "source": [
    "function TimeSolve(u,v,x,y,p,mz,ρ,α)\n",
    "    tt= problem.tt\n",
    "    sf =problem.sf\n",
    "    t= 0.0\n",
    "    t₁ = tt/100\n",
    "    t₂ = t₁\n",
    "    while t<tt   \n",
    "#for i in 1:50\n",
    "        dt=CFL(sf,x,y,u,v,p,ρ)\n",
    "        if t+dt>tt\n",
    "           dt = tt-t\n",
    "        end\n",
    "        \n",
    "        u,v,x,y,p,ρ = predictor_corrector2nd(dt,u,v,x,y,p,mz,ρ,α)\n",
    "        t += dt\n",
    "        if t > t₁\n",
    "            println(t)\n",
    "            t₁ += t₂\n",
    "        end\n",
    "    end\n",
    "#\n",
    "    return u,v,x,y,p,ρ\n",
    "end"
   ]
  },
  {
   "cell_type": "markdown",
   "metadata": {},
   "source": [
    "## Artificial Viscosity \n",
    "\n",
    "Wilkins（1980） use the strain rate along the direction of cell acceleration to construct the artificial viscosity \n",
    "$$\\frac{ds}{dt} = \\frac{\\partial u}{\\partial x} \\text{cos}^2 \\alpha + \\frac{\\partial v}{\\partial y} \\text{sin}^2\\alpha +(\\frac{\\partial u}{\\partial y} + \\frac{\\partial v}{\\partial x})\\text{sin} \\alpha \\text{cos} \\alpha$$\n"
   ]
  },
  {
   "cell_type": "markdown",
   "metadata": {},
   "source": [
    "Then the artificial viscosity can be written as\n",
    "$$ q_w = \\left\\{ \\begin{align}\n",
    "l_0^2 \\rho \\left( \\frac{ds}{dt} \\right)^2 +  l_L\\rho c \\left|\\frac{ds}{dt}\\right|, \\quad \\text{if}  \\quad \\frac{ds}{dt}< 0,\\\\\n",
    "0, \\quad \\text{if} \\quad \\frac{ds}{dt}\\ge 0. \\\\\n",
    "\\end{align}\n",
    "\\right.\n",
    "$$\n",
    "where $l_0 = a_0L$, $l_L = a_L L$, $a_0 \\approx 2$, $a_L \\approx 1$ and $c$ is the sonic speed.\n",
    "\n",
    "$L$ is the reference length, and constructed as\n",
    "$$L = \\frac{2A}{d_1 + d_2 +d_3 +d_4} $$\n"
   ]
  },
  {
   "cell_type": "markdown",
   "metadata": {},
   "source": [
    "<img src=\"L1.png\" width = \"400\" height = \"300\" div align=center />"
   ]
  },
  {
   "cell_type": "code",
   "execution_count": 277,
   "metadata": {},
   "outputs": [
    {
     "data": {
      "text/plain": [
       "artificial_viscosity_c! (generic function with 1 method)"
      ]
     },
     "execution_count": 277,
     "metadata": {},
     "output_type": "execute_result"
    }
   ],
   "source": [
    "function artificial_viscosity_c!(p,ρ,x,y,u,v,α)\n",
    "    γ = problem.γ\n",
    "    xc = sum(x[i] for i in 1:4)/4\n",
    "    yc = sum(y[i] for i in 1:4)/4\n",
    "    \n",
    "    ∂u_∂x,∂u_∂y,∂v_∂x,∂v_∂y = ∂uv(x,y,u,v)\n",
    "    \n",
    "    ds_dt = ∂u_∂x*cosd(α)^2 +∂v_∂y*sind(α)^2 + (∂u_∂y+∂v_∂x)*sind(α)*cosd(α)\n",
    "    \n",
    "    L = l_viscosity(x,y,α)\n",
    "    a₀ = 2; aₗ = 1\n",
    "    c = √(γ*p/ρ)\n",
    "    l₀ = a₀*L\n",
    "    lₗ = aₗ*L\n",
    "    \n",
    "    L = 1/2*(√((x[3] - x[1])^2+(y[3] - y[1])^2) +√((x[2] - x[4])^2+(y[2] - y[4])^2) )  \n",
    "    \n",
    "   # if ds_dt > 0\n",
    "    if ∂u_∂x + ∂v_∂y> 0\n",
    "        q = 0\n",
    "    else\n",
    "        #q = l₀^2*ρ*(ds_dt)^2 +lₗ*ρ*c*abs(ds_dt)\n",
    "        q = 0.3ρ*L*c*(abs(∂u_∂x+∂v_∂y)) +0.06L^2*ρ*((∂u_∂x+∂v_∂y)^2) \n",
    "    end\n",
    "    return p+q\n",
    "end"
   ]
  },
  {
   "cell_type": "markdown",
   "metadata": {},
   "source": [
    "$$b_2 \\rho Lc \\frac{\\partial u}{\\partial x} - b_{12}\\rho L^2 \\left(\\frac{\\partial u}{\\partial x}\\right)^2$$"
   ]
  },
  {
   "cell_type": "code",
   "execution_count": 13,
   "metadata": {},
   "outputs": [
    {
     "data": {
      "text/plain": [
       "artificial_viscosity! (generic function with 1 method)"
      ]
     },
     "execution_count": 13,
     "metadata": {},
     "output_type": "execute_result"
    }
   ],
   "source": [
    "function artificial_viscosity!(p,ρ,x,y,u,v,α)\n",
    "    I, = size(Tp)\n",
    "    \n",
    "    xc = zeros(Float64,4)\n",
    "    yc = zeros(Float64,4)\n",
    "    uc = zeros(Float64,4)\n",
    "    vc = zeros(Float64,4)\n",
    "    for i in 1:I\n",
    "        for j in 1:4\n",
    "            ip = Tp[i,j]\n",
    "            xc[j] = x[ip]\n",
    "            yc[j] = y[ip]\n",
    "            uc[j] = u[ip]\n",
    "            vc[j] = v[ip]\n",
    "        end\n",
    "        p[i] = artificial_viscosity_c!(p[i],ρ[i],xc,yc,uc,vc,α[i])\n",
    "    end\n",
    "    \n",
    "        return p\n",
    "        \n",
    "    end       "
   ]
  },
  {
   "cell_type": "code",
   "execution_count": 14,
   "metadata": {},
   "outputs": [
    {
     "data": {
      "text/plain": [
       "l_viscosity (generic function with 1 method)"
      ]
     },
     "execution_count": 14,
     "metadata": {},
     "output_type": "execute_result"
    }
   ],
   "source": [
    "function l_viscosity(x,y,α)\n",
    "    xc = sum(x)/4; yc = sum(y)/4\n",
    "    d = zeros(Float64,4)\n",
    "    for i in 1:4\n",
    "    d[i] = distance(x[i],y[i],xc,yc,α)\n",
    "    end\n",
    "    A = A_z(x, y)\n",
    "    L = 2sum(A)/sum(d)\n",
    "    return L\n",
    "end"
   ]
  },
  {
   "cell_type": "markdown",
   "metadata": {},
   "source": [
    "#### distance from  Point to line \n",
    "Line: $$ (xc -cos \\alpha )(x-xc) = (yc-sin \\alpha)(y-yc)$$\n",
    "point: $x,y$"
   ]
  },
  {
   "cell_type": "code",
   "execution_count": 15,
   "metadata": {},
   "outputs": [
    {
     "data": {
      "text/plain": [
       "distance (generic function with 1 method)"
      ]
     },
     "execution_count": 15,
     "metadata": {},
     "output_type": "execute_result"
    }
   ],
   "source": [
    "function distance(x,y,xc,yc,α)\n",
    "    d = abs((xc - cosd(α)) * (x .-xc)- (yc-sind(α))*(y .- yc))/√((xc-cosd(α))^2+(yc-sind(α))^2)\n",
    "    return d\n",
    "end"
   ]
  },
  {
   "cell_type": "markdown",
   "metadata": {},
   "source": [
    "### 沙漏粘性 Hourglass"
   ]
  },
  {
   "cell_type": "markdown",
   "metadata": {},
   "source": [
    "$$ \\text{hg}_x = u_1 -u_2 + u_3 - u_4$$ \n",
    "$$ \\text{hg}_x = v_1 -v_2 + v_3 - v_4$$ \n",
    "\n",
    "$$ e_{1x} = -\\frac{1}{4}q\\rho c\\sqrt{A}\\text{hg}_x $$\n",
    "$$ e_{1y} = -\\frac{1}{4}q\\rho c\\sqrt{A}\\text{hg}_y $$\n",
    "\n",
    "$$ e_{2x} = \\frac{1}{4}q\\rho c\\sqrt{A}\\text{hg}_x $$\n",
    "$$ e_{2y} = \\frac{1}{4}q\\rho c\\sqrt{A}\\text{hg}_y $$\n",
    "\n",
    "$$ e_{3x} = -\\frac{1}{4}q\\rho c\\sqrt{A}\\text{hg}_x $$\n",
    "$$ e_{3y} = -\\frac{1}{4}q\\rho c\\sqrt{A}\\text{hg}_y $$\n",
    "\n",
    "$$ e_{4x} = \\frac{1}{4}q\\rho c\\sqrt{A}\\text{hg}_x $$\n",
    "$$ e_{4y} = \\frac{1}{4}q\\rho c\\sqrt{A}\\text{hg}_y $$"
   ]
  },
  {
   "cell_type": "code",
   "execution_count": 293,
   "metadata": {},
   "outputs": [
    {
     "data": {
      "text/plain": [
       "hourglass_viscosity (generic function with 1 method)"
      ]
     },
     "execution_count": 293,
     "metadata": {},
     "output_type": "execute_result"
    }
   ],
   "source": [
    "function hourglass_viscosity(x,y,u,v,ρ,p)\n",
    "    hgx = u[1] - u[2] + u[3] -u[4]\n",
    "    hgy = v[1] - v[2] + v[3] -v[4]\n",
    "    \n",
    "    ex =zeros(Float64,4)\n",
    "    ey =zeros(Float64,4)\n",
    "    A = area_quadrangle(x,y)\n",
    "    c = √(problem.γ*p/ρ)\n",
    " #   @show c\n",
    "    q = 0.8 # coefficient of hourglass viscosity 0.01 - 0.5 ?\n",
    "    ex[1] = -0.25q*ρ*c*√(A)*hgx\n",
    "    ey[1] = -0.25q*ρ*c*√(A)*hgy\n",
    "    \n",
    "    ex[2] = -ex[1]\n",
    "    ey[2] = -ey[1]\n",
    "    \n",
    "    ex[3] = ex[1]\n",
    "    ey[3] = ey[1]\n",
    "    \n",
    "    ex[4] = ex[2]\n",
    "    ey[4] = ey[2]\n",
    "    \n",
    "   #ex .=\n",
    "    #ey .= 0\n",
    " #   @show ex,ey\n",
    "    return ex, ey\n",
    "end"
   ]
  },
  {
   "cell_type": "code",
   "execution_count": 58,
   "metadata": {},
   "outputs": [
    {
     "data": {
      "text/plain": [
       "area_quadrangle (generic function with 1 method)"
      ]
     },
     "execution_count": 58,
     "metadata": {},
     "output_type": "execute_result"
    }
   ],
   "source": [
    "function area_quadrangle(x::Array{Float64,1},y::Array{Float64,1}) \n",
    "   \n",
    "    xc= sum(x[i] for i in 1:4)/4\n",
    "    yc= sum(y[i] for i in 1:4)/4\n",
    "    \n",
    "    A41 = Area3(x[4],x[1],xc,y[4],y[1],yc)\n",
    "    A12 = Area3(x[1],x[2],xc,y[1],y[2],yc)\n",
    "    A23 = Area3(x[2],x[3],xc,y[2],y[3],yc)\n",
    "    A34 = Area3(x[3],x[4],xc,y[3],y[4],yc)\n",
    "    \n",
    "    A = A12 + A23 +A34 +A41\n",
    "    return A\n",
    "end"
   ]
  },
  {
   "cell_type": "code",
   "execution_count": 18,
   "metadata": {},
   "outputs": [],
   "source": [
    "struct prb\n",
    "    tt::Float64\n",
    "    sf::Float64\n",
    "    γ ::Float64\n",
    "end"
   ]
  },
  {
   "cell_type": "code",
   "execution_count": 19,
   "metadata": {},
   "outputs": [
    {
     "data": {
      "text/plain": [
       "Area3 (generic function with 1 method)"
      ]
     },
     "execution_count": 19,
     "metadata": {},
     "output_type": "execute_result"
    }
   ],
   "source": [
    "function Area3(x1,x2,x3,y1,y2,y3)\n",
    "    return abs((x1*y2+y1*x3+x2*y3-x1*y3-y1*x2-y2*x3)/2)\n",
    "end"
   ]
  },
  {
   "cell_type": "markdown",
   "metadata": {},
   "source": [
    "###  $\\frac{\\partial (u,v)}{\\partial (x,y)}$\n",
    "\n",
    "we use the diffences between 1 and 3 points and 2 and 4 points to solve the partial differences approximately, as\n",
    "$$ \\frac{\\partial u}{\\partial x}  \\approx \\frac{1}{2}\\frac{u_3-u_1}{x_3-x_1}+\\frac{1}{2}\\frac{u_4-u_2}{x_4-x_2}$$ \n",
    "Similar process to $\\frac{\\partial u}{\\partial y}$,$\\frac{\\partial v}{\\partial x}$ and $\\frac{\\partial v}{\\partial y}$"
   ]
  },
  {
   "cell_type": "code",
   "execution_count": 20,
   "metadata": {},
   "outputs": [
    {
     "data": {
      "text/plain": [
       "∂uv (generic function with 1 method)"
      ]
     },
     "execution_count": 20,
     "metadata": {},
     "output_type": "execute_result"
    }
   ],
   "source": [
    "function ∂uv(x,y,u,v)\n",
    "    ∂u_∂x = 0.5(u[3]-u[1])/(x[3]-x[1]) + 0.5(u[2]-u[4])/(x[2]-x[4])\n",
    "    ∂v_∂x = 0.5(v[3]-v[1])/(x[3]-x[1]) + 0.5(v[2]-v[4])/(x[2]-x[4])\n",
    "    ∂u_∂y = 0.5(u[3]-u[1])/(y[3]-y[1]) + 0.5(u[4]-u[2])/(y[4]-y[2])\n",
    "    ∂v_∂y = 0.5(v[3]-v[1])/(y[3]-y[1]) + 0.5(v[4]-v[2])/(y[4]-y[2])\n",
    "    return ∂u_∂x,∂u_∂y,∂v_∂x,∂v_∂y\n",
    "end"
   ]
  },
  {
   "cell_type": "code",
   "execution_count": 21,
   "metadata": {},
   "outputs": [
    {
     "data": {
      "text/plain": [
       "Output (generic function with 1 method)"
      ]
     },
     "execution_count": 21,
     "metadata": {},
     "output_type": "execute_result"
    }
   ],
   "source": [
    "using DelimitedFiles\n",
    "function Output(Ix,Iy,x,y,u,v,p,ρ,mz)\n",
    "\n",
    "    Ip, = size(Tc)\n",
    "    Ic, = size(Tp)\n",
    "    io = open(\"data.dat\", \"w+\")\n",
    "    A = zeros(Float64,Ip,6)\n",
    "   # for i in 1:Ip\n",
    "    \n",
    "    text = \" TITLE = \\\"Dataset\\\"\n",
    "VARIABLES = \\\"x\\\" \\\"y\\\" \\\"u\\\" \\\"v\\\" \\\"rho\\\" \\\"p\\\"  ZONE T=\\\"Zone 1\\\" \n",
    "I=$Ix,J=$Iy,K=1,ZONETYPE=Ordered \n",
    "DATAPACKING=POINT \\n \"\n",
    "  #  write(1,*)\n",
    "    write(io,text)\n",
    "\n",
    "    for i in 1:Ip\n",
    "        nc = 0\n",
    "        ρz = 0.0\n",
    "        pz = 0.0\n",
    "        for j = 1:4\n",
    "            ic = Tc[i,j] \n",
    "            if ic != 0\n",
    "                ρz += ρ[ic]\n",
    "                pz += p[ic]\n",
    "                nc +=  1\n",
    "            end\n",
    "        end\n",
    "        ρz = ρz/nc\n",
    "        pz = pz/nc\n",
    "        A[i,1] = x[i]\n",
    "        A[i,2] = y[i]\n",
    "        A[i,3] = u[i]\n",
    "        A[i,4] = v[i]\n",
    "        A[i,5] = ρz\n",
    "        A[i,6] = pz\n",
    "        \n",
    "    end\n",
    "    writedlm(io, A, \"  \")\n",
    "    close(io)\n",
    "end"
   ]
  },
  {
   "cell_type": "code",
   "execution_count": 22,
   "metadata": {},
   "outputs": [
    {
     "data": {
      "text/plain": [
       "Output1 (generic function with 1 method)"
      ]
     },
     "execution_count": 22,
     "metadata": {},
     "output_type": "execute_result"
    }
   ],
   "source": [
    "using DelimitedFiles\n",
    "function Output1(x,y,rhs)\n",
    "\n",
    "    Ip, = size(Tc)\n",
    "    Ic, = size(Tp)\n",
    "    io = open(\"data1.dat\", \"w+\")\n",
    "    A = zeros(Float64,Ip,3)\n",
    "   # for i in 1:Ip\n",
    "    \n",
    "    text = \" TITLE = \\\"Dataset\\\"\n",
    "VARIABLES = \\\"x\\\" \\\"y\\\" \\\"p\\\"  ZONE T=\\\"Zone 1\\\" \n",
    "I=400,J=40,K=1,ZONETYPE=Ordered \n",
    "DATAPACKING=POINT \\n \"\n",
    "  #  write(1,*)\n",
    "    write(io,text)\n",
    "\n",
    "    for i in 1:Ic\n",
    "        nc = 0\n",
    "        ρz = 0.0\n",
    "        pz = 0.0\n",
    "        ip  = Tp[i,1]\n",
    "        A[i,1] = x[ip]\n",
    "        A[i,2] = y[ip]\n",
    "        A[i,3] = rhs[i]\n",
    "        \n",
    "    end\n",
    "    writedlm(io, A, \"  \")\n",
    "    close(io)\n",
    "end"
   ]
  },
  {
   "cell_type": "code",
   "execution_count": 23,
   "metadata": {},
   "outputs": [
    {
     "data": {
      "text/plain": [
       "Output2 (generic function with 1 method)"
      ]
     },
     "execution_count": 23,
     "metadata": {},
     "output_type": "execute_result"
    }
   ],
   "source": [
    "using DelimitedFiles\n",
    "function Output2(x,y,rhs)\n",
    "\n",
    "    Ip, = size(Tc)\n",
    "    Ic, = size(Tp)\n",
    "    io = open(\"data1.dat\", \"w+\")\n",
    "    A = zeros(Float64,Ip,3)\n",
    "   # for i in 1:Ip\n",
    "    \n",
    "    text = \" TITLE = \\\"Dataset\\\"\n",
    "VARIABLES = \\\"x\\\" \\\"y\\\" \\\"p\\\"  ZONE T=\\\"Zone 1\\\" \n",
    "I=401,J=41,K=1,ZONETYPE=Ordered \n",
    "DATAPACKING=POINT \\n \"\n",
    "  #  write(1,*)\n",
    "    write(io,text)\n",
    "\n",
    "    for i in 1:Ip\n",
    "        nc = 0\n",
    "        ρz = 0.0\n",
    "        pz = 0.0\n",
    "       # ip  = Tp[i,1]\n",
    "        A[i,1] = x[i]\n",
    "        A[i,2] = y[i]\n",
    "        A[i,3] = rhs[i]\n",
    "        \n",
    "    end\n",
    "    writedlm(io, A, \"  \")\n",
    "    close(io)\n",
    "end"
   ]
  },
  {
   "cell_type": "code",
   "execution_count": 24,
   "metadata": {},
   "outputs": [
    {
     "data": {
      "text/plain": [
       "outputline (generic function with 1 method)"
      ]
     },
     "execution_count": 24,
     "metadata": {},
     "output_type": "execute_result"
    }
   ],
   "source": [
    "function outputline(Ix,Iy,x,y,u,v,ρ,p,mz)\n",
    "    I, = size(ρ)\n",
    "    \n",
    "    uL =  zeros(Float64,Ix)\n",
    "    xL =  zeros(Float64,Ix)\n",
    "    vL =  zeros(Float64,Ix)\n",
    "    ρL =  zeros(Float64,Ix)        \n",
    "    pL =  zeros(Float64,Ix)  \n",
    "            \n",
    "    for i in 1:Ix\n",
    "        j = Int8(floor(Iy/2))\n",
    "            ip = i+(j-1 ) *(Ix+1)\n",
    "            ic =i+(j-1)*Ix\n",
    "            uL[i] = u[ip]\n",
    "            xL[i]  = x[ip]\n",
    "            vL[i] = v[ip]\n",
    "            ρL[i]  = ρ[ic]\n",
    "            pL[i] = p[ic]\n",
    "    end\n",
    "    return xL,uL,vL,ρL,pL\n",
    "end"
   ]
  },
  {
   "cell_type": "markdown",
   "metadata": {},
   "source": [
    "### noh 算例 "
   ]
  },
  {
   "cell_type": "code",
   "execution_count": 25,
   "metadata": {},
   "outputs": [
    {
     "data": {
      "text/plain": [
       "InitTest1 (generic function with 1 method)"
      ]
     },
     "execution_count": 25,
     "metadata": {},
     "output_type": "execute_result"
    }
   ],
   "source": [
    "@inline function InitTest1()\n",
    "\n",
    "    global problem = prb(0.1,0.3,1.4)\n",
    "     \n",
    "    I = 200\n",
    "    J = 20\n",
    "    dx = 1.0/I\n",
    "    dy = 0.1/J\n",
    "    \n",
    "    \n",
    "    Ip = (I+1)*(J+1) # Number of  points\n",
    "    Ic = I*J  # number of cells\n",
    "    \n",
    "    global Tp = zeros(Int,Ic,4) #格点\n",
    "    global Tc = zeros(Int,Ip,4) #点格\n",
    "    \n",
    "    #@show Tc, Ip\n",
    "    global Tb = zeros(Int, I*2+J*2,3) #边界 \n",
    "    \n",
    "    IBL = J+1\n",
    "    IBR = J+1\n",
    "    IBU = I+1\n",
    "    IBD = I+1\n",
    "   # 点格表，格点表初始化 \n",
    "    for i in 1:I \n",
    "        for j in 1:J\n",
    "            ic = i+(j-1)*I\n",
    "            Tp[ic,1] = i + (j-1)*(I+1)\n",
    "            Tp[ic,2] = i+1 +(j-1)*(I+1)\n",
    "            Tp[ic,3]=i+1+j*(I+1)\n",
    "            Tp[ic,4]=i+j*(I+1) \n",
    "        end\n",
    "    end\n",
    "    \n",
    "    for i = 1:I+1\n",
    "        for j = 1:J+1\n",
    "            ip = i+(j-1)*(I+1)\n",
    "            Tc[ip,1] = i +(j-1)*I #(i,j)\n",
    "            Tc[ip,2] = i-1+(j-1)*I #(i-1,j)\n",
    "            Tc[ip,3] = i-1+(j-2)*I #(i-1,j-1)\n",
    "            Tc[ip,4] = i+(j-2)*I   #(i,j-1)\n",
    "            end\n",
    "        end\n",
    "    \n",
    "\n",
    "# Bound \n",
    "  ib = 0\n",
    "    for i = 1:I+1\n",
    "        for j = 1:J+1\n",
    "            if i == 1 || i== I+1 ||  j == 1 || j == J+1\n",
    "                ib += 1\n",
    "                ip =i+(j-1)*(I+1) \n",
    "                Tb[ib,1] = ip\n",
    "                if i==1 \n",
    "                   Tb[ib,3] = 1\n",
    "                    Tc[ip,2] =0\n",
    "                    Tc[ip,3] =0\n",
    "                end   \n",
    "                 if  i==I+1 \n",
    "                    Tb[ib,3] = 1 #bound type 1:free 2: wall ..  Tb[:,2] y direction\n",
    "                    Tc[ip,1] =0\n",
    "                    Tc[ip,4] =0\n",
    "                end\n",
    "            \n",
    "                if j==1 \n",
    "                    Tb[ib,2] = 1\n",
    "                    Tc[ip,3] = 0\n",
    "                    Tc[ip,4] = 0\n",
    "                end\n",
    "                if j==J+1\n",
    "                    Tb[ib,2] = 1\n",
    "                    Tc[ip,1] = 0\n",
    "                    Tc[ip,2] = 0\n",
    "                end\n",
    "            end\n",
    "        end\n",
    "    end\n",
    "\n",
    "    #流场初始化 Init of the flow\n",
    "    \n",
    "    x = zeros(Float64,Ip)\n",
    "    y = zeros(Float64,Ip)\n",
    "    u = zeros(Float64,Ip)\n",
    "    v = zeros(Float64,Ip)\n",
    "    \n",
    "    ρ = zeros(Float64,Ic)\n",
    "    mz = zeros(Float64,Ic)\n",
    "    p = zeros(Float64,Ic)\n",
    "    Az= zeros(Float64,Ic)\n",
    "    α = zeros(Float64,Ic)\n",
    "    for i in 1:I+1\n",
    "        for j = 1:J+1\n",
    "            ip =i+(j-1)*(I+1)\n",
    "            x[ip] = i*dx\n",
    "            y[ip] = j*dy\n",
    "            \n",
    "            u[ip] = 1.0\n",
    "            v[ip] = 0.0\n",
    "        end\n",
    "    end\n",
    "    \n",
    "    xz = zeros(Float64,4)\n",
    "    yz = zeros(Float64,4) \n",
    "    for i in 1:I\n",
    "        for j in 1:J\n",
    "            ic = i+(j-1)*I\n",
    "            xz[1:4] = x[Tp[ic,1:4]]\n",
    "            yz[1:4] = y[Tp[ic,1:4]]\n",
    "            A = A_z(xz,yz)\n",
    "            Az[ic] = sum(A) #[1]+A[2]+A[3]+A[4]\n",
    "          #  if i<=100\n",
    "                mz[ic] = (2+sin(2π*dx*i)) * Az[ic]\n",
    "                p[ic] = 1.0\n",
    "                ρ[ic] = sin(2π*dx*i)+2\n",
    "#             else\n",
    "#                 mz[ic] = 0.1 * Az[ic]\n",
    "#                 p[ic] = 1.0\n",
    "#                 ρ[ic] = 0.1\n",
    "#             end\n",
    "        end\n",
    "    end\n",
    "    \n",
    "    return x,y,u,v,mz,p,ρ,Az,α\n",
    "end"
   ]
  },
  {
   "cell_type": "markdown",
   "metadata": {},
   "source": [
    "###  1D sod 算例"
   ]
  },
  {
   "cell_type": "code",
   "execution_count": 37,
   "metadata": {},
   "outputs": [
    {
     "data": {
      "text/plain": [
       "InitTest2 (generic function with 1 method)"
      ]
     },
     "execution_count": 37,
     "metadata": {},
     "output_type": "execute_result"
    }
   ],
   "source": [
    "@inline function InitTest2()\n",
    "\n",
    "    global problem = prb(0.1,0.3,1.4)\n",
    "     \n",
    "    I = 200\n",
    "    J = 10\n",
    "    dx = 1.0/I\n",
    "    dy = 0.1/J\n",
    "    \n",
    "    \n",
    "    Ip = (I+1)*(J+1) # Number of  points\n",
    "    Ic = I*J  # number of cells\n",
    "    \n",
    "    global Tp = zeros(Int,Ic,4) #格点\n",
    "    global Tc = zeros(Int,Ip,4) #点格\n",
    "    \n",
    "    #@show Tc, Ip\n",
    "    global Tb = zeros(Int, I*2+J*2,3) #边界 \n",
    "    \n",
    "    IBL = J+1\n",
    "    IBR = J+1\n",
    "    IBU = I+1\n",
    "    IBD = I+1\n",
    "   # 点格表，格点表初始化 \n",
    "    for i in 1:I \n",
    "        for j in 1:J\n",
    "            ic = i+(j-1)*I\n",
    "            Tp[ic,1] = i + (j-1)*(I+1)\n",
    "            Tp[ic,2] = i+1 +(j-1)*(I+1)\n",
    "            Tp[ic,3]=i+1+j*(I+1)\n",
    "            Tp[ic,4]=i+j*(I+1) \n",
    "        end\n",
    "    end\n",
    "    \n",
    "    for i = 1:I+1\n",
    "        for j = 1:J+1\n",
    "            ip = i+(j-1)*(I+1)\n",
    "            Tc[ip,1] = i +(j-1)*I #(i,j)\n",
    "            Tc[ip,2] = i-1+(j-1)*I #(i-1,j)\n",
    "            Tc[ip,3] = i-1+(j-2)*I #(i-1,j-1)\n",
    "            Tc[ip,4] = i+(j-2)*I   #(i,j-1)\n",
    "            end\n",
    "        end\n",
    "    \n",
    "\n",
    "# Bound \n",
    "  ib = 0\n",
    "    for i = 1:I+1\n",
    "        for j = 1:J+1\n",
    "            if i == 1 || i== I+1 ||  j == 1 || j == J+1\n",
    "                ib += 1\n",
    "                ip =i+(j-1)*(I+1) \n",
    "                Tb[ib,1] = ip\n",
    "                if i==1 \n",
    "                   Tb[ib,3] = 1\n",
    "                    Tc[ip,2] =0\n",
    "                    Tc[ip,3] =0\n",
    "                end   \n",
    "                 if  i==I+1 \n",
    "                    Tb[ib,3] = 1 #bound type 1:free 2: wall ..  Tb[:,2] y direction\n",
    "                    Tc[ip,1] =0\n",
    "                    Tc[ip,4] =0\n",
    "                end\n",
    "            \n",
    "                if j==1 \n",
    "                    Tb[ib,2] = 1\n",
    "                    Tc[ip,3] = 0\n",
    "                    Tc[ip,4] = 0\n",
    "                end\n",
    "                if j==J+1\n",
    "                    Tb[ib,2] = 1\n",
    "                    Tc[ip,1] = 0\n",
    "                    Tc[ip,2] = 0\n",
    "                end\n",
    "            end\n",
    "        end\n",
    "    end\n",
    "\n",
    "    #流场初始化 Init of the flow\n",
    "    \n",
    "    x = zeros(Float64,Ip)\n",
    "    y = zeros(Float64,Ip)\n",
    "    u = zeros(Float64,Ip)\n",
    "    v = zeros(Float64,Ip)\n",
    "    \n",
    "    ρ = zeros(Float64,Ic)\n",
    "    mz = zeros(Float64,Ic)\n",
    "    p = zeros(Float64,Ic)\n",
    "    Az= zeros(Float64,Ic)\n",
    "    α = zeros(Float64,Ic)\n",
    "    for i in 1:I+1\n",
    "        for j = 1:J+1\n",
    "            ip =i+(j-1)*(I+1)\n",
    "            x[ip] = i*dx\n",
    "            y[ip] = j*dy\n",
    "            if i >=I/2\n",
    "                u[ip] = 0.\n",
    "            else\n",
    "                u[ip] = 0\n",
    "            end\n",
    "            v[ip] = 0.0\n",
    "        end\n",
    "    end\n",
    "    \n",
    "    xz = zeros(Float64,4)\n",
    "    yz = zeros(Float64,4) \n",
    "    for i in 1:I\n",
    "        for j in 1:J\n",
    "            ic = i+(j-1)*I\n",
    "            xz[1:4] = x[Tp[ic,1:4]]\n",
    "            yz[1:4] = y[Tp[ic,1:4]]\n",
    "            A = A_z(xz,yz)\n",
    "            Az[ic] = sum(A) #[1]+A[2]+A[3]+A[4]\n",
    "            if i>=I/2\n",
    "                mz[ic] = 0.125 * Az[ic]\n",
    "                p[ic] = 0.1\n",
    "                ρ[ic] = 0.125\n",
    "            else\n",
    "                mz[ic] = 1.0 * Az[ic]\n",
    "                p[ic] = 1.0\n",
    "                ρ[ic] = 1.0\n",
    "            end\n",
    "        end\n",
    "    end\n",
    "    \n",
    "    return x,y,u,v,mz,p,ρ,Az,α,I,J\n",
    "end"
   ]
  },
  {
   "cell_type": "code",
   "execution_count": 294,
   "metadata": {
    "scrolled": true
   },
   "outputs": [
    {
     "name": "stdout",
     "output_type": "stream",
     "text": [
      "0.001267731382092762\n",
      "0.002235770352168419\n",
      "0.0035843263298563303\n",
      "0.004111162275343352\n",
      "0.005010801166104749\n",
      "0.0061456261480435665\n",
      "0.007146782212216778\n",
      "0.008075932468596737\n",
      "0.0092550664061221\n",
      "0.010117481338546192\n",
      "0.011258671651798627\n",
      "0.012116740042394656\n",
      "0.013268479695263643\n",
      "0.014140692727069904\n",
      "0.015013348875188454\n",
      "0.01618233856902229\n",
      "0.017068954966843526\n",
      "0.01825433378694139\n",
      "0.01914844895777711\n",
      "0.020051818807797002\n",
      "0.021260189399568682\n",
      "0.022173568354845092\n",
      "0.023095076392537554\n",
      "0.024018954935152485\n",
      "0.025262355738253285\n",
      "0.026201674589850312\n",
      "0.027144213073906135\n",
      "0.028095986593331682\n",
      "0.029052503223154773\n",
      "0.030012180686003934\n",
      "0.03130487031647779\n",
      "0.03227872648480272\n"
     ]
    },
    {
     "ename": "InterruptException",
     "evalue": "InterruptException:",
     "output_type": "error",
     "traceback": [
      "InterruptException:",
      "",
      "Stacktrace:",
      " [1] Type at ./boot.jl:394 [inlined]",
      " [2] Type at ./boot.jl:403 [inlined]",
      " [3] zeros at ./array.jl:467 [inlined]",
      " [4] zeros at ./array.jl:464 [inlined]",
      " [5] hourglass_viscosity(::Array{Float64,1}, ::Array{Float64,1}, ::Array{Float64,1}, ::Array{Float64,1}, ::Float64, ::Float64) at ./In[293]:5",
      " [6] force_zone(::Array{Float64,1}, ::Array{Float64,1}, ::Array{Float64,1}, ::Array{Float64,1}, ::Float64, ::Float64) at ./In[63]:34",
      " [7] Rhs(::Array{Float64,1}, ::Array{Float64,1}, ::Array{Float64,1}, ::Array{Float64,1}, ::Array{Float64,1}, ::Array{Float64,1}) at ./In[226]:19",
      " [8] predictor_corrector2nd(::Float64, ::Array{Float64,1}, ::Array{Float64,1}, ::Array{Float64,1}, ::Array{Float64,1}, ::Array{Float64,1}, ::Array{Float64,1}, ::Array{Float64,1}, ::Array{Float64,1}) at ./In[227]:24",
      " [9] TimeSolve(::Array{Float64,1}, ::Array{Float64,1}, ::Array{Float64,1}, ::Array{Float64,1}, ::Array{Float64,1}, ::Array{Float64,1}, ::Array{Float64,1}, ::Array{Float64,1}) at ./In[11]:14",
      " [10] top-level scope at In[294]:2"
     ]
    }
   ],
   "source": [
    "x,y,u,v,mz,p,ρ,Az,α,I,J=InitTest2()\n",
    "#Output1\n",
    "u,v,x,y,p,ρ = TimeSolve(u, v, x, y, p, mz,ρ,α)\n",
    "Output(I+1, J+1,x,y, u, v, p, ρ, mz)"
   ]
  },
  {
   "cell_type": "code",
   "execution_count": 63,
   "metadata": {
    "scrolled": true
   },
   "outputs": [
    {
     "ename": "UndefVarError",
     "evalue": "UndefVarError: I not defined",
     "output_type": "error",
     "traceback": [
      "UndefVarError: I not defined",
      "",
      "Stacktrace:",
      " [1] top-level scope at In[63]:1"
     ]
    }
   ],
   "source": [
    "Output(I+1, J+1, u, v, p, ρ, mz)"
   ]
  },
  {
   "cell_type": "code",
   "execution_count": 52,
   "metadata": {},
   "outputs": [
    {
     "data": {
      "text/plain": [
       "([0.005, 0.01, 0.015, 0.02, 0.025, 0.03, 0.035, 0.04, 0.045, 0.05  …  1.085, 1.09, 1.095, 1.1, 1.105, 1.11, 1.115, 1.12, 1.125, 1.13], [0.0, 0.0, 0.0, 0.0, 0.0, 0.0, 0.0, 0.0, 0.0, 0.0  …  1.0, 1.0, 1.0, 1.0, 1.0, 1.0, 1.0, 1.0, 1.0, 1.0], [0.0, -1.12757e-15, 0.0, 0.0, 0.0, 0.0, 0.0, 0.0, 0.0, 0.0  …  1.22692e-13, 4.23276e-14, 3.3454e-14, 9.50014e-14, 3.97888e-14, 4.88689e-15, 9.98464e-14, 1.25188e-13, 9.3741e-14, 8.34417e-14], [1.0, 1.0, 1.0, 1.0, 1.0, 1.0, 1.0, 1.0, 1.0, 1.0  …  0.125, 0.125, 0.125, 0.125, 0.125, 0.125, 0.125, 0.125, 0.125, 0.125], [1.0, 1.0, 1.0, 1.0, 1.0, 1.0, 1.0, 1.0, 1.0, 1.0  …  0.1, 0.1, 0.1, 0.1, 0.1, 0.1, 0.1, 0.1, 0.1, 0.1])"
      ]
     },
     "execution_count": 52,
     "metadata": {},
     "output_type": "execute_result"
    }
   ],
   "source": [
    "### 输出线\n",
    "xL,uL,vL,ρL,pL = outputline(200, 10, x, y, u, v, ρ, p, mz)"
   ]
  },
  {
   "cell_type": "markdown",
   "metadata": {},
   "source": [
    "####  精确解"
   ]
  },
  {
   "cell_type": "code",
   "execution_count": 134,
   "metadata": {},
   "outputs": [],
   "source": [
    "using ExactRiemannEuler"
   ]
  },
  {
   "cell_type": "code",
   "execution_count": 133,
   "metadata": {},
   "outputs": [
    {
     "data": {
      "text/plain": [
       "6-element Array{String,1}:\n",
       " \"@\"                                        \n",
       " \"@v#.#\"                                    \n",
       " \"@stdlib\"                                  \n",
       " \"/home/bfly/workspace/Juliastudy/Src/\"     \n",
       " \"/home/bfly/workspace/computeforcfd/Lag2D/\"\n",
       " \"/home/bfly/workspace/computeforcfd/Lag2D/\""
      ]
     },
     "execution_count": 133,
     "metadata": {},
     "output_type": "execute_result"
    }
   ],
   "source": [
    "push!(LOAD_PATH, \"/home/bfly/workspace/computeforcfd/Lag2D/\")"
   ]
  },
  {
   "cell_type": "code",
   "execution_count": 160,
   "metadata": {},
   "outputs": [
    {
     "data": {
      "text/plain": [
       "([-0.307636, -0.306867, -0.306098, -0.305329, -0.30456, -0.303791, -0.303022, -0.302253, -0.301483, -0.300714  …  0.444171, 0.44531, 0.446449, 0.447588, 0.448727, 0.449866, 0.451005, 0.452144, 0.453283, 0.454422], [1.0 0.0 1.0; 1.0 0.0 1.0; … ; 0.125 0.0 0.1; 0.125 0.0 0.1])"
      ]
     },
     "execution_count": 160,
     "metadata": {},
     "output_type": "execute_result"
    }
   ],
   "source": [
    "Wₗ = ExactRiemannEuler.W(1.0,0.0,1.0)\n",
    "Wᵣ = ExactRiemannEuler.W(0.125,0.0,0.1)\n",
    "γ = 1.4\n",
    "x1,U = SolveDistr(0.13,Wₗ,Wᵣ,γ)"
   ]
  },
  {
   "cell_type": "code",
   "execution_count": 54,
   "metadata": {},
   "outputs": [
    {
     "data": {
      "image/svg+xml": [
       "<?xml version=\"1.0\" encoding=\"utf-8\"?>\n",
       "<svg xmlns=\"http://www.w3.org/2000/svg\" xmlns:xlink=\"http://www.w3.org/1999/xlink\" width=\"600\" height=\"400\" viewBox=\"0 0 2400 1600\">\n",
       "<defs>\n",
       "  <clipPath id=\"clip7400\">\n",
       "    <rect x=\"0\" y=\"0\" width=\"2400\" height=\"1600\"/>\n",
       "  </clipPath>\n",
       "</defs>\n",
       "<polygon clip-path=\"url(#clip7400)\" points=\"\n",
       "0,1600 2400,1600 2400,0 0,0 \n",
       "  \" fill=\"#ffffff\" fill-rule=\"evenodd\" fill-opacity=\"1\"/>\n",
       "<defs>\n",
       "  <clipPath id=\"clip7401\">\n",
       "    <rect x=\"480\" y=\"0\" width=\"1681\" height=\"1600\"/>\n",
       "  </clipPath>\n",
       "</defs>\n",
       "<polygon clip-path=\"url(#clip7400)\" points=\"\n",
       "180.66,1487.47 2352.76,1487.47 2352.76,47.2441 180.66,47.2441 \n",
       "  \" fill=\"#ffffff\" fill-rule=\"evenodd\" fill-opacity=\"1\"/>\n",
       "<defs>\n",
       "  <clipPath id=\"clip7402\">\n",
       "    <rect x=\"180\" y=\"47\" width=\"2173\" height=\"1441\"/>\n",
       "  </clipPath>\n",
       "</defs>\n",
       "<polyline clip-path=\"url(#clip7402)\" style=\"stroke:#000000; stroke-width:2; stroke-opacity:0.1; fill:none\" points=\"\n",
       "  233.027,1487.47 233.027,47.2441 \n",
       "  \"/>\n",
       "<polyline clip-path=\"url(#clip7402)\" style=\"stroke:#000000; stroke-width:2; stroke-opacity:0.1; fill:none\" points=\"\n",
       "  688.393,1487.47 688.393,47.2441 \n",
       "  \"/>\n",
       "<polyline clip-path=\"url(#clip7402)\" style=\"stroke:#000000; stroke-width:2; stroke-opacity:0.1; fill:none\" points=\"\n",
       "  1143.76,1487.47 1143.76,47.2441 \n",
       "  \"/>\n",
       "<polyline clip-path=\"url(#clip7402)\" style=\"stroke:#000000; stroke-width:2; stroke-opacity:0.1; fill:none\" points=\"\n",
       "  1599.13,1487.47 1599.13,47.2441 \n",
       "  \"/>\n",
       "<polyline clip-path=\"url(#clip7402)\" style=\"stroke:#000000; stroke-width:2; stroke-opacity:0.1; fill:none\" points=\"\n",
       "  2054.49,1487.47 2054.49,47.2441 \n",
       "  \"/>\n",
       "<polyline clip-path=\"url(#clip7402)\" style=\"stroke:#000000; stroke-width:2; stroke-opacity:0.1; fill:none\" points=\"\n",
       "  180.66,1446.71 2352.76,1446.71 \n",
       "  \"/>\n",
       "<polyline clip-path=\"url(#clip7402)\" style=\"stroke:#000000; stroke-width:2; stroke-opacity:0.1; fill:none\" points=\"\n",
       "  180.66,1206.49 2352.76,1206.49 \n",
       "  \"/>\n",
       "<polyline clip-path=\"url(#clip7402)\" style=\"stroke:#000000; stroke-width:2; stroke-opacity:0.1; fill:none\" points=\"\n",
       "  180.66,966.26 2352.76,966.26 \n",
       "  \"/>\n",
       "<polyline clip-path=\"url(#clip7402)\" style=\"stroke:#000000; stroke-width:2; stroke-opacity:0.1; fill:none\" points=\"\n",
       "  180.66,726.033 2352.76,726.033 \n",
       "  \"/>\n",
       "<polyline clip-path=\"url(#clip7402)\" style=\"stroke:#000000; stroke-width:2; stroke-opacity:0.1; fill:none\" points=\"\n",
       "  180.66,485.807 2352.76,485.807 \n",
       "  \"/>\n",
       "<polyline clip-path=\"url(#clip7402)\" style=\"stroke:#000000; stroke-width:2; stroke-opacity:0.1; fill:none\" points=\"\n",
       "  180.66,245.58 2352.76,245.58 \n",
       "  \"/>\n",
       "<polyline clip-path=\"url(#clip7400)\" style=\"stroke:#000000; stroke-width:4; stroke-opacity:1; fill:none\" points=\"\n",
       "  180.66,1487.47 2352.76,1487.47 \n",
       "  \"/>\n",
       "<polyline clip-path=\"url(#clip7400)\" style=\"stroke:#000000; stroke-width:4; stroke-opacity:1; fill:none\" points=\"\n",
       "  180.66,1487.47 180.66,47.2441 \n",
       "  \"/>\n",
       "<polyline clip-path=\"url(#clip7400)\" style=\"stroke:#000000; stroke-width:4; stroke-opacity:1; fill:none\" points=\"\n",
       "  233.027,1487.47 233.027,1465.87 \n",
       "  \"/>\n",
       "<polyline clip-path=\"url(#clip7400)\" style=\"stroke:#000000; stroke-width:4; stroke-opacity:1; fill:none\" points=\"\n",
       "  688.393,1487.47 688.393,1465.87 \n",
       "  \"/>\n",
       "<polyline clip-path=\"url(#clip7400)\" style=\"stroke:#000000; stroke-width:4; stroke-opacity:1; fill:none\" points=\"\n",
       "  1143.76,1487.47 1143.76,1465.87 \n",
       "  \"/>\n",
       "<polyline clip-path=\"url(#clip7400)\" style=\"stroke:#000000; stroke-width:4; stroke-opacity:1; fill:none\" points=\"\n",
       "  1599.13,1487.47 1599.13,1465.87 \n",
       "  \"/>\n",
       "<polyline clip-path=\"url(#clip7400)\" style=\"stroke:#000000; stroke-width:4; stroke-opacity:1; fill:none\" points=\"\n",
       "  2054.49,1487.47 2054.49,1465.87 \n",
       "  \"/>\n",
       "<polyline clip-path=\"url(#clip7400)\" style=\"stroke:#000000; stroke-width:4; stroke-opacity:1; fill:none\" points=\"\n",
       "  180.66,1446.71 213.242,1446.71 \n",
       "  \"/>\n",
       "<polyline clip-path=\"url(#clip7400)\" style=\"stroke:#000000; stroke-width:4; stroke-opacity:1; fill:none\" points=\"\n",
       "  180.66,1206.49 213.242,1206.49 \n",
       "  \"/>\n",
       "<polyline clip-path=\"url(#clip7400)\" style=\"stroke:#000000; stroke-width:4; stroke-opacity:1; fill:none\" points=\"\n",
       "  180.66,966.26 213.242,966.26 \n",
       "  \"/>\n",
       "<polyline clip-path=\"url(#clip7400)\" style=\"stroke:#000000; stroke-width:4; stroke-opacity:1; fill:none\" points=\"\n",
       "  180.66,726.033 213.242,726.033 \n",
       "  \"/>\n",
       "<polyline clip-path=\"url(#clip7400)\" style=\"stroke:#000000; stroke-width:4; stroke-opacity:1; fill:none\" points=\"\n",
       "  180.66,485.807 213.242,485.807 \n",
       "  \"/>\n",
       "<polyline clip-path=\"url(#clip7400)\" style=\"stroke:#000000; stroke-width:4; stroke-opacity:1; fill:none\" points=\"\n",
       "  180.66,245.58 213.242,245.58 \n",
       "  \"/>\n",
       "<g clip-path=\"url(#clip7400)\">\n",
       "<text style=\"fill:#000000; fill-opacity:1; font-family:Arial,Helvetica Neue,Helvetica,sans-serif; font-size:48px; text-anchor:middle;\" transform=\"rotate(0, 233.027, 1541.47)\" x=\"233.027\" y=\"1541.47\">0.00</text>\n",
       "</g>\n",
       "<g clip-path=\"url(#clip7400)\">\n",
       "<text style=\"fill:#000000; fill-opacity:1; font-family:Arial,Helvetica Neue,Helvetica,sans-serif; font-size:48px; text-anchor:middle;\" transform=\"rotate(0, 688.393, 1541.47)\" x=\"688.393\" y=\"1541.47\">0.25</text>\n",
       "</g>\n",
       "<g clip-path=\"url(#clip7400)\">\n",
       "<text style=\"fill:#000000; fill-opacity:1; font-family:Arial,Helvetica Neue,Helvetica,sans-serif; font-size:48px; text-anchor:middle;\" transform=\"rotate(0, 1143.76, 1541.47)\" x=\"1143.76\" y=\"1541.47\">0.50</text>\n",
       "</g>\n",
       "<g clip-path=\"url(#clip7400)\">\n",
       "<text style=\"fill:#000000; fill-opacity:1; font-family:Arial,Helvetica Neue,Helvetica,sans-serif; font-size:48px; text-anchor:middle;\" transform=\"rotate(0, 1599.13, 1541.47)\" x=\"1599.13\" y=\"1541.47\">0.75</text>\n",
       "</g>\n",
       "<g clip-path=\"url(#clip7400)\">\n",
       "<text style=\"fill:#000000; fill-opacity:1; font-family:Arial,Helvetica Neue,Helvetica,sans-serif; font-size:48px; text-anchor:middle;\" transform=\"rotate(0, 2054.49, 1541.47)\" x=\"2054.49\" y=\"1541.47\">1.00</text>\n",
       "</g>\n",
       "<g clip-path=\"url(#clip7400)\">\n",
       "<text style=\"fill:#000000; fill-opacity:1; font-family:Arial,Helvetica Neue,Helvetica,sans-serif; font-size:48px; text-anchor:end;\" transform=\"rotate(0, 156.66, 1464.21)\" x=\"156.66\" y=\"1464.21\">0.00</text>\n",
       "</g>\n",
       "<g clip-path=\"url(#clip7400)\">\n",
       "<text style=\"fill:#000000; fill-opacity:1; font-family:Arial,Helvetica Neue,Helvetica,sans-serif; font-size:48px; text-anchor:end;\" transform=\"rotate(0, 156.66, 1223.99)\" x=\"156.66\" y=\"1223.99\">0.25</text>\n",
       "</g>\n",
       "<g clip-path=\"url(#clip7400)\">\n",
       "<text style=\"fill:#000000; fill-opacity:1; font-family:Arial,Helvetica Neue,Helvetica,sans-serif; font-size:48px; text-anchor:end;\" transform=\"rotate(0, 156.66, 983.76)\" x=\"156.66\" y=\"983.76\">0.50</text>\n",
       "</g>\n",
       "<g clip-path=\"url(#clip7400)\">\n",
       "<text style=\"fill:#000000; fill-opacity:1; font-family:Arial,Helvetica Neue,Helvetica,sans-serif; font-size:48px; text-anchor:end;\" transform=\"rotate(0, 156.66, 743.533)\" x=\"156.66\" y=\"743.533\">0.75</text>\n",
       "</g>\n",
       "<g clip-path=\"url(#clip7400)\">\n",
       "<text style=\"fill:#000000; fill-opacity:1; font-family:Arial,Helvetica Neue,Helvetica,sans-serif; font-size:48px; text-anchor:end;\" transform=\"rotate(0, 156.66, 503.307)\" x=\"156.66\" y=\"503.307\">1.00</text>\n",
       "</g>\n",
       "<g clip-path=\"url(#clip7400)\">\n",
       "<text style=\"fill:#000000; fill-opacity:1; font-family:Arial,Helvetica Neue,Helvetica,sans-serif; font-size:48px; text-anchor:end;\" transform=\"rotate(0, 156.66, 263.08)\" x=\"156.66\" y=\"263.08\">1.25</text>\n",
       "</g>\n",
       "<polyline clip-path=\"url(#clip7402)\" style=\"stroke:#009af9; stroke-width:4; stroke-opacity:1; fill:none\" points=\"\n",
       "  242.135,1446.71 251.242,1446.71 260.349,1446.71 269.457,1446.71 278.564,1446.71 287.671,1446.71 296.779,1446.71 305.886,1446.71 314.993,1446.71 324.101,1446.71 \n",
       "  333.208,1446.71 342.315,1446.71 351.423,1446.71 360.53,1446.71 369.637,1446.71 378.745,1446.71 387.852,1446.71 396.959,1446.71 406.066,1446.71 415.174,1446.71 \n",
       "  424.281,1446.71 433.388,1446.71 442.496,1446.71 451.603,1446.71 460.71,1446.71 469.818,1446.71 478.925,1446.71 488.032,1446.71 497.14,1446.71 506.247,1446.71 \n",
       "  515.354,1446.71 524.462,1446.71 533.569,1446.71 542.676,1446.71 551.784,1446.71 560.891,1446.71 569.998,1446.71 579.106,1446.71 588.213,1446.71 597.32,1446.71 \n",
       "  606.427,1446.71 615.535,1446.71 624.642,1446.71 633.749,1446.71 642.857,1446.71 651.964,1446.71 661.071,1446.71 670.179,1446.71 679.286,1446.71 688.393,1446.71 \n",
       "  697.501,1446.71 706.608,1446.71 715.715,1446.71 724.823,1446.71 733.93,1446.71 743.037,1446.71 752.145,1446.71 761.252,1446.71 770.359,1446.71 779.467,1446.71 \n",
       "  788.574,1446.71 797.681,1446.69 806.789,1446.62 815.898,1446.37 825.01,1445.62 834.133,1443.6 843.28,1439 852.481,1430.09 861.777,1415.5 871.219,1395 \n",
       "  880.858,1369.56 890.735,1340.56 900.884,1309.12 911.334,1275.86 922.112,1241.06 933.245,1204.79 944.763,1167.05 956.699,1127.8 969.088,1086.93 981.972,1044.34 \n",
       "  995.398,999.903 1009.42,953.449 1024.1,904.794 1039.5,853.716 1055.72,799.957 1072.85,743.212 1091.02,683.125 1110.37,619.279 1131.07,551.195 1153.35,478.348 \n",
       "  1177.49,400.247 1203.83,316.716 1232.78,228.919 1264.73,143.355 1299.59,88.0053 1335.38,101.199 1370.57,115.729 1405.16,127.264 1439.37,132.558 1472.97,134.46 \n",
       "  1479.93,134.67 1486.83,134.892 1493.64,135.13 1500.4,135.386 1507.14,135.665 1513.84,135.972 1520.54,136.309 1527.22,136.683 1533.89,137.1 1540.55,137.565 \n",
       "  1547.21,138.085 1553.86,138.667 1560.51,139.316 1567.16,140.037 1573.81,140.835 1580.45,141.71 1587.1,142.664 1593.76,143.694 1600.41,144.791 1607.07,145.941 \n",
       "  1613.73,147.109 1620.4,148.249 1627.07,149.404 1633.75,150.615 1640.44,151.973 1647.13,153.636 1653.85,155.83 1660.58,158.845 1667.34,163.026 1674.15,168.752 \n",
       "  1681.01,176.407 1687.95,186.353 1694.97,198.886 1702.11,214.197 1709.37,232.328 1716.78,253.123 1724.35,276.2 1732.1,300.942 1740.04,326.519 1748.15,351.962 \n",
       "  1756.44,376.273 1764.9,398.559 1773.49,418.156 1782.21,434.699 1791.03,448.131 1799.93,458.655 1808.89,466.637 1817.9,472.522 1826.94,476.753 1836,479.73 \n",
       "  1845.08,481.785 1854.16,483.18 1863.26,484.112 1872.36,484.726 1881.46,485.126 1890.56,485.382 1899.67,485.545 1908.78,485.647 1917.88,485.71 1926.99,485.749 \n",
       "  1936.1,485.773 1945.2,485.787 1954.31,485.795 1963.42,485.8 1972.53,485.803 1981.63,485.805 1990.74,485.806 1999.85,485.806 2008.95,485.806 2018.06,485.807 \n",
       "  2027.17,485.807 2036.28,485.807 2045.38,485.807 2054.49,485.807 2063.6,485.807 2072.71,485.807 2081.81,485.807 2090.92,485.807 2100.03,485.807 2109.14,485.807 \n",
       "  2118.24,485.807 2127.35,485.807 2136.46,485.807 2145.56,485.807 2154.67,485.807 2163.78,485.807 2172.89,485.807 2181.99,485.807 2191.1,485.807 2200.21,485.807 \n",
       "  2209.32,485.807 2218.42,485.807 2227.53,485.807 2236.64,485.807 2245.74,485.807 2254.85,485.807 2263.96,485.807 2273.07,485.807 2282.17,485.807 2291.28,485.807 \n",
       "  \n",
       "  \"/>\n",
       "<polyline clip-path=\"url(#clip7402)\" style=\"stroke:#e26f46; stroke-width:4; stroke-opacity:1; fill:none\" points=\"\n",
       "  242.135,485.807 251.242,485.807 260.349,485.807 269.457,485.807 278.564,485.807 287.671,485.807 296.779,485.807 305.886,485.807 314.993,485.807 324.101,485.807 \n",
       "  333.208,485.807 342.315,485.807 351.423,485.807 360.53,485.807 369.637,485.807 378.745,485.807 387.852,485.807 396.959,485.807 406.066,485.807 415.174,485.807 \n",
       "  424.281,485.807 433.388,485.807 442.496,485.807 451.603,485.807 460.71,485.807 469.818,485.807 478.925,485.807 488.032,485.807 497.14,485.807 506.247,485.807 \n",
       "  515.354,485.807 524.462,485.807 533.569,485.807 542.676,485.807 551.784,485.807 560.891,485.807 569.998,485.807 579.106,485.807 588.213,485.807 597.32,485.807 \n",
       "  606.427,485.807 615.535,485.807 624.642,485.807 633.749,485.807 642.857,485.807 651.964,485.807 661.071,485.807 670.179,485.807 679.286,485.807 688.393,485.807 \n",
       "  697.501,485.807 706.608,485.807 715.715,485.807 724.823,485.807 733.93,485.807 743.037,485.807 752.145,485.807 761.252,485.807 770.359,485.807 779.467,485.809 \n",
       "  788.574,485.817 797.681,485.848 806.789,485.963 815.898,486.337 825.01,487.405 834.133,490.039 843.28,495.56 852.481,505.311 861.777,519.893 871.219,538.767 \n",
       "  880.858,560.691 890.735,584.461 900.884,609.284 911.334,634.749 922.112,660.659 933.245,686.924 944.763,713.498 956.699,740.355 969.088,767.484 981.972,794.877 \n",
       "  995.398,822.536 1009.42,850.462 1024.1,878.663 1039.5,907.145 1055.72,935.916 1072.85,964.985 1091.02,994.358 1110.37,1024.03 1131.07,1053.99 1153.35,1084.18 \n",
       "  1177.49,1114.45 1203.83,1144.39 1232.78,1172.8 1264.73,1195.68 1299.59,1202.19 1335.38,1198.04 1370.57,1193.72 1405.16,1190.88 1439.37,1186.3 1472.97,1289.59 \n",
       "  1479.93,1288.17 1486.83,1286.03 1493.64,1284.99 1500.4,1284.2 1507.14,1283.65 1513.84,1283.25 1520.54,1282.94 1527.22,1282.7 1533.89,1282.52 1540.55,1282.39 \n",
       "  1547.21,1282.29 1553.86,1282.22 1560.51,1282.18 1567.16,1282.17 1573.81,1282.18 1580.45,1282.21 1587.1,1282.27 1593.76,1282.34 1600.41,1282.44 1607.07,1282.54 \n",
       "  1613.73,1282.64 1620.4,1282.77 1627.07,1282.91 1633.75,1283.1 1640.44,1283.36 1647.13,1283.73 1653.85,1284.25 1660.58,1284.99 1667.34,1285.99 1674.15,1287.3 \n",
       "  1681.01,1288.96 1687.95,1290.99 1694.97,1293.38 1702.11,1296.11 1709.37,1299.11 1716.78,1302.29 1724.35,1305.57 1732.1,1308.81 1740.04,1311.91 1748.15,1314.77 \n",
       "  1756.44,1317.3 1764.9,1319.47 1773.49,1321.27 1782.21,1322.7 1791.03,1323.81 1799.93,1324.64 1808.89,1325.25 1817.9,1325.68 1826.94,1325.99 1836,1326.2 \n",
       "  1845.08,1326.34 1854.16,1326.43 1863.26,1326.49 1872.36,1326.53 1881.46,1326.56 1890.56,1326.57 1899.67,1326.58 1908.78,1326.59 1917.88,1326.59 1926.99,1326.6 \n",
       "  1936.1,1326.6 1945.2,1326.6 1954.31,1326.6 1963.42,1326.6 1972.53,1326.6 1981.63,1326.6 1990.74,1326.6 1999.85,1326.6 2008.95,1326.6 2018.06,1326.6 \n",
       "  2027.17,1326.6 2036.28,1326.6 2045.38,1326.6 2054.49,1326.6 2063.6,1326.6 2072.71,1326.6 2081.81,1326.6 2090.92,1326.6 2100.03,1326.6 2109.14,1326.6 \n",
       "  2118.24,1326.6 2127.35,1326.6 2136.46,1326.6 2145.56,1326.6 2154.67,1326.6 2163.78,1326.6 2172.89,1326.6 2181.99,1326.6 2191.1,1326.6 2200.21,1326.6 \n",
       "  2209.32,1326.6 2218.42,1326.6 2227.53,1326.6 2236.64,1326.6 2245.74,1326.6 2254.85,1326.6 2263.96,1326.6 2273.07,1326.6 2282.17,1326.6 2291.28,1326.6 \n",
       "  \n",
       "  \"/>\n",
       "<polygon clip-path=\"url(#clip7400)\" points=\"\n",
       "1989.93,312.204 2280.76,312.204 2280.76,130.764 1989.93,130.764 \n",
       "  \" fill=\"#ffffff\" fill-rule=\"evenodd\" fill-opacity=\"1\"/>\n",
       "<polyline clip-path=\"url(#clip7400)\" style=\"stroke:#000000; stroke-width:4; stroke-opacity:1; fill:none\" points=\"\n",
       "  1989.93,312.204 2280.76,312.204 2280.76,130.764 1989.93,130.764 1989.93,312.204 \n",
       "  \"/>\n",
       "<polyline clip-path=\"url(#clip7400)\" style=\"stroke:#009af9; stroke-width:4; stroke-opacity:1; fill:none\" points=\"\n",
       "  2013.93,191.244 2157.93,191.244 \n",
       "  \"/>\n",
       "<g clip-path=\"url(#clip7400)\">\n",
       "<text style=\"fill:#000000; fill-opacity:1; font-family:Arial,Helvetica Neue,Helvetica,sans-serif; font-size:48px; text-anchor:start;\" transform=\"rotate(0, 2181.93, 208.744)\" x=\"2181.93\" y=\"208.744\">y1</text>\n",
       "</g>\n",
       "<polyline clip-path=\"url(#clip7400)\" style=\"stroke:#e26f46; stroke-width:4; stroke-opacity:1; fill:none\" points=\"\n",
       "  2013.93,251.724 2157.93,251.724 \n",
       "  \"/>\n",
       "<g clip-path=\"url(#clip7400)\">\n",
       "<text style=\"fill:#000000; fill-opacity:1; font-family:Arial,Helvetica Neue,Helvetica,sans-serif; font-size:48px; text-anchor:start;\" transform=\"rotate(0, 2181.93, 269.224)\" x=\"2181.93\" y=\"269.224\">y2</text>\n",
       "</g>\n",
       "</svg>\n"
      ]
     },
     "execution_count": 54,
     "metadata": {},
     "output_type": "execute_result"
    }
   ],
   "source": [
    "using Plots\n",
    "plot!(xL,ρL)\n",
    "#plot!(x1 .+0.5,U[:,1])"
   ]
  },
  {
   "cell_type": "code",
   "execution_count": 61,
   "metadata": {},
   "outputs": [],
   "source": [
    "Output(x, y, u, v, p, ρ, mz)"
   ]
  },
  {
   "cell_type": "code",
   "execution_count": 97,
   "metadata": {},
   "outputs": [
    {
     "data": {
      "text/plain": [
       "0.0"
      ]
     },
     "execution_count": 97,
     "metadata": {},
     "output_type": "execute_result"
    }
   ],
   "source": [
    "floor(0.3)"
   ]
  },
  {
   "cell_type": "markdown",
   "metadata": {},
   "source": [
    "##  Salzman 算例\n",
    "\n",
    "$$ x(i,j) = (i-1)\\Delta x +(11 - j) \\text{sin}(0.01\\pi (i-1))\\Delta y, \\quad y(i,j) = (j-1) \\Delta y$$"
   ]
  },
  {
   "cell_type": "markdown",
   "metadata": {},
   "source": [
    "<img src=\"mesh.png\" width = \"1000\" height = \"300\" div align=center />"
   ]
  },
  {
   "cell_type": "markdown",
   "metadata": {},
   "source": [
    "初始条件：\n",
    "\n",
    "  $$ (\\rho, u, p,e) = \\left\\{ \\begin{aligned}\n",
    "  (4.0,1.11,0.987,0.617) \\quad  i < 5 \\\\\n",
    "  (0.6667,0,2.667\\times 10 ^{-5},1.0\\times 10^{-4}) \\quad i \\ge 5\\\\\n",
    "  \\end{aligned}\n",
    "  \\right.$$ "
   ]
  },
  {
   "cell_type": "markdown",
   "metadata": {},
   "source": [
    "## 激波关系式\n",
    "\n",
    "\n",
    "$$\\rho_R(u_R - s)  = \\rho_L(u_L -s) $$\n",
    "$$\\rho_R u_R(u_R -s) = \\rho_Lu_L(u_L -s) + p_L -p_R$$\n",
    "$$ \\rho_RE_R(u_R -s) = \\rho_LE_L(u_L -s) + p_Lu_L - u_Rp_R $$\n",
    "\n",
    "$$e = \\frac{p}{(\\gamma -1)\\rho} $$"
   ]
  },
  {
   "cell_type": "code",
   "execution_count": 219,
   "metadata": {},
   "outputs": [
    {
     "data": {
      "text/plain": [
       "2-element Array{NTuple{5,Sym},1}:\n",
       " (ρₗ, eᵣ*ρₗ*(r - 1), eᵣ*ρₗ*(r - 1), uᵣ, eᵣ)                                                                                                                                                                                                                                                                                                                                                                                                                                                                                                                                                                                                          \n",
       " (ρₗ*(r - 1)*(2*eᵣ*r + s^2 - 2*s*uᵣ + uᵣ^2)/((r + 1)*(s - uᵣ)^2), -ρₗ*(r - 1)*(2*eᵣ*r + s^2 - 2*s*uᵣ + uᵣ^2)*(eᵣ*r^2 - 2*eᵣ*r + eᵣ - 2*s^2 + 4*s*uᵣ - 2*uᵣ^2)/((r + 1)^2*(s - uᵣ)^2), eᵣ*ρₗ*(r - 1)^2*(2*eᵣ*r + s^2 - 2*s*uᵣ + uᵣ^2)/((r + 1)*(s - uᵣ)^2), (-2*eᵣ*r^2 + 2*eᵣ*r + r*s*uᵣ - r*uᵣ^2 + 2*s^2 - 3*s*uᵣ + uᵣ^2)/((r + 1)*(s - uᵣ)), (-2*eᵣ^2*r^3 + 4*eᵣ^2*r^2 - 2*eᵣ^2*r - eᵣ*r^2*s^2 + 2*eᵣ*r^2*s*uᵣ - eᵣ*r^2*uᵣ^2 + 6*eᵣ*r*s^2 - 12*eᵣ*r*s*uᵣ + 6*eᵣ*r*uᵣ^2 - eᵣ*s^2 + 2*eᵣ*s*uᵣ - eᵣ*uᵣ^2 + 2*s^4 - 8*s^3*uᵣ + 12*s^2*uᵣ^2 - 8*s*uᵣ^3 + 2*uᵣ^4)/(r^2*s^2 - 2*r^2*s*uᵣ + r^2*uᵣ^2 + 2*r*s^2 - 4*r*s*uᵣ + 2*r*uᵣ^2 + s^2 - 2*s*uᵣ + uᵣ^2))"
      ]
     },
     "execution_count": 219,
     "metadata": {},
     "output_type": "execute_result"
    }
   ],
   "source": [
    "using SymPy\n",
    "@vars ρₗ ρᵣ pₗ pᵣ s eₗ eᵣ  uᵣ uₗ r \n",
    "exp1 = solve([ρᵣ*(uᵣ-s)-ρₗ*(uₗ-s),\n",
    "       ρᵣ*uᵣ*(uᵣ-s)-ρₗ*uₗ*(uₗ-s)+pᵣ-pₗ,\n",
    "       ρᵣ*(eᵣ+uᵣ^2/2)*(uᵣ-s)-ρₗ*(eₗ+uₗ^2/2)*(uₗ-s)-pₗ*uₗ+pᵣ*uᵣ,\n",
    "        eₗ-pₗ/(r-1)/ρₗ,\n",
    "        eᵣ-pᵣ/(r-1)/ρᵣ],[ρᵣ,pₗ,pᵣ,uₗ,eₗ])"
   ]
  },
  {
   "cell_type": "code",
   "execution_count": 232,
   "metadata": {},
   "outputs": [
    {
     "name": "stdout",
     "output_type": "stream",
     "text": [
      "(ρᵣ, pₗ, pᵣ, uₗ, eₗ) = (0.666771719186361, 0.987311665966317, 2.66708687674544e-5, 1.11079832458115, 0.617069791228948)\n"
     ]
    },
    {
     "data": {
      "text/plain": [
       "(0.666771719186361, 0.987311665966317, 2.66708687674544e-5, 1.11079832458115, 0.617069791228948)"
      ]
     },
     "execution_count": 232,
     "metadata": {},
     "output_type": "execute_result"
    }
   ],
   "source": [
    "ρᵣ = exp1[2][1](ρₗ=>4,uᵣ=>0, s=>1.333, eᵣ=> 1.e-4, r=>1.4)\n",
    "pₗ = exp1[2][2](ρₗ=>4,uᵣ=>0, s=>1.333, eᵣ=> 1.e-4, r=>1.4)\n",
    "pᵣ = exp1[2][3](ρₗ=>4,uᵣ=>0, s=>1.333, eᵣ=> 1.e-4, r=>1.4)\n",
    "uₗ = exp1[2][4](ρₗ=>4,uᵣ=>0, s=>1.333, eᵣ=> 1.e-4, r=>1.4)\n",
    "eₗ = exp1[2][5](ρₗ=>4,uᵣ=>0, s=>1.333, eᵣ=> 1.e-4, r=>1.4)\n",
    "\n",
    "@show ρᵣ,pₗ,pᵣ,uₗ,eₗ"
   ]
  },
  {
   "cell_type": "code",
   "execution_count": 287,
   "metadata": {},
   "outputs": [
    {
     "data": {
      "text/plain": [
       "init_salzmann (generic function with 1 method)"
      ]
     },
     "execution_count": 287,
     "metadata": {},
     "output_type": "execute_result"
    }
   ],
   "source": [
    "function init_salzmann()\n",
    "    tt = 0.2\n",
    "    \n",
    "    cfl = 0.1\n",
    "    γ = 1.4\n",
    "    \n",
    "    global problem = prb(tt,cfl,γ)\n",
    "     \n",
    "    I = 104\n",
    "    J = 9\n",
    "    dx = 1.04/I\n",
    "    dy = 0.1/J\n",
    "    \n",
    "    \n",
    "    Ip = (I+1)*(J+1) # Number of  points\n",
    "    Ic = I*J  # number of cells\n",
    "    \n",
    "    global Tp = zeros(Int,Ic,4) #格点\n",
    "    global Tc = zeros(Int,Ip,4) #点格\n",
    "    \n",
    "    #@show Tc, Ip\n",
    "    global Tb = zeros(Int, I*2+J*2,3) #边界 \n",
    "    \n",
    "    IBL = J+1\n",
    "    IBR = J+1\n",
    "    IBU = I+1\n",
    "    IBD = I+1\n",
    "   # 点格表，格点表初始化 \n",
    "    for i in 1:I \n",
    "        for j in 1:J\n",
    "            ic = i+(j-1)*I\n",
    "            Tp[ic,1] = i + (j-1)*(I+1)\n",
    "            Tp[ic,2] = i+1 +(j-1)*(I+1)\n",
    "            Tp[ic,3]=i+1+j*(I+1)\n",
    "            Tp[ic,4]=i+j*(I+1) \n",
    "        end\n",
    "    end\n",
    "    \n",
    "    for i = 1:I+1\n",
    "        for j = 1:J+1\n",
    "            ip = i+(j-1)*(I+1)\n",
    "            Tc[ip,1] = i +(j-1)*I #(i,j)\n",
    "            Tc[ip,2] = i-1+(j-1)*I #(i-1,j)\n",
    "            Tc[ip,3] = i-1+(j-2)*I #(i-1,j-1)\n",
    "            Tc[ip,4] = i+(j-2)*I   #(i,j-1)\n",
    "            end\n",
    "        end\n",
    "    \n",
    "\n",
    "# Bound \n",
    "  ib = 0\n",
    "    for i = 1:I+1\n",
    "        for j = 1:J+1\n",
    "            if i == 1 || i== I+1 ||  j == 1 || j == J+1\n",
    "                ib += 1\n",
    "                ip =i+(j-1)*(I+1) \n",
    "                Tb[ib,1] = ip\n",
    "                if i==1 \n",
    "                   Tb[ib,3] = 2\n",
    "                    Tc[ip,2] =0\n",
    "                    Tc[ip,3] =0\n",
    "                end   \n",
    "                 if  i==I+1 \n",
    "                    Tb[ib,3] = 1 #bound type 1:free 2: wall ..  Tb[:,2] y direction\n",
    "                    Tc[ip,1] =0\n",
    "                    Tc[ip,4] =0\n",
    "                end\n",
    "            \n",
    "                if j==1 \n",
    "                    Tb[ib,2] = 2\n",
    "                    Tc[ip,3] = 0\n",
    "                    Tc[ip,4] = 0\n",
    "                end\n",
    "                if j==J+1\n",
    "                    Tb[ib,2] = 2\n",
    "                    Tc[ip,1] = 0\n",
    "                    Tc[ip,2] = 0\n",
    "                end\n",
    "            end\n",
    "        end\n",
    "    end\n",
    "\n",
    "    #流场初始化 Init of the flow\n",
    "    \n",
    "    x = zeros(Float64,Ip)\n",
    "    y = zeros(Float64,Ip)\n",
    "    u = zeros(Float64,Ip)\n",
    "    v = zeros(Float64,Ip)\n",
    "    \n",
    "    ρ = zeros(Float64,Ic)\n",
    "    mz = zeros(Float64,Ic)\n",
    "    p = zeros(Float64,Ic)\n",
    "    Az= zeros(Float64,Ic)\n",
    "    α = zeros(Float64,Ic)\n",
    "    for i in 1:I+1\n",
    "        for j = 1:J+1\n",
    "            ip =i+(j-1)*(I+1)\n",
    "            if i< 5\n",
    "                x[ip] = (i-1)*dx\n",
    "                y[ip] =(j-1)*dy\n",
    "            else\n",
    "                x[ip] = (i-1)*dx +(10-j)*sin(0.01π*(i-5))*dy\n",
    "                y[ip] = (j-1)*dy\n",
    "            end\n",
    "            if i <2\n",
    "                u[ip] = 1.111\n",
    "            else\n",
    "                u[ip] = 0\n",
    "            end\n",
    "            v[ip] = 0.0\n",
    "        end\n",
    "    end\n",
    "    \n",
    "    xz = zeros(Float64,4)\n",
    "    yz = zeros(Float64,4) \n",
    "    for i in 1:I\n",
    "        for j in 1:J\n",
    "            ic = i+(j-1)*I\n",
    "            xz[1:4] = x[Tp[ic,1:4]]\n",
    "            yz[1:4] = y[Tp[ic,1:4]]\n",
    "            A = A_z(xz,yz)\n",
    "            Az[ic] = sum(A) #[1]+A[2]+A[3]+A[4]\n",
    "            if i<2\n",
    "                 p[ic] = 0.987\n",
    "                ρ[ic] = 4.0\n",
    "                mz[ic] = ρ[ic] * Az[ic]\n",
    "               \n",
    "            else\n",
    "                p[ic] = 2.67e-5\n",
    "                ρ[ic] = 0.6667\n",
    "                mz[ic] = ρ[ic] * Az[ic]\n",
    "            end\n",
    "        end\n",
    "    end\n",
    "    \n",
    "    return x,y,u,v,mz,p,ρ,Az,α,I,J\n",
    "end"
   ]
  },
  {
   "cell_type": "code",
   "execution_count": null,
   "metadata": {
    "scrolled": false
   },
   "outputs": [
    {
     "name": "stdout",
     "output_type": "stream",
     "text": [
      "0.002239610578285078\n",
      "0.004064903259470874\n",
      "0.006028017751616527\n",
      "0.008197471995354122\n",
      "0.010194538039222092\n",
      "0.01208045622856894\n",
      "0.014067298492924823\n",
      "0.016072913101210572\n",
      "0.018062543801361446\n",
      "0.02000042737946744\n",
      "0.022073149509474123\n",
      "0.024049539567387476\n",
      "0.02601088113607808\n",
      "0.028023189772028313\n",
      "0.030060116381397564\n",
      "0.032055583071316916\n",
      "0.0340686754414401\n",
      "0.03603969792167691\n",
      "0.038070000836610836\n",
      "0.04002833429234726\n",
      "0.04209665824144286\n",
      "0.044104316306568594\n",
      "0.046045521655619655\n",
      "0.04808900473207874\n",
      "0.050036133444553196\n",
      "0.052054233943371754\n",
      "0.05405418310473475\n",
      "0.05603371950858463\n",
      "0.05807487380148184\n",
      "0.06002903828105948\n",
      "0.062054480249678586\n",
      "0.06409353531420112\n",
      "0.06610320541968104\n",
      "0.0680687770976277\n",
      "0.07001347992119994\n",
      "0.07200179966212544\n",
      "0.07405503840521671\n",
      "0.076042247560939\n",
      "0.07802015031519935\n",
      "0.08006611800337257\n",
      "0.08202138953663012\n",
      "0.08403048759509119\n",
      "0.08603695304538364\n",
      "0.08812125319611852\n",
      "0.09009384860619762\n",
      "0.09200472352645744\n",
      "0.09403527953305137\n",
      "0.09601156252698115\n",
      "0.09801181038187114\n",
      "0.10007070601301037\n",
      "0.10200608845689092\n",
      "0.1041073260963648\n",
      "0.10611375543322281\n",
      "0.10808919847626865\n",
      "0.11005057398361387\n",
      "0.11201265968355507\n",
      "0.11409524045369256\n",
      "0.11604295890092907\n",
      "0.1180925591532664\n",
      "0.12010670281465333\n",
      "0.1220932766570208\n",
      "0.12405802395934948\n",
      "0.12610010805119864\n",
      "0.12810101597988482\n",
      "0.13006610539562466\n",
      "0.1320046386682654\n",
      "0.13401601659452242\n",
      "0.13607262849701302\n",
      "0.13808195330102782\n",
      "0.1400620602071227\n",
      "0.1420061020222546\n",
      "0.14406749857992437\n",
      "0.14607824661810906\n",
      "0.14806272675561752\n",
      "0.15006631205750495\n",
      "0.15207696782444946\n",
      "0.15406463268498277\n",
      "0.15600905993439315\n",
      "0.1580198314122682\n",
      "0.16001615139966782\n",
      "0.16202831607194007\n",
      "0.16405200775920853\n",
      "0.16606341565757993\n",
      "0.16803356339901798\n",
      "0.1700039044509748\n",
      "0.1720228758672313\n",
      "0.17402799028643748\n",
      "0.17601617605730455\n",
      "0.1780301776975806\n",
      "0.18001538031441\n",
      "0.18200652166477765\n",
      "0.18401119909879673\n",
      "0.1860012967221178\n"
     ]
    }
   ],
   "source": [
    "x,y,u,v,mz,p,ρ,Az,α,I,J = init_salzmann()\n",
    "u,v,x,y,p,ρ = TimeSolve(u, v, x, y, p, mz, ρ, α)\n",
    "Output(I+1,J+1,x, y, u, v, p, ρ, mz)"
   ]
  },
  {
   "cell_type": "raw",
   "metadata": {},
   "source": []
  },
  {
   "cell_type": "markdown",
   "metadata": {},
   "source": [
    "x"
   ]
  },
  {
   "cell_type": "code",
   "execution_count": 271,
   "metadata": {},
   "outputs": [
    {
     "data": {
      "text/plain": [
       "1000-element Array{Float64,1}:\n",
       " 4.0               \n",
       " 0.6667            \n",
       " 0.6667            \n",
       " 0.6667            \n",
       " 0.6667            \n",
       " 0.6667            \n",
       " 0.6667            \n",
       " 0.6667            \n",
       " 0.6667            \n",
       " 0.6667            \n",
       " 0.6667            \n",
       " 0.6667            \n",
       " 0.6667            \n",
       " ⋮                 \n",
       " 0.6667            \n",
       " 0.6666999999999998\n",
       " 0.6667            \n",
       " 0.6666999999999998\n",
       " 0.6667            \n",
       " 0.6667            \n",
       " 0.6667            \n",
       " 0.6667            \n",
       " 0.6667            \n",
       " 0.6667            \n",
       " 0.6667            \n",
       " 0.6667            "
      ]
     },
     "execution_count": 271,
     "metadata": {},
     "output_type": "execute_result"
    }
   ],
   "source": [
    "ρ"
   ]
  },
  {
   "cell_type": "markdown",
   "metadata": {},
   "source": [
    "### chenjuan shuqiwang "
   ]
  },
  {
   "cell_type": "code",
   "execution_count": 74,
   "metadata": {},
   "outputs": [],
   "source": [
    "using Plots   "
   ]
  },
  {
   "cell_type": "code",
   "execution_count": 291,
   "metadata": {},
   "outputs": [
    {
     "data": {
      "image/png": "[encoded data removed]"
     },
     "execution_count": 291,
     "metadata": {},
     "output_type": "execute_result"
    }
   ],
   "source": [
    "scatter3d(x,y,u)"
   ]
  },
  {
   "cell_type": "code",
   "execution_count": 101,
   "metadata": {},
   "outputs": [
    {
     "data": {
      "text/plain": [
       "-654.5454545454545"
      ]
     },
     "execution_count": 101,
     "metadata": {},
     "output_type": "execute_result"
    }
   ],
   "source": [
    "- 0.9/0.55*400"
   ]
  },
  {
   "cell_type": "code",
   "execution_count": 3,
   "metadata": {},
   "outputs": [
    {
     "name": "stdout",
     "output_type": "stream",
     "text": [
      "Hello World"
     ]
    }
   ],
   "source": [
    "write(stdout, \"Hello World\"); "
   ]
  },
  {
   "cell_type": "code",
   "execution_count": 6,
   "metadata": {},
   "outputs": [
    {
     "data": {
      "text/plain": [
       "4-element Array{UInt8,1}:\n",
       " 0x00\n",
       " 0x00\n",
       " 0x00\n",
       " 0x00"
      ]
     },
     "execution_count": 6,
     "metadata": {},
     "output_type": "execute_result"
    }
   ],
   "source": [
    "x = zeros(UInt8, 4)"
   ]
  },
  {
   "cell_type": "code",
   "execution_count": 9,
   "metadata": {},
   "outputs": [
    {
     "ename": "EOFError",
     "evalue": "EOFError: read end of file",
     "output_type": "error",
     "traceback": [
      "EOFError: read end of file",
      "",
      "Stacktrace:",
      " [1] macro expansion at ./gcutils.jl:88 [inlined]",
      " [2] unsafe_read at ./iobuffer.jl:162 [inlined]",
      " [3] unsafe_read(::Base.PipeEndpoint, ::Ptr{UInt8}, ::UInt64) at ./stream.jl:734",
      " [4] unsafe_read at ./io.jl:230 [inlined]",
      " [5] unsafe_read at ./io.jl:585 [inlined]",
      " [6] macro expansion at ./gcutils.jl:87 [inlined]",
      " [7] read!(::IJulia.IJuliaStdio{Base.PipeEndpoint}, ::Array{UInt8,1}) at ./io.jl:597",
      " [8] top-level scope at In[9]:1"
     ]
    }
   ],
   "source": [
    "read!(stdin, x) "
   ]
  },
  {
   "cell_type": "code",
   "execution_count": null,
   "metadata": {},
   "outputs": [],
   "source": []
  }
 ],
 "metadata": {
  "@webio": {
   "lastCommId": null,
   "lastKernelId": null
  },
  "kernelspec": {
   "display_name": "Julia 1.0.0",
   "language": "julia",
   "name": "julia-1.0"
  },
  "language_info": {
   "file_extension": ".jl",
   "mimetype": "application/julia",
   "name": "julia",
   "version": "1.0.0"
  }
 },
 "nbformat": 4,
 "nbformat_minor": 2
}
