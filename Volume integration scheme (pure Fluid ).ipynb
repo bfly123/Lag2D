{
 "cells": [
  {
   "cell_type": "markdown",
   "metadata": {},
   "source": [
    "<img src=\"n123.png\" width = \"300\" height = \"300\" div align=center />"
   ]
  },
  {
   "cell_type": "markdown",
   "metadata": {},
   "source": [
    "$$\\overrightarrow{n}_{12} = \\frac{1}{L_{12}}(z_2- z_1, r_1-r_2)  $$\n",
    "\n",
    "$$ \\mathbf{F_1}  = \\frac{1}{2} ( p r_1^+ \\cdot \\overrightarrow{n}_{12}L_{12} + p r_1^- \\cdot \\overrightarrow{n}_{41}L_{41}) $$ \n",
    "\n",
    "$$ \\mathbf{F_1}  = \\frac{1}{6}  p \\left[(2r_1+r_2)(z_2 - z_1, r_1 -r_2) +(2r_1+r_4) (z_1 -z_4, r_4 - r_1) \\right] $$ \n",
    "\n",
    "$$ \\mathbf{F_2}  = \\frac{1}{6}  p \\left[(r_1+2r_2)(z_2 - z_1, r_1 -r_2) +(2r_2+r_3) (z_3 -z_2, r_2 - r_3) \\right] $$ "
   ]
  },
  {
   "cell_type": "markdown",
   "metadata": {},
   "source": [
    "$$\\overrightarrow{n}_{41} = \\frac{1}{L_{41}}(z_1- z_4, r_4-r_1)  $$\n",
    "$$\\overrightarrow{n}_{23} = \\frac{1}{L_{23}}(z_3- z_2, r_2-r_3)  $$\n",
    "$$\\overrightarrow{n}_{34} = \\frac{1}{L_{34}}(z_4- z_3, r_3-r_4)  $$"
   ]
  },
  {
   "cell_type": "markdown",
   "metadata": {},
   "source": [
    "$$ \\mathbf{F_3}  = \\frac{1}{6}  p \\left[(2r_3+r_4)(z_4 - z_3, r_3 -r_4) +(2r_3+r_2) (z_3 -z_2, r_2 - r_3) \\right] $$ "
   ]
  },
  {
   "cell_type": "markdown",
   "metadata": {},
   "source": [
    "$$ \\mathbf{F_1^{II}}  = \\frac{1}{6}  p \\left[(2r_{ij}+r_{i+1,j})(z_{i+1,j} - z_{i,j}, r_{i,j} -r_{i+1,j}) +(2r_{i,j}+r_{i,j+1}) (z_{i,j} -z_{i,j+1}, r_{i,j+1} - r_{i,j}) \\right] $$ "
   ]
  },
  {
   "cell_type": "markdown",
   "metadata": {},
   "source": [
    "$$ \\mathbf{F_2^I}  = \\frac{1}{6}  p \\left[(2r_{i,j}+r_{i-1,j})(z_{i,j} - z_{i-1,j}, r_{i-1,j} -r_{i,j}) +(2r_{i,j}+r_{i,j+1}) (z_{i,j+1} -z_{i,j}, r_{i,j} - r_{i,j+1}) \\right] $$"
   ]
  },
  {
   "cell_type": "markdown",
   "metadata": {},
   "source": [
    "$$F_{1r}^{II}+F_{2r}^{I} = \\frac{1}{6}[2r_{i,j}(z_{i+1,j}-z_{i-1,j})+ (r_{i+1,j}z_{i+1,j}-r_{i-1,j}z_{i-1,j})- z_{i,j}(r_{i+1,j}-r_{i-1,j})]$$"
   ]
  },
  {
   "cell_type": "markdown",
   "metadata": {},
   "source": [
    "$$ =\\frac{1}{6} R_j^2[ 2\\text{cos}\\phi_i (\\text{sin}\\phi_{i+1}-\\text{sin}\\phi_{i-1}) + \\text{sin}\\phi_{i+1}\\text{cos}\\phi_{i+1}-\\text{sin}\\phi_{i-1}\\text{cos}\\phi_{i-1} - \\text{sin}\\phi(\\text{cos}\\phi_{i+1}-\\text{cos}\\phi_{i-1})]$$"
   ]
  },
  {
   "cell_type": "markdown",
   "metadata": {},
   "source": [
    "$$ =\\frac{1}{6}R_j^2 [ 4\\text{cos}\\phi\\text{cos}\\phi\\text{sin}\\Delta\\phi + \\text{cos}2\\phi\\text{sin}2\\Delta\\phi +2\\text{sin}\\phi \\text{sin}\\phi\\text{sin}\\Delta\\phi] $$"
   ]
  },
  {
   "cell_type": "markdown",
   "metadata": {},
   "source": [
    "$$ = \\frac{1}{6}R_j^2 [3 + \\text{cos}2\\phi +2\\text{cos}2\\phi \\text{cos}\\Delta\\phi]\\text{sin}\\Delta\\phi $$\n",
    "$$ = \\frac{1}{2}R_j^2 \\text{sin}\\Delta \\phi +\\frac{1}{6}R_j^2\\text{cos}2\\phi\\text{sin}\\Delta \\phi(1+2\\text{cos}2\\phi)$$"
   ]
  },
  {
   "cell_type": "markdown",
   "metadata": {},
   "source": [
    "$$F_{1z}^{II}+F_{2z}^{I}=\\frac{1}{6} (r_{i-1}-r_{i+1})(r_i+r_{i+1}+r_{i-1})$$"
   ]
  },
  {
   "cell_type": "markdown",
   "metadata": {},
   "source": [
    "$$ = \\frac{1}{6}R_j^2[(\\text{cos}\\phi_{i-1}-\\text{cos}\\phi_{i+1})(\\text{cos}\\phi+\\text{cos}\\phi_{i-1}+\\text{cos}\\phi_{i+1})]$$"
   ]
  },
  {
   "cell_type": "markdown",
   "metadata": {},
   "source": [
    "$$ =\\frac{1}{6}R_j^2 2 \\text{sin}\\phi \\text{sin}\\Delta \\phi (\\text{cos}\\phi + 2\\text{cos}\\phi\\text{cos}\\Delta \\phi)$$"
   ]
  },
  {
   "cell_type": "markdown",
   "metadata": {},
   "source": [
    "$$ =\\frac{1}{6}R_j^2 \\text{sin}2\\phi \\text{sin}\\Delta \\phi (1+2\\text{cos}\\Delta \\phi)$$"
   ]
  },
  {
   "cell_type": "markdown",
   "metadata": {},
   "source": [
    "$$ \\nabla \\cdot (p\\vec{u}) = \\vec{u}\\cdot \\nabla p + p \\nabla \\cdot \\vec{u}$$"
   ]
  },
  {
   "cell_type": "markdown",
   "metadata": {},
   "source": [
    "$$ \\nabla \\cdot (\\vec{\\vec{\\sigma}}\\cdot \\vec{u}) = \\vec{v}\\cdot (\\nabla\\cdot\\vec{\\vec{\\sigma}}) +\\vec{\\vec{\\sigma}}:\\nabla \\vec{u}$$"
   ]
  },
  {
   "cell_type": "code",
   "execution_count": 1,
   "metadata": {},
   "outputs": [
    {
     "data": {
      "text/plain": [
       "0.176470588235294"
      ]
     },
     "execution_count": 1,
     "metadata": {},
     "output_type": "execute_result"
    }
   ],
   "source": [
    "(1.65-1.5)/(2.1-1.25)"
   ]
  },
  {
   "cell_type": "code",
   "execution_count": 2,
   "metadata": {},
   "outputs": [
    {
     "data": {
      "text/plain": [
       "0.176470588235294"
      ]
     },
     "execution_count": 2,
     "metadata": {},
     "output_type": "execute_result"
    }
   ],
   "source": [
    "(1.65-1.575)/(2.1-1.675)"
   ]
  },
  {
   "cell_type": "code",
   "execution_count": 3,
   "metadata": {},
   "outputs": [
    {
     "data": {
      "text/plain": [
       "1.575"
      ]
     },
     "execution_count": 3,
     "metadata": {},
     "output_type": "execute_result"
    }
   ],
   "source": [
    "(2.15+1)/2"
   ]
  },
  {
   "cell_type": "code",
   "execution_count": 4,
   "metadata": {},
   "outputs": [
    {
     "data": {
      "text/plain": [
       "1.575"
      ]
     },
     "execution_count": 4,
     "metadata": {},
     "output_type": "execute_result"
    }
   ],
   "source": [
    "0.5(1.65+1.5)"
   ]
  },
  {
   "cell_type": "code",
   "execution_count": null,
   "metadata": {},
   "outputs": [],
   "source": []
  }
 ],
 "metadata": {
  "kernelspec": {
   "display_name": "Julia 1.1.0",
   "language": "julia",
   "name": "julia-1.1"
  },
  "language_info": {
   "file_extension": ".jl",
   "mimetype": "application/julia",
   "name": "julia",
   "version": "1.1.0"
  }
 },
 "nbformat": 4,
 "nbformat_minor": 2
}
