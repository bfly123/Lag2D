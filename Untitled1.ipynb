{
 "cells": [
  {
   "cell_type": "code",
   "execution_count": 1,
   "metadata": {},
   "outputs": [
    {
     "data": {
      "text/latex": [
       "\\begin{verbatim}\n",
       "@enum EnumName[::BaseType] value1[=x] value2[=y]\n",
       "\\end{verbatim}\n",
       "Create an \\texttt{Enum\\{BaseType\\}} subtype with name \\texttt{EnumName} and enum member values of \\texttt{value1} and \\texttt{value2} with optional assigned values of \\texttt{x} and \\texttt{y}, respectively. \\texttt{EnumName} can be used just like other types and enum member values as regular values, such as\n",
       "\n",
       "\\section{Examples}\n",
       "\\begin{verbatim}\n",
       "julia> @enum Fruit apple=1 orange=2 kiwi=3\n",
       "\n",
       "julia> f(x::Fruit) = \"I'm a Fruit with value: $(Int(x))\"\n",
       "f (generic function with 1 method)\n",
       "\n",
       "julia> f(apple)\n",
       "\"I'm a Fruit with value: 1\"\n",
       "\n",
       "julia> Fruit(1)\n",
       "apple::Fruit = 1\n",
       "\\end{verbatim}\n",
       "Values can also be specified inside a \\texttt{begin} block, e.g.\n",
       "\n",
       "\\begin{verbatim}\n",
       "@enum EnumName begin\n",
       "    value1\n",
       "    value2\n",
       "end\n",
       "\\end{verbatim}\n",
       "\\texttt{BaseType}, which defaults to \\href{@ref}{\\texttt{Int32}}, must be a primitive subtype of \\texttt{Integer}. Member values can be converted between the enum type and \\texttt{BaseType}. \\texttt{read} and \\texttt{write} perform these conversions automatically.\n",
       "\n",
       "To list all the instances of an enum use \\texttt{instances}, e.g.\n",
       "\n",
       "\\begin{verbatim}\n",
       "julia> instances(Fruit)\n",
       "(apple::Fruit = 1, orange::Fruit = 2, kiwi::Fruit = 3)\n",
       "\\end{verbatim}\n"
      ],
      "text/markdown": [
       "```\n",
       "@enum EnumName[::BaseType] value1[=x] value2[=y]\n",
       "```\n",
       "\n",
       "Create an `Enum{BaseType}` subtype with name `EnumName` and enum member values of `value1` and `value2` with optional assigned values of `x` and `y`, respectively. `EnumName` can be used just like other types and enum member values as regular values, such as\n",
       "\n",
       "# Examples\n",
       "\n",
       "```jldoctest fruitenum\n",
       "julia> @enum Fruit apple=1 orange=2 kiwi=3\n",
       "\n",
       "julia> f(x::Fruit) = \"I'm a Fruit with value: $(Int(x))\"\n",
       "f (generic function with 1 method)\n",
       "\n",
       "julia> f(apple)\n",
       "\"I'm a Fruit with value: 1\"\n",
       "\n",
       "julia> Fruit(1)\n",
       "apple::Fruit = 1\n",
       "```\n",
       "\n",
       "Values can also be specified inside a `begin` block, e.g.\n",
       "\n",
       "```julia\n",
       "@enum EnumName begin\n",
       "    value1\n",
       "    value2\n",
       "end\n",
       "```\n",
       "\n",
       "`BaseType`, which defaults to [`Int32`](@ref), must be a primitive subtype of `Integer`. Member values can be converted between the enum type and `BaseType`. `read` and `write` perform these conversions automatically.\n",
       "\n",
       "To list all the instances of an enum use `instances`, e.g.\n",
       "\n",
       "```jldoctest fruitenum\n",
       "julia> instances(Fruit)\n",
       "(apple::Fruit = 1, orange::Fruit = 2, kiwi::Fruit = 3)\n",
       "```\n"
      ],
      "text/plain": [
       "\u001b[36m  @enum EnumName[::BaseType] value1[=x] value2[=y]\u001b[39m\n",
       "\n",
       "  Create an \u001b[36mEnum{BaseType}\u001b[39m subtype with name \u001b[36mEnumName\u001b[39m and enum member values\n",
       "  of \u001b[36mvalue1\u001b[39m and \u001b[36mvalue2\u001b[39m with optional assigned values of \u001b[36mx\u001b[39m and \u001b[36my\u001b[39m, respectively.\n",
       "  \u001b[36mEnumName\u001b[39m can be used just like other types and enum member values as regular\n",
       "  values, such as\n",
       "\n",
       "\u001b[1m  Examples\u001b[22m\n",
       "\u001b[1m  ≡≡≡≡≡≡≡≡≡≡\u001b[22m\n",
       "\n",
       "\u001b[36m  julia> @enum Fruit apple=1 orange=2 kiwi=3\u001b[39m\n",
       "\u001b[36m  \u001b[39m\n",
       "\u001b[36m  julia> f(x::Fruit) = \"I'm a Fruit with value: $(Int(x))\"\u001b[39m\n",
       "\u001b[36m  f (generic function with 1 method)\u001b[39m\n",
       "\u001b[36m  \u001b[39m\n",
       "\u001b[36m  julia> f(apple)\u001b[39m\n",
       "\u001b[36m  \"I'm a Fruit with value: 1\"\u001b[39m\n",
       "\u001b[36m  \u001b[39m\n",
       "\u001b[36m  julia> Fruit(1)\u001b[39m\n",
       "\u001b[36m  apple::Fruit = 1\u001b[39m\n",
       "\n",
       "  Values can also be specified inside a \u001b[36mbegin\u001b[39m block, e.g.\n",
       "\n",
       "\u001b[36m  @enum EnumName begin\u001b[39m\n",
       "\u001b[36m      value1\u001b[39m\n",
       "\u001b[36m      value2\u001b[39m\n",
       "\u001b[36m  end\u001b[39m\n",
       "\n",
       "  \u001b[36mBaseType\u001b[39m, which defaults to \u001b[36mInt32\u001b[39m, must be a primitive subtype of \u001b[36mInteger\u001b[39m.\n",
       "  Member values can be converted between the enum type and \u001b[36mBaseType\u001b[39m. \u001b[36mread\u001b[39m and\n",
       "  \u001b[36mwrite\u001b[39m perform these conversions automatically.\n",
       "\n",
       "  To list all the instances of an enum use \u001b[36minstances\u001b[39m, e.g.\n",
       "\n",
       "\u001b[36m  julia> instances(Fruit)\u001b[39m\n",
       "\u001b[36m  (apple::Fruit = 1, orange::Fruit = 2, kiwi::Fruit = 3)\u001b[39m"
      ]
     },
     "execution_count": 1,
     "metadata": {},
     "output_type": "execute_result"
    }
   ],
   "source": [
    "? @enum"
   ]
  },
  {
   "cell_type": "code",
   "execution_count": 2,
   "metadata": {},
   "outputs": [],
   "source": [
    "@enum Fruit apple=1 orange=2 kiwi=3"
   ]
  },
  {
   "cell_type": "code",
   "execution_count": 3,
   "metadata": {},
   "outputs": [
    {
     "data": {
      "text/plain": [
       "(apple::Fruit = 1, orange::Fruit = 2, kiwi::Fruit = 3)"
      ]
     },
     "execution_count": 3,
     "metadata": {},
     "output_type": "execute_result"
    }
   ],
   "source": [
    "instances(Fruit)"
   ]
  },
  {
   "cell_type": "code",
   "execution_count": 4,
   "metadata": {},
   "outputs": [
    {
     "name": "stdout",
     "output_type": "stream",
     "text": [
      "\u001b[32m\u001b[1m  Updating\u001b[22m\u001b[39m registry at `~/.juliapro/JuliaPro_v1.1.1.1/registries/JuliaPro`\n",
      "\u001b[32m\u001b[1m  Updating\u001b[22m\u001b[39m git-repo `https://pkg.juliacomputing.com//registry/JuliaPro`\n",
      "\u001b[2K\u001b[?25h[1mFetching:\u001b[22m\u001b[39m [========================================>]  100.0 %.0 %\u001b[32m\u001b[1m Resolving\u001b[22m\u001b[39m package versions...\n",
      "\u001b[32m\u001b[1m  Updating\u001b[22m\u001b[39m `~/.juliapro/JuliaPro_v1.1.1.1/environments/v1.1/Project.toml`\n",
      " \u001b[90m [50d2b5c4]\u001b[39m\u001b[92m + Lazy v0.14.0\u001b[39m\n",
      "\u001b[32m\u001b[1m  Updating\u001b[22m\u001b[39m `~/.juliapro/JuliaPro_v1.1.1.1/environments/v1.1/Manifest.toml`\n",
      "\u001b[90m [no changes]\u001b[39m\n"
     ]
    }
   ],
   "source": [
    "using Pkg\n",
    "Pkg.add(\"Lazy\")"
   ]
  },
  {
   "cell_type": "code",
   "execution_count": 5,
   "metadata": {},
   "outputs": [
    {
     "name": "stderr",
     "output_type": "stream",
     "text": [
      "┌ Info: Recompiling stale cache file /home/bfly/.juliapro/JuliaPro_v1.1.1.1/compiled/v1.1/Lazy/mi7Ul.ji for Lazy [50d2b5c4-7a5e-59d5-8109-a42b560f39c0]\n",
      "└ @ Base loading.jl:1184\n"
     ]
    }
   ],
   "source": [
    "using Lazy"
   ]
  },
  {
   "cell_type": "code",
   "execution_count": 6,
   "metadata": {},
   "outputs": [
    {
     "data": {
      "text/latex": [
       "The threading macro is like a more flexible version of the \\texttt{|>} operator.\n",
       "\n",
       "\\begin{verbatim}\n",
       "@> x f = f(x)\n",
       "@> x g f == f(g(x))\n",
       "@> x a b c d e == e(d(c(b(a(x)))))\n",
       "\\end{verbatim}\n",
       "Unlike |>, functions can have arguments - the value preceding a function will be treated as its first argument\n",
       "\n",
       "\\begin{verbatim}\n",
       "@> x g(y, z) f == f(g(x, y, z))\n",
       "\n",
       "@> x g f(y, z) == f(g(x), y, z)\n",
       "\\end{verbatim}\n",
       "See also \\texttt{@>>}, \\texttt{@as}.\n",
       "\n"
      ],
      "text/markdown": [
       "The threading macro is like a more flexible version of the `|>` operator.\n",
       "\n",
       "```\n",
       "@> x f = f(x)\n",
       "@> x g f == f(g(x))\n",
       "@> x a b c d e == e(d(c(b(a(x)))))\n",
       "```\n",
       "\n",
       "Unlike |>, functions can have arguments - the value preceding a function will be treated as its first argument\n",
       "\n",
       "```\n",
       "@> x g(y, z) f == f(g(x, y, z))\n",
       "\n",
       "@> x g f(y, z) == f(g(x), y, z)\n",
       "```\n",
       "\n",
       "See also `@>>`, `@as`.\n"
      ],
      "text/plain": [
       "  The threading macro is like a more flexible version of the \u001b[36m|>\u001b[39m operator.\n",
       "\n",
       "\u001b[36m  @> x f = f(x)\u001b[39m\n",
       "\u001b[36m  @> x g f == f(g(x))\u001b[39m\n",
       "\u001b[36m  @> x a b c d e == e(d(c(b(a(x)))))\u001b[39m\n",
       "\n",
       "  Unlike |>, functions can have arguments - the value preceding a function\n",
       "  will be treated as its first argument\n",
       "\n",
       "\u001b[36m  @> x g(y, z) f == f(g(x, y, z))\u001b[39m\n",
       "\u001b[36m  \u001b[39m\n",
       "\u001b[36m  @> x g f(y, z) == f(g(x), y, z)\u001b[39m\n",
       "\n",
       "  See also \u001b[36m@>>\u001b[39m, \u001b[36m@as\u001b[39m."
      ]
     },
     "execution_count": 6,
     "metadata": {},
     "output_type": "execute_result"
    }
   ],
   "source": [
    "? @>"
   ]
  },
  {
   "cell_type": "code",
   "execution_count": 10,
   "metadata": {},
   "outputs": [
    {
     "data": {
      "text/plain": [
       "9"
      ]
     },
     "execution_count": 10,
     "metadata": {},
     "output_type": "execute_result"
    }
   ],
   "source": [
    "@> 3 f"
   ]
  },
  {
   "cell_type": "code",
   "execution_count": 8,
   "metadata": {},
   "outputs": [
    {
     "data": {
      "text/plain": [
       "f (generic function with 1 method)"
      ]
     },
     "execution_count": 8,
     "metadata": {},
     "output_type": "execute_result"
    }
   ],
   "source": [
    "f(x) = x.^2"
   ]
  },
  {
   "cell_type": "code",
   "execution_count": 11,
   "metadata": {},
   "outputs": [
    {
     "data": {
      "text/plain": [
       "g (generic function with 1 method)"
      ]
     },
     "execution_count": 11,
     "metadata": {},
     "output_type": "execute_result"
    }
   ],
   "source": [
    "g(x,y) = x^2 +y^2"
   ]
  },
  {
   "cell_type": "code",
   "execution_count": 12,
   "metadata": {},
   "outputs": [
    {
     "data": {
      "text/plain": [
       "13"
      ]
     },
     "execution_count": 12,
     "metadata": {},
     "output_type": "execute_result"
    }
   ],
   "source": [
    "@> 3 g(2)"
   ]
  },
  {
   "cell_type": "code",
   "execution_count": 15,
   "metadata": {},
   "outputs": [
    {
     "ename": "LoadError",
     "evalue": "UndefVarError: @as_3 not defined",
     "output_type": "error",
     "traceback": [
      "UndefVarError: @as_3 not defined",
      ""
     ]
    }
   ],
   "source": [
    "@as _3 g(_,2)"
   ]
  },
  {
   "cell_type": "code",
   "execution_count": 32,
   "metadata": {},
   "outputs": [
    {
     "ename": "ErrorException",
     "evalue": "syntax: all-underscore identifier used as rvalue around /home/bfly/.juliapro/JuliaPro_v1.1.1.1/packages/Lazy/mAoZN/src/macros.jl:156",
     "output_type": "error",
     "traceback": [
      "syntax: all-underscore identifier used as rvalue around /home/bfly/.juliapro/JuliaPro_v1.1.1.1/packages/Lazy/mAoZN/src/macros.jl:156",
      ""
     ]
    }
   ],
   "source": [
    "@as _ 2 g(_ ,3)"
   ]
  },
  {
   "cell_type": "code",
   "execution_count": 34,
   "metadata": {},
   "outputs": [
    {
     "data": {
      "text/plain": [
       "6"
      ]
     },
     "execution_count": 34,
     "metadata": {},
     "output_type": "execute_result"
    }
   ],
   "source": [
    "@as x 2 begin\n",
    " f(x)\n",
    " g(x)\n",
    "end"
   ]
  },
  {
   "cell_type": "code",
   "execution_count": 35,
   "metadata": {},
   "outputs": [
    {
     "name": "stdout",
     "output_type": "stream",
     "text": [
      "search: \u001b[0m\u001b[1mr\u001b[22m\u001b[0m\u001b[1ma\u001b[22m\u001b[0m\u001b[1mn\u001b[22m\u001b[0m\u001b[1mg\u001b[22m\u001b[0m\u001b[1me\u001b[22m o\u001b[0m\u001b[1mr\u001b[22m\u001b[0m\u001b[1ma\u001b[22m\u001b[0m\u001b[1mn\u001b[22m\u001b[0m\u001b[1mg\u001b[22m\u001b[0m\u001b[1me\u001b[22m Lin\u001b[0m\u001b[1mR\u001b[22m\u001b[0m\u001b[1ma\u001b[22m\u001b[0m\u001b[1mn\u001b[22m\u001b[0m\u001b[1mg\u001b[22m\u001b[0m\u001b[1me\u001b[22m Unit\u001b[0m\u001b[1mR\u001b[22m\u001b[0m\u001b[1ma\u001b[22m\u001b[0m\u001b[1mn\u001b[22m\u001b[0m\u001b[1mg\u001b[22m\u001b[0m\u001b[1me\u001b[22m Step\u001b[0m\u001b[1mR\u001b[22m\u001b[0m\u001b[1ma\u001b[22m\u001b[0m\u001b[1mn\u001b[22m\u001b[0m\u001b[1mg\u001b[22m\u001b[0m\u001b[1me\u001b[22m Step\u001b[0m\u001b[1mR\u001b[22m\u001b[0m\u001b[1ma\u001b[22m\u001b[0m\u001b[1mn\u001b[22m\u001b[0m\u001b[1mg\u001b[22m\u001b[0m\u001b[1me\u001b[22mLen t\u001b[0m\u001b[1mr\u001b[22m\u001b[0m\u001b[1ma\u001b[22mili\u001b[0m\u001b[1mn\u001b[22m\u001b[0m\u001b[1mg\u001b[22m_z\u001b[0m\u001b[1me\u001b[22mros\n",
      "\n"
     ]
    },
    {
     "data": {
      "text/latex": [
       "\\begin{verbatim}\n",
       "range(start[, stop]; length, stop, step=1)\n",
       "\\end{verbatim}\n",
       "Given a starting value, construct a range either by length or from \\texttt{start} to \\texttt{stop}, optionally with a given step (defaults to 1, a \\href{@ref}{\\texttt{UnitRange}}). One of \\texttt{length} or \\texttt{stop} is required.  If \\texttt{length}, \\texttt{stop}, and \\texttt{step} are all specified, they must agree.\n",
       "\n",
       "If \\texttt{length} and \\texttt{stop} are provided and \\texttt{step} is not, the step size will be computed automatically such that there are \\texttt{length} linearly spaced elements in the range (a \\href{@ref}{\\texttt{LinRange}}).\n",
       "\n",
       "If \\texttt{step} and \\texttt{stop} are provided and \\texttt{length} is not, the overall range length will be computed automatically such that the elements are \\texttt{step} spaced (a \\href{@ref}{\\texttt{StepRange}}).\n",
       "\n",
       "\\texttt{stop} may be specified as either a positional or keyword argument.\n",
       "\n",
       "\\begin{quote}\n",
       "\\textbf{compat}\n",
       "\n",
       "Julia 1.1\n",
       "\n",
       "\\texttt{stop} as a positional argument requires at least Julia 1.1.\n",
       "\n",
       "\\end{quote}\n",
       "\\section{Examples}\n",
       "\\begin{verbatim}\n",
       "julia> range(1, length=100)\n",
       "1:100\n",
       "\n",
       "julia> range(1, stop=100)\n",
       "1:100\n",
       "\n",
       "julia> range(1, step=5, length=100)\n",
       "1:5:496\n",
       "\n",
       "julia> range(1, step=5, stop=100)\n",
       "1:5:96\n",
       "\n",
       "julia> range(1, 10, length=101)\n",
       "1.0:0.09:10.0\n",
       "\n",
       "julia> range(1, 100, step=5)\n",
       "1:5:96\n",
       "\\end{verbatim}\n"
      ],
      "text/markdown": [
       "```\n",
       "range(start[, stop]; length, stop, step=1)\n",
       "```\n",
       "\n",
       "Given a starting value, construct a range either by length or from `start` to `stop`, optionally with a given step (defaults to 1, a [`UnitRange`](@ref)). One of `length` or `stop` is required.  If `length`, `stop`, and `step` are all specified, they must agree.\n",
       "\n",
       "If `length` and `stop` are provided and `step` is not, the step size will be computed automatically such that there are `length` linearly spaced elements in the range (a [`LinRange`](@ref)).\n",
       "\n",
       "If `step` and `stop` are provided and `length` is not, the overall range length will be computed automatically such that the elements are `step` spaced (a [`StepRange`](@ref)).\n",
       "\n",
       "`stop` may be specified as either a positional or keyword argument.\n",
       "\n",
       "!!! compat \"Julia 1.1\"\n",
       "    `stop` as a positional argument requires at least Julia 1.1.\n",
       "\n",
       "\n",
       "# Examples\n",
       "\n",
       "```jldoctest\n",
       "julia> range(1, length=100)\n",
       "1:100\n",
       "\n",
       "julia> range(1, stop=100)\n",
       "1:100\n",
       "\n",
       "julia> range(1, step=5, length=100)\n",
       "1:5:496\n",
       "\n",
       "julia> range(1, step=5, stop=100)\n",
       "1:5:96\n",
       "\n",
       "julia> range(1, 10, length=101)\n",
       "1.0:0.09:10.0\n",
       "\n",
       "julia> range(1, 100, step=5)\n",
       "1:5:96\n",
       "```\n"
      ],
      "text/plain": [
       "\u001b[36m  range(start[, stop]; length, stop, step=1)\u001b[39m\n",
       "\n",
       "  Given a starting value, construct a range either by length or from \u001b[36mstart\u001b[39m to\n",
       "  \u001b[36mstop\u001b[39m, optionally with a given step (defaults to 1, a \u001b[36mUnitRange\u001b[39m). One of\n",
       "  \u001b[36mlength\u001b[39m or \u001b[36mstop\u001b[39m is required. If \u001b[36mlength\u001b[39m, \u001b[36mstop\u001b[39m, and \u001b[36mstep\u001b[39m are all specified,\n",
       "  they must agree.\n",
       "\n",
       "  If \u001b[36mlength\u001b[39m and \u001b[36mstop\u001b[39m are provided and \u001b[36mstep\u001b[39m is not, the step size will be\n",
       "  computed automatically such that there are \u001b[36mlength\u001b[39m linearly spaced elements\n",
       "  in the range (a \u001b[36mLinRange\u001b[39m).\n",
       "\n",
       "  If \u001b[36mstep\u001b[39m and \u001b[36mstop\u001b[39m are provided and \u001b[36mlength\u001b[39m is not, the overall range length\n",
       "  will be computed automatically such that the elements are \u001b[36mstep\u001b[39m spaced (a\n",
       "  \u001b[36mStepRange\u001b[39m).\n",
       "\n",
       "  \u001b[36mstop\u001b[39m may be specified as either a positional or keyword argument.\n",
       "\n",
       "\u001b[39m\u001b[1m  │ \u001b[22m\u001b[39m\u001b[1mJulia 1.1\u001b[22m\n",
       "\u001b[39m\u001b[1m  │\u001b[22m\n",
       "\u001b[39m\u001b[1m  │\u001b[22m  \u001b[36mstop\u001b[39m as a positional argument requires at least Julia 1.1.\n",
       "\n",
       "\u001b[1m  Examples\u001b[22m\n",
       "\u001b[1m  ≡≡≡≡≡≡≡≡≡≡\u001b[22m\n",
       "\n",
       "\u001b[36m  julia> range(1, length=100)\u001b[39m\n",
       "\u001b[36m  1:100\u001b[39m\n",
       "\u001b[36m  \u001b[39m\n",
       "\u001b[36m  julia> range(1, stop=100)\u001b[39m\n",
       "\u001b[36m  1:100\u001b[39m\n",
       "\u001b[36m  \u001b[39m\n",
       "\u001b[36m  julia> range(1, step=5, length=100)\u001b[39m\n",
       "\u001b[36m  1:5:496\u001b[39m\n",
       "\u001b[36m  \u001b[39m\n",
       "\u001b[36m  julia> range(1, step=5, stop=100)\u001b[39m\n",
       "\u001b[36m  1:5:96\u001b[39m\n",
       "\u001b[36m  \u001b[39m\n",
       "\u001b[36m  julia> range(1, 10, length=101)\u001b[39m\n",
       "\u001b[36m  1.0:0.09:10.0\u001b[39m\n",
       "\u001b[36m  \u001b[39m\n",
       "\u001b[36m  julia> range(1, 100, step=5)\u001b[39m\n",
       "\u001b[36m  1:5:96\u001b[39m"
      ]
     },
     "execution_count": 35,
     "metadata": {},
     "output_type": "execute_result"
    }
   ],
   "source": [
    "? range"
   ]
  },
  {
   "cell_type": "code",
   "execution_count": 41,
   "metadata": {},
   "outputs": [
    {
     "ename": "MethodError",
     "evalue": "MethodError: no method matching range(; start=1, stop=10, step=2)\nClosest candidates are:\n  range(!Matched::Number, !Matched::Number; kwargs...) at /home/bfly/.juliapro/JuliaPro_v1.1.1.1/packages/Compat/fSUv4/src/deprecated.jl:71\n  range(!Matched::Any; length, stop, step) at range.jl:87 got unsupported keyword argument \"start\"\n  range(!Matched::Any, !Matched::Any; length, step) at range.jl:90 got unsupported keyword arguments \"start\", \"stop\"",
     "output_type": "error",
     "traceback": [
      "MethodError: no method matching range(; start=1, stop=10, step=2)\nClosest candidates are:\n  range(!Matched::Number, !Matched::Number; kwargs...) at /home/bfly/.juliapro/JuliaPro_v1.1.1.1/packages/Compat/fSUv4/src/deprecated.jl:71\n  range(!Matched::Any; length, stop, step) at range.jl:87 got unsupported keyword argument \"start\"\n  range(!Matched::Any, !Matched::Any; length, step) at range.jl:90 got unsupported keyword arguments \"start\", \"stop\"",
      "",
      "Stacktrace:",
      " [1] top-level scope at In[41]:1"
     ]
    }
   ],
   "source": [
    "range(1,stop=10,step=2)"
   ]
  },
  {
   "cell_type": "code",
   "execution_count": 46,
   "metadata": {},
   "outputs": [
    {
     "ename": "InterruptException",
     "evalue": "InterruptException:",
     "output_type": "error",
     "traceback": [
      "InterruptException:",
      "",
      "Stacktrace:",
      " [1] Type at /home/bfly/.juliapro/JuliaPro_v1.1.1.1/packages/Lazy/mAoZN/src/Lazy.jl:34 [inlined]",
      " [2] Type at /home/bfly/.juliapro/JuliaPro_v1.1.1.1/packages/Lazy/mAoZN/src/Lazy.jl:46 [inlined]",
      " [3] range at /home/bfly/.juliapro/JuliaPro_v1.1.1.1/packages/Lazy/mAoZN/src/liblazy.jl:39 [inlined]",
      " [4] (::getfield(Lazy, Symbol(\"##33#34\")){Int64})() at /home/bfly/.juliapro/JuliaPro_v1.1.1.1/packages/Lazy/mAoZN/src/Lazy.jl:90",
      " [5] realise!(::Lazy.LazyList) at /home/bfly/.juliapro/JuliaPro_v1.1.1.1/packages/Lazy/mAoZN/src/Lazy.jl:76",
      " [6] realise(::Lazy.LazyList) at /home/bfly/.juliapro/JuliaPro_v1.1.1.1/packages/Lazy/mAoZN/src/Lazy.jl:84",
      " [7] isempty(::Lazy.LazyList) at /home/bfly/.juliapro/JuliaPro_v1.1.1.1/packages/Lazy/mAoZN/src/Lazy.jl:94",
      " [8] (::getfield(Lazy, Symbol(\"##39#40\")){Lazy.LazyList,String,Int64})() at /home/bfly/.juliapro/JuliaPro_v1.1.1.1/packages/Lazy/mAoZN/src/Lazy.jl:90",
      " [9] realise!(::Lazy.LazyList) at /home/bfly/.juliapro/JuliaPro_v1.1.1.1/packages/Lazy/mAoZN/src/Lazy.jl:76",
      " [10] realise(::Lazy.LazyList) at /home/bfly/.juliapro/JuliaPro_v1.1.1.1/packages/Lazy/mAoZN/src/Lazy.jl:84",
      " [11] isempty(::Lazy.LazyList) at /home/bfly/.juliapro/JuliaPro_v1.1.1.1/packages/Lazy/mAoZN/src/Lazy.jl:94",
      " [12] (::getfield(Lazy, Symbol(\"##35#36\")){Lazy.LazyList,Lazy.LinkedList})() at /home/bfly/.juliapro/JuliaPro_v1.1.1.1/packages/Lazy/mAoZN/src/Lazy.jl:90",
      " [13] realise!(::Lazy.LazyList) at /home/bfly/.juliapro/JuliaPro_v1.1.1.1/packages/Lazy/mAoZN/src/Lazy.jl:76",
      " [14] realise(::Lazy.LazyList) at /home/bfly/.juliapro/JuliaPro_v1.1.1.1/packages/Lazy/mAoZN/src/Lazy.jl:84",
      " [15] isempty(::Lazy.LazyList) at /home/bfly/.juliapro/JuliaPro_v1.1.1.1/packages/Lazy/mAoZN/src/Lazy.jl:94",
      " [16] _any at ./reduce.jl:616 [inlined]",
      " [17] any at ./reduce.jl:611 [inlined]",
      " [18] (::getfield(Lazy, Symbol(\"##57#58\")){getfield(Lazy, Symbol(\"##89#90\")){IOContext{Base.GenericIOBuffer{Array{UInt8,1}}}},Tuple{Lazy.LazyList}})() at /home/bfly/.juliapro/JuliaPro_v1.1.1.1/packages/Lazy/mAoZN/src/Lazy.jl:90",
      " [19] realise!(::Lazy.LazyList) at /home/bfly/.juliapro/JuliaPro_v1.1.1.1/packages/Lazy/mAoZN/src/Lazy.jl:76",
      " [20] realise(::Lazy.LazyList) at /home/bfly/.juliapro/JuliaPro_v1.1.1.1/packages/Lazy/mAoZN/src/Lazy.jl:84",
      " [21] isempty(::Lazy.LazyList) at /home/bfly/.juliapro/JuliaPro_v1.1.1.1/packages/Lazy/mAoZN/src/Lazy.jl:94",
      " [22] dorun at /home/bfly/.juliapro/JuliaPro_v1.1.1.1/packages/Lazy/mAoZN/src/tail.jl:114 [inlined]",
      " [23] |> at ./operators.jl:813 [inlined]",
      " [24] foreach at /home/bfly/.juliapro/JuliaPro_v1.1.1.1/packages/Lazy/mAoZN/src/Lazy.jl:117 [inlined]",
      " [25] show(::IOContext{Base.GenericIOBuffer{Array{UInt8,1}}}, ::Lazy.LazyList) at /home/bfly/.juliapro/JuliaPro_v1.1.1.1/packages/Lazy/mAoZN/src/Lazy.jl:141",
      " [26] show at ./sysimg.jl:219 [inlined]",
      " [27] limitstringmime(::MIME{Symbol(\"text/plain\")}, ::Lazy.LazyList) at /home/bfly/.juliapro/JuliaPro_v1.1.1.1/packages/IJulia/fRegO/src/inline.jl:37",
      " [28] display_mimestring(::MIME{Symbol(\"text/plain\")}, ::Lazy.LazyList) at /home/bfly/.juliapro/JuliaPro_v1.1.1.1/packages/IJulia/fRegO/src/display.jl:67",
      " [29] display_dict(::Lazy.LazyList) at /home/bfly/.juliapro/JuliaPro_v1.1.1.1/packages/IJulia/fRegO/src/display.jl:96",
      " [30] #invokelatest#1 at ./essentials.jl:742 [inlined]",
      " [31] invokelatest at ./essentials.jl:741 [inlined]",
      " [32] execute_request(::ZMQ.Socket, ::IJulia.Msg) at /home/bfly/.juliapro/JuliaPro_v1.1.1.1/packages/IJulia/fRegO/src/execute_request.jl:112",
      " [33] #invokelatest#1 at ./essentials.jl:742 [inlined]",
      " [34] invokelatest at ./essentials.jl:741 [inlined]",
      " [35] eventloop(::ZMQ.Socket) at /home/bfly/.juliapro/JuliaPro_v1.1.1.1/packages/IJulia/fRegO/src/eventloop.jl:8",
      " [36] (::getfield(IJulia, Symbol(\"##15#18\")))() at ./task.jl:259"
     ]
    }
   ],
   "source": [
    "Lazy.range(2)"
   ]
  },
  {
   "cell_type": "code",
   "execution_count": 47,
   "metadata": {},
   "outputs": [
    {
     "data": {
      "text/latex": [
       "\\section{@as lets you name the threaded argmument}\n",
       "@as \\_ x f(\\_, y) g(z, \\_) == g(z, f(x, y))\n",
       "\n",
       "\\section{All threading macros work over begin blocks}\n",
       "@as x 2 begin  x\\^{}2  x+2 end == 6\n",
       "\n",
       "\\texttt{@\\_} is a version of \\texttt{@as} which defaults to \\texttt{\\_} as the argument name.\n",
       "\n"
      ],
      "text/markdown": [
       "# @as lets you name the threaded argmument\n",
       "\n",
       "@as _ x f(_, y) g(z, _) == g(z, f(x, y))\n",
       "\n",
       "# All threading macros work over begin blocks\n",
       "\n",
       "@as x 2 begin  x^2  x+2 end == 6\n",
       "\n",
       "`@_` is a version of `@as` which defaults to `_` as the argument name.\n"
      ],
      "text/plain": [
       "\u001b[1m  @as lets you name the threaded argmument\u001b[22m\n",
       "\u001b[1m  ≡≡≡≡≡≡≡≡≡≡≡≡≡≡≡≡≡≡≡≡≡≡≡≡≡≡≡≡≡≡≡≡≡≡≡≡≡≡≡≡≡≡\u001b[22m\n",
       "\n",
       "  @as _ x f(_, y) g(z, _) == g(z, f(x, y))\n",
       "\n",
       "\u001b[1m  All threading macros work over begin blocks\u001b[22m\n",
       "\u001b[1m  ≡≡≡≡≡≡≡≡≡≡≡≡≡≡≡≡≡≡≡≡≡≡≡≡≡≡≡≡≡≡≡≡≡≡≡≡≡≡≡≡≡≡≡≡≡\u001b[22m\n",
       "\n",
       "  @as x 2 begin x^2 x+2 end == 6\n",
       "\n",
       "  \u001b[36m@_\u001b[39m is a version of \u001b[36m@as\u001b[39m which defaults to \u001b[36m_\u001b[39m as the argument name."
      ]
     },
     "execution_count": 47,
     "metadata": {},
     "output_type": "execute_result"
    }
   ],
   "source": [
    "? @as"
   ]
  },
  {
   "cell_type": "code",
   "execution_count": 49,
   "metadata": {},
   "outputs": [
    {
     "ename": "ErrorException",
     "evalue": "syntax: all-underscore identifier used as rvalue around /home/bfly/.juliapro/JuliaPro_v1.1.1.1/packages/Lazy/mAoZN/src/macros.jl:156",
     "output_type": "error",
     "traceback": [
      "syntax: all-underscore identifier used as rvalue around /home/bfly/.juliapro/JuliaPro_v1.1.1.1/packages/Lazy/mAoZN/src/macros.jl:156",
      ""
     ]
    }
   ],
   "source": [
    "@as _ x f(_, y) g(z, _)"
   ]
  },
  {
   "cell_type": "code",
   "execution_count": null,
   "metadata": {},
   "outputs": [],
   "source": []
  }
 ],
 "metadata": {
  "@webio": {
   "lastCommId": null,
   "lastKernelId": null
  },
  "kernelspec": {
   "display_name": "Julia 1.1.1",
   "language": "julia",
   "name": "julia-1.1"
  },
  "language_info": {
   "file_extension": ".jl",
   "mimetype": "application/julia",
   "name": "julia",
   "version": "1.1.1"
  }
 },
 "nbformat": 4,
 "nbformat_minor": 2
}
