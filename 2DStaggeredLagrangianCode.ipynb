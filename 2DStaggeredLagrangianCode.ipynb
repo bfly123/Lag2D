{
 "cells": [
  {
   "cell_type": "markdown",
   "metadata": {},
   "source": [
    "#  Code for 2D staggered Lagrangian method in Cylindrical coordinates"
   ]
  },
  {
   "cell_type": "markdown",
   "metadata": {},
   "source": [
    "## Control equations"
   ]
  },
  {
   "cell_type": "markdown",
   "metadata": {},
   "source": [
    "### Momentum equation\n",
    "\n",
    "$$\\tag{1.1}\\rho \\frac{d\\mathbf{v}}{dt} =  -\\nabla p $$ \n",
    "where $\\mathbf{v}$ is the vector of velocity, and $\\rho$ is the density and $p$ is the pressure.  "
   ]
  },
  {
   "cell_type": "markdown",
   "metadata": {},
   "source": [
    "### Energy equation\n",
    "\n",
    "$$\\tag{1.1} \\rho \\frac{dE}{dt} = -\\nabla \\cdot (p\\mathbf{v})$$ \n",
    "\n",
    "where $E$ is the specific total energy and it has a realtion with the specific internal energy \n",
    "$$E = e + \\frac{1}{2}\\mathbf{v}\\cdot\\mathbf{v}$$"
   ]
  },
  {
   "cell_type": "markdown",
   "metadata": {},
   "source": [
    "By (1.1) and (1.2) we have \n",
    "$$\\tag{1.3} \\rho \\frac{de}{dt} = - p\\nabla\\cdot \\mathbf{v}$$"
   ]
  },
  {
   "cell_type": "markdown",
   "metadata": {},
   "source": [
    "In  a Cylindrical coordinates $r-z$, The equations (1.1) and (1.3) can be written as\n",
    "$$\\rho \\frac{du}{dt} = -\\frac{1}{r}\\frac{\\partial (rp)}{\\partial r} + \\frac{p}{r},\\quad \\rho \\frac{dv}{dt} = -\\frac{\\partial p}{\\partial z}$$\n",
    "and\n",
    "$$\\rho \\frac{de}{dt}"
   ]
  },
  {
   "cell_type": "code",
   "execution_count": null,
   "metadata": {},
   "outputs": [],
   "source": []
  }
 ],
 "metadata": {
  "kernelspec": {
   "display_name": "Julia 1.1.1",
   "language": "julia",
   "name": "julia-1.1"
  },
  "language_info": {
   "file_extension": ".jl",
   "mimetype": "application/julia",
   "name": "julia",
   "version": "1.1.1"
  }
 },
 "nbformat": 4,
 "nbformat_minor": 2
}
