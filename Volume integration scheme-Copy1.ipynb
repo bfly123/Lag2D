{
 "cells": [
  {
   "cell_type": "markdown",
   "metadata": {},
   "source": [
    "<img src=\"n123.png\" width = \"300\" height = \"300\" div align=center />"
   ]
  },
  {
   "cell_type": "markdown",
   "metadata": {},
   "source": [
    "$$\\overrightarrow{n}_{12} = \\frac{1}{L_{12}}(z_2- z_1, r_1-r_2)  $$\n",
    "\n",
    "$$ \\mathbf{F_1}  = \\frac{1}{2} ( p r_1^+ \\cdot \\overrightarrow{n}_{12}L_{12} + p r_1^- \\cdot \\overrightarrow{n}_{41}L_{41}) $$ \n",
    "\n",
    "$$ \\mathbf{F_1}  = \\frac{1}{4}  p \\left[(r_1+r_2)(z_2 - z_1, r_1 -r_2) +(r_1+r_4) (z_1 -z_4, r_4 - r_1) \\right] $$ \n",
    "\n",
    "$$ \\mathbf{F_2}  = \\frac{1}{4}  p \\left[(r_1+r_2)(z_2 - z_1, r_1 -r_2) +(r_2+r_3) (z_3 -z_2, r_2 - r_3) \\right] $$ "
   ]
  },
  {
   "cell_type": "markdown",
   "metadata": {},
   "source": [
    "$$\\overrightarrow{n}_{41} = \\frac{1}{L_{41}}(z_1- z_4, r_4-r_1)  $$\n",
    "$$\\overrightarrow{n}_{23} = \\frac{1}{L_{23}}(z_3- z_2, r_2-r_3)  $$\n",
    "$$\\overrightarrow{n}_{34} = \\frac{1}{L_{34}}(z_4- z_3, r_3-r_4)  $$"
   ]
  },
  {
   "cell_type": "markdown",
   "metadata": {},
   "source": [
    "$$ \\mathbf{F_3}  = \\frac{1}{4}  p \\left[(r_3+r_4)(z_4 - z_3, r_3 -r_4) +(r_3+r_2) (z_3 -z_2, r_2 - r_3) \\right] $$ "
   ]
  },
  {
   "cell_type": "markdown",
   "metadata": {},
   "source": [
    "$$ \\mathbf{F_1^{II}}  = \\frac{1}{4}  p \\left[(r_{ij}+r_{i+1,j})(z_{i+1,j} - z_{i,j}, r_{i,j} -r_{i+1,j}) +(r_{i,j}+r_{i,j+1}) (z_{i,j} -z_{i,j+1}, r_{i,j+1} - r_{i,j}) \\right] $$ "
   ]
  },
  {
   "cell_type": "markdown",
   "metadata": {},
   "source": [
    "$$ \\mathbf{F_2^I}  = \\frac{1}{4}  p \\left[(r_{i,j}+r_{i-1,j})(z_{i,j} - z_{i-1,j}, r_{i-1,j} -r_{i,j}) +(r_{i,j}+r_{i,j+1}) (z_{i,j+1} -z_{i,j}, r_{i,j} - r_{i,j+1}) \\right] $$"
   ]
  },
  {
   "cell_type": "markdown",
   "metadata": {},
   "source": [
    "$$F_{1r}^{II}+F_{2r}^{I} = \\frac{1}{4}[r_{i,j}(z_{i+1,j}-z_{i-1,j})+ (r_{i+1,j}z_{i+1,j}-r_{i-1,j}z_{i-1,j})- z_{i,j}(r_{i+1,j}-r_{i-1,j})]$$"
   ]
  },
  {
   "cell_type": "markdown",
   "metadata": {},
   "source": [
    "$$ =\\frac{1}{4} R_j^2[ 2\\text{cos}\\phi_i (\\text{sin}\\phi_{i+1}-\\text{sin}\\phi_{i-1}) + \\text{sin}\\phi_{i+1}\\text{cos}\\phi_{i+1}-\\text{sin}\\phi_{i-1}\\text{cos}\\phi_{i-1} - \\text{sin}\\phi(\\text{cos}\\phi_{i+1}-\\text{cos}\\phi_{i-1})]$$"
   ]
  },
  {
   "cell_type": "markdown",
   "metadata": {},
   "source": [
    "$$ = 4\\text{cos}\\phi\\text{cos}\\phi\\text{sin}\\Delta\\phi + \\text{cos}2\\phi\\text{sin}2\\Delta\\phi +2\\text{sin}\\phi \\text{sin}\\phi\\text{sin}\\Delta\\phi $$"
   ]
  },
  {
   "cell_type": "markdown",
   "metadata": {},
   "source": [
    "$$F_{1z}^{II}+F_{2z}^{I}= (r_{i-1}-r_{i+1})(r_i+r_{i+1}+r_{i-1})$$"
   ]
  },
  {
   "cell_type": "markdown",
   "metadata": {},
   "source": [
    "$$ = R_j^2[(\\text{cos}\\phi_{i-1}-\\text{cos}\\phi_{i+1})(\\text{cos}\\phi+\\text{cos}\\phi_{i-1}+\\text{cos}\\phi_{i+1})]$$"
   ]
  },
  {
   "cell_type": "markdown",
   "metadata": {},
   "source": [
    "$$ = 2 \\text{sin}\\phi \\text{sin}\\Delta \\phi (\\text{cos}\\phi + \\text{cos}\\phi\\text{cos}\\Delta \\phi)$$"
   ]
  },
  {
   "cell_type": "code",
   "execution_count": null,
   "metadata": {},
   "outputs": [],
   "source": []
  }
 ],
 "metadata": {
  "kernelspec": {
   "display_name": "Julia 1.1.0",
   "language": "julia",
   "name": "julia-1.1"
  },
  "language_info": {
   "file_extension": ".jl",
   "mimetype": "application/julia",
   "name": "julia",
   "version": "1.1.0"
  }
 },
 "nbformat": 4,
 "nbformat_minor": 2
}
