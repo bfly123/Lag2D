{
 "cells": [
  {
   "cell_type": "markdown",
   "metadata": {},
   "source": [
    "# Pertubation along R direction in point ${i,j}$"
   ]
  },
  {
   "cell_type": "markdown",
   "metadata": {},
   "source": [
    "Let $\\tilde{u}_{i,j} = U_j\\text{cos}\\phi(1 +\\varepsilon) $,$\\tilde{v}_{i,j} = U_j\\text{sin}\\phi(1 +\\varepsilon) $, $\\tilde{r}_{i,j} = R_j\\text{cos}\\phi(1 +\\varepsilon) $ and $\\tilde{z}_{i,j} = R_j\\text{sin}\\phi(1 +\\varepsilon) $"
   ]
  },
  {
   "cell_type": "markdown",
   "metadata": {},
   "source": [
    "$$ \\frac{\\partial \\tilde{u}}{\\partial r} = (1+\\frac{R_j^2}{R_{j+1}^2-R_j^2}\\varepsilon)\\frac{\\partial {u}}{\\partial r} + \\varepsilon \\frac{[(R_jU_{j+1}-U_jR_{j+1})\\text{sin}\\phi\\text{cos}\\phi - U_jR_j\\text{sin}\\Delta\\phi]}{A} $$"
   ]
  },
  {
   "cell_type": "markdown",
   "metadata": {},
   "source": [
    "\n",
    "$$ \\frac{\\partial \\tilde{v}}{\\partial z} = (1+\\frac{R_j^2}{R_{j+1}^2-R_j^2}\\varepsilon)\\frac{\\partial {v}}{\\partial z} + \\varepsilon \\frac{-(R_jU_{j+1}-U_jR_{j+1})\\text{sin}\\phi\\text{cos}\\phi - U_jR_j\\text{sin}\\Delta\\phi}{A} $$"
   ]
  },
  {
   "cell_type": "markdown",
   "metadata": {},
   "source": [
    "$$ \\frac{\\partial \\tilde{v}}{\\partial r} = (1+\\frac{R_j^2}{R_{j+1}^2-R_j^2}\\varepsilon)\\frac{\\partial {v}}{\\partial r} + \\varepsilon \\frac{[U_{j+1}R_j-U_jR_{j+1}]\\text{sin}^2\\phi}{A} $$\n",
    "$$ \\frac{\\partial \\tilde{u}}{\\partial z} = (1+\\frac{R_j^2}{R_{j+1}^2-R_j^2}\\varepsilon) \\frac{\\partial {u}}{\\partial z} + \\varepsilon \\frac{[U_{j}R_{j+1}-U_{j+1}R_{j}]\\text{cos}^2\\phi}{A} $$"
   ]
  },
  {
   "cell_type": "markdown",
   "metadata": {},
   "source": [
    "$$ \\frac{R_j^2}{R_{j+1}^2-R_j^2} = t_A$$"
   ]
  },
  {
   "cell_type": "markdown",
   "metadata": {},
   "source": [
    "$$\\nabla \\cdot \\tilde{u} = \\nabla \\cdot u  +\\varepsilon_\\nabla =(1+\\frac{R_j^2}{R_{j+1}^2-R_j^2}\\varepsilon) \\nabla \\cdot u- 2\\varepsilon \\frac{U_jR_j\\text{sin}\\Delta\\phi}{A}$$"
   ]
  },
  {
   "cell_type": "markdown",
   "metadata": {},
   "source": [
    "$$\\varepsilon_\\nabla = \\frac{R_j}{R_{j+1}^2 - R_j^2}( R_j \\nabla\\cdot u - 4 U_j)\\varepsilon$$ "
   ]
  },
  {
   "cell_type": "markdown",
   "metadata": {},
   "source": [
    "for the N-R artificial viscocity:\n",
    "$$ \\tilde{q}_{N-R,i+\\frac{1}{2},j+\\frac{1}{2}} = \\alpha \\rho L^2 \\left(\\nabla \\cdot \\tilde{u}_{i+\\frac{1}{2},j+\\frac{1}{2}}\\right)^2$$"
   ]
  },
  {
   "cell_type": "markdown",
   "metadata": {},
   "source": [
    "$$ = q_{N-R,i+\\frac{1}{2},j+\\frac{1}{2}} + 2 \\varepsilon_\\nabla \\alpha\\rho L^2 \\nabla \\cdot u + O(\\varepsilon^2)$$ "
   ]
  },
  {
   "cell_type": "markdown",
   "metadata": {},
   "source": [
    "According to the momentum equation"
   ]
  },
  {
   "cell_type": "markdown",
   "metadata": {},
   "source": [
    "$$ \\frac{d\\tilde{u}_{i,j}}{dt} =  \\frac{d{u}_{i,j}}{dt} + \\frac{1}{\\sum{\\rho A}} \\left[ (\\tilde{q}_{N-R,i+\\frac{1}{2},j+\\frac{1}{2}} - q_{N-R,i+\\frac{1}{2},j+\\frac{1}{2}}) (z_{i+1,j} - z_{i,j+1}) +  (\\tilde{q}_{N-R,i-\\frac{1}{2},j+\\frac{1}{2}} - q_{N-R,i-\\frac{1}{2},j+\\frac{1}{2}} ) (z_{i,j+1} - z_{i-1,j}) -   (\\tilde{q}_{N-R,i+\\frac{1}{2},j-\\frac{1}{2}} - q_{N-R,i+\\frac{1}{2},j-\\frac{1}{2}}) (z_{i+1,j} - z_{i,j-1}) -  (\\tilde{q}_{N-R,i-\\frac{1}{2},j-\\frac{1}{2}} - q_{N-R,i-\\frac{1}{2},j-\\frac{1}{2}} ) (z_{i,j-1} - z_{i-1,j}) \\right]$$"
   ]
  },
  {
   "cell_type": "markdown",
   "metadata": {},
   "source": [
    "$$ = \\frac{d{u}_{i,j}}{dt} - 4\\varepsilon \\alpha \\rho L^2 U_jR_j \\text{sin}\\Delta \\phi \\nabla\\cdot u  \\left[\\frac{1}{\\sum{\\rho_j A_{j}}} - \\frac{1}{\\sum{\\rho_{j-1} A_{j-1}}}\\right](z_{i+1,j} - z_{i-1,j}) $$"
   ]
  },
  {
   "cell_type": "markdown",
   "metadata": {},
   "source": [
    "$$ = \\frac{d{u}_{i,j}}{dt} + 8\\varepsilon \\alpha \\rho L^2 U_jR_j \\text{sin} ^2\\Delta \\phi \\nabla \\cdot u \\left[\\frac{1}{\\sum{\\rho_j A_{j}}} - \\frac{1}{\\sum{\\rho_{j-1} A_{j-1}}}\\right]\\text{cos}\\phi $$"
   ]
  },
  {
   "cell_type": "markdown",
   "metadata": {},
   "source": [
    "$$ \\tilde{A} = A -\\frac{1}{2}\\varepsilon R_j^2 \\text{sin}(\\Delta \\phi) $$"
   ]
  },
  {
   "cell_type": "markdown",
   "metadata": {},
   "source": [
    "# Deviatoric stress"
   ]
  },
  {
   "cell_type": "markdown",
   "metadata": {},
   "source": [
    "Let $ a = R_jU_{j+1}-U_jR_{j+1}$, $ b = U_jR_j$"
   ]
  },
  {
   "cell_type": "markdown",
   "metadata": {},
   "source": [
    "$$ \\frac{d\\tilde{s}_{rr}}{dt} = (1+t_A\\varepsilon)\\frac{ds_{rr}}{dt} + \\frac{2\\mu (a\\text{sin}\\phi\\text{cos}\\phi +\\frac{1}{3}b \\text{sin}\\Delta\\phi)\\varepsilon -s_{rz}a\\varepsilon}{A}$$"
   ]
  },
  {
   "cell_type": "markdown",
   "metadata": {},
   "source": [
    "$$ \\frac{d\\tilde{s}_{zz}}{dt} = (1+t_A\\varepsilon) \\frac{ds_{zz}}{dt} + \\frac{2\\mu (-a\\text{sin}\\phi\\text{cos}\\phi +\\frac{1}{3}b \\text{sin}\\Delta\\phi)\\varepsilon +s_{rz}a\\varepsilon}{A}$$"
   ]
  },
  {
   "cell_type": "markdown",
   "metadata": {},
   "source": [
    "$$ \\frac{d\\tilde{s}_{rz}}{dt} = -\\mu a \\text{cos}(2\\phi)\\varepsilon +\\frac{s_{rr}-s_{zz}}{2} a \\varepsilon$$"
   ]
  },
  {
   "cell_type": "markdown",
   "metadata": {},
   "source": [
    "$$\\frac{d}{dt}\\tilde{s}_{\\xi\\xi} = \\frac{d}{dt}{s}_{\\xi\\xi} + \\text{cos}(2\\psi)(\\mu  \\text{sin}2\\phi -s_{rz})a \\varepsilon + \\frac{2}{3}\\mu b\\text{sin}\\Delta \\phi \\varepsilon -(\\mu a \\text{cos}(2\\phi) - \\frac{s_{rr}-s_{zz}}{2})a\\text{sin}(2\\psi)\\varepsilon $$  "
   ]
  },
  {
   "cell_type": "markdown",
   "metadata": {},
   "source": [
    "$$ = \\frac{d}{dt}{s}_{\\xi\\xi} + (a+\\frac{2}{3}b)\\text{sin}\\Delta \\phi \\mu \\varepsilon $$"
   ]
  },
  {
   "cell_type": "markdown",
   "metadata": {},
   "source": [
    "$$\\frac{d}{dt}\\tilde{s}_{\\eta\\eta} =  \\frac{d}{dt}{s}_{\\eta\\eta} + (-a+\\frac{2}{3}b)\\text{sin}\\Delta \\phi \\mu \\varepsilon $$"
   ]
  },
  {
   "cell_type": "markdown",
   "metadata": {},
   "source": [
    "$$ \\frac{d}{dt}\\tilde{s}_{\\xi\\eta} = -\\text{sin}(2\\psi)(\\mu  \\text{sin}2\\phi -s_{rz})a \\varepsilon - \\text{cos}(2\\psi)(\\mu a \\text{cos}(2\\phi) - \\frac{s_{rr}-s_{zz}}{2})a\\varepsilon$$"
   ]
  },
  {
   "cell_type": "code",
   "execution_count": null,
   "metadata": {},
   "outputs": [],
   "source": []
  }
 ],
 "metadata": {
  "@webio": {
   "lastCommId": null,
   "lastKernelId": null
  },
  "kernelspec": {
   "display_name": "Julia 1.1.1",
   "language": "julia",
   "name": "julia-1.1"
  },
  "language_info": {
   "file_extension": ".jl",
   "mimetype": "application/julia",
   "name": "julia",
   "version": "1.1.1"
  }
 },
 "nbformat": 4,
 "nbformat_minor": 2
}
