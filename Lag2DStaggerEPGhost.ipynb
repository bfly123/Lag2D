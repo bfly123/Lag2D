{
 "cells": [
  {
   "cell_type": "markdown",
   "metadata": {},
   "source": [
    "#  Code for 2D staggered Lagrangian method in Cartersian coordinates"
   ]
  },
  {
   "cell_type": "markdown",
   "metadata": {},
   "source": [
    "## Control equations"
   ]
  },
  {
   "cell_type": "markdown",
   "metadata": {},
   "source": [
    "一般形式下，弹塑性流体控制方程为：\n",
    "\n",
    "质量方程：\n",
    "\\begin{equation}\n",
    "  \\frac{dm}{dt}=0\n",
    "  \\end{equation}\n",
    "动量方程：\n",
    "\\begin{equation}\n",
    "  \\frac{d\\rho \\mathbf{u}}{dt}= \\nabla \\cdot  \\mathbf{\\Pi} \n",
    "\\end{equation}\n",
    "\n",
    "能量方程：\n",
    "\\begin{equation}\n",
    " \\rho \\frac{de}{dt}= \\mathbf{\\sigma} \\cdot \\mathbf{\\varepsilon}\n",
    "\\end{equation}\n",
    "\n",
    "\\section{二维控制方程}\n",
    "\n",
    "运动方程：\n",
    "\\begin{equation}\n",
    "  \\frac{d(r,z)}{dt}=(u,v)\n",
    "\\end{equation}\n",
    "\n",
    "质量守恒：\n",
    "\\begin{equation}\\label{eq:38}\n",
    "  \\frac{dm}{dt}=0\n",
    "\\end{equation}\n",
    "\n",
    "动量守恒方程：\n",
    "\\begin{equation}\\label{eq:3}\n",
    "  \\begin{array}{l}\n",
    "\t\\displaystyle \\rho \\frac{du}{dt}=\\frac{\\partial \\sigma _{rr}}{\\partial r}+ \\frac{\\partial s_{rz}}{\\partial z}\\\\[0.3cm]\n",
    "  \\displaystyle \\rho \\frac{dv}{dt}=\\frac{\\partial \\sigma _{zz}}{\\partial z}+ \\frac{\\partial s_{rz}}{\\partial r}\\\\\n",
    "  \\end{array}\n",
    "  \\end{equation}\n",
    "\n",
    "能量守恒方程：\n",
    "\\begin{equation}\n",
    "  \\begin{array}{l}\n",
    "\t\\displaystyle \\rho \\frac{de}{dt}=\\sigma _{rr}\\frac{\\partial u}{\\partial r}+\\sigma_{zz}\\frac{\\partial v}{\\partial z}+s_{rz}\\left( \\frac{\\partial u}{\\partial z}+\\frac{\\partial v}{\\partial r}\\right)\\\\[0.3cm]\n",
    "\t\\displaystyle = -p\\frac{dV}{dt}+ s_{rr}\\frac{\\partial u}{\\partial r}+s_{zz}\\frac{\\partial v}{\\partial z}+s_{rz}\\left( \\frac{\\partial u}{\\partial z}+\\frac{\\partial v}{\\partial r}\\right)\\\\\n",
    "\t\\end{array}\n",
    "\t\\end{equation}\n",
    "\n",
    "本构方程：\n",
    "\\begin{equation}\n",
    "  \\begin{array}{l}\n",
    "\t\\displaystyle \\frac{ds_{rr}}{dt}=2\\mu \\left(\\frac{\\partial u}{\\partial r}-\\frac{1}{3}\\nabla \\cdot \\vec{u} \\right) +s_{rz}\\left(\\frac{\\partial u}{\\partial z}-\\frac{\\partial v}{\\partial r}\\right)\\\\[0.3cm]\n",
    "\t\\displaystyle \\frac{ds_{zz}}{dt}=2\\mu \\left(\\frac{\\partial v}{\\partial z}-\\frac{1}{3}\\nabla \\cdot \\vec{u} \\right) -s_{rz}\\left(\\frac{\\partial u}{\\partial z}-\\frac{\\partial v}{\\partial r}\\right)\\\\[0.3cm]\n",
    "\t\\displaystyle \\frac{ds_{rz}}{dt}=\\mu \\left(\\frac{\\partial u}{\\partial z}+\\frac{\\partial v}{\\partial r}\\right) + \\frac{s_{rr}-s_{zz}}{2}\\left(\\frac{\\partial u}{\\partial z}-\\frac{\\partial v}{\\partial r}\\right)\\\\\n",
    "  \\end{array}\n",
    "  \\end{equation}\n",
    "\n",
    "Von Mises屈服条件：\n",
    "\\begin{equation}\n",
    "  \\frac{3}{2}(s_{rr}^2+s_{zz}^2+s_{\\theta \\theta}^2+2s_{xy}^2)\\le (Y^0)^2\n",
    "\\end{equation}\n",
    "\n",
    "\n",
    "\n",
    "\n",
    "\n"
   ]
  },
  {
   "cell_type": "markdown",
   "metadata": {},
   "source": [
    "$$ s_{\\theta\\theta} = - (s_{rr} +s_{zz}) $$"
   ]
  },
  {
   "cell_type": "markdown",
   "metadata": {},
   "source": [
    "## Compatible Staggered Discretization"
   ]
  },
  {
   "cell_type": "markdown",
   "metadata": {},
   "source": [
    "<img src=\"Grid.png\" width = \"800\" height = \"400\" div align=center /> "
   ]
  },
  {
   "cell_type": "markdown",
   "metadata": {},
   "source": [
    "<img src=\"cellpoint.png\" width = \"800\" height = \"400\" div align=center />"
   ]
  },
  {
   "cell_type": "markdown",
   "metadata": {},
   "source": [
    "### Quatities:\n",
    "\n",
    "On point: ($x_p$,$y_p$), ($u_p$,$v_p$)\n",
    "\n",
    "Zonal:  $V_z$, $\\rho_z$, $m_z$, $e_z$, $p_z$"
   ]
  },
  {
   "cell_type": "markdown",
   "metadata": {},
   "source": [
    "By the relation \n",
    "$$\\frac{dm_z}{dt} =0$$\n",
    "we have \n",
    "$$\\rho_z(t) = m_z/V_z(t)$$"
   ]
  },
  {
   "cell_type": "markdown",
   "metadata": {},
   "source": [
    "Also \n",
    "$$d(x_p)/dt = u_p, \\quad d(y_p)/dt = v_p$$"
   ]
  },
  {
   "cell_type": "code",
   "execution_count": 3,
   "metadata": {},
   "outputs": [],
   "source": [
    "struct Const\n",
    "    Y0 ::Float64 #Yielding strength\n",
    "    ρ0 ::Float64 \n",
    "    Γ0 ::Float64\n",
    "    μ  ::Float64\n",
    "    a0 ::Float64\n",
    "    s0 ::Float64\n",
    "end\n"
   ]
  },
  {
   "cell_type": "code",
   "execution_count": 4,
   "metadata": {},
   "outputs": [],
   "source": [
    "mutable struct Var\n",
    "    r::Array{Float64,1}\n",
    "    z::Array{Float64,1}\n",
    "    u::Array{Float64,1}\n",
    "    v::Array{Float64,1}\n",
    "    ρ::Array{Float64,1}\n",
    "    p::Array{Float64,1}\n",
    "    s::Array{Float64,2} # σ[1] = σrr σ[2] = σzz σ[3] = σrz\n",
    "end    "
   ]
  },
  {
   "cell_type": "code",
   "execution_count": 5,
   "metadata": {},
   "outputs": [],
   "source": [
    "struct prb\n",
    "    tt::Float64\n",
    "    sf::Float64\n",
    "end"
   ]
  },
  {
   "cell_type": "markdown",
   "metadata": {},
   "source": [
    "### Point mass "
   ]
  },
  {
   "cell_type": "markdown",
   "metadata": {},
   "source": [
    "Point mass $m_p$ is used to solve point momentum $\\mu_p = m_p \\bf{u}_p$ and kinetic energy $K_p = m_p \\frac{\\bf{u}_p^2}{2}$"
   ]
  },
  {
   "cell_type": "markdown",
   "metadata": {},
   "source": [
    "<img src=\"Ins.jpg\" width = \"200\" height = \"400\" div align=center /> "
   ]
  },
  {
   "cell_type": "markdown",
   "metadata": {},
   "source": [
    "$$m_p = \\sum_{z\\in Z(p)} A_z^p \\rho^p_z$$\n",
    "\n",
    "$$\\rho_z(t) = m_z/V_z(t)$$"
   ]
  },
  {
   "cell_type": "markdown",
   "metadata": {},
   "source": []
  },
  {
   "cell_type": "code",
   "execution_count": 6,
   "metadata": {},
   "outputs": [
    {
     "data": {
      "text/plain": [
       "MassAndDens (generic function with 1 method)"
      ]
     },
     "execution_count": 6,
     "metadata": {},
     "output_type": "execute_result"
    }
   ],
   "source": [
    "function MassAndDens(mz::Array{Float64,1},x::Array{Float64,1},y::Array{Float64,1})\n",
    "    \n",
    "    Ic, = size(mz)\n",
    "    Ip, = size(Tc)\n",
    "    Asbz = zeros(Float64,4)\n",
    "    ρ = zeros(Float64,Ic)\n",
    "    mp = zeros(Float64,Ip)\n",
    "    xz = zeros(Float64,4)\n",
    "    yz = zeros(Float64,4)\n",
    "    for i in 1:Ic\n",
    "        xz[1:4] = x[Tp[i,1:4]]\n",
    "        yz[1:4] = y[Tp[i,1:4]]\n",
    "        Asbz = A_z(xz,yz)\n",
    "        Az = sum(Asbz)\n",
    "        ρ[i] = mz[i]/Az\n",
    "        \n",
    "        for j = 1:4\n",
    "            ip = Tp[i,j]\n",
    "            mp[ip] = mp[ip] + Asbz[j]*ρ[i]\n",
    "        end\n",
    "    end\n",
    "   # @show mp\n",
    "    return ρ,mp   \n",
    "end"
   ]
  },
  {
   "cell_type": "markdown",
   "metadata": {},
   "source": [
    "\n",
    "$$ A_z^1 = \\frac{5A_{41}+5A_{12}+A_{23}+A_{34}}{12}$$\n",
    "$$ A_z^2 = \\frac{A_{41}+5A_{12}+5A_{23}+A_{34}}{12}$$\n",
    "$$ A_z^3 = \\frac{A_{41}+A_{12}+5A_{23}+5A_{34}}{12}$$\n",
    "$$ A_z^4 = \\frac{5A_{41}+A_{12}+A_{23}+5A_{34}}{12}$$"
   ]
  },
  {
   "cell_type": "code",
   "execution_count": 7,
   "metadata": {},
   "outputs": [
    {
     "data": {
      "text/plain": [
       "A_z (generic function with 1 method)"
      ]
     },
     "execution_count": 7,
     "metadata": {},
     "output_type": "execute_result"
    }
   ],
   "source": [
    "function A_z(xz,yz) \n",
    "    A =zeros(Float64,4)\n",
    "    xc= sum(xz[i] for i in 1:4)/4\n",
    "    yc= sum(yz[i] for i in 1:4)/4\n",
    "    \n",
    "    A41 = Area3(xz[4],xz[1],xc,yz[4],yz[1],yc)\n",
    "    A12 = Area3(xz[1],xz[2],xc,yz[1],yz[2],yc)\n",
    "    A23 = Area3(xz[2],xz[3],xc,yz[2],yz[3],yc)\n",
    "    A34 = Area3(xz[3],xz[4],xc,yz[3],yz[4],yc)\n",
    "\n",
    "    A[1] = (5A41+5A12+A23+A34)/12\n",
    "    A[2] = (A41+5A12+5A23+A34)/12\n",
    "    A[3] = (A41+A12+5A23+5A34)/12\n",
    "    A[4] = (5A41+A12+A23+5A34)/12\n",
    "    \n",
    "#    A[1] = (A41+A12+A23+A34)/4\n",
    "#    A[2] = (A41+A12+A23+A34)/4\n",
    "#    A[3] = (A41+A12+A23+A34)/4\n",
    "#    A[4] = (A41+A12+A23+A34)/4\n",
    "    \n",
    "    return A\n",
    "end"
   ]
  },
  {
   "cell_type": "markdown",
   "metadata": {},
   "source": [
    "<img src=\"n12.png\" width = \"300\" height = \"300\" div align=center />"
   ]
  },
  {
   "cell_type": "markdown",
   "metadata": {},
   "source": [
    "$$\\overrightarrow{n}_{12} = \\frac{1}{L_{12}}(y_2- y_1, x_1-x_2)  $$\n",
    "\n",
    "$$\\overrightarrow{\\tau}_{12} = \\frac{1}{L_{12}}(x_2- x_1, y_2-y_1)  $$\n",
    "\n",
    "$$ \\mathbf{F_1}  = \\frac{1}{2}  \\left[ -\\sigma_{rr}(z_2-z_4)+ s_{rz}(r_2 -r_4), \\sigma_{zz}(r_2-r_4) +s_{rz}(z_4 -z_2) , \\right] $$ "
   ]
  },
  {
   "cell_type": "code",
   "execution_count": 8,
   "metadata": {},
   "outputs": [
    {
     "data": {
      "text/plain": [
       "force_zone (generic function with 1 method)"
      ]
     },
     "execution_count": 8,
     "metadata": {},
     "output_type": "execute_result"
    }
   ],
   "source": [
    "function force_zone(x,y,u,v,ρ,p,σ) #(r,z)\n",
    "   \n",
    "    Fx = zeros(Float64,4)\n",
    "    Fy = zeros(Float64,4)\n",
    "    \n",
    "    \n",
    "    Fx[1] = 0.5(σ[1]*(y[4] - y[2]) + σ[3]*(x[2] - x[4]))\n",
    "    Fy[1] = 0.5(σ[3]*(y[4] - y[2]) + σ[2]*(x[2] - x[4]))\n",
    "    \n",
    "    Fx[2] = 0.5(σ[1]*(y[1] - y[3]) + σ[3]*(x[3] - x[1]))\n",
    "    Fy[2] = 0.5(σ[3]*(y[1] - y[3]) + σ[2]*(x[3] - x[1]))\n",
    "    \n",
    "    Fx[3] = 0.5(σ[1]*(y[2] - y[4]) + σ[3]*(x[4] - x[2]))\n",
    "    Fy[3] = 0.5(σ[3]*(y[2] - y[4]) + σ[2]*(x[4] - x[2]))\n",
    "    \n",
    "    Fx[4] = 0.5(σ[1]*(y[3] - y[1]) + σ[3]*(x[1] - x[3]))\n",
    "    Fy[4] = 0.5(σ[3]*(y[3] - y[1]) + σ[2]*(x[1] - x[3]))\n",
    "      \n",
    "    ex,ey = hourglass_viscosity(x, y, u, v, ρ, p,σ) \n",
    "\n",
    "    Fx = Fx .+ ex\n",
    "    Fy = Fy .+ ey\n",
    "    \n",
    "    return Fx,Fy\n",
    "end           "
   ]
  },
  {
   "cell_type": "markdown",
   "metadata": {},
   "source": [
    "\\begin{equation}\n",
    "  \\begin{aligned}\n",
    "\t&\\displaystyle \\rho \\frac{de}{dt}= \\mathbf{\\sigma} \\cdot \\mathbf{\\varepsilon}\\\\ \n",
    "\t&=\n",
    "\t\\sigma _{rr}\\frac{\\partial u}{\\partial r}+\\sigma_{zz}\\frac{\\partial v}{\\partial z}+\\sigma_{rz}\\left( \\frac{\\partial u}{\\partial z}+\\frac{\\partial v}{\\partial r}\\right)\n",
    "\t\\end{aligned}\n",
    "\t\\end{equation}\n",
    "    \n",
    "\\begin{equation}\n",
    "  \\begin{aligned}\n",
    "\t&\\displaystyle M \\frac{de}{dt}=  \n",
    "\\int_{\\Omega} \\sigma _{rr}\\frac{\\partial u}{\\partial r}+\\sigma_{zz}\\frac{\\partial v}{\\partial z}+\\sigma_{rz}\\left( \\frac{\\partial u}{\\partial z}+\\frac{\\partial v}{\\partial r}\\right)d\\Omega\n",
    "\t\\end{aligned}\n",
    "\t\\end{equation}\n",
    "\n",
    "\n",
    "\\begin{equation}\n",
    "  \\begin{aligned}\n",
    "\\int_{\\Omega}  \\frac{\\partial u}{\\partial r} d\\Omega&=  -\\oint_{\\partial \\omega}u dz\\\\\n",
    "  &= \\frac{1}{2} \\left((u_1-u_3)(z_2-z_4)+(u_2-u_4)(z_3-z_1)\\right)\n",
    "  \\end{aligned}\n",
    "\\end{equation}\n",
    "\n",
    "\\begin{equation}\n",
    "  \\begin{aligned}\n",
    "\\int_{\\Omega}  \\frac{\\partial u}{\\partial z} d\\Omega&= \\oint_{\\partial \\omega}u dy\\\\\n",
    "  &= -\\frac{1}{2} \\left((u_1-u_3)(r_2-r_4)+(u_2-u_4)(r_3-r_1)\\right)\n",
    "  \\end{aligned}\n",
    "\\end{equation}\n",
    "\n",
    "$$ \\frac{\\partial u}{\\partial x}  \\approx \\frac{1}{2A}((u_1-u_3)(y_2-y_4)+(u_2-u_4)(-y_1+y_3))$$ \n",
    "\n",
    "$$ \\frac{\\partial v}{\\partial y}  \\approx -\\frac{1}{2A}((v_1-v_3)(x_2-x_4)+(v_2-v_4)(-x_1+x_3))$$ "
   ]
  },
  {
   "cell_type": "markdown",
   "metadata": {},
   "source": [
    "对于节点\n",
    "$$ \\rho \\frac{d \\mathbf{u}}{dt} = - \\nabla p$$\n",
    "\n",
    "$$m_p \\frac{d\\bf{u}_p}{dt} = \\sum_{p\\in P(z)} \\bf{F}_z^p$$"
   ]
  },
  {
   "cell_type": "markdown",
   "metadata": {},
   "source": [
    "$$F_z^1 = \\mathbf{F}_1 + c\\mathbf{e}_1$$"
   ]
  },
  {
   "cell_type": "markdown",
   "metadata": {},
   "source": [
    "本构方程：\n",
    "\\begin{equation}\n",
    "  \\begin{array}{l}\n",
    "\t\\displaystyle \\frac{ds_{rr}}{dt}=2\\mu \\left(\\frac{\\partial u}{\\partial r}-\\frac{1}{3}\\nabla \\cdot \\vec{u} \\right) +s_{rz}\\left(\\frac{\\partial u}{\\partial z}-\\frac{\\partial v}{\\partial r}\\right)\\\\[0.3cm]\n",
    "\t\\displaystyle \\frac{ds_{zz}}{dt}=2\\mu \\left(\\frac{\\partial v}{\\partial z}-\\frac{1}{3}\\nabla \\cdot \\vec{u} \\right) -s_{rz}\\left(\\frac{\\partial u}{\\partial z}-\\frac{\\partial v}{\\partial r}\\right)\\\\[0.3cm]\n",
    "\t\\displaystyle \\frac{ds_{rz}}{dt}=\\mu \\left(\\frac{\\partial u}{\\partial z}+\\frac{\\partial v}{\\partial r}\\right) - \\frac{s_{rr}-s_{zz}}{2}\\left(\\frac{\\partial u}{\\partial z}-\\frac{\\partial v}{\\partial r}\\right)\\\\\n",
    "  \\end{array}\n",
    "  \\end{equation}\n",
    "\n",
    "Von Mises屈服条件：\n",
    "\\begin{equation}\n",
    "  \\frac{3}{2}(s_{rr}^2+s_{zz}^2+s_{\\theta \\theta}^2+2s_{xy}^2)\\le (Y^0)^2\n",
    "\\end{equation}\n"
   ]
  },
  {
   "cell_type": "code",
   "execution_count": 9,
   "metadata": {},
   "outputs": [
    {
     "data": {
      "text/plain": [
       "rhs (generic function with 1 method)"
      ]
     },
     "execution_count": 9,
     "metadata": {},
     "output_type": "execute_result"
    }
   ],
   "source": [
    "function rhs(var::Var)\n",
    "    μ = con1.μ\n",
    "    r,z,u,v,ρ,p,s = var.r,var.z,var.u,var.v,var.ρ,var.p,var.s\n",
    "    \n",
    "    Ic, = size(Tp)\n",
    "    Ip, = size(Tc)\n",
    "    rhsu = zeros(Float64,Ip)\n",
    "    rhsv = zeros(Float64,Ip) \n",
    "    rhse = zeros(Float64,Ic)\n",
    "    rhss = zeros(Float64,Ic,3)\n",
    "    σ = zeros(Float64,Ic,3)\n",
    "  \n",
    "    σ[:,1] = s[:,1] - p[:]\n",
    "    σ[:,2] = s[:,2] - p[:]\n",
    "    σ[:,3] = s[:,3] \n",
    "    \n",
    "    rcell = zeros(Float64,4)\n",
    "    zcell = zeros(Float64,4)\n",
    "    ucell = zeros(Float64,4)\n",
    "    vcell = zeros(Float64,4)\n",
    "    \n",
    "    for i in 1:Ic\n",
    "        for j =1:4\n",
    "            rcell[j] = r[Tp[i,j]]\n",
    "            zcell[j] = z[Tp[i,j]]\n",
    "            ucell[j] = u[Tp[i,j]]\n",
    "            vcell[j] = v[Tp[i,j]]\n",
    "        end\n",
    "        Az = sum(A_z(rcell,zcell))\n",
    "        Fx,Fy = force_zone(rcell,zcell,ucell,vcell,ρ[i],p[i],σ[i,1:3])  \n",
    "        ∂u_∂r,∂u_∂z = ∂uv(rcell,zcell, ucell)\n",
    "        ∂v_∂r,∂v_∂z = ∂uv(rcell,zcell, vcell)\n",
    "        rhse[i] = σ[i,1]*∂u_∂r + σ[i,2]*∂v_∂z+σ[i,3]*(∂u_∂z + ∂v_∂r)\n",
    "        for j = 1:4\n",
    "            ip = Tp[i,j]\n",
    "            rhsu[ip] +=  Fx[j]\n",
    "            rhsv[ip] +=  Fy[j]\n",
    "        end  \n",
    "        ∇u = ∂u_∂r + ∂v_∂z\n",
    "    \n",
    "        rhss[i,1] =  (2μ*(2/3*∂u_∂r - 1/3*∂v_∂z) + σ[i,3]*(∂u_∂z - ∂v_∂r)) ./Az\n",
    "        rhss[i,2] =  (2μ*(2/3*∂v_∂z - 1/3*∂u_∂r) - σ[i,3]*(∂u_∂z - ∂v_∂r)) ./Az\n",
    "        rhss[i,3] =   (μ*(∂u_∂z+∂v_∂r)  -   (σ[i,1] - σ[i,2])*(∂u_∂z - ∂v_∂r)) ./Az      \n",
    "    end\n",
    "\n",
    "    return rhse, rhsu,rhsv,rhss\n",
    "\n",
    "end     "
   ]
  },
  {
   "cell_type": "code",
   "execution_count": 10,
   "metadata": {},
   "outputs": [
    {
     "data": {
      "text/plain": [
       "output (generic function with 1 method)"
      ]
     },
     "execution_count": 10,
     "metadata": {},
     "output_type": "execute_result"
    }
   ],
   "source": [
    "function output(f)\n",
    "    io = open(\"data2.dat\", \"w+\")\n",
    "     writedlm(io,f,\"  \") \n",
    "    close(io)\n",
    "end"
   ]
  },
  {
   "cell_type": "markdown",
   "metadata": {},
   "source": [
    "$$ \\mathbf{S} = \\mathbf{S} \\times \\text{min} \\left(1,Y_0/\\sqrt{\\frac{3}{2}\\mathbf{S}:\\mathbf{S}}\\right)$$"
   ]
  },
  {
   "cell_type": "code",
   "execution_count": 11,
   "metadata": {},
   "outputs": [
    {
     "data": {
      "text/plain": [
       "yield_s! (generic function with 1 method)"
      ]
     },
     "execution_count": 11,
     "metadata": {},
     "output_type": "execute_result"
    }
   ],
   "source": [
    "function yield_s!(s,con)\n",
    "    Y0 = con.Y0\n",
    "    I, = size(s)\n",
    "    for i in 1:I\n",
    "         sums = s[i,1]^2 +s[i,2]^2 +2*s[i,3]^2 +(s[i,1]+s[i,2])^2\n",
    "        for j = 1:3\n",
    "       \n",
    "        s[i,j] = s[i,j] * min(1,Y0/√(3/2*sums))\n",
    "            end \n",
    "    end\n",
    "    return s\n",
    "end"
   ]
  },
  {
   "cell_type": "code",
   "execution_count": 12,
   "metadata": {},
   "outputs": [
    {
     "data": {
      "text/plain": [
       "predictor_corrector2nd (generic function with 1 method)"
      ]
     },
     "execution_count": 12,
     "metadata": {},
     "output_type": "execute_result"
    }
   ],
   "source": [
    "function predictor_corrector2nd(dt,var::Var,mz)\n",
    "    r,z,u,v,ρ,p,s = var.r,var.z,var.u,var.v,var.ρ,var.p,var.s\n",
    "    \n",
    "    Ip, = size(u)\n",
    "    Ic, = size(p)\n",
    "    \n",
    "    ρ,mp = MassAndDens(mz,r,z)\n",
    "    e = p_to_e(ρ, p,con1)    \n",
    "    p = artificial_viscosity!(r,z,u,v,ρ,p)\n",
    "    ρ,p,s = bound_ghost_cell!(ρ,p,s)\n",
    "    var = Var(r, z, u, v, ρ, p, s)\n",
    "    \n",
    "    rhse, rhsu,rhsv,rhss = rhs(var)\n",
    "    rhsu,rhsv = bound_force(rhsu,rhsv,var)\n",
    "    \n",
    "    s = yield_s!(s,con1)\n",
    "    r₀ =  r + dt*u\n",
    "    z₀  = z + dt*v\n",
    "    u₀  = u + dt*(rhsu ./ mp)\n",
    "    v₀  = v + dt*(rhsv ./ mp)\n",
    "    e₀  = e + dt*(rhse ./ mz) \n",
    "    s₀  = s + dt*rhss\n",
    "  #  @show rhsu\n",
    "    s₀ = yield_s!(s₀,con1)\n",
    "    r₀,z₀,u₀,v₀ = bound_ghost_coordinate!(r₀,z₀,u₀,v₀)\n",
    "    ρ,mp = MassAndDens(mz,r₀,z₀)\n",
    "    p = e_to_p(ρ,e₀,con1)\n",
    "    p = artificial_viscosity!(r₀,z₀,u₀,v₀,ρ,p) \n",
    "    ρ,p,s₀ = bound_ghost_cell!(ρ,p,s₀)\n",
    "    var = Var(r₀, z₀, u₀, v₀, ρ, p, s₀)\n",
    "   \n",
    "    rhse₀,rhsu₀,rhsv₀,rhss₀ = rhs(var)\n",
    "    rhsu₀,rhsv₀ = bound_force(rhsu₀,rhsv₀,var)\n",
    "  #  @show s[:,1]\n",
    "    r +=  0.5dt*(u + u₀)\n",
    "    z +=  0.5dt*(v + v₀)\n",
    "    u +=  0.5dt*(rhsu + rhsu₀) ./ mp\n",
    "    v +=  0.5dt*(rhsv + rhsv₀) ./ mp\n",
    "    e +=  0.5dt*(rhse + rhse₀) ./ mz\n",
    "    s  += 0.5dt*(rhss + rhss₀)\n",
    "    s = yield_s!(s,con1)\n",
    "    r,z,u,v = bound_ghost_coordinate!(r,z,u,v)\n",
    "    ρ,mp = MassAndDens(mz,r,z)\n",
    "    p = e_to_p(ρ,e,con1)\n",
    "    ρ,p,s = bound_ghost_cell!(ρ,p,s)\n",
    "    var = Var(r,z,u,v,ρ,p,s)\n",
    "   \n",
    "    return var\n",
    "end"
   ]
  },
  {
   "cell_type": "code",
   "execution_count": 13,
   "metadata": {},
   "outputs": [
    {
     "data": {
      "text/plain": [
       "fηη (generic function with 1 method)"
      ]
     },
     "execution_count": 13,
     "metadata": {},
     "output_type": "execute_result"
    }
   ],
   "source": [
    "function fη(ρ,c::Const)\n",
    "    η = ρ/c.ρ0\n",
    "    fη=(η .-1.0) .* (η .-c.Γ0*(η .-1.0)/2.0) ./ (η .-c.s0*(η .-1)) .^2\n",
    "end\n",
    "\n",
    "function fηη(ρ,c::Const)\n",
    "    η = ρ/c.ρ0\n",
    "    fηη=(η .+(c.s0-c.Γ0) .* (η .-1)) ./(η .-c.s0*(η .- 1)) .^3\n",
    "end"
   ]
  },
  {
   "cell_type": "code",
   "execution_count": 14,
   "metadata": {},
   "outputs": [
    {
     "data": {
      "text/plain": [
       "euler1st (generic function with 1 method)"
      ]
     },
     "execution_count": 14,
     "metadata": {},
     "output_type": "execute_result"
    }
   ],
   "source": [
    "function euler1st(dt,var::Var,mz)\n",
    "    r,z,u,v,ρ,p,s = var.r,var.z,var.u,var.v,var.ρ,var.p,var.s\n",
    "    \n",
    "    Ip, = size(u)\n",
    "    Ic, = size(p)\n",
    "    \n",
    "    ρ,mp = MassAndDens(mz,r,z)\n",
    "    e = p_to_e(ρ, p,con1)    \n",
    "    p = artificial_viscosity!(r,z,u,v,ρ,p)\n",
    "    ρ,p,s = bound_ghost_cell!(ρ,p,s)\n",
    "    var = Var(r, z, u, v, ρ, p, s)\n",
    "    \n",
    "    rhse, rhsu,rhsv,rhss = rhs(var)\n",
    "    rhsu,rhsv = bound_force(rhsu,rhsv,var)\n",
    "    \n",
    " #   @show rhsv\n",
    "    s = yield_s!(s,con1)\n",
    "    r =  r + dt*u\n",
    "    z = z + dt*v\n",
    "    u  = u + dt*(rhsu ./ mp)\n",
    "    v  = v + dt*(rhsv ./ mp)\n",
    "    e  = e + dt*(rhse ./ mz) \n",
    "    s  = s + dt*rhss\n",
    "  #  @show rhsu\n",
    "    s = yield_s!(s,con1)\n",
    "    r,z,u,v = bound_ghost_coordinate!(r,z,u,v)\n",
    "    ρ,mp = MassAndDens(mz,r,z)\n",
    "    p = e_to_p(ρ,e,con1)\n",
    "    ρ,p,s = bound_ghost_cell!(ρ,p,s)\n",
    "    var = Var(r,z,u,v,ρ,p,s)\n",
    "   \n",
    "    return var\n",
    "end"
   ]
  },
  {
   "cell_type": "markdown",
   "metadata": {},
   "source": [
    "### Boundary force\n",
    "\n",
    "If one edge of a cell is a free boundary, then $f$ on the points is zero. As we have add it in RHs(), we need to remove it by resolve it again. Different from RHs(), at every point of a cell the force is composited by two parts on different edges. This is distinguished by $k$ when $k = 1$ the boundary is on y direction, forces on 12 and 34 boundary must be subtracted. When $ k =2$ the boundary is on x direction, subtract forces on 41, 23. "
   ]
  },
  {
   "cell_type": "code",
   "execution_count": 56,
   "metadata": {},
   "outputs": [
    {
     "data": {
      "text/plain": [
       "bound_force (generic function with 1 method)"
      ]
     },
     "execution_count": 56,
     "metadata": {},
     "output_type": "execute_result"
    }
   ],
   "source": [
    "function bound_force(rhsu,rhsv,var)\n",
    "    Ip, = size(Tc)\n",
    "    Ib, = size(Tb)\n",
    "   \n",
    "    r,z,u,v,ρ,p,s = var.r,var.z,var.u,var.v,var.ρ,var.p,var.s\n",
    "    rcell = zeros(Float64,4)\n",
    "    zcell = zeros(Float64,4)\n",
    "    ucell = zeros(Float64,4)\n",
    "    vcell = zeros(Float64,4)\n",
    "    ip1 = zeros(Int,4)\n",
    "    σ = zeros(Float64,3)\n",
    "    for i in 1:Ib\n",
    "        if Tb[i,4] == 1 || Tb[i,4] == 3\n",
    "            ic = Tb[i,1]        \n",
    "            rcell[1:4] = r[Tp[ic,1:4]]\n",
    "            zcell[1:4] = z[Tp[ic,1:4]]\n",
    "            ucell[1:4] = u[Tp[ic,1:4]]\n",
    "            vcell[1:4] = v[Tp[ic,1:4]]\n",
    "\n",
    "            σ[1] = s[ic,1] - p[ic]\n",
    "            σ[2] = s[ic,2] - p[ic]\n",
    "            σ[3] = s[ic,3]\n",
    "\n",
    "            ex,ey = hourglass_viscosity(rcell, zcell, ucell, vcell, ρ[ic]\n",
    "                                        , p[ic],s[ic,:])\n",
    "            i₁ = Tb[i,3]\n",
    "            i₂ = i₁+1\n",
    "            if i₁ == 4\n",
    "                i₂ = 1\n",
    "            end\n",
    "            nx = zcell[i₂] -zcell[i₁]\n",
    "            ny = rcell[i₁] -rcell[i₂]\n",
    "            p0 = 1e-10\n",
    "            for j in (i₁,i₂)\n",
    "\n",
    "                ip = Tp[ic,j]\n",
    "                    Fx = -σ[1]*nx/2 -σ[3]*ny/2+ex[j] #*nx^2/(nx^2+ny^2)  #+ex[j] \n",
    "                    Fy = -σ[3]*nx/2 -σ[2]*ny/2+ey[j] #*ny^2/(nx^2+ny^2)\n",
    "                    Fx1 = (Fx*nx+Fy*ny)*nx/(nx^2+ny^2)\n",
    "                    Fy1 = (Fx*nx+Fy*ny)*ny/(nx^2+ny^2)\n",
    "                    Fx = Fx- Fx1\n",
    "                    Fy = Fy - Fy1\n",
    "                    Fx1 =  p0*nx/2 #+ex[j]*nx^2/(nx^2+ny^2) \n",
    "                    Fy1 =  p0*ny/2 #+ey[j]*ny^2/(nx^2+ny^2)\n",
    "\n",
    "                #    rhsu[ip] +=  -Fx1 # -Fx1\n",
    "                #    rhsv[ip] +=  -Fy1 #-Fy1\n",
    "\n",
    "                if Tb[i,4] == 3 # boundary\n",
    "                    uL = 2e-3\n",
    "                    u[ip] = uL #*nx/(nx^2 +ny^2)\n",
    "                end  \n",
    "            end\n",
    "        end\n",
    "    end \n",
    "\n",
    "    return rhsu, rhsv\n",
    "end  "
   ]
  },
  {
   "cell_type": "markdown",
   "metadata": {},
   "source": [
    "<img src=\"bound_corresponding.png\" width = \"400\" height = \"800\" div align=center /> "
   ]
  },
  {
   "cell_type": "markdown",
   "metadata": {},
   "source": [
    "$$ Ig_1 = Tb[i,3] $$\n",
    "$$Ib_1 = Ig_1 -1$$"
   ]
  },
  {
   "cell_type": "code",
   "execution_count": 16,
   "metadata": {},
   "outputs": [
    {
     "data": {
      "text/plain": [
       "bound_ghost_coordinate! (generic function with 1 method)"
      ]
     },
     "execution_count": 16,
     "metadata": {},
     "output_type": "execute_result"
    }
   ],
   "source": [
    "function bound_ghost_coordinate!(r,z,u,v)\n",
    "    Ip, = size(Tc)\n",
    "    Ic, = size(Tp)\n",
    "    Ib, = size(Tb)\n",
    "   # r,z,u,v,ρ,p,s = var.r,var.z,var.u,var.v,var.ρ,var.p,var.s\n",
    "   \n",
    "    rt= copy(r)\n",
    "    zt= copy(z)\n",
    "   # output(r)\n",
    "    for i in 1:Ib\n",
    "        if Tb[i,4] == 2\n",
    "            ic = Tb[i,1]\n",
    "            ic2= Tb[i,2]\n",
    "            ig₁ = Tb[i,3]\n",
    "            \n",
    "           \n",
    "            ig₁ == 4 ? ig₂ = 1 : ig₂ = ig₁+1\n",
    "            ig₂ == 4 ? ig₃ = 1 : ig₃ = ig₂+1\n",
    "            ig₃ == 4 ? ig₄ = 1 : ig₄ = ig₃+1\n",
    "\n",
    "            ig₁ == 1 ? ib₁ = 4 : ib₁ = ig₁-1\n",
    "            ib₁ == 1 ? ib₂ = 4 : ib₂ = ib₁-1\n",
    "            ib₂ == 1 ? ib₃ = 4 : ib₃ = ib₂-1\n",
    "            ib₃ == 1 ? ib₄ = 4 : ib₄ = ib₃-1\n",
    "\n",
    "                r1 =    rt[Tp[ic2,ib₁]]\n",
    "                r2 =    rt[Tp[ic2,ib₂]]\n",
    "                z1 =    zt[Tp[ic2,ib₁]]\n",
    "                z2 =    zt[Tp[ic2,ib₂]]\n",
    "\n",
    "                r3=     rt[Tp[ic2,ib₃]]\n",
    "                z3=     zt[Tp[ic2,ib₃]]\n",
    "                r4=     rt[Tp[ic2,ib₄]]\n",
    "                z4=     zt[Tp[ic2,ib₄]]\n",
    "                \n",
    "                nx = zt[Tp[ic2,ib₁]] -zt[Tp[ic2,ib₂]]\n",
    "                ny = rt[Tp[ic2,ib₂]] -rt[Tp[ic2,ib₁]]\n",
    "                for j in (ib₁,ib₂)\n",
    "                    ip = Tp[ic2,j]\n",
    "                    u[ip] = u[ip]*ny^2/(nx^2 +ny^2)\n",
    "                    v[ip] = v[ip]*nx^2/(nx^2 +ny^2)\n",
    "                end\n",
    "\n",
    "                r[Tp[ic,ig₃]],z[Tp[ic,ig₃]] = reflect(r1,z1,r2,z2,r3,z3)\n",
    "                r[Tp[ic,ig₄]],z[Tp[ic,ig₄]] = reflect(r1,z1,r2,z2,r4,z4)\n",
    "                u[Tp[ic,ig₃]],v[Tp[ic,ig₃]] = u[Tp[ic2,ib₃]],v[Tp[ic2,ib₃]]\n",
    "                u[Tp[ic,ig₄]],v[Tp[ic,ig₄]] = u[Tp[ic2,ib₄]],v[Tp[ic2,ib₄]]\n",
    "            \n",
    "       \n",
    "          end \n",
    "    end\n",
    "    return r,z,u,v\n",
    "end  "
   ]
  },
  {
   "cell_type": "code",
   "execution_count": 17,
   "metadata": {},
   "outputs": [
    {
     "data": {
      "text/plain": [
       "bound_ghost_cell! (generic function with 1 method)"
      ]
     },
     "execution_count": 17,
     "metadata": {},
     "output_type": "execute_result"
    }
   ],
   "source": [
    "function bound_ghost_cell!(ρ,p,s)\n",
    "    Ip, = size(Tc)\n",
    "    Ic, = size(Tp)\n",
    "    Ib, = size(Tb)    \n",
    "    for i in 1:Ib\n",
    "        if Tb[i,4] == 2\n",
    "            ic = Tb[i,1]\n",
    "            ic2= Tb[i,2]\n",
    "            ρ[ic] = ρ[ic2]\n",
    "            p[ic] = p[ic2]\n",
    "            s[ic,1:2] = s[ic2,1:2]\n",
    "            s[ic,3] = -s[ic2,3]\n",
    "          end \n",
    "    end\n",
    "    return ρ,p,s\n",
    "end  "
   ]
  },
  {
   "cell_type": "code",
   "execution_count": 18,
   "metadata": {},
   "outputs": [
    {
     "ename": "UndefVarError",
     "evalue": "UndefVarError: exp1 not defined",
     "output_type": "error",
     "traceback": [
      "UndefVarError: exp1 not defined",
      "",
      "Stacktrace:",
      " [1] top-level scope at In[18]:1"
     ]
    }
   ],
   "source": [
    "exp1[r4]"
   ]
  },
  {
   "cell_type": "markdown",
   "metadata": {},
   "source": [
    "## Ghost cell coordinate of a reflect boundary"
   ]
  },
  {
   "cell_type": "markdown",
   "metadata": {},
   "source": [
    "<img src=\"reflect.png\" width = \"200\" height = \"400\" div align=center /> "
   ]
  },
  {
   "cell_type": "markdown",
   "metadata": {},
   "source": [
    "$$ k_1 k_2 = -1$$\n",
    "$$ d_3 = -d_4 $$"
   ]
  },
  {
   "cell_type": "markdown",
   "metadata": {},
   "source": [
    "$$(z_2-z_1)(z_3-z_4)+(r_3-r_4)(r_2-r_1) = 0$$\n",
    "$$(z_2-z_1)(r_3-r_1)-(z_3-z_1)(r_2-r_1) = -(z_2-z_1)(r_4-r_1)+(z_4-z_1)(r_2-r_1)$$"
   ]
  },
  {
   "cell_type": "code",
   "execution_count": 19,
   "metadata": {
    "scrolled": true
   },
   "outputs": [
    {
     "name": "stdout",
     "output_type": "stream",
     "text": [
      "(exp1[r4], exp1[z4]) = (((r1 - r2)*(r1*r3 - r2*r3 + z1*z3 - z2*z3) - (z1 - z2)*(2*r1*z2 - r1*z3 - 2*r2*z1 + r2*z3 + r3*z1 - r3*z2))/((r1 - r2)^2 + (z1 - z2)^2), ((r1 - r2)*(2*r1*z2 - r1*z3 - 2*r2*z1 + r2*z3 + r3*z1 - r3*z2) + (z1 - z2)*(r1*r3 - r2*r3 + z1*z3 - z2*z3))/((r1 - r2)^2 + (z1 - z2)^2))\n"
     ]
    },
    {
     "name": "stderr",
     "output_type": "stream",
     "text": [
      "WARNING: using SymPy.rhs in module Main conflicts with an existing identifier.\n"
     ]
    },
    {
     "data": {
      "text/plain": [
       "(((r1 - r2)*(r1*r3 - r2*r3 + z1*z3 - z2*z3) - (z1 - z2)*(2*r1*z2 - r1*z3 - 2*r2*z1 + r2*z3 + r3*z1 - r3*z2))/((r1 - r2)^2 + (z1 - z2)^2), ((r1 - r2)*(2*r1*z2 - r1*z3 - 2*r2*z1 + r2*z3 + r3*z1 - r3*z2) + (z1 - z2)*(r1*r3 - r2*r3 + z1*z3 - z2*z3))/((r1 - r2)^2 + (z1 - z2)^2))"
      ]
     },
     "execution_count": 19,
     "metadata": {},
     "output_type": "execute_result"
    }
   ],
   "source": [
    "using SymPy\n",
    "@vars z1 z2 z3 z4 r1 r2 r3 r4\n",
    "exp1 = solve([(z2-z1)*(z3-z4)+(r2-r1)*(r3-r4),(z2-z1)*(r3-r1)-(z3-z1)*(r2-r1)+(z2-z1)*(r4-r1)-(z4-z1)*(r2-r1)],[r4,z4])\n",
    "@show exp1[r4],exp1[z4]"
   ]
  },
  {
   "cell_type": "code",
   "execution_count": 20,
   "metadata": {},
   "outputs": [
    {
     "data": {
      "text/plain": [
       "reflect (generic function with 1 method)"
      ]
     },
     "execution_count": 20,
     "metadata": {},
     "output_type": "execute_result"
    }
   ],
   "source": [
    "function reflect(r1,z1,r2,z2,r3,z3)\n",
    "    tmp1=(r1*r3-r2*r3+z1*z3-z2*z3) \n",
    "    tmp2 = (2r1*z2-r1*z3-2r2*z1+r2*z3+r3*z1-r3*z2)\n",
    "    tmp3 = ((r1-r2)^2+(z1-z2)^2)\n",
    "    \n",
    "    r4 = ((r1-r2)*tmp1 - (z1-z2)*tmp2)/tmp3\n",
    "    z4 = ((r1-r2)*tmp2 + (z1-z2)*tmp1)/tmp3\n",
    "    \n",
    "    return r4,z4\n",
    "end"
   ]
  },
  {
   "cell_type": "code",
   "execution_count": 21,
   "metadata": {},
   "outputs": [
    {
     "data": {
      "text/plain": [
       "(1.1, 0.0)"
      ]
     },
     "execution_count": 21,
     "metadata": {},
     "output_type": "execute_result"
    }
   ],
   "source": [
    "reflect(1,1,1,0,0.9,0)"
   ]
  },
  {
   "cell_type": "markdown",
   "metadata": {},
   "source": [
    "### EOS \n",
    "$$ e = \\frac{p}{(\\gamma-1)\\rho}$$"
   ]
  },
  {
   "cell_type": "code",
   "execution_count": 22,
   "metadata": {},
   "outputs": [
    {
     "data": {
      "text/plain": [
       "e_to_p (generic function with 1 method)"
      ]
     },
     "execution_count": 22,
     "metadata": {},
     "output_type": "execute_result"
    }
   ],
   "source": [
    "function p_to_e(ρ,p,con)\n",
    "    c=con\n",
    "    ei = (p .- c.ρ0*c.a0^2*fη(ρ,c))/(c.ρ0*c.Γ0)\n",
    "    return ei\n",
    "end\n",
    "function e_to_p(ρ,ei,con::Const)\n",
    "    c=con\n",
    "    p = c.ρ0*c.Γ0*ei .+ c.ρ0*c.a0^2*fη(ρ,c)\n",
    "    return p\n",
    "end"
   ]
  },
  {
   "cell_type": "code",
   "execution_count": 23,
   "metadata": {},
   "outputs": [
    {
     "data": {
      "text/plain": [
       "CFL (generic function with 1 method)"
      ]
     },
     "execution_count": 23,
     "metadata": {},
     "output_type": "execute_result"
    }
   ],
   "source": [
    "function CFL(SF,var)\n",
    "    r,z,u,v,ρ,p,s = var.r,var.z,var.u,var.v,var.ρ,var.p,var.s\n",
    "    Ic, = size(ρ)\n",
    "    cflmin = 1.e9\n",
    "      cfl = 0 \n",
    "    for i in 1:Ic\n",
    "        cfl =0\n",
    "        u2max = 0\n",
    "        u2=0.0\n",
    "        for j = 1:4\n",
    "            ip = Tp[i,j]\n",
    "            u2 = u[ip]^2+v[ip]^2\n",
    "            if u2 > u2max ; u2max = u2; end\n",
    "        end\n",
    "        \n",
    "        dlmin = (r[Tp[i,4]] - r[Tp[i,1]])^2+(z[Tp[i,4]]-z[Tp[i,1]])^2\n",
    "       \n",
    "        for j=1:3\n",
    "            dl= (r[Tp[i,j+1]] - r[Tp[i,j]])^2+(z[Tp[i,j+1]]-z[Tp[i,j]])^2\n",
    "            if dl < dlmin; dlmin=dl; end\n",
    "        end\n",
    "        c = sound([ρ[i],u[i],p[i],min(s[i,1],s[i,2])],con1)\n",
    "        cfl = √(dlmin)/(√(u2max)+c)\n",
    "        if cfl < cflmin; cflmin = cfl; end\n",
    "    end\n",
    " #   @show cflmin\n",
    "    dt = cflmin*SF\n",
    "    return dt\n",
    "end \n",
    "        "
   ]
  },
  {
   "cell_type": "code",
   "execution_count": 24,
   "metadata": {},
   "outputs": [
    {
     "data": {
      "text/plain": [
       "sound (generic function with 2 methods)"
      ]
     },
     "execution_count": 24,
     "metadata": {},
     "output_type": "execute_result"
    }
   ],
   "source": [
    "function sound(uo::Array{Float64,1},con::Const,EoP::Int=1)\n",
    "    a0,ρ0,Γ0,Y0,μ  = con.a0,con.ρ0,con.Γ0,con.Y0,con.μ\n",
    "    ρ,uu,p,sxx   = uo[1:4]\n",
    "    a2  = a0^2*fηη(ρ,con)+p/ρ^2*ρ0*Γ0\n",
    "    if EoP == 2\n",
    "        c=sqrt(a2-ρ0/ρ^2*Γ0*sxx)\n",
    "        return c\n",
    "    else\n",
    "       #  @show a2,ρ0/ρ^2,4.0/3*μ/ρ\n",
    "        c=sqrt(a2-ρ0/ρ^2*Γ0*sxx+4.0/3*μ/ρ)\n",
    "       \n",
    "        return c\n",
    "    end\n",
    "end"
   ]
  },
  {
   "cell_type": "code",
   "execution_count": 51,
   "metadata": {},
   "outputs": [
    {
     "data": {
      "text/plain": [
       "TimeSolve (generic function with 1 method)"
      ]
     },
     "execution_count": 51,
     "metadata": {},
     "output_type": "execute_result"
    }
   ],
   "source": [
    "function TimeSolve(var,mz)\n",
    "    tt= problem.tt\n",
    "    sf =problem.sf\n",
    "    t= 0.0\n",
    "    t₁ = tt/100\n",
    "    t₂ = t₁\n",
    "    kinetic_init,energy_init = total_kinetic(var,mz)\n",
    "    kinetic = kinetic_init\n",
    "   # while kinetic > 1e-4*kinetic_init && t<tt\n",
    "    while t<tt\n",
    "    \n",
    "#for i in 1:50\n",
    "        dt=CFL(sf,var)\n",
    "   #     @show dt\n",
    "        if t+dt>tt\n",
    "           dt = tt-t\n",
    "        end\n",
    "        \n",
    "        var = predictor_corrector2nd(dt,var,mz)\n",
    "       # var = euler1st(dt,var,mz)\n",
    "        kinetic,energy = total_kinetic(var,mz)\n",
    "         t += dt\n",
    "        if t > t₁\n",
    "            println(t)\n",
    "            t₁ += t₂\n",
    "            @show kinetic/kinetic_init,(energy+kinetic)/(kinetic_init+energy_init)\n",
    "        end\n",
    "        \n",
    "    end\n",
    "    return var\n",
    "end"
   ]
  },
  {
   "cell_type": "code",
   "execution_count": 26,
   "metadata": {},
   "outputs": [
    {
     "data": {
      "text/plain": [
       "total_kinetic (generic function with 1 method)"
      ]
     },
     "execution_count": 26,
     "metadata": {},
     "output_type": "execute_result"
    }
   ],
   "source": [
    "function total_kinetic(var,mz)\n",
    "    r,z,u,v,ρ,p = var.r,var.z,var.u,var.v,var.ρ,var.p\n",
    "    Ip, = size(Tc)\n",
    "    Ic, = size(Tp)\n",
    "    Ib, = size(Tb)\n",
    "    k = zeros(Float64,Ip)\n",
    "    \n",
    "    kinetic = 0\n",
    "    energy = 0\n",
    "     ρ1,mp = MassAndDens(mz, r, z)\n",
    "    \n",
    "    for i in 1:Ip\n",
    "        k[i]= mp[i]*0.5*(u[i]^2+v[i]^2)\n",
    "    end\n",
    "    \n",
    "    \n",
    "    for i in 1:Ic\n",
    "        energy += mz[i]*p_to_e(ρ[i], p[i], con1)\n",
    "    end\n",
    "    \n",
    "    for i in 1:Ib\n",
    "        if Tb[i,4] == 2\n",
    "            ic= Tb[i,1]\n",
    "            energy -= mz[ic]*p_to_e(ρ[ic], p[ic], con1)\n",
    "            \n",
    "            ig₁ = Tb[i,3]\n",
    "            ig₁ == 4 ? ig₂ = 1 : ig₂ = ig₁+1\n",
    "            k[Tp[ic,ig₁]] = 0\n",
    "            k[Tp[ic,ig₂]] = 0\n",
    "            end\n",
    "    end\n",
    "    kinetic = sum(k)\n",
    "    return kinetic,energy\n",
    "end\n"
   ]
  },
  {
   "cell_type": "markdown",
   "metadata": {},
   "source": [
    "## Artificial Viscosity \n",
    "\n",
    "Use the strain rate to construct the artificial viscosity \n",
    "$$\\frac{ds}{dt} = \\frac{\\partial u}{\\partial x}  + \\frac{\\partial v}{\\partial y} $$\n"
   ]
  },
  {
   "cell_type": "markdown",
   "metadata": {},
   "source": [
    "Then the artificial viscosity can be written as\n",
    "$$ q_w = \\left\\{ \\begin{align}\n",
    "\\alpha L \\rho \\left( \\frac{ds}{dt} \\right)^2 +  \\beta L^2 \\rho c \\left|\\frac{ds}{dt}\\right|, \\quad \\text{if}  \\quad \\frac{ds}{dt}< 0,\\\\\n",
    "0, \\quad \\text{if} \\quad \\frac{ds}{dt}\\ge 0. \\\\\n",
    "\\end{align}\n",
    "\\right.\n",
    "$$\n",
    "where $\\alpha = 0.6$, $\\beta = 2.0 $ and $c$ is the sonic speed.\n",
    "\n",
    "$L$ is the reference length, and constructed as\n",
    "$$L = A/L_{\\text{max}} $$\n",
    "\n",
    "$$L_{\\text{max}} = \\text{max}(L_{13},L_{24})$$\n"
   ]
  },
  {
   "cell_type": "code",
   "execution_count": 27,
   "metadata": {},
   "outputs": [
    {
     "data": {
      "text/plain": [
       "artificial_viscosity_c! (generic function with 1 method)"
      ]
     },
     "execution_count": 27,
     "metadata": {},
     "output_type": "execute_result"
    }
   ],
   "source": [
    "function artificial_viscosity_c!(x,y,u,v,ρ,p)\n",
    "    xc = sum(x[i] for i in 1:4)/4\n",
    "    yc = sum(y[i] for i in 1:4)/4\n",
    "    \n",
    "    ∂u_∂x,tmp = ∂uv(x,y,u)\n",
    "    tmp,∂v_∂y = ∂uv(x,y,v)\n",
    "    c = sound([ρ,0.0,p,0.0],con1)\n",
    "    Lmax = max(√((x[3] - x[1])^2+(y[3] - y[1])^2) ,√((x[2] - x[4])^2+(y[2] - y[4])^2) )  \n",
    "    A = area_quadrangle(x, y)\n",
    "    L = A/Lmax \n",
    "\n",
    "    if ∂u_∂x + ∂v_∂y> 0\n",
    "        q = 0\n",
    "    else\n",
    "        q = 0.6ρ*L*c*(abs(∂u_∂x+∂v_∂y))/A +2.0L^2*ρ*((∂u_∂x+∂v_∂y)^2)/A^2 \n",
    "    end\n",
    "    return p+q\n",
    "end"
   ]
  },
  {
   "cell_type": "markdown",
   "metadata": {},
   "source": [
    "$$b_2 \\rho Lc \\frac{\\partial u}{\\partial x} - b_{12}\\rho L^2 \\left(\\frac{\\partial u}{\\partial x}\\right)^2$$"
   ]
  },
  {
   "cell_type": "code",
   "execution_count": 28,
   "metadata": {},
   "outputs": [
    {
     "data": {
      "text/plain": [
       "artificial_viscosity! (generic function with 1 method)"
      ]
     },
     "execution_count": 28,
     "metadata": {},
     "output_type": "execute_result"
    }
   ],
   "source": [
    "function artificial_viscosity!(r,z,u,v,ρ,p)\n",
    "    I, = size(Tp)\n",
    "    rcell = zeros(Float64,4)\n",
    "    zcell = zeros(Float64,4)\n",
    "    ucell = zeros(Float64,4)\n",
    "    vcell = zeros(Float64,4)\n",
    "   \n",
    "    for i in 1:I\n",
    "        for j in 1:4\n",
    "            ip = Tp[i,j]\n",
    "            rcell[j] = r[ip]\n",
    "            zcell[j] = z[ip]\n",
    "            ucell[j] = u[ip]\n",
    "            vcell[j] = v[ip]\n",
    "        end\n",
    "        p[i] = artificial_viscosity_c!(rcell,zcell,ucell,vcell,ρ[i],p[i])\n",
    "    end\n",
    "    \n",
    "        return p\n",
    "        \n",
    "    end       "
   ]
  },
  {
   "cell_type": "code",
   "execution_count": 29,
   "metadata": {},
   "outputs": [
    {
     "data": {
      "text/plain": [
       "l_viscosity (generic function with 1 method)"
      ]
     },
     "execution_count": 29,
     "metadata": {},
     "output_type": "execute_result"
    }
   ],
   "source": [
    "function l_viscosity(x,y,α)\n",
    "    xc = sum(x)/4; yc = sum(y)/4\n",
    "    d = zeros(Float64,4)\n",
    "    for i in 1:4\n",
    "    d[i] = distance(x[i],y[i],xc,yc,α)\n",
    "    end\n",
    "    A = A_z(x, y)\n",
    "    L = 2sum(A)/sum(d)\n",
    "    return L\n",
    "end"
   ]
  },
  {
   "cell_type": "markdown",
   "metadata": {},
   "source": [
    "#### distance from  Point to line \n",
    "Line: $$ (xc -cos \\alpha )(x-xc) = (yc-sin \\alpha)(y-yc)$$\n",
    "point: $x,y$"
   ]
  },
  {
   "cell_type": "code",
   "execution_count": 30,
   "metadata": {},
   "outputs": [
    {
     "data": {
      "text/plain": [
       "distance (generic function with 1 method)"
      ]
     },
     "execution_count": 30,
     "metadata": {},
     "output_type": "execute_result"
    }
   ],
   "source": [
    "function distance(x,y,xc,yc,α)\n",
    "    d = abs((xc - cosd(α)) * (x .-xc)- (yc-sind(α))*(y .- yc))/√((xc-cosd(α))^2+(yc-sind(α))^2)\n",
    "    return d\n",
    "end"
   ]
  },
  {
   "cell_type": "markdown",
   "metadata": {},
   "source": [
    "### 沙漏粘性 Hourglass"
   ]
  },
  {
   "cell_type": "markdown",
   "metadata": {},
   "source": [
    "$$ \\text{hg}_x = u_1 -u_2 + u_3 - u_4$$ \n",
    "$$ \\text{hg}_x = v_1 -v_2 + v_3 - v_4$$ \n",
    "\n",
    "$$ e_{1x} = -\\frac{1}{4}q\\rho c\\sqrt{A}\\text{hg}_x $$\n",
    "$$ e_{1y} = -\\frac{1}{4}q\\rho c\\sqrt{A}\\text{hg}_y $$\n",
    "\n",
    "$$ e_{2x} = \\frac{1}{4}q\\rho c\\sqrt{A}\\text{hg}_x $$\n",
    "$$ e_{2y} = \\frac{1}{4}q\\rho c\\sqrt{A}\\text{hg}_y $$\n",
    "\n",
    "$$ e_{3x} = -\\frac{1}{4}q\\rho c\\sqrt{A}\\text{hg}_x $$\n",
    "$$ e_{3y} = -\\frac{1}{4}q\\rho c\\sqrt{A}\\text{hg}_y $$\n",
    "\n",
    "$$ e_{4x} = \\frac{1}{4}q\\rho c\\sqrt{A}\\text{hg}_x $$\n",
    "$$ e_{4y} = \\frac{1}{4}q\\rho c\\sqrt{A}\\text{hg}_y $$"
   ]
  },
  {
   "cell_type": "code",
   "execution_count": 50,
   "metadata": {},
   "outputs": [
    {
     "data": {
      "text/plain": [
       "hourglass_viscosity (generic function with 1 method)"
      ]
     },
     "execution_count": 50,
     "metadata": {},
     "output_type": "execute_result"
    }
   ],
   "source": [
    "function hourglass_viscosity(x,y,u,v,ρ,p,s)\n",
    "    hgx = u[1] - u[2] + u[3] -u[4]\n",
    "    hgy = v[1] - v[2] + v[3] -v[4]\n",
    "    \n",
    "    ex =zeros(Float64,4)\n",
    "    ey =zeros(Float64,4)\n",
    "    A = area_quadrangle(x,y)\n",
    "    c = sound([ρ,0.0,p,min(s[1],s[2])], con1)\n",
    " #   @show c\n",
    "    q = 0.1 # coefficient of hourglass viscosity 0.01 - 0.5 ?\n",
    "    ex[1] = -0.25q*ρ*c*√(A)*hgx\n",
    "    ey[1] = -0.25q*ρ*c*√(A)*hgy\n",
    "    \n",
    "    ex[2] = -ex[1]\n",
    "    ey[2] = -ey[1]\n",
    "    \n",
    "    ex[3] = ex[1]\n",
    "    ey[3] = ey[1]\n",
    "    \n",
    "    ex[4] = ex[2]\n",
    "    ey[4] = ey[2]\n",
    "    \n",
    " # ex .= 0\n",
    " # ey .= 0\n",
    " #   @show ex,ey\n",
    "    return ex, ey\n",
    "end"
   ]
  },
  {
   "cell_type": "code",
   "execution_count": 32,
   "metadata": {},
   "outputs": [
    {
     "data": {
      "text/plain": [
       "area_quadrangle (generic function with 1 method)"
      ]
     },
     "execution_count": 32,
     "metadata": {},
     "output_type": "execute_result"
    }
   ],
   "source": [
    "function area_quadrangle(x::Array{Float64,1},y::Array{Float64,1}) \n",
    "   \n",
    "    xc= sum(x[i] for i in 1:4)/4\n",
    "    yc= sum(y[i] for i in 1:4)/4\n",
    "    \n",
    "    A41 = Area3(x[4],x[1],xc,y[4],y[1],yc)\n",
    "    A12 = Area3(x[1],x[2],xc,y[1],y[2],yc)\n",
    "    A23 = Area3(x[2],x[3],xc,y[2],y[3],yc)\n",
    "    A34 = Area3(x[3],x[4],xc,y[3],y[4],yc)\n",
    "    \n",
    "    A = A12 + A23 +A34 +A41\n",
    "    return A\n",
    "end"
   ]
  },
  {
   "cell_type": "code",
   "execution_count": 33,
   "metadata": {},
   "outputs": [
    {
     "data": {
      "text/plain": [
       "Area3 (generic function with 1 method)"
      ]
     },
     "execution_count": 33,
     "metadata": {},
     "output_type": "execute_result"
    }
   ],
   "source": [
    "function Area3(x1,x2,x3,y1,y2,y3)\n",
    "    return abs((x1*y2+y1*x3+x2*y3-x1*y3-y1*x2-y2*x3)/2)\n",
    "end"
   ]
  },
  {
   "cell_type": "markdown",
   "metadata": {},
   "source": [
    "###  $\\frac{\\partial (u,v)}{\\partial (x,y)}$\n",
    "\n",
    "we use the diffences between 1 and 3 points and 2 and 4 points to solve the partial differences approximately, as\n",
    "$$ \\frac{\\partial u}{\\partial x}  \\approx \\frac{1}{2A}((u_1-u_3)(y_2-y_4)+(u_2-u_4)(-y_1+y_3))$$ \n",
    "\n",
    "$$ \\frac{\\partial v}{\\partial y}  \\approx -\\frac{1}{2A}((v_1-v_3)(x_2-x_4)+(v_2-v_4)(-x_1+x_3))$$ \n",
    "Similar process to $\\frac{\\partial u}{\\partial y}$,$\\frac{\\partial v}{\\partial x}$ and $\\frac{\\partial v}{\\partial y}$"
   ]
  },
  {
   "cell_type": "code",
   "execution_count": 34,
   "metadata": {},
   "outputs": [
    {
     "data": {
      "text/plain": [
       "∂uv (generic function with 1 method)"
      ]
     },
     "execution_count": 34,
     "metadata": {},
     "output_type": "execute_result"
    }
   ],
   "source": [
    "function ∂uv(x,y,u)\n",
    "    ∂u_∂x = 0.5(u[1]-u[3])*(y[2]-y[4]) + 0.5(u[2]-u[4])*(y[3]-y[1])\n",
    "    ∂u_∂y = -0.5(u[1]-u[3])*(x[2]-x[4]) - 0.5(u[2]-u[4])*(x[3]-x[1])\n",
    "    return ∂u_∂x,∂u_∂y\n",
    "end"
   ]
  },
  {
   "cell_type": "markdown",
   "metadata": {},
   "source": [
    "## Output function"
   ]
  },
  {
   "cell_type": "code",
   "execution_count": 35,
   "metadata": {},
   "outputs": [
    {
     "data": {
      "text/plain": [
       "cell_coordinate (generic function with 1 method)"
      ]
     },
     "execution_count": 35,
     "metadata": {},
     "output_type": "execute_result"
    }
   ],
   "source": [
    "function cell_coordinate(x,y)\n",
    "    Ip, = size(Tc)\n",
    "    Ic, = size(Tp)\n",
    "    xc = zeros(Float64,Ic)\n",
    "    yc = zeros(Float64,Ic)\n",
    "    \n",
    "    for i in 1:Ic\n",
    "        for j = 1:4\n",
    "            ip = Tp[i,j] \n",
    "            xc[i] += x[ip]/4\n",
    "            yc[i] += y[ip]/4\n",
    "        end\n",
    "        \n",
    "    end\n",
    "    \n",
    "    return xc,yc\n",
    "end"
   ]
  },
  {
   "cell_type": "code",
   "execution_count": 36,
   "metadata": {},
   "outputs": [
    {
     "data": {
      "text/plain": [
       "outputline (generic function with 1 method)"
      ]
     },
     "execution_count": 36,
     "metadata": {},
     "output_type": "execute_result"
    }
   ],
   "source": [
    "function outputline(Ix,Iy,var,mz)\n",
    "    r,z,u,v,ρ,p,s = var.r,var.z,var.u,var.v,var.ρ,var.p,var.s\n",
    "    I, = size(ρ)\n",
    "    \n",
    "    uline =  zeros(Float64,Ix)\n",
    "    rline =  zeros(Float64,Ix)\n",
    "    zline =  zeros(Float64,Ix)\n",
    "    ρline =  zeros(Float64,Ix)        \n",
    "    pline =  zeros(Float64,Ix)  \n",
    "    sline = zeros(Float64,Ix,3)\n",
    "    for i in 1:Ix\n",
    "        j = Int(floor(Iy/2))\n",
    "            ip = i+(j-1 ) *(Ix+1)\n",
    "            ic =i+(j-1)*Ix\n",
    "            uline[i] = u[ip]\n",
    "            rline[i]  = r[ip]\n",
    "            ρline[i]  = ρ[ic]\n",
    "            pline[i] = p[ic]\n",
    "           # σline[i,:] .= σ[ic,:]\n",
    "            sline[i,:] = s[ic,:]\n",
    "    end\n",
    "    return rline,uline,ρline,pline,sline\n",
    "end"
   ]
  },
  {
   "cell_type": "code",
   "execution_count": 37,
   "metadata": {},
   "outputs": [
    {
     "data": {
      "text/plain": [
       "Output_cell (generic function with 1 method)"
      ]
     },
     "execution_count": 37,
     "metadata": {},
     "output_type": "execute_result"
    }
   ],
   "source": [
    "function Output_cell(Ix,Iy,var,mz)\n",
    "    x,y,u,v,ρ,p,s= var.r,var.z,var.u,var.v,var.ρ,var.p,var.s\n",
    "    Ip, = size(Tc)\n",
    "    Ic, = size(Tp)\n",
    "    io = open(\"data.dat\", \"w+\")\n",
    "    A = zeros(Float64,Ip,10)\n",
    "    \n",
    "    text = \" TITLE = \\\"Dataset\\\"\n",
    "VARIABLES = \\\"x\\\" \\\"y\\\" \\\"u\\\" \\\"v\\\" \\\"rho\\\" \\\"p\\\" \\\"srr\\\" \\\"szz\\\" \\\"szr\\\" \\\"s:s\\\"  ZONE T=\\\"Zone 1\\\" \n",
    "I=$Ix,J=$Iy,K=1,ZONETYPE=Ordered \n",
    "DATAPACKING=POINT \\n \"\n",
    "\n",
    "    write(io,text) \n",
    "    for i in 1:Ic\n",
    "        xc = 0\n",
    "        yc =0\n",
    "        uc =0\n",
    "        vc =0\n",
    "        for j = 1:4\n",
    "            ip = Tp[i,j] \n",
    "                xc += x[ip]/4\n",
    "                yc += y[ip]/4\n",
    "                uc += u[ip]/4\n",
    "                vc += v[ip]/4\n",
    "        end\n",
    "        \n",
    "        A[i,1] = xc\n",
    "        A[i,2] = yc\n",
    "        A[i,3] = uc\n",
    "        A[i,4] = vc\n",
    "        A[i,5] = ρ[i]        \n",
    "        A[i,6] = p[i]      \n",
    "        A[i,7:9] .= s[i,1:3] \n",
    "        A[i,10] = (s[i,1]^2+s[i,2]^2 +2s[i,3]^2+(s[i,1]+s[i,2])^2)\n",
    "    end\n",
    "      writedlm(io, A, \"  \")\n",
    "    close(io)\n",
    "end"
   ]
  },
  {
   "cell_type": "code",
   "execution_count": 98,
   "metadata": {},
   "outputs": [
    {
     "data": {
      "text/plain": [
       "Output_point (generic function with 1 method)"
      ]
     },
     "execution_count": 98,
     "metadata": {},
     "output_type": "execute_result"
    }
   ],
   "source": [
    "function Output_point(Ix,Iy,var,mz)\n",
    "    x,y,u,v,ρ,p,s = var.r,var.z,var.u,var.v,var.ρ,var.p,var.s\n",
    "    Ip, = size(Tc)\n",
    "    Ic, = size(Tp)\n",
    "    \n",
    "    io = open(\"data.dat\", \"w+\")\n",
    "    io2 = open(\"data2.dat\", \"w+\")\n",
    "    #s = zeros(Float64,Ip,3)\n",
    "    A = zeros(Float64,Ip,9)\n",
    "   # for i in 1:Ip\n",
    "    \n",
    "    text = \" TITLE = \\\"Dataset\\\"\n",
    "VARIABLES = \\\"x\\\" \\\"y\\\" \\\"u\\\" \\\"v\\\" \\\"rho\\\" \\\"p\\\" \\\"srr\\\" \\\"szz\\\" \\\"szr\\\"   ZONE T=\\\"Zone 1\\\" \n",
    "I=$(Ix+1),J=$(Iy+1),K=1,ZONETYPE=Ordered \n",
    "DATAPACKING=POINT \\n \"\n",
    "      text2 = \" TITLE = \\\"Dataset\\\"\n",
    "VARIABLES = \\\"x\\\" \\\"y\\\" \\\"u\\\" \\\"v\\\" \\\"rho\\\" \\\"p\\\" \\\"srr\\\" \\\"szz\\\" \\\"szr\\\"   ZONE T=\\\"Zone 1\\\" \n",
    "I=$(Ix),J=1,K=1,ZONETYPE=Ordered \n",
    "DATAPACKING=POINT \\n \"\n",
    "  #  write(1,*)\n",
    "    write(io,text)\n",
    "    write(io2,text2)\n",
    "       ρp = zeros(Float64,Ip)\n",
    "       pp = zeros(Float64,Ip)\n",
    "       np = zeros(Int,Ip)\n",
    "       sp = zeros(Float64,Ip,3)\n",
    "    \n",
    "    for i in 1:Ic\n",
    "        \n",
    "        xc = 0\n",
    "        yc =0\n",
    "        uc =0\n",
    "        vc =0\n",
    "        for j = 1:4\n",
    "            ip = Tp[i,j] \n",
    "            ρp[ip] += ρ[i]\n",
    "            pp[ip] += p[i]\n",
    "            sp[ip,:] += s[i,:]\n",
    "            np[ip] += 1   \n",
    "        end\n",
    "    end\n",
    "        ρp = ρp ./ np\n",
    "        pp = pp ./ np\n",
    "        sp = sp ./ np\n",
    "    \n",
    "        A[:,1] = x\n",
    "        A[:,2] = y\n",
    "        A[:,3] = u\n",
    "        A[:,4] = v\n",
    "        A[:,5] = ρp\n",
    "        A[:,6] = pp\n",
    "        A[:,7:9] .= sp[:,1:3]\n",
    "    \n",
    "      writedlm(io, A, \"  \")\n",
    "        writedlm(io2, A[1:401,:], \"  \")\n",
    "    close(io)\n",
    "    close(io2)\n",
    "end"
   ]
  },
  {
   "cell_type": "markdown",
   "metadata": {},
   "source": [
    "## Cases"
   ]
  },
  {
   "cell_type": "code",
   "execution_count": 79,
   "metadata": {},
   "outputs": [
    {
     "data": {
      "text/plain": [
       "Piston (generic function with 1 method)"
      ]
     },
     "execution_count": 79,
     "metadata": {},
     "output_type": "execute_result"
    }
   ],
   "source": [
    " function Piston()\n",
    "\n",
    "    global problem = prb(1.5e2,0.1)\n",
    "    # global problem = prb(3e-5,0.3)\n",
    "     \n",
    "    I =  100\n",
    "    J = 5\n",
    "    dx = 100/I\n",
    "    dy = 10/J\n",
    "\n",
    "    I1= I+1\n",
    "    J1= J+2\n",
    "    global   con1 = Const(9e-4,8.930,2.0,4.5e-1,0.3940,1.49)\n",
    "  #  global   con1 = Const(0.0,8930,2.0,4.5e10,3940.0,1.49)\n",
    "    Ip = (I1+1)*(J1+1) # Number of  points\n",
    "    Ic = I1*J1  # number of cells\n",
    "    \n",
    "    global Tp = zeros(Int,Ic,4) #格点\n",
    "    global Tc = zeros(Int,Ip,4) #点格\n",
    "    \n",
    "    #@show Tc, Ip\n",
    "    global Tb = zeros(Int, 2I1 + 2J1,4) #边界 \n",
    "    \n",
    "    ## Tb[i,1] ghost cell number\n",
    "    ## Tb[i,2] bound cell number\n",
    "    ## Tb[i,3] ghost cell point share with the bound \n",
    "    ## Tb[i,4] type of the boundary\n",
    "    \n",
    "    \n",
    "    \n",
    "   # 点格表，格点表初始化 \n",
    "    for i in 1:I1 \n",
    "        for j in 1:J1\n",
    "            ic = i+(j-1)*I1\n",
    "            Tp[ic,1] = i + (j-1)*(I1+1)\n",
    "            Tp[ic,2] = i+1 +(j-1)*(I1+1)\n",
    "            Tp[ic,3]=i+1+j*(I1+1)\n",
    "            Tp[ic,4]=i+j*(I1+1) \n",
    "        end\n",
    "    end\n",
    "    \n",
    "    for i = 1:I1+1\n",
    "        for j = 1:J1+1\n",
    "            ip =i+(j-1)*(I1+1)\n",
    "            Tc[ip,1] = i +(j-1)*I1 #(i,j)\n",
    "            Tc[ip,2] = i-1+(j-1)*I1 #(i-1,j)\n",
    "            Tc[ip,3] = i-1+(j-2)*I1 #(i-1,j-1)\n",
    "            Tc[ip,4] = i+(j-2)*I1   #(i,j-1)\n",
    "        end\n",
    "    end\n",
    "    \n",
    "\n",
    "# Bound \n",
    "  ib = 0\n",
    "        for j = 1:J1\n",
    "            i=1\n",
    "            ib += 1\n",
    "            ic =i+(j-1)*I1 \n",
    "            Tb[ib,1] = ic\n",
    "            Tb[ib,2] = (i+1)+(j-1)*I1\n",
    "            Tb[ib,3] = 4\n",
    "            Tb[ib,4] = 3\n",
    "        end\n",
    "    \n",
    "      for i = 1:I1-1\n",
    "            for j in (1,J1)\n",
    "                ib += 1\n",
    "                ic =i+(j-1)*I1\n",
    "                \n",
    "                Tb[ib,1] = ic\n",
    "               \n",
    "                if j==1 \n",
    "                    Tb[ib,2] = i+(j+1-1)*I1\n",
    "                    Tb[ib,3] = 3\n",
    "                    Tb[ib,4] = 2\n",
    "                end\n",
    "                if j==J1\n",
    "                    Tb[ib,2] = i+(j-1-1)*I1\n",
    "                    Tb[ib,3] = 1\n",
    "                    Tb[ib,4] = 2\n",
    "                end\n",
    "            end\n",
    "        end\n",
    "         for j = 1:J1\n",
    "             i = I1\n",
    "            ib += 1\n",
    "            ic =i+(j-1)*I1\n",
    "            Tb[ib,1] = ic\n",
    "             Tb[ib,2] = (i-1)+(j-1)*I1 #bound type 1:free 2: wall ..  Tb[:,2] y direction\n",
    "             Tb[ib,3] = 4\n",
    "             Tb[ib,4] = 2\n",
    "         end\n",
    "    \n",
    "    #流场初始化 Init of the flow\n",
    "    \n",
    "    x = zeros(Float64,Ip)\n",
    "    y = zeros(Float64,Ip)\n",
    "    u = zeros(Float64,Ip)\n",
    "    v = zeros(Float64,Ip)\n",
    "    \n",
    "    ρ = zeros(Float64,Ic)\n",
    "    mz = zeros(Float64,Ic)\n",
    "    p = zeros(Float64,Ic)\n",
    "    Az= zeros(Float64,Ic)\n",
    "    s = zeros(Float64,Ic,3)\n",
    "    \n",
    "    for i in 1:I1+1\n",
    "        for j = 1:J1+1\n",
    "            ip =i+(j-1)*(I1+1)\n",
    "            x[ip] = (i-1)*dx\n",
    "            y[ip] = (j-2)*dy\n",
    "            u[ip] = 0\n",
    "            v[ip] = 0.0\n",
    "        end\n",
    "    end\n",
    "    \n",
    "      \n",
    "    \n",
    "    var = Var(x,y,u,v,ρ,p,s)\n",
    "    x,y = bound_ghost_coordinate!(x,y,u,v)\n",
    "  #  x,y = bound_ghost_coordinate!(x,y)\n",
    "    xz = zeros(Float64,4)\n",
    "    yz = zeros(Float64,4) \n",
    "    for i in 1:I1\n",
    "        for j in 1:J1\n",
    "            ic = i+(j-1)*(I1)\n",
    "            xz[1:4] = x[Tp[ic,1:4]]\n",
    "            yz[1:4] = y[Tp[ic,1:4]]\n",
    "            A = A_z(xz,yz)\n",
    "            Az[ic] = sum(A)\n",
    "                p[ic] = 1.e-6\n",
    "                ρ[ic] = 8.930\n",
    "                mz[ic] = ρ[ic] * Az[ic]\n",
    "                s[ic,:] .= 0       \n",
    "        end\n",
    "    end \n",
    "    return var,mz,I1,J1\n",
    "end"
   ]
  },
  {
   "cell_type": "code",
   "execution_count": 80,
   "metadata": {},
   "outputs": [
    {
     "name": "stdout",
     "output_type": "stream",
     "text": [
      "1.6855050411205441\n",
      "(kinetic / kinetic_init, (energy + kinetic) / (kinetic_init + energy_init)) = (Inf, 1.4491527489998812)\n",
      "3.1530206148107514\n",
      "(kinetic / kinetic_init, (energy + kinetic) / (kinetic_init + energy_init)) = (Inf, 1.7810175100004537)\n",
      "4.617160122941333\n",
      "(kinetic / kinetic_init, (energy + kinetic) / (kinetic_init + energy_init)) = (Inf, 2.131066513611652)\n",
      "6.079274328351767\n",
      "(kinetic / kinetic_init, (energy + kinetic) / (kinetic_init + energy_init)) = (Inf, 2.492995705254943)\n",
      "7.540259722529125\n",
      "(kinetic / kinetic_init, (energy + kinetic) / (kinetic_init + energy_init)) = (Inf, 2.8613917561582567)\n",
      "9.001047439069266\n",
      "(kinetic / kinetic_init, (energy + kinetic) / (kinetic_init + energy_init)) = (Inf, 3.222621207730077)\n",
      "10.670503797387243\n",
      "(kinetic / kinetic_init, (energy + kinetic) / (kinetic_init + energy_init)) = (Inf, 3.6224033976777696)\n",
      "12.131107579022013\n",
      "(kinetic / kinetic_init, (energy + kinetic) / (kinetic_init + energy_init)) = (Inf, 3.964436033937492)\n",
      "13.591373275598139\n",
      "(kinetic / kinetic_init, (energy + kinetic) / (kinetic_init + energy_init)) = (Inf, 4.307306372300199)\n",
      "15.0511200648254\n",
      "(kinetic / kinetic_init, (energy + kinetic) / (kinetic_init + energy_init)) = (Inf, 4.65839768123286)\n",
      "16.510364790620265\n",
      "(kinetic / kinetic_init, (energy + kinetic) / (kinetic_init + energy_init)) = (Inf, 5.015793708053152)\n",
      "18.177732050298452\n",
      "(kinetic / kinetic_init, (energy + kinetic) / (kinetic_init + energy_init)) = (Inf, 5.427762103467676)\n",
      "19.636569668512728\n",
      "(kinetic / kinetic_init, (energy + kinetic) / (kinetic_init + energy_init)) = (Inf, 5.7889253753374295)\n",
      "21.09540277536431\n",
      "(kinetic / kinetic_init, (energy + kinetic) / (kinetic_init + energy_init)) = (Inf, 6.149592899132018)\n",
      "22.554274182210726\n",
      "(kinetic / kinetic_init, (energy + kinetic) / (kinetic_init + energy_init)) = (Inf, 6.509368312056768)\n",
      "24.01319176647067\n",
      "(kinetic / kinetic_init, (energy + kinetic) / (kinetic_init + energy_init)) = (Inf, 6.868297110944246)\n",
      "25.680567228646463\n",
      "(kinetic / kinetic_init, (energy + kinetic) / (kinetic_init + energy_init)) = (Inf, 7.277810753573945)\n",
      "27.139532600110957\n",
      "(kinetic / kinetic_init, (energy + kinetic) / (kinetic_init + energy_init)) = (Inf, 7.63590886267181)\n",
      "28.598488079705536\n",
      "(kinetic / kinetic_init, (energy + kinetic) / (kinetic_init + energy_init)) = (Inf, 7.99401616525907)\n",
      "30.057428965956266\n",
      "(kinetic / kinetic_init, (energy + kinetic) / (kinetic_init + energy_init)) = (Inf, 8.35212407148974)\n",
      "31.516361325735826\n",
      "(kinetic / kinetic_init, (energy + kinetic) / (kinetic_init + energy_init)) = (Inf, 8.710168904661336)\n",
      "33.18370277266194\n",
      "(kinetic / kinetic_init, (energy + kinetic) / (kinetic_init + energy_init)) = (Inf, 9.119311492030585)\n",
      "34.64261506913845\n",
      "(kinetic / kinetic_init, (energy + kinetic) / (kinetic_init + energy_init)) = (Inf, 9.47730197770122)\n",
      "36.101515319543815\n",
      "(kinetic / kinetic_init, (energy + kinetic) / (kinetic_init + energy_init)) = (Inf, 9.835290866211134)\n",
      "37.560404175399825\n",
      "(kinetic / kinetic_init, (energy + kinetic) / (kinetic_init + energy_init)) = (Inf, 10.193267134794224)\n",
      "39.01928220348122\n",
      "(kinetic / kinetic_init, (energy + kinetic) / (kinetic_init + energy_init)) = (Inf, 10.551228482442811)\n",
      "40.68655776026483\n",
      "(kinetic / kinetic_init, (energy + kinetic) / (kinetic_init + energy_init)) = (Inf, 10.960315475246789)\n",
      "42.14541158177646\n",
      "(kinetic / kinetic_init, (energy + kinetic) / (kinetic_init + energy_init)) = (Inf, 11.318260272096207)\n",
      "43.60425386125828\n",
      "(kinetic / kinetic_init, (energy + kinetic) / (kinetic_init + energy_init)) = (Inf, 11.67619860244927)\n",
      "45.06308475256495\n",
      "(kinetic / kinetic_init, (energy + kinetic) / (kinetic_init + energy_init)) = (Inf, 12.034128743080162)\n",
      "46.52190429639065\n",
      "(kinetic / kinetic_init, (energy + kinetic) / (kinetic_init + energy_init)) = (Inf, 12.392051103807415)\n",
      "48.1891126172358\n",
      "(kinetic / kinetic_init, (energy + kinetic) / (kinetic_init + energy_init)) = (Inf, 12.801097520871966)\n",
      "49.647907554167794\n",
      "(kinetic / kinetic_init, (energy + kinetic) / (kinetic_init + energy_init)) = (Inf, 13.159006719353668)\n",
      "51.106691018884874\n",
      "(kinetic / kinetic_init, (energy + kinetic) / (kinetic_init + energy_init)) = (Inf, 13.516908881604659)\n",
      "52.5654630887362\n",
      "(kinetic / kinetic_init, (energy + kinetic) / (kinetic_init + energy_init)) = (Inf, 13.87480334925893)\n",
      "54.02422376468318\n",
      "(kinetic / kinetic_init, (energy + kinetic) / (kinetic_init + energy_init)) = (Inf, 14.232690456278494)\n",
      "55.691364815809315\n",
      "(kinetic / kinetic_init, (energy + kinetic) / (kinetic_init + energy_init)) = (Inf, 14.641695744368166)\n",
      "57.15010098666531\n",
      "(kinetic / kinetic_init, (energy + kinetic) / (kinetic_init + energy_init)) = (Inf, 14.999567401799112)\n",
      "58.608825779330715\n",
      "(kinetic / kinetic_init, (energy + kinetic) / (kinetic_init + energy_init)) = (Inf, 15.357430935513475)\n",
      "60.06753921791645\n",
      "(kinetic / kinetic_init, (energy + kinetic) / (kinetic_init + energy_init)) = (Inf, 15.715286185405775)\n",
      "61.526241295691676\n",
      "(kinetic / kinetic_init, (energy + kinetic) / (kinetic_init + energy_init)) = (Inf, 16.073133102967073)\n",
      "63.19331549950106\n",
      "(kinetic / kinetic_init, (energy + kinetic) / (kinetic_init + energy_init)) = (Inf, 16.482090164417787)\n",
      "64.65199332930321\n",
      "(kinetic / kinetic_init, (energy + kinetic) / (kinetic_init + energy_init)) = (Inf, 16.839917589552496)\n",
      "66.11065987262769\n",
      "(kinetic / kinetic_init, (energy + kinetic) / (kinetic_init + energy_init)) = (Inf, 17.19773584391362)\n",
      "67.56931509834385\n",
      "(kinetic / kinetic_init, (energy + kinetic) / (kinetic_init + energy_init)) = (Inf, 17.555544997952317)\n",
      "69.02795903278586\n",
      "(kinetic / kinetic_init, (energy + kinetic) / (kinetic_init + energy_init)) = (Inf, 17.91334402576789)\n",
      "70.69496698732405\n",
      "(kinetic / kinetic_init, (energy + kinetic) / (kinetic_init + energy_init)) = (Inf, 18.322242942725193)\n",
      "72.15358705140696\n",
      "(kinetic / kinetic_init, (energy + kinetic) / (kinetic_init + energy_init)) = (Inf, 18.680016972175412)\n",
      "73.61219593524686\n",
      "(kinetic / kinetic_init, (energy + kinetic) / (kinetic_init + energy_init)) = (Inf, 19.03778100220469)\n",
      "75.07079351043863\n",
      "(kinetic / kinetic_init, (energy + kinetic) / (kinetic_init + energy_init)) = (Inf, 19.395536303533962)\n",
      "76.52937975786358\n",
      "(kinetic / kinetic_init, (energy + kinetic) / (kinetic_init + energy_init)) = (Inf, 19.75328237757453)\n",
      "78.19632171470555\n",
      "(kinetic / kinetic_init, (energy + kinetic) / (kinetic_init + energy_init)) = (Inf, 20.162122359219758)\n",
      "79.65488393203118\n",
      "(kinetic / kinetic_init, (energy + kinetic) / (kinetic_init + energy_init)) = (Inf, 20.519846670599552)\n",
      "81.11343485821838\n",
      "(kinetic / kinetic_init, (energy + kinetic) / (kinetic_init + energy_init)) = (Inf, 20.877562620377383)\n",
      "82.57197440031611\n",
      "(kinetic / kinetic_init, (energy + kinetic) / (kinetic_init + energy_init)) = (Inf, 21.235270826888957)\n",
      "84.03050258468515\n",
      "(kinetic / kinetic_init, (energy + kinetic) / (kinetic_init + energy_init)) = (Inf, 21.592970464171426)\n",
      "85.69737813214962\n",
      "(kinetic / kinetic_init, (energy + kinetic) / (kinetic_init + energy_init)) = (Inf, 22.001758765482716)\n",
      "87.1558821436862\n",
      "(kinetic / kinetic_init, (energy + kinetic) / (kinetic_init + energy_init)) = (Inf, 22.359439544523227)\n",
      "88.61437477275412\n",
      "(kinetic / kinetic_init, (energy + kinetic) / (kinetic_init + energy_init)) = (Inf, 22.717113113436195)\n",
      "90.07285598149105\n",
      "(kinetic / kinetic_init, (energy + kinetic) / (kinetic_init + energy_init)) = (Inf, 23.074779406019545)\n",
      "91.53132582508356\n",
      "(kinetic / kinetic_init, (energy + kinetic) / (kinetic_init + energy_init)) = (Inf, 23.432437612006517)\n",
      "93.1981346403781\n",
      "(kinetic / kinetic_init, (energy + kinetic) / (kinetic_init + energy_init)) = (Inf, 23.84117993506861)\n",
      "94.65658017045861\n",
      "(kinetic / kinetic_init, (energy + kinetic) / (kinetic_init + energy_init)) = (Inf, 24.198821841984078)\n",
      "96.11501426123945\n",
      "(kinetic / kinetic_init, (energy + kinetic) / (kinetic_init + energy_init)) = (Inf, 24.556457182128682)\n",
      "97.57343692283268\n",
      "(kinetic / kinetic_init, (energy + kinetic) / (kinetic_init + energy_init)) = (Inf, 24.914085491097786)\n",
      "99.03184820674541\n",
      "(kinetic / kinetic_init, (energy + kinetic) / (kinetic_init + energy_init)) = (Inf, 25.27170632426496)\n",
      "100.69859002700223\n",
      "(kinetic / kinetic_init, (energy + kinetic) / (kinetic_init + energy_init)) = (Inf, 25.680407244339893)\n",
      "102.1569768671654\n",
      "(kinetic / kinetic_init, (energy + kinetic) / (kinetic_init + energy_init)) = (Inf, 26.038013810859983)\n"
     ]
    },
    {
     "name": "stdout",
     "output_type": "stream",
     "text": [
      "103.61535224458049\n",
      "(kinetic / kinetic_init, (energy + kinetic) / (kinetic_init + energy_init)) = (Inf, 26.39561410532)\n",
      "105.07371619118479\n",
      "(kinetic / kinetic_init, (energy + kinetic) / (kinetic_init + energy_init)) = (Inf, 26.753207667880652)\n",
      "106.53206873187858\n",
      "(kinetic / kinetic_init, (energy + kinetic) / (kinetic_init + energy_init)) = (Inf, 27.110794496349982)\n",
      "108.19874334777877\n",
      "(kinetic / kinetic_init, (energy + kinetic) / (kinetic_init + energy_init)) = (Inf, 27.51945761788166)\n",
      "109.65707134316844\n",
      "(kinetic / kinetic_init, (energy + kinetic) / (kinetic_init + energy_init)) = (Inf, 27.877031593536135)\n",
      "111.11538787106535\n",
      "(kinetic / kinetic_init, (energy + kinetic) / (kinetic_init + energy_init)) = (Inf, 28.23459947189079)\n",
      "112.57369295873119\n",
      "(kinetic / kinetic_init, (energy + kinetic) / (kinetic_init + energy_init)) = (Inf, 28.592161062822317)\n",
      "114.03198660173273\n",
      "(kinetic / kinetic_init, (energy + kinetic) / (kinetic_init + energy_init)) = (Inf, 28.94971665774978)\n",
      "115.69859385339399\n",
      "(kinetic / kinetic_init, (energy + kinetic) / (kinetic_init + energy_init)) = (Inf, 29.358344772684887)\n",
      "117.15686288890996\n",
      "(kinetic / kinetic_init, (energy + kinetic) / (kinetic_init + energy_init)) = (Inf, 29.715888344190883)\n",
      "118.6151204553538\n",
      "(kinetic / kinetic_init, (energy + kinetic) / (kinetic_init + energy_init)) = (Inf, 30.073426058083896)\n",
      "120.07336656018212\n",
      "(kinetic / kinetic_init, (energy + kinetic) / (kinetic_init + energy_init)) = (Inf, 30.43095802366402)\n",
      "121.5316011814488\n",
      "(kinetic / kinetic_init, (energy + kinetic) / (kinetic_init + energy_init)) = (Inf, 30.788484598203894)\n",
      "123.19814094878919\n",
      "(kinetic / kinetic_init, (energy + kinetic) / (kinetic_init + energy_init)) = (Inf, 31.197079931239124)\n",
      "124.65635093152446\n",
      "(kinetic / kinetic_init, (energy + kinetic) / (kinetic_init + energy_init)) = (Inf, 31.554594975347854)\n",
      "126.11454943702208\n",
      "(kinetic / kinetic_init, (energy + kinetic) / (kinetic_init + energy_init)) = (Inf, 31.912104492098706)\n",
      "127.57273645465183\n",
      "(kinetic / kinetic_init, (energy + kinetic) / (kinetic_init + energy_init)) = (Inf, 32.26960875078322)\n",
      "129.0309119623308\n",
      "(kinetic / kinetic_init, (energy + kinetic) / (kinetic_init + energy_init)) = (Inf, 32.62710797753649)\n",
      "130.6973841604663\n",
      "(kinetic / kinetic_init, (energy + kinetic) / (kinetic_init + energy_init)) = (Inf, 33.035672264783535)\n",
      "132.15553501523866\n",
      "(kinetic / kinetic_init, (energy + kinetic) / (kinetic_init + energy_init)) = (Inf, 33.39316040647018)\n",
      "133.61367437251238\n",
      "(kinetic / kinetic_init, (energy + kinetic) / (kinetic_init + energy_init)) = (Inf, 33.75064346537945)\n",
      "135.07180221374784\n",
      "(kinetic / kinetic_init, (energy + kinetic) / (kinetic_init + energy_init)) = (Inf, 34.10812169383923)\n",
      "136.52991852891196\n",
      "(kinetic / kinetic_init, (energy + kinetic) / (kinetic_init + energy_init)) = (Inf, 34.46559511802508)\n",
      "138.19632307356906\n",
      "(kinetic / kinetic_init, (energy + kinetic) / (kinetic_init + energy_init)) = (Inf, 34.87413012293648)\n",
      "139.65441471932732\n",
      "(kinetic / kinetic_init, (energy + kinetic) / (kinetic_init + energy_init)) = (Inf, 35.23159299405296)\n",
      "141.11249484416098\n",
      "(kinetic / kinetic_init, (energy + kinetic) / (kinetic_init + energy_init)) = (Inf, 35.589051181092756)\n",
      "142.57056343464862\n",
      "(kinetic / kinetic_init, (energy + kinetic) / (kinetic_init + energy_init)) = (Inf, 35.94650478405004)\n",
      "144.028620494519\n",
      "(kinetic / kinetic_init, (energy + kinetic) / (kinetic_init + energy_init)) = (Inf, 36.30395370297613)\n",
      "145.69495731404618\n",
      "(kinetic / kinetic_init, (energy + kinetic) / (kinetic_init + energy_init)) = (Inf, 36.712460949397766)\n",
      "147.15298968336998\n",
      "(kinetic / kinetic_init, (energy + kinetic) / (kinetic_init + energy_init)) = (Inf, 37.069899885570315)\n",
      "148.61101051322876\n",
      "(kinetic / kinetic_init, (energy + kinetic) / (kinetic_init + energy_init)) = (Inf, 37.42733441239988)\n"
     ]
    },
    {
     "data": {
      "text/plain": [
       "Var([0.3, 1.29381, 2.28897, 3.28413, 4.27929, 5.27446, 6.26962, 7.26478, 8.25995, 9.25511  …  92.0, 93.0, 94.0, 95.0, 96.0, 97.0, 98.0, 99.0, 100.0, 101.0], [-2.0, -2.0, -2.0, -2.0, -2.0, -2.0, -2.0, -2.0, -2.0, -2.0  …  12.0, 12.0, 12.0, 12.0, 12.0, 12.0, 12.0, 12.0, 12.0, 12.0], [0.00176891, 0.00199646, 0.00199648, 0.00199651, 0.00199651, 0.00199655, 0.00199655, 0.00199659, 0.00199659, 0.00199663  …  9.30435e-7, 5.70729e-7, 3.4426e-7, 2.0408e-7, 1.18597e-7, 6.69475e-8, 3.54957e-8, 1.526e-8, 8.96591e-43, 1.526e-8], [-1.73119e-16, 1.26925e-16, -1.04473e-16, -3.83925e-16, -3.31965e-17, 2.38752e-16, 1.8772e-16, -1.41216e-16, -2.48775e-16, 4.00628e-16  …  2.45992e-15, 1.63166e-16, -7.47951e-16, 2.62352e-15, 1.58499e-15, -8.84087e-16, -1.75205e-15, -3.54943e-15, -3.17367e-15, -3.54943e-15], [8.98566, 8.97342, 8.97341, 8.97341, 8.9734, 8.97339, 8.97339, 8.97339, 8.97339, 8.97339  …  8.93002, 8.93001, 8.93001, 8.93, 8.93, 8.93, 8.93, 8.93, 8.93, 8.93], [0.00800921, 0.00682395, 0.00681998, 0.00681708, 0.00681488, 0.00681326, 0.00681211, 0.00681155, 0.00681139, 0.00681133  …  4.05367e-6, 2.88058e-6, 2.13939e-6, 1.6796e-6, 1.3997e-6, 1.23298e-6, 1.13674e-6, 1.08476e-6, 1.06213e-6, 1.06213e-6], [0.0006 -0.0003 9.72196e-17; -0.000585132 0.000292566 -4.73901e-16; … ; -2.68898e-8 1.34449e-8 -9.76129e-16; -2.68898e-8 1.34449e-8 9.76129e-16])"
      ]
     },
     "execution_count": 80,
     "metadata": {},
     "output_type": "execute_result"
    }
   ],
   "source": [
    "var,mz,I,J=Piston()\n",
    "#Output1\n",
    "var= TimeSolve(var,mz)"
   ]
  },
  {
   "cell_type": "code",
   "execution_count": null,
   "metadata": {},
   "outputs": [],
   "source": [
    "push!(LOAD_PATH,\"/home/bfly/workspace/Juliastudy/Src\")"
   ]
  },
  {
   "cell_type": "code",
   "execution_count": null,
   "metadata": {},
   "outputs": [],
   "source": [
    "uo,u,x,inter = Lag1DNum.Piston()\n",
    "uo,x  = Lag1DNum.TimeSolve(uo, x,inter)"
   ]
  },
  {
   "cell_type": "code",
   "execution_count": 82,
   "metadata": {},
   "outputs": [
    {
     "data": {
      "text/plain": [
       "([0.796903, 1.79139, 2.78655, 3.78171, 4.77687, 5.77204, 6.7672, 7.76237, 8.75753, 9.7527  …  91.5, 92.5, 93.5, 94.5, 95.5, 96.5, 97.5, 98.5, 99.5, 100.5], [-1.0, -1.0, -1.0, -1.0, -1.0, -1.0, -1.0, -1.0, -1.0, -1.0  …  11.0, 11.0, 11.0, 11.0, 11.0, 11.0, 11.0, 11.0, 11.0, 11.0])"
      ]
     },
     "execution_count": 82,
     "metadata": {},
     "output_type": "execute_result"
    }
   ],
   "source": [
    "rcell, zcell = cell_coordinate(var.r,var.z)"
   ]
  },
  {
   "cell_type": "code",
   "execution_count": 92,
   "metadata": {},
   "outputs": [],
   "source": [
    "using DelimitedFiles\n",
    "Output_point(I,J,var,mz)"
   ]
  },
  {
   "cell_type": "code",
   "execution_count": 66,
   "metadata": {},
   "outputs": [],
   "source": [
    "using PyPlot"
   ]
  },
  {
   "cell_type": "code",
   "execution_count": 84,
   "metadata": {
    "scrolled": true
   },
   "outputs": [
    {
     "data": {
      "image/png": "[encoded data removed]",
      "text/plain": [
       "Figure(PyObject <Figure size 640x480 with 1 Axes>)"
      ]
     },
     "metadata": {},
     "output_type": "display_data"
    },
    {
     "data": {
      "text/plain": [
       "1-element Array{PyCall.PyObject,1}:\n",
       " PyObject <matplotlib.lines.Line2D object at 0x7f97957e9c18>"
      ]
     },
     "execution_count": 84,
     "metadata": {},
     "output_type": "execute_result"
    }
   ],
   "source": [
    "plot(rcell[3:100],var.ρ[3:100])"
   ]
  },
  {
   "cell_type": "code",
   "execution_count": null,
   "metadata": {},
   "outputs": [],
   "source": [
    " function Pistonz()\n",
    "\n",
    "    global problem = prb(1.5e-4,0.3)\n",
    "    # global problem = prb(3e-5,0.3)\n",
    "     \n",
    "    I = 10\n",
    "    J = 100\n",
    "    dx = 0.1/I\n",
    "    dy = 1/J\n",
    "    \n",
    "    global   con1 = Const(9e7,8930,2.0,4.5e10,3940.0,1.49)\n",
    "    \n",
    "    Ip = (I+1)*(J+1) # Number of  points\n",
    "    Ic = I*J  # number of cells\n",
    "    \n",
    "    global Tp = zeros(Int,Ic,4) #格点\n",
    "    global Tc = zeros(Int,Ip,4) #点格\n",
    "    \n",
    "    #@show Tc, Ip\n",
    "    global Tb = zeros(Int, I*2+J*2,3) #边界 \n",
    "    \n",
    "    IBL = J+1\n",
    "    IBR = J+1\n",
    "    IBU = I+1\n",
    "    IBD = I+1\n",
    "   # 点格表，格点表初始化 \n",
    "    for i in 1:I \n",
    "        for j in 1:J\n",
    "            ic = i+(j-1)*I\n",
    "            Tp[ic,1] = i + (j-1)*(I+1)\n",
    "            Tp[ic,2] = i+1 +(j-1)*(I+1)\n",
    "            Tp[ic,3]=i+1+j*(I+1)\n",
    "            Tp[ic,4]=i+j*(I+1) \n",
    "        end\n",
    "    end\n",
    "    \n",
    "    for i = 1:I+1\n",
    "        for j = 1:J+1\n",
    "            ip = i+(j-1)*(I+1)\n",
    "            Tc[ip,1] = i +(j-1)*I #(i,j)\n",
    "            Tc[ip,2] = i-1+(j-1)*I #(i-1,j)\n",
    "            Tc[ip,3] = i-1+(j-2)*I #(i-1,j-1)\n",
    "            Tc[ip,4] = i+(j-2)*I   #(i,j-1)\n",
    "            end\n",
    "        end\n",
    "    \n",
    "\n",
    "# Bound \n",
    "  ib = 0\n",
    "    for i = 1:I+1\n",
    "        for j = 1:J+1\n",
    "            if i == 1 || i== I+1 ||  j == 1 || j == J+1\n",
    "                ib += 1\n",
    "                ic =i+(j-1)*I\n",
    "                #ic = Tc[ip]\n",
    "                Tb[ib,1] = ic\n",
    "                if i==1 \n",
    "                    Tb[ib,2] = 4 # 1->4 \n",
    "                    Tb[ib,3] = 2 # type 1:free 2:\n",
    "                end   \n",
    "                 if  i==I+1 \n",
    "                    Tb[ib,2] = 2 #bound type 1:free 2: wall ..  Tb[:,2] y direction\n",
    "                    Tb[ib,3] = 2\n",
    "                end\n",
    "            \n",
    "                if j==1 \n",
    "                    Tb[ib,2] = 1\n",
    "                    Tb[ib,3] = 1\n",
    "                end\n",
    "                if j==J+1\n",
    "                    Tb[ib,2] = 3 \n",
    "                    Tb[ib,3] = 1\n",
    "                end\n",
    "            end\n",
    "        end\n",
    "    end\n",
    "\n",
    "    #流场初始化 Init of the flow\n",
    "    \n",
    "    x = zeros(Float64,Ip)\n",
    "    y = zeros(Float64,Ip)\n",
    "    u = zeros(Float64,Ip)\n",
    "    v = zeros(Float64,Ip)\n",
    "    \n",
    "    ρ = zeros(Float64,Ic)\n",
    "    mz = zeros(Float64,Ic)\n",
    "    p = zeros(Float64,Ic)\n",
    "    Az= zeros(Float64,Ic)\n",
    "    σ = zeros(Float64,Ic,3)\n",
    "    \n",
    "    for i in 1:I+1\n",
    "        for j = 1:J+1\n",
    "            ip =i+(j-1)*(I+1)\n",
    "            x[ip] = (i-1)*dx\n",
    "            y[ip] = (j-1)*dy\n",
    "            u[ip] = 0\n",
    "            v[ip] = 0.0\n",
    "        end\n",
    "    end\n",
    "    \n",
    "    xz = zeros(Float64,4)\n",
    "    yz = zeros(Float64,4) \n",
    "    for i in 1:I\n",
    "        for j in 1:J\n",
    "            ic = i+(j-1)*I\n",
    "            xz[1:4] = x[Tp[ic,1:4]]\n",
    "            yz[1:4] = y[Tp[ic,1:4]]\n",
    "            A = A_z(xz,yz)\n",
    "            Az[ic] = sum(A) #[1]+A[2]+A[3]+A[4]\n",
    "          #  if i>=I/2\n",
    "               \n",
    "                p[ic] = 1.e5\n",
    "                ρ[ic] = 8930\n",
    "                mz[ic] = ρ[ic] * Az[ic]\n",
    "                σ[ic,1] = -p[ic]\n",
    "                σ[ic,2] = -p[ic]\n",
    "                σ[ic,3]= 0 \n",
    "#             else\n",
    "#                 mz[ic] = 1.0 * Az[ic]\n",
    "#                 p[ic] = 1.0\n",
    "#                 ρ[ic] = 1.0\n",
    "#             end\n",
    "        end\n",
    "    end\n",
    "    var = Var(x,y,u,v,ρ,p,σ)\n",
    "    return var,mz,I,J\n",
    "end"
   ]
  },
  {
   "cell_type": "code",
   "execution_count": null,
   "metadata": {},
   "outputs": [],
   "source": [
    "var,mz,I,J=Pistonz()\n",
    "#Output1\n",
    "var = TimeSolve(var,mz)"
   ]
  },
  {
   "cell_type": "code",
   "execution_count": null,
   "metadata": {},
   "outputs": [],
   "source": [
    "rcell, zcell = cell_coordinate(var.r,var.z)"
   ]
  },
  {
   "cell_type": "code",
   "execution_count": null,
   "metadata": {},
   "outputs": [],
   "source": [
    "plot3D(var.r,var.z,var.v)\n",
    "#triplot()"
   ]
  },
  {
   "cell_type": "code",
   "execution_count": null,
   "metadata": {},
   "outputs": [],
   "source": [
    "tricontourf(var.r,var.z,var.v)"
   ]
  },
  {
   "cell_type": "code",
   "execution_count": null,
   "metadata": {},
   "outputs": [],
   "source": [
    "? Const"
   ]
  },
  {
   "cell_type": "code",
   "execution_count": 95,
   "metadata": {},
   "outputs": [
    {
     "data": {
      "text/plain": [
       "Wilkins (generic function with 1 method)"
      ]
     },
     "execution_count": 95,
     "metadata": {},
     "output_type": "execute_result"
    }
   ],
   "source": [
    " function Wilkins()\n",
    "\n",
    "    global problem = prb(5,0.1)\n",
    "    # global problem = prb(3e-5,0.3)\n",
    "     \n",
    "    I =  400\n",
    "    J = 4\n",
    "    dx = 5/I\n",
    "    dy = 0.05/J\n",
    "\n",
    "    I1= I+1\n",
    "    J1= J+2\n",
    "    global   con1 = Const(3e-3,2.785,2.0,2.76e-1,0.5328,1.338)\n",
    "  #  global   con1 = Const(0.0,8930,2.0,4.5e10,3940.0,1.49)\n",
    "    Ip = (I1+1)*(J1+1) # Number of  points\n",
    "    Ic = I1*J1  # number of cells\n",
    "    \n",
    "    global Tp = zeros(Int,Ic,4) #格点\n",
    "    global Tc = zeros(Int,Ip,4) #点格\n",
    "    \n",
    "    #@show Tc, Ip\n",
    "    global Tb = zeros(Int, 2I1 + 2J1,4) #边界 \n",
    "    \n",
    "    ## Tb[i,1] ghost cell number\n",
    "    ## Tb[i,2] bound cell number\n",
    "    ## Tb[i,3] ghost cell point share with the bound \n",
    "    ## Tb[i,4] type of the boundary\n",
    "    \n",
    "    \n",
    "    \n",
    "   # 点格表，格点表初始化 \n",
    "    for i in 1:I1 \n",
    "        for j in 1:J1\n",
    "            ic = i+(j-1)*I1\n",
    "            Tp[ic,1] = i + (j-1)*(I1+1)\n",
    "            Tp[ic,2] = i+1 +(j-1)*(I1+1)\n",
    "            Tp[ic,3]=i+1+j*(I1+1)\n",
    "            Tp[ic,4]=i+j*(I1+1) \n",
    "        end\n",
    "    end\n",
    "    \n",
    "    for i = 1:I1+1\n",
    "        for j = 1:J1+1\n",
    "            ip =i+(j-1)*(I1+1)\n",
    "            Tc[ip,1] = i +(j-1)*I1 #(i,j)\n",
    "            Tc[ip,2] = i-1+(j-1)*I1 #(i-1,j)\n",
    "            Tc[ip,3] = i-1+(j-2)*I1 #(i-1,j-1)\n",
    "            Tc[ip,4] = i+(j-2)*I1   #(i,j-1)\n",
    "        end\n",
    "    end\n",
    "    \n",
    "\n",
    "# Bound \n",
    "  ib = 0\n",
    "        for j = 1:J1\n",
    "            i=1\n",
    "            ib += 1\n",
    "            ic =i+(j-1)*I1 \n",
    "            Tb[ib,1] = ic\n",
    "            Tb[ib,2] = (i+1)+(j-1)*I1\n",
    "            Tb[ib,3] = 4\n",
    "            Tb[ib,4] = 1\n",
    "        end\n",
    "    \n",
    "      for i = 1:I1-1\n",
    "            for j in (1,J1)\n",
    "                ib += 1\n",
    "                ic =i+(j-1)*I1\n",
    "                \n",
    "                Tb[ib,1] = ic\n",
    "               \n",
    "                if j==1 \n",
    "                    Tb[ib,2] = i+(j+1-1)*I1\n",
    "                    Tb[ib,3] = 3\n",
    "                    Tb[ib,4] = 2\n",
    "                end\n",
    "                if j==J1\n",
    "                    Tb[ib,2] = i+(j-1-1)*I1\n",
    "                    Tb[ib,3] = 1\n",
    "                    Tb[ib,4] = 2\n",
    "                end\n",
    "            end\n",
    "        end\n",
    "         for j = 1:J1\n",
    "             i = I1\n",
    "            ib += 1\n",
    "            ic =i+(j-1)*I1\n",
    "            Tb[ib,1] = ic\n",
    "             Tb[ib,2] = (i-1)+(j-1)*I1 #bound type 1:free 2: wall ..  Tb[:,2] y direction\n",
    "             Tb[ib,3] = 4\n",
    "             Tb[ib,4] = 2\n",
    "         end\n",
    "    \n",
    "    #流场初始化 Init of the flow\n",
    "    \n",
    "    x = zeros(Float64,Ip)\n",
    "    y = zeros(Float64,Ip)\n",
    "    u = zeros(Float64,Ip)\n",
    "    v = zeros(Float64,Ip)\n",
    "    \n",
    "    ρ = zeros(Float64,Ic)\n",
    "    mz = zeros(Float64,Ic)\n",
    "    p = zeros(Float64,Ic)\n",
    "    Az= zeros(Float64,Ic)\n",
    "    s = zeros(Float64,Ic,3)\n",
    "    \n",
    "    for i in 1:I1+1\n",
    "        for j = 1:J1+1\n",
    "            ip =i+(j-1)*(I1+1)\n",
    "            x[ip] = (i-1)*dx\n",
    "            y[ip] = (j-2)*dy\n",
    "            if x[ip]< 0.5\n",
    "                u[ip] = 0.08\n",
    "                v[ip] = 0.0\n",
    "            else \n",
    "                u[ip] = 0.0\n",
    "                v[ip] = 0.0\n",
    "            end\n",
    "        end\n",
    "    end\n",
    "    \n",
    "      \n",
    "    \n",
    "    var = Var(x,y,u,v,ρ,p,s)\n",
    "    x,y = bound_ghost_coordinate!(x,y,u,v)\n",
    "  #  x,y = bound_ghost_coordinate!(x,y)\n",
    "    xz = zeros(Float64,4)\n",
    "    yz = zeros(Float64,4) \n",
    "    for i in 1:I1\n",
    "        for j in 1:J1\n",
    "            ic = i+(j-1)*(I1)\n",
    "            xz[1:4] = x[Tp[ic,1:4]]\n",
    "            yz[1:4] = y[Tp[ic,1:4]]\n",
    "            A = A_z(xz,yz)\n",
    "            Az[ic] = sum(A)\n",
    "                p[ic] = 1.e-18\n",
    "                ρ[ic] = 2.785\n",
    "                mz[ic] = ρ[ic] * Az[ic]\n",
    "                s[ic,:] .= 0       \n",
    "        end\n",
    "    end \n",
    "    return var,mz,I1,J1\n",
    "end"
   ]
  },
  {
   "cell_type": "code",
   "execution_count": 96,
   "metadata": {},
   "outputs": [
    {
     "name": "stdout",
     "output_type": "stream",
     "text": [
      "0.05143986856062938\n",
      "(kinetic / kinetic_init, (energy + kinetic) / (kinetic_init + energy_init)) = (0.9576529052022418, 1.0000020552562126)\n",
      "0.1009308836937352\n",
      "(kinetic / kinetic_init, (energy + kinetic) / (kinetic_init + energy_init)) = (0.924485596565072, 1.0000023808843361)\n",
      "0.15042838441260276\n",
      "(kinetic / kinetic_init, (energy + kinetic) / (kinetic_init + energy_init)) = (0.8922277208971008, 1.0000025051627723)\n",
      "0.20149534130917332\n",
      "(kinetic / kinetic_init, (energy + kinetic) / (kinetic_init + energy_init)) = (0.859395787191301, 1.000002584151776)\n",
      "0.25095592360773084\n",
      "(kinetic / kinetic_init, (energy + kinetic) / (kinetic_init + energy_init)) = (0.827866232325381, 1.0000026390535615)\n",
      "0.3004095833491887\n",
      "(kinetic / kinetic_init, (energy + kinetic) / (kinetic_init + energy_init)) = (0.7965268894616614, 1.000002681782194)\n",
      "0.35145374490696285\n",
      "(kinetic / kinetic_init, (energy + kinetic) / (kinetic_init + energy_init)) = (0.7643258594066448, 1.0000027178231656)\n",
      "0.4008992960590294\n",
      "(kinetic / kinetic_init, (energy + kinetic) / (kinetic_init + energy_init)) = (0.733244193325649, 1.0000027473809423)\n",
      "0.45034226276729117\n",
      "(kinetic / kinetic_init, (energy + kinetic) / (kinetic_init + energy_init)) = (0.7022528721595502, 1.0000027729023022)\n",
      "0.5013780588241493\n",
      "(kinetic / kinetic_init, (energy + kinetic) / (kinetic_init + energy_init)) = (0.6703406139226399, 1.0000027961910163)\n",
      "0.5508174619242405\n",
      "(kinetic / kinetic_init, (energy + kinetic) / (kinetic_init + energy_init)) = (0.6394900931328864, 1.0000028163829666)\n",
      "0.6002557090506853\n",
      "(kinetic / kinetic_init, (energy + kinetic) / (kinetic_init + energy_init)) = (0.6086990449879321, 1.0000028346961163)\n",
      "0.6512877546069782\n",
      "(kinetic / kinetic_init, (energy + kinetic) / (kinetic_init + energy_init)) = (0.5770318389843303, 1.0000028522170903)\n",
      "0.7007242433351016\n",
      "(kinetic / kinetic_init, (energy + kinetic) / (kinetic_init + energy_init)) = (0.5468041764180394, 1.0000028682255973)\n",
      "0.7501600612540547\n",
      "(kinetic / kinetic_init, (energy + kinetic) / (kinetic_init + energy_init)) = (0.5182610391276465, 1.0000028829521521)\n",
      "0.8011899839412291\n",
      "(kinetic / kinetic_init, (energy + kinetic) / (kinetic_init + energy_init)) = (0.49347269397118465, 1.0000028964946066)\n",
      "0.8506247189358678\n",
      "(kinetic / kinetic_init, (energy + kinetic) / (kinetic_init + energy_init)) = (0.47793142615832124, 1.0000029041670189)\n",
      "0.9000590229157607\n",
      "(kinetic / kinetic_init, (energy + kinetic) / (kinetic_init + energy_init)) = (0.47125366185629664, 1.0000029146839466)\n",
      "0.9510875801350396\n",
      "(kinetic / kinetic_init, (energy + kinetic) / (kinetic_init + energy_init)) = (0.46843463232597965, 1.0000029280865337)\n",
      "1.0005211454237846\n",
      "(kinetic / kinetic_init, (energy + kinetic) / (kinetic_init + energy_init)) = (0.46676311635757944, 1.0000029385613107)\n",
      "1.051549019455124\n",
      "(kinetic / kinetic_init, (energy + kinetic) / (kinetic_init + energy_init)) = (0.46528450407903826, 1.000002948535913)\n",
      "1.1009819909486271\n",
      "(kinetic / kinetic_init, (energy + kinetic) / (kinetic_init + energy_init)) = (0.4639132212485566, 1.000002957812565)\n",
      "1.1504147133820668\n",
      "(kinetic / kinetic_init, (energy + kinetic) / (kinetic_init + energy_init)) = (0.4625596912815434, 1.0000029667823076)\n",
      "1.2014418039853374\n",
      "(kinetic / kinetic_init, (energy + kinetic) / (kinetic_init + energy_init)) = (0.46117114755087263, 1.0000029756915632)\n",
      "1.2508740871506365\n",
      "(kinetic / kinetic_init, (energy + kinetic) / (kinetic_init + energy_init)) = (0.4598325990397986, 1.000002983930097)\n",
      "1.3003061809739385\n",
      "(kinetic / kinetic_init, (energy + kinetic) / (kinetic_init + energy_init)) = (0.4585003967678301, 1.0000029917817146)\n",
      "1.3513326764268105\n",
      "(kinetic / kinetic_init, (energy + kinetic) / (kinetic_init + energy_init)) = (0.4571320889683509, 1.000002999490616)\n",
      "1.400764432756003\n",
      "(kinetic / kinetic_init, (energy + kinetic) / (kinetic_init + energy_init)) = (0.4558136190235483, 1.000003006603794)\n",
      "1.4501960443466937\n",
      "(kinetic / kinetic_init, (energy + kinetic) / (kinetic_init + energy_init)) = (0.45450682848846446, 1.0000030133894706)\n",
      "1.5012220846838975\n",
      "(kinetic / kinetic_init, (energy + kinetic) / (kinetic_init + energy_init)) = (0.4531714992533877, 1.000003020204015)\n",
      "1.5506534379428505\n",
      "(kinetic / kinetic_init, (energy + kinetic) / (kinetic_init + energy_init)) = (0.4519177495798735, 1.0000030263862723)\n",
      "1.6000846784787734\n",
      "(kinetic / kinetic_init, (energy + kinetic) / (kinetic_init + energy_init)) = (0.45068157864002967, 1.0000030323147169)\n",
      "1.6511103646351883\n",
      "(kinetic / kinetic_init, (energy + kinetic) / (kinetic_init + energy_init)) = (0.44939528855284117, 1.0000030381800955)\n",
      "1.70054139715418\n",
      "(kinetic / kinetic_init, (energy + kinetic) / (kinetic_init + energy_init)) = (0.44813328625773646, 1.000003043583289)\n",
      "1.751566881869879\n",
      "(kinetic / kinetic_init, (energy + kinetic) / (kinetic_init + energy_init)) = (0.44682545899321097, 1.0000030489576377)\n",
      "1.8009977302329863\n",
      "(kinetic / kinetic_init, (energy + kinetic) / (kinetic_init + energy_init)) = (0.4455549078920876, 1.0000030539924198)\n",
      "1.8504284962665487\n",
      "(kinetic / kinetic_init, (energy + kinetic) / (kinetic_init + energy_init)) = (0.4442800009433876, 1.0000030588477686)\n",
      "1.9014537219228707\n",
      "(kinetic / kinetic_init, (energy + kinetic) / (kinetic_init + energy_init)) = (0.44296147439774447, 1.000003063659372)\n",
      "1.9508843358328887\n",
      "(kinetic / kinetic_init, (energy + kinetic) / (kinetic_init + energy_init)) = (0.4416839431333295, 1.0000030681753524)\n",
      "2.0003148812265126\n",
      "(kinetic / kinetic_init, (energy + kinetic) / (kinetic_init + energy_init)) = (0.4404074345354109, 1.0000030725540245)\n",
      "2.05133989221395\n",
      "(kinetic / kinetic_init, (energy + kinetic) / (kinetic_init + energy_init)) = (0.4390913452534968, 1.0000030769440307)\n",
      "2.1007703084941545\n",
      "(kinetic / kinetic_init, (energy + kinetic) / (kinetic_init + energy_init)) = (0.4378181614018756, 1.000003081082022)\n",
      "2.150200665171224\n",
      "(kinetic / kinetic_init, (energy + kinetic) / (kinetic_init + energy_init)) = (0.43654682716160587, 1.0000030851107633)\n",
      "2.2012254901934103\n",
      "(kinetic / kinetic_init, (energy + kinetic) / (kinetic_init + energy_init)) = (0.43523650388883833, 1.0000030891615055)\n",
      "2.2506557356691306\n",
      "(kinetic / kinetic_init, (energy + kinetic) / (kinetic_init + energy_init)) = (0.43396904470728725, 1.0000030929875225)\n",
      "2.3000859313213984\n",
      "(kinetic / kinetic_init, (energy + kinetic) / (kinetic_init + energy_init)) = (0.43270329461358487, 1.0000030967232014)\n",
      "2.3511106002384707\n",
      "(kinetic / kinetic_init, (energy + kinetic) / (kinetic_init + energy_init)) = (0.4313986164565263, 1.000003100490007)\n",
      "2.400540702933092\n",
      "(kinetic / kinetic_init, (energy + kinetic) / (kinetic_init + energy_init)) = (0.4301365977501337, 1.000003104059416)\n",
      "2.4515652798110605\n",
      "(kinetic / kinetic_init, (energy + kinetic) / (kinetic_init + energy_init)) = (0.42883564211169395, 1.0000031076636313)\n",
      "2.5009952971986253\n",
      "(kinetic / kinetic_init, (energy + kinetic) / (kinetic_init + energy_init)) = (0.427577059106137, 1.000003111083916)\n",
      "2.550425276043614\n",
      "(kinetic / kinetic_init, (energy + kinetic) / (kinetic_init + energy_init)) = (0.4263201533035018, 1.000003114435166)\n",
      "2.6014497321056154\n",
      "(kinetic / kinetic_init, (energy + kinetic) / (kinetic_init + energy_init)) = (0.42502441423201065, 1.0000031178281568)\n",
      "2.6508796385787172\n",
      "(kinetic / kinetic_init, (energy + kinetic) / (kinetic_init + energy_init)) = (0.42377078078722413, 1.0000031210521334)\n",
      "2.700309511379881\n",
      "(kinetic / kinetic_init, (energy + kinetic) / (kinetic_init + energy_init)) = (0.422518697205856, 1.0000031242194476)\n",
      "2.7513338621548593\n",
      "(kinetic / kinetic_init, (energy + kinetic) / (kinetic_init + energy_init)) = (0.42122781073333926, 1.0000031274301044)\n",
      "2.800763671278488\n",
      "(kinetic / kinetic_init, (energy + kinetic) / (kinetic_init + energy_init)) = (0.41997876001190704, 1.000003130488445)\n",
      "2.85019345196925\n",
      "(kinetic / kinetic_init, (energy + kinetic) / (kinetic_init + energy_init)) = (0.41873114185935245, 1.0000031334969985)\n",
      "2.9012177137482587\n",
      "(kinetic / kinetic_init, (energy + kinetic) / (kinetic_init + energy_init)) = (0.41744473727699843, 1.000003136552927)\n",
      "2.9506474411816184\n",
      "(kinetic / kinetic_init, (energy + kinetic) / (kinetic_init + energy_init)) = (0.41619990917300076, 1.0000031394670057)\n",
      "3.0000771446693135\n",
      "(kinetic / kinetic_init, (energy + kinetic) / (kinetic_init + energy_init)) = (0.41495639723892697, 1.0000031423381242)\n"
     ]
    },
    {
     "name": "stdout",
     "output_type": "stream",
     "text": [
      "3.0511013324424767\n",
      "(kinetic / kinetic_init, (energy + kinetic) / (kinetic_init + energy_init)) = (0.41367411660762893, 1.0000031452577793)\n",
      "3.1005309960028304\n",
      "(kinetic / kinetic_init, (energy + kinetic) / (kinetic_init + energy_init)) = (0.4124331723345424, 1.0000031480458358)\n",
      "3.151555149830334\n",
      "(kinetic / kinetic_init, (energy + kinetic) / (kinetic_init + energy_init)) = (0.41115347046294803, 1.0000031508840472)\n",
      "3.200984788521104\n",
      "(kinetic / kinetic_init, (energy + kinetic) / (kinetic_init + energy_init)) = (0.40991495841951153, 1.0000031535967646)\n",
      "3.250414425059848\n",
      "(kinetic / kinetic_init, (energy + kinetic) / (kinetic_init + energy_init)) = (0.4086775955800602, 1.000003156274758)\n",
      "3.3014385742131966\n",
      "(kinetic / kinetic_init, (energy + kinetic) / (kinetic_init + energy_init)) = (0.40740148987038066, 1.0000031590036509)\n",
      "3.3508682372106042\n",
      "(kinetic / kinetic_init, (energy + kinetic) / (kinetic_init + energy_init)) = (0.4061663694538201, 1.0000031616144665)\n",
      "3.4002979359047596\n",
      "(kinetic / kinetic_init, (energy + kinetic) / (kinetic_init + energy_init)) = (0.4049323088409484, 1.0000031641937)\n",
      "3.451322196823751\n",
      "(kinetic / kinetic_init, (energy + kinetic) / (kinetic_init + energy_init)) = (0.40365952326452426, 1.0000031668253588)\n",
      "3.5007520284836144\n",
      "(kinetic / kinetic_init, (energy + kinetic) / (kinetic_init + energy_init)) = (0.4024275352747653, 1.000003169345104)\n",
      "3.5501819639556063\n",
      "(kinetic / kinetic_init, (energy + kinetic) / (kinetic_init + energy_init)) = (0.401196530040532, 1.0000031718376505)\n",
      "3.6012065584883337\n",
      "(kinetic / kinetic_init, (energy + kinetic) / (kinetic_init + energy_init)) = (0.399926820419803, 1.0000031743824649)\n",
      "3.650636809834309\n",
      "(kinetic / kinetic_init, (energy + kinetic) / (kinetic_init + energy_init)) = (0.39869774015248116, 1.000003176822211)\n",
      "3.7000672846678047\n",
      "(kinetic / kinetic_init, (energy + kinetic) / (kinetic_init + energy_init)) = (0.3974695752722151, 1.0000031792368704)\n",
      "3.7510925699363837\n",
      "(kinetic / kinetic_init, (energy + kinetic) / (kinetic_init + energy_init)) = (0.3962027318171289, 1.0000031817044195)\n",
      "3.8005236550344366\n",
      "(kinetic / kinetic_init, (energy + kinetic) / (kinetic_init + energy_init)) = (0.3949763693702574, 1.000003184071245)\n",
      "3.851549707683063\n",
      "(kinetic / kinetic_init, (energy + kinetic) / (kinetic_init + energy_init)) = (0.3937113501785066, 1.0000031864912928)\n",
      "3.9009816757538283\n",
      "(kinetic / kinetic_init, (energy + kinetic) / (kinetic_init + energy_init)) = (0.3924867242858603, 1.0000031888136909)\n",
      "3.950414217609312\n",
      "(kinetic / kinetic_init, (energy + kinetic) / (kinetic_init + energy_init)) = (0.3912629333426181, 1.0000031911156493)\n",
      "4.0014420489013895\n",
      "(kinetic / kinetic_init, (energy + kinetic) / (kinetic_init + energy_init)) = (0.3900005305056747, 1.000003193471194)\n",
      "4.050876058060695\n",
      "(kinetic / kinetic_init, (energy + kinetic) / (kinetic_init + energy_init)) = (0.38877840650952744, 1.000003195733614)\n",
      "4.100310983456931\n",
      "(kinetic / kinetic_init, (energy + kinetic) / (kinetic_init + energy_init)) = (0.3875570919435997, 1.0000031979774957)\n",
      "4.151341677556632\n",
      "(kinetic / kinetic_init, (energy + kinetic) / (kinetic_init + energy_init)) = (0.3862972250501454, 1.0000032002747372)\n",
      "4.200778920871238\n",
      "(kinetic / kinetic_init, (energy + kinetic) / (kinetic_init + energy_init)) = (0.3850775445645784, 1.0000032024828327)\n",
      "4.250217563000563\n",
      "(kinetic / kinetic_init, (energy + kinetic) / (kinetic_init + energy_init)) = (0.38385866776660826, 1.0000032046743201)\n",
      "4.301252679567345\n",
      "(kinetic / kinetic_init, (energy + kinetic) / (kinetic_init + energy_init)) = (0.3826013186722954, 1.000003206920357)\n",
      "4.350694846493476\n",
      "(kinetic / kinetic_init, (energy + kinetic) / (kinetic_init + energy_init)) = (0.3813840869194286, 1.0000032090811686)\n",
      "4.400139087620447\n",
      "(kinetic / kinetic_init, (energy + kinetic) / (kinetic_init + energy_init)) = (0.38016767695783477, 1.0000032112278572)\n",
      "4.45118080838158\n",
      "(kinetic / kinetic_init, (energy + kinetic) / (kinetic_init + energy_init)) = (0.37891290245711823, 1.0000032134295638)\n",
      "4.500630239629399\n",
      "(kinetic / kinetic_init, (energy + kinetic) / (kinetic_init + energy_init)) = (0.3776982024842676, 1.0000032155497924)\n",
      "4.550082668317788\n",
      "(kinetic / kinetic_init, (energy + kinetic) / (kinetic_init + energy_init)) = (0.37648437458536116, 1.0000032176587361)\n",
      "4.601133972092895\n",
      "(kinetic / kinetic_init, (energy + kinetic) / (kinetic_init + energy_init)) = (0.3752323316367871, 1.0000032198252278)\n",
      "4.650593838298593\n",
      "(kinetic / kinetic_init, (energy + kinetic) / (kinetic_init + energy_init)) = (0.3740203615759355, 1.0000032219156543)\n",
      "4.700057946915291\n",
      "(kinetic / kinetic_init, (energy + kinetic) / (kinetic_init + energy_init)) = (0.37280936536724857, 1.0000032239993144)\n",
      "4.751122790381117\n",
      "(kinetic / kinetic_init, (energy + kinetic) / (kinetic_init + energy_init)) = (0.3715603727212844, 1.0000032261448117)\n",
      "4.8005972814681455\n",
      "(kinetic / kinetic_init, (energy + kinetic) / (kinetic_init + energy_init)) = (0.3703515028317796, 1.000003228220326)\n",
      "4.850077670128139\n",
      "(kinetic / kinetic_init, (energy + kinetic) / (kinetic_init + energy_init)) = (0.3691437703125826, 1.0000032302948594)\n",
      "4.901161198376188\n",
      "(kinetic / kinetic_init, (energy + kinetic) / (kinetic_init + energy_init)) = (0.3678983431776741, 1.0000032324369064)\n",
      "4.9506557001937\n",
      "(kinetic / kinetic_init, (energy + kinetic) / (kinetic_init + energy_init)) = (0.36669314814889487, 1.0000032345167267)\n",
      "5.0\n",
      "(kinetic / kinetic_init, (energy + kinetic) / (kinetic_init + energy_init)) = (0.36549318329929836, 1.0000032365794873)\n"
     ]
    },
    {
     "data": {
      "text/plain": [
       "Var([0.0688087, 0.0813043, 0.0937763, 0.106251, 0.118728, 0.131206, 0.143686, 0.156166, 0.168647, 0.181128  …  4.9, 4.9125, 4.925, 4.9375, 4.95, 4.9625, 4.975, 4.9875, 5.0, 5.0125], [-0.0125, -0.0125, -0.0125, -0.0125, -0.0125, -0.0125, -0.0125, -0.0125, -0.0125, -0.0125  …  0.0625, 0.0625, 0.0625, 0.0625, 0.0625, 0.0625, 0.0625, 0.0625, 0.0625, 0.0625], [0.000672368, 0.000672367, 0.000672365, 0.000672361, 0.000672356, 0.000672348, 0.00067234, 0.00067233, 0.000672318, 0.000672304  …  2.32565e-14, -8.89666e-15, 3.7346e-14, -2.45117e-14, 4.52135e-15, 2.68817e-14, 1.67572e-14, -4.39414e-14, 3.44993e-43, -4.39414e-14], [3.18005e-16, -1.90588e-16, -1.42397e-15, -1.55688e-15, 5.57424e-16, 1.404e-15, 6.26329e-16, -4.16751e-16, -5.68185e-16, 5.8446e-16  …  2.50037e-14, -5.24514e-15, -1.19295e-14, 7.74263e-15, 3.30606e-14, 3.29658e-14, 3.52341e-14, 1.19463e-15, -4.99225e-14, 1.19463e-15], [2.78598, 2.79125, 2.79063, 2.79017, 2.78984, 2.78958, 2.78938, 2.78924, 2.78914, 2.78907  …  2.785, 2.785, 2.785, 2.785, 2.785, 2.785, 2.785, 2.785, 2.785, 2.785], [0.000286345, 0.00195982, 0.00195237, 0.00195861, 0.00196722, 0.00197049, 0.00197144, 0.00197103, 0.00196988, 0.00196705  …  -2.10656e-13, -1.40437e-13, 2.80876e-13, 2.10658e-13, 1.0e-18, 1.40439e-13, 2.80876e-13, -7.02179e-14, -2.80874e-13, -2.80874e-13], [0.000286451 -0.000143225 1.97842e-17; 0.00196013 -0.000980067 2.65045e-16; … ; -6.48809e-14 -1.5514e-14 -1.87031e-14; -6.48809e-14 -1.5514e-14 1.87031e-14])"
      ]
     },
     "execution_count": 96,
     "metadata": {},
     "output_type": "execute_result"
    }
   ],
   "source": [
    "var,mz,I,J=Wilkins()\n",
    "#Output1\n",
    "var = TimeSolve(var,mz)"
   ]
  },
  {
   "cell_type": "markdown",
   "metadata": {},
   "source": [
    "## 单位变换"
   ]
  },
  {
   "cell_type": "markdown",
   "metadata": {},
   "source": [
    "$$ 1kg/m^3 = 10^{-3} g/cm^3$$\n",
    "$$1m/s = 10^{-4} cm/\\mu s$$\n",
    "$$ 1Pa = 1N/m^2 = 1kg/(m\\cdot s^2) = (1000g)/(100cm \\cdot 10^{12} \\mu s^2) = 10^{-11} g/(cm \\cdot s^2)$$ "
   ]
  },
  {
   "cell_type": "code",
   "execution_count": 45,
   "metadata": {},
   "outputs": [
    {
     "data": {
      "text/plain": [
       "Collapse (generic function with 1 method)"
      ]
     },
     "execution_count": 45,
     "metadata": {},
     "output_type": "execute_result"
    }
   ],
   "source": [
    " function Collapse()\n",
    "\n",
    "    global problem = prb(1.3e2,0.3)\n",
    "  #  global problem = prb(50,0.3)\n",
    "    # global problem = prb(5e-5,0.3)\n",
    "    \n",
    "    I = 40\n",
    "    J = 36\n",
    "    dr = 2.0/J\n",
    "    dθ = 90/I\n",
    "    \n",
    "    I1 = I +2\n",
    "    J1 = J\n",
    "    \n",
    "    global   con1 = Const(3.3e-3,1.845,2.0,1.519,1.287,1.124)\n",
    "    \n",
    "    Ip = (I1+1)*(J1+1) # Number of  points\n",
    "    Ic = I1*J1  # number of cells\n",
    "    \n",
    "     Ip = (I1+1)*(J1+1) # Number of  points\n",
    "    Ic = I1*J1  # number of cells\n",
    "    \n",
    "    global Tp = zeros(Int,Ic,4) #格点\n",
    "    global Tc = zeros(Int,Ip,4) #点格\n",
    "    \n",
    "    #@show Tc, Ip\n",
    "    global Tb = zeros(Int, 2I1 + 2J1,4) #边界 \n",
    "    \n",
    "    ## Tb[i,1] ghost cell number\n",
    "    ## Tb[i,2] bound cell number\n",
    "    ## Tb[i,3] ghost cell point share with the bound \n",
    "    ## Tb[i,4] type of the boundary\n",
    "    \n",
    "    \n",
    "    \n",
    "   # 点格表，格点表初始化 \n",
    "    for i in 1:I1 \n",
    "        for j in 1:J1\n",
    "            ic = i+(j-1)*I1\n",
    "            Tp[ic,1] = i + (j-1)*(I1+1)\n",
    "            Tp[ic,2] = i+1 +(j-1)*(I1+1)\n",
    "            Tp[ic,3]=i+1+j*(I1+1)\n",
    "            Tp[ic,4]=i+j*(I1+1) \n",
    "        end\n",
    "    end\n",
    "    \n",
    "    for i = 1:I1+1\n",
    "        for j = 1:J1+1\n",
    "            ip =i+(j-1)*(I1+1)\n",
    "            Tc[ip,1] = i +(j-1)*I1 #(i,j)\n",
    "            Tc[ip,2] = i-1+(j-1)*I1 #(i-1,j)\n",
    "            Tc[ip,3] = i-1+(j-2)*I1 #(i-1,j-1)\n",
    "            Tc[ip,4] = i+(j-2)*I1   #(i,j-1)\n",
    "        end\n",
    "    end\n",
    "    \n",
    "\n",
    "# Bound \n",
    "  ib = 0\n",
    "        for j = 1:J1\n",
    "            i=1\n",
    "            ib += 1\n",
    "            ic =i+(j-1)*I1 \n",
    "            Tb[ib,1] = ic\n",
    "            Tb[ib,2] = (i+1)+(j-1)*I1\n",
    "            Tb[ib,3] = 2\n",
    "            Tb[ib,4] = 2\n",
    "        end\n",
    "         for j = 1:J1\n",
    "             i = I1\n",
    "            ib += 1\n",
    "            ic =i+(j-1)*I1\n",
    "            Tb[ib,1] = ic\n",
    "             Tb[ib,2] = (i-1)+(j-1)*I1 #bound type 1:free 2: wall ..  Tb[:,2] y direction\n",
    "             Tb[ib,3] = 4\n",
    "             Tb[ib,4] = 2\n",
    "         end\n",
    "      for i = 1:I1\n",
    "            for j in (1,J1)\n",
    "                ib += 1\n",
    "                ic =i+(j-1)*I1\n",
    "                \n",
    "                Tb[ib,1] = ic\n",
    "               \n",
    "                if j==1 \n",
    "                    Tb[ib,2] = i+(j+1-1)*I1\n",
    "                    Tb[ib,3] = 1\n",
    "                    Tb[ib,4] = 1\n",
    "                end\n",
    "                if j==J1\n",
    "                    Tb[ib,2] = i+(j-1-1)*I1\n",
    "                    Tb[ib,3] = 3\n",
    "                    Tb[ib,4] = 1\n",
    "                end\n",
    "            end\n",
    "        end\n",
    "        \n",
    "    #流场初始化 Init of the flow\n",
    "    \n",
    "    x = zeros(Float64,Ip)\n",
    "    y = zeros(Float64,Ip)\n",
    "    u = zeros(Float64,Ip)\n",
    "    v = zeros(Float64,Ip)\n",
    "    \n",
    "    ρ = zeros(Float64,Ic)\n",
    "    mz = zeros(Float64,Ic)\n",
    "    p = zeros(Float64,Ic)\n",
    "    Az= zeros(Float64,Ic)\n",
    "    s = zeros(Float64,Ic,3)\n",
    "    \n",
    "    for i in 1:I1+1\n",
    "        for j = 1:J1+1\n",
    "            ip =i+(j-1)*(I1+1)\n",
    "            r₁ = (j-1)*dr+8\n",
    "            θ = 90-(i-2)*dθ\n",
    "            v₀ = 4.171e-2\n",
    "            x[ip] = cosd(θ)*r₁\n",
    "            y[ip] = sind(θ)*r₁\n",
    "            u[ip] = -v₀*8/r₁ *cosd(θ)\n",
    "            v[ip] = -v₀*8/r₁ *sind(θ)\n",
    "        end\n",
    "    end\n",
    "      \n",
    "    \n",
    "    var = Var(x,y,u,v,ρ,p,s)\n",
    "    x,y,u,v = bound_ghost_coordinate!(x,y,u,v)\n",
    "    xz = zeros(Float64,4)\n",
    "    yz = zeros(Float64,4) \n",
    "    for i in 1:I1\n",
    "        for j in 1:J1\n",
    "            ic = i+(j-1)*(I1)\n",
    "            xz[1:4] = x[Tp[ic,1:4]]\n",
    "            yz[1:4] = y[Tp[ic,1:4]]\n",
    "            A = A_z(xz,yz)\n",
    "            Az[ic] = sum(A)\n",
    "                p[ic] = 1.e-5\n",
    "                ρ[ic] = 1.845\n",
    "                mz[ic] = ρ[ic] * Az[ic]\n",
    "                s[ic,:] .= 0       \n",
    "        end\n",
    "    end \n",
    "    return var,mz,I1,J1\n",
    "end"
   ]
  },
  {
   "cell_type": "code",
   "execution_count": 46,
   "metadata": {},
   "outputs": [
    {
     "name": "stdout",
     "output_type": "stream",
     "text": [
      "1.306388899618537\n",
      "2.6007934654595632\n",
      "3.903120539023679\n",
      "5.201394400856026\n",
      "6.505927114784313\n",
      "7.805620356693828\n",
      "9.101480156946135\n",
      "10.4027174509665\n",
      "11.709738718953117\n",
      "13.002136368231024\n",
      "14.310107051084856\n",
      "15.603356787443797\n",
      "16.901926536003543\n",
      "18.206048423049953\n",
      "19.50535870767589\n",
      "20.809916819234786\n",
      "22.109548182004016\n",
      "23.403866898533938\n",
      "24.70344551855601\n",
      "26.008474988943746\n",
      "27.307925347347094\n",
      "28.601874104276803\n",
      "29.900997001931426\n",
      "31.20517633107433\n",
      "32.50366191153024\n",
      "33.80715908603987\n",
      "35.10466476205294\n",
      "36.40719672714658\n",
      "37.70351610660673\n",
      "39.004711425179046\n",
      "40.31078479989339\n",
      "41.61041525915215\n",
      "42.90355378507308\n",
      "44.201339161092335\n",
      "45.50371507756577\n",
      "46.810733888651875\n",
      "48.11090615205557\n",
      "49.404082779205794\n",
      "50.701676436660044\n",
      "52.00361971365666\n",
      "53.30989225922894\n",
      "54.60888345728302\n",
      "55.90041421498935\n",
      "57.20773730497033\n",
      "58.5074994855216\n",
      "59.81129156375472\n",
      "61.107292519992264\n",
      "62.40721182188578\n",
      "63.71098828867963\n",
      "65.0066907108897\n",
      "66.30612874092131\n",
      "67.60924225163363\n",
      "68.90399309645987\n",
      "70.20228916667854\n",
      "71.50407069992525\n",
      "72.80929801391585\n",
      "74.10580279475471\n",
      "75.40559501120863\n",
      "76.70862879310526\n",
      "78.00264208407306\n",
      "79.31198948411915\n",
      "80.61214524487316\n",
      "81.90298094427905\n",
      "83.20902343830079\n",
      "84.50557343336708\n",
      "85.8048915322597\n",
      "87.10691721113919\n",
      "88.41158834248996\n",
      "89.7063902168115\n",
      "91.00367583723609\n",
      "92.30338022197039\n",
      "93.60544679652752\n",
      "94.90981399385312\n",
      "96.20383952910329\n",
      "97.51258843852199\n",
      "98.81083020471289\n",
      "100.1110697537147\n",
      "101.40059016018027\n",
      "102.7046123951013\n",
      "104.01043268402479\n",
      "105.30527858450566\n",
      "106.6017541797615\n",
      "107.91252272832592\n",
      "109.21206084743586\n",
      "110.50025748519492\n",
      "111.80255072579449\n",
      "113.10611954382145\n",
      "114.41089281784905\n",
      "115.70398964269607\n",
      "117.01094131323453\n",
      "118.3060493354528\n",
      "119.60205015001189\n",
      "120.91171318988073\n",
      "122.20928493757062\n",
      "123.50752838358696\n",
      "124.80636849016553\n",
      "126.10573069072005\n",
      "127.40554122545623\n",
      "128.70572456168412\n",
      "130.0\n"
     ]
    },
    {
     "data": {
      "text/plain": [
       "Var([-0.196138, 0.0, 0.196138, 0.391974, 0.587205, 0.781531, 0.974652, 1.16627, 1.35609, 1.54382  …  7.42597, 7.51497, 7.59239, 7.6581, 7.712, 7.754, 7.78406, 7.80211, 7.80813, 7.80211], [4.99205, 4.9959, 4.99205, 4.9805, 4.96127, 4.93439, 4.89991, 4.85787, 4.80833, 4.75139  …  2.41284, 2.11944, 1.82277, 1.52329, 1.22146, 0.917747, 0.612619, 0.306546, 0.0, -0.306546], [1.26415e-5, -0.0, 1.26415e-5, 2.52636e-5, 3.78466e-5, 5.03713e-5, 6.28184e-5, 7.51686e-5, 8.74029e-5, 9.95024e-5  …  0.000224897, 0.000227593, 0.000229937, 0.000231927, 0.00023356, 0.000234832, 0.000235742, 0.000236289, 0.000236471, 0.000236289], [0.000321748, 0.000321996, 0.000321748, 0.000321004, 0.000319765, 0.000318032, 0.000315809, 0.0003131, 0.000309907, 0.000306237  …  7.30736e-5, 6.41878e-5, 5.52031e-5, 4.61332e-5, 3.69922e-5, 2.77942e-5, 1.85533e-5, 9.28381e-6, -0.0, 9.28381e-6], [1.84398, 1.84398, 1.84398, 1.84398, 1.84398, 1.84398, 1.84398, 1.84398, 1.84398, 1.84398  …  1.84499, 1.84499, 1.84499, 1.84499, 1.84499, 1.84499, 1.84499, 1.84499, 1.84499, 1.84499], [0.00185759, 0.00185759, 0.00185759, 0.00185759, 0.00185759, 0.00185759, 0.00185759, 0.00185759, 0.00185759, 0.00185759  …  0.0018841, 0.0018841, 0.0018841, 0.0018841, 0.0018841, 0.0018841, 0.0018841, 0.0018841, 0.0018841, 0.0018841], [-0.00183423 0.00185175 -7.24114e-5; -0.00183423 0.00185175 7.24114e-5; … ; 0.00188051 -0.0018717 7.37123e-5; 0.00188051 -0.0018717 -7.37123e-5])"
      ]
     },
     "execution_count": 46,
     "metadata": {},
     "output_type": "execute_result"
    }
   ],
   "source": [
    "var,mz,I,J = Collapse()\n",
    "var = TimeSolve(var,mz)"
   ]
  },
  {
   "cell_type": "code",
   "execution_count": null,
   "metadata": {
    "scrolled": true
   },
   "outputs": [],
   "source": [
    "var,mz,I,J = Collapse()\n",
    "var = TimeSolve(var,mz)\n",
    "using DelimitedFiles\n",
    "(I,J,var,mz)"
   ]
  },
  {
   "cell_type": "code",
   "execution_count": 99,
   "metadata": {},
   "outputs": [],
   "source": [
    "using DelimitedFiles\n",
    "Output_point(I,J,var,mz)"
   ]
  },
  {
   "cell_type": "code",
   "execution_count": 48,
   "metadata": {},
   "outputs": [
    {
     "name": "stdout",
     "output_type": "stream",
     "text": [
      "tmp / 21 = 4.9959023304847445\n"
     ]
    },
    {
     "data": {
      "text/plain": [
       "4.9959023304847445"
      ]
     },
     "execution_count": 48,
     "metadata": {},
     "output_type": "execute_result"
    }
   ],
   "source": [
    "tmp =0.0\n",
    "for i in 1:21\n",
    "   tmp += √(var.r[i]^2 + var.z[i]^2)\n",
    "end\n",
    "@show tmp/21"
   ]
  },
  {
   "cell_type": "code",
   "execution_count": 49,
   "metadata": {},
   "outputs": [
    {
     "name": "stdout",
     "output_type": "stream",
     "text": [
      "tmax = 2.594369163944066e-12\n"
     ]
    },
    {
     "data": {
      "text/plain": [
       "2.594369163944066e-12"
      ]
     },
     "execution_count": 49,
     "metadata": {},
     "output_type": "execute_result"
    }
   ],
   "source": [
    "tmax =0.0\n",
    "for i in 1:21\n",
    "    tmp2 = √(var.r[i]^2 + var.z[i]^2)\n",
    "    if abs(tmp2 - tmp/21) >tmax\n",
    "        tmax = abs(tmp2-tmp/21)\n",
    "    end\n",
    "end\n",
    "@show tmax"
   ]
  },
  {
   "cell_type": "code",
   "execution_count": null,
   "metadata": {},
   "outputs": [],
   "source": [
    " rcell = zeros(Float64,4)\n",
    "    zcell = zeros(Float64,4)\n",
    "    ucell = zeros(Float64,4)\n",
    "    vcell = zeros(Float64,4)\n",
    "\n",
    "Ic, = size(Tp) \n",
    "for i in 1:Ic\n",
    "        for j =1:4\n",
    "            rcell[j] = var.r[Tp[i,j]]\n",
    "            zcell[j] = var.z[Tp[i,j]]\n",
    "            ucell[j] = var.u[Tp[i,j]]\n",
    "            vcell[j] = var.v[Tp[i,j]]\n",
    "        end\n",
    "        Az = sum(A_z(rcell,zcell))\n",
    "@show Az\n",
    "end"
   ]
  },
  {
   "cell_type": "code",
   "execution_count": 52,
   "metadata": {},
   "outputs": [
    {
     "data": {
      "text/plain": [
       "Impact (generic function with 1 method)"
      ]
     },
     "execution_count": 52,
     "metadata": {},
     "output_type": "execute_result"
    }
   ],
   "source": [
    " function Impact()\n",
    "\n",
    "    global problem = prb(6000,0.3)\n",
    "    # global problem = prb(5e-5,0.3)\n",
    "    \n",
    "    I = 200\n",
    "    J = 40\n",
    "    dx = 500/I\n",
    "    dy = 100/J\n",
    "    \n",
    "    global   con1 = Const(3e-3,2.785,2.0,2.7e-1,0.5328,1.338)\n",
    "    \n",
    "    I1 = I +1\n",
    "    J1 = J\n",
    "    \n",
    "    Ip = (I1+1)*(J1+1) # Number of  points\n",
    "    Ic = I1*J1  # number of cells\n",
    "    \n",
    "    global Tp = zeros(Int,Ic,4) #格点\n",
    "    global Tc = zeros(Int,Ip,4) #点格\n",
    "    \n",
    "    #@show Tc, Ip\n",
    "    global Tb = zeros(Int, 2I1 + 2J1,4) #边界 \n",
    "    \n",
    "    ## Tb[i,1] ghost cell number\n",
    "    ## Tb[i,2] bound cell number\n",
    "    ## Tb[i,3] ghost cell point share with the bound \n",
    "    ## Tb[i,4] type of the boundary\n",
    "    \n",
    "    \n",
    "    \n",
    "   # 点格表，格点表初始化 \n",
    "    for i in 1:I1 \n",
    "        for j in 1:J1\n",
    "            ic = i+(j-1)*I1\n",
    "            Tp[ic,1] = i + (j-1)*(I1+1)\n",
    "            Tp[ic,2] = i+1 +(j-1)*(I1+1)\n",
    "            Tp[ic,3]=i+1+j*(I1+1)\n",
    "            Tp[ic,4]=i+j*(I1+1) \n",
    "        end\n",
    "    end\n",
    "    \n",
    "    for i = 1:I1+1\n",
    "        for j = 1:J1+1\n",
    "            ip =i+(j-1)*(I1+1)\n",
    "            Tc[ip,1] = i +(j-1)*I1 #(i,j)\n",
    "            Tc[ip,2] = i-1+(j-1)*I1 #(i-1,j)\n",
    "            Tc[ip,3] = i-1+(j-2)*I1 #(i-1,j-1)\n",
    "            Tc[ip,4] = i+(j-2)*I1   #(i,j-1)\n",
    "        end\n",
    "    end\n",
    "    \n",
    "# Bound \n",
    "  ib = 0\n",
    "        for j = 1:J1\n",
    "            i=1\n",
    "            ib += 1\n",
    "            ic =i+(j-1)*I1 \n",
    "            Tb[ib,1] = ic\n",
    "            Tb[ib,2] = (i+1)+(j-1)*I1\n",
    "            Tb[ib,3] = 2\n",
    "            Tb[ib,4] = 2\n",
    "        end\n",
    "    \n",
    "         for j = 1:J1\n",
    "             i = I1\n",
    "            ib += 1\n",
    "            ic =i+(j-1)*I1\n",
    "            Tb[ib,1] = ic\n",
    "             Tb[ib,2] = (i-1)+(j-1)*I1 #bound type 1:free 2: wall ..  Tb[:,2] y direction\n",
    "             Tb[ib,3] = 2\n",
    "             Tb[ib,4] = 1\n",
    "         end\n",
    "      for i = 1:I1\n",
    "            for j in (1,J1)\n",
    "                ib += 1\n",
    "                ic =i+(j-1)*I1\n",
    "                \n",
    "                Tb[ib,1] = ic\n",
    "               \n",
    "                if j==1 \n",
    "                    Tb[ib,2] = i+(j+1-1)*I1\n",
    "                    Tb[ib,3] = 1\n",
    "                    Tb[ib,4] = 1\n",
    "                end\n",
    "                if j==J1\n",
    "                    Tb[ib,2] = i+(j-1-1)*I1\n",
    "                    Tb[ib,3] = 3\n",
    "                    Tb[ib,4] = 1\n",
    "                end\n",
    "            end\n",
    "        end\n",
    "        \n",
    "    #流场初始化 Init of the flow\n",
    "    \n",
    "    x = zeros(Float64,Ip)\n",
    "    y = zeros(Float64,Ip)\n",
    "    u = zeros(Float64,Ip)\n",
    "    v = zeros(Float64,Ip)\n",
    "    \n",
    "    ρ = zeros(Float64,Ic)\n",
    "    mz = zeros(Float64,Ic)\n",
    "    p = zeros(Float64,Ic)\n",
    "    Az= zeros(Float64,Ic)\n",
    "    s = zeros(Float64,Ic,3)\n",
    "    \n",
    "    for i in 1:I1+1\n",
    "        for j = 1:J1+1\n",
    "            ip =i+(j-1)*(I1+1)\n",
    "            x[ip] = (i-2)*dx\n",
    "            y[ip] = (j-1)*dy\n",
    "            u[ip] = -1.50e-2\n",
    "            v[ip] = 0.0\n",
    "        end\n",
    "    end\n",
    "    \n",
    "    var = Var(x,y,u,v,ρ,p,s)\n",
    "    x,y,u,v = bound_ghost_coordinate!(x,y,u,v)\n",
    "    xz = zeros(Float64,4)\n",
    "    yz = zeros(Float64,4) \n",
    "    for i in 1:I1\n",
    "        for j in 1:J1\n",
    "            ic = i+(j-1)*(I1)\n",
    "            xz[1:4] = x[Tp[ic,1:4]]\n",
    "            yz[1:4] = y[Tp[ic,1:4]]\n",
    "            A = A_z(xz,yz)\n",
    "            Az[ic] = sum(A)\n",
    "                 p[ic] = 1e-10\n",
    "                ρ[ic] = 2.785\n",
    "                mz[ic] = ρ[ic] * Az[ic]\n",
    "                s[ic,:] .= 0\n",
    "        end\n",
    "    end \n",
    " return var,mz,I1,J1\n",
    "end"
   ]
  },
  {
   "cell_type": "code",
   "execution_count": 53,
   "metadata": {
    "scrolled": true
   },
   "outputs": [
    {
     "name": "stdout",
     "output_type": "stream",
     "text": [
      "60.708028495719624\n",
      "(kinetic / kinetic_init, (energy + kinetic) / (kinetic_init + energy_init)) = (0.9427165032294637, 0.997444804250446)\n",
      "120.82451495742694\n",
      "(kinetic / kinetic_init, (energy + kinetic) / (kinetic_init + energy_init)) = (0.9296201818798493, 0.9974406159717288)\n",
      "180.09696352454657\n",
      "(kinetic / kinetic_init, (energy + kinetic) / (kinetic_init + energy_init)) = (0.915468677000394, 0.997443812164206)\n",
      "240.79276608475982\n",
      "(kinetic / kinetic_init, (energy + kinetic) / (kinetic_init + energy_init)) = (0.8860483473953141, 0.9974501053543128)\n",
      "300.4233529358316\n",
      "(kinetic / kinetic_init, (energy + kinetic) / (kinetic_init + energy_init)) = (0.867781380116741, 0.9974497301650078)\n",
      "360.0517404486461\n",
      "(kinetic / kinetic_init, (energy + kinetic) / (kinetic_init + energy_init)) = (0.8524280970955984, 0.9974459391529585)\n",
      "420.5580728903971\n",
      "(kinetic / kinetic_init, (energy + kinetic) / (kinetic_init + energy_init)) = (0.8282580945121716, 0.9974400366494865)\n",
      "480.5424533442195\n",
      "(kinetic / kinetic_init, (energy + kinetic) / (kinetic_init + energy_init)) = (0.8099799693377273, 0.9974339740282382)\n",
      "540.408984886226\n",
      "(kinetic / kinetic_init, (energy + kinetic) / (kinetic_init + energy_init)) = (0.7936465335437989, 0.9974297061385048)\n",
      "600.2993988816921\n",
      "(kinetic / kinetic_init, (energy + kinetic) / (kinetic_init + energy_init)) = (0.7715528980470812, 0.9974281859758632)\n",
      "660.3446767628301\n",
      "(kinetic / kinetic_init, (energy + kinetic) / (kinetic_init + energy_init)) = (0.7509908872764819, 0.9974269769576288)\n",
      "720.4801665938892\n",
      "(kinetic / kinetic_init, (energy + kinetic) / (kinetic_init + energy_init)) = (0.7333740761634802, 0.9974244879839713)\n",
      "780.5848064816123\n",
      "(kinetic / kinetic_init, (energy + kinetic) / (kinetic_init + energy_init)) = (0.7133579709209708, 0.997421324525248)\n",
      "840.4778432867537\n",
      "(kinetic / kinetic_init, (energy + kinetic) / (kinetic_init + energy_init)) = (0.6930157947530958, 0.9974178925323975)\n",
      "900.2597550718571\n",
      "(kinetic / kinetic_init, (energy + kinetic) / (kinetic_init + energy_init)) = (0.6749396676095069, 0.9974151358285382)\n",
      "960.0750905825424\n",
      "(kinetic / kinetic_init, (energy + kinetic) / (kinetic_init + energy_init)) = (0.6568111525887879, 0.9974130108560938)\n",
      "1020.6021853245408\n",
      "(kinetic / kinetic_init, (energy + kinetic) / (kinetic_init + energy_init)) = (0.6368311543829379, 0.9974115356611869)\n",
      "1080.4474796946042\n",
      "(kinetic / kinetic_init, (energy + kinetic) / (kinetic_init + energy_init)) = (0.6188823566427053, 0.9974101185346081)\n",
      "1140.2997116868792\n",
      "(kinetic / kinetic_init, (energy + kinetic) / (kinetic_init + energy_init)) = (0.6013105442446876, 0.9974083393701553)\n",
      "1200.808120125757\n",
      "(kinetic / kinetic_init, (energy + kinetic) / (kinetic_init + energy_init)) = (0.5830971563849301, 0.9974061924366925)\n",
      "1260.2102502113203\n",
      "(kinetic / kinetic_init, (energy + kinetic) / (kinetic_init + energy_init)) = (0.5654857663319224, 0.997403625999309)\n",
      "1320.2017136499867\n",
      "(kinetic / kinetic_init, (energy + kinetic) / (kinetic_init + energy_init)) = (0.5488189593009166, 0.9974011793640691)\n",
      "1380.7646253746823\n",
      "(kinetic / kinetic_init, (energy + kinetic) / (kinetic_init + energy_init)) = (0.5321188447026184, 0.9973987861913055)\n",
      "1440.373285683224\n",
      "(kinetic / kinetic_init, (energy + kinetic) / (kinetic_init + energy_init)) = (0.5145371127365719, 0.9973966492752645)\n",
      "1500.4948856506408\n",
      "(kinetic / kinetic_init, (energy + kinetic) / (kinetic_init + energy_init)) = (0.4982395462707194, 0.9973942804169977)\n",
      "1560.2108667184318\n",
      "(kinetic / kinetic_init, (energy + kinetic) / (kinetic_init + energy_init)) = (0.48232262032279793, 0.9973918618601485)\n",
      "1620.2291917198836\n",
      "(kinetic / kinetic_init, (energy + kinetic) / (kinetic_init + energy_init)) = (0.465824473833176, 0.9973890492616306)\n",
      "1680.4390472172145\n",
      "(kinetic / kinetic_init, (energy + kinetic) / (kinetic_init + energy_init)) = (0.4501435888714522, 0.9973858844729285)\n",
      "1740.163206242754\n",
      "(kinetic / kinetic_init, (energy + kinetic) / (kinetic_init + energy_init)) = (0.4352744941354239, 0.9973827877838577)\n",
      "1800.1584219122728\n",
      "(kinetic / kinetic_init, (energy + kinetic) / (kinetic_init + energy_init)) = (0.4200158236979228, 0.9973791800437432)\n",
      "1860.318358768791\n",
      "(kinetic / kinetic_init, (energy + kinetic) / (kinetic_init + energy_init)) = (0.40516873610630477, 0.9973755929815186)\n",
      "1920.563048779007\n",
      "(kinetic / kinetic_init, (energy + kinetic) / (kinetic_init + energy_init)) = (0.39030220159813545, 0.9973723254363926)\n",
      "1980.1926572525717\n",
      "(kinetic / kinetic_init, (energy + kinetic) / (kinetic_init + energy_init)) = (0.37613128906814786, 0.9973689564361063)\n",
      "2040.415438590946\n",
      "(kinetic / kinetic_init, (energy + kinetic) / (kinetic_init + energy_init)) = (0.36195866980820457, 0.9973635724944768)\n",
      "2100.6038775266156\n",
      "(kinetic / kinetic_init, (energy + kinetic) / (kinetic_init + energy_init)) = (0.34779975366655497, 0.9973591561412308)\n",
      "2160.0743013764136\n",
      "(kinetic / kinetic_init, (energy + kinetic) / (kinetic_init + energy_init)) = (0.33444690871180327, 0.9973538882544747)\n",
      "2220.0932724809945\n",
      "(kinetic / kinetic_init, (energy + kinetic) / (kinetic_init + energy_init)) = (0.3212980130513806, 0.9973473795842179)\n",
      "2280.2355841135864\n",
      "(kinetic / kinetic_init, (energy + kinetic) / (kinetic_init + energy_init)) = (0.30795941743071403, 0.9973418054379798)\n",
      "2340.3569706454246\n",
      "(kinetic / kinetic_init, (energy + kinetic) / (kinetic_init + energy_init)) = (0.2951878796030918, 0.9973361948107949)\n",
      "2400.1653934736364\n",
      "(kinetic / kinetic_init, (energy + kinetic) / (kinetic_init + energy_init)) = (0.28277329048302274, 0.9973302342208056)\n",
      "2460.2360415548737\n",
      "(kinetic / kinetic_init, (energy + kinetic) / (kinetic_init + energy_init)) = (0.27028208363183254, 0.9973245177691281)\n",
      "2520.4454160433243\n",
      "(kinetic / kinetic_init, (energy + kinetic) / (kinetic_init + energy_init)) = (0.25834755137661497, 0.9973189488340469)\n",
      "2580.253142740205\n",
      "(kinetic / kinetic_init, (energy + kinetic) / (kinetic_init + energy_init)) = (0.24659400662807365, 0.9973125786894286)\n",
      "2640.2400942922773\n",
      "(kinetic / kinetic_init, (energy + kinetic) / (kinetic_init + energy_init)) = (0.23507579215078703, 0.99730573662778)\n",
      "2700.4327958549384\n",
      "(kinetic / kinetic_init, (energy + kinetic) / (kinetic_init + energy_init)) = (0.2239186639225733, 0.9972990163996049)\n",
      "2760.018055118926\n",
      "(kinetic / kinetic_init, (energy + kinetic) / (kinetic_init + energy_init)) = (0.21307558252080866, 0.9972911400976464)\n",
      "2820.3164621568076\n",
      "(kinetic / kinetic_init, (energy + kinetic) / (kinetic_init + energy_init)) = (0.20228645182642022, 0.9972826902672756)\n",
      "2880.395952172861\n",
      "(kinetic / kinetic_init, (energy + kinetic) / (kinetic_init + energy_init)) = (0.1919665696980329, 0.9972743051856758)\n",
      "2940.2391273474223\n",
      "(kinetic / kinetic_init, (energy + kinetic) / (kinetic_init + energy_init)) = (0.18191224519289084, 0.9972643442558393)\n",
      "3000.2164673707844\n",
      "(kinetic / kinetic_init, (energy + kinetic) / (kinetic_init + energy_init)) = (0.17209735294924378, 0.9972544731804337)\n",
      "3060.229789498408\n",
      "(kinetic / kinetic_init, (energy + kinetic) / (kinetic_init + energy_init)) = (0.16260568392995398, 0.9972445029769982)\n",
      "3120.2354089879964\n",
      "(kinetic / kinetic_init, (energy + kinetic) / (kinetic_init + energy_init)) = (0.15330235660766445, 0.9972330291809428)\n",
      "3180.069059001976\n",
      "(kinetic / kinetic_init, (energy + kinetic) / (kinetic_init + energy_init)) = (0.14436780128515367, 0.9972197330552194)\n",
      "3240.3224084368285\n",
      "(kinetic / kinetic_init, (energy + kinetic) / (kinetic_init + energy_init)) = (0.13569982759952226, 0.9972075104435608)\n",
      "3300.0006888619155\n",
      "(kinetic / kinetic_init, (energy + kinetic) / (kinetic_init + energy_init)) = (0.12725177981371621, 0.9971971332184512)\n",
      "3360.046185432515\n",
      "(kinetic / kinetic_init, (energy + kinetic) / (kinetic_init + energy_init)) = (0.11915439094054706, 0.9971854386328338)\n",
      "3420.0124212748333\n",
      "(kinetic / kinetic_init, (energy + kinetic) / (kinetic_init + energy_init)) = (0.11126929553440301, 0.9971724056752782)\n",
      "3480.0466337248567\n",
      "(kinetic / kinetic_init, (energy + kinetic) / (kinetic_init + energy_init)) = (0.10361539726971025, 0.9971588872290423)\n",
      "3540.1299067470804\n",
      "(kinetic / kinetic_init, (energy + kinetic) / (kinetic_init + energy_init)) = (0.09626837485354231, 0.9971466341990528)\n",
      "3600.0163251645076\n",
      "(kinetic / kinetic_init, (energy + kinetic) / (kinetic_init + energy_init)) = (0.08924552381773666, 0.9971343472595051)\n"
     ]
    },
    {
     "name": "stdout",
     "output_type": "stream",
     "text": [
      "3660.2110595207296\n",
      "(kinetic / kinetic_init, (energy + kinetic) / (kinetic_init + energy_init)) = (0.08242699153138315, 0.9971229488197401)\n",
      "3720.0170510018015\n",
      "(kinetic / kinetic_init, (energy + kinetic) / (kinetic_init + energy_init)) = (0.07595514059362896, 0.9971112004837505)\n",
      "3780.1503265889846\n",
      "(kinetic / kinetic_init, (energy + kinetic) / (kinetic_init + energy_init)) = (0.06967235281905107, 0.9970989017337979)\n",
      "3840.039375782213\n",
      "(kinetic / kinetic_init, (energy + kinetic) / (kinetic_init + energy_init)) = (0.06364679843307271, 0.9970873718444224)\n",
      "3900.1029479215067\n",
      "(kinetic / kinetic_init, (energy + kinetic) / (kinetic_init + energy_init)) = (0.05797321507620735, 0.9970760370413903)\n",
      "3960.2566040721563\n",
      "(kinetic / kinetic_init, (energy + kinetic) / (kinetic_init + energy_init)) = (0.05251639582888501, 0.997066202252263)\n",
      "4020.1959495065166\n",
      "(kinetic / kinetic_init, (energy + kinetic) / (kinetic_init + energy_init)) = (0.04730381779394007, 0.9970573928385026)\n",
      "4080.093315669339\n",
      "(kinetic / kinetic_init, (energy + kinetic) / (kinetic_init + energy_init)) = (0.04245488814605209, 0.9970486210079524)\n",
      "4140.146810818009\n",
      "(kinetic / kinetic_init, (energy + kinetic) / (kinetic_init + energy_init)) = (0.03777353407138862, 0.9970399603067314)\n",
      "4200.17746575472\n",
      "(kinetic / kinetic_init, (energy + kinetic) / (kinetic_init + energy_init)) = (0.03340872407458631, 0.9970317927863681)\n",
      "4260.16691513833\n",
      "(kinetic / kinetic_init, (energy + kinetic) / (kinetic_init + energy_init)) = (0.02935976803669423, 0.9970247914218573)\n",
      "4320.119979166573\n",
      "(kinetic / kinetic_init, (energy + kinetic) / (kinetic_init + energy_init)) = (0.025472805100522036, 0.9970187755398789)\n",
      "4380.003374410988\n",
      "(kinetic / kinetic_init, (energy + kinetic) / (kinetic_init + energy_init)) = (0.021905532728857178, 0.997012547145687)\n",
      "4440.1282756285445\n",
      "(kinetic / kinetic_init, (energy + kinetic) / (kinetic_init + energy_init)) = (0.01865693704973556, 0.9970066549932356)\n",
      "4500.088495542815\n",
      "(kinetic / kinetic_init, (energy + kinetic) / (kinetic_init + energy_init)) = (0.015568317034317596, 0.9970011803928219)\n",
      "4560.0090691735395\n",
      "(kinetic / kinetic_init, (energy + kinetic) / (kinetic_init + energy_init)) = (0.012849093165624088, 0.9969971184957006)\n",
      "4620.191732778949\n",
      "(kinetic / kinetic_init, (energy + kinetic) / (kinetic_init + energy_init)) = (0.010363821961108926, 0.996994176703372)\n",
      "4680.152605969838\n",
      "(kinetic / kinetic_init, (energy + kinetic) / (kinetic_init + energy_init)) = (0.00810328083021272, 0.9969915453929661)\n",
      "4740.200622638974\n",
      "(kinetic / kinetic_init, (energy + kinetic) / (kinetic_init + energy_init)) = (0.006194691664588967, 0.9969893011709775)\n",
      "4800.166681436035\n",
      "(kinetic / kinetic_init, (energy + kinetic) / (kinetic_init + energy_init)) = (0.00449325174488357, 0.9969874809763976)\n",
      "4860.10800052325\n",
      "(kinetic / kinetic_init, (energy + kinetic) / (kinetic_init + energy_init)) = (0.003072269643817176, 0.9969856777451261)\n",
      "4920.137541341263\n",
      "(kinetic / kinetic_init, (energy + kinetic) / (kinetic_init + energy_init)) = (0.0019695495998262986, 0.9969843358185547)\n",
      "4980.049944982048\n",
      "(kinetic / kinetic_init, (energy + kinetic) / (kinetic_init + energy_init)) = (0.0010906363715161927, 0.9969839487308898)\n",
      "5040.194038567146\n",
      "(kinetic / kinetic_init, (energy + kinetic) / (kinetic_init + energy_init)) = (0.00048042887603695644, 0.9969837897129524)\n",
      "5100.161228991466\n",
      "(kinetic / kinetic_init, (energy + kinetic) / (kinetic_init + energy_init)) = (0.0001708303244451543, 0.9969834719252786)\n",
      "5160.14709640074\n",
      "(kinetic / kinetic_init, (energy + kinetic) / (kinetic_init + energy_init)) = (9.13952317391909e-5, 0.9969833547686805)\n",
      "5220.138090683558\n",
      "(kinetic / kinetic_init, (energy + kinetic) / (kinetic_init + energy_init)) = (0.0002687257860434, 0.9969833089229392)\n",
      "5280.176314653072\n",
      "(kinetic / kinetic_init, (energy + kinetic) / (kinetic_init + energy_init)) = (0.0006553492774622334, 0.9969832725423823)\n",
      "5340.077761813673\n",
      "(kinetic / kinetic_init, (energy + kinetic) / (kinetic_init + energy_init)) = (0.0011766533370824723, 0.9969832480607532)\n",
      "5400.179717800326\n",
      "(kinetic / kinetic_init, (energy + kinetic) / (kinetic_init + energy_init)) = (0.0018797365992274967, 0.9969831869091741)\n",
      "5460.09710109991\n",
      "(kinetic / kinetic_init, (energy + kinetic) / (kinetic_init + energy_init)) = (0.0026724719693055356, 0.9969831845480767)\n",
      "5520.059865500536\n",
      "(kinetic / kinetic_init, (energy + kinetic) / (kinetic_init + energy_init)) = (0.00350497471581474, 0.9969831429084403)\n",
      "5580.082647416908\n",
      "(kinetic / kinetic_init, (energy + kinetic) / (kinetic_init + energy_init)) = (0.004365182695026966, 0.9969831036806164)\n",
      "5640.134976179048\n",
      "(kinetic / kinetic_init, (energy + kinetic) / (kinetic_init + energy_init)) = (0.005223830123838632, 0.9969830668206195)\n",
      "5700.192236529892\n",
      "(kinetic / kinetic_init, (energy + kinetic) / (kinetic_init + energy_init)) = (0.006026441252177875, 0.9969830277255313)\n",
      "5760.0928314478315\n",
      "(kinetic / kinetic_init, (energy + kinetic) / (kinetic_init + energy_init)) = (0.006792355883785085, 0.996982970287195)\n",
      "5820.0088203117875\n",
      "(kinetic / kinetic_init, (energy + kinetic) / (kinetic_init + energy_init)) = (0.00740146961348247, 0.9969829640262273)\n",
      "5880.1388430345\n",
      "(kinetic / kinetic_init, (energy + kinetic) / (kinetic_init + energy_init)) = (0.007834390226323462, 0.996982934548354)\n",
      "5940.101263988879\n",
      "(kinetic / kinetic_init, (energy + kinetic) / (kinetic_init + energy_init)) = (0.00809079727302741, 0.9969829030256412)\n"
     ]
    },
    {
     "data": {
      "text/plain": [
       "Var([-2.4305, 0.0, 2.4305, 4.73989, 7.0004, 9.25766, 11.5133, 13.7615, 16.0139, 18.27  …  438.201, 440.701, 443.201, 445.7, 448.2, 450.7, 453.2, 455.7, 458.2, 460.7], [-37.5473, -37.8323, -37.5473, -36.9725, -36.3902, -35.8024, -35.2135, -34.6315, -34.0506, -33.4621  …  99.9997, 99.9997, 99.9998, 99.9999, 99.9999, 99.9999, 99.9998, 99.9995, 99.9992, 99.9988], [-8.6835e-6, -0.0, -8.6835e-6, -1.50168e-5, -1.7633e-5, -1.6492e-5, -1.29013e-5, -5.30202e-6, 8.32736e-6, 2.85233e-5  …  0.00225424, 0.00226842, 0.0022848, 0.00230264, 0.00232038, 0.0023366, 0.00235135, 0.00236268, 0.00236928, 0.0023716], [0.000244483, 0.000249211, 0.000244483, 0.000232108, 0.000215131, 0.000196122, 0.000174465, 0.000151029, 0.000127405, 0.000106968  …  5.65458e-5, 6.56965e-5, 6.96395e-5, 6.74753e-5, 5.80532e-5, 4.35544e-5, 2.43641e-5, 1.24646e-6, -2.27492e-5, -4.75032e-5], [2.77738, 2.77738, 2.77747, 2.77717, 2.77702, 2.77692, 2.77688, 2.77684, 2.77678, 2.77667  …  2.78518, 2.78517, 2.78516, 2.78513, 2.7851, 2.78507, 2.78505, 2.78503, 2.78502, 2.78502], [-0.00115142, -0.00115142, -0.00136514, -0.00153357, -0.00158545, -0.00161514, -0.00162743, -0.00163193, -0.00163455, -0.00164253  …  5.15695e-5, 4.98526e-5, 4.50808e-5, 3.76419e-5, 2.91785e-5, 2.13872e-5, 1.47676e-5, 9.72445e-6, 6.12907e-6, 5.77249e-6], [0.00172732 -0.00144308 -0.000271787; 0.00172732 -0.00144308 0.000271787; … ; -1.29561e-6 -7.93918e-8 3.16052e-6; 4.27352e-6 -5.58457e-6 7.05357e-7])"
      ]
     },
     "execution_count": 53,
     "metadata": {},
     "output_type": "execute_result"
    }
   ],
   "source": [
    "var,mz,I,J = Impact()\n",
    "var = TimeSolve(var,mz)"
   ]
  },
  {
   "cell_type": "code",
   "execution_count": 54,
   "metadata": {},
   "outputs": [],
   "source": [
    "using DelimitedFiles\n",
    "Output_point(I,J,var,mz)"
   ]
  },
  {
   "cell_type": "code",
   "execution_count": 75,
   "metadata": {},
   "outputs": [
    {
     "data": {
      "text/plain": [
       "572-element Array{Float64,1}:\n",
       " -1.4633934829493118e-15\n",
       " -1.0345411112180169e-15\n",
       " -1.4633934829493118e-15\n",
       " -8.402729866514592e-16 \n",
       " -1.819951438562635e-15 \n",
       " -1.6524145564511796e-15\n",
       " -1.0847136930431504e-15\n",
       " -1.8534701447445326e-15\n",
       " -1.2730300809946046e-15\n",
       " -1.5045826999307195e-15\n",
       " -1.852448122257305e-15 \n",
       "  1.590841104610437e-16 \n",
       "  1.277873532391558e-16 \n",
       "  ⋮                     \n",
       "  1.4916201984353308e-15\n",
       "  4.785147484741018e-15 \n",
       " -1.2136095546182232e-14\n",
       "  8.73102430927251e-15  \n",
       " -7.300128622214157e-15 \n",
       " -3.156780179231275e-15 \n",
       "  1.184636289854388e-14 \n",
       " -1.1481352315820308e-15\n",
       " -4.29977164197353e-15  \n",
       " -6.678509989591749e-14 \n",
       " -4.0995749000291245e-14\n",
       " -3.595126613051837e-18 "
      ]
     },
     "execution_count": 75,
     "metadata": {},
     "output_type": "execute_result"
    }
   ],
   "source": [
    "var.v"
   ]
  },
  {
   "cell_type": "code",
   "execution_count": null,
   "metadata": {},
   "outputs": [],
   "source": []
  }
 ],
 "metadata": {
  "@webio": {
   "lastCommId": null,
   "lastKernelId": null
  },
  "kernelspec": {
   "display_name": "Julia 1.1.1",
   "language": "julia",
   "name": "julia-1.1"
  },
  "language_info": {
   "file_extension": ".jl",
   "mimetype": "application/julia",
   "name": "julia",
   "version": "1.1.1"
  }
 },
 "nbformat": 4,
 "nbformat_minor": 2
}
