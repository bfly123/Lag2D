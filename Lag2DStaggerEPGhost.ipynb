{
 "cells": [
  {
   "cell_type": "markdown",
   "metadata": {},
   "source": [
    "#  Code for 2D staggered Lagrangian method in Cartersian coordinates"
   ]
  },
  {
   "cell_type": "markdown",
   "metadata": {},
   "source": [
    "## Control equations"
   ]
  },
  {
   "cell_type": "markdown",
   "metadata": {},
   "source": [
    "一般形式下，弹塑性流体控制方程为：\n",
    "\n",
    "质量方程：\n",
    "\\begin{equation}\n",
    "  \\frac{dm}{dt}=0\n",
    "  \\end{equation}\n",
    "动量方程：\n",
    "\\begin{equation}\n",
    "  \\frac{d\\rho \\mathbf{u}}{dt}= \\nabla \\cdot  \\mathbf{\\Pi} \n",
    "\\end{equation}\n",
    "\n",
    "能量方程：\n",
    "\\begin{equation}\n",
    " \\rho \\frac{de}{dt}= \\mathbf{\\sigma} \\cdot \\mathbf{\\varepsilon}\n",
    "\\end{equation}\n",
    "\n",
    "\\section{二维控制方程}\n",
    "\n",
    "运动方程：\n",
    "\\begin{equation}\n",
    "  \\frac{d(r,z)}{dt}=(u,v)\n",
    "\\end{equation}\n",
    "\n",
    "质量守恒：\n",
    "\\begin{equation}\\label{eq:38}\n",
    "  \\frac{dm}{dt}=0\n",
    "\\end{equation}\n",
    "\n",
    "动量守恒方程：\n",
    "\\begin{equation}\\label{eq:3}\n",
    "  \\begin{array}{l}\n",
    "\t\\displaystyle \\rho \\frac{du}{dt}=\\frac{\\partial \\sigma _{rr}}{\\partial r}+ \\frac{\\partial s_{rz}}{\\partial z}\\\\[0.3cm]\n",
    "  \\displaystyle \\rho \\frac{dv}{dt}=\\frac{\\partial \\sigma _{zz}}{\\partial z}+ \\frac{\\partial s_{rz}}{\\partial r}\\\\\n",
    "  \\end{array}\n",
    "  \\end{equation}\n",
    "\n",
    "能量守恒方程：\n",
    "\\begin{equation}\n",
    "  \\begin{array}{l}\n",
    "\t\\displaystyle \\rho \\frac{de}{dt}=\\sigma _{rr}\\frac{\\partial u}{\\partial r}+\\sigma_{zz}\\frac{\\partial v}{\\partial z}+s_{rz}\\left( \\frac{\\partial u}{\\partial z}+\\frac{\\partial v}{\\partial r}\\right)\\\\[0.3cm]\n",
    "\t\\displaystyle = -p\\frac{dV}{dt}+ s_{rr}\\frac{\\partial u}{\\partial r}+s_{zz}\\frac{\\partial v}{\\partial z}+s_{rz}\\left( \\frac{\\partial u}{\\partial z}+\\frac{\\partial v}{\\partial r}\\right)\\\\\n",
    "\t\\end{array}\n",
    "\t\\end{equation}\n",
    "\n",
    "本构方程：\n",
    "\\begin{equation}\n",
    "  \\begin{array}{l}\n",
    "\t\\displaystyle \\frac{ds_{rr}}{dt}=2\\mu \\left(\\frac{\\partial u}{\\partial r}-\\frac{1}{3}\\nabla \\cdot \\vec{u} \\right) +s_{rz}\\left(\\frac{\\partial u}{\\partial z}-\\frac{\\partial v}{\\partial r}\\right)\\\\[0.3cm]\n",
    "\t\\displaystyle \\frac{ds_{zz}}{dt}=2\\mu \\left(\\frac{\\partial v}{\\partial z}-\\frac{1}{3}\\nabla \\cdot \\vec{u} \\right) -s_{rz}\\left(\\frac{\\partial u}{\\partial z}-\\frac{\\partial v}{\\partial r}\\right)\\\\[0.3cm]\n",
    "\t\\displaystyle \\frac{ds_{rz}}{dt}=\\mu \\left(\\frac{\\partial u}{\\partial z}+\\frac{\\partial v}{\\partial r}\\right) + \\frac{s_{rr}-s_{zz}}{2}\\left(\\frac{\\partial u}{\\partial z}-\\frac{\\partial v}{\\partial r}\\right)\\\\\n",
    "  \\end{array}\n",
    "  \\end{equation}\n",
    "\n",
    "Von Mises屈服条件：\n",
    "\\begin{equation}\n",
    "  \\frac{3}{2}(s_{rr}^2+s_{zz}^2+s_{\\theta \\theta}^2+2s_{xy}^2)\\le (Y^0)^2\n",
    "\\end{equation}\n",
    "\n",
    "\n",
    "\n",
    "\n",
    "\n"
   ]
  },
  {
   "cell_type": "markdown",
   "metadata": {},
   "source": [
    "$$ s_{\\theta\\theta} = - (s_{rr} +s_{zz}) $$"
   ]
  },
  {
   "cell_type": "markdown",
   "metadata": {},
   "source": [
    "## Compatible Staggered Discretization"
   ]
  },
  {
   "cell_type": "markdown",
   "metadata": {},
   "source": [
    "<img src=\"Grid.png\" width = \"800\" height = \"400\" div align=center /> "
   ]
  },
  {
   "cell_type": "markdown",
   "metadata": {},
   "source": [
    "<img src=\"cellpoint.png\" width = \"800\" height = \"400\" div align=center />"
   ]
  },
  {
   "cell_type": "markdown",
   "metadata": {},
   "source": [
    "### Quatities:\n",
    "\n",
    "On point: ($x_p$,$y_p$), ($u_p$,$v_p$)\n",
    "\n",
    "Zonal:  $V_z$, $\\rho_z$, $m_z$, $e_z$, $p_z$"
   ]
  },
  {
   "cell_type": "markdown",
   "metadata": {},
   "source": [
    "By the relation \n",
    "$$\\frac{dm_z}{dt} =0$$\n",
    "we have \n",
    "$$\\rho_z(t) = m_z/V_z(t)$$"
   ]
  },
  {
   "cell_type": "markdown",
   "metadata": {},
   "source": [
    "Also \n",
    "$$d(x_p)/dt = u_p, \\quad d(y_p)/dt = v_p$$"
   ]
  },
  {
   "cell_type": "code",
   "execution_count": 1,
   "metadata": {},
   "outputs": [],
   "source": [
    "struct Const\n",
    "    Y0 ::Float64 #Yielding strength\n",
    "    ρ0 ::Float64 \n",
    "    Γ0 ::Float64\n",
    "    μ  ::Float64\n",
    "    a0 ::Float64\n",
    "    s0 ::Float64\n",
    "end\n"
   ]
  },
  {
   "cell_type": "code",
   "execution_count": 2,
   "metadata": {},
   "outputs": [],
   "source": [
    "mutable struct Var\n",
    "    r::Array{Float64,1}\n",
    "    z::Array{Float64,1}\n",
    "    u::Array{Float64,1}\n",
    "    v::Array{Float64,1}\n",
    "    ρ::Array{Float64,1}\n",
    "    p::Array{Float64,1}\n",
    "    s::Array{Float64,2} # σ[1] = σrr σ[2] = σzz σ[3] = σrz\n",
    "end    "
   ]
  },
  {
   "cell_type": "code",
   "execution_count": 3,
   "metadata": {},
   "outputs": [],
   "source": [
    "struct prb\n",
    "    tt::Float64\n",
    "    sf::Float64\n",
    "end"
   ]
  },
  {
   "cell_type": "markdown",
   "metadata": {},
   "source": [
    "### Point mass "
   ]
  },
  {
   "cell_type": "markdown",
   "metadata": {},
   "source": [
    "Point mass $m_p$ is used to solve point momentum $\\mu_p = m_p \\bf{u}_p$ and kinetic energy $K_p = m_p \\frac{\\bf{u}_p^2}{2}$"
   ]
  },
  {
   "cell_type": "markdown",
   "metadata": {},
   "source": [
    "<img src=\"Ins.jpg\" width = \"200\" height = \"400\" div align=center /> "
   ]
  },
  {
   "cell_type": "markdown",
   "metadata": {},
   "source": [
    "$$m_p = \\sum_{z\\in Z(p)} A_z^p \\rho^p_z$$\n",
    "\n",
    "$$\\rho_z(t) = m_z/V_z(t)$$"
   ]
  },
  {
   "cell_type": "markdown",
   "metadata": {},
   "source": []
  },
  {
   "cell_type": "code",
   "execution_count": 4,
   "metadata": {},
   "outputs": [
    {
     "data": {
      "text/plain": [
       "MassAndDens (generic function with 1 method)"
      ]
     },
     "execution_count": 4,
     "metadata": {},
     "output_type": "execute_result"
    }
   ],
   "source": [
    "function MassAndDens(mz::Array{Float64,1},x::Array{Float64,1},y::Array{Float64,1})\n",
    "    \n",
    "    Ic, = size(mz)\n",
    "    Ip, = size(Tc)\n",
    "    Asbz = zeros(Float64,4)\n",
    "    ρ = zeros(Float64,Ic)\n",
    "    mp = zeros(Float64,Ip)\n",
    "    xz = zeros(Float64,4)\n",
    "    yz = zeros(Float64,4)\n",
    "    for i in 1:Ic\n",
    "        xz[1:4] = x[Tp[i,1:4]]\n",
    "        yz[1:4] = y[Tp[i,1:4]]\n",
    "        Asbz = A_z(xz,yz)\n",
    "        Az = sum(Asbz)\n",
    "        ρ[i] = mz[i]/Az\n",
    "        \n",
    "        for j = 1:4\n",
    "            ip = Tp[i,j]\n",
    "            mp[ip] = mp[ip] + Asbz[j]*ρ[i]\n",
    "        end\n",
    "    end\n",
    "   # @show mp\n",
    "    return ρ,mp   \n",
    "end"
   ]
  },
  {
   "cell_type": "markdown",
   "metadata": {},
   "source": [
    "\n",
    "$$ A_z^1 = \\frac{5A_{41}+5A_{12}+A_{23}+A_{34}}{12}$$\n",
    "$$ A_z^2 = \\frac{A_{41}+5A_{12}+5A_{23}+A_{34}}{12}$$\n",
    "$$ A_z^3 = \\frac{A_{41}+A_{12}+5A_{23}+5A_{34}}{12}$$\n",
    "$$ A_z^4 = \\frac{5A_{41}+A_{12}+A_{23}+5A_{34}}{12}$$"
   ]
  },
  {
   "cell_type": "code",
   "execution_count": 5,
   "metadata": {},
   "outputs": [
    {
     "data": {
      "text/plain": [
       "A_z (generic function with 1 method)"
      ]
     },
     "execution_count": 5,
     "metadata": {},
     "output_type": "execute_result"
    }
   ],
   "source": [
    "function A_z(xz,yz) \n",
    "    A =zeros(Float64,4)\n",
    "    xc= sum(xz[i] for i in 1:4)/4\n",
    "    yc= sum(yz[i] for i in 1:4)/4\n",
    "    \n",
    "    A41 = Area3(xz[4],xz[1],xc,yz[4],yz[1],yc)\n",
    "    A12 = Area3(xz[1],xz[2],xc,yz[1],yz[2],yc)\n",
    "    A23 = Area3(xz[2],xz[3],xc,yz[2],yz[3],yc)\n",
    "    A34 = Area3(xz[3],xz[4],xc,yz[3],yz[4],yc)\n",
    "\n",
    "    A[1] = (5A41+5A12+A23+A34)/12\n",
    "    A[2] = (A41+5A12+5A23+A34)/12\n",
    "    A[3] = (A41+A12+5A23+5A34)/12\n",
    "    A[4] = (5A41+A12+A23+5A34)/12\n",
    "    \n",
    "#    A[1] = (A41+A12+A23+A34)/4\n",
    "#    A[2] = (A41+A12+A23+A34)/4\n",
    "#    A[3] = (A41+A12+A23+A34)/4\n",
    "#    A[4] = (A41+A12+A23+A34)/4\n",
    "    \n",
    "    return A\n",
    "end"
   ]
  },
  {
   "cell_type": "markdown",
   "metadata": {},
   "source": [
    "<img src=\"n12.png\" width = \"300\" height = \"300\" div align=center />"
   ]
  },
  {
   "cell_type": "markdown",
   "metadata": {},
   "source": [
    "$$\\overrightarrow{n}_{12} = \\frac{1}{L_{12}}(y_2- y_1, x_1-x_2)  $$\n",
    "\n",
    "$$\\overrightarrow{\\tau}_{12} = \\frac{1}{L_{12}}(x_2- x_1, y_2-y_1)  $$\n",
    "\n",
    "$$ \\mathbf{F_1}  = \\frac{1}{2}  \\left[ -\\sigma_{rr}(z_2-z_4)+ s_{rz}(r_2 -r_4), \\sigma_{zz}(r_2-r_4) +s_{rz}(z_4 -z_2) , \\right] $$ "
   ]
  },
  {
   "cell_type": "code",
   "execution_count": 6,
   "metadata": {},
   "outputs": [
    {
     "data": {
      "text/plain": [
       "force_zone (generic function with 1 method)"
      ]
     },
     "execution_count": 6,
     "metadata": {},
     "output_type": "execute_result"
    }
   ],
   "source": [
    "function force_zone(x,y,u,v,ρ,p,σ) #(r,z)\n",
    "   \n",
    "    Fx = zeros(Float64,4)\n",
    "    Fy = zeros(Float64,4)\n",
    "    \n",
    "    \n",
    "    Fx[1] = 0.5(σ[1]*(y[4] - y[2]) + σ[3]*(x[2] - x[4]))\n",
    "    Fy[1] = 0.5(σ[3]*(y[4] - y[2]) + σ[2]*(x[2] - x[4]))\n",
    "    \n",
    "    Fx[2] = 0.5(σ[1]*(y[1] - y[3]) + σ[3]*(x[3] - x[1]))\n",
    "    Fy[2] = 0.5(σ[3]*(y[1] - y[3]) + σ[2]*(x[3] - x[1]))\n",
    "    \n",
    "    Fx[3] = 0.5(σ[1]*(y[2] - y[4]) + σ[3]*(x[4] - x[2]))\n",
    "    Fy[3] = 0.5(σ[3]*(y[2] - y[4]) + σ[2]*(x[4] - x[2]))\n",
    "    \n",
    "    Fx[4] = 0.5(σ[1]*(y[3] - y[1]) + σ[3]*(x[1] - x[3]))\n",
    "    Fy[4] = 0.5(σ[3]*(y[3] - y[1]) + σ[2]*(x[1] - x[3]))\n",
    "      \n",
    "    ex,ey = hourglass_viscosity(x, y, u, v, ρ, p,σ) \n",
    "\n",
    "    Fx = Fx .+ ex\n",
    "    Fy = Fy .+ ey\n",
    "    \n",
    "    return Fx,Fy\n",
    "end           "
   ]
  },
  {
   "cell_type": "markdown",
   "metadata": {},
   "source": [
    "\\begin{equation}\n",
    "  \\begin{aligned}\n",
    "\t&\\displaystyle \\rho \\frac{de}{dt}= \\mathbf{\\sigma} \\cdot \\mathbf{\\varepsilon}\\\\ \n",
    "\t&=\n",
    "\t\\sigma _{rr}\\frac{\\partial u}{\\partial r}+\\sigma_{zz}\\frac{\\partial v}{\\partial z}+\\sigma_{rz}\\left( \\frac{\\partial u}{\\partial z}+\\frac{\\partial v}{\\partial r}\\right)\n",
    "\t\\end{aligned}\n",
    "\t\\end{equation}\n",
    "    \n",
    "\\begin{equation}\n",
    "  \\begin{aligned}\n",
    "\t&\\displaystyle M \\frac{de}{dt}=  \n",
    "\\int_{\\Omega} \\sigma _{rr}\\frac{\\partial u}{\\partial r}+\\sigma_{zz}\\frac{\\partial v}{\\partial z}+\\sigma_{rz}\\left( \\frac{\\partial u}{\\partial z}+\\frac{\\partial v}{\\partial r}\\right)d\\Omega\n",
    "\t\\end{aligned}\n",
    "\t\\end{equation}\n",
    "\n",
    "\n",
    "\\begin{equation}\n",
    "  \\begin{aligned}\n",
    "\\int_{\\Omega}  \\frac{\\partial u}{\\partial r} d\\Omega&=  -\\oint_{\\partial \\omega}u dz\\\\\n",
    "  &= \\frac{1}{2} \\left((u_1-u_3)(z_2-z_4)+(u_2-u_4)(z_3-z_1)\\right)\n",
    "  \\end{aligned}\n",
    "\\end{equation}\n",
    "\n",
    "\\begin{equation}\n",
    "  \\begin{aligned}\n",
    "\\int_{\\Omega}  \\frac{\\partial u}{\\partial z} d\\Omega&= \\oint_{\\partial \\omega}u dy\\\\\n",
    "  &= -\\frac{1}{2} \\left((u_1-u_3)(r_2-r_4)+(u_2-u_4)(r_3-r_1)\\right)\n",
    "  \\end{aligned}\n",
    "\\end{equation}\n",
    "\n",
    "$$ \\frac{\\partial u}{\\partial x}  \\approx \\frac{1}{2A}((u_1-u_3)(y_2-y_4)+(u_2-u_4)(-y_1+y_3))$$ \n",
    "\n",
    "$$ \\frac{\\partial v}{\\partial y}  \\approx -\\frac{1}{2A}((v_1-v_3)(x_2-x_4)+(v_2-v_4)(-x_1+x_3))$$ "
   ]
  },
  {
   "cell_type": "markdown",
   "metadata": {},
   "source": [
    "对于节点\n",
    "$$ \\rho \\frac{d \\mathbf{u}}{dt} = - \\nabla p$$\n",
    "\n",
    "$$m_p \\frac{d\\bf{u}_p}{dt} = \\sum_{p\\in P(z)} \\bf{F}_z^p$$"
   ]
  },
  {
   "cell_type": "markdown",
   "metadata": {},
   "source": [
    "$$F_z^1 = \\mathbf{F}_1 + c\\mathbf{e}_1$$"
   ]
  },
  {
   "cell_type": "markdown",
   "metadata": {},
   "source": [
    "本构方程：\n",
    "\\begin{equation}\n",
    "  \\begin{array}{l}\n",
    "\t\\displaystyle \\frac{ds_{rr}}{dt}=2\\mu \\left(\\frac{\\partial u}{\\partial r}-\\frac{1}{3}\\nabla \\cdot \\vec{u} \\right) +s_{rz}\\left(\\frac{\\partial u}{\\partial z}-\\frac{\\partial v}{\\partial r}\\right)\\\\[0.3cm]\n",
    "\t\\displaystyle \\frac{ds_{zz}}{dt}=2\\mu \\left(\\frac{\\partial v}{\\partial z}-\\frac{1}{3}\\nabla \\cdot \\vec{u} \\right) -s_{rz}\\left(\\frac{\\partial u}{\\partial z}-\\frac{\\partial v}{\\partial r}\\right)\\\\[0.3cm]\n",
    "\t\\displaystyle \\frac{ds_{rz}}{dt}=\\mu \\left(\\frac{\\partial u}{\\partial z}+\\frac{\\partial v}{\\partial r}\\right) - \\frac{s_{rr}-s_{zz}}{2}\\left(\\frac{\\partial u}{\\partial z}-\\frac{\\partial v}{\\partial r}\\right)\\\\\n",
    "  \\end{array}\n",
    "  \\end{equation}\n",
    "\n",
    "Von Mises屈服条件：\n",
    "\\begin{equation}\n",
    "  \\frac{3}{2}(s_{rr}^2+s_{zz}^2+s_{\\theta \\theta}^2+2s_{xy}^2)\\le (Y^0)^2\n",
    "\\end{equation}\n"
   ]
  },
  {
   "cell_type": "code",
   "execution_count": 7,
   "metadata": {},
   "outputs": [
    {
     "data": {
      "text/plain": [
       "rhs (generic function with 1 method)"
      ]
     },
     "execution_count": 7,
     "metadata": {},
     "output_type": "execute_result"
    }
   ],
   "source": [
    "function rhs(var::Var)\n",
    "    μ = con1.μ\n",
    "    r,z,u,v,ρ,p,s = var.r,var.z,var.u,var.v,var.ρ,var.p,var.s\n",
    "    \n",
    "    Ic, = size(Tp)\n",
    "    Ip, = size(Tc)\n",
    "    rhsu = zeros(Float64,Ip)\n",
    "    rhsv = zeros(Float64,Ip) \n",
    "    rhse = zeros(Float64,Ic)\n",
    "    rhss = zeros(Float64,Ic,3)\n",
    "    σ = zeros(Float64,Ic,3)\n",
    "  \n",
    "    σ[:,1] = s[:,1] - p[:]\n",
    "    σ[:,2] = s[:,2] - p[:]\n",
    "    σ[:,3] = s[:,3] \n",
    "    \n",
    "    rcell = zeros(Float64,4)\n",
    "    zcell = zeros(Float64,4)\n",
    "    ucell = zeros(Float64,4)\n",
    "    vcell = zeros(Float64,4)\n",
    "    \n",
    "    for i in 1:Ic\n",
    "        for j =1:4\n",
    "            rcell[j] = r[Tp[i,j]]\n",
    "            zcell[j] = z[Tp[i,j]]\n",
    "            ucell[j] = u[Tp[i,j]]\n",
    "            vcell[j] = v[Tp[i,j]]\n",
    "        end\n",
    "        Az = sum(A_z(rcell,zcell))\n",
    "        Fx,Fy = force_zone(rcell,zcell,ucell,vcell,ρ[i],p[i],σ[i,1:3])  \n",
    "        ∂u_∂r,∂u_∂z = ∂uv(rcell,zcell, ucell)\n",
    "        ∂v_∂r,∂v_∂z = ∂uv(rcell,zcell, vcell)\n",
    "        rhse[i] = σ[i,1]*∂u_∂r + σ[i,2]*∂v_∂z+σ[i,3]*(∂u_∂z + ∂v_∂r)\n",
    "        for j = 1:4\n",
    "            ip = Tp[i,j]\n",
    "            rhsu[ip] +=  Fx[j]\n",
    "            rhsv[ip] +=  Fy[j]\n",
    "        end  \n",
    "        ∇u = ∂u_∂r + ∂v_∂z\n",
    "    \n",
    "        rhss[i,1] =  (2μ*(2/3*∂u_∂r - 1/3*∂v_∂z) + σ[i,3]*(∂u_∂z - ∂v_∂r)) ./Az\n",
    "        rhss[i,2] =  (2μ*(2/3*∂v_∂z - 1/3*∂u_∂r) - σ[i,3]*(∂u_∂z - ∂v_∂r)) ./Az\n",
    "        rhss[i,3] =   (μ*(∂u_∂z+∂v_∂r)  -   (σ[i,1] - σ[i,2])*(∂u_∂z - ∂v_∂r)) ./Az      \n",
    "    end\n",
    "\n",
    "    return rhse, rhsu,rhsv,rhss\n",
    "\n",
    "end     "
   ]
  },
  {
   "cell_type": "code",
   "execution_count": 8,
   "metadata": {},
   "outputs": [
    {
     "data": {
      "text/plain": [
       "output (generic function with 1 method)"
      ]
     },
     "execution_count": 8,
     "metadata": {},
     "output_type": "execute_result"
    }
   ],
   "source": [
    "function output(f)\n",
    "    io = open(\"data2.dat\", \"w+\")\n",
    "     writedlm(io,f,\"  \") \n",
    "    close(io)\n",
    "end"
   ]
  },
  {
   "cell_type": "markdown",
   "metadata": {},
   "source": [
    "$$ \\mathbf{S} = \\mathbf{S} \\times \\text{min} \\left(1,Y_0/\\sqrt{\\frac{3}{2}\\mathbf{S}:\\mathbf{S}}\\right)$$"
   ]
  },
  {
   "cell_type": "code",
   "execution_count": 9,
   "metadata": {},
   "outputs": [
    {
     "data": {
      "text/plain": [
       "yield_s! (generic function with 1 method)"
      ]
     },
     "execution_count": 9,
     "metadata": {},
     "output_type": "execute_result"
    }
   ],
   "source": [
    "function yield_s!(s,con)\n",
    "    Y0 = con.Y0\n",
    "    I, = size(s)\n",
    "    for i in 1:I\n",
    "         sums = s[i,1]^2 +s[i,2]^2 +2*s[i,3]^2 +(s[i,1]+s[i,2])^2\n",
    "        for j = 1:3\n",
    "       \n",
    "        s[i,j] = s[i,j] * min(1,Y0/√(3/2*sums))\n",
    "            end \n",
    "    end\n",
    "    return s\n",
    "end"
   ]
  },
  {
   "cell_type": "code",
   "execution_count": 10,
   "metadata": {},
   "outputs": [
    {
     "data": {
      "text/plain": [
       "predictor_corrector2nd (generic function with 1 method)"
      ]
     },
     "execution_count": 10,
     "metadata": {},
     "output_type": "execute_result"
    }
   ],
   "source": [
    "function predictor_corrector2nd(dt,var::Var,mz)\n",
    "    r,z,u,v,ρ,p,s = var.r,var.z,var.u,var.v,var.ρ,var.p,var.s\n",
    "    \n",
    "    Ip, = size(u)\n",
    "    Ic, = size(p)\n",
    "    \n",
    "    ρ,mp = MassAndDens(mz,r,z)\n",
    "    e = p_to_e(ρ, p,con1)    \n",
    "    p = artificial_viscosity!(r,z,u,v,ρ,p)\n",
    "    ρ,p,s = bound_ghost_cell!(ρ,p,s)\n",
    "    var = Var(r, z, u, v, ρ, p, s)\n",
    "    \n",
    "    rhse, rhsu,rhsv,rhss = rhs(var)\n",
    "    rhsu,rhsv = bound_force(rhsu,rhsv,var)\n",
    "    \n",
    "    s = yield_s!(s,con1)\n",
    "    r₀ =  r + dt*u\n",
    "    z₀  = z + dt*v\n",
    "    u₀  = u + dt*(rhsu ./ mp)\n",
    "    v₀  = v + dt*(rhsv ./ mp)\n",
    "    e₀  = e + dt*(rhse ./ mz) \n",
    "    s₀  = s + dt*rhss\n",
    "  #  @show rhsu\n",
    "    s₀ = yield_s!(s₀,con1)\n",
    "    r₀,z₀,u₀,v₀ = bound_ghost_coordinate!(r₀,z₀,u₀,v₀)\n",
    "    ρ,mp = MassAndDens(mz,r₀,z₀)\n",
    "    p = e_to_p(ρ,e₀,con1)\n",
    "    p = artificial_viscosity!(r₀,z₀,u₀,v₀,ρ,p) \n",
    "    ρ,p,s₀ = bound_ghost_cell!(ρ,p,s₀)\n",
    "    var = Var(r₀, z₀, u₀, v₀, ρ, p, s₀)\n",
    "   \n",
    "    rhse₀,rhsu₀,rhsv₀,rhss₀ = rhs(var)\n",
    "    rhsu₀,rhsv₀ = bound_force(rhsu₀,rhsv₀,var)\n",
    "  #  @show s[:,1]\n",
    "    r +=  0.5dt*(u + u₀)\n",
    "    z +=  0.5dt*(v + v₀)\n",
    "    u +=  0.5dt*(rhsu + rhsu₀) ./ mp\n",
    "    v +=  0.5dt*(rhsv + rhsv₀) ./ mp\n",
    "    e +=  0.5dt*(rhse + rhse₀) ./ mz\n",
    "    s  += 0.5dt*(rhss + rhss₀)\n",
    "    s = yield_s!(s,con1)\n",
    "    r,z,u,v = bound_ghost_coordinate!(r,z,u,v)\n",
    "    ρ,mp = MassAndDens(mz,r,z)\n",
    "    p = e_to_p(ρ,e,con1)\n",
    "    ρ,p,s = bound_ghost_cell!(ρ,p,s)\n",
    "    var = Var(r,z,u,v,ρ,p,s)\n",
    "   \n",
    "    return var\n",
    "end"
   ]
  },
  {
   "cell_type": "code",
   "execution_count": 11,
   "metadata": {},
   "outputs": [
    {
     "data": {
      "text/plain": [
       "fηη (generic function with 1 method)"
      ]
     },
     "execution_count": 11,
     "metadata": {},
     "output_type": "execute_result"
    }
   ],
   "source": [
    "function fη(ρ,c::Const)\n",
    "    η = ρ/c.ρ0\n",
    "    fη=(η .-1.0) .* (η .-c.Γ0*(η .-1.0)/2.0) ./ (η .-c.s0*(η .-1)) .^2\n",
    "end\n",
    "\n",
    "function fηη(ρ,c::Const)\n",
    "    η = ρ/c.ρ0\n",
    "    fηη=(η .+(c.s0-c.Γ0) .* (η .-1)) ./(η .-c.s0*(η .- 1)) .^3\n",
    "end"
   ]
  },
  {
   "cell_type": "code",
   "execution_count": 12,
   "metadata": {},
   "outputs": [
    {
     "data": {
      "text/plain": [
       "euler1st (generic function with 1 method)"
      ]
     },
     "execution_count": 12,
     "metadata": {},
     "output_type": "execute_result"
    }
   ],
   "source": [
    "function euler1st(dt,var::Var,mz)\n",
    "    r,z,u,v,ρ,p,s = var.r,var.z,var.u,var.v,var.ρ,var.p,var.s\n",
    "    \n",
    "    Ip, = size(u)\n",
    "    Ic, = size(p)\n",
    "    \n",
    "    ρ,mp = MassAndDens(mz,r,z)\n",
    "    e = p_to_e(ρ, p,con1)    \n",
    "    p = artificial_viscosity!(r,z,u,v,ρ,p)\n",
    "    ρ,p,s = bound_ghost_cell!(ρ,p,s)\n",
    "    var = Var(r, z, u, v, ρ, p, s)\n",
    "    \n",
    "    rhse, rhsu,rhsv,rhss = rhs(var)\n",
    "    rhsu,rhsv = bound_force(rhsu,rhsv,var)\n",
    "    \n",
    " #   @show rhsv\n",
    "    s = yield_s!(s,con1)\n",
    "    r =  r + dt*u\n",
    "    z = z + dt*v\n",
    "    u  = u + dt*(rhsu ./ mp)\n",
    "    v  = v + dt*(rhsv ./ mp)\n",
    "    e  = e + dt*(rhse ./ mz) \n",
    "    s  = s + dt*rhss\n",
    "  #  @show rhsu\n",
    "    s = yield_s!(s,con1)\n",
    "    r,z,u,v = bound_ghost_coordinate!(r,z,u,v)\n",
    "    ρ,mp = MassAndDens(mz,r,z)\n",
    "    p = e_to_p(ρ,e,con1)\n",
    "    ρ,p,s = bound_ghost_cell!(ρ,p,s)\n",
    "    var = Var(r,z,u,v,ρ,p,s)\n",
    "   \n",
    "    return var\n",
    "end"
   ]
  },
  {
   "cell_type": "markdown",
   "metadata": {},
   "source": [
    "### Boundary force\n",
    "\n",
    "If one edge of a cell is a free boundary, then $f$ on the points is zero. As we have add it in RHs(), we need to remove it by resolve it again. Different from RHs(), at every point of a cell the force is composited by two parts on different edges. This is distinguished by $k$ when $k = 1$ the boundary is on y direction, forces on 12 and 34 boundary must be subtracted. When $ k =2$ the boundary is on x direction, subtract forces on 41, 23. "
   ]
  },
  {
   "cell_type": "code",
   "execution_count": 13,
   "metadata": {},
   "outputs": [
    {
     "data": {
      "text/plain": [
       "bound_force (generic function with 1 method)"
      ]
     },
     "execution_count": 13,
     "metadata": {},
     "output_type": "execute_result"
    }
   ],
   "source": [
    "function bound_force(rhsu,rhsv,var)\n",
    "    Ip, = size(Tc)\n",
    "    Ib, = size(Tb)\n",
    "   \n",
    "    r,z,u,v,ρ,p,s = var.r,var.z,var.u,var.v,var.ρ,var.p,var.s\n",
    "    rcell = zeros(Float64,4)\n",
    "    zcell = zeros(Float64,4)\n",
    "    ucell = zeros(Float64,4)\n",
    "    vcell = zeros(Float64,4)\n",
    "    ip1 = zeros(Int,4)\n",
    "    σ = zeros(Float64,3)\n",
    "    for i in 1:Ib\n",
    "        if Tb[i,4] == 1 || Tb[i,4] == 3\n",
    "            ic = Tb[i,1]        \n",
    "            rcell[1:4] = r[Tp[ic,1:4]]\n",
    "            zcell[1:4] = z[Tp[ic,1:4]]\n",
    "            ucell[1:4] = u[Tp[ic,1:4]]\n",
    "            vcell[1:4] = v[Tp[ic,1:4]]\n",
    "\n",
    "            σ[1] = s[ic,1] - p[ic]\n",
    "            σ[2] = s[ic,2] - p[ic]\n",
    "            σ[3] = s[ic,3]\n",
    "\n",
    "            ex,ey = hourglass_viscosity(rcell, zcell, ucell, vcell, ρ[ic]\n",
    "                                        , p[ic],s[ic,:])\n",
    "            i₁ = Tb[i,3]\n",
    "            i₂ = i₁+1\n",
    "            if i₁ == 4\n",
    "                i₂ = 1\n",
    "            end\n",
    "            nx = zcell[i₂] -zcell[i₁]\n",
    "            ny = rcell[i₁] -rcell[i₂]\n",
    "            p0 = 1e-10\n",
    "            for j in (i₁,i₂)\n",
    "\n",
    "                ip = Tp[ic,j]\n",
    "                    Fx = -σ[1]*nx/2 -σ[3]*ny/2+ex[j] #*nx^2/(nx^2+ny^2)  #+ex[j] \n",
    "                    Fy = -σ[3]*nx/2 -σ[2]*ny/2+ey[j] #*ny^2/(nx^2+ny^2)\n",
    "                    Fx1 = (Fx*nx+Fy*ny)*nx/(nx^2+ny^2)\n",
    "                    Fy1 = (Fx*nx+Fy*ny)*ny/(nx^2+ny^2)\n",
    "                    Fx = Fx- Fx1\n",
    "                    Fy = Fy - Fy1\n",
    "                    Fx1 =  p0*nx/2 #+ex[j]*nx^2/(nx^2+ny^2) \n",
    "                    Fy1 =  p0*ny/2 #+ey[j]*ny^2/(nx^2+ny^2)\n",
    "\n",
    "                #    rhsu[ip] +=  -Fx1 # -Fx1\n",
    "                #    rhsv[ip] +=  -Fy1 #-Fy1\n",
    "\n",
    "                if Tb[i,4] == 3 # boundary\n",
    "                    uL = 2e-3\n",
    "                    u[ip] = uL #*nx/(nx^2 +ny^2)\n",
    "                end  \n",
    "            end\n",
    "        end\n",
    "    end \n",
    "\n",
    "    return rhsu, rhsv\n",
    "end  "
   ]
  },
  {
   "cell_type": "markdown",
   "metadata": {},
   "source": [
    "<img src=\"bound_corresponding.png\" width = \"400\" height = \"800\" div align=center /> "
   ]
  },
  {
   "cell_type": "markdown",
   "metadata": {},
   "source": [
    "$$ Ig_1 = Tb[i,3] $$\n",
    "$$Ib_1 = Ig_1 -1$$"
   ]
  },
  {
   "cell_type": "code",
   "execution_count": 14,
   "metadata": {},
   "outputs": [
    {
     "data": {
      "text/plain": [
       "bound_ghost_coordinate! (generic function with 1 method)"
      ]
     },
     "execution_count": 14,
     "metadata": {},
     "output_type": "execute_result"
    }
   ],
   "source": [
    "function bound_ghost_coordinate!(r,z,u,v)\n",
    "    Ip, = size(Tc)\n",
    "    Ic, = size(Tp)\n",
    "    Ib, = size(Tb)\n",
    "   # r,z,u,v,ρ,p,s = var.r,var.z,var.u,var.v,var.ρ,var.p,var.s\n",
    "   \n",
    "    rt= copy(r)\n",
    "    zt= copy(z)\n",
    "   # output(r)\n",
    "    for i in 1:Ib\n",
    "        if Tb[i,4] == 2\n",
    "            ic = Tb[i,1]\n",
    "            ic2= Tb[i,2]\n",
    "            ig₁ = Tb[i,3]\n",
    "            \n",
    "           \n",
    "            ig₁ == 4 ? ig₂ = 1 : ig₂ = ig₁+1\n",
    "            ig₂ == 4 ? ig₃ = 1 : ig₃ = ig₂+1\n",
    "            ig₃ == 4 ? ig₄ = 1 : ig₄ = ig₃+1\n",
    "\n",
    "            ig₁ == 1 ? ib₁ = 4 : ib₁ = ig₁-1\n",
    "            ib₁ == 1 ? ib₂ = 4 : ib₂ = ib₁-1\n",
    "            ib₂ == 1 ? ib₃ = 4 : ib₃ = ib₂-1\n",
    "            ib₃ == 1 ? ib₄ = 4 : ib₄ = ib₃-1\n",
    "\n",
    "                r1 =    rt[Tp[ic2,ib₁]]\n",
    "                r2 =    rt[Tp[ic2,ib₂]]\n",
    "                z1 =    zt[Tp[ic2,ib₁]]\n",
    "                z2 =    zt[Tp[ic2,ib₂]]\n",
    "\n",
    "                r3=     rt[Tp[ic2,ib₃]]\n",
    "                z3=     zt[Tp[ic2,ib₃]]\n",
    "                r4=     rt[Tp[ic2,ib₄]]\n",
    "                z4=     zt[Tp[ic2,ib₄]]\n",
    "                \n",
    "                nx = zt[Tp[ic2,ib₁]] -zt[Tp[ic2,ib₂]]\n",
    "                ny = rt[Tp[ic2,ib₂]] -rt[Tp[ic2,ib₁]]\n",
    "                for j in (ib₁,ib₂)\n",
    "                    ip = Tp[ic2,j]\n",
    "                    u[ip] = u[ip]*ny^2/(nx^2 +ny^2)\n",
    "                    v[ip] = v[ip]*nx^2/(nx^2 +ny^2)\n",
    "                end\n",
    "\n",
    "                r[Tp[ic,ig₃]],z[Tp[ic,ig₃]] = reflect(r1,z1,r2,z2,r3,z3)\n",
    "                r[Tp[ic,ig₄]],z[Tp[ic,ig₄]] = reflect(r1,z1,r2,z2,r4,z4)\n",
    "                u[Tp[ic,ig₃]],v[Tp[ic,ig₃]] = u[Tp[ic2,ib₃]],v[Tp[ic2,ib₃]]\n",
    "                u[Tp[ic,ig₄]],v[Tp[ic,ig₄]] = u[Tp[ic2,ib₄]],v[Tp[ic2,ib₄]]\n",
    "            \n",
    "       \n",
    "          end \n",
    "    end\n",
    "    return r,z,u,v\n",
    "end  "
   ]
  },
  {
   "cell_type": "code",
   "execution_count": 15,
   "metadata": {},
   "outputs": [
    {
     "data": {
      "text/plain": [
       "bound_ghost_cell! (generic function with 1 method)"
      ]
     },
     "execution_count": 15,
     "metadata": {},
     "output_type": "execute_result"
    }
   ],
   "source": [
    "function bound_ghost_cell!(ρ,p,s)\n",
    "    Ip, = size(Tc)\n",
    "    Ic, = size(Tp)\n",
    "    Ib, = size(Tb)    \n",
    "    for i in 1:Ib\n",
    "        if Tb[i,4] == 2\n",
    "            ic = Tb[i,1]\n",
    "            ic2= Tb[i,2]\n",
    "            ρ[ic] = ρ[ic2]\n",
    "            p[ic] = p[ic2]\n",
    "            s[ic,1:2] = s[ic2,1:2]\n",
    "            s[ic,3] = -s[ic2,3]\n",
    "          end \n",
    "    end\n",
    "    return ρ,p,s\n",
    "end  "
   ]
  },
  {
   "cell_type": "code",
   "execution_count": 16,
   "metadata": {},
   "outputs": [
    {
     "ename": "UndefVarError",
     "evalue": "UndefVarError: exp1 not defined",
     "output_type": "error",
     "traceback": [
      "UndefVarError: exp1 not defined",
      "",
      "Stacktrace:",
      " [1] top-level scope at In[16]:1"
     ]
    }
   ],
   "source": [
    "exp1[r4]"
   ]
  },
  {
   "cell_type": "markdown",
   "metadata": {},
   "source": [
    "## Ghost cell coordinate of a reflect boundary"
   ]
  },
  {
   "cell_type": "markdown",
   "metadata": {},
   "source": [
    "<img src=\"reflect.png\" width = \"200\" height = \"400\" div align=center /> "
   ]
  },
  {
   "cell_type": "markdown",
   "metadata": {},
   "source": [
    "$$ k_1 k_2 = -1$$\n",
    "$$ d_3 = -d_4 $$"
   ]
  },
  {
   "cell_type": "markdown",
   "metadata": {},
   "source": [
    "$$(z_2-z_1)(z_3-z_4)+(r_3-r_4)(r_2-r_1) = 0$$\n",
    "$$(z_2-z_1)(r_3-r_1)-(z_3-z_1)(r_2-r_1) = -(z_2-z_1)(r_4-r_1)+(z_4-z_1)(r_2-r_1)$$"
   ]
  },
  {
   "cell_type": "code",
   "execution_count": 17,
   "metadata": {
    "scrolled": true
   },
   "outputs": [
    {
     "name": "stderr",
     "output_type": "stream",
     "text": [
      "┌ Info: Recompiling stale cache file /home/bfly/.juliapro/JuliaPro_v1.1.1.1/compiled/v1.1/SymPy/KzewI.ji for SymPy [24249f21-da20-56a4-8eb1-6a02cf4ae2e6]\n",
      "└ @ Base loading.jl:1184\n"
     ]
    },
    {
     "name": "stdout",
     "output_type": "stream",
     "text": [
      "(exp1[r4], exp1[z4]) = (((r1 - r2)*(r1*r3 - r2*r3 + z1*z3 - z2*z3) - (z1 - z2)*(2*r1*z2 - r1*z3 - 2*r2*z1 + r2*z3 + r3*z1 - r3*z2))/((r1 - r2)^2 + (z1 - z2)^2), ((r1 - r2)*(2*r1*z2 - r1*z3 - 2*r2*z1 + r2*z3 + r3*z1 - r3*z2) + (z1 - z2)*(r1*r3 - r2*r3 + z1*z3 - z2*z3))/((r1 - r2)^2 + (z1 - z2)^2))\n"
     ]
    },
    {
     "name": "stderr",
     "output_type": "stream",
     "text": [
      "WARNING: using SymPy.rhs in module Main conflicts with an existing identifier.\n"
     ]
    },
    {
     "data": {
      "text/plain": [
       "(((r1 - r2)*(r1*r3 - r2*r3 + z1*z3 - z2*z3) - (z1 - z2)*(2*r1*z2 - r1*z3 - 2*r2*z1 + r2*z3 + r3*z1 - r3*z2))/((r1 - r2)^2 + (z1 - z2)^2), ((r1 - r2)*(2*r1*z2 - r1*z3 - 2*r2*z1 + r2*z3 + r3*z1 - r3*z2) + (z1 - z2)*(r1*r3 - r2*r3 + z1*z3 - z2*z3))/((r1 - r2)^2 + (z1 - z2)^2))"
      ]
     },
     "execution_count": 17,
     "metadata": {},
     "output_type": "execute_result"
    }
   ],
   "source": [
    "using SymPy\n",
    "@vars z1 z2 z3 z4 r1 r2 r3 r4\n",
    "exp1 = solve([(z2-z1)*(z3-z4)+(r2-r1)*(r3-r4),(z2-z1)*(r3-r1)-(z3-z1)*(r2-r1)+(z2-z1)*(r4-r1)-(z4-z1)*(r2-r1)],[r4,z4])\n",
    "@show exp1[r4],exp1[z4]"
   ]
  },
  {
   "cell_type": "code",
   "execution_count": 18,
   "metadata": {},
   "outputs": [
    {
     "data": {
      "text/plain": [
       "reflect (generic function with 1 method)"
      ]
     },
     "execution_count": 18,
     "metadata": {},
     "output_type": "execute_result"
    }
   ],
   "source": [
    "function reflect(r1,z1,r2,z2,r3,z3)\n",
    "    tmp1=(r1*r3-r2*r3+z1*z3-z2*z3) \n",
    "    tmp2 = (2r1*z2-r1*z3-2r2*z1+r2*z3+r3*z1-r3*z2)\n",
    "    tmp3 = ((r1-r2)^2+(z1-z2)^2)\n",
    "    \n",
    "    r4 = ((r1-r2)*tmp1 - (z1-z2)*tmp2)/tmp3\n",
    "    z4 = ((r1-r2)*tmp2 + (z1-z2)*tmp1)/tmp3\n",
    "    \n",
    "    return r4,z4\n",
    "end"
   ]
  },
  {
   "cell_type": "code",
   "execution_count": 19,
   "metadata": {},
   "outputs": [
    {
     "data": {
      "text/plain": [
       "(1.1, 0.0)"
      ]
     },
     "execution_count": 19,
     "metadata": {},
     "output_type": "execute_result"
    }
   ],
   "source": [
    "reflect(1,1,1,0,0.9,0)"
   ]
  },
  {
   "cell_type": "markdown",
   "metadata": {},
   "source": [
    "### EOS \n",
    "$$ e = \\frac{p}{(\\gamma-1)\\rho}$$"
   ]
  },
  {
   "cell_type": "code",
   "execution_count": 20,
   "metadata": {},
   "outputs": [
    {
     "data": {
      "text/plain": [
       "e_to_p (generic function with 1 method)"
      ]
     },
     "execution_count": 20,
     "metadata": {},
     "output_type": "execute_result"
    }
   ],
   "source": [
    "function p_to_e(ρ,p,con)\n",
    "    c=con\n",
    "    ei = (p .- c.ρ0*c.a0^2*fη(ρ,c))/(c.ρ0*c.Γ0)\n",
    "    return ei\n",
    "end\n",
    "function e_to_p(ρ,ei,con::Const)\n",
    "    c=con\n",
    "    p = c.ρ0*c.Γ0*ei .+ c.ρ0*c.a0^2*fη(ρ,c)\n",
    "    return p\n",
    "end"
   ]
  },
  {
   "cell_type": "code",
   "execution_count": 21,
   "metadata": {},
   "outputs": [
    {
     "data": {
      "text/plain": [
       "CFL (generic function with 1 method)"
      ]
     },
     "execution_count": 21,
     "metadata": {},
     "output_type": "execute_result"
    }
   ],
   "source": [
    "function CFL(SF,var)\n",
    "    r,z,u,v,ρ,p,s = var.r,var.z,var.u,var.v,var.ρ,var.p,var.s\n",
    "    Ic, = size(ρ)\n",
    "    cflmin = 1.e9\n",
    "      cfl = 0 \n",
    "    for i in 1:Ic\n",
    "        cfl =0\n",
    "        u2max = 0\n",
    "        u2=0.0\n",
    "        for j = 1:4\n",
    "            ip = Tp[i,j]\n",
    "            u2 = u[ip]^2+v[ip]^2\n",
    "            if u2 > u2max ; u2max = u2; end\n",
    "        end\n",
    "        \n",
    "        dlmin = (r[Tp[i,4]] - r[Tp[i,1]])^2+(z[Tp[i,4]]-z[Tp[i,1]])^2\n",
    "       \n",
    "        for j=1:3\n",
    "            dl= (r[Tp[i,j+1]] - r[Tp[i,j]])^2+(z[Tp[i,j+1]]-z[Tp[i,j]])^2\n",
    "            if dl < dlmin; dlmin=dl; end\n",
    "        end\n",
    "        c = sound([ρ[i],u[i],p[i],min(s[i,1],s[i,2])],con1)\n",
    "        cfl = √(dlmin)/(√(u2max)+c)\n",
    "        if cfl < cflmin; cflmin = cfl; end\n",
    "    end\n",
    " #   @show cflmin\n",
    "    dt = cflmin*SF\n",
    "    return dt\n",
    "end \n",
    "        "
   ]
  },
  {
   "cell_type": "code",
   "execution_count": 22,
   "metadata": {},
   "outputs": [
    {
     "data": {
      "text/plain": [
       "sound (generic function with 2 methods)"
      ]
     },
     "execution_count": 22,
     "metadata": {},
     "output_type": "execute_result"
    }
   ],
   "source": [
    "function sound(uo::Array{Float64,1},con::Const,EoP::Int=1)\n",
    "    a0,ρ0,Γ0,Y0,μ  = con.a0,con.ρ0,con.Γ0,con.Y0,con.μ\n",
    "    ρ,uu,p,sxx   = uo[1:4]\n",
    "    a2  = a0^2*fηη(ρ,con)+p/ρ^2*ρ0*Γ0\n",
    "    if EoP == 2\n",
    "        c=sqrt(a2-ρ0/ρ^2*Γ0*sxx)\n",
    "        return c\n",
    "    else\n",
    "       #  @show a2,ρ0/ρ^2,4.0/3*μ/ρ\n",
    "        c=sqrt(a2-ρ0/ρ^2*Γ0*sxx+4.0/3*μ/ρ)\n",
    "       \n",
    "        return c\n",
    "    end\n",
    "end"
   ]
  },
  {
   "cell_type": "code",
   "execution_count": 23,
   "metadata": {},
   "outputs": [
    {
     "data": {
      "text/plain": [
       "TimeSolve (generic function with 1 method)"
      ]
     },
     "execution_count": 23,
     "metadata": {},
     "output_type": "execute_result"
    }
   ],
   "source": [
    "function TimeSolve(var,mz)\n",
    "    tt= problem.tt\n",
    "    sf =problem.sf\n",
    "    t= 0.0\n",
    "    t₁ = tt/100\n",
    "    t₂ = t₁\n",
    "    kinetic_init,energy_init = total_kinetic(var,mz)\n",
    "    kinetic = kinetic_init\n",
    "   # while kinetic > 1e-4*kinetic_init && t<tt\n",
    "    while t<tt\n",
    "    \n",
    "#for i in 1:50\n",
    "        dt=CFL(sf,var)\n",
    "   #     @show dt\n",
    "        if t+dt>tt\n",
    "           dt = tt-t\n",
    "        end\n",
    "        \n",
    "        var = predictor_corrector2nd(dt,var,mz)\n",
    "       # var = euler1st(dt,var,mz)\n",
    "   #     kinetic,energy = total_kinetic(var,mz)\n",
    "         t += dt\n",
    "        if t > t₁\n",
    "            println(t)\n",
    "            t₁ += t₂\n",
    "     #       @show kinetic/kinetic_init,(energy+kinetic)/(kinetic_init+energy_init)\n",
    "        end\n",
    "        \n",
    "    end\n",
    "    return var\n",
    "end"
   ]
  },
  {
   "cell_type": "code",
   "execution_count": 24,
   "metadata": {},
   "outputs": [
    {
     "data": {
      "text/plain": [
       "total_kinetic (generic function with 1 method)"
      ]
     },
     "execution_count": 24,
     "metadata": {},
     "output_type": "execute_result"
    }
   ],
   "source": [
    "function total_kinetic(var,mz)\n",
    "    r,z,u,v,ρ,p = var.r,var.z,var.u,var.v,var.ρ,var.p\n",
    "    Ip, = size(Tc)\n",
    "    Ic, = size(Tp)\n",
    "    Ib, = size(Tb)\n",
    "    k = zeros(Float64,Ip)\n",
    "    \n",
    "    kinetic = 0\n",
    "    energy = 0\n",
    "     ρ1,mp = MassAndDens(mz, r, z)\n",
    "    \n",
    "    for i in 1:Ip\n",
    "        k[i]= mp[i]*0.5*(u[i]^2+v[i]^2)\n",
    "    end\n",
    "    \n",
    "    \n",
    "    for i in 1:Ic\n",
    "        energy += mz[i]*p_to_e(ρ[i], p[i], con1)\n",
    "    end\n",
    "    \n",
    "    for i in 1:Ib\n",
    "        if Tb[i,4] == 2\n",
    "            ic= Tb[i,1]\n",
    "            energy -= mz[ic]*p_to_e(ρ[ic], p[ic], con1)\n",
    "            \n",
    "            ig₁ = Tb[i,3]\n",
    "            ig₁ == 4 ? ig₂ = 1 : ig₂ = ig₁+1\n",
    "            k[Tp[ic,ig₁]] = 0\n",
    "            k[Tp[ic,ig₂]] = 0\n",
    "            end\n",
    "    end\n",
    "    kinetic = sum(k)\n",
    "    return kinetic,energy\n",
    "end\n"
   ]
  },
  {
   "cell_type": "markdown",
   "metadata": {},
   "source": [
    "## Artificial Viscosity \n",
    "\n",
    "Use the strain rate to construct the artificial viscosity \n",
    "$$\\frac{ds}{dt} = \\frac{\\partial u}{\\partial x}  + \\frac{\\partial v}{\\partial y} $$\n"
   ]
  },
  {
   "cell_type": "markdown",
   "metadata": {},
   "source": [
    "Then the artificial viscosity can be written as\n",
    "$$ q_w = \\left\\{ \\begin{align}\n",
    "\\alpha L \\rho \\left( \\frac{ds}{dt} \\right)^2 +  \\beta L^2 \\rho c \\left|\\frac{ds}{dt}\\right|, \\quad \\text{if}  \\quad \\frac{ds}{dt}< 0,\\\\\n",
    "0, \\quad \\text{if} \\quad \\frac{ds}{dt}\\ge 0. \\\\\n",
    "\\end{align}\n",
    "\\right.\n",
    "$$\n",
    "where $\\alpha = 0.6$, $\\beta = 2.0 $ and $c$ is the sonic speed.\n",
    "\n",
    "$L$ is the reference length, and constructed as\n",
    "$$L = A/L_{\\text{max}} $$\n",
    "\n",
    "$$L_{\\text{max}} = \\text{max}(L_{13},L_{24})$$\n"
   ]
  },
  {
   "cell_type": "code",
   "execution_count": 25,
   "metadata": {},
   "outputs": [
    {
     "data": {
      "text/plain": [
       "artificial_viscosity_c! (generic function with 1 method)"
      ]
     },
     "execution_count": 25,
     "metadata": {},
     "output_type": "execute_result"
    }
   ],
   "source": [
    "function artificial_viscosity_c!(x,y,u,v,ρ,p)\n",
    "    xc = sum(x[i] for i in 1:4)/4\n",
    "    yc = sum(y[i] for i in 1:4)/4\n",
    "    \n",
    "    ∂u_∂x,tmp = ∂uv(x,y,u)\n",
    "    tmp,∂v_∂y = ∂uv(x,y,v)\n",
    "    c = sound([ρ,0.0,p,0.0],con1)\n",
    "    Lmax = max(√((x[3] - x[1])^2+(y[3] - y[1])^2) ,√((x[2] - x[4])^2+(y[2] - y[4])^2) )  \n",
    "    A = area_quadrangle(x, y)\n",
    "    L = A/Lmax \n",
    "\n",
    "    if ∂u_∂x + ∂v_∂y> 0\n",
    "        q = 0\n",
    "    else\n",
    "        q = 0.6ρ*L*c*(abs(∂u_∂x+∂v_∂y))/A +2.0L^2*ρ*((∂u_∂x+∂v_∂y)^2)/A^2 \n",
    "    end\n",
    "    return p+q\n",
    "end"
   ]
  },
  {
   "cell_type": "markdown",
   "metadata": {},
   "source": [
    "$$b_2 \\rho Lc \\frac{\\partial u}{\\partial x} - b_{12}\\rho L^2 \\left(\\frac{\\partial u}{\\partial x}\\right)^2$$"
   ]
  },
  {
   "cell_type": "code",
   "execution_count": 26,
   "metadata": {},
   "outputs": [
    {
     "data": {
      "text/plain": [
       "artificial_viscosity! (generic function with 1 method)"
      ]
     },
     "execution_count": 26,
     "metadata": {},
     "output_type": "execute_result"
    }
   ],
   "source": [
    "function artificial_viscosity!(r,z,u,v,ρ,p)\n",
    "    I, = size(Tp)\n",
    "    rcell = zeros(Float64,4)\n",
    "    zcell = zeros(Float64,4)\n",
    "    ucell = zeros(Float64,4)\n",
    "    vcell = zeros(Float64,4)\n",
    "   \n",
    "    for i in 1:I\n",
    "        for j in 1:4\n",
    "            ip = Tp[i,j]\n",
    "            rcell[j] = r[ip]\n",
    "            zcell[j] = z[ip]\n",
    "            ucell[j] = u[ip]\n",
    "            vcell[j] = v[ip]\n",
    "        end\n",
    "        p[i] = artificial_viscosity_c!(rcell,zcell,ucell,vcell,ρ[i],p[i])\n",
    "    end\n",
    "    \n",
    "        return p\n",
    "        \n",
    "    end       "
   ]
  },
  {
   "cell_type": "code",
   "execution_count": 27,
   "metadata": {},
   "outputs": [
    {
     "data": {
      "text/plain": [
       "l_viscosity (generic function with 1 method)"
      ]
     },
     "execution_count": 27,
     "metadata": {},
     "output_type": "execute_result"
    }
   ],
   "source": [
    "function l_viscosity(x,y,α)\n",
    "    xc = sum(x)/4; yc = sum(y)/4\n",
    "    d = zeros(Float64,4)\n",
    "    for i in 1:4\n",
    "    d[i] = distance(x[i],y[i],xc,yc,α)\n",
    "    end\n",
    "    A = A_z(x, y)\n",
    "    L = 2sum(A)/sum(d)\n",
    "    return L\n",
    "end"
   ]
  },
  {
   "cell_type": "markdown",
   "metadata": {},
   "source": [
    "#### distance from  Point to line \n",
    "Line: $$ (xc -cos \\alpha )(x-xc) = (yc-sin \\alpha)(y-yc)$$\n",
    "point: $x,y$"
   ]
  },
  {
   "cell_type": "code",
   "execution_count": 28,
   "metadata": {},
   "outputs": [
    {
     "data": {
      "text/plain": [
       "distance (generic function with 1 method)"
      ]
     },
     "execution_count": 28,
     "metadata": {},
     "output_type": "execute_result"
    }
   ],
   "source": [
    "function distance(x,y,xc,yc,α)\n",
    "    d = abs((xc - cosd(α)) * (x .-xc)- (yc-sind(α))*(y .- yc))/√((xc-cosd(α))^2+(yc-sind(α))^2)\n",
    "    return d\n",
    "end"
   ]
  },
  {
   "cell_type": "markdown",
   "metadata": {},
   "source": [
    "### 沙漏粘性 Hourglass"
   ]
  },
  {
   "cell_type": "markdown",
   "metadata": {},
   "source": [
    "$$ \\text{hg}_x = u_1 -u_2 + u_3 - u_4$$ \n",
    "$$ \\text{hg}_x = v_1 -v_2 + v_3 - v_4$$ \n",
    "\n",
    "$$ e_{1x} = -\\frac{1}{4}q\\rho c\\sqrt{A}\\text{hg}_x $$\n",
    "$$ e_{1y} = -\\frac{1}{4}q\\rho c\\sqrt{A}\\text{hg}_y $$\n",
    "\n",
    "$$ e_{2x} = \\frac{1}{4}q\\rho c\\sqrt{A}\\text{hg}_x $$\n",
    "$$ e_{2y} = \\frac{1}{4}q\\rho c\\sqrt{A}\\text{hg}_y $$\n",
    "\n",
    "$$ e_{3x} = -\\frac{1}{4}q\\rho c\\sqrt{A}\\text{hg}_x $$\n",
    "$$ e_{3y} = -\\frac{1}{4}q\\rho c\\sqrt{A}\\text{hg}_y $$\n",
    "\n",
    "$$ e_{4x} = \\frac{1}{4}q\\rho c\\sqrt{A}\\text{hg}_x $$\n",
    "$$ e_{4y} = \\frac{1}{4}q\\rho c\\sqrt{A}\\text{hg}_y $$"
   ]
  },
  {
   "cell_type": "code",
   "execution_count": 29,
   "metadata": {},
   "outputs": [
    {
     "data": {
      "text/plain": [
       "hourglass_viscosity (generic function with 1 method)"
      ]
     },
     "execution_count": 29,
     "metadata": {},
     "output_type": "execute_result"
    }
   ],
   "source": [
    "function hourglass_viscosity(x,y,u,v,ρ,p,s)\n",
    "    hgx = u[1] - u[2] + u[3] -u[4]\n",
    "    hgy = v[1] - v[2] + v[3] -v[4]\n",
    "    \n",
    "    ex =zeros(Float64,4)\n",
    "    ey =zeros(Float64,4)\n",
    "    A = area_quadrangle(x,y)\n",
    "    c = sound([ρ,0.0,p,min(s[1],s[2])], con1)\n",
    " #   @show c\n",
    "    q = 0.1 # coefficient of hourglass viscosity 0.01 - 0.5 ?\n",
    "    ex[1] = -0.25q*ρ*c*√(A)*hgx\n",
    "    ey[1] = -0.25q*ρ*c*√(A)*hgy\n",
    "    \n",
    "    ex[2] = -ex[1]\n",
    "    ey[2] = -ey[1]\n",
    "    \n",
    "    ex[3] = ex[1]\n",
    "    ey[3] = ey[1]\n",
    "    \n",
    "    ex[4] = ex[2]\n",
    "    ey[4] = ey[2]\n",
    "    \n",
    "  #ex .= 0\n",
    " # ey .= 0\n",
    " #   @show ex,ey\n",
    "    return ex, ey\n",
    "end"
   ]
  },
  {
   "cell_type": "code",
   "execution_count": 30,
   "metadata": {},
   "outputs": [
    {
     "data": {
      "text/plain": [
       "area_quadrangle (generic function with 1 method)"
      ]
     },
     "execution_count": 30,
     "metadata": {},
     "output_type": "execute_result"
    }
   ],
   "source": [
    "function area_quadrangle(x::Array{Float64,1},y::Array{Float64,1}) \n",
    "   \n",
    "    xc= sum(x[i] for i in 1:4)/4\n",
    "    yc= sum(y[i] for i in 1:4)/4\n",
    "    \n",
    "    A41 = Area3(x[4],x[1],xc,y[4],y[1],yc)\n",
    "    A12 = Area3(x[1],x[2],xc,y[1],y[2],yc)\n",
    "    A23 = Area3(x[2],x[3],xc,y[2],y[3],yc)\n",
    "    A34 = Area3(x[3],x[4],xc,y[3],y[4],yc)\n",
    "    \n",
    "    A = A12 + A23 +A34 +A41\n",
    "    return A\n",
    "end"
   ]
  },
  {
   "cell_type": "code",
   "execution_count": 31,
   "metadata": {},
   "outputs": [
    {
     "data": {
      "text/plain": [
       "Area3 (generic function with 1 method)"
      ]
     },
     "execution_count": 31,
     "metadata": {},
     "output_type": "execute_result"
    }
   ],
   "source": [
    "function Area3(x1,x2,x3,y1,y2,y3)\n",
    "    return abs((x1*y2+y1*x3+x2*y3-x1*y3-y1*x2-y2*x3)/2)\n",
    "end"
   ]
  },
  {
   "cell_type": "markdown",
   "metadata": {},
   "source": [
    "###  $\\frac{\\partial (u,v)}{\\partial (x,y)}$\n",
    "\n",
    "we use the diffences between 1 and 3 points and 2 and 4 points to solve the partial differences approximately, as\n",
    "$$ \\frac{\\partial u}{\\partial x}  \\approx \\frac{1}{2A}((u_1-u_3)(y_2-y_4)+(u_2-u_4)(-y_1+y_3))$$ \n",
    "\n",
    "$$ \\frac{\\partial v}{\\partial y}  \\approx -\\frac{1}{2A}((v_1-v_3)(x_2-x_4)+(v_2-v_4)(-x_1+x_3))$$ \n",
    "Similar process to $\\frac{\\partial u}{\\partial y}$,$\\frac{\\partial v}{\\partial x}$ and $\\frac{\\partial v}{\\partial y}$"
   ]
  },
  {
   "cell_type": "code",
   "execution_count": 32,
   "metadata": {},
   "outputs": [
    {
     "data": {
      "text/plain": [
       "∂uv (generic function with 1 method)"
      ]
     },
     "execution_count": 32,
     "metadata": {},
     "output_type": "execute_result"
    }
   ],
   "source": [
    "function ∂uv(x,y,u)\n",
    "    ∂u_∂x = 0.5(u[1]-u[3])*(y[2]-y[4]) + 0.5(u[2]-u[4])*(y[3]-y[1])\n",
    "    ∂u_∂y = -0.5(u[1]-u[3])*(x[2]-x[4]) - 0.5(u[2]-u[4])*(x[3]-x[1])\n",
    "    return ∂u_∂x,∂u_∂y\n",
    "end"
   ]
  },
  {
   "cell_type": "markdown",
   "metadata": {},
   "source": [
    "## Output function"
   ]
  },
  {
   "cell_type": "code",
   "execution_count": 33,
   "metadata": {},
   "outputs": [
    {
     "data": {
      "text/plain": [
       "cell_coordinate (generic function with 1 method)"
      ]
     },
     "execution_count": 33,
     "metadata": {},
     "output_type": "execute_result"
    }
   ],
   "source": [
    "function cell_coordinate(x,y)\n",
    "    Ip, = size(Tc)\n",
    "    Ic, = size(Tp)\n",
    "    xc = zeros(Float64,Ic)\n",
    "    yc = zeros(Float64,Ic)\n",
    "    \n",
    "    for i in 1:Ic\n",
    "        for j = 1:4\n",
    "            ip = Tp[i,j] \n",
    "            xc[i] += x[ip]/4\n",
    "            yc[i] += y[ip]/4\n",
    "        end\n",
    "        \n",
    "    end\n",
    "    \n",
    "    return xc,yc\n",
    "end"
   ]
  },
  {
   "cell_type": "code",
   "execution_count": 34,
   "metadata": {},
   "outputs": [
    {
     "data": {
      "text/plain": [
       "outputline (generic function with 1 method)"
      ]
     },
     "execution_count": 34,
     "metadata": {},
     "output_type": "execute_result"
    }
   ],
   "source": [
    "function outputline(Ix,Iy,var,mz)\n",
    "    r,z,u,v,ρ,p,s = var.r,var.z,var.u,var.v,var.ρ,var.p,var.s\n",
    "    I, = size(ρ)\n",
    "    \n",
    "    uline =  zeros(Float64,Ix)\n",
    "    rline =  zeros(Float64,Ix)\n",
    "    zline =  zeros(Float64,Ix)\n",
    "    ρline =  zeros(Float64,Ix)        \n",
    "    pline =  zeros(Float64,Ix)  \n",
    "    sline = zeros(Float64,Ix,3)\n",
    "    for i in 1:Ix\n",
    "        j = Int(floor(Iy/2))\n",
    "            ip = i+(j-1 ) *(Ix+1)\n",
    "            ic =i+(j-1)*Ix\n",
    "            uline[i] = u[ip]\n",
    "            rline[i]  = r[ip]\n",
    "            ρline[i]  = ρ[ic]\n",
    "            pline[i] = p[ic]\n",
    "           # σline[i,:] .= σ[ic,:]\n",
    "            sline[i,:] = s[ic,:]\n",
    "    end\n",
    "    return rline,uline,ρline,pline,sline\n",
    "end"
   ]
  },
  {
   "cell_type": "code",
   "execution_count": 35,
   "metadata": {},
   "outputs": [
    {
     "data": {
      "text/plain": [
       "Output_cell (generic function with 1 method)"
      ]
     },
     "execution_count": 35,
     "metadata": {},
     "output_type": "execute_result"
    }
   ],
   "source": [
    "function Output_cell(Ix,Iy,var,mz)\n",
    "    x,y,u,v,ρ,p,s= var.r,var.z,var.u,var.v,var.ρ,var.p,var.s\n",
    "    Ip, = size(Tc)\n",
    "    Ic, = size(Tp)\n",
    "    io = open(\"data.dat\", \"w+\")\n",
    "    A = zeros(Float64,Ip,10)\n",
    "    \n",
    "    text = \" TITLE = \\\"Dataset\\\"\n",
    "VARIABLES = \\\"x\\\" \\\"y\\\" \\\"u\\\" \\\"v\\\" \\\"rho\\\" \\\"p\\\" \\\"srr\\\" \\\"szz\\\" \\\"szr\\\" \\\"s:s\\\"  ZONE T=\\\"Zone 1\\\" \n",
    "I=$Ix,J=$Iy,K=1,ZONETYPE=Ordered \n",
    "DATAPACKING=POINT \\n \"\n",
    "\n",
    "    write(io,text) \n",
    "    for i in 1:Ic\n",
    "        xc = 0\n",
    "        yc =0\n",
    "        uc =0\n",
    "        vc =0\n",
    "        for j = 1:4\n",
    "            ip = Tp[i,j] \n",
    "                xc += x[ip]/4\n",
    "                yc += y[ip]/4\n",
    "                uc += u[ip]/4\n",
    "                vc += v[ip]/4\n",
    "        end\n",
    "        \n",
    "        A[i,1] = xc\n",
    "        A[i,2] = yc\n",
    "        A[i,3] = uc\n",
    "        A[i,4] = vc\n",
    "        A[i,5] = ρ[i]        \n",
    "        A[i,6] = p[i]      \n",
    "        A[i,7:9] .= s[i,1:3] \n",
    "        A[i,10] = (s[i,1]^2+s[i,2]^2 +2s[i,3]^2+(s[i,1]+s[i,2])^2)\n",
    "    end\n",
    "      writedlm(io, A, \"  \")\n",
    "    close(io)\n",
    "end"
   ]
  },
  {
   "cell_type": "code",
   "execution_count": 36,
   "metadata": {},
   "outputs": [
    {
     "data": {
      "text/plain": [
       "Output_point (generic function with 1 method)"
      ]
     },
     "execution_count": 36,
     "metadata": {},
     "output_type": "execute_result"
    }
   ],
   "source": [
    "function Output_point(Ix,Iy,var,mz)\n",
    "    x,y,u,v,ρ,p,s = var.r,var.z,var.u,var.v,var.ρ,var.p,var.s\n",
    "    Ip, = size(Tc)\n",
    "    Ic, = size(Tp)\n",
    "    \n",
    "    io = open(\"data.dat\", \"w+\")\n",
    "    io2 = open(\"data2.dat\", \"w+\")\n",
    "    #s = zeros(Float64,Ip,3)\n",
    "    A = zeros(Float64,Ip,10)\n",
    "   # for i in 1:Ip\n",
    "    \n",
    "    text = \" TITLE = \\\"Dataset\\\"\n",
    "VARIABLES = \\\"x\\\" \\\"y\\\" \\\"u\\\" \\\"v\\\" \\\"rho\\\" \\\"p\\\" \\\"srr\\\" \\\"szz\\\" \\\"szr\\\" \\\"Y\\\"  ZONE T=\\\"Zone 1\\\" \n",
    "I=$(Ix+1),J=$(Iy+1),K=1,ZONETYPE=Ordered \n",
    "DATAPACKING=POINT \\n \"\n",
    "      text2 = \" TITLE = \\\"Dataset\\\"\n",
    "VARIABLES = \\\"x\\\" \\\"y\\\" \\\"u\\\" \\\"v\\\" \\\"rho\\\" \\\"p\\\" \\\"srr\\\" \\\"szz\\\" \\\"szr\\\"  \\\"Y\\\"  ZONE T=\\\"Zone 1\\\" \n",
    "I=201,J=21,K=1,ZONETYPE=Ordered \n",
    "DATAPACKING=POINT \\n \"\n",
    "  #  write(1,*)\n",
    "    write(io,text)\n",
    "    write(io2,text2)\n",
    "       ρp = zeros(Float64,Ip)\n",
    "       pp = zeros(Float64,Ip)\n",
    "       np = zeros(Int,Ip)\n",
    "       sp = zeros(Float64,Ip,3)\n",
    "    \n",
    "    for i in 1:Ic\n",
    "        \n",
    "        xc = 0\n",
    "        yc =0\n",
    "        uc =0\n",
    "        vc =0\n",
    "        \n",
    "        \n",
    "        for j = 1:4\n",
    "            ip = Tp[i,j] \n",
    "            ρp[ip] += ρ[i]\n",
    "            pp[ip] += p[i]\n",
    "            sp[ip,:] += s[i,:]\n",
    "            np[ip] += 1   \n",
    "        end\n",
    "    end\n",
    "    \n",
    "    \n",
    "        ρp = ρp ./ np\n",
    "        pp = pp ./ np\n",
    "        sp = sp ./ np\n",
    "    \n",
    "        A[:,1] = x\n",
    "        A[:,2] = y\n",
    "        A[:,3] = u*10000\n",
    "        A[:,4] = v*10000\n",
    "        A[:,5] = ρp*1000\n",
    "        A[:,6] = pp*100\n",
    "        A[:,7:9] = sp[:,1:3]*100  \n",
    "        A[:,10] .= .√(sp[:,1].^2 +sp[:,2].^2+(sp[:,1]+sp[:,2]).^2+2*sp[:,3].^2)/(con1.Y0*√(2/3))\n",
    "            \n",
    "        \n",
    "     B = zeros(Float64,(201)*(21),10)\n",
    "    \n",
    " \n",
    "    for i in 2:202\n",
    "        for j in 21:41\n",
    "            B[i-1+(j-21)*(201),:] = A[i+(j-1)*(202),:]\n",
    "        end\n",
    "    end\n",
    "    \n",
    "  \n",
    "      writedlm(io, A, \"  \")\n",
    "    \n",
    "  \n",
    "        writedlm(io2, B, \"  \")\n",
    "    close(io)\n",
    "    close(io2)\n",
    "end"
   ]
  },
  {
   "cell_type": "code",
   "execution_count": 37,
   "metadata": {},
   "outputs": [
    {
     "ename": "UndefVarError",
     "evalue": "UndefVarError: I not defined",
     "output_type": "error",
     "traceback": [
      "UndefVarError: I not defined",
      "",
      "Stacktrace:",
      " [1] top-level scope at In[37]:1"
     ]
    }
   ],
   "source": [
    "\n",
    "Output_point(I,J,var,mz)"
   ]
  },
  {
   "cell_type": "code",
   "execution_count": 38,
   "metadata": {},
   "outputs": [
    {
     "ename": "UndefVarError",
     "evalue": "UndefVarError: J not defined",
     "output_type": "error",
     "traceback": [
      "UndefVarError: J not defined",
      "",
      "Stacktrace:",
      " [1] top-level scope at In[38]:1"
     ]
    }
   ],
   "source": [
    "J"
   ]
  },
  {
   "cell_type": "markdown",
   "metadata": {},
   "source": [
    "## Cases"
   ]
  },
  {
   "cell_type": "code",
   "execution_count": 40,
   "metadata": {},
   "outputs": [
    {
     "data": {
      "text/plain": [
       "Piston (generic function with 1 method)"
      ]
     },
     "execution_count": 40,
     "metadata": {},
     "output_type": "execute_result"
    }
   ],
   "source": [
    " function Piston()\n",
    "\n",
    "    global problem = prb(1.5e2,0.1)\n",
    "    # global problem = prb(3e-5,0.3)\n",
    "     \n",
    "    I =  100\n",
    "    J = 5\n",
    "    dx = 100/I\n",
    "    dy = 10/J\n",
    "\n",
    "    I1= I+1\n",
    "    J1= J+2\n",
    "    global   con1 = Const(9e-4,8.930,2.0,4.5e-1,0.3940,1.49)\n",
    "  #  global   con1 = Const(0.0,8930,2.0,4.5e10,3940.0,1.49)\n",
    "    Ip = (I1+1)*(J1+1) # Number of  points\n",
    "    Ic = I1*J1  # number of cells\n",
    "    \n",
    "    global Tp = zeros(Int,Ic,4) #格点\n",
    "    global Tc = zeros(Int,Ip,4) #点格\n",
    "    \n",
    "    #@show Tc, Ip\n",
    "    global Tb = zeros(Int, 2I1 + 2J1,4) #边界 \n",
    "    \n",
    "    ## Tb[i,1] ghost cell number\n",
    "    ## Tb[i,2] bound cell number\n",
    "    ## Tb[i,3] ghost cell point share with the bound \n",
    "    ## Tb[i,4] type of the boundary\n",
    "    \n",
    "    \n",
    "    \n",
    "   # 点格表，格点表初始化 \n",
    "    for i in 1:I1 \n",
    "        for j in 1:J1\n",
    "            ic = i+(j-1)*I1\n",
    "            Tp[ic,1] = i + (j-1)*(I1+1)\n",
    "            Tp[ic,2] = i+1 +(j-1)*(I1+1)\n",
    "            Tp[ic,3]=i+1+j*(I1+1)\n",
    "            Tp[ic,4]=i+j*(I1+1) \n",
    "        end\n",
    "    end\n",
    "    \n",
    "    for i = 1:I1+1\n",
    "        for j = 1:J1+1\n",
    "            ip =i+(j-1)*(I1+1)\n",
    "            Tc[ip,1] = i +(j-1)*I1 #(i,j)\n",
    "            Tc[ip,2] = i-1+(j-1)*I1 #(i-1,j)\n",
    "            Tc[ip,3] = i-1+(j-2)*I1 #(i-1,j-1)\n",
    "            Tc[ip,4] = i+(j-2)*I1   #(i,j-1)\n",
    "        end\n",
    "    end\n",
    "    \n",
    "\n",
    "# Bound \n",
    "  ib = 0\n",
    "        for j = 1:J1\n",
    "            i=1\n",
    "            ib += 1\n",
    "            ic =i+(j-1)*I1 \n",
    "            Tb[ib,1] = ic\n",
    "            Tb[ib,2] = (i+1)+(j-1)*I1\n",
    "            Tb[ib,3] = 4\n",
    "            Tb[ib,4] = 3\n",
    "        end\n",
    "    \n",
    "      for i = 1:I1-1\n",
    "            for j in (1,J1)\n",
    "                ib += 1\n",
    "                ic =i+(j-1)*I1\n",
    "                \n",
    "                Tb[ib,1] = ic\n",
    "               \n",
    "                if j==1 \n",
    "                    Tb[ib,2] = i+(j+1-1)*I1\n",
    "                    Tb[ib,3] = 3\n",
    "                    Tb[ib,4] = 2\n",
    "                end\n",
    "                if j==J1\n",
    "                    Tb[ib,2] = i+(j-1-1)*I1\n",
    "                    Tb[ib,3] = 1\n",
    "                    Tb[ib,4] = 2\n",
    "                end\n",
    "            end\n",
    "        end\n",
    "         for j = 1:J1\n",
    "             i = I1\n",
    "            ib += 1\n",
    "            ic =i+(j-1)*I1\n",
    "            Tb[ib,1] = ic\n",
    "             Tb[ib,2] = (i-1)+(j-1)*I1 #bound type 1:free 2: wall ..  Tb[:,2] y direction\n",
    "             Tb[ib,3] = 4\n",
    "             Tb[ib,4] = 2\n",
    "         end\n",
    "    \n",
    "    #流场初始化 Init of the flow\n",
    "    \n",
    "    x = zeros(Float64,Ip)\n",
    "    y = zeros(Float64,Ip)\n",
    "    u = zeros(Float64,Ip)\n",
    "    v = zeros(Float64,Ip)\n",
    "    \n",
    "    ρ = zeros(Float64,Ic)\n",
    "    mz = zeros(Float64,Ic)\n",
    "    p = zeros(Float64,Ic)\n",
    "    Az= zeros(Float64,Ic)\n",
    "    s = zeros(Float64,Ic,3)\n",
    "    \n",
    "    for i in 1:I1+1\n",
    "        for j = 1:J1+1\n",
    "            ip =i+(j-1)*(I1+1)\n",
    "            x[ip] = (i-1)*dx\n",
    "            y[ip] = (j-2)*dy\n",
    "            u[ip] = 0\n",
    "            v[ip] = 0.0\n",
    "        end\n",
    "    end\n",
    "    \n",
    "      \n",
    "    \n",
    "    var = Var(x,y,u,v,ρ,p,s)\n",
    "    x,y = bound_ghost_coordinate!(x,y,u,v)\n",
    "  #  x,y = bound_ghost_coordinate!(x,y)\n",
    "    xz = zeros(Float64,4)\n",
    "    yz = zeros(Float64,4) \n",
    "    for i in 1:I1\n",
    "        for j in 1:J1\n",
    "            ic = i+(j-1)*(I1)\n",
    "            xz[1:4] = x[Tp[ic,1:4]]\n",
    "            yz[1:4] = y[Tp[ic,1:4]]\n",
    "            A = A_z(xz,yz)\n",
    "            Az[ic] = sum(A)\n",
    "                p[ic] = 1.e-6\n",
    "                ρ[ic] = 8.930\n",
    "                mz[ic] = ρ[ic] * Az[ic]\n",
    "                s[ic,:] .= 0       \n",
    "        end\n",
    "    end \n",
    "    return var,mz,I1,J1\n",
    "end"
   ]
  },
  {
   "cell_type": "code",
   "execution_count": 41,
   "metadata": {},
   "outputs": [
    {
     "name": "stdout",
     "output_type": "stream",
     "text": [
      "1.6855050411205441\n",
      "3.1530206148107514\n",
      "4.617160122941333\n",
      "6.079274328351767\n",
      "7.540259722529125\n",
      "9.001047439069266\n",
      "10.670503797387243\n",
      "12.131107579022013\n",
      "13.591373275598139\n",
      "15.0511200648254\n",
      "16.510364790620265\n",
      "18.177732050298452\n",
      "19.636569668512728\n",
      "21.09540277536431\n",
      "22.554274182210726\n",
      "24.01319176647067\n",
      "25.680567228646463\n",
      "27.139532600110957\n",
      "28.598488079705536\n",
      "30.057428965956266\n",
      "31.516361325735826\n",
      "33.18370277266194\n",
      "34.64261506913845\n",
      "36.101515319543815\n",
      "37.560404175399825\n",
      "39.01928220348122\n",
      "40.68655776026483\n",
      "42.14541158177646\n",
      "43.60425386125828\n",
      "45.06308475256495\n",
      "46.52190429639065\n",
      "48.1891126172358\n",
      "49.647907554167794\n",
      "51.106691018884874\n",
      "52.5654630887362\n",
      "54.02422376468318\n",
      "55.691364815809315\n",
      "57.15010098666531\n",
      "58.608825779330715\n",
      "60.06753921791645\n",
      "61.526241295691676\n",
      "63.19331549950106\n",
      "64.65199332930321\n",
      "66.11065987262769\n",
      "67.56931509834385\n",
      "69.02795903278586\n",
      "70.69496698732405\n",
      "72.15358705140696\n",
      "73.61219593524686\n",
      "75.07079351043863\n",
      "76.52937975786358\n",
      "78.19632171470555\n",
      "79.65488393203118\n",
      "81.11343485821838\n",
      "82.57197440031611\n",
      "84.03050258468515\n",
      "85.69737813214962\n",
      "87.1558821436862\n",
      "88.61437477275412\n",
      "90.07285598149105\n",
      "91.53132582508356\n",
      "93.1981346403781\n",
      "94.65658017045861\n",
      "96.11501426123945\n",
      "97.57343692283268\n",
      "99.03184820674541\n",
      "100.69859002700223\n",
      "102.1569768671654\n",
      "103.61535224458049\n",
      "105.07371619118479\n",
      "106.53206873187858\n",
      "108.19874334777877\n",
      "109.65707134316844\n",
      "111.11538787106535\n",
      "112.57369295873119\n",
      "114.03198660173273\n",
      "115.69859385339399\n",
      "117.15686288890996\n",
      "118.6151204553538\n",
      "120.07336656018212\n",
      "121.5316011814488\n",
      "123.19814094878919\n",
      "124.65635093152446\n",
      "126.11454943702208\n",
      "127.57273645465183\n",
      "129.0309119623308\n",
      "130.6973841604663\n",
      "132.15553501523866\n",
      "133.61367437251238\n",
      "135.07180221374784\n",
      "136.52991852891196\n",
      "138.19632307356906\n",
      "139.65441471932732\n",
      "141.11249484416098\n",
      "142.57056343464862\n",
      "144.028620494519\n",
      "145.69495731404618\n",
      "147.15298968336998\n",
      "148.61101051322876\n"
     ]
    },
    {
     "data": {
      "text/plain": [
       "Var([0.3, 1.29381, 2.28897, 3.28413, 4.27929, 5.27446, 6.26962, 7.26478, 8.25995, 9.25511  …  92.0, 93.0, 94.0, 95.0, 96.0, 97.0, 98.0, 99.0, 100.0, 101.0], [-2.0, -2.0, -2.0, -2.0, -2.0, -2.0, -2.0, -2.0, -2.0, -2.0  …  12.0, 12.0, 12.0, 12.0, 12.0, 12.0, 12.0, 12.0, 12.0, 12.0], [0.00176891, 0.00199646, 0.00199648, 0.00199651, 0.00199651, 0.00199655, 0.00199655, 0.00199659, 0.00199659, 0.00199663  …  9.30435e-7, 5.70729e-7, 3.4426e-7, 2.0408e-7, 1.18597e-7, 6.69475e-8, 3.54957e-8, 1.526e-8, 8.96591e-43, 1.526e-8], [-1.73119e-16, 1.26925e-16, -1.04473e-16, -3.83925e-16, -3.31965e-17, 2.38752e-16, 1.8772e-16, -1.41216e-16, -2.48775e-16, 4.00628e-16  …  2.45992e-15, 1.63166e-16, -7.47951e-16, 2.62352e-15, 1.58499e-15, -8.84087e-16, -1.75205e-15, -3.54943e-15, -3.17367e-15, -3.54943e-15], [8.98566, 8.97342, 8.97341, 8.97341, 8.9734, 8.97339, 8.97339, 8.97339, 8.97339, 8.97339  …  8.93002, 8.93001, 8.93001, 8.93, 8.93, 8.93, 8.93, 8.93, 8.93, 8.93], [0.00800921, 0.00682395, 0.00681998, 0.00681708, 0.00681488, 0.00681326, 0.00681211, 0.00681155, 0.00681139, 0.00681133  …  4.05367e-6, 2.88058e-6, 2.13939e-6, 1.6796e-6, 1.3997e-6, 1.23298e-6, 1.13674e-6, 1.08476e-6, 1.06213e-6, 1.06213e-6], [0.0006 -0.0003 9.72196e-17; -0.000585132 0.000292566 -4.73901e-16; … ; -2.68898e-8 1.34449e-8 -9.76129e-16; -2.68898e-8 1.34449e-8 9.76129e-16])"
      ]
     },
     "execution_count": 41,
     "metadata": {},
     "output_type": "execute_result"
    }
   ],
   "source": [
    "var,mz,I,J=Piston()\n",
    "#Output1\n",
    "var= TimeSolve(var,mz)"
   ]
  },
  {
   "cell_type": "code",
   "execution_count": null,
   "metadata": {},
   "outputs": [],
   "source": [
    "push!(LOAD_PATH,\"/home/bfly/workspace/Juliastudy/Src\")"
   ]
  },
  {
   "cell_type": "code",
   "execution_count": null,
   "metadata": {},
   "outputs": [],
   "source": [
    "uo,u,x,inter = Lag1DNum.Piston()\n",
    "uo,x  = Lag1DNum.TimeSolve(uo, x,inter)"
   ]
  },
  {
   "cell_type": "code",
   "execution_count": 68,
   "metadata": {},
   "outputs": [
    {
     "data": {
      "text/plain": [
       "([0.0703313, 0.0708311, 0.0713302, 0.071829, 0.0723279, 0.0728268, 0.0733257, 0.0738246, 0.0743236, 0.0748226  …  4.99575, 4.99625, 4.99675, 4.99725, 4.99775, 4.99825, 4.99875, 4.99925, 4.99975, 5.00025], [-0.01, -0.01, -0.01, -0.01, -0.01, -0.01, -0.01, -0.01, -0.01, -0.01  …  0.03, 0.03, 0.03, 0.03, 0.03, 0.03, 0.03, 0.03, 0.03, 0.03])"
      ]
     },
     "execution_count": 68,
     "metadata": {},
     "output_type": "execute_result"
    }
   ],
   "source": [
    "rcell, zcell = cell_coordinate(var.r,var.z)"
   ]
  },
  {
   "cell_type": "code",
   "execution_count": 43,
   "metadata": {},
   "outputs": [
    {
     "ename": "BoundsError",
     "evalue": "BoundsError: attempt to access 816×10 Array{Float64,2} at index [4042, Base.Slice(Base.OneTo(10))]",
     "output_type": "error",
     "traceback": [
      "BoundsError: attempt to access 816×10 Array{Float64,2} at index [4042, Base.Slice(Base.OneTo(10))]",
      "",
      "Stacktrace:",
      " [1] throw_boundserror(::Array{Float64,2}, ::Tuple{Int64,Base.Slice{Base.OneTo{Int64}}}) at ./abstractarray.jl:484",
      " [2] checkbounds at ./abstractarray.jl:449 [inlined]",
      " [3] _getindex at ./multidimensional.jl:641 [inlined]",
      " [4] getindex at ./abstractarray.jl:927 [inlined]",
      " [5] Output_point(::Int64, ::Int64, ::Var, ::Array{Float64,1}) at ./In[36]:65",
      " [6] top-level scope at In[43]:2"
     ]
    }
   ],
   "source": [
    "using DelimitedFiles\n",
    "Output_point(I,J,var,mz)"
   ]
  },
  {
   "cell_type": "code",
   "execution_count": 73,
   "metadata": {},
   "outputs": [],
   "source": [
    "f = open(\"1WStaggered.dat\",\"w\")\n",
    "for i in 1:10000\n",
    "    print(f,rcell[i]/100,\" \", var.ρ[i]*1000,\" \",var.u[i]*10000,\" \",var.p[i]*10^11,\" \",var.s[i]*10^11, \" \",(var.s[i]-var.p[i])*10^11 ,\"\\n\")\n",
    "end\n",
    "close(f)"
   ]
  },
  {
   "cell_type": "code",
   "execution_count": 42,
   "metadata": {},
   "outputs": [
    {
     "name": "stderr",
     "output_type": "stream",
     "text": [
      "┌ Info: Recompiling stale cache file /home/bfly/.juliapro/JuliaPro_v1.1.1.1/compiled/v1.1/PyPlot/oatAj.ji for PyPlot [d330b81b-6aea-500a-939a-2ce795aea3ee]\n",
      "└ @ Base loading.jl:1184\n"
     ]
    }
   ],
   "source": [
    "using PyPlot"
   ]
  },
  {
   "cell_type": "code",
   "execution_count": 70,
   "metadata": {},
   "outputs": [
    {
     "data": {
      "image/png": "[encoded data removed]",
      "text/plain": [
       "Figure(PyObject <Figure size 640x480 with 1 Axes>)"
      ]
     },
     "metadata": {},
     "output_type": "display_data"
    },
    {
     "data": {
      "text/plain": [
       "1-element Array{PyCall.PyObject,1}:\n",
       " PyObject <matplotlib.lines.Line2D object at 0x7fd94d1e19e8>"
      ]
     },
     "execution_count": 70,
     "metadata": {},
     "output_type": "execute_result"
    }
   ],
   "source": [
    "plot(rcell[1:10000],var.s[1:10000])"
   ]
  },
  {
   "cell_type": "code",
   "execution_count": null,
   "metadata": {},
   "outputs": [],
   "source": [
    " function Pistonz()\n",
    "\n",
    "    global problem = prb(1.5e-4,0.3)\n",
    "    # global problem = prb(3e-5,0.3)\n",
    "     \n",
    "    I = 10\n",
    "    J = 100\n",
    "    dx = 0.1/I\n",
    "    dy = 1/J\n",
    "    \n",
    "    global   con1 = Const(9e7,8930,2.0,4.5e10,3940.0,1.49)\n",
    "    \n",
    "    Ip = (I+1)*(J+1) # Number of  points\n",
    "    Ic = I*J  # number of cells\n",
    "    \n",
    "    global Tp = zeros(Int,Ic,4) #格点\n",
    "    global Tc = zeros(Int,Ip,4) #点格\n",
    "    \n",
    "    #@show Tc, Ip\n",
    "    global Tb = zeros(Int, I*2+J*2,3) #边界 \n",
    "    \n",
    "    IBL = J+1\n",
    "    IBR = J+1\n",
    "    IBU = I+1\n",
    "    IBD = I+1\n",
    "   # 点格表，格点表初始化 \n",
    "    for i in 1:I \n",
    "        for j in 1:J\n",
    "            ic = i+(j-1)*I\n",
    "            Tp[ic,1] = i + (j-1)*(I+1)\n",
    "            Tp[ic,2] = i+1 +(j-1)*(I+1)\n",
    "            Tp[ic,3]=i+1+j*(I+1)\n",
    "            Tp[ic,4]=i+j*(I+1) \n",
    "        end\n",
    "    end\n",
    "    \n",
    "    for i = 1:I+1\n",
    "        for j = 1:J+1\n",
    "            ip = i+(j-1)*(I+1)\n",
    "            Tc[ip,1] = i +(j-1)*I #(i,j)\n",
    "            Tc[ip,2] = i-1+(j-1)*I #(i-1,j)\n",
    "            Tc[ip,3] = i-1+(j-2)*I #(i-1,j-1)\n",
    "            Tc[ip,4] = i+(j-2)*I   #(i,j-1)\n",
    "            end\n",
    "        end\n",
    "    \n",
    "\n",
    "# Bound \n",
    "  ib = 0\n",
    "    for i = 1:I+1\n",
    "        for j = 1:J+1\n",
    "            if i == 1 || i== I+1 ||  j == 1 || j == J+1\n",
    "                ib += 1\n",
    "                ic =i+(j-1)*I\n",
    "                #ic = Tc[ip]\n",
    "                Tb[ib,1] = ic\n",
    "                if i==1 \n",
    "                    Tb[ib,2] = 4 # 1->4 \n",
    "                    Tb[ib,3] = 2 # type 1:free 2:\n",
    "                end   \n",
    "                 if  i==I+1 \n",
    "                    Tb[ib,2] = 2 #bound type 1:free 2: wall ..  Tb[:,2] y direction\n",
    "                    Tb[ib,3] = 2\n",
    "                end\n",
    "            \n",
    "                if j==1 \n",
    "                    Tb[ib,2] = 1\n",
    "                    Tb[ib,3] = 1\n",
    "                end\n",
    "                if j==J+1\n",
    "                    Tb[ib,2] = 3 \n",
    "                    Tb[ib,3] = 1\n",
    "                end\n",
    "            end\n",
    "        end\n",
    "    end\n",
    "\n",
    "    #流场初始化 Init of the flow\n",
    "    \n",
    "    x = zeros(Float64,Ip)\n",
    "    y = zeros(Float64,Ip)\n",
    "    u = zeros(Float64,Ip)\n",
    "    v = zeros(Float64,Ip)\n",
    "    \n",
    "    ρ = zeros(Float64,Ic)\n",
    "    mz = zeros(Float64,Ic)\n",
    "    p = zeros(Float64,Ic)\n",
    "    Az= zeros(Float64,Ic)\n",
    "    σ = zeros(Float64,Ic,3)\n",
    "    \n",
    "    for i in 1:I+1\n",
    "        for j = 1:J+1\n",
    "            ip =i+(j-1)*(I+1)\n",
    "            x[ip] = (i-1)*dx\n",
    "            y[ip] = (j-1)*dy\n",
    "            u[ip] = 0\n",
    "            v[ip] = 0.0\n",
    "        end\n",
    "    end\n",
    "    \n",
    "    xz = zeros(Float64,4)\n",
    "    yz = zeros(Float64,4) \n",
    "    for i in 1:I\n",
    "        for j in 1:J\n",
    "            ic = i+(j-1)*I\n",
    "            xz[1:4] = x[Tp[ic,1:4]]\n",
    "            yz[1:4] = y[Tp[ic,1:4]]\n",
    "            A = A_z(xz,yz)\n",
    "            Az[ic] = sum(A) #[1]+A[2]+A[3]+A[4]\n",
    "          #  if i>=I/2\n",
    "               \n",
    "                p[ic] = 1.e5\n",
    "                ρ[ic] = 8930\n",
    "                mz[ic] = ρ[ic] * Az[ic]\n",
    "                σ[ic,1] = -p[ic]\n",
    "                σ[ic,2] = -p[ic]\n",
    "                σ[ic,3]= 0 \n",
    "#             else\n",
    "#                 mz[ic] = 1.0 * Az[ic]\n",
    "#                 p[ic] = 1.0\n",
    "#                 ρ[ic] = 1.0\n",
    "#             end\n",
    "        end\n",
    "    end\n",
    "    var = Var(x,y,u,v,ρ,p,σ)\n",
    "    return var,mz,I,J\n",
    "end"
   ]
  },
  {
   "cell_type": "code",
   "execution_count": null,
   "metadata": {},
   "outputs": [],
   "source": [
    "var,mz,I,J=Pistonz()\n",
    "#Output1\n",
    "var = TimeSolve(var,mz)"
   ]
  },
  {
   "cell_type": "code",
   "execution_count": null,
   "metadata": {},
   "outputs": [],
   "source": [
    "rcell, zcell = cell_coordinate(var.r,var.z)"
   ]
  },
  {
   "cell_type": "code",
   "execution_count": null,
   "metadata": {},
   "outputs": [],
   "source": [
    "plot3D(var.r,var.z,var.v)\n",
    "#triplot()"
   ]
  },
  {
   "cell_type": "code",
   "execution_count": null,
   "metadata": {},
   "outputs": [],
   "source": [
    "tricontourf(var.r,var.z,var.v)"
   ]
  },
  {
   "cell_type": "code",
   "execution_count": 57,
   "metadata": {},
   "outputs": [
    {
     "data": {
      "text/plain": [
       "0.0025"
      ]
     },
     "execution_count": 57,
     "metadata": {},
     "output_type": "execute_result"
    }
   ],
   "source": [
    "5/4000*2"
   ]
  },
  {
   "cell_type": "code",
   "execution_count": 66,
   "metadata": {},
   "outputs": [
    {
     "data": {
      "text/plain": [
       "Wilkins (generic function with 1 method)"
      ]
     },
     "execution_count": 66,
     "metadata": {},
     "output_type": "execute_result"
    }
   ],
   "source": [
    " function Wilkins()\n",
    "\n",
    "    global problem = prb(5,0.5)\n",
    "    # global problem = prb(3e-5,0.3)\n",
    "     \n",
    "    I =  10000\n",
    "    J = 1\n",
    "    dx = 5/I\n",
    "    dy = 0.02/J\n",
    "\n",
    "    I1= I+1\n",
    "    J1= J+2\n",
    "    global   con1 = Const(3e-3,2.785,2.0,2.76e-1,0.5328,1.338)\n",
    "  #  global   con1 = Const(0.0,8930,2.0,4.5e10,3940.0,1.49)\n",
    "    Ip = (I1+1)*(J1+1) # Number of  points\n",
    "    Ic = I1*J1  # number of cells\n",
    "    \n",
    "    global Tp = zeros(Int,Ic,4) #格点\n",
    "    global Tc = zeros(Int,Ip,4) #点格\n",
    "    \n",
    "    #@show Tc, Ip\n",
    "    global Tb = zeros(Int, 2I1 + 2J1,4) #边界 \n",
    "    \n",
    "    ## Tb[i,1] ghost cell number\n",
    "    ## Tb[i,2] bound cell number\n",
    "    ## Tb[i,3] ghost cell point share with the bound \n",
    "    ## Tb[i,4] type of the boundary\n",
    "    \n",
    "    \n",
    "    \n",
    "   # 点格表，格点表初始化 \n",
    "    for i in 1:I1 \n",
    "        for j in 1:J1\n",
    "            ic = i+(j-1)*I1\n",
    "            Tp[ic,1] = i + (j-1)*(I1+1)\n",
    "            Tp[ic,2] = i+1 +(j-1)*(I1+1)\n",
    "            Tp[ic,3]=i+1+j*(I1+1)\n",
    "            Tp[ic,4]=i+j*(I1+1) \n",
    "        end\n",
    "    end\n",
    "    \n",
    "    for i = 1:I1+1\n",
    "        for j = 1:J1+1\n",
    "            ip =i+(j-1)*(I1+1)\n",
    "            Tc[ip,1] = i +(j-1)*I1 #(i,j)\n",
    "            Tc[ip,2] = i-1+(j-1)*I1 #(i-1,j)\n",
    "            Tc[ip,3] = i-1+(j-2)*I1 #(i-1,j-1)\n",
    "            Tc[ip,4] = i+(j-2)*I1   #(i,j-1)\n",
    "        end\n",
    "    end\n",
    "    \n",
    "\n",
    "# Bound \n",
    "  ib = 0\n",
    "        for j = 1:J1\n",
    "            i=1\n",
    "            ib += 1\n",
    "            ic =i+(j-1)*I1 \n",
    "            Tb[ib,1] = ic\n",
    "            Tb[ib,2] = (i+1)+(j-1)*I1\n",
    "            Tb[ib,3] = 4\n",
    "            Tb[ib,4] = 1\n",
    "        end\n",
    "    \n",
    "      for i = 1:I1-1\n",
    "            for j in (1,J1)\n",
    "                ib += 1\n",
    "                ic =i+(j-1)*I1\n",
    "                \n",
    "                Tb[ib,1] = ic\n",
    "               \n",
    "                if j==1 \n",
    "                    Tb[ib,2] = i+(j+1-1)*I1\n",
    "                    Tb[ib,3] = 3\n",
    "                    Tb[ib,4] = 2\n",
    "                end\n",
    "                if j==J1\n",
    "                    Tb[ib,2] = i+(j-1-1)*I1\n",
    "                    Tb[ib,3] = 1\n",
    "                    Tb[ib,4] = 2\n",
    "                end\n",
    "            end\n",
    "        end\n",
    "         for j = 1:J1\n",
    "             i = I1\n",
    "            ib += 1\n",
    "            ic =i+(j-1)*I1\n",
    "            Tb[ib,1] = ic\n",
    "             Tb[ib,2] = (i-1)+(j-1)*I1 #bound type 1:free 2: wall ..  Tb[:,2] y direction\n",
    "             Tb[ib,3] = 4\n",
    "             Tb[ib,4] = 2\n",
    "         end\n",
    "    \n",
    "    #流场初始化 Init of the flow\n",
    "    \n",
    "    x = zeros(Float64,Ip)\n",
    "    y = zeros(Float64,Ip)\n",
    "    u = zeros(Float64,Ip)\n",
    "    v = zeros(Float64,Ip)\n",
    "    \n",
    "    ρ = zeros(Float64,Ic)\n",
    "    mz = zeros(Float64,Ic)\n",
    "    p = zeros(Float64,Ic)\n",
    "    Az= zeros(Float64,Ic)\n",
    "    s = zeros(Float64,Ic,3)\n",
    "    \n",
    "    for i in 1:I1+1\n",
    "        for j = 1:J1+1\n",
    "            ip =i+(j-1)*(I1+1)\n",
    "            x[ip] = (i-1)*dx\n",
    "            y[ip] = (j-2)*dy\n",
    "            if x[ip]< 0.5\n",
    "                u[ip] = 0.08\n",
    "                v[ip] = 0.0\n",
    "            else \n",
    "                u[ip] = 0.0\n",
    "                v[ip] = 0.0\n",
    "            end\n",
    "        end\n",
    "    end\n",
    "    \n",
    "      \n",
    "    \n",
    "    var = Var(x,y,u,v,ρ,p,s)\n",
    "    x,y = bound_ghost_coordinate!(x,y,u,v)\n",
    "  #  x,y = bound_ghost_coordinate!(x,y)\n",
    "    xz = zeros(Float64,4)\n",
    "    yz = zeros(Float64,4) \n",
    "    for i in 1:I1\n",
    "        for j in 1:J1\n",
    "            ic = i+(j-1)*(I1)\n",
    "            xz[1:4] = x[Tp[ic,1:4]]\n",
    "            yz[1:4] = y[Tp[ic,1:4]]\n",
    "            A = A_z(xz,yz)\n",
    "            Az[ic] = sum(A)\n",
    "                p[ic] = 1.e-18\n",
    "                ρ[ic] = 2.785\n",
    "                mz[ic] = ρ[ic] * Az[ic]\n",
    "                s[ic,:] .= 0       \n",
    "        end\n",
    "    end \n",
    "    return var,mz,I1,J1\n",
    "end"
   ]
  },
  {
   "cell_type": "code",
   "execution_count": 67,
   "metadata": {},
   "outputs": [
    {
     "name": "stdout",
     "output_type": "stream",
     "text": [
      "0.050150358140985965\n",
      "0.10022046426183348\n",
      "0.15028859883517365\n",
      "0.2000371536957475\n",
      "0.2501043302731189\n",
      "0.3001713896401976\n",
      "0.3502384164827511\n",
      "0.4003054528196913\n",
      "0.45005362951197014\n",
      "0.5001207515022509\n",
      "0.5501879306216638\n",
      "0.6002551706394073\n",
      "0.6500035692387036\n",
      "0.7000709259881472\n",
      "0.7501383393514132\n",
      "0.8002058076643883\n",
      "0.8502733273351585\n",
      "0.9000219927698793\n",
      "0.9500896042078891\n",
      "1.0001572592135701\n",
      "1.0502249534757573\n",
      "1.1002926824958503\n",
      "1.150041544457599\n",
      "1.2001093396921088\n",
      "1.250177164407123\n",
      "1.3002450175862386\n",
      "1.3503128946611582\n",
      "1.4000618934822846\n",
      "1.4501298162221683\n",
      "1.5001977613154793\n",
      "1.5502657238012931\n",
      "1.600014801278871\n",
      "1.6500827984411344\n",
      "1.700150811536454\n",
      "1.7502188398749916\n",
      "1.8002868803394774\n",
      "1.8500360306328956\n",
      "1.900104096244782\n",
      "1.9501721737355624\n",
      "2.0002402620907986\n",
      "2.0503083592712628\n",
      "2.100057560917812\n",
      "2.150125676455843\n",
      "2.200193799691193\n",
      "2.2502619310970178\n",
      "2.3000111644216035\n",
      "2.3500793095061066\n",
      "2.400147461063908\n",
      "2.450215618591373\n",
      "2.5002837812088137\n",
      "2.550033043471821\n",
      "2.6001012164065935\n",
      "2.6501693936528787\n",
      "2.700237575398205\n",
      "2.7503057616117954\n",
      "2.8000550460318383\n",
      "2.8501232397815524\n",
      "2.9001914370714146\n",
      "2.950259637533269\n",
      "3.000008935158296\n",
      "3.0500771411497376\n",
      "3.100145349622245\n",
      "3.150213560517543\n",
      "3.200281773706741\n",
      "3.2500310830816237\n",
      "3.300099300427034\n",
      "3.350167519835533\n",
      "3.400235741029059\n",
      "3.4503039641627313\n",
      "3.500053283012601\n",
      "3.550121509258111\n",
      "3.600189737015358\n",
      "3.650257966081649\n",
      "3.700007290302829\n",
      "3.7500755216934576\n",
      "3.800143754088548\n",
      "3.8502119873996885\n",
      "3.900280221624058\n",
      "3.950029550809675\n",
      "4.0000977866718666\n",
      "4.050166023054178\n",
      "4.1002342601554105\n",
      "4.150302497812171\n",
      "4.200051830047968\n",
      "4.250120068756132\n",
      "4.300188307863904\n",
      "4.35025654737\n",
      "4.400005881162715\n",
      "4.45007412098425\n",
      "4.500142360582284\n",
      "4.550210600131188\n",
      "4.600278839666916\n",
      "4.650028173196183\n",
      "4.700096412676802\n",
      "4.7501646521361325\n",
      "4.800232891559608\n",
      "4.850301130934145\n",
      "4.900050464278808\n",
      "4.950118703595764\n",
      "5.0\n"
     ]
    },
    {
     "data": {
      "text/plain": [
       "Var([0.0700813, 0.0705813, 0.0710808, 0.0715796, 0.0720784, 0.0725773, 0.0730762, 0.0735752, 0.0740741, 0.0745731  …  4.996, 4.9965, 4.997, 4.9975, 4.998, 4.9985, 4.999, 4.9995, 5.0, 5.0005], [-0.02, -0.02, -0.02, -0.02, -0.02, -0.02, -0.02, -0.02, -0.02, -0.02  …  0.04, 0.04, 0.04, 0.04, 0.04, 0.04, 0.04, 0.04, 0.04, 0.04], [0.000699843, 0.000699843, 0.000699843, 0.000699844, 0.000699844, 0.000699844, 0.000699845, 0.000699846, 0.000699846, 0.000699847  …  0.0, 0.0, 0.0, 0.0, 0.0, 0.0, 0.0, 0.0, 0.0, 0.0], [1.24284e-21, -0.0, 0.0, -0.0, -0.0, 0.0, 0.0, -0.0, 0.0, 0.0  …  0.0, 0.0, 0.0, 0.0, 0.0, 0.0, 0.0, 0.0, 0.0, 0.0], [2.785, 2.78824, 2.79169, 2.79145, 2.79123, 2.79103, 2.79086, 2.79072, 2.79061, 2.79052  …  2.785, 2.785, 2.785, 2.785, 2.785, 2.785, 2.785, 2.785, 2.785, 2.785], [1.9988e-7, 0.000944756, 0.00199452, 0.00199424, 0.00199416, 0.00199411, 0.00199307, 0.00199319, 0.00199502, 0.00199614  …  1.0e-18, 1.0e-18, 1.0e-18, 1.0e-18, 1.0e-18, 1.0e-18, 1.0e-18, 1.0e-18, 1.0e-18, 1.0e-18], [1.95514e-7 -9.77568e-8 -9.17967e-18; 0.000944743 -0.000472371 -9.29172e-18; … ; 0.0 0.0 -0.0; 0.0 0.0 0.0])"
      ]
     },
     "execution_count": 67,
     "metadata": {},
     "output_type": "execute_result"
    }
   ],
   "source": [
    "var,mz,I,J=Wilkins()\n",
    "#Output1\n",
    "var = TimeSolve(var,mz)"
   ]
  },
  {
   "cell_type": "code",
   "execution_count": null,
   "metadata": {},
   "outputs": [],
   "source": []
  },
  {
   "cell_type": "markdown",
   "metadata": {},
   "source": [
    "## 单位变换"
   ]
  },
  {
   "cell_type": "markdown",
   "metadata": {},
   "source": [
    "$$ 1kg/m^3 = 10^{-3} g/cm^3$$\n",
    "$$1m/s = 10^{-4} cm/\\mu s$$\n",
    "$$ 1Pa = 1N/m^2 = 1kg/(m\\cdot s^2) = (1000g)/(100cm \\cdot 10^{12} \\mu s^2) = 10^{-11} g/(cm \\cdot s^2)$$ "
   ]
  },
  {
   "cell_type": "code",
   "execution_count": 158,
   "metadata": {},
   "outputs": [
    {
     "data": {
      "text/plain": [
       "Collapse (generic function with 1 method)"
      ]
     },
     "execution_count": 158,
     "metadata": {},
     "output_type": "execute_result"
    }
   ],
   "source": [
    " function Collapse()\n",
    "\n",
    "    global problem = prb(1.3e2,0.3)\n",
    "  #  global problem = prb(50,0.3)\n",
    "    # global problem = prb(5e-5,0.3)\n",
    "    \n",
    "    I = 40\n",
    "    J = 32\n",
    "    dr = 2.0/J\n",
    "    dθ = 90/I\n",
    "    \n",
    "    I1 = I +2\n",
    "    J1 = J\n",
    "    \n",
    "    global   con1 = Const(3.3e-3,1.845,2.0,1.519,1.287,1.124)\n",
    "    \n",
    "    Ip = (I1+1)*(J1+1) # Number of  points\n",
    "    Ic = I1*J1  # number of cells\n",
    "    \n",
    "     Ip = (I1+1)*(J1+1) # Number of  points\n",
    "    Ic = I1*J1  # number of cells\n",
    "    \n",
    "    global Tp = zeros(Int,Ic,4) #格点\n",
    "    global Tc = zeros(Int,Ip,4) #点格\n",
    "    \n",
    "    #@show Tc, Ip\n",
    "    global Tb = zeros(Int, 2I1 + 2J1,4) #边界 \n",
    "    \n",
    "    ## Tb[i,1] ghost cell number\n",
    "    ## Tb[i,2] bound cell number\n",
    "    ## Tb[i,3] ghost cell point share with the bound \n",
    "    ## Tb[i,4] type of the boundary\n",
    "    \n",
    "    \n",
    "    \n",
    "   # 点格表，格点表初始化 \n",
    "    for i in 1:I1 \n",
    "        for j in 1:J1\n",
    "            ic = i+(j-1)*I1\n",
    "            Tp[ic,1] = i + (j-1)*(I1+1)\n",
    "            Tp[ic,2] = i+1 +(j-1)*(I1+1)\n",
    "            Tp[ic,3]=i+1+j*(I1+1)\n",
    "            Tp[ic,4]=i+j*(I1+1) \n",
    "        end\n",
    "    end\n",
    "    \n",
    "    for i = 1:I1+1\n",
    "        for j = 1:J1+1\n",
    "            ip =i+(j-1)*(I1+1)\n",
    "            Tc[ip,1] = i +(j-1)*I1 #(i,j)\n",
    "            Tc[ip,2] = i-1+(j-1)*I1 #(i-1,j)\n",
    "            Tc[ip,3] = i-1+(j-2)*I1 #(i-1,j-1)\n",
    "            Tc[ip,4] = i+(j-2)*I1   #(i,j-1)\n",
    "        end\n",
    "    end\n",
    "    \n",
    "\n",
    "# Bound \n",
    "  ib = 0\n",
    "        for j = 1:J1\n",
    "            i=1\n",
    "            ib += 1\n",
    "            ic =i+(j-1)*I1 \n",
    "            Tb[ib,1] = ic\n",
    "            Tb[ib,2] = (i+1)+(j-1)*I1\n",
    "            Tb[ib,3] = 2\n",
    "            Tb[ib,4] = 2\n",
    "        end\n",
    "         for j = 1:J1\n",
    "             i = I1\n",
    "            ib += 1\n",
    "            ic =i+(j-1)*I1\n",
    "            Tb[ib,1] = ic\n",
    "             Tb[ib,2] = (i-1)+(j-1)*I1 #bound type 1:free 2: wall ..  Tb[:,2] y direction\n",
    "             Tb[ib,3] = 4\n",
    "             Tb[ib,4] = 2\n",
    "         end\n",
    "      for i = 1:I1\n",
    "            for j in (1,J1)\n",
    "                ib += 1\n",
    "                ic =i+(j-1)*I1\n",
    "                \n",
    "                Tb[ib,1] = ic\n",
    "               \n",
    "                if j==1 \n",
    "                    Tb[ib,2] = i+(j+1-1)*I1\n",
    "                    Tb[ib,3] = 1\n",
    "                    Tb[ib,4] = 1\n",
    "                end\n",
    "                if j==J1\n",
    "                    Tb[ib,2] = i+(j-1-1)*I1\n",
    "                    Tb[ib,3] = 3\n",
    "                    Tb[ib,4] = 1\n",
    "                end\n",
    "            end\n",
    "        end\n",
    "        \n",
    "    #流场初始化 Init of the flow\n",
    "    \n",
    "    x = zeros(Float64,Ip)\n",
    "    y = zeros(Float64,Ip)\n",
    "    u = zeros(Float64,Ip)\n",
    "    v = zeros(Float64,Ip)\n",
    "    \n",
    "    ρ = zeros(Float64,Ic)\n",
    "    mz = zeros(Float64,Ic)\n",
    "    p = zeros(Float64,Ic)\n",
    "    Az= zeros(Float64,Ic)\n",
    "    s = zeros(Float64,Ic,3)\n",
    "    \n",
    "    for i in 1:I1+1\n",
    "        for j = 1:J1+1\n",
    "            ip =i+(j-1)*(I1+1)\n",
    "            r₁ = (j-1)*dr+8\n",
    "            θ = 90-(i-2)*dθ\n",
    "            v₀ = 4.171e-2\n",
    "            x[ip] = cosd(θ)*r₁\n",
    "            y[ip] = sind(θ)*r₁\n",
    "            u[ip] = -v₀*8/r₁ *cosd(θ)\n",
    "            v[ip] = -v₀*8/r₁ *sind(θ)\n",
    "        end\n",
    "    end\n",
    "      \n",
    "    \n",
    "    var = Var(x,y,u,v,ρ,p,s)\n",
    "    x,y,u,v = bound_ghost_coordinate!(x,y,u,v)\n",
    "    xz = zeros(Float64,4)\n",
    "    yz = zeros(Float64,4) \n",
    "    for i in 1:I1\n",
    "        for j in 1:J1\n",
    "            ic = i+(j-1)*(I1)\n",
    "            xz[1:4] = x[Tp[ic,1:4]]\n",
    "            yz[1:4] = y[Tp[ic,1:4]]\n",
    "            A = A_z(xz,yz)\n",
    "            Az[ic] = sum(A)\n",
    "                p[ic] = 1.e-5\n",
    "                ρ[ic] = 1.845\n",
    "                mz[ic] = ρ[ic] * Az[ic]\n",
    "                s[ic,:] .= 0       \n",
    "        end\n",
    "    end \n",
    "    return var,mz,I1,J1\n",
    "end"
   ]
  },
  {
   "cell_type": "code",
   "execution_count": 205,
   "metadata": {},
   "outputs": [
    {
     "name": "stdout",
     "output_type": "stream",
     "text": [
      "1.3039213263803646\n",
      "2.604500809690488\n",
      "3.901861922878127\n",
      "5.205127897109418\n",
      "6.503384992875783\n",
      "7.806864222873404\n",
      "9.105261006656146\n",
      "10.409076912289041\n",
      "11.70718409535844\n",
      "13.011145905828513\n",
      "14.308864663231898\n",
      "15.600828565769463\n",
      "16.90983404411175\n",
      "18.20095487539812\n",
      "19.509463428966693\n",
      "20.811454092180767\n",
      "22.10716071952466\n",
      "23.40816665911913\n",
      "24.70248420661775\n",
      "26.00220279963952\n",
      "27.30707842268777\n",
      "28.605140694620385\n",
      "29.90841314194967\n",
      "31.204535558010267\n",
      "32.50582712223696\n",
      "33.81216230307348\n",
      "35.111155581235955\n",
      "36.40274054190073\n",
      "37.71163206795117\n",
      "39.00042297867973\n",
      "40.306583286372366\n",
      "41.60490805063909\n",
      "42.9079955632206\n",
      "44.203086264825444\n",
      "45.502756506796615\n",
      "46.80704965552695\n",
      "48.10305442386652\n",
      "49.40350475391511\n",
      "50.7084219972956\n",
      "52.004759263767426\n",
      "53.305393317055135\n",
      "54.61032704611526\n",
      "55.90638668346627\n",
      "57.206580480038035\n",
      "58.51089778317693\n",
      "59.80604298937367\n",
      "61.10514766355113\n",
      "62.408191738667824\n",
      "63.70176160426375\n",
      "65.01250022359649\n",
      "66.3001981485837\n",
      "67.60498058856876\n",
      "68.9134185051003\n",
      "70.21193438872108\n",
      "71.50036051699526\n",
      "72.80578141961512\n",
      "74.10096494491742\n",
      "75.41311896070975\n",
      "76.70114095717335\n",
      "78.00604669397336\n",
      "79.30030602927306\n",
      "80.61140369475063\n",
      "81.91169332006714\n",
      "83.20102119175601\n",
      "84.50705758493994\n",
      "85.8019666524027\n",
      "87.11353520999008\n",
      "88.4137957303915\n",
      "89.70261148996653\n",
      "91.00793979860009\n",
      "92.30164488307031\n",
      "93.6117929483704\n",
      "94.91014752554061\n",
      "96.21071649392734\n",
      "97.51343815149326\n",
      "98.80405582890995\n",
      "100.11086576232445\n",
      "101.40539397432958\n",
      "102.7017707148196\n",
      "104.01420184419135\n",
      "105.31408707212465\n",
      "106.60130473656206\n",
      "107.90438955304006\n",
      "109.20897621130464\n",
      "110.50063593524894\n",
      "111.80800075221498\n",
      "113.10226490176973\n",
      "114.41211825889785\n",
      "115.70870097530477\n",
      "117.00632705197398\n",
      "118.30492432041606\n",
      "119.60442026659003\n",
      "120.90474014047578\n",
      "122.20580996195636\n",
      "123.50755606684542\n",
      "124.80990284126592\n",
      "126.11277501532666\n",
      "127.40161448111893\n",
      "128.70530848212158\n",
      "130.0\n"
     ]
    },
    {
     "data": {
      "text/plain": [
       "Var([-0.196139, 0.0, 0.196139, 0.391976, 0.587208, 0.781534, 0.974656, 1.16627, 1.3561, 1.54382  …  7.42598, 7.51498, 7.5924, 7.65811, 7.71201, 7.75402, 7.78407, 7.80212, 7.80814, 7.80212], [4.99207, 4.99592, 4.99207, 4.98052, 4.96129, 4.93441, 4.89993, 4.85788, 4.80835, 4.7514  …  2.41285, 2.11944, 1.82277, 1.52329, 1.22146, 0.917748, 0.61262, 0.306546, 0.0, -0.306546], [1.26386e-5, -0.0, 1.26386e-5, 2.52576e-5, 3.78377e-5, 5.03595e-5, 6.28037e-5, 7.51509e-5, 8.73824e-5, 9.9479e-5  …  0.000224848, 0.000227543, 0.000229887, 0.000231877, 0.000233509, 0.000234781, 0.000235691, 0.000236237, 0.000236419, 0.000236237], [0.000321673, 0.000321921, 0.000321673, 0.000320929, 0.00031969, 0.000317958, 0.000315735, 0.000313026, 0.000309834, 0.000306165  …  7.30576e-5, 6.41738e-5, 5.5191e-5, 4.61231e-5, 3.69841e-5, 2.77881e-5, 1.85493e-5, 9.28178e-6, 0.0, 9.28178e-6], [1.84398, 1.84398, 1.84398, 1.84398, 1.84398, 1.84398, 1.84398, 1.84398, 1.84398, 1.84398  …  1.84499, 1.84499, 1.84499, 1.84499, 1.84499, 1.84499, 1.84499, 1.84499, 1.84499, 1.84499], [0.00185803, 0.00185803, 0.00185803, 0.00185803, 0.00185803, 0.00185803, 0.00185803, 0.00185803, 0.00185803, 0.00185803  …  0.00188422, 0.00188422, 0.00188422, 0.00188422, 0.00188422, 0.00188422, 0.00188422, 0.00188422, 0.00188422, 0.00188422], [-0.00183426 0.00185162 -7.24093e-5; -0.00183426 0.00185162 7.24093e-5; … ; 0.00188039 -0.00187163 7.37087e-5; 0.00188039 -0.00187163 -7.37087e-5])"
      ]
     },
     "execution_count": 205,
     "metadata": {},
     "output_type": "execute_result"
    }
   ],
   "source": [
    "var,mz,I,J = Collapse()\n",
    "var = TimeSolve(var,mz)"
   ]
  },
  {
   "cell_type": "code",
   "execution_count": 150,
   "metadata": {
    "scrolled": true
   },
   "outputs": [
    {
     "name": "stdout",
     "output_type": "stream",
     "text": [
      "1.3039213208034708\n",
      "(kinetic / kinetic_init, (energy + kinetic) / (kinetic_init + energy_init)) = (0.98496558001273, 0.9999999224068559)\n",
      "2.6045007914611347\n",
      "(kinetic / kinetic_init, (energy + kinetic) / (kinetic_init + energy_init)) = (0.9690597567637653, 0.9999997520604826)\n"
     ]
    },
    {
     "ename": "InterruptException",
     "evalue": "InterruptException:",
     "output_type": "error",
     "traceback": [
      "InterruptException:",
      "",
      "Stacktrace:",
      " [1] broadcasted at ./broadcast.jl:1169 [inlined]",
      " [2] broadcasted(::Function, ::Float64, ::Float64) at ./broadcast.jl:1167",
      " [3] rhs(::Var) at ./In[107]:43",
      " [4] predictor_corrector2nd(::Float64, ::Var, ::Array{Float64,1}) at ./In[110]:32",
      " [5] TimeSolve(::Var, ::Array{Float64,1}) at ./In[123]:19",
      " [6] top-level scope at In[150]:2"
     ]
    }
   ],
   "source": [
    "var,mz,I,J = Collapse()\n",
    "var = TimeSolve(var,mz)\n",
    "using DelimitedFiles\n",
    "(I,J,var,mz)"
   ]
  },
  {
   "cell_type": "code",
   "execution_count": 151,
   "metadata": {},
   "outputs": [
    {
     "ename": "UndefVarError",
     "evalue": "UndefVarError: I1 not defined",
     "output_type": "error",
     "traceback": [
      "UndefVarError: I1 not defined",
      "",
      "Stacktrace:",
      " [1] Output_point(::Int64, ::Int64, ::Var, ::Array{Float64,1}) at ./In[149]:66",
      " [2] top-level scope at In[151]:2"
     ]
    }
   ],
   "source": [
    "using DelimitedFiles\n",
    "Output_point(I,J,var,mz)"
   ]
  },
  {
   "cell_type": "code",
   "execution_count": 207,
   "metadata": {},
   "outputs": [
    {
     "name": "stdout",
     "output_type": "stream",
     "text": [
      "tmp / 41 = 4.995921896119672\n"
     ]
    },
    {
     "data": {
      "text/plain": [
       "4.995921896119672"
      ]
     },
     "execution_count": 207,
     "metadata": {},
     "output_type": "execute_result"
    }
   ],
   "source": [
    "tmp =0.0\n",
    "for i in 1:41\n",
    "   tmp += √(var.r[i]^2 + var.z[i]^2)\n",
    "end\n",
    "@show tmp/41"
   ]
  },
  {
   "cell_type": "code",
   "execution_count": 208,
   "metadata": {},
   "outputs": [
    {
     "name": "stdout",
     "output_type": "stream",
     "text": [
      "tmax = 3.949729432406457e-12\n"
     ]
    },
    {
     "data": {
      "text/plain": [
       "3.949729432406457e-12"
      ]
     },
     "execution_count": 208,
     "metadata": {},
     "output_type": "execute_result"
    }
   ],
   "source": [
    "tmax =0.0\n",
    "for i in 1:41\n",
    "    tmp2 = √(var.r[i]^2 + var.z[i]^2)\n",
    "    if abs(tmp2 - tmp/41) >tmax\n",
    "        tmax = abs(tmp2-tmp/41)\n",
    "    end\n",
    "end\n",
    "@show tmax"
   ]
  },
  {
   "cell_type": "code",
   "execution_count": null,
   "metadata": {},
   "outputs": [],
   "source": [
    " rcell = zeros(Float64,4)\n",
    "    zcell = zeros(Float64,4)\n",
    "    ucell = zeros(Float64,4)\n",
    "    vcell = zeros(Float64,4)\n",
    "\n",
    "Ic, = size(Tp) \n",
    "for i in 1:Ic\n",
    "        for j =1:4\n",
    "            rcell[j] = var.r[Tp[i,j]]\n",
    "            zcell[j] = var.z[Tp[i,j]]\n",
    "            ucell[j] = var.u[Tp[i,j]]\n",
    "            vcell[j] = var.v[Tp[i,j]]\n",
    "        end\n",
    "        Az = sum(A_z(rcell,zcell))\n",
    "@show Az\n",
    "end"
   ]
  },
  {
   "cell_type": "code",
   "execution_count": 210,
   "metadata": {},
   "outputs": [
    {
     "data": {
      "text/plain": [
       "Impact (generic function with 1 method)"
      ]
     },
     "execution_count": 210,
     "metadata": {},
     "output_type": "execute_result"
    }
   ],
   "source": [
    " function Impact()\n",
    "\n",
    "    global problem = prb(6000,0.3)\n",
    "    # global problem = prb(5e-5,0.3)\n",
    "    \n",
    "    I = 200\n",
    "    J = 40\n",
    "    dx = 500/I\n",
    "    dy = 100/J\n",
    "    \n",
    "    global   con1 = Const(3e-3,2.785,2.0,2.7e-1,0.5328,1.338)\n",
    "    \n",
    "    I1 = I +1\n",
    "    J1 = J\n",
    "    \n",
    "    Ip = (I1+1)*(J1+1) # Number of  points\n",
    "    Ic = I1*J1  # number of cells\n",
    "    \n",
    "    global Tp = zeros(Int,Ic,4) #格点\n",
    "    global Tc = zeros(Int,Ip,4) #点格\n",
    "    \n",
    "    #@show Tc, Ip\n",
    "    global Tb = zeros(Int, 2I1 + 2J1,4) #边界 \n",
    "    \n",
    "    ## Tb[i,1] ghost cell number\n",
    "    ## Tb[i,2] bound cell number\n",
    "    ## Tb[i,3] ghost cell point share with the bound \n",
    "    ## Tb[i,4] type of the boundary\n",
    "    \n",
    "    \n",
    "    \n",
    "   # 点格表，格点表初始化 \n",
    "    for i in 1:I1 \n",
    "        for j in 1:J1\n",
    "            ic = i+(j-1)*I1\n",
    "            Tp[ic,1] = i + (j-1)*(I1+1)\n",
    "            Tp[ic,2] = i+1 +(j-1)*(I1+1)\n",
    "            Tp[ic,3]=i+1+j*(I1+1)\n",
    "            Tp[ic,4]=i+j*(I1+1) \n",
    "        end\n",
    "    end\n",
    "    \n",
    "    for i = 1:I1+1\n",
    "        for j = 1:J1+1\n",
    "            ip =i+(j-1)*(I1+1)\n",
    "            Tc[ip,1] = i +(j-1)*I1 #(i,j)\n",
    "            Tc[ip,2] = i-1+(j-1)*I1 #(i-1,j)\n",
    "            Tc[ip,3] = i-1+(j-2)*I1 #(i-1,j-1)\n",
    "            Tc[ip,4] = i+(j-2)*I1   #(i,j-1)\n",
    "        end\n",
    "    end\n",
    "    \n",
    "# Bound \n",
    "  ib = 0\n",
    "        for j = 1:J1\n",
    "            i=1\n",
    "            ib += 1\n",
    "            ic =i+(j-1)*I1 \n",
    "            Tb[ib,1] = ic\n",
    "            Tb[ib,2] = (i+1)+(j-1)*I1\n",
    "            Tb[ib,3] = 2\n",
    "            Tb[ib,4] = 2\n",
    "        end\n",
    "    \n",
    "         for j = 1:J1\n",
    "             i = I1\n",
    "            ib += 1\n",
    "            ic =i+(j-1)*I1\n",
    "            Tb[ib,1] = ic\n",
    "             Tb[ib,2] = (i-1)+(j-1)*I1 #bound type 1:free 2: wall ..  Tb[:,2] y direction\n",
    "             Tb[ib,3] = 2\n",
    "             Tb[ib,4] = 1\n",
    "         end\n",
    "      for i = 1:I1\n",
    "            for j in (1,J1)\n",
    "                ib += 1\n",
    "                ic =i+(j-1)*I1\n",
    "                \n",
    "                Tb[ib,1] = ic\n",
    "               \n",
    "                if j==1 \n",
    "                    Tb[ib,2] = i+(j+1-1)*I1\n",
    "                    Tb[ib,3] = 1\n",
    "                    Tb[ib,4] = 1\n",
    "                end\n",
    "                if j==J1\n",
    "                    Tb[ib,2] = i+(j-1-1)*I1\n",
    "                    Tb[ib,3] = 3\n",
    "                    Tb[ib,4] = 1\n",
    "                end\n",
    "            end\n",
    "        end\n",
    "        \n",
    "    #流场初始化 Init of the flow\n",
    "    \n",
    "    x = zeros(Float64,Ip)\n",
    "    y = zeros(Float64,Ip)\n",
    "    u = zeros(Float64,Ip)\n",
    "    v = zeros(Float64,Ip)\n",
    "    \n",
    "    ρ = zeros(Float64,Ic)\n",
    "    mz = zeros(Float64,Ic)\n",
    "    p = zeros(Float64,Ic)\n",
    "    Az= zeros(Float64,Ic)\n",
    "    s = zeros(Float64,Ic,3)\n",
    "    \n",
    "    for i in 1:I1+1\n",
    "        for j = 1:J1+1\n",
    "            ip =i+(j-1)*(I1+1)\n",
    "            x[ip] = (i-2)*dx\n",
    "            y[ip] = (j-1)*dy\n",
    "            u[ip] = -1.50e-2\n",
    "            v[ip] = 0.0\n",
    "        end\n",
    "    end\n",
    "    \n",
    "    var = Var(x,y,u,v,ρ,p,s)\n",
    "    x,y,u,v = bound_ghost_coordinate!(x,y,u,v)\n",
    "    xz = zeros(Float64,4)\n",
    "    yz = zeros(Float64,4) \n",
    "    for i in 1:I1\n",
    "        for j in 1:J1\n",
    "            ic = i+(j-1)*(I1)\n",
    "            xz[1:4] = x[Tp[ic,1:4]]\n",
    "            yz[1:4] = y[Tp[ic,1:4]]\n",
    "            A = A_z(xz,yz)\n",
    "            Az[ic] = sum(A)\n",
    "                 p[ic] = 1e-10\n",
    "                ρ[ic] = 2.785\n",
    "                mz[ic] = ρ[ic] * Az[ic]\n",
    "                s[ic,:] .= 0\n",
    "        end\n",
    "    end \n",
    " return var,mz,I1,J1\n",
    "end"
   ]
  },
  {
   "cell_type": "code",
   "execution_count": 211,
   "metadata": {
    "scrolled": true
   },
   "outputs": [
    {
     "name": "stdout",
     "output_type": "stream",
     "text": [
      "60.708028495719624\n",
      "120.82451495742694\n",
      "180.09696352454657\n",
      "240.79276608475982\n",
      "300.4233529358316\n",
      "360.0517404486461\n",
      "420.5580728903971\n",
      "480.5424533442195\n",
      "540.408984886226\n",
      "600.2993988816921\n",
      "660.3446767628301\n",
      "720.4801665938892\n",
      "780.5848064816123\n",
      "840.4778432867537\n",
      "900.2597550718571\n",
      "960.0750905825424\n",
      "1020.6021853245408\n",
      "1080.4474796946042\n",
      "1140.2997116868792\n",
      "1200.808120125757\n",
      "1260.2102502113203\n",
      "1320.2017136499867\n",
      "1380.7646253746823\n",
      "1440.373285683224\n",
      "1500.4948856506408\n",
      "1560.2108667184318\n",
      "1620.2291917198836\n",
      "1680.4390472172145\n",
      "1740.163206242754\n",
      "1800.1584219122728\n",
      "1860.318358768791\n",
      "1920.563048779007\n",
      "1980.1926572525717\n",
      "2040.415438590946\n",
      "2100.6038775266156\n",
      "2160.0743013764136\n",
      "2220.0932724809945\n",
      "2280.2355841135864\n",
      "2340.3569706454246\n",
      "2400.1653934736364\n",
      "2460.2360415548737\n",
      "2520.4454160433243\n",
      "2580.253142740205\n",
      "2640.2400942922773\n",
      "2700.4327958549384\n",
      "2760.018055118926\n",
      "2820.3164621568076\n",
      "2880.395952172861\n",
      "2940.2391273474223\n",
      "3000.2164673707844\n",
      "3060.229789498408\n",
      "3120.2354089879964\n",
      "3180.069059001976\n",
      "3240.3224084368285\n",
      "3300.0006888619155\n",
      "3360.046185432515\n",
      "3420.0124212748333\n",
      "3480.0466337248567\n",
      "3540.1299067470804\n",
      "3600.0163251645076\n",
      "3660.2110595207296\n",
      "3720.0170510018015\n",
      "3780.1503265889846\n",
      "3840.039375782213\n",
      "3900.1029479215067\n",
      "3960.2566040721563\n",
      "4020.1959495065166\n",
      "4080.093315669339\n",
      "4140.146810818009\n",
      "4200.17746575472\n",
      "4260.16691513833\n",
      "4320.119979166573\n",
      "4380.003374410988\n",
      "4440.1282756285445\n",
      "4500.088495542815\n",
      "4560.0090691735395\n",
      "4620.191732778949\n",
      "4680.152605969838\n",
      "4740.200622638974\n",
      "4800.166681436035\n",
      "4860.10800052325\n",
      "4920.137541341263\n",
      "4980.049944982048\n",
      "5040.194038567146\n",
      "5100.161228991466\n",
      "5160.14709640074\n",
      "5220.138090683558\n",
      "5280.176314653072\n",
      "5340.077761813673\n",
      "5400.179717800326\n",
      "5460.09710109991\n",
      "5520.059865500536\n",
      "5580.082647416908\n",
      "5640.134976179048\n",
      "5700.192236529892\n",
      "5760.0928314478315\n",
      "5820.0088203117875\n",
      "5880.1388430345\n",
      "5940.101263988879\n"
     ]
    },
    {
     "data": {
      "text/plain": [
       "Var([-2.4305, 0.0, 2.4305, 4.73989, 7.0004, 9.25766, 11.5133, 13.7615, 16.0139, 18.27  …  438.201, 440.701, 443.201, 445.7, 448.2, 450.7, 453.2, 455.7, 458.2, 460.7], [-37.5473, -37.8323, -37.5473, -36.9725, -36.3902, -35.8024, -35.2135, -34.6315, -34.0506, -33.4621  …  99.9997, 99.9997, 99.9998, 99.9999, 99.9999, 99.9999, 99.9998, 99.9995, 99.9992, 99.9988], [-8.6835e-6, -0.0, -8.6835e-6, -1.50168e-5, -1.7633e-5, -1.6492e-5, -1.29013e-5, -5.30202e-6, 8.32736e-6, 2.85233e-5  …  0.00225424, 0.00226842, 0.0022848, 0.00230264, 0.00232038, 0.0023366, 0.00235135, 0.00236268, 0.00236928, 0.0023716], [0.000244483, 0.000249211, 0.000244483, 0.000232108, 0.000215131, 0.000196122, 0.000174465, 0.000151029, 0.000127405, 0.000106968  …  5.65458e-5, 6.56965e-5, 6.96395e-5, 6.74753e-5, 5.80532e-5, 4.35544e-5, 2.43641e-5, 1.24646e-6, -2.27492e-5, -4.75032e-5], [2.77738, 2.77738, 2.77747, 2.77717, 2.77702, 2.77692, 2.77688, 2.77684, 2.77678, 2.77667  …  2.78518, 2.78517, 2.78516, 2.78513, 2.7851, 2.78507, 2.78505, 2.78503, 2.78502, 2.78502], [-0.00115142, -0.00115142, -0.00136514, -0.00153357, -0.00158545, -0.00161514, -0.00162743, -0.00163193, -0.00163455, -0.00164253  …  5.15695e-5, 4.98526e-5, 4.50808e-5, 3.76419e-5, 2.91785e-5, 2.13872e-5, 1.47676e-5, 9.72445e-6, 6.12907e-6, 5.77249e-6], [0.00172732 -0.00144308 -0.000271787; 0.00172732 -0.00144308 0.000271787; … ; -1.29561e-6 -7.93918e-8 3.16052e-6; 4.27352e-6 -5.58457e-6 7.05357e-7])"
      ]
     },
     "execution_count": 211,
     "metadata": {},
     "output_type": "execute_result"
    }
   ],
   "source": [
    "var,mz,I,J = Impact()\n",
    "var = TimeSolve(var,mz)"
   ]
  },
  {
   "cell_type": "code",
   "execution_count": 212,
   "metadata": {},
   "outputs": [],
   "source": [
    "using DelimitedFiles\n",
    "Output_point(I,J,var,mz)"
   ]
  },
  {
   "cell_type": "code",
   "execution_count": 75,
   "metadata": {},
   "outputs": [
    {
     "data": {
      "text/plain": [
       "572-element Array{Float64,1}:\n",
       " -1.4633934829493118e-15\n",
       " -1.0345411112180169e-15\n",
       " -1.4633934829493118e-15\n",
       " -8.402729866514592e-16 \n",
       " -1.819951438562635e-15 \n",
       " -1.6524145564511796e-15\n",
       " -1.0847136930431504e-15\n",
       " -1.8534701447445326e-15\n",
       " -1.2730300809946046e-15\n",
       " -1.5045826999307195e-15\n",
       " -1.852448122257305e-15 \n",
       "  1.590841104610437e-16 \n",
       "  1.277873532391558e-16 \n",
       "  ⋮                     \n",
       "  1.4916201984353308e-15\n",
       "  4.785147484741018e-15 \n",
       " -1.2136095546182232e-14\n",
       "  8.73102430927251e-15  \n",
       " -7.300128622214157e-15 \n",
       " -3.156780179231275e-15 \n",
       "  1.184636289854388e-14 \n",
       " -1.1481352315820308e-15\n",
       " -4.29977164197353e-15  \n",
       " -6.678509989591749e-14 \n",
       " -4.0995749000291245e-14\n",
       " -3.595126613051837e-18 "
      ]
     },
     "execution_count": 75,
     "metadata": {},
     "output_type": "execute_result"
    }
   ],
   "source": [
    "var.v"
   ]
  },
  {
   "cell_type": "code",
   "execution_count": null,
   "metadata": {},
   "outputs": [],
   "source": []
  }
 ],
 "metadata": {
  "@webio": {
   "lastCommId": null,
   "lastKernelId": null
  },
  "kernelspec": {
   "display_name": "Julia 1.1.1",
   "language": "julia",
   "name": "julia-1.1"
  },
  "language_info": {
   "file_extension": ".jl",
   "mimetype": "application/julia",
   "name": "julia",
   "version": "1.1.1"
  }
 },
 "nbformat": 4,
 "nbformat_minor": 2
}
