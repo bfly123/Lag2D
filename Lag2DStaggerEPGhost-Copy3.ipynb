{
 "cells": [
  {
   "cell_type": "markdown",
   "metadata": {},
   "source": [
    "#  Code for 2D staggered Lagrangian method in Cartersian coordinates"
   ]
  },
  {
   "cell_type": "markdown",
   "metadata": {},
   "source": [
    "## Control equations"
   ]
  },
  {
   "cell_type": "markdown",
   "metadata": {},
   "source": [
    "一般形式下，弹塑性流体控制方程为：\n",
    "\n",
    "质量方程：\n",
    "\\begin{equation}\n",
    "  \\frac{dm}{dt}=0\n",
    "  \\end{equation}\n",
    "动量方程：\n",
    "\\begin{equation}\n",
    "  \\frac{d\\rho \\mathbf{u}}{dt}= \\nabla \\cdot  \\mathbf{\\Pi} \n",
    "\\end{equation}\n",
    "\n",
    "能量方程：\n",
    "\\begin{equation}\n",
    " \\rho \\frac{de}{dt}= \\mathbf{\\sigma} \\cdot \\mathbf{\\varepsilon}\n",
    "\\end{equation}\n",
    "\n",
    "\\section{二维控制方程}\n",
    "\n",
    "运动方程：\n",
    "\\begin{equation}\n",
    "  \\frac{d(r,z)}{dt}=(u,v)\n",
    "\\end{equation}\n",
    "\n",
    "质量守恒：\n",
    "\\begin{equation}\\label{eq:38}\n",
    "  \\frac{dm}{dt}=0\n",
    "\\end{equation}\n",
    "\n",
    "动量守恒方程：\n",
    "\\begin{equation}\\label{eq:3}\n",
    "  \\begin{array}{l}\n",
    "\t\\displaystyle \\rho \\frac{du}{dt}=\\frac{\\partial \\sigma _{rr}}{\\partial r}+ \\frac{\\partial s_{rz}}{\\partial z}\\\\[0.3cm]\n",
    "  \\displaystyle \\rho \\frac{dv}{dt}=\\frac{\\partial \\sigma _{zz}}{\\partial z}+ \\frac{\\partial s_{rz}}{\\partial r}\\\\\n",
    "  \\end{array}\n",
    "  \\end{equation}\n",
    "\n",
    "能量守恒方程：\n",
    "\\begin{equation}\n",
    "  \\begin{array}{l}\n",
    "\t\\displaystyle \\rho \\frac{de}{dt}=\\sigma _{rr}\\frac{\\partial u}{\\partial r}+\\sigma_{zz}\\frac{\\partial v}{\\partial z}+s_{rz}\\left( \\frac{\\partial u}{\\partial z}+\\frac{\\partial v}{\\partial r}\\right)\\\\[0.3cm]\n",
    "\t\\displaystyle = -p\\frac{dV}{dt}+ s_{rr}\\frac{\\partial u}{\\partial r}+s_{zz}\\frac{\\partial v}{\\partial z}+s_{rz}\\left( \\frac{\\partial u}{\\partial z}+\\frac{\\partial v}{\\partial r}\\right)\\\\\n",
    "\t\\end{array}\n",
    "\t\\end{equation}\n",
    "\n",
    "本构方程：\n",
    "\\begin{equation}\n",
    "  \\begin{array}{l}\n",
    "\t\\displaystyle \\frac{ds_{rr}}{dt}=2\\mu \\left(\\frac{\\partial u}{\\partial r}-\\frac{1}{3}\\nabla \\cdot \\vec{u} \\right) +s_{rz}\\left(\\frac{\\partial u}{\\partial z}-\\frac{\\partial v}{\\partial r}\\right)\\\\[0.3cm]\n",
    "\t\\displaystyle \\frac{ds_{zz}}{dt}=2\\mu \\left(\\frac{\\partial v}{\\partial z}-\\frac{1}{3}\\nabla \\cdot \\vec{u} \\right) -s_{rz}\\left(\\frac{\\partial u}{\\partial z}-\\frac{\\partial v}{\\partial r}\\right)\\\\[0.3cm]\n",
    "\t\\displaystyle \\frac{ds_{rz}}{dt}=\\mu \\left(\\frac{\\partial u}{\\partial z}+\\frac{\\partial v}{\\partial r}\\right) + \\frac{s_{rr}-s_{zz}}{2}\\left(\\frac{\\partial u}{\\partial z}-\\frac{\\partial v}{\\partial r}\\right)\\\\\n",
    "  \\end{array}\n",
    "  \\end{equation}\n",
    "\n",
    "Von Mises屈服条件：\n",
    "\\begin{equation}\n",
    "  \\frac{3}{2}(s_{rr}^2+s_{zz}^2+s_{\\theta \\theta}^2+2s_{xy}^2)\\le (Y^0)^2\n",
    "\\end{equation}\n",
    "\n",
    "\n",
    "\n",
    "\n",
    "\n"
   ]
  },
  {
   "cell_type": "markdown",
   "metadata": {},
   "source": [
    "$$ s_{\\theta\\theta} = - (s_{rr} +s_{zz}) $$"
   ]
  },
  {
   "cell_type": "markdown",
   "metadata": {},
   "source": [
    "## Compatible Staggered Discretization"
   ]
  },
  {
   "cell_type": "markdown",
   "metadata": {},
   "source": [
    "<img src=\"Grid.png\" width = \"800\" height = \"400\" div align=center /> "
   ]
  },
  {
   "cell_type": "markdown",
   "metadata": {},
   "source": [
    "<img src=\"cellpoint.png\" width = \"800\" height = \"400\" div align=center />"
   ]
  },
  {
   "cell_type": "markdown",
   "metadata": {},
   "source": [
    "### Quatities:\n",
    "\n",
    "On point: ($x_p$,$y_p$), ($u_p$,$v_p$)\n",
    "\n",
    "Zonal:  $V_z$, $\\rho_z$, $m_z$, $e_z$, $p_z$"
   ]
  },
  {
   "cell_type": "markdown",
   "metadata": {},
   "source": [
    "By the relation \n",
    "$$\\frac{dm_z}{dt} =0$$\n",
    "we have \n",
    "$$\\rho_z(t) = m_z/V_z(t)$$"
   ]
  },
  {
   "cell_type": "markdown",
   "metadata": {},
   "source": [
    "Also \n",
    "$$d(x_p)/dt = u_p, \\quad d(y_p)/dt = v_p$$"
   ]
  },
  {
   "cell_type": "code",
   "execution_count": 1,
   "metadata": {},
   "outputs": [],
   "source": [
    "struct Const\n",
    "    Y0 ::Float64 #Yielding strength\n",
    "    ρ0 ::Float64 \n",
    "    Γ0 ::Float64\n",
    "    μ  ::Float64\n",
    "    a0 ::Float64\n",
    "    s0 ::Float64\n",
    "end\n"
   ]
  },
  {
   "cell_type": "code",
   "execution_count": 2,
   "metadata": {},
   "outputs": [],
   "source": [
    "mutable struct Var\n",
    "    r::Array{Float64,1}\n",
    "    z::Array{Float64,1}\n",
    "    u::Array{Float64,1}\n",
    "    v::Array{Float64,1}\n",
    "    ρ::Array{Float64,1}\n",
    "    p::Array{Float64,1}\n",
    "    s::Array{Float64,2} # σ[1] = σrr σ[2] = σzz σ[3] = σrz\n",
    "end    "
   ]
  },
  {
   "cell_type": "code",
   "execution_count": 3,
   "metadata": {},
   "outputs": [],
   "source": [
    "struct prb\n",
    "    tt::Float64\n",
    "    sf::Float64\n",
    "end"
   ]
  },
  {
   "cell_type": "markdown",
   "metadata": {},
   "source": [
    "### Point mass "
   ]
  },
  {
   "cell_type": "markdown",
   "metadata": {},
   "source": [
    "Point mass $m_p$ is used to solve point momentum $\\mu_p = m_p \\bf{u}_p$ and kinetic energy $K_p = m_p \\frac{\\bf{u}_p^2}{2}$"
   ]
  },
  {
   "cell_type": "markdown",
   "metadata": {},
   "source": [
    "<img src=\"Ins.jpg\" width = \"200\" height = \"400\" div align=center /> "
   ]
  },
  {
   "cell_type": "markdown",
   "metadata": {},
   "source": [
    "$$m_p = \\sum_{z\\in Z(p)} A_z^p \\rho^p_z$$\n",
    "\n",
    "$$\\rho_z(t) = m_z/V_z(t)$$"
   ]
  },
  {
   "cell_type": "markdown",
   "metadata": {},
   "source": []
  },
  {
   "cell_type": "code",
   "execution_count": 187,
   "metadata": {},
   "outputs": [
    {
     "data": {
      "text/plain": [
       "MassAndDens (generic function with 1 method)"
      ]
     },
     "execution_count": 187,
     "metadata": {},
     "output_type": "execute_result"
    }
   ],
   "source": [
    "function MassAndDens(mz,x,y,xc)\n",
    "    \n",
    "    Ic, = size(mz)\n",
    "    Ip, = size(Tc)\n",
    "    Asbz = zeros(Float64,4)\n",
    "    ρ = zeros(Float64,Ic)\n",
    "    ρAp = zeros(Float64,Ip)\n",
    "    xz = zeros(Float64,4)\n",
    "    yz = zeros(Float64,4)\n",
    "    for i in 1:Ic\n",
    "        xz[1:4] = x[Tp[i,1:4]]\n",
    "        yz[1:4] = y[Tp[i,1:4]]\n",
    "        Az=area_quadrangle(xz,yz)\n",
    "        Az1=0\n",
    "        ν == 1 ? Az1=volume(xz,yz) : Az1=Az\n",
    "        ρ[i] = mz[i]/Az1\n",
    "        for j = 1:4\n",
    "            ip = Tp[i,j]\n",
    "            ρAp[ip]  +=  Az*ρ[i]/4\n",
    "        end\n",
    "    end\n",
    "  #@show ρ,ρAp\n",
    "    return ρ,ρAp \n",
    "    \n",
    "end"
   ]
  },
  {
   "cell_type": "code",
   "execution_count": null,
   "metadata": {},
   "outputs": [],
   "source": []
  },
  {
   "cell_type": "markdown",
   "metadata": {},
   "source": [
    "\n",
    "$$ A_z^1 = \\frac{5A_{41}+5A_{12}+A_{23}+A_{34}}{12}$$\n",
    "$$ A_z^2 = \\frac{A_{41}+5A_{12}+5A_{23}+A_{34}}{12}$$\n",
    "$$ A_z^3 = \\frac{A_{41}+A_{12}+5A_{23}+5A_{34}}{12}$$\n",
    "$$ A_z^4 = \\frac{5A_{41}+A_{12}+A_{23}+5A_{34}}{12}$$"
   ]
  },
  {
   "cell_type": "code",
   "execution_count": 5,
   "metadata": {},
   "outputs": [
    {
     "data": {
      "text/plain": [
       "A_z (generic function with 1 method)"
      ]
     },
     "execution_count": 5,
     "metadata": {},
     "output_type": "execute_result"
    }
   ],
   "source": [
    "function A_z(xz,yz) \n",
    "    A =zeros(Float64,4)\n",
    "    xc= sum(xz[i] for i in 1:4)/4\n",
    "    yc= sum(yz[i] for i in 1:4)/4\n",
    "    \n",
    "    A41 = Area3(xz[4],xz[1],xc,yz[4],yz[1],yc)\n",
    "    A12 = Area3(xz[1],xz[2],xc,yz[1],yz[2],yc)\n",
    "    A23 = Area3(xz[2],xz[3],xc,yz[2],yz[3],yc)\n",
    "    A34 = Area3(xz[3],xz[4],xc,yz[3],yz[4],yc)\n",
    "\n",
    "#     A[1] = (5A41+5A12+A23+A34)/12\n",
    "#     A[2] = (A41+5A12+5A23+A34)/12\n",
    "#     A[3] = (A41+A12+5A23+5A34)/12\n",
    "#     A[4] = (5A41+A12+A23+5A34)/12\n",
    "    \n",
    "   A[1] = (A41+A12+A23+A34)/4\n",
    "   A[2] = (A41+A12+A23+A34)/4\n",
    "   A[3] = (A41+A12+A23+A34)/4\n",
    "   A[4] = (A41+A12+A23+A34)/4\n",
    "    \n",
    "    return A\n",
    "end"
   ]
  },
  {
   "cell_type": "code",
   "execution_count": null,
   "metadata": {},
   "outputs": [],
   "source": []
  },
  {
   "cell_type": "markdown",
   "metadata": {},
   "source": [
    "<img src=\"n12.png\" width = \"300\" height = \"300\" div align=center />"
   ]
  },
  {
   "cell_type": "markdown",
   "metadata": {},
   "source": [
    "$$\\overrightarrow{n}_{12} = \\frac{1}{L_{12}}(y_2- y_1, x_1-x_2)  $$\n",
    "\n",
    "$$\\overrightarrow{\\tau}_{12} = \\frac{1}{L_{12}}(x_2- x_1, y_2-y_1)  $$\n",
    "\n",
    "$$ \\mathbf{F_1}  = \\frac{1}{2}  \\left[ -\\sigma_{rr}(z_2-z_4)+ s_{rz}(r_2 -r_4), \\sigma_{zz}(r_2-r_4) +s_{rz}(z_4 -z_2) , \\right] $$ "
   ]
  },
  {
   "cell_type": "code",
   "execution_count": 182,
   "metadata": {},
   "outputs": [
    {
     "data": {
      "text/plain": [
       "force_zone (generic function with 1 method)"
      ]
     },
     "execution_count": 182,
     "metadata": {},
     "output_type": "execute_result"
    }
   ],
   "source": [
    "function force_zone(x,y,u,v,ρ,p,σ,xc,mz)\n",
    "   \n",
    "    Fx = zeros(Float64,4)\n",
    "    Fy = zeros(Float64,4)\n",
    "   # Az = A_z(x,y)\n",
    "    \n",
    "    for i in 1:4\n",
    "        i == 1 ? im = 4 : im = i-1\n",
    "        i == 4 ? ip = 1 :  ip = i+1\n",
    "        Fx[i] = 0.5(σ[1]*(y[im] - y[ip])+ σ[3]*(x[ip] - x[im])) # + ν*Az[i]*(2σ[1]+σ[2]+3*p)/xc #*sign(-y[im]+y[ip])\n",
    "        Fy[i] = 0.5(σ[3]*(y[im] - y[ip])+ σ[2]*(x[ip] - x[im])) #+ ν*Az[i]*(σ[3])/xc #*sign(-x[ip]+x[im])\n",
    "    end\n",
    "      \n",
    "    ex,ey = hourglass_viscosity(x, y, u, v, ρ, p,σ) \n",
    "\n",
    "    Fx = Fx .+ ex\n",
    "    Fy = Fy .+ ey\n",
    "    \n",
    "    return Fx,Fy\n",
    "end           "
   ]
  },
  {
   "cell_type": "code",
   "execution_count": 7,
   "metadata": {},
   "outputs": [
    {
     "data": {
      "text/plain": [
       "1"
      ]
     },
     "execution_count": 7,
     "metadata": {},
     "output_type": "execute_result"
    }
   ],
   "source": [
    "sign(2)"
   ]
  },
  {
   "cell_type": "markdown",
   "metadata": {},
   "source": [
    "\\begin{equation}\n",
    "  \\begin{aligned}\n",
    "\t&\\displaystyle \\rho \\frac{de}{dt}= \\mathbf{\\sigma} \\cdot \\mathbf{\\varepsilon}\\\\ \n",
    "\t&=\n",
    "\t\\sigma _{rr}\\frac{\\partial u}{\\partial r}+\\sigma_{zz}\\frac{\\partial v}{\\partial z}+\\sigma_{rz}\\left( \\frac{\\partial u}{\\partial z}+\\frac{\\partial v}{\\partial r}\\right)\n",
    "\t\\end{aligned}\n",
    "\t\\end{equation}\n",
    "    \n",
    "\\begin{equation}\n",
    "  \\begin{aligned}\n",
    "\t&\\displaystyle M \\frac{de}{dt}=  \n",
    "\\int_{\\Omega} \\sigma _{rr}\\frac{\\partial u}{\\partial r}+\\sigma_{zz}\\frac{\\partial v}{\\partial z}+\\sigma_{rz}\\left( \\frac{\\partial u}{\\partial z}+\\frac{\\partial v}{\\partial r}\\right)d\\Omega\n",
    "\t\\end{aligned}\n",
    "\t\\end{equation}\n",
    "\n",
    "\n",
    "\\begin{equation}\n",
    "  \\begin{aligned}\n",
    "\\int_{\\Omega}  \\frac{\\partial u}{\\partial r} d\\Omega&=  -\\oint_{\\partial \\omega}u dz\\\\\n",
    "  &= \\frac{1}{2} \\left((u_1-u_3)(z_2-z_4)+(u_2-u_4)(z_3-z_1)\\right)\n",
    "  \\end{aligned}\n",
    "\\end{equation}\n",
    "\n",
    "\\begin{equation}\n",
    "  \\begin{aligned}\n",
    "\\int_{\\Omega}  \\frac{\\partial u}{\\partial z} d\\Omega&= \\oint_{\\partial \\omega}u dy\\\\\n",
    "  &= -\\frac{1}{2} \\left((u_1-u_3)(r_2-r_4)+(u_2-u_4)(r_3-r_1)\\right)\n",
    "  \\end{aligned}\n",
    "\\end{equation}\n",
    "\n",
    "$$ \\frac{\\partial u}{\\partial x}  \\approx \\frac{1}{2A}((u_1-u_3)(y_2-y_4)+(u_2-u_4)(-y_1+y_3))$$ \n",
    "\n",
    "$$ \\frac{\\partial v}{\\partial y}  \\approx -\\frac{1}{2A}((v_1-v_3)(x_2-x_4)+(v_2-v_4)(-x_1+x_3))$$ "
   ]
  },
  {
   "cell_type": "markdown",
   "metadata": {},
   "source": [
    "对于节点\n",
    "$$ \\rho \\frac{d \\mathbf{u}}{dt} = - \\nabla p$$\n",
    "\n",
    "$$m_p \\frac{d\\bf{u}_p}{dt} = \\sum_{p\\in P(z)} \\bf{F}_z^p$$"
   ]
  },
  {
   "cell_type": "markdown",
   "metadata": {},
   "source": [
    "$$F_z^1 = \\mathbf{F}_1 + c\\mathbf{e}_1$$"
   ]
  },
  {
   "cell_type": "markdown",
   "metadata": {},
   "source": [
    "本构方程：\n",
    "\\begin{equation}\n",
    "  \\begin{array}{l}\n",
    "\t\\displaystyle \\frac{ds_{rr}}{dt}=2\\mu \\left(\\frac{\\partial u}{\\partial r}-\\frac{1}{3}\\nabla \\cdot \\vec{u} \\right) +s_{rz}\\left(\\frac{\\partial u}{\\partial z}-\\frac{\\partial v}{\\partial r}\\right)\\\\[0.3cm]\n",
    "\t\\displaystyle \\frac{ds_{zz}}{dt}=2\\mu \\left(\\frac{\\partial v}{\\partial z}-\\frac{1}{3}\\nabla \\cdot \\vec{u} \\right) -s_{rz}\\left(\\frac{\\partial u}{\\partial z}-\\frac{\\partial v}{\\partial r}\\right)\\\\[0.3cm]\n",
    "\t\\displaystyle \\frac{ds_{rz}}{dt}=\\mu \\left(\\frac{\\partial u}{\\partial z}+\\frac{\\partial v}{\\partial r}\\right) - \\frac{s_{rr}-s_{zz}}{2}\\left(\\frac{\\partial u}{\\partial z}-\\frac{\\partial v}{\\partial r}\\right)\\\\\n",
    "  \\end{array}\n",
    "  \\end{equation}\n",
    "\n",
    "Von Mises屈服条件：\n",
    "\\begin{equation}\n",
    "  \\frac{3}{2}(s_{rr}^2+s_{zz}^2+s_{\\theta \\theta}^2+2s_{xy}^2)\\le (Y^0)^2\n",
    "\\end{equation}\n"
   ]
  },
  {
   "cell_type": "code",
   "execution_count": 342,
   "metadata": {},
   "outputs": [
    {
     "data": {
      "text/plain": [
       "rhs (generic function with 2 methods)"
      ]
     },
     "execution_count": 342,
     "metadata": {},
     "output_type": "execute_result"
    }
   ],
   "source": [
    "function rhs(var,mz,rc,ρAp)\n",
    "    μ = con1.μ\n",
    "    r,z,u,v,ρ,p,s = var.r,var.z,var.u,var.v,var.ρ,var.p,var.s\n",
    "    \n",
    "    Ic, = size(Tp)\n",
    "    Ip, = size(Tc)\n",
    "    rhsu = zeros(Float64,Ip)\n",
    "    rhsv = zeros(Float64,Ip) \n",
    "    rhse = zeros(Float64,Ic)\n",
    "    rhss = zeros(Float64,Ic,3)\n",
    "    σ = zeros(Float64,Ic,3)\n",
    "  \n",
    "    σ[:,1] = s[:,1] - p[:]\n",
    "    σ[:,2] = s[:,2] - p[:]\n",
    "    σ[:,3] = s[:,3] \n",
    "    \n",
    "    rcell = zeros(Float64,4)\n",
    "    zcell = zeros(Float64,4)\n",
    "    ucell = zeros(Float64,4)\n",
    "    vcell = zeros(Float64,4)\n",
    "    Fxn = zeros(Float64,Ip,4)\n",
    "   # Fxn = zeros(Float65,Ip,4)\n",
    "    nc = zeros(Int,4)\n",
    "    for i in 1:Ic\n",
    "        for j =1:4\n",
    "            rcell[j] = r[Tp[i,j]]\n",
    "            zcell[j] = z[Tp[i,j]]\n",
    "            ucell[j] = u[Tp[i,j]]\n",
    "            vcell[j] = v[Tp[i,j]]\n",
    "        end\n",
    "        uc = sum(ucell)/4\n",
    "        \n",
    "        Az = area_quadrangle(rcell,zcell)\n",
    "        Fx,Fy = force_zone(rcell,zcell,ucell,vcell,ρ[i],p[i],σ[i,1:3],rc[i],mz[i])  \n",
    "        ∂u_∂r,∂u_∂z = ∂uv(rcell,zcell, ucell)\n",
    "        ∂v_∂r,∂v_∂z = ∂uv(rcell,zcell, vcell)\n",
    "        #rhse[i] = 1/(ρ[i]*Az)*(σ[i,1]*∂u_∂r + σ[i,2]*∂v_∂z+σ[i,3]*(∂u_∂z + ∂v_∂r))\n",
    "             #       + ν*(-σ[i,1]-σ[i,2]-3p[i])*uc/(ρ[i]*rc[i])\n",
    "         \n",
    "        ∇u = ∂u_∂r + ∂v_∂z+ uc/rc[i]*ν*Az\n",
    "       \n",
    "        rhse[i] = (-p[i]*∇u+s[i,1]*∂u_∂r+s[i,2]*∂v_∂z+\n",
    "                (-s[i,1]-s[i,2])*uc/rc[i]*ν*Az+σ[i,3]*(∂u_∂z + ∂v_∂r))/(ρ[i]*Az)\n",
    "        for j = 1:4\n",
    "            ip = Tp[i,j]\n",
    "            rhsu[ip] +=  Fx[j]/ρAp[ip] + ν*(2s[i,1]+s[i,2])/(4rc[i]*ρ[i])\n",
    "            rhsv[ip] +=  Fy[j]/ρAp[ip] + ν*(s[i,3])/(4rc[i]*ρ[i])\n",
    "            \n",
    "        end  \n",
    "       \n",
    "        \n",
    "    #   Fxn[i,:]= Fx[:]/ρAp\n",
    "        \n",
    "    \n",
    "        rhss[i,1] =  (2μ*(∂u_∂r - 1/3*∇u) + σ[i,3]*(∂u_∂z - ∂v_∂r)) /Az\n",
    "        rhss[i,2] =  (2μ*(∂v_∂z - 1/3*∇u) - σ[i,3]*(∂u_∂z - ∂v_∂r)) /Az\n",
    "        rhss[i,3] =   (μ*(∂u_∂z+∂v_∂r)  +   (-σ[i,1] + σ[i,2])*(∂u_∂z - ∂v_∂r)) /Az    \n",
    "        \n",
    "#          rhss[i,1] =  2μ*(∂u_∂r - 1/3*∇u)  ./Az\n",
    "#         rhss[i,2] =  2μ*(∂v_∂z - 1/3*∇u)  ./Az\n",
    "#         rhss[i,3] =   μ*(∂u_∂z+∂v_∂r)  ./Az    \n",
    "    end\n",
    "    \n",
    "    @show Fxn[1,2] + Fxn[2,1],Fxn[1,3] + Fxn[2,4],rhsu\n",
    "    # rhsu = rhsu./ρAp\n",
    "  #   rhsv = rhsv./ρAp\n",
    "    \n",
    "#     for i in 1:Ip\n",
    "#         nc[1:4] .= Tc[i,1:4]\n",
    "#         for j in 1:4\n",
    "#             if nc[j]>0\n",
    "#                 rhsu[i] += (s[nc[j],1]-s[nc[j],2])/(4rc[nc[j]]*ρ[nc[j]])\n",
    "#                 rhsv[i] += (s[nc[j],3])/(4rc[nc[j]]*ρ[nc[j]])\n",
    "#             end\n",
    "#         end\n",
    "#     end\n",
    "    \n",
    "    return rhse, rhsu,rhsv,rhss\n",
    "\n",
    "end     "
   ]
  },
  {
   "cell_type": "code",
   "execution_count": 9,
   "metadata": {},
   "outputs": [
    {
     "data": {
      "text/plain": [
       "output (generic function with 1 method)"
      ]
     },
     "execution_count": 9,
     "metadata": {},
     "output_type": "execute_result"
    }
   ],
   "source": [
    "function output(f)\n",
    "    io = open(\"data2.dat\", \"w+\")\n",
    "     writedlm(io,f,\"  \") \n",
    "    close(io)\n",
    "end"
   ]
  },
  {
   "cell_type": "markdown",
   "metadata": {},
   "source": [
    "$$ \\mathbf{S} = \\mathbf{S} \\times \\text{min} \\left(1,Y_0/\\sqrt{\\frac{3}{2}\\mathbf{S}:\\mathbf{S}}\\right)$$"
   ]
  },
  {
   "cell_type": "code",
   "execution_count": 10,
   "metadata": {},
   "outputs": [
    {
     "data": {
      "text/plain": [
       "yield_s! (generic function with 1 method)"
      ]
     },
     "execution_count": 10,
     "metadata": {},
     "output_type": "execute_result"
    }
   ],
   "source": [
    "function yield_s!(s,con)\n",
    "    Y0 = con.Y0\n",
    "    I, = size(s)\n",
    "    for i in 1:I\n",
    "         sums = s[i,1]^2 +s[i,2]^2 +2*s[i,3]^2 +(s[i,1]+s[i,2])^2\n",
    "        for j = 1:3\n",
    "       \n",
    "        s[i,j] = s[i,j] * min(1,Y0/√(3/2*sums))\n",
    "            end \n",
    "    end\n",
    "    return s\n",
    "end"
   ]
  },
  {
   "cell_type": "code",
   "execution_count": 297,
   "metadata": {},
   "outputs": [
    {
     "data": {
      "text/plain": [
       "predictor_corrector2nd (generic function with 1 method)"
      ]
     },
     "execution_count": 297,
     "metadata": {},
     "output_type": "execute_result"
    }
   ],
   "source": [
    "function predictor_corrector2nd(dt,var::Var,mz)\n",
    "    r,z,u,v,ρ,p,s = var.r,var.z,var.u,var.v,var.ρ,var.p,var.s\n",
    "    \n",
    "    Ip, = size(u)\n",
    "    Ic, = size(p)\n",
    "    \n",
    "    rc = r_c(r,z)\n",
    "     \n",
    "    ρ,ρAp = MassAndDens(mz,r,z,rc)\n",
    "    e = p_to_e(ρ, p,con1)    \n",
    "  #  p = artificial_viscosity!(r,z,u,v,ρ,p,s,rc)\n",
    "    ρ,p,s,rc = bound_ghost_cell!(ρ,p,s,rc)\n",
    "    var = Var(r, z, u, v, ρ, p, s)\n",
    "    rhse, rhsu,rhsv,rhss = rhs(var,mz,rc,ρAp)\n",
    "    rhsu,rhsv = bound_force(rhsu,rhsv,var)\n",
    "    \n",
    "   # s = yield_s!(s,con1)\n",
    "    \n",
    "    r =  r + dt*u\n",
    "    z  = z + dt*v\n",
    "    u  = u + dt*rhsu\n",
    "    v  = v + dt*rhsv\n",
    "    e = e + dt*rhse\n",
    "    s = s + dt*rhss\n",
    "    #@show z₀    \n",
    "     s= yield_s!(s,con1)\n",
    "    \n",
    "#     r₀ =  r + dt*u\n",
    "#     z₀  = z + dt*v\n",
    "#     u₀  = u + dt*(rhsu ./ ρAp)\n",
    "#     v₀  = v + dt*(rhsv ./ ρAp)\n",
    "#     e₀  = e + dt*rhse\n",
    "#     s₀  = s + dt*rhss\n",
    "#     #@show z₀    \n",
    "#      s₀ = yield_s!(s₀,con1)\n",
    "    \n",
    "#     r₀,z₀,u₀,v₀ = bound_ghost_coordinate!(r₀,z₀,u₀,v₀)\n",
    "#      rc = r_c(r₀,z₀)\n",
    "#     ρ,ρAp = MassAndDens(mz,r₀,z₀,rc)\n",
    "#     p = e_to_p(ρ,e₀,con1)\n",
    "#     p = artificial_viscosity!(r₀,z₀,u₀,v₀,ρ,p,s,rc) \n",
    "#     ρ,p,s₀,rc = bound_ghost_cell!(ρ,p,s₀,rc)\n",
    "#     var = Var(r₀, z₀, u₀, v₀, ρ, p, s₀)\n",
    "   \n",
    "#     rhse₀,rhsu₀,rhsv₀,rhss₀ = rhs(var,mz,rc)\n",
    "#     rhsu₀,rhsv₀ = bound_force(rhsu₀,rhsv₀,var)\n",
    "#   #  @show s[:,1]\n",
    "#     r +=  0.5dt*(u + u₀)\n",
    "#     z +=  0.5dt*(v + v₀)\n",
    "#     u +=  0.5dt*(rhsu + rhsu₀) ./ ρAp\n",
    "#     v +=  0.5dt*(rhsv + rhsv₀) ./ ρAp\n",
    "#     e +=  0.5dt*(rhse + rhse₀)\n",
    "#     s  += 0.5dt*(rhss + rhss₀)\n",
    "    \n",
    "#     s = yield_s!(s,con1)\n",
    "    \n",
    "    \n",
    "    r,z,u,v = bound_ghost_coordinate!(r,z,u,v)\n",
    "    rc = r_c(r,z)\n",
    " #   @show r \n",
    "    ρ,ρAp = MassAndDens(mz,r,z,rc)\n",
    "    \n",
    "    p = e_to_p(ρ,e,con1)\n",
    "    ρ,p,s,rc = bound_ghost_cell!(ρ,p,s,rc)\n",
    "    var = Var(r,z,u,v,ρ,p,s)\n",
    "  # @show r,z\n",
    "   # println(rc,ρAp)\n",
    "    return var,ρAp,rc\n",
    "\n",
    "end"
   ]
  },
  {
   "cell_type": "code",
   "execution_count": 206,
   "metadata": {},
   "outputs": [
    {
     "data": {
      "text/plain": [
       "r_c (generic function with 2 methods)"
      ]
     },
     "execution_count": 206,
     "metadata": {},
     "output_type": "execute_result"
    }
   ],
   "source": [
    "function r_c(r,z)\n",
    "    Ic, = size(Tp)\n",
    "    Ib, = size(Tb)\n",
    "    rc = zeros(Float64,Ic)\n",
    "       for i in 1:Ic\n",
    "    #    rc[i] = sum(r[Tp[i,1:4]])/4\n",
    "        rc[i] = volume(r[Tp[i,1:4]],z[Tp[i,1:4]])/area_quadrangle(r[Tp[i,1:4]],z[Tp[i,1:4]])\n",
    "    end\n",
    "\n",
    "        for i in 1:Ib\n",
    "    if Tb[i,4] == 2\n",
    "            ic = Tb[i,1]\n",
    "            ic2= Tb[i,2]\n",
    "            rc[ic] = rc[ic2] \n",
    "          end \n",
    "    end\n",
    "    return rc \n",
    "end\n"
   ]
  },
  {
   "cell_type": "code",
   "execution_count": 13,
   "metadata": {},
   "outputs": [
    {
     "data": {
      "text/plain": [
       "fηη (generic function with 1 method)"
      ]
     },
     "execution_count": 13,
     "metadata": {},
     "output_type": "execute_result"
    }
   ],
   "source": [
    "function fη(ρ,c::Const)\n",
    "    η = ρ/c.ρ0\n",
    "    fη=(η .-1.0) .* (η .-c.Γ0*(η .-1.0)/2.0) ./ (η .-c.s0*(η .-1)) .^2\n",
    "end\n",
    "\n",
    "function fηη(ρ,c::Const)\n",
    "    η = ρ/c.ρ0\n",
    "    fηη=(η .+(c.s0-c.Γ0) .* (η .-1)) ./(η .-c.s0*(η .- 1)) .^3\n",
    "end"
   ]
  },
  {
   "cell_type": "code",
   "execution_count": 14,
   "metadata": {},
   "outputs": [
    {
     "data": {
      "text/plain": [
       "euler1st (generic function with 1 method)"
      ]
     },
     "execution_count": 14,
     "metadata": {},
     "output_type": "execute_result"
    }
   ],
   "source": [
    "function euler1st(dt,var::Var,mz)\n",
    "    r,z,u,v,ρ,p,s = var.r,var.z,var.u,var.v,var.ρ,var.p,var.s\n",
    "    \n",
    "    Ip, = size(u)\n",
    "    Ic, = size(p)\n",
    "    \n",
    "    ρ,mp = MassAndDens(mz,r,z)\n",
    "    e = p_to_e(ρ, p,con1)    \n",
    "    p = artificial_viscosity!(r,z,u,v,ρ,p)\n",
    "    ρ,p,s = bound_ghost_cell!(ρ,p,s)\n",
    "    var = Var(r, z, u, v, ρ, p, s)\n",
    "    \n",
    "    rhse, rhsu,rhsv,rhss = rhs(var)\n",
    "    rhsu,rhsv = bound_force(rhsu,rhsv,var)\n",
    "    \n",
    " #   @show rhsv\n",
    "    s = yield_s!(s,con1)\n",
    "    r =  r + dt*u\n",
    "    z = z + dt*v\n",
    "    u  = u + dt*(rhsu ./ mp)\n",
    "    v  = v + dt*(rhsv ./ mp)\n",
    "    e  = e + dt*(rhse ./ mz) \n",
    "    s  = s + dt*rhss\n",
    "  #  @show rhsu\n",
    "    s = yield_s!(s,con1)\n",
    "    r,z,u,v = bound_ghost_coordinate!(r,z,u,v)\n",
    "    ρ,mp = MassAndDens(mz,r,z)\n",
    "    p = e_to_p(ρ,e,con1)\n",
    "    ρ,p,s = bound_ghost_cell!(ρ,p,s)\n",
    "    var = Var(r,z,u,v,ρ,p,s)\n",
    "   \n",
    "    return var\n",
    "end"
   ]
  },
  {
   "cell_type": "markdown",
   "metadata": {},
   "source": [
    "### Boundary force\n",
    "\n",
    "If one edge of a cell is a free boundary, then $f$ on the points is zero. As we have add it in RHs(), we need to remove it by resolve it again. Different from RHs(), at every point of a cell the force is composited by two parts on different edges. This is distinguished by $k$ when $k = 1$ the boundary is on y direction, forces on 12 and 34 boundary must be subtracted. When $ k =2$ the boundary is on x direction, subtract forces on 41, 23. "
   ]
  },
  {
   "cell_type": "code",
   "execution_count": 205,
   "metadata": {},
   "outputs": [
    {
     "data": {
      "text/plain": [
       "bound_force (generic function with 1 method)"
      ]
     },
     "execution_count": 205,
     "metadata": {},
     "output_type": "execute_result"
    }
   ],
   "source": [
    "function bound_force(rhsu,rhsv,var)\n",
    "    Ip, = size(Tc)\n",
    "    Ib, = size(Tb)\n",
    "   \n",
    "    r,z,u,v,ρ,p,s = var.r,var.z,var.u,var.v,var.ρ,var.p,var.s\n",
    "    rcell = zeros(Float64,4)\n",
    "    zcell = zeros(Float64,4)\n",
    "    ucell = zeros(Float64,4)\n",
    "    vcell = zeros(Float64,4)\n",
    "    ip1 = zeros(Int,4)\n",
    "    σ = zeros(Float64,3)\n",
    "    for i in 1:Ib\n",
    "        if Tb[i,4] == 1 || Tb[i,4] == 3\n",
    "            ic = Tb[i,1]        \n",
    "            rcell[1:4] = r[Tp[ic,1:4]]\n",
    "            zcell[1:4] = z[Tp[ic,1:4]]\n",
    "            ucell[1:4] = u[Tp[ic,1:4]]\n",
    "            vcell[1:4] = v[Tp[ic,1:4]]\n",
    "\n",
    "            σ[1] = s[ic,1] - p[ic]\n",
    "            σ[2] = s[ic,2] - p[ic]\n",
    "            σ[3] = s[ic,3]\n",
    "\n",
    "            ex,ey = hourglass_viscosity(rcell, zcell, ucell, vcell, ρ[ic]\n",
    "                                        , p[ic],s[ic,:])\n",
    "            i₁ = Tb[i,3]\n",
    "            i₂ = i₁+1\n",
    "            if i₁ == 4\n",
    "                i₂ = 1\n",
    "            end\n",
    "            nx = zcell[i₂] -zcell[i₁]\n",
    "            ny = rcell[i₁] -rcell[i₂]\n",
    "            p0 = 1e-5\n",
    "            for j in (i₁,i₂)\n",
    "\n",
    "                ip = Tp[ic,j]\n",
    "                    Fx = -σ[1]*nx/2 -σ[3]*ny/2+ex[j] #*nx^2/(nx^2+ny^2)  #+ex[j] \n",
    "                    Fy = -σ[3]*nx/2 -σ[2]*ny/2+ey[j] #*ny^2/(nx^2+ny^2)\n",
    "                    Fx1 = (Fx*nx+Fy*ny)*nx/(nx^2+ny^2)\n",
    "                    Fy1 = (Fx*nx+Fy*ny)*ny/(nx^2+ny^2)\n",
    "                    Fx = Fx- Fx1\n",
    "                    Fy = Fy - Fy1\n",
    "                    Fx1 =  p0*nx/2 #+ex[j]*nx^2/(nx^2+ny^2) \n",
    "                    Fy1 =  p0*ny/2 #+ey[j]*ny^2/(nx^2+ny^2)\n",
    "\n",
    "         #           rhsu[ip] +=  -Fx1 # -Fx1\n",
    "         #           rhsv[ip] +=  -Fy1 #-Fy1\n",
    "                #\n",
    "      #              rhsu[ip] = 0\n",
    "       #             rhsv[ip] = 0\n",
    "\n",
    "                if Tb[i,4] == 3 # boundary\n",
    "                    uL = 2e-3\n",
    "                    u[ip] = uL #*nx/(nx^2 +ny^2)\n",
    "                end  \n",
    "            end\n",
    "        end\n",
    "    end \n",
    "\n",
    "    return rhsu, rhsv\n",
    "end  "
   ]
  },
  {
   "cell_type": "markdown",
   "metadata": {},
   "source": [
    "<img src=\"bound_corresponding.png\" width = \"400\" height = \"800\" div align=center /> "
   ]
  },
  {
   "cell_type": "markdown",
   "metadata": {},
   "source": [
    "$$ Ig_1 = Tb[i,3] $$\n",
    "$$Ib_1 = Ig_1 -1$$"
   ]
  },
  {
   "cell_type": "code",
   "execution_count": 333,
   "metadata": {},
   "outputs": [
    {
     "data": {
      "text/plain": [
       "bound_ghost_coordinate! (generic function with 1 method)"
      ]
     },
     "execution_count": 333,
     "metadata": {},
     "output_type": "execute_result"
    }
   ],
   "source": [
    "function bound_ghost_coordinate!(r,z,u,v)\n",
    "    Ip, = size(Tc)\n",
    "    Ic, = size(Tp)\n",
    "    Ib, = size(Tb)\n",
    "   # r,z,u,v,ρ,p,s = var.r,var.z,var.u,var.v,var.ρ,var.p,var.s\n",
    "   \n",
    "    rt= copy(r)\n",
    "    zt= copy(z)\n",
    "   # output(r)\n",
    "    for i in 1:Ib\n",
    "        if Tb[i,4] == 2\n",
    "            ic = Tb[i,1]\n",
    "            ic2= Tb[i,2]\n",
    "            ig₁ = Tb[i,3]\n",
    "            \n",
    "           \n",
    "            ig₁ == 4 ? ig₂ = 1 : ig₂ = ig₁+1\n",
    "            ig₂ == 4 ? ig₃ = 1 : ig₃ = ig₂+1\n",
    "            ig₃ == 4 ? ig₄ = 1 : ig₄ = ig₃+1\n",
    "\n",
    "            ig₁ == 1 ? ib₁ = 4 : ib₁ = ig₁-1\n",
    "            ib₁ == 1 ? ib₂ = 4 : ib₂ = ib₁-1\n",
    "            ib₂ == 1 ? ib₃ = 4 : ib₃ = ib₂-1\n",
    "            ib₃ == 1 ? ib₄ = 4 : ib₄ = ib₃-1\n",
    "\n",
    "                r1 =    rt[Tp[ic2,ib₁]]\n",
    "                r2 =    rt[Tp[ic2,ib₂]]\n",
    "                z1 =    zt[Tp[ic2,ib₁]]\n",
    "                z2 =    zt[Tp[ic2,ib₂]]\n",
    "\n",
    "                r3=     rt[Tp[ic2,ib₃]]\n",
    "                z3=     zt[Tp[ic2,ib₃]]\n",
    "                r4=     rt[Tp[ic2,ib₄]]\n",
    "                z4=     zt[Tp[ic2,ib₄]]\n",
    "                \n",
    "                nx = zt[Tp[ic2,ib₁]] -zt[Tp[ic2,ib₂]]\n",
    "                ny = rt[Tp[ic2,ib₂]] -rt[Tp[ic2,ib₁]]\n",
    "                 for j in (ib₁,ib₂)\n",
    "                     ip = Tp[ic2,j]\n",
    "                    u[ip] = 0 # u[ip]*ny^2/(nx^2 +ny^2)\n",
    "              #     v[ip] = v[ip]*nx^2/(nx^2 +ny^2)\n",
    "                 end\n",
    "\n",
    "                r[Tp[ic,ig₃]],z[Tp[ic,ig₃]] = reflect(r1,z1,r2,z2,r3,z3)\n",
    "                r[Tp[ic,ig₄]],z[Tp[ic,ig₄]] = reflect(r1,z1,r2,z2,r4,z4)\n",
    "                u[Tp[ic,ig₃]],v[Tp[ic,ig₃]] =u[Tp[ic2,ib₃]],-v[Tp[ic2,ib₃]]\n",
    "                u[Tp[ic,ig₄]],v[Tp[ic,ig₄]] = u[Tp[ic2,ib₄]],-v[Tp[ic2,ib₄]]\n",
    "            \n",
    "       \n",
    "          end \n",
    "    end\n",
    "    return r,z,u,v\n",
    "end  "
   ]
  },
  {
   "cell_type": "code",
   "execution_count": 341,
   "metadata": {},
   "outputs": [
    {
     "data": {
      "text/plain": [
       "bound_ghost_cell! (generic function with 1 method)"
      ]
     },
     "execution_count": 341,
     "metadata": {},
     "output_type": "execute_result"
    }
   ],
   "source": [
    "function bound_ghost_cell!(ρ,p,s,rc)\n",
    "    Ip, = size(Tc)\n",
    "    Ic, = size(Tp)\n",
    "    Ib, = size(Tb)    \n",
    "    for i in 1:Ib\n",
    "        if Tb[i,4] == 2\n",
    "            ic = Tb[i,1]\n",
    "            ic2= Tb[i,2]\n",
    "            ρ[ic] = ρ[ic2]\n",
    "            p[ic] = p[ic2]\n",
    "            s[ic,1:2] = s[ic2,1:2]\n",
    "            s[ic,3] = -s[ic2,3]\n",
    "          #  s[ic2,3]=0\n",
    "          end \n",
    "    end\n",
    "    return ρ,p,s,rc\n",
    "end  "
   ]
  },
  {
   "cell_type": "markdown",
   "metadata": {},
   "source": [
    "## Ghost cell coordinate of a reflect boundary"
   ]
  },
  {
   "cell_type": "markdown",
   "metadata": {},
   "source": [
    "<img src=\"reflect.png\" width = \"200\" height = \"400\" div align=center /> "
   ]
  },
  {
   "cell_type": "markdown",
   "metadata": {},
   "source": [
    "$$ k_1 k_2 = -1$$\n",
    "$$ d_3 = -d_4 $$"
   ]
  },
  {
   "cell_type": "markdown",
   "metadata": {},
   "source": [
    "$$(z_2-z_1)(z_3-z_4)+(r_3-r_4)(r_2-r_1) = 0$$\n",
    "$$(z_2-z_1)(r_3-r_1)-(z_3-z_1)(r_2-r_1) = -(z_2-z_1)(r_4-r_1)+(z_4-z_1)(r_2-r_1)$$"
   ]
  },
  {
   "cell_type": "code",
   "execution_count": 18,
   "metadata": {
    "scrolled": true
   },
   "outputs": [],
   "source": [
    "# using SymPy\n",
    "# @vars z1 z2 z3 z4 r1 r2 r3 r4\n",
    "# exp1 = solve([(z2-z1)*(z3-z4)+(r2-r1)*(r3-r4),(z2-z1)*(r3-r1)-(z3-z1)*(r2-r1)+(z2-z1)*(r4-r1)-(z4-z1)*(r2-r1)],[r4,z4])\n",
    "# @show exp1[r4],exp1[z4]"
   ]
  },
  {
   "cell_type": "code",
   "execution_count": 19,
   "metadata": {},
   "outputs": [
    {
     "data": {
      "text/plain": [
       "reflect (generic function with 1 method)"
      ]
     },
     "execution_count": 19,
     "metadata": {},
     "output_type": "execute_result"
    }
   ],
   "source": [
    "function reflect(r1,z1,r2,z2,r3,z3)\n",
    "    tmp1=(r1*r3-r2*r3+z1*z3-z2*z3) \n",
    "    tmp2 = (2r1*z2-r1*z3-2r2*z1+r2*z3+r3*z1-r3*z2)\n",
    "    tmp3 = ((r1-r2)^2+(z1-z2)^2)\n",
    "    \n",
    "    r4 = ((r1-r2)*tmp1 - (z1-z2)*tmp2)/tmp3\n",
    "    z4 = ((r1-r2)*tmp2 + (z1-z2)*tmp1)/tmp3\n",
    "    \n",
    "    return r4,z4\n",
    "end"
   ]
  },
  {
   "cell_type": "code",
   "execution_count": 20,
   "metadata": {},
   "outputs": [
    {
     "data": {
      "text/plain": [
       "(1.1, 0.0)"
      ]
     },
     "execution_count": 20,
     "metadata": {},
     "output_type": "execute_result"
    }
   ],
   "source": [
    "reflect(1,1,1,0,0.9,0)"
   ]
  },
  {
   "cell_type": "markdown",
   "metadata": {},
   "source": [
    "### EOS \n",
    "$$ e = \\frac{p}{(\\gamma-1)\\rho}$$"
   ]
  },
  {
   "cell_type": "code",
   "execution_count": 21,
   "metadata": {},
   "outputs": [
    {
     "data": {
      "text/plain": [
       "e_to_p (generic function with 1 method)"
      ]
     },
     "execution_count": 21,
     "metadata": {},
     "output_type": "execute_result"
    }
   ],
   "source": [
    "function p_to_e(ρ,p,con)\n",
    "    c=con\n",
    "    ei = (p .- c.ρ0*c.a0^2*fη(ρ,c))/(c.ρ0*c.Γ0)\n",
    "    return ei\n",
    "end\n",
    "function e_to_p(ρ,ei,con::Const)\n",
    "    c=con\n",
    "    p = c.ρ0*c.Γ0*ei .+ c.ρ0*c.a0^2*fη(ρ,c)\n",
    "    return p\n",
    "end"
   ]
  },
  {
   "cell_type": "code",
   "execution_count": 22,
   "metadata": {},
   "outputs": [
    {
     "data": {
      "text/plain": [
       "CFL (generic function with 1 method)"
      ]
     },
     "execution_count": 22,
     "metadata": {},
     "output_type": "execute_result"
    }
   ],
   "source": [
    "function CFL(SF,var)\n",
    "    r,z,u,v,ρ,p,s = var.r,var.z,var.u,var.v,var.ρ,var.p,var.s\n",
    "    Ic, = size(ρ)\n",
    "    cflmin = 1.e9\n",
    "      cfl = 0 \n",
    "    for i in 1:Ic\n",
    "        cfl =0\n",
    "        u2max = 0\n",
    "        u2=0.0\n",
    "        for j = 1:4\n",
    "            ip = Tp[i,j]\n",
    "            u2 = u[ip]^2+v[ip]^2\n",
    "            if u2 > u2max ; u2max = u2; end\n",
    "        end\n",
    "        \n",
    "        dlmin = (r[Tp[i,4]] - r[Tp[i,1]])^2+(z[Tp[i,4]]-z[Tp[i,1]])^2\n",
    "       \n",
    "        for j=1:3\n",
    "            dl= (r[Tp[i,j+1]] - r[Tp[i,j]])^2+(z[Tp[i,j+1]]-z[Tp[i,j]])^2\n",
    "            if dl < dlmin; dlmin=dl; end\n",
    "        end\n",
    "        c = sound([ρ[i],u[i],p[i],min(s[i,1],s[i,2])],con1)\n",
    "        cfl = √(dlmin)/(√(u2max)+c)\n",
    "        if cfl < cflmin; cflmin = cfl; end\n",
    "    end\n",
    " #   @show cflmin\n",
    "    dt = cflmin*SF\n",
    "    return dt\n",
    "end \n",
    "        "
   ]
  },
  {
   "cell_type": "code",
   "execution_count": 23,
   "metadata": {},
   "outputs": [
    {
     "data": {
      "text/plain": [
       "sound (generic function with 2 methods)"
      ]
     },
     "execution_count": 23,
     "metadata": {},
     "output_type": "execute_result"
    }
   ],
   "source": [
    "function sound(uo::Array{Float64,1},con::Const,EoP::Int=1)\n",
    "    a0,ρ0,Γ0,Y0,μ  = con.a0,con.ρ0,con.Γ0,con.Y0,con.μ\n",
    "    ρ,uu,p,sxx   = uo[1:4]\n",
    "    a2  = a0^2*fηη(ρ,con)+p/ρ^2*ρ0*Γ0\n",
    "    if EoP == 2\n",
    "        c=sqrt(a2-ρ0/ρ^2*Γ0*sxx)\n",
    "        return c\n",
    "    else\n",
    "       #  @show a2,ρ0/ρ^2,4.0/3*μ/ρ\n",
    "        c=sqrt(a2-ρ0/ρ^2*Γ0*sxx+4.0/3*μ/ρ)\n",
    "       \n",
    "        return c\n",
    "    end\n",
    "end"
   ]
  },
  {
   "cell_type": "code",
   "execution_count": 298,
   "metadata": {},
   "outputs": [
    {
     "data": {
      "text/plain": [
       "TimeSolve (generic function with 1 method)"
      ]
     },
     "execution_count": 298,
     "metadata": {},
     "output_type": "execute_result"
    }
   ],
   "source": [
    "function TimeSolve(var,mz)\n",
    "    tt= problem.tt\n",
    "    sf =problem.sf\n",
    "    t= 0.0\n",
    "    t₁ = tt/100\n",
    "    t₂ = t₁\n",
    "#     kinetic_init,energy_init = total_kinetic(var,mz)\n",
    "#     kinetic = kinetic_init\n",
    "   # while kinetic > 1e-4*kinetic_init && t<tt\n",
    " #   while t<tt\n",
    "  ρAp = zeros(Float64,size(Tc))\n",
    "    rc=  zeros(Float64,size(Tp))\n",
    "for i in 1:2\n",
    "        dt=CFL(sf,var)\n",
    " #       @show dt\n",
    "        if t+dt>tt\n",
    "           dt = tt-t\n",
    "        end\n",
    "        \n",
    "        var,ρAp,rc = predictor_corrector2nd(dt,var,mz)\n",
    "       # var = euler1st(dt,var,mz)\n",
    "#         kinetic,energy = total_kinetic(var,mz)\n",
    "         t += dt\n",
    "        if t > t₁\n",
    "            println(t)\n",
    "            t₁ += t₂\n",
    "#             @show kinetic/kinetic_init,(energy+kinetic)/(kinetic_init+energy_init)\n",
    "        end\n",
    "        \n",
    "    end\n",
    "    return var,ρAp,rc\n",
    "end"
   ]
  },
  {
   "cell_type": "code",
   "execution_count": 25,
   "metadata": {},
   "outputs": [
    {
     "data": {
      "text/plain": [
       "total_kinetic (generic function with 1 method)"
      ]
     },
     "execution_count": 25,
     "metadata": {},
     "output_type": "execute_result"
    }
   ],
   "source": [
    "function total_kinetic(var,mz)\n",
    "    r,z,u,v,ρ,p = var.r,var.z,var.u,var.v,var.ρ,var.p\n",
    "    Ip, = size(Tc)\n",
    "    Ic, = size(Tp)\n",
    "    Ib, = size(Tb)\n",
    "    k = zeros(Float64,Ip)\n",
    "    \n",
    "    kinetic = 0\n",
    "    energy = 0\n",
    "     ρ1,mp = MassAndDens(mz, r, z)\n",
    "    \n",
    "    for i in 1:Ip\n",
    "        k[i]= mp[i]*0.5*(u[i]^2+v[i]^2)\n",
    "    end\n",
    "    \n",
    "    \n",
    "    for i in 1:Ic\n",
    "        energy += mz[i]*p_to_e(ρ[i], p[i], con1)\n",
    "    end\n",
    "    \n",
    "    for i in 1:Ib\n",
    "        if Tb[i,4] == 2\n",
    "            ic= Tb[i,1]\n",
    "            energy -= mz[ic]*p_to_e(ρ[ic], p[ic], con1)\n",
    "            \n",
    "            ig₁ = Tb[i,3]\n",
    "            ig₁ == 4 ? ig₂ = 1 : ig₂ = ig₁+1\n",
    "            k[Tp[ic,ig₁]] = 0\n",
    "            k[Tp[ic,ig₂]] = 0\n",
    "            end\n",
    "    end\n",
    "    kinetic = sum(k)\n",
    "    return kinetic,energy\n",
    "end\n"
   ]
  },
  {
   "cell_type": "markdown",
   "metadata": {},
   "source": [
    "## Artificial Viscosity \n",
    "\n",
    "Use the strain rate to construct the artificial viscosity \n",
    "$$\\frac{ds}{dt} = \\frac{\\partial u}{\\partial x}  + \\frac{\\partial v}{\\partial y} $$\n"
   ]
  },
  {
   "cell_type": "markdown",
   "metadata": {},
   "source": [
    "Then the artificial viscosity can be written as\n",
    "$$ q_w = \\left\\{ \\begin{align}\n",
    "\\alpha L \\rho \\left( \\frac{ds}{dt} \\right)^2 +  \\beta L^2 \\rho c \\left|\\frac{ds}{dt}\\right|, \\quad \\text{if}  \\quad \\frac{ds}{dt}< 0,\\\\\n",
    "0, \\quad \\text{if} \\quad \\frac{ds}{dt}\\ge 0. \\\\\n",
    "\\end{align}\n",
    "\\right.\n",
    "$$\n",
    "where $\\alpha = 0.6$, $\\beta = 2.0 $ and $c$ is the sonic speed.\n",
    "\n",
    "$L$ is the reference length, and constructed as\n",
    "$$L = A/L_{\\text{max}} $$\n",
    "\n",
    "$$L_{\\text{max}} = \\text{max}(L_{13},L_{24})$$\n"
   ]
  },
  {
   "cell_type": "code",
   "execution_count": 139,
   "metadata": {},
   "outputs": [
    {
     "data": {
      "text/plain": [
       "artificial_viscosity_c! (generic function with 1 method)"
      ]
     },
     "execution_count": 139,
     "metadata": {},
     "output_type": "execute_result"
    }
   ],
   "source": [
    "function artificial_viscosity_c!(x,y,u,v,ρ,p,s,rc)\n",
    "    xc = sum(x[i] for i in 1:4)/4\n",
    "    yc = sum(y[i] for i in 1:4)/4\n",
    "    \n",
    "    ∂u_∂x,tmp = ∂uv(x,y,u)\n",
    "    tmp,∂v_∂y = ∂uv(x,y,v)\n",
    "    c = sound([ρ,0.0,p,min(s[1],s[2])],con1)\n",
    "    Lmax = max(√((x[3] - x[1])^2+(y[3] - y[1])^2) ,√((x[2] - x[4])^2+(y[2] - y[4])^2) )  \n",
    "    A = area_quadrangle(x, y)\n",
    "    L = A/Lmax \n",
    "    uc = sum(u)/4\n",
    "    ∇ =  (∂u_∂x + ∂v_∂y)/A+ ν*uc/rc \n",
    "    if ∇ > 0\n",
    "        q = 0\n",
    "    else\n",
    "        q = 0.6ρ*L*c*abs(∇) +1.0L^2*ρ*∇^2 \n",
    "    end\n",
    "    return p+q\n",
    "end"
   ]
  },
  {
   "cell_type": "markdown",
   "metadata": {},
   "source": [
    "$$b_2 \\rho Lc \\frac{\\partial u}{\\partial x} - b_{12}\\rho L^2 \\left(\\frac{\\partial u}{\\partial x}\\right)^2$$"
   ]
  },
  {
   "cell_type": "code",
   "execution_count": 27,
   "metadata": {},
   "outputs": [
    {
     "data": {
      "text/plain": [
       "artificial_viscosity! (generic function with 1 method)"
      ]
     },
     "execution_count": 27,
     "metadata": {},
     "output_type": "execute_result"
    }
   ],
   "source": [
    "function artificial_viscosity!(r,z,u,v,ρ,p,s,rc)\n",
    "    I, = size(Tp)\n",
    "    rcell = zeros(Float64,4)\n",
    "    zcell = zeros(Float64,4)\n",
    "    ucell = zeros(Float64,4)\n",
    "    vcell = zeros(Float64,4)\n",
    "   \n",
    "    for i in 1:I\n",
    "        for j in 1:4\n",
    "            ip = Tp[i,j]\n",
    "            rcell[j] = r[ip]\n",
    "            zcell[j] = z[ip]\n",
    "            ucell[j] = u[ip]\n",
    "            vcell[j] = v[ip]\n",
    "        end\n",
    "        p[i] = artificial_viscosity_c!(rcell,zcell,ucell,vcell,ρ[i],p[i],s[i,1:3],rc[i])\n",
    "    end\n",
    "    \n",
    "        return p\n",
    "        \n",
    "    end       "
   ]
  },
  {
   "cell_type": "code",
   "execution_count": 28,
   "metadata": {},
   "outputs": [
    {
     "data": {
      "text/plain": [
       "l_viscosity (generic function with 1 method)"
      ]
     },
     "execution_count": 28,
     "metadata": {},
     "output_type": "execute_result"
    }
   ],
   "source": [
    "function l_viscosity(x,y,α)\n",
    "    xc = sum(x)/4; yc = sum(y)/4\n",
    "    d = zeros(Float64,4)\n",
    "    for i in 1:4\n",
    "    d[i] = distance(x[i],y[i],xc,yc,α)\n",
    "    end\n",
    "    A = A_z(x, y)\n",
    "    L = 2sum(A)/sum(d)\n",
    "    return L\n",
    "end"
   ]
  },
  {
   "cell_type": "markdown",
   "metadata": {},
   "source": [
    "#### distance from  Point to line \n",
    "Line: $$ (xc -cos \\alpha )(x-xc) = (yc-sin \\alpha)(y-yc)$$\n",
    "point: $x,y$"
   ]
  },
  {
   "cell_type": "code",
   "execution_count": 29,
   "metadata": {},
   "outputs": [
    {
     "data": {
      "text/plain": [
       "distance (generic function with 1 method)"
      ]
     },
     "execution_count": 29,
     "metadata": {},
     "output_type": "execute_result"
    }
   ],
   "source": [
    "function distance(x,y,xc,yc,α)\n",
    "    d = abs((xc - cosd(α)) * (x .-xc)- (yc-sind(α))*(y .- yc))/√((xc-cosd(α))^2+(yc-sind(α))^2)\n",
    "    return d\n",
    "end"
   ]
  },
  {
   "cell_type": "markdown",
   "metadata": {},
   "source": [
    "### 沙漏粘性 Hourglass"
   ]
  },
  {
   "cell_type": "markdown",
   "metadata": {},
   "source": [
    "$$ \\text{hg}_x = u_1 -u_2 + u_3 - u_4$$ \n",
    "$$ \\text{hg}_x = v_1 -v_2 + v_3 - v_4$$ \n",
    "\n",
    "$$ e_{1x} = -\\frac{1}{4}q\\rho c\\sqrt{A}\\text{hg}_x $$\n",
    "$$ e_{1y} = -\\frac{1}{4}q\\rho c\\sqrt{A}\\text{hg}_y $$\n",
    "\n",
    "$$ e_{2x} = \\frac{1}{4}q\\rho c\\sqrt{A}\\text{hg}_x $$\n",
    "$$ e_{2y} = \\frac{1}{4}q\\rho c\\sqrt{A}\\text{hg}_y $$\n",
    "\n",
    "$$ e_{3x} = -\\frac{1}{4}q\\rho c\\sqrt{A}\\text{hg}_x $$\n",
    "$$ e_{3y} = -\\frac{1}{4}q\\rho c\\sqrt{A}\\text{hg}_y $$\n",
    "\n",
    "$$ e_{4x} = \\frac{1}{4}q\\rho c\\sqrt{A}\\text{hg}_x $$\n",
    "$$ e_{4y} = \\frac{1}{4}q\\rho c\\sqrt{A}\\text{hg}_y $$"
   ]
  },
  {
   "cell_type": "code",
   "execution_count": 30,
   "metadata": {},
   "outputs": [
    {
     "data": {
      "text/plain": [
       "hourglass_viscosity (generic function with 1 method)"
      ]
     },
     "execution_count": 30,
     "metadata": {},
     "output_type": "execute_result"
    }
   ],
   "source": [
    "function hourglass_viscosity(x,y,u,v,ρ,p,s)\n",
    "    hgx = u[1] - u[2] + u[3] -u[4]\n",
    "    hgy = v[1] - v[2] + v[3] -v[4]\n",
    "    \n",
    "    ex =zeros(Float64,4)\n",
    "    ey =zeros(Float64,4)\n",
    "    A = area_quadrangle(x,y)\n",
    "    c = sound([ρ,0.0,p,min(s[1],s[2])], con1)\n",
    " #   @show c\n",
    "    q = 0.1 # coefficient of hourglass viscosity 0.01 - 0.5 ?\n",
    "    ex[1] = -0.25q*ρ*c*√(A)*hgx\n",
    "    ey[1] = -0.25q*ρ*c*√(A)*hgy\n",
    "    \n",
    "    ex[2] = -ex[1]\n",
    "    ey[2] = -ey[1]\n",
    "    \n",
    "    ex[3] = ex[1]\n",
    "    ey[3] = ey[1]\n",
    "    \n",
    "    ex[4] = ex[2]\n",
    "    ey[4] = ey[2]\n",
    "    \n",
    "  ex .= 0\n",
    "  ey .= 0\n",
    " #   @show ex,ey\n",
    "    return ex, ey\n",
    "end"
   ]
  },
  {
   "cell_type": "code",
   "execution_count": 191,
   "metadata": {},
   "outputs": [
    {
     "data": {
      "text/plain": [
       "area_quadrangle (generic function with 1 method)"
      ]
     },
     "execution_count": 191,
     "metadata": {},
     "output_type": "execute_result"
    }
   ],
   "source": [
    "function area_quadrangle(x::Array{Float64,1},y::Array{Float64,1}) \n",
    "    A = 0.5abs( (x[1]-x[3])*(y[2]-y[4])+(x[2]-x[4])*(y[3]-y[1]))\n",
    "    return A\n",
    "end"
   ]
  },
  {
   "cell_type": "code",
   "execution_count": 32,
   "metadata": {},
   "outputs": [
    {
     "data": {
      "text/plain": [
       "Area3 (generic function with 1 method)"
      ]
     },
     "execution_count": 32,
     "metadata": {},
     "output_type": "execute_result"
    }
   ],
   "source": [
    "function Area3(x1,x2,x3,y1,y2,y3)\n",
    "    return abs((x1*y2+y1*x3+x2*y3-x1*y3-y1*x2-y2*x3)/2)\n",
    "end"
   ]
  },
  {
   "cell_type": "markdown",
   "metadata": {},
   "source": [
    "###  $\\frac{\\partial (u,v)}{\\partial (x,y)}$\n",
    "\n",
    "we use the diffences between 1 and 3 points and 2 and 4 points to solve the partial differences approximately, as\n",
    "$$ \\frac{\\partial u}{\\partial x}  \\approx \\frac{1}{2A}((u_1-u_3)(y_2-y_4)+(u_2-u_4)(-y_1+y_3))$$ \n",
    "\n",
    "$$ \\frac{\\partial v}{\\partial y}  \\approx -\\frac{1}{2A}((v_1-v_3)(x_2-x_4)+(v_2-v_4)(-x_1+x_3))$$ \n",
    "Similar process to $\\frac{\\partial u}{\\partial y}$,$\\frac{\\partial v}{\\partial x}$ and $\\frac{\\partial v}{\\partial y}$"
   ]
  },
  {
   "cell_type": "code",
   "execution_count": 33,
   "metadata": {},
   "outputs": [
    {
     "data": {
      "text/plain": [
       "∂uv (generic function with 1 method)"
      ]
     },
     "execution_count": 33,
     "metadata": {},
     "output_type": "execute_result"
    }
   ],
   "source": [
    "function ∂uv(x,y,u)\n",
    "    ∂u_∂x = 0.5(u[1]-u[3])*(y[2]-y[4]) + 0.5(u[2]-u[4])*(y[3]-y[1])\n",
    "    ∂u_∂y = -0.5(u[1]-u[3])*(x[2]-x[4]) - 0.5(u[2]-u[4])*(x[3]-x[1])\n",
    "    return ∂u_∂x,∂u_∂y\n",
    "end"
   ]
  },
  {
   "cell_type": "markdown",
   "metadata": {},
   "source": [
    "## Output function"
   ]
  },
  {
   "cell_type": "code",
   "execution_count": 34,
   "metadata": {},
   "outputs": [
    {
     "data": {
      "text/plain": [
       "cell_coordinate (generic function with 1 method)"
      ]
     },
     "execution_count": 34,
     "metadata": {},
     "output_type": "execute_result"
    }
   ],
   "source": [
    "function cell_coordinate(x,y)\n",
    "    Ip, = size(Tc)\n",
    "    Ic, = size(Tp)\n",
    "    xc = zeros(Float64,Ic)\n",
    "    yc = zeros(Float64,Ic)\n",
    "    \n",
    "    for i in 1:Ic\n",
    "        for j = 1:4\n",
    "            ip = Tp[i,j] \n",
    "            xc[i] += x[ip]/4\n",
    "            yc[i] += y[ip]/4\n",
    "        end\n",
    "        \n",
    "    end\n",
    "    \n",
    "    return xc,yc\n",
    "end"
   ]
  },
  {
   "cell_type": "code",
   "execution_count": 35,
   "metadata": {},
   "outputs": [
    {
     "data": {
      "text/plain": [
       "outputline (generic function with 1 method)"
      ]
     },
     "execution_count": 35,
     "metadata": {},
     "output_type": "execute_result"
    }
   ],
   "source": [
    "function outputline(Ix,Iy,var,mz)\n",
    "    r,z,u,v,ρ,p,s = var.r,var.z,var.u,var.v,var.ρ,var.p,var.s\n",
    "    I, = size(ρ)\n",
    "    \n",
    "    uline =  zeros(Float64,Ix)\n",
    "    rline =  zeros(Float64,Ix)\n",
    "    zline =  zeros(Float64,Ix)\n",
    "    ρline =  zeros(Float64,Ix)        \n",
    "    pline =  zeros(Float64,Ix)  \n",
    "    sline = zeros(Float64,Ix,3)\n",
    "    for i in 1:Ix\n",
    "        j = Int(floor(Iy/2))\n",
    "            ip = i+(j-1 ) *(Ix+1)\n",
    "            ic =i+(j-1)*Ix\n",
    "            uline[i] = u[ip]\n",
    "            rline[i]  = r[ip]\n",
    "            ρline[i]  = ρ[ic]\n",
    "            pline[i] = p[ic]\n",
    "           # σline[i,:] .= σ[ic,:]\n",
    "            sline[i,:] = s[ic,:]\n",
    "    end\n",
    "    return rline,uline,ρline,pline,sline\n",
    "end"
   ]
  },
  {
   "cell_type": "code",
   "execution_count": 36,
   "metadata": {},
   "outputs": [
    {
     "data": {
      "text/plain": [
       "Output_cell (generic function with 1 method)"
      ]
     },
     "execution_count": 36,
     "metadata": {},
     "output_type": "execute_result"
    }
   ],
   "source": [
    "function Output_cell(Ix,Iy,var,mz)\n",
    "    x,y,u,v,ρ,p,s= var.r,var.z,var.u,var.v,var.ρ,var.p,var.s\n",
    "    Ip, = size(Tc)\n",
    "    Ic, = size(Tp)\n",
    "    io = open(\"data.dat\", \"w+\")\n",
    "    A = zeros(Float64,Ip,10)\n",
    "    \n",
    "    text = \" TITLE = \\\"Dataset\\\"\n",
    "VARIABLES = \\\"x\\\" \\\"y\\\" \\\"u\\\" \\\"v\\\" \\\"rho\\\" \\\"p\\\" \\\"srr\\\" \\\"szz\\\" \\\"szr\\\" \\\"s:s\\\"  ZONE T=\\\"Zone 1\\\" \n",
    "I=$Ix,J=$Iy,K=1,ZONETYPE=Ordered \n",
    "DATAPACKING=POINT \\n \"\n",
    "\n",
    "    write(io,text) \n",
    "    for i in 1:Ic\n",
    "        xc = 0\n",
    "        yc =0\n",
    "        uc =0\n",
    "        vc =0\n",
    "        for j = 1:4\n",
    "            ip = Tp[i,j] \n",
    "                xc += x[ip]/4\n",
    "                yc += y[ip]/4\n",
    "                uc += u[ip]/4\n",
    "                vc += v[ip]/4\n",
    "        end\n",
    "        \n",
    "        A[i,1] = xc\n",
    "        A[i,2] = yc\n",
    "        A[i,3] = uc\n",
    "        A[i,4] = vc\n",
    "        A[i,5] = ρ[i]        \n",
    "        A[i,6] = p[i]      \n",
    "        A[i,7:9] .= s[i,1:3] \n",
    "        A[i,10] = (s[i,1]^2+s[i,2]^2 +2s[i,3]^2+(s[i,1]+s[i,2])^2)\n",
    "    end\n",
    "      writedlm(io, A, \"  \")\n",
    "    close(io)\n",
    "end"
   ]
  },
  {
   "cell_type": "code",
   "execution_count": 37,
   "metadata": {},
   "outputs": [
    {
     "data": {
      "text/plain": [
       "Output_point (generic function with 1 method)"
      ]
     },
     "execution_count": 37,
     "metadata": {},
     "output_type": "execute_result"
    }
   ],
   "source": [
    "function Output_point(Ix,Iy,var,mz)\n",
    "    x,y,u,v,ρ,p,s = var.r,var.z,var.u,var.v,var.ρ,var.p,var.s\n",
    "    Ip, = size(Tc)\n",
    "    Ic, = size(Tp)\n",
    "    \n",
    "    io = open(\"data.dat\", \"w+\")\n",
    "    #s = zeros(Float64,Ip,3)\n",
    "    A = zeros(Float64,Ip,9)\n",
    "   # for i in 1:Ip\n",
    "    \n",
    "    text = \" TITLE = \\\"Dataset\\\"\n",
    "VARIABLES = \\\"x\\\" \\\"y\\\" \\\"u\\\" \\\"v\\\" \\\"rho\\\" \\\"p\\\" \\\"srr\\\" \\\"szz\\\" \\\"szr\\\"   ZONE T=\\\"Zone 1\\\" \n",
    "I=$(Ix+1),J=$(Iy+1),K=1,ZONETYPE=Ordered \n",
    "DATAPACKING=POINT \\n \"\n",
    "  #  write(1,*)\n",
    "    write(io,text)\n",
    "    \n",
    "       ρp = zeros(Float64,Ip)\n",
    "       pp = zeros(Float64,Ip)\n",
    "       np = zeros(Int,Ip)\n",
    "       sp = zeros(Float64,Ip,3)\n",
    "    \n",
    "    for i in 1:Ic\n",
    "        \n",
    "        xc = 0\n",
    "        yc =0\n",
    "        uc =0\n",
    "        vc =0\n",
    "        for j = 1:4\n",
    "            ip = Tp[i,j] \n",
    "            ρp[ip] += ρ[i]\n",
    "            pp[ip] += p[i]\n",
    "            sp[ip,:] += s[i,:]\n",
    "            np[ip] += 1   \n",
    "        end\n",
    "    end\n",
    "        ρp = ρp ./ np\n",
    "        pp = pp ./ np\n",
    "        sp = sp ./ np\n",
    "    \n",
    "        A[:,1] = x\n",
    "        A[:,2] = y\n",
    "        A[:,3] = u\n",
    "        A[:,4] = v\n",
    "        A[:,5] = ρp\n",
    "        A[:,6] = pp\n",
    "        A[:,7:9] .= sp[:,1:3]\n",
    "    \n",
    "      writedlm(io, A, \"  \")\n",
    "    close(io)\n",
    "end"
   ]
  },
  {
   "cell_type": "markdown",
   "metadata": {},
   "source": [
    "## Cases"
   ]
  },
  {
   "cell_type": "code",
   "execution_count": 41,
   "metadata": {},
   "outputs": [
    {
     "data": {
      "text/plain": [
       "Piston (generic function with 1 method)"
      ]
     },
     "execution_count": 41,
     "metadata": {},
     "output_type": "execute_result"
    }
   ],
   "source": [
    " function Piston()\n",
    "\n",
    "    global problem = prb(1.5e2,0.1)\n",
    "    # global problem = prb(3e-5,0.3)\n",
    "     \n",
    "    I = 200\n",
    "    J = 5\n",
    "    dx = 100/I\n",
    "    dy = 10/J\n",
    "    @show typeof(dx)\n",
    "    I1= I+1\n",
    "    J1= J+2\n",
    "    global   con1 = Const(9e-5,8.930,2.0,4.5e-1,0.3940,1.49)\n",
    "  #  global   con1 = Const(0.0,8930,2.0,4.5e10,3940.0,1.49)\n",
    "    Ip = (I1+1)*(J1+1) # Number of  points\n",
    "    Ic = I1*J1  # number of cells\n",
    "    \n",
    "    global Tp = zeros(Int,Ic,4) #格点\n",
    "    global Tc = zeros(Int,Ip,4) #点格\n",
    "    \n",
    "    #@show Tc, Ip\n",
    "    global Tb = zeros(Int, 2I1 + 2J1-2,4) #边界 \n",
    "    \n",
    "    ## Tb[i,1] ghost cell number\n",
    "    ## Tb[i,2] bound cell number\n",
    "    ## Tb[i,3] ghost cell point share with the bound \n",
    "    ## Tb[i,4] type of the boundary\n",
    "    \n",
    "    \n",
    "    \n",
    "   # 点格表，格点表初始化 \n",
    "    for i in 1:I1 \n",
    "        for j in 1:J1\n",
    "            ic = i+(j-1)*I1\n",
    "            Tp[ic,1] = i + (j-1)*(I1+1)\n",
    "            Tp[ic,2] = i+1 +(j-1)*(I1+1)\n",
    "            Tp[ic,3]=i+1+j*(I1+1)\n",
    "            Tp[ic,4]=i+j*(I1+1) \n",
    "        end\n",
    "    end\n",
    "    \n",
    "    for i = 1:I1+1\n",
    "        for j = 1:J1+1\n",
    "            ip =i+(j-1)*(I1+1)\n",
    "            Tc[ip,1] = i +(j-1)*I1 #(i,j)\n",
    "            Tc[ip,2] = i-1+(j-1)*I1 #(i-1,j)\n",
    "            Tc[ip,3] = i-1+(j-2)*I1 #(i-1,j-1)\n",
    "            Tc[ip,4] = i+(j-2)*I1   #(i,j-1)\n",
    "        end\n",
    "    end\n",
    "    \n",
    "\n",
    "# Bound \n",
    "  ib = 0\n",
    "        for j = 1:J1\n",
    "            i=1\n",
    "            ib += 1\n",
    "            ic =i+(j-1)*I1 \n",
    "            Tb[ib,1] = ic\n",
    "            Tb[ib,2] = (i+1)+(j-1)*I1\n",
    "            Tb[ib,3] = 4\n",
    "            Tb[ib,4] = 3\n",
    "        end\n",
    "    \n",
    "      for i = 1:I1-1\n",
    "            for j in (1,J1)\n",
    "                ib += 1\n",
    "                ic =i+(j-1)*I1\n",
    "                \n",
    "                Tb[ib,1] = ic\n",
    "               \n",
    "                if j==1 \n",
    "                    Tb[ib,2] = i+(j+1-1)*I1\n",
    "                    Tb[ib,3] = 3\n",
    "                    Tb[ib,4] = 2\n",
    "                end\n",
    "                if j==J1\n",
    "                    Tb[ib,2] = i+(j-1-1)*I1\n",
    "                    Tb[ib,3] = 1\n",
    "                    Tb[ib,4] = 2\n",
    "                end\n",
    "            end\n",
    "        end\n",
    "         for j = 1:J1\n",
    "             i = I1\n",
    "            ib += 1\n",
    "            ic =i+(j-1)*I1\n",
    "            Tb[ib,1] = ic\n",
    "             Tb[ib,2] = (i-1)+(j-1)*I1 #bound type 1:free 2: wall ..  Tb[:,2] y direction\n",
    "             Tb[ib,3] = 4\n",
    "             Tb[ib,4] = 2\n",
    "         end\n",
    "    #流场初始化 Init of the flow\n",
    "    \n",
    "    x = zeros(Float64,Ip)\n",
    "    y = zeros(Float64,Ip)\n",
    "    u = zeros(Float64,Ip)\n",
    "    v = zeros(Float64,Ip)\n",
    "    \n",
    "    ρ = zeros(Float64,Ic)\n",
    "    mz = zeros(Float64,Ic)\n",
    "    p = zeros(Float64,Ic)\n",
    "    Az= zeros(Float64,Ic)\n",
    "    s = zeros(Float64,Ic,3)\n",
    "    \n",
    "    for i in 1:I1+1\n",
    "        for j = 1:J1+1\n",
    "            ip =i+(j-1)*(I1+1)\n",
    "            x[ip] = (i-1)*dx\n",
    "            y[ip] = (j-2)*dy\n",
    "            u[ip] = 0\n",
    "            v[ip] = 0.0\n",
    "        end\n",
    "    end\n",
    "    \n",
    "      \n",
    "    \n",
    "    var = Var(x,y,u,v,ρ,p,s)\n",
    "    x,y = bound_ghost_coordinate!(x,y)\n",
    "    x,y = bound_ghost_coordinate!(x,y)\n",
    "    xz = zeros(Float64,4)\n",
    "    yz = zeros(Float64,4) \n",
    "    for i in 1:I1\n",
    "        for j in 1:J1\n",
    "            ic = i+(j-1)*(I1)\n",
    "            xz[1:4] = x[Tp[ic,1:4]]\n",
    "            yz[1:4] = y[Tp[ic,1:4]]\n",
    "            A = A_z(xz,yz)\n",
    "            Az[ic] = sum(A)\n",
    "                p[ic] = 1.e-7\n",
    "                ρ[ic] = 8.930\n",
    "                mz[ic] = ρ[ic] * Az[ic]\n",
    "                s[ic,:] .= 0       \n",
    "        end\n",
    "    end \n",
    "    return var,mz,I1,J1\n",
    "end"
   ]
  },
  {
   "cell_type": "code",
   "execution_count": null,
   "metadata": {},
   "outputs": [],
   "source": [
    "var,mz,I,J=Piston()\n",
    "#Output1\n",
    "var= TimeSolve(var,mz)"
   ]
  },
  {
   "cell_type": "code",
   "execution_count": null,
   "metadata": {},
   "outputs": [],
   "source": [
    "push!(LOAD_PATH,\"/home/bfly/workspace/Juliastudy/Src\")"
   ]
  },
  {
   "cell_type": "code",
   "execution_count": null,
   "metadata": {},
   "outputs": [],
   "source": [
    "uo,u,x,inter = Lag1DNum.Piston()\n",
    "uo,x  = Lag1DNum.TimeSolve(uo, x,inter)"
   ]
  },
  {
   "cell_type": "code",
   "execution_count": null,
   "metadata": {},
   "outputs": [],
   "source": [
    "rcell, zcell = cell_coordinate(var.r,var.z)"
   ]
  },
  {
   "cell_type": "code",
   "execution_count": 46,
   "metadata": {},
   "outputs": [],
   "source": [
    "using DelimitedFiles\n",
    "Output_point(I,J,var,mz)"
   ]
  },
  {
   "cell_type": "code",
   "execution_count": 179,
   "metadata": {},
   "outputs": [
    {
     "data": {
      "text/plain": [
       "Pistonz (generic function with 1 method)"
      ]
     },
     "execution_count": 179,
     "metadata": {},
     "output_type": "execute_result"
    }
   ],
   "source": [
    " function Pistonz()\n",
    "\n",
    "    global problem = prb(1.5e-4,0.3)\n",
    "    # global problem = prb(3e-5,0.3)\n",
    "     \n",
    "    I = 10\n",
    "    J = 100\n",
    "    dx = 0.1/I\n",
    "    dy = 1/J\n",
    "    \n",
    "    global   con1 = Const(9e7,8930,2.0,4.5e10,3940.0,1.49)\n",
    "    \n",
    "    Ip = (I+1)*(J+1) # Number of  points\n",
    "    Ic = I*J  # number of cells\n",
    "    \n",
    "    global Tp = zeros(Int,Ic,4) #格点\n",
    "    global Tc = zeros(Int,Ip,4) #点格\n",
    "    \n",
    "    #@show Tc, Ip\n",
    "    global Tb = zeros(Int, I*2+J*2,3) #边界 \n",
    "    \n",
    "    IBL = J+1\n",
    "    IBR = J+1\n",
    "    IBU = I+1\n",
    "    IBD = I+1\n",
    "   # 点格表，格点表初始化 \n",
    "    for i in 1:I \n",
    "        for j in 1:J\n",
    "            ic = i+(j-1)*I\n",
    "            Tp[ic,1] = i + (j-1)*(I+1)\n",
    "            Tp[ic,2] = i+1 +(j-1)*(I+1)\n",
    "            Tp[ic,3]=i+1+j*(I+1)\n",
    "            Tp[ic,4]=i+j*(I+1) \n",
    "        end\n",
    "    end\n",
    "    \n",
    "    for i = 1:I+1\n",
    "        for j = 1:J+1\n",
    "            ip = i+(j-1)*(I+1)\n",
    "            Tc[ip,1] = i +(j-1)*I #(i,j)\n",
    "            Tc[ip,2] = i-1+(j-1)*I #(i-1,j)\n",
    "            Tc[ip,3] = i-1+(j-2)*I #(i-1,j-1)\n",
    "            Tc[ip,4] = i+(j-2)*I   #(i,j-1)\n",
    "            end\n",
    "        end\n",
    "    \n",
    "\n",
    "# Bound \n",
    "  ib = 0\n",
    "    for i = 1:I+1\n",
    "        for j = 1:J+1\n",
    "            if i == 1 || i== I+1 ||  j == 1 || j == J+1\n",
    "                ib += 1\n",
    "                ic =i+(j-1)*I\n",
    "                #ic = Tc[ip]\n",
    "                Tb[ib,1] = ic\n",
    "                if i==1 \n",
    "                    Tb[ib,2] = 4 # 1->4 \n",
    "                    Tb[ib,3] = 2 # type 1:free 2:\n",
    "                end   \n",
    "                 if  i==I+1 \n",
    "                    Tb[ib,2] = 2 #bound type 1:free 2: wall ..  Tb[:,2] y direction\n",
    "                    Tb[ib,3] = 2\n",
    "                end\n",
    "            \n",
    "                if j==1 \n",
    "                    Tb[ib,2] = 1\n",
    "                    Tb[ib,3] = 1\n",
    "                end\n",
    "                if j==J+1\n",
    "                    Tb[ib,2] = 3 \n",
    "                    Tb[ib,3] = 1\n",
    "                end\n",
    "            end\n",
    "        end\n",
    "    end\n",
    "\n",
    "    #流场初始化 Init of the flow\n",
    "    \n",
    "    x = zeros(Float64,Ip)\n",
    "    y = zeros(Float64,Ip)\n",
    "    u = zeros(Float64,Ip)\n",
    "    v = zeros(Float64,Ip)\n",
    "    \n",
    "    ρ = zeros(Float64,Ic)\n",
    "    mz = zeros(Float64,Ic)\n",
    "    p = zeros(Float64,Ic)\n",
    "    Az= zeros(Float64,Ic)\n",
    "    σ = zeros(Float64,Ic,3)\n",
    "    \n",
    "    for i in 1:I+1\n",
    "        for j = 1:J+1\n",
    "            ip =i+(j-1)*(I+1)\n",
    "            x[ip] = (i-1)*dx\n",
    "            y[ip] = (j-1)*dy\n",
    "            u[ip] = 0\n",
    "            v[ip] = 0.0\n",
    "        end\n",
    "    end\n",
    "    \n",
    "    xz = zeros(Float64,4)\n",
    "    yz = zeros(Float64,4) \n",
    "    for i in 1:I\n",
    "        for j in 1:J\n",
    "            ic = i+(j-1)*I\n",
    "            xz[1:4] = x[Tp[ic,1:4]]\n",
    "            yz[1:4] = y[Tp[ic,1:4]]\n",
    "    \n",
    "            Az = area_quadrangle(xz,yz) #[1]+A[2]+A[3]+A[4]\n",
    "          #  if i>=I/2\n",
    "               \n",
    "                p[ic] = 1.e5\n",
    "                ρ[ic] = 8930\n",
    "                mz[ic] = ρ[ic] * Az\n",
    "                σ[ic,1] = -p[ic]\n",
    "                σ[ic,2] = -p[ic]\n",
    "                σ[ic,3]= 0 \n",
    "#             else\n",
    "#                 mz[ic] = 1.0 * Az[ic]\n",
    "#                 p[ic] = 1.0\n",
    "#                 ρ[ic] = 1.0\n",
    "#             end\n",
    "        end\n",
    "    end\n",
    "    var = Var(x,y,u,v,ρ,p,σ)\n",
    "    return var,mz,I,J\n",
    "end"
   ]
  },
  {
   "cell_type": "code",
   "execution_count": null,
   "metadata": {},
   "outputs": [],
   "source": [
    "var,mz,I,J=Pistonz()\n",
    "#Output1\n",
    "var = TimeSolve(var,mz)"
   ]
  },
  {
   "cell_type": "code",
   "execution_count": null,
   "metadata": {},
   "outputs": [],
   "source": [
    "rcell, zcell = cell_coordinate(var.r,var.z)"
   ]
  },
  {
   "cell_type": "code",
   "execution_count": null,
   "metadata": {},
   "outputs": [],
   "source": [
    "plot3D(var.r,var.z,var.v)\n",
    "#triplot()"
   ]
  },
  {
   "cell_type": "code",
   "execution_count": null,
   "metadata": {},
   "outputs": [],
   "source": [
    "tricontourf(var.r,var.z,var.v)"
   ]
  },
  {
   "cell_type": "code",
   "execution_count": null,
   "metadata": {},
   "outputs": [],
   "source": [
    "? Const"
   ]
  },
  {
   "cell_type": "markdown",
   "metadata": {},
   "source": [
    "## 单位变换"
   ]
  },
  {
   "cell_type": "markdown",
   "metadata": {},
   "source": [
    "$$ 1kg/m^3 = 10^{-3} g/cm^3$$\n",
    "$$1m/s = 10^{-4} cm/\\mu s$$\n",
    "$$ 1Pa = 1N/m^2 = 1kg/(m\\cdot s^2) = (1000g)/(100cm \\cdot 10^{12} \\mu s^2) = 10^{-11} g/(cm \\cdot s^2)$$ "
   ]
  },
  {
   "cell_type": "code",
   "execution_count": 97,
   "metadata": {},
   "outputs": [
    {
     "data": {
      "text/plain": [
       "Collapse (generic function with 1 method)"
      ]
     },
     "execution_count": 97,
     "metadata": {},
     "output_type": "execute_result"
    }
   ],
   "source": [
    " function Collapse()\n",
    "\n",
    "    global problem = prb(1.3e2,0.1)\n",
    "  #  global problem = prb(50,0.3)\n",
    "    # global problem = prb(5e-5,0.3)\n",
    "    \n",
    "    I = 20\n",
    "    J = 16\n",
    "    dr = 2.0/J\n",
    "    dθ = 90/I\n",
    "    \n",
    "    I1 = I +2\n",
    "    J1 = J\n",
    "    \n",
    "    global   con1 = Const(3.3e-3,1.845,2.,1.516,1.287,1.124)\n",
    "  #  global   con1 = Const(3.3e-3,1.845,2.,0,1.287,1.124)\n",
    "    Ip = (I1+1)*(J1+1) # Number of  points\n",
    "    Ic = I1*J1  # number of cells\n",
    "    \n",
    "     Ip = (I1+1)*(J1+1) # Number of  points\n",
    "    Ic = I1*J1  # number of cells\n",
    "    \n",
    "    global Tp = zeros(Int,Ic,4) #格点\n",
    "    global Tc = zeros(Int,Ip,4) #点格\n",
    "    global ν = 1\n",
    "    #@show Tc, Ip\n",
    "    global Tb = zeros(Int, 2I1 + 2J1,4) #边界 \n",
    "    \n",
    "    ## Tb[i,1] ghost cell number\n",
    "    ## Tb[i,2] bound cell number\n",
    "    ## Tb[i,3] ghost cell point share with the bound \n",
    "    ## Tb[i,4] type of the boundary\n",
    "    \n",
    "    \n",
    "    \n",
    "   # 点格表，格点表初始化 \n",
    "    for i in 1:I1 \n",
    "        for j in 1:J1\n",
    "            ic = i+(j-1)*I1\n",
    "            Tp[ic,1] = i + (j-1)*(I1+1)\n",
    "            Tp[ic,2] = i+1 +(j-1)*(I1+1)\n",
    "            Tp[ic,3]=i+1+j*(I1+1)\n",
    "            Tp[ic,4]=i+j*(I1+1) \n",
    "        end\n",
    "    end\n",
    "    \n",
    "    for i = 1:I1+1\n",
    "        for j = 1:J1+1\n",
    "            ip =i+(j-1)*(I1+1)\n",
    "            Tc[ip,1] = i +(j-1)*I1 #(i,j)\n",
    "            Tc[ip,2] = i-1+(j-1)*I1 #(i-1,j)\n",
    "            Tc[ip,3] = i-1+(j-2)*I1 #(i-1,j-1)\n",
    "            Tc[ip,4] = i+(j-2)*I1   #(i,j-1)\n",
    "        end\n",
    "    end\n",
    "    \n",
    "\n",
    "# Bound \n",
    "  ib = 0\n",
    "        for j = 1:J1\n",
    "            i=1\n",
    "            ib += 1\n",
    "            ic =i+(j-1)*I1 \n",
    "            Tb[ib,1] = ic\n",
    "            Tb[ib,2] = (i+1)+(j-1)*I1\n",
    "            Tb[ib,3] = 2\n",
    "            Tb[ib,4] = 2\n",
    "        end\n",
    "         for j = 1:J1\n",
    "             i = I1\n",
    "            ib += 1\n",
    "            ic =i+(j-1)*I1\n",
    "            Tb[ib,1] = ic\n",
    "             Tb[ib,2] = (i-1)+(j-1)*I1 #bound type 1:free 2: wall ..  Tb[:,2] y direction\n",
    "             Tb[ib,3] = 4\n",
    "             Tb[ib,4] = 2\n",
    "         end\n",
    "      for i = 1:I1\n",
    "            for j in (1,J1)\n",
    "                ib += 1\n",
    "                ic =i+(j-1)*I1\n",
    "                \n",
    "                Tb[ib,1] = ic\n",
    "               \n",
    "                if j==1 \n",
    "                    Tb[ib,2] = i+(j+1-1)*I1\n",
    "                    Tb[ib,3] = 1\n",
    "                    Tb[ib,4] = 1\n",
    "                end\n",
    "                if j==J1\n",
    "                    Tb[ib,2] = i+(j-1-1)*I1\n",
    "                    Tb[ib,3] = 3\n",
    "                    Tb[ib,4] = 1\n",
    "                end\n",
    "            end\n",
    "        end\n",
    "        \n",
    "    #流场初始化 Init of the flow\n",
    "    \n",
    "    x = zeros(Float64,Ip)\n",
    "    y = zeros(Float64,Ip)\n",
    "    u = zeros(Float64,Ip)\n",
    "    v = zeros(Float64,Ip)\n",
    "    \n",
    "    ρ = zeros(Float64,Ic)\n",
    "    mz = zeros(Float64,Ic)\n",
    "    p = zeros(Float64,Ic)\n",
    "    Az= zeros(Float64,Ic)\n",
    "    s = zeros(Float64,Ic,3)\n",
    "    \n",
    "    for i in 1:I1+1\n",
    "        for j = 1:J1+1\n",
    "            ip =i+(j-1)*(I1+1)\n",
    "            r₁ = (j-1)*dr+8\n",
    "            θ = 90-(i-2)*dθ\n",
    "            v₀ = 4.171e-2\n",
    "            x[ip] = cosd(θ)*r₁\n",
    "            y[ip] = sind(θ)*r₁\n",
    "            u[ip] = -v₀*8/r₁ *cosd(θ)\n",
    "            v[ip] = -v₀*8/r₁ *sind(θ)\n",
    "        end\n",
    "    end\n",
    "      \n",
    "    \n",
    "    var = Var(x,y,u,v,ρ,p,s)\n",
    "    x,y,u,v = bound_ghost_coordinate!(x,y,u,v)\n",
    "    xz = zeros(Float64,4)\n",
    "    yz = zeros(Float64,4) \n",
    "    for i in 1:I1\n",
    "        for j in 1:J1\n",
    "            ic = i+(j-1)*(I1)\n",
    "            xz[1:4] = x[Tp[ic,1:4]]\n",
    "            yz[1:4] = y[Tp[ic,1:4]]\n",
    "            xc= sum(xz)/4\n",
    "            A = A_z(xz,yz)\n",
    "            Az[ic] = sum(A)\n",
    "                p[ic] = 1.e-10\n",
    "                ρ[ic] = 1.845\n",
    "                mz[ic] = ρ[ic] * Az[ic]*xc^ν\n",
    "                s[ic,:] .= 0       \n",
    "        end\n",
    "    end \n",
    "    Ib, = size(Tb)\n",
    "     for i in 1:Ib\n",
    "        if Tb[i,4] == 2\n",
    "            ic = Tb[i,1]\n",
    "            ic2= Tb[i,2]\n",
    "            mz[ic] = mz[ic2]\n",
    "          end \n",
    "    end\n",
    "   # ρ,p,s,rc = bound_ghost_cell!(ρ, p, s, rc)  \n",
    "    return var,mz,I1,J1\n",
    "end"
   ]
  },
  {
   "cell_type": "code",
   "execution_count": 98,
   "metadata": {},
   "outputs": [
    {
     "name": "stdout",
     "output_type": "stream",
     "text": [
      "1.3052866470150375\n",
      "2.6047030997579177\n",
      "3.9074058028098335\n",
      "5.207092396583464\n",
      "6.5076614951070795\n",
      "7.802100121114607\n",
      "9.10710091208085\n",
      "10.403985675910217\n",
      "11.703223071618378\n",
      "13.00307899493371\n",
      "14.303020441330158\n",
      "15.60463140804259\n",
      "16.90571221770223\n",
      "18.207141528301925\n",
      "19.500903921904264\n",
      "20.80180230631307\n",
      "22.102765675240057\n",
      "23.403291749166346\n",
      "24.702426265732164\n",
      "26.001036955163098\n",
      "27.306922607937324\n",
      "28.602518887366216\n",
      "29.905483769697533\n",
      "31.2066372182616\n",
      "32.50550388264\n",
      "33.80250040596825\n",
      "35.105831612488345\n",
      "36.406348024392344\n",
      "37.70433188911254\n",
      "39.008247132008655\n",
      "40.30878669637917\n",
      "41.60611343816079\n",
      "42.90894937364693\n",
      "44.207848125877405\n",
      "45.50283865668079\n",
      "46.80288249060608\n",
      "48.10758803422472\n",
      "49.4077561310099\n",
      "50.703332475477964\n",
      "52.00314044470614\n",
      "53.307002616146235\n",
      "54.60568412147388\n",
      "55.908211835278976\n",
      "57.2049717349574\n",
      "58.50524167346459\n",
      "59.80892664828968\n",
      "61.106333743127685\n",
      "62.40670159567367\n",
      "63.70053885846594\n",
      "65.00651855904046\n",
      "66.3054922351738\n",
      "67.60685140636744\n",
      "68.90094231316495\n",
      "70.206555833179\n",
      "71.50448821788748\n",
      "72.80417935037381\n",
      "74.10543470699828\n",
      "75.40804718604711\n",
      "76.70231906244074\n",
      "78.00728893839768\n",
      "79.30355657452304\n",
      "80.60055240079323\n",
      "81.90777982031359\n",
      "83.205606710078\n",
      "84.50310001882396\n",
      "85.80033068635227\n",
      "87.10717162086394\n",
      "88.40448424011805\n",
      "89.70189802245231\n",
      "91.00924077789423\n",
      "92.30726025912843\n",
      "93.60518957064762\n",
      "94.90288241372235\n",
      "96.20054849964731\n",
      "97.50775948960965\n",
      "98.80536091857164\n",
      "100.1032522824181\n",
      "101.40148314438098\n",
      "102.70928905508781\n",
      "104.00721168583442\n",
      "105.30501404109485\n",
      "106.60286118977699\n",
      "107.90073574539929\n",
      "109.20837389103009\n",
      "110.50665368599667\n",
      "111.80495428419037\n",
      "113.10300604273625\n",
      "114.40099143561721\n",
      "115.7086029415038\n",
      "117.00666366066464\n",
      "118.3049238463823\n",
      "119.6033874677781\n",
      "120.90192596039708\n",
      "122.20019663143923\n",
      "123.50799043963752\n",
      "124.80621484938678\n",
      "126.10447275812525\n",
      "127.40284604934489\n",
      "128.7012327091669\n",
      "130.0\n"
     ]
    },
    {
     "data": {
      "text/plain": [
       "Var([-0.484997, 0.0, 0.484997, 0.91198, 1.36997, 1.80547, 2.2417, 2.65171, 3.05856, 3.4335  …  7.14416, 7.52919, 7.86813, 8.1583, 8.39839, 8.58653, 8.72187, 8.80331, 8.83059, 8.80331], [5.82362, 5.81111, 5.82362, 5.76904, 5.68826, 5.55393, 5.40641, 5.20538, 4.99035, 4.72656  …  5.19038, 4.61399, 4.00892, 3.37934, 2.72876, 2.06148, 1.38139, 0.692846, 0.0, -0.692846], [1.61114e-5, 0.0, 1.61114e-5, -0.000112722, -8.64607e-5, -0.000145293, -0.000163693, -0.000181994, -0.000143675, -0.00023348  …  -0.000211592, -0.000226676, -0.00023778, -0.00025012, -0.000246062, -0.00025497, -0.000264656, -0.00025937, -0.00025881, -0.00025937], [-0.000301409, -0.000536818, -0.000301409, -0.00034067, -0.000272164, -0.000365503, -0.000241693, -0.000364188, -0.000249077, -0.000293274  …  -0.000161749, -0.000140628, -0.000116576, -0.000103485, -8.42061e-5, -5.63279e-5, -3.61267e-5, -2.09209e-5, 0.0, -2.09209e-5], [1.84165, 1.84165, 1.84121, 1.84131, 1.84127, 1.84124, 1.84128, 1.84124, 1.84127, 1.84127  …  1.84355, 1.84355, 1.84355, 1.84355, 1.84354, 1.84354, 1.84354, 1.84354, 1.84354, 1.84354], [-0.00201171, -0.00201171, -0.00212908, -0.00209386, -0.00216117, -0.00218325, -0.00214254, -0.00219416, -0.00215842, -0.00216324  …  -0.000720378, -0.0007212, -0.000724031, -0.000718083, -0.000728293, -0.000736028, -0.00073467, -0.000727242, -0.000730651, -0.000730651], [0.00106673 -0.0020124 9.60217e-5; 0.00106673 -0.0020124 -9.60217e-5; … ; -0.00069312 0.000338407 -3.43039e-5; -0.00069312 0.000338407 3.43039e-5])"
      ]
     },
     "execution_count": 98,
     "metadata": {},
     "output_type": "execute_result"
    }
   ],
   "source": [
    "var,mz,I,J = Collapse()\n",
    "var = TimeSolve(var,mz)"
   ]
  },
  {
   "cell_type": "code",
   "execution_count": 130,
   "metadata": {},
   "outputs": [
    {
     "data": {
      "text/plain": [
       "352-element Array{Float64,1}:\n",
       " 0.04614264014506791\n",
       " 0.04614264014506791\n",
       " 0.13814343571472562\n",
       " 0.22929253106584524\n",
       " 0.319027961715481  \n",
       " 0.406796478893486  \n",
       " 0.4920569605056729 \n",
       " 0.5742837473307184 \n",
       " 0.6529698838847235 \n",
       " 0.7276302439700976 \n",
       " 0.7978045216398406 \n",
       " 0.8630600691367585 \n",
       " 0.9229945643106534 \n",
       " ⋮                  \n",
       " 1.2120242840922826 \n",
       " 1.3111604836153625 \n",
       " 1.4022129427521652 \n",
       " 1.484620292813463  \n",
       " 1.5578744650838738 \n",
       " 1.6215238232307172 \n",
       " 1.6751759477961297 \n",
       " 1.7185000555907277 \n",
       " 1.7512290390833802 \n",
       " 1.7731611132074707 \n",
       " 1.7841610594325286 \n",
       " 1.7841610594325286 "
      ]
     },
     "execution_count": 130,
     "metadata": {},
     "output_type": "execute_result"
    }
   ],
   "source": [
    "mz"
   ]
  },
  {
   "cell_type": "code",
   "execution_count": 131,
   "metadata": {
    "scrolled": true
   },
   "outputs": [
    {
     "data": {
      "text/plain": [
       "391-element Array{Float64,1}:\n",
       "  7.9661794817023255\n",
       "  7.990815209918216 \n",
       "  7.966179481702274 \n",
       "  7.892432680196646 \n",
       "  7.770025995318328 \n",
       "  7.599714587226309 \n",
       "  7.382548396232152 \n",
       "  7.119866340540719 \n",
       "  6.8132879411908265\n",
       "  6.464703356038796 \n",
       "  6.076261724964651 \n",
       "  5.650357919794039 \n",
       "  5.189617779113235 \n",
       "  ⋮                 \n",
       "  7.065849315989937 \n",
       "  6.489687512774953 \n",
       "  5.87351462800361  \n",
       "  5.221129572408895 \n",
       "  4.536554516797229 \n",
       "  3.82401009405573  \n",
       "  3.087889377076412 \n",
       "  2.33273080343373  \n",
       "  1.5631901708017963\n",
       "  0.7840117264312568\n",
       "  0.0               \n",
       " -0.784011726431261 "
      ]
     },
     "execution_count": 131,
     "metadata": {},
     "output_type": "execute_result"
    }
   ],
   "source": [
    "var.z"
   ]
  },
  {
   "cell_type": "code",
   "execution_count": 100,
   "metadata": {},
   "outputs": [],
   "source": [
    "using DelimitedFiles\n",
    "Output_point(I,J,var,mz)"
   ]
  },
  {
   "cell_type": "code",
   "execution_count": 208,
   "metadata": {},
   "outputs": [
    {
     "name": "stdout",
     "output_type": "stream",
     "text": [
      "tmp / 21 = 4.99588249535343\n"
     ]
    },
    {
     "data": {
      "text/plain": [
       "4.99588249535343"
      ]
     },
     "execution_count": 208,
     "metadata": {},
     "output_type": "execute_result"
    }
   ],
   "source": [
    "tmp =0.0\n",
    "for i in 1:21\n",
    "   tmp += √(var.r[i]^2 + var.z[i]^2)\n",
    "end\n",
    "@show tmp/21"
   ]
  },
  {
   "cell_type": "code",
   "execution_count": 209,
   "metadata": {},
   "outputs": [
    {
     "name": "stdout",
     "output_type": "stream",
     "text": [
      "tmax = 3.597122599785507e-13\n"
     ]
    },
    {
     "data": {
      "text/plain": [
       "3.597122599785507e-13"
      ]
     },
     "execution_count": 209,
     "metadata": {},
     "output_type": "execute_result"
    }
   ],
   "source": [
    "tmax =0.0\n",
    "for i in 1:21\n",
    "    tmp2 = √(var.r[i]^2 + var.z[i]^2)\n",
    "    if abs(tmp2 - tmp/21) >tmax\n",
    "        tmax = abs(tmp2-tmp/21)\n",
    "    end\n",
    "end\n",
    "@show tmax"
   ]
  },
  {
   "cell_type": "code",
   "execution_count": null,
   "metadata": {},
   "outputs": [],
   "source": [
    " rcell = zeros(Float64,4)\n",
    "    zcell = zeros(Float64,4)\n",
    "    ucell = zeros(Float64,4)\n",
    "    vcell = zeros(Float64,4)\n",
    "\n",
    "Ic, = size(Tp) \n",
    "for i in 1:Ic\n",
    "        for j =1:4\n",
    "            rcell[j] = var.r[Tp[i,j]]\n",
    "            zcell[j] = var.z[Tp[i,j]]\n",
    "            ucell[j] = var.u[Tp[i,j]]\n",
    "            vcell[j] = var.v[Tp[i,j]]\n",
    "        end\n",
    "        Az = sum(A_z(rcell,zcell))\n",
    "@show Az\n",
    "end"
   ]
  },
  {
   "cell_type": "code",
   "execution_count": 141,
   "metadata": {},
   "outputs": [
    {
     "data": {
      "text/plain": [
       "Impact (generic function with 1 method)"
      ]
     },
     "execution_count": 141,
     "metadata": {},
     "output_type": "execute_result"
    }
   ],
   "source": [
    " function Impact()\n",
    "\n",
    "    global problem = prb(5000,0.1)\n",
    "    # global problem = prb(5e-5,0.3)\n",
    "    \n",
    "    I = 100\n",
    "    J = 20\n",
    "    dx = 500/I\n",
    "    dy = 100/J\n",
    "    \n",
    "    global   con1 = Const(3e-3,2.785,2.0,2.7e-1,0.5328,1.338)\n",
    "    \n",
    "    I1 = I +1\n",
    "    J1 = J\n",
    "    \n",
    "    Ip = (I1+1)*(J1+1) # Number of  points\n",
    "    Ic = I1*J1  # number of cells\n",
    "    \n",
    "    global Tp = zeros(Int,Ic,4) #格点\n",
    "    global Tc = zeros(Int,Ip,4) #点格\n",
    "    \n",
    "    #@show Tc, Ip\n",
    "    global Tb = zeros(Int, 2I1 + 2J1,4) #边界 \n",
    "    \n",
    "    ## Tb[i,1] ghost cell number\n",
    "    ## Tb[i,2] bound cell number\n",
    "    ## Tb[i,3] ghost cell point share with the bound \n",
    "    ## Tb[i,4] type of the boundary\n",
    "    \n",
    "    \n",
    "    \n",
    "   # 点格表，格点表初始化 \n",
    "    for i in 1:I1 \n",
    "        for j in 1:J1\n",
    "            ic = i+(j-1)*I1\n",
    "            Tp[ic,1] = i + (j-1)*(I1+1)\n",
    "            Tp[ic,2] = i+1 +(j-1)*(I1+1)\n",
    "            Tp[ic,3]=i+1+j*(I1+1)\n",
    "            Tp[ic,4]=i+j*(I1+1) \n",
    "        end\n",
    "    end\n",
    "    \n",
    "    for i = 1:I1+1\n",
    "        for j = 1:J1+1\n",
    "            ip =i+(j-1)*(I1+1)\n",
    "            Tc[ip,1] = i +(j-1)*I1 #(i,j)\n",
    "            Tc[ip,2] = i-1+(j-1)*I1 #(i-1,j)\n",
    "            Tc[ip,3] = i-1+(j-2)*I1 #(i-1,j-1)\n",
    "            Tc[ip,4] = i+(j-2)*I1   #(i,j-1)\n",
    "        end\n",
    "    end\n",
    "    \n",
    "# Bound \n",
    "  ib = 0\n",
    "        for j = 1:J1\n",
    "            i=1\n",
    "            ib += 1\n",
    "            ic =i+(j-1)*I1 \n",
    "            Tb[ib,1] = ic\n",
    "            Tb[ib,2] = (i+1)+(j-1)*I1\n",
    "            Tb[ib,3] = 2\n",
    "            Tb[ib,4] = 2\n",
    "        end\n",
    "    \n",
    "         for j = 1:J1\n",
    "             i = I1\n",
    "            ib += 1\n",
    "            ic =i+(j-1)*I1\n",
    "            Tb[ib,1] = ic\n",
    "             Tb[ib,2] = (i-1)+(j-1)*I1 #bound type 1:free 2: wall ..  Tb[:,2] y direction\n",
    "             Tb[ib,3] = 2\n",
    "             Tb[ib,4] = 1\n",
    "         end\n",
    "      for i = 1:I1\n",
    "            for j in (1,J1)\n",
    "                ib += 1\n",
    "                ic =i+(j-1)*I1\n",
    "                \n",
    "                Tb[ib,1] = ic\n",
    "               \n",
    "                if j==1 \n",
    "                    Tb[ib,2] = i+(j+1-1)*I1\n",
    "                    Tb[ib,3] = 1\n",
    "                    Tb[ib,4] = 1\n",
    "                end\n",
    "                if j==J1\n",
    "                    Tb[ib,2] = i+(j-1-1)*I1\n",
    "                    Tb[ib,3] = 3\n",
    "                    Tb[ib,4] = 1\n",
    "                end\n",
    "            end\n",
    "        end\n",
    "        \n",
    "    #流场初始化 Init of the flow\n",
    "    \n",
    "    x = zeros(Float64,Ip)\n",
    "    y = zeros(Float64,Ip)\n",
    "    u = zeros(Float64,Ip)\n",
    "    v = zeros(Float64,Ip)\n",
    "    \n",
    "    ρ = zeros(Float64,Ic)\n",
    "    mz = zeros(Float64,Ic)\n",
    "    p = zeros(Float64,Ic)\n",
    "    Az= zeros(Float64,Ic)\n",
    "    s = zeros(Float64,Ic,3)\n",
    "    \n",
    "    for i in 1:I1+1\n",
    "        for j = 1:J1+1\n",
    "            ip =i+(j-1)*(I1+1)\n",
    "            x[ip] = (i-2)*dx\n",
    "            y[ip] = (j-1)*dy\n",
    "            u[ip] = -1.50e-2\n",
    "            v[ip] = 0.0\n",
    "        end\n",
    "    end\n",
    "    \n",
    "    var = Var(x,y,u,v,ρ,p,s)\n",
    "    x,y,u,v = bound_ghost_coordinate!(x,y,u,v)\n",
    "    xz = zeros(Float64,4)\n",
    "    yz = zeros(Float64,4) \n",
    "    for i in 1:I1\n",
    "        for j in 1:J1\n",
    "            ic = i+(j-1)*(I1)\n",
    "            xz[1:4] = x[Tp[ic,1:4]]\n",
    "            yz[1:4] = y[Tp[ic,1:4]]\n",
    "            A = A_z(xz,yz)\n",
    "            Az[ic] = sum(A)\n",
    "                 p[ic] = 0\n",
    "                ρ[ic] = 2.785\n",
    "                mz[ic] = ρ[ic] * volume(xz,yz)\n",
    "                s[ic,:] .= 0\n",
    "        end\n",
    "    end \n",
    " return var,mz,I1,J1\n",
    "end"
   ]
  },
  {
   "cell_type": "code",
   "execution_count": 140,
   "metadata": {
    "scrolled": true
   },
   "outputs": [
    {
     "data": {
      "text/plain": [
       "2020-element Array{Float64,1}:\n",
       " -0.0                  \n",
       "  5.6811364341009865e-5\n",
       "  8.94579452137183e-6  \n",
       "  4.029106329760543e-6 \n",
       "  2.4031118717755225e-6\n",
       "  1.6380684112609053e-6\n",
       "  1.2076781871018609e-6\n",
       "  9.37601765543197e-7  \n",
       "  7.55104336729152e-7  \n",
       "  6.250001129520016e-7 \n",
       "  5.284034968987066e-7 \n",
       "  4.543628058484315e-7 \n",
       "  3.961349153478158e-7 \n",
       "  ⋮                    \n",
       "  1.844925892379993e-8 \n",
       "  1.814076318009342e-8 \n",
       "  1.7840770121615733e-8\n",
       "  1.754895523612263e-8 \n",
       "  1.72650097635895e-8  \n",
       "  1.698863977163236e-8 \n",
       "  1.671956529438697e-8 \n",
       "  1.6457519529873262e-8\n",
       "  1.6202248091308942e-8\n",
       "  1.595350830823123e-8 \n",
       "  1.5711068573641863e-8\n",
       "  1.5474707733713628e-8"
      ]
     },
     "execution_count": 140,
     "metadata": {},
     "output_type": "execute_result"
    }
   ],
   "source": [
    "var,mz,I,J = Impact()\n",
    "var = TimeSolve(var,mz)"
   ]
  },
  {
   "cell_type": "code",
   "execution_count": 196,
   "metadata": {},
   "outputs": [],
   "source": [
    "using DelimitedFiles\n",
    "Output_point(I,J,var,mz)"
   ]
  },
  {
   "cell_type": "code",
   "execution_count": 75,
   "metadata": {},
   "outputs": [
    {
     "data": {
      "text/plain": [
       "572-element Array{Float64,1}:\n",
       " -1.4633934829493118e-15\n",
       " -1.0345411112180169e-15\n",
       " -1.4633934829493118e-15\n",
       " -8.402729866514592e-16 \n",
       " -1.819951438562635e-15 \n",
       " -1.6524145564511796e-15\n",
       " -1.0847136930431504e-15\n",
       " -1.8534701447445326e-15\n",
       " -1.2730300809946046e-15\n",
       " -1.5045826999307195e-15\n",
       " -1.852448122257305e-15 \n",
       "  1.590841104610437e-16 \n",
       "  1.277873532391558e-16 \n",
       "  ⋮                     \n",
       "  1.4916201984353308e-15\n",
       "  4.785147484741018e-15 \n",
       " -1.2136095546182232e-14\n",
       "  8.73102430927251e-15  \n",
       " -7.300128622214157e-15 \n",
       " -3.156780179231275e-15 \n",
       "  1.184636289854388e-14 \n",
       " -1.1481352315820308e-15\n",
       " -4.29977164197353e-15  \n",
       " -6.678509989591749e-14 \n",
       " -4.0995749000291245e-14\n",
       " -3.595126613051837e-18 "
      ]
     },
     "execution_count": 75,
     "metadata": {},
     "output_type": "execute_result"
    }
   ],
   "source": [
    "var.v"
   ]
  },
  {
   "cell_type": "code",
   "execution_count": 305,
   "metadata": {},
   "outputs": [
    {
     "data": {
      "text/plain": [
       "Collapse_cylindrical (generic function with 1 method)"
      ]
     },
     "execution_count": 305,
     "metadata": {},
     "output_type": "execute_result"
    }
   ],
   "source": [
    "  function Collapse_cylindrical()\n",
    "\n",
    "    global problem = prb(70,0.1)\n",
    "  #  global problem = prb(50,0.3)\n",
    "    # global problem = prb(5e-5,0.3)\n",
    "    \n",
    "    I = 30\n",
    "    J = 25\n",
    "    dr = 2.0/J\n",
    "    dθ = 90/I\n",
    "    \n",
    "    I1 = I +2\n",
    "    J1 = J\n",
    "    \n",
    "  \n",
    "    global   con1 = Const(3.3e-3,1.845,1.16,1.51,0.7998,1.124)\n",
    "    \n",
    " #  global   con1 = Const(3.3e-3,1.845,1.16,0.0,0.7998,1.124)\n",
    "    Ip = (I1+1)*(J1+1) # Number of  points\n",
    "    Ic = I1*J1  # number of cells\n",
    "    \n",
    "     Ip = (I1+1)*(J1+1) # Number of  points\n",
    "    Ic = I1*J1  # number of cells\n",
    "    \n",
    "    global Tp = zeros(Int,Ic,4) #格点\n",
    "    global Tc = zeros(Int,Ip,4) #点格\n",
    "    \n",
    "    #@show Tc, Ip\n",
    "    global Tb = zeros(Int, 2I1 + 2J1,4) #边界 \n",
    "    \n",
    "    global  ν = 1\n",
    "    ## Tb[i,1] ghost cell number\n",
    "    ## Tb[i,2] bound cell number\n",
    "    ## Tb[i,3] ghost cell point share with the bound \n",
    "    ## Tb[i,4] type of the boundary\n",
    "    \n",
    "    \n",
    "    \n",
    "   # 点格表，格点表初始化 \n",
    "    for i in 1:I1 \n",
    "        for j in 1:J1\n",
    "            ic = i+(j-1)*I1\n",
    "            Tp[ic,1] = i + (j-1)*(I1+1)\n",
    "            Tp[ic,2] = i+1 +(j-1)*(I1+1)\n",
    "            Tp[ic,3]=i+1+j*(I1+1)\n",
    "            Tp[ic,4]=i+j*(I1+1) \n",
    "        end\n",
    "    end\n",
    "    \n",
    "    for i = 1:I1+1\n",
    "        for j = 1:J1+1\n",
    "            ip =i+(j-1)*(I1+1)\n",
    "            Tc[ip,1] = i +(j-1)*I1 #(i,j)\n",
    "            Tc[ip,2] = i-1+(j-1)*I1 #(i-1,j)\n",
    "            Tc[ip,3] = i-1+(j-2)*I1 #(i-1,j-1)\n",
    "            Tc[ip,4] = i+(j-2)*I1   #(i,j-1)\n",
    "        end\n",
    "    end\n",
    "    \n",
    "    for i in 1:Ip\n",
    "        for j in 1:4\n",
    "            if Tc[i,j]<0 || Tc[i,j]>Ic\n",
    "                Tc[i,j]=0\n",
    "            end\n",
    "        end\n",
    "    end\n",
    "\n",
    "# Bound \n",
    "  ib = 0\n",
    "        for j = 1:J1\n",
    "            i=1\n",
    "            ib += 1\n",
    "            ic =i+(j-1)*I1 \n",
    "            Tb[ib,1] = ic\n",
    "            Tb[ib,2] = (i+1)+(j-1)*I1\n",
    "            Tb[ib,3] = 2\n",
    "            Tb[ib,4] = 2\n",
    "        end\n",
    "         for j = 1:J1\n",
    "             i = I1\n",
    "            ib += 1\n",
    "            ic =i+(j-1)*I1\n",
    "            Tb[ib,1] = ic\n",
    "             Tb[ib,2] = (i-1)+(j-1)*I1 #bound type 1:free 2: wall ..  Tb[:,2] y direction\n",
    "             Tb[ib,3] = 4\n",
    "             Tb[ib,4] = 2\n",
    "         end\n",
    "      for i = 1:I1\n",
    "            for j in (1,J1)\n",
    "                ib += 1\n",
    "                ic =i+(j-1)*I1\n",
    "                \n",
    "                Tb[ib,1] = ic\n",
    "               \n",
    "                if j==1 \n",
    "                    Tb[ib,2] = i+(j+1-1)*I1\n",
    "                    Tb[ib,3] = 1\n",
    "                    Tb[ib,4] = 1\n",
    "                end\n",
    "                if j==J1\n",
    "                    Tb[ib,2] = i+(j-1-1)*I1\n",
    "                    Tb[ib,3] = 3\n",
    "                    Tb[ib,4] = 1\n",
    "                end\n",
    "            end\n",
    "        end\n",
    "        \n",
    "    #流场初始化 Init of the flow\n",
    "    \n",
    "    x = zeros(Float64,Ip)\n",
    "    y = zeros(Float64,Ip)\n",
    "    u = zeros(Float64,Ip)\n",
    "    v = zeros(Float64,Ip)\n",
    "    \n",
    "    ρ = zeros(Float64,Ic)\n",
    "    mz = zeros(Float64,Ic)\n",
    "    p = zeros(Float64,Ic)\n",
    "    Az= zeros(Float64,Ic)\n",
    "    s = zeros(Float64,Ic,3)\n",
    "    \n",
    "    for i in 1:I1+1\n",
    "        for j = 1:J1+1\n",
    "            ip =i+(j-1)*(I1+1)\n",
    "            r₁ = (j-1)*dr+8\n",
    "            θ = 90-(i-2)*dθ\n",
    "            v₀ = 6.734e-2\n",
    "            x[ip] = cosd(θ)*r₁\n",
    "            y[ip] = sind(θ)*r₁\n",
    "            u[ip] = -v₀*(8/r₁)^2 *cosd(θ)\n",
    "            v[ip] = -v₀*(8/r₁)^2 *sind(θ)\n",
    "        end\n",
    "    end\n",
    "      \n",
    "    \n",
    "    var = Var(x,y,u,v,ρ,p,s)\n",
    "    x,y,u,v = bound_ghost_coordinate!(x,y,u,v)\n",
    "    xz = zeros(Float64,4)\n",
    "    yz = zeros(Float64,4) \n",
    "    for i in 1:I1\n",
    "        for j in 1:J1\n",
    "            ic = i+(j-1)*(I1)\n",
    "            xz[1:4] = x[Tp[ic,1:4]]\n",
    "            yz[1:4] = y[Tp[ic,1:4]]\n",
    "           # A = A_z(xz,yz)\n",
    "    \n",
    "           # @show V, A*xc\n",
    "            xc = sum(xz)/4\n",
    "            #  @show V, sum(A)*xc,xc\n",
    "                p[ic] = 0.0\n",
    "                ρ[ic] = 1.845\n",
    "                mz[ic] = ρ[ic]*volume(xz,yz)\n",
    "                s[ic,:] .= 0    \n",
    "           # @show A, V\n",
    "        end\n",
    "    end \n",
    "    \n",
    "     Ib, = size(Tb)\n",
    "     for i in 1:Ib\n",
    "        if Tb[i,4] == 2\n",
    "            ic = Tb[i,1]\n",
    "            ic2= Tb[i,2]\n",
    "            mz[ic] = mz[ic2]\n",
    "          end \n",
    "    end\n",
    "    return var,mz,I1,J1\n",
    "end"
   ]
  },
  {
   "cell_type": "code",
   "execution_count": 338,
   "metadata": {},
   "outputs": [
    {
     "name": "stdout",
     "output_type": "stream",
     "text": [
      "(Fxn[1, 2] + Fxn[2, 1], Fxn[1, 3] + Fxn[2, 4], rhsu) = (0.0, 0.0, [0.0, 0.0, 0.0, 0.0, 0.0, 0.0, 0.0, 0.0, 0.0, 0.0, 0.0, 0.0, 0.0, 0.0, 0.0, 0.0, 0.0, 0.0, 0.0, 0.0, 0.0, 0.0, 0.0, 0.0, 0.0, 0.0, 0.0, 0.0, 0.0, 0.0, 0.0, 0.0, 0.0, 0.0, 0.0, 0.0, 0.0, 0.0, 0.0, 0.0, 0.0, 0.0, 0.0, 0.0, 0.0, 0.0, 0.0, 0.0, 0.0, 0.0, 0.0, 0.0, 0.0, 0.0, 0.0, 0.0, 0.0, 0.0, 0.0, 0.0, 0.0, 0.0, 0.0, 0.0, 0.0, 0.0, 0.0, 0.0, 0.0, 0.0, 0.0, 0.0, 0.0, 0.0, 0.0, 0.0, 0.0, 0.0, 0.0, 0.0, 0.0, 0.0, 0.0, 0.0, 0.0, 0.0, 0.0, 0.0, 0.0, 0.0, 0.0, 0.0, 0.0, 0.0, 0.0, 0.0, 0.0, 0.0, 0.0, 0.0, 0.0, 0.0, 0.0, 0.0, 0.0, 0.0, 0.0, 0.0, 0.0, 0.0, 0.0, 0.0, 0.0, 0.0, 0.0, 0.0, 0.0, 0.0, 0.0, 0.0, 0.0, 0.0, 0.0, 0.0, 0.0, 0.0, 0.0, 0.0, 0.0, 0.0, 0.0, 0.0, 0.0, 0.0, 0.0, 0.0, 0.0, 0.0, 0.0, 0.0, 0.0, 0.0, 0.0, 0.0, 0.0, 0.0, 0.0, 0.0, 0.0, 0.0, 0.0, 0.0, 0.0, 0.0, 0.0, 0.0, 0.0, 0.0, 0.0, 0.0, 0.0, 0.0, 0.0, 0.0, 0.0, 0.0, 0.0, 0.0, 0.0, 0.0, 0.0, 0.0, 0.0, 0.0, 0.0, 0.0, 0.0, 0.0, 0.0, 0.0, 0.0, 0.0, 0.0, 0.0, 0.0, 0.0, 0.0, 0.0, 0.0, 0.0, 0.0, 0.0, 0.0, 0.0, 0.0, 0.0, 0.0, 0.0, 0.0, 0.0, 0.0, 0.0, 0.0, 0.0, 0.0, 0.0, 0.0, 0.0, 0.0, 0.0, 0.0, 0.0, 0.0, 0.0, 0.0, 0.0, 0.0, 0.0, 0.0, 0.0, 0.0, 0.0, 0.0, 0.0, 0.0, 0.0, 0.0, 0.0, 0.0, 0.0, 0.0, 0.0, 0.0, 0.0, 0.0, 0.0, 0.0, 0.0, 0.0, 0.0, 0.0, 0.0, 0.0, 0.0, 0.0, 0.0, 0.0, 0.0, 0.0, 0.0, 0.0, 0.0, 0.0, 0.0, 0.0, 0.0, 0.0, 0.0, 0.0, 0.0, 0.0, 0.0, 0.0, 0.0, 0.0, 0.0, 0.0, 0.0, 0.0, 0.0, 0.0, 0.0, 0.0, 0.0, 0.0, 0.0, 0.0, 0.0, 0.0, 0.0, 0.0, 0.0, 0.0, 0.0, 0.0, 0.0, 0.0, 0.0, 0.0, 0.0, 0.0, 0.0, 0.0, 0.0, 0.0, 0.0, 0.0, 0.0, 0.0, 0.0, 0.0, 0.0, 0.0, 0.0, 0.0, 0.0, 0.0, 0.0, 0.0, 0.0, 0.0, 0.0, 0.0, 0.0, 0.0, 0.0, 0.0, 0.0, 0.0, 0.0, 0.0, 0.0, 0.0, 0.0, 0.0, 0.0, 0.0, 0.0, 0.0, 0.0, 0.0, 0.0, 0.0, 0.0, 0.0, 0.0, 0.0, 0.0, 0.0, 0.0, 0.0, 0.0, 0.0, 0.0, 0.0, 0.0, 0.0, 0.0, 0.0, 0.0, 0.0, 0.0, 0.0, 0.0, 0.0, 0.0, 0.0, 0.0, 0.0, 0.0, 0.0, 0.0, 0.0, 0.0, 0.0, 0.0, 0.0, 0.0, 0.0, 0.0, 0.0, 0.0, 0.0, 0.0, 0.0, 0.0, 0.0, 0.0, 0.0, 0.0, 0.0, 0.0, 0.0, 0.0, 0.0, 0.0, 0.0, 0.0, 0.0, 0.0, 0.0, 0.0, 0.0, 0.0, 0.0, 0.0, 0.0, 0.0, 0.0, 0.0, 0.0, 0.0, 0.0, 0.0, 0.0, 0.0, 0.0, 0.0, 0.0, 0.0, 0.0, 0.0, 0.0, 0.0, 0.0, 0.0, 0.0, 0.0, 0.0, 0.0, 0.0, 0.0, 0.0, 0.0, 0.0, 0.0, 0.0, 0.0, 0.0, 0.0, 0.0, 0.0, 0.0, 0.0, 0.0, 0.0, 0.0, 0.0, 0.0, 0.0, 0.0, 0.0, 0.0, 0.0, 0.0, 0.0, 0.0, 0.0, 0.0, 0.0, 0.0, 0.0, 0.0, 0.0, 0.0, 0.0, 0.0, 0.0, 0.0, 0.0, 0.0, 0.0, 0.0, 0.0, 0.0, 0.0, 0.0, 0.0, 0.0, 0.0, 0.0, 0.0, 0.0, 0.0, 0.0, 0.0, 0.0, 0.0, 0.0, 0.0, 0.0, 0.0, 0.0, 0.0, 0.0, 0.0, 0.0, 0.0, 0.0, 0.0, 0.0, 0.0, 0.0, 0.0, 0.0, 0.0, 0.0, 0.0, 0.0, 0.0, 0.0, 0.0, 0.0, 0.0, 0.0, 0.0, 0.0, 0.0, 0.0, 0.0, 0.0, 0.0, 0.0, 0.0, 0.0, 0.0, 0.0, 0.0, 0.0, 0.0, 0.0, 0.0, 0.0, 0.0, 0.0, 0.0, 0.0, 0.0, 0.0, 0.0, 0.0, 0.0, 0.0, 0.0, 0.0, 0.0, 0.0, 0.0, 0.0, 0.0, 0.0, 0.0, 0.0, 0.0, 0.0, 0.0, 0.0, 0.0, 0.0, 0.0, 0.0, 0.0, 0.0, 0.0, 0.0, 0.0, 0.0, 0.0, 0.0, 0.0, 0.0, 0.0, 0.0, 0.0, 0.0, 0.0, 0.0, 0.0, 0.0, 0.0, 0.0, 0.0, 0.0, 0.0, 0.0, 0.0, 0.0, 0.0, 0.0, 0.0, 0.0, 0.0, 0.0, 0.0, 0.0, 0.0, 0.0, 0.0, 0.0, 0.0, 0.0, 0.0, 0.0, 0.0, 0.0, 0.0, 0.0, 0.0, 0.0, 0.0, 0.0, 0.0, 0.0, 0.0, 0.0, 0.0, 0.0, 0.0, 0.0, 0.0, 0.0, 0.0, 0.0, 0.0, 0.0, 0.0, 0.0, 0.0, 0.0, 0.0, 0.0, 0.0, 0.0, 0.0, 0.0, 0.0, 0.0, 0.0, 0.0, 0.0, 0.0, 0.0, 0.0, 0.0, 0.0, 0.0, 0.0, 0.0, 0.0, 0.0, 0.0, 0.0, 0.0, 0.0, 0.0, 0.0, 0.0, 0.0, 0.0, 0.0, 0.0, 0.0, 0.0, 0.0, 0.0, 0.0, 0.0, 0.0, 0.0, 0.0, 0.0, 0.0, 0.0, 0.0, 0.0, 0.0, 0.0, 0.0, 0.0, 0.0, 0.0, 0.0, 0.0, 0.0, 0.0, 0.0, 0.0, 0.0, 0.0, 0.0, 0.0, 0.0, 0.0, 0.0, 0.0, 0.0, 0.0, 0.0, 0.0, 0.0, 0.0, 0.0, 0.0, 0.0, 0.0, 0.0, 0.0, 0.0, 0.0, 0.0, 0.0, 0.0, 0.0, 0.0, 0.0, 0.0, 0.0, 0.0, 0.0, 0.0, 0.0, 0.0, 0.0, 0.0, 0.0, 0.0, 0.0, 0.0, 0.0, 0.0, 0.0, 0.0, 0.0, 0.0, 0.0, 0.0, 0.0, 0.0, 0.0, 0.0, 0.0, 0.0, 0.0, 0.0, 0.0, 0.0, 0.0, 0.0, 0.0, 0.0, 0.0, 0.0, 0.0, 0.0, 0.0, 0.0, 0.0, 0.0, 0.0, 0.0, 0.0, 0.0, 0.0, 0.0, 0.0, 0.0, 0.0, 0.0, 0.0, 0.0, 0.0, 0.0, 0.0, 0.0, 0.0, 0.0, 0.0, 0.0, 0.0, 0.0, 0.0, 0.0, 0.0, 0.0, 0.0, 0.0, 0.0, 0.0, 0.0, 0.0, 0.0, 0.0, 0.0, 0.0, 0.0, 0.0, 0.0, 0.0, 0.0, 0.0, 0.0, 0.0, 0.0, 0.0, 0.0, 0.0, 0.0, 0.0, 0.0, 0.0, 0.0, 0.0, 0.0, 0.0, 0.0, 0.0, 0.0, 0.0, 0.0, 0.0, 0.0, 0.0, 0.0, 0.0, 0.0, 0.0, 0.0, 0.0, 0.0, 0.0, 0.0, 0.0, 0.0, 0.0, 0.0, 0.0, 0.0, 0.0, 0.0, 0.0, 0.0, 0.0, 0.0, 0.0, 0.0, 0.0, 0.0, 0.0, 0.0, 0.0, 0.0, 0.0, 0.0, 0.0, 0.0, 0.0, 0.0, 0.0, 0.0, 0.0, 0.0, 0.0, 0.0, 0.0, 0.0, 0.0, 0.0, 0.0])\n",
      "(Fxn[1, 2] + Fxn[2, 1], Fxn[1, 3] + Fxn[2, 4], rhsu) = (0.0, 0.0, [0.000165855, -0.000423513, 0.000206728, 0.000412892, 0.000617923, 0.00082126, 0.00102235, 0.00122063, 0.00141557, 0.00160663, 0.00179328, 0.00197502, 0.00215135, 0.00232178, 0.00248584, 0.0026431, 0.0027931, 0.00293546, 0.00306976, 0.00319565, 0.00331279, 0.00342084, 0.00351952, 0.00360855, 0.00368769, 0.00375672, 0.00381545, 0.00386373, 0.00390141, 0.00392841, 0.00497765, -0.00404096, 7.24022e-5, 0.000365812, -0.000364455, -1.1774e-9, 8.32618e-10, 1.92682e-9, 2.86246e-9, 3.73396e-9, 4.56781e-9, 5.37358e-9, 6.15482e-9, 6.91258e-9, 7.64668e-9, 8.35632e-9, 9.0403e-9, 9.69737e-9, 1.03261e-8, 1.09252e-8, 1.1493e-8, 1.20283e-8, 1.25297e-8, 1.2996e-8, 1.34258e-8, 1.38182e-8, 1.41722e-8, 1.44867e-8, 1.4761e-8, 1.49943e-8, 1.51861e-8, 1.53358e-8, 1.5443e-8, 0.0017483, -0.00346233, 0.00347742, 0.000351675, -0.00035037, -1.11528e-9, 7.73885e-10, 1.79986e-9, 2.67638e-9, 3.4925e-9, 4.27325e-9, 5.0276e-9, 5.75893e-9, 6.46824e-9, 7.15534e-9, 7.81954e-9, 8.45982e-9, 9.07487e-9, 9.66333e-9, 1.0224e-8, 1.07554e-8, 1.12565e-8, 1.17258e-8, 1.21621e-8, 1.25644e-8, 1.29317e-8, 1.3263e-8, 1.35574e-8, 1.38141e-8, 1.40325e-8, 1.4212e-8, 1.43521e-8, 1.44524e-8, 0.00168072, -0.00332853, 0.00334302, 0.000338214, -0.000336958, -1.05692e-9, 7.19748e-10, 1.68234e-9, 2.50404e-9, 3.26886e-9, 4.00034e-9, 4.70701e-9, 5.39207e-9, 6.05648e-9, 6.7001e-9, 7.32224e-9, 7.92187e-9, 8.49783e-9, 9.04901e-9, 9.57412e-9, 1.00718e-8, 1.05411e-8, 1.09807e-8, 1.13894e-8, 1.17662e-8, 1.21101e-8, 1.24203e-8, 1.2696e-8, 1.29365e-8, 1.3141e-8, 1.33091e-8, 1.34402e-8, 1.35342e-8, 0.00161639, -0.00320113, 0.00321505, 0.000325391, -0.000324182, -1.00208e-9, 6.69849e-10, 1.57359e-9, 2.34439e-9, 3.06153e-9, 3.74732e-9, 4.40977e-9, 5.0519e-9, 5.67463e-9, 6.27784e-9, 6.86092e-9, 7.4229e-9, 7.96279e-9, 8.47939e-9, 8.97148e-9, 9.438e-9, 9.87772e-9, 1.02896e-8, 1.06726e-8, 1.10257e-8, 1.13481e-8, 1.16389e-8, 1.18973e-8, 1.21226e-8, 1.23142e-8, 1.24718e-8, 1.25947e-8, 1.26828e-8, 0.0015551, -0.00307977, 0.00309314, 0.00031317, -0.000312006, -9.50479e-10, 6.23812e-10, 1.47278e-9, 2.19629e-9, 2.86921e-9, 3.51254e-9, 4.13392e-9, 4.73622e-9, 5.32027e-9, 5.88602e-9, 6.43285e-9, 6.9599e-9, 7.46618e-9, 7.95062e-9, 8.41214e-9, 8.8496e-9, 9.26196e-9, 9.64824e-9, 1.00074e-8, 1.03386e-8, 1.06409e-8, 1.09136e-8, 1.11558e-8, 1.13671e-8, 1.15468e-8, 1.16946e-8, 1.181e-8, 1.18926e-8, 0.00149668, -0.00296411, 0.00297695, 0.000301518, -0.000300397, -9.01949e-10, 5.81266e-10, 1.37931e-9, 2.05887e-9, 2.69066e-9, 3.29457e-9, 3.87779e-9, 4.44305e-9, 4.99121e-9, 5.52214e-9, 6.0353e-9, 6.52991e-9, 7.00501e-9, 7.45956e-9, 7.89259e-9, 8.30313e-9, 8.69013e-9, 9.05257e-9, 9.38958e-9, 9.70037e-9, 9.98404e-9, 1.02398e-8, 1.04672e-8, 1.06655e-8, 1.08342e-8, 1.09728e-8, 1.10809e-8, 1.11583e-8, 0.00144099, -0.00285382, 0.00286618, 0.000290402, -0.000289322, -8.56261e-10, 5.41979e-10, 1.2926e-9, 1.93122e-9, 2.52475e-9, 3.09202e-9, 3.63979e-9, 4.17063e-9, 4.68535e-9, 5.18392e-9, 5.66578e-9, 6.13015e-9, 6.57621e-9, 7.0031e-9, 7.40978e-9, 7.79516e-9, 8.15845e-9, 8.49882e-9, 8.81533e-9, 9.10708e-9, 9.37337e-9, 9.61363e-9, 9.82712e-9, 1.00132e-8, 1.01716e-8, 1.03018e-8, 1.04034e-8, 1.04762e-8, 0.00138786, -0.00274862, 0.0027605, 0.000279794, -0.000278753, -8.13238e-10, 5.05607e-10, 1.21205e-9, 1.81263e-9, 2.37058e-9, 2.90369e-9, 3.41841e-9, 3.91725e-9, 4.40092e-9, 4.86933e-9, 5.32206e-9, 5.75847e-9, 6.17765e-9, 6.57863e-9, 6.96061e-9, 7.3228e-9, 7.66421e-9, 7.9839e-9, 8.28116e-9, 8.55529e-9, 8.80557e-9, 9.03125e-9, 9.23177e-9, 9.40669e-9, 9.55551e-9, 9.67779e-9, 9.77312e-9, 9.84139e-9, 0.00133716, -0.00264822, 0.00265965, 0.000269666, -0.000268662, -7.72681e-10, 4.72002e-10, 1.13722e-9, 1.70228e-9, 2.22709e-9, 2.72845e-9, 3.21247e-9, 3.68147e-9, 4.13619e-9, 4.57661e-9, 5.00228e-9, 5.41248e-9, 5.80646e-9, 6.18349e-9, 6.54268e-9, 6.8831e-9, 7.20397e-9, 7.50457e-9, 7.78405e-9, 8.0417e-9, 8.27691e-9, 8.48907e-9, 8.67761e-9, 8.84202e-9, 8.98185e-9, 9.09672e-9, 9.18654e-9, 9.25089e-9, 0.00128875, -0.00255237, 0.00256337, 0.000259992, -0.000259024, -7.34466e-10, 4.40858e-10, 1.06764e-9, 1.59966e-9, 2.09354e-9, 2.56526e-9, 3.02066e-9, 3.46188e-9, 3.88965e-9, 4.30395e-9, 4.70433e-9, 5.0902e-9, 5.46086e-9, 5.81547e-9, 6.15326e-9, 6.47348e-9, 6.77533e-9, 7.05804e-9, 7.32095e-9, 7.56335e-9, 7.78459e-9, 7.98416e-9, 8.16149e-9, 8.31613e-9, 8.44772e-9, 8.55588e-9, 8.64027e-9, 8.7007e-9, 0.00124252, -0.00246081, 0.0024714, 0.000250748, -0.000249814, -6.98437e-10, 4.11967e-10, 1.00287e-9, 1.50403e-9, 1.96912e-9, 2.41328e-9, 2.84196e-9, 3.2573e-9, 3.65999e-9, 4.04991e-9, 4.42674e-9, 4.78992e-9, 5.13875e-9, 5.47255e-9, 5.79053e-9, 6.09188e-9, 6.37594e-9, 6.64201e-9, 6.88941e-9, 7.11758e-9, 7.32585e-9, 7.51361e-9, 7.68052e-9, 7.82608e-9, 7.94988e-9, 8.05161e-9, 8.13091e-9, 8.18773e-9, 0.00119833, -0.00237332, 0.00238353, 0.000241911, -0.00024101, -6.64423e-10, 3.8525e-10, 9.42604e-10, 1.41493e-9, 1.85313e-9, 2.27151e-9, 2.67529e-9, 3.06648e-9, 3.44568e-9, 3.81291e-9, 4.16785e-9, 4.50989e-9, 4.83838e-9, 5.15265e-9, 5.45201e-9, 5.73583e-9, 6.00339e-9, 6.25398e-9, 6.48696e-9, 6.70171e-9, 6.89778e-9, 7.07466e-9, 7.23179e-9, 7.36886e-9, 7.48545e-9, 7.58124e-9, 7.6561e-9, 7.70967e-9, 0.0011561, -0.00228968, 0.00229952, 0.00023346, -0.00023259, -6.32321e-10, 3.60406e-10, 8.86432e-10, 1.33189e-9, 1.74496e-9, 2.13929e-9, 2.51984e-9, 2.88846e-9, 3.2458e-9, 3.59186e-9, 3.92625e-9, 4.24847e-9, 4.55802e-9, 4.85419e-9, 5.13629e-9, 5.40369e-9, 5.65573e-9, 5.89179e-9, 6.11135e-9, 6.31377e-9, 6.49848e-9, 6.66512e-9, 6.81326e-9, 6.94235e-9, 7.0522e-9, 7.1425e-9, 7.21291e-9, 7.26339e-9, 0.00111571, -0.0022097, 0.00221918, 0.000225375, -0.000224535, -6.02003e-10, 3.37351e-10, 8.34044e-10, 1.25432e-9, 1.64396e-9, 2.01585e-9, 2.37466e-9, 2.72225e-9, 3.05917e-9, 3.38539e-9, 3.70067e-9, 4.00452e-9, 4.29634e-9, 4.57554e-9, 4.84152e-9, 5.09359e-9, 5.33117e-9, 5.55371e-9, 5.76058e-9, 5.95136e-9, 6.12559e-9, 6.28266e-9, 6.42218e-9, 6.54392e-9, 6.64743e-9, 6.73245e-9, 6.7989e-9, 6.84651e-9, 0.00107707, -0.00213317, 0.00214232, 0.000217637, -0.000216826, -5.73361e-10, 3.15941e-10, 7.85229e-10, 1.182e-9, 1.54968e-9, 1.90056e-9, 2.2391e-9, 2.56697e-9, 2.88478e-9, 3.19254e-9, 3.48993e-9, 3.77649e-9, 4.05172e-9, 4.31502e-9, 4.56581e-9, 4.80362e-9, 5.02778e-9, 5.23771e-9, 5.43293e-9, 5.6129e-9, 5.77715e-9, 5.92531e-9, 6.05703e-9, 6.17181e-9, 6.26948e-9, 6.34981e-9, 6.41244e-9, 6.45726e-9, 0.00104008, -0.00205994, 0.00206876, 0.000210228, -0.000209445, -5.46276e-10, 2.96067e-10, 7.39622e-10, 1.11436e-9, 1.46155e-9, 1.79277e-9, 2.1123e-9, 2.42183e-9, 2.72182e-9, 3.01225e-9, 3.29288e-9, 3.56333e-9, 3.82306e-9, 4.07159e-9, 4.30834e-9, 4.53271e-9, 4.7442e-9, 4.94231e-9, 5.12651e-9, 5.29637e-9, 5.45142e-9, 5.59118e-9, 5.71532e-9, 5.82365e-9, 5.91585e-9, 5.99163e-9, 6.05083e-9, 6.09319e-9, 0.00100468, -0.00198982, 0.00199833, 0.000203132, -0.000202375, -5.20683e-10, 2.77521e-10, 6.97003e-10, 1.05117e-9, 1.37915e-9, 1.69203e-9, 1.99383e-9, 2.28603e-9, 2.56925e-9, 2.84355e-9, 3.10859e-9, 3.36396e-9, 3.60923e-9, 3.8439e-9, 4.06742e-9, 4.27926e-9, 4.47893e-9, 4.66599e-9, 4.83993e-9, 5.00022e-9, 5.14652e-9, 5.27858e-9, 5.39599e-9, 5.49833e-9, 5.58535e-9, 5.65677e-9, 5.71248e-9, 5.75247e-9, 0.00097076, -0.00192265, 0.00193087, 0.000196333, -0.0001956, -4.96457e-10, 2.60315e-10, 6.57246e-10, 9.92082e-10, 1.30205e-9, 1.5977e-9, 1.88285e-9, 2.15899e-9, 2.42661e-9, 2.6857e-9, 2.93606e-9, 3.17733e-9, 3.40903e-9, 3.63068e-9, 3.84182e-9, 4.04199e-9, 4.23068e-9, 4.40735e-9, 4.57159e-9, 4.72307e-9, 4.8614e-9, 4.98608e-9, 5.09683e-9, 5.19346e-9, 5.27566e-9, 5.34325e-9, 5.39599e-9, 5.43376e-9, 0.000938264, -0.0018583, 0.00186624, 0.000189816, -0.000189107, -4.73548e-10, 2.44279e-10, 6.20014e-10, 9.3674e-10, 1.22987e-9, 1.5094e-9, 1.77894e-9, 2.03994e-9, 2.29292e-9, 2.53785e-9, 2.77448e-9, 3.00251e-9, 3.2215e-9, 3.43101e-9, 3.63058e-9, 3.81974e-9, 3.99802e-9, 4.16503e-9, 4.3203e-9, 4.46345e-9, 4.59409e-9, 4.71193e-9, 4.81673e-9, 4.90811e-9, 4.9858e-9, 5.04967e-9, 5.09953e-9, 5.13515e-9, 0.000907117, -0.00179662, 0.00180428, 0.000183567, -0.000182882, -4.51838e-10, 2.2934e-10, 5.85181e-10, 8.84936e-10, 1.16227e-9, 1.42667e-9, 1.68163e-9, 1.92854e-9, 2.16774e-9, 2.39931e-9, 2.6231e-9, 2.83873e-9, 3.04582e-9, 3.24397e-9, 3.43271e-9, 3.61156e-9, 3.78013e-9, 3.93801e-9, 4.08485e-9, 4.22028e-9, 4.34393e-9, 4.45535e-9, 4.55426e-9, 4.64055e-9, 4.71397e-9, 4.77432e-9, 4.82146e-9, 4.85528e-9, 0.000877252, -0.00173747, 0.00174488, 0.000177573, -0.00017691, -4.31276e-10, 2.15423e-10, 5.52613e-10, 8.3644e-10, 1.09892e-9, 1.34912e-9, 1.59037e-9, 1.82393e-9, 2.05028e-9, 2.26946e-9, 2.48119e-9, 2.68516e-9, 2.88106e-9, 3.06848e-9, 3.24699e-9, 3.41622e-9, 3.57575e-9, 3.72518e-9, 3.86412e-9, 3.99213e-9, 4.10888e-9, 4.21432e-9, 4.30814e-9, 4.38987e-9, 4.45943e-9, 4.5166e-9, 4.56117e-9, 4.59303e-9, 0.000848605, -0.00168074, 0.0016879, 0.000171822, -0.00017118, -4.1179e-10, 2.0243e-10, 5.22048e-10, 7.90901e-10, 1.03949e-9, 1.27643e-9, 1.50483e-9, 1.72596e-9, 1.94021e-9, 2.14761e-9, 2.34801e-9, 2.54114e-9, 2.72662e-9, 2.90405e-9, 3.07305e-9, 3.23322e-9, 3.38417e-9, 3.52551e-9, 3.65692e-9, 3.77815e-9, 3.88888e-9, 3.98868e-9, 4.0773e-9, 4.15461e-9, 4.2203e-9, 4.27428e-9, 4.3165e-9, 4.3468e-9, 0.000821119, -0.00162631, 0.00163323, 0.000166301, -0.00016568, -3.93343e-10, 1.903e-10, 4.93449e-10, 7.48258e-10, 9.83772e-10, 1.20817e-9, 1.42449e-9, 1.63391e-9, 1.83682e-9, 2.03322e-9, 2.22298e-9, 2.40585e-9, 2.58145e-9, 2.74944e-9, 2.90945e-9, 3.06111e-9, 3.20407e-9, 3.33797e-9, 3.46248e-9, 3.57728e-9, 3.68205e-9, 3.77654e-9, 3.86052e-9, 3.93374e-9, 3.99606e-9, 4.04728e-9, 4.08721e-9, 4.11578e-9, 0.000794736, -0.00157406, 0.00158075, 0.000161001, -0.0001604, -3.75829e-10, 1.78985e-10, 4.66629e-10, 7.08237e-10, 9.3145e-10, 1.14409e-9, 1.34907e-9, 1.54751e-9, 1.73979e-9, 1.92592e-9, 2.10574e-9, 2.27896e-9, 2.44529e-9, 2.60444e-9, 2.75603e-9, 2.89971e-9, 3.03517e-9, 3.16204e-9, 3.27998e-9, 3.38867e-9, 3.48788e-9, 3.57739e-9, 3.65695e-9, 3.72633e-9, 3.7854e-9, 3.83389e-9, 3.87167e-9, 3.89878e-9, 0.000769405, -0.00152389, 0.00153037, 0.000265665, -0.000131058, -0.000107531, -0.000214766, -0.000321413, -0.000427178, -0.000531773, -0.000634911, -0.000736308, -0.000835687, -0.000932776, -0.00102731, -0.00111902, -0.00120767, -0.00129301, -0.00137481, -0.00145283, -0.00152688, -0.00159674, -0.00166222, -0.00172314, -0.00177935, -0.00183068, -0.00187698, -0.00191815, -0.00195405, -0.00198461, -0.00200972, -0.00202932, -0.00204336, -0.000907118, -0.00124048, 0.00330092])\n"
     ]
    },
    {
     "data": {
      "text/plain": [
       "(Var([-0.418647, 0.0, 0.418647, 0.836146, 1.25135, 1.66313, 2.07035, 2.4719, 2.86666, 3.25358  …  9.135, 9.33534, 9.51009, 9.65878, 9.78099, 9.87639, 9.94472, 9.9858, 10.0, 9.9858], [7.98826, 7.99922, 7.98826, 7.9554, 7.90074, 7.82442, 7.72665, 7.60771, 7.46792, 7.30765  …  4.06716, 3.5835, 3.09002, 2.58806, 2.07901, 1.56427, 1.04523, 0.523333, 0.0, -0.523333], [-0.00352311, 0.0, -0.00352311, -0.00703656, -0.0105307, -0.013996, -0.017423, -0.0208021, -0.0241243, -0.0273804  …  -0.0393825, -0.0402462, -0.0409996, -0.0416406, -0.0421674, -0.0425787, -0.0428733, -0.0430438, 0.0, -0.0430438], [0.0672249, -0.0673398, -0.0672249, -0.0669484, -0.0664884, -0.0658461, -0.0650234, -0.0640224, -0.062846, -0.0614973  …  -0.0175342, -0.0154491, -0.0133216, -0.0111576, -0.00896297, -0.00674381, -0.00450617, -0.0022278, -7.55291e-7, 0.0022278], [1.845, 1.845, 1.845, 1.845, 1.845, 1.845, 1.845, 1.845, 1.845, 1.845  …  1.845, 1.845, 1.845, 1.845, 1.845, 1.845, 1.845, 1.845, 1.845, 1.845], [8.09534e-8, 8.09534e-8, 8.09534e-8, 8.09534e-8, 8.09534e-8, 8.09534e-8, 8.09534e-8, 8.09534e-8, 8.09534e-8, 8.09534e-8  …  2.23982e-8, 2.23982e-8, 2.23981e-8, 2.23981e-8, 2.23981e-8, 2.23981e-8, 2.23982e-8, 2.23981e-8, 4.10321e-7, 4.10321e-7], [0.00028914 -0.000578874 -2.27454e-5; -0.00028914 0.000578874 2.27454e-5; … ; 0.000228622 -0.000152455 -0.00144495; -0.000228622 0.000152455 0.00144495]), [0.0155283, 0.0310566, 0.0310566, 0.0310566, 0.0310566, 0.0310566, 0.0310566, 0.0310566, 0.0310566, 0.0310566  …  0.0384714, 0.0384714, 0.0384714, 0.0384714, 0.0384714, 0.0384714, 0.0384714, 0.0384709, 0.0384704, 0.0192352], [0.210372, 0.210372, 0.63054, 1.04898, 1.46454, 1.87609, 2.2825, 2.68265, 3.07545, 3.45982  …  8.98626, 9.19827, 9.38507, 9.54614, 9.68105, 9.78942, 9.87096, 9.92545, 9.95298, 9.95298])"
      ]
     },
     "execution_count": 338,
     "metadata": {},
     "output_type": "execute_result"
    }
   ],
   "source": [
    "var,mz,I,J = Collapse_cylindrical()\n",
    "var,ρAp,rc = TimeSolve(var,mz)"
   ]
  },
  {
   "cell_type": "code",
   "execution_count": 340,
   "metadata": {},
   "outputs": [
    {
     "data": {
      "text/plain": [
       "858-element Array{Float64,1}:\n",
       " 0.004531598877906816 \n",
       " 0.004534649731255336 \n",
       " 0.004531598877906816 \n",
       " 0.004531598877898345 \n",
       " 0.004531598877897088 \n",
       " 0.004531598877896712 \n",
       " 0.004531598877896545 \n",
       " 0.004531598877896435 \n",
       " 0.004531598877896373 \n",
       " 0.004531598877896372 \n",
       " 0.004531598877896341 \n",
       " 0.00453159887789633  \n",
       " 0.004531598877896372 \n",
       " ⋮                    \n",
       " 0.0018584276684544038\n",
       " 0.0018584276684543728\n",
       " 0.001858427668454369 \n",
       " 0.001858427668454384 \n",
       " 0.0018584276684543947\n",
       " 0.001858427668454441 \n",
       " 0.0018584276684544525\n",
       " 0.0018584276684543853\n",
       " 0.0018584276684543816\n",
       " 0.0018577303665675408\n",
       " 5.704652235740307e-13\n",
       " 0.0018577303665675408"
      ]
     },
     "execution_count": 340,
     "metadata": {},
     "output_type": "execute_result"
    }
   ],
   "source": [
    "var.u.^2 +var.v.^2"
   ]
  },
  {
   "cell_type": "code",
   "execution_count": 202,
   "metadata": {},
   "outputs": [],
   "source": [
    "using DelimitedFiles\n",
    "Output_point(I,J,var,mz)"
   ]
  },
  {
   "cell_type": "code",
   "execution_count": 40,
   "metadata": {},
   "outputs": [
    {
     "data": {
      "text/plain": [
       "volume (generic function with 1 method)"
      ]
     },
     "execution_count": 40,
     "metadata": {},
     "output_type": "execute_result"
    }
   ],
   "source": [
    "function volume(r,z)\n",
    "    vol= abs(1/6*((r[1]^2-r[3]^2)*(z[2]-z[4])+(r[4]^2 -r[2]^2)*(z[1]-z[3])\n",
    "        +(r[3]*z[3]-r[1]*z[1])*(r[2]-r[4])+(r[4]*z[4]-r[2]*z[2])*(r[3]-r[1])))\n",
    "return vol\n",
    "end"
   ]
  },
  {
   "cell_type": "code",
   "execution_count": 245,
   "metadata": {},
   "outputs": [
    {
     "name": "stdout",
     "output_type": "stream",
     "text": [
      "tmp / 30 = 7.998831438659208\n",
      "tmax = 4.739879599924279e-10\n"
     ]
    },
    {
     "data": {
      "text/plain": [
       "4.739879599924279e-10"
      ]
     },
     "execution_count": 245,
     "metadata": {},
     "output_type": "execute_result"
    }
   ],
   "source": [
    "tmp =0.0\n",
    "for i in 2:31\n",
    "   tmp += √(var.r[i]^2 + var.z[i]^2)\n",
    "end\n",
    "@show tmp/30\n",
    "\n",
    "tmax =0.0\n",
    "for i in 2:31\n",
    "    tmp2 = √(var.r[i]^2 + var.z[i]^2)\n",
    "    if abs(tmp2 - tmp/30) >tmax\n",
    "        tmax = abs(tmp2-tmp/30)\n",
    "    end\n",
    "end\n",
    "@show tmax"
   ]
  },
  {
   "cell_type": "code",
   "execution_count": null,
   "metadata": {},
   "outputs": [],
   "source": []
  }
 ],
 "metadata": {
  "@webio": {
   "lastCommId": null,
   "lastKernelId": null
  },
  "kernelspec": {
   "display_name": "Julia 1.1.1",
   "language": "julia",
   "name": "julia-1.1"
  },
  "language_info": {
   "file_extension": ".jl",
   "mimetype": "application/julia",
   "name": "julia",
   "version": "1.1.1"
  }
 },
 "nbformat": 4,
 "nbformat_minor": 2
}
