{
 "cells": [
  {
   "cell_type": "code",
   "execution_count": 2,
   "metadata": {},
   "outputs": [
    {
     "data": {
      "text/plain": [
       ":sin"
      ]
     },
     "execution_count": 2,
     "metadata": {},
     "output_type": "execute_result"
    }
   ],
   "source": [
    ":sin"
   ]
  },
  {
   "cell_type": "code",
   "execution_count": 3,
   "metadata": {},
   "outputs": [
    {
     "data": {
      "text/latex": [
       "\\begin{verbatim}\n",
       "Symbol\n",
       "\\end{verbatim}\n",
       "The type of object used to represent identifiers in parsed julia code (ASTs). Also often used as a name or label to identify an entity (e.g. as a dictionary key). \\texttt{Symbol}s can be entered using the \\texttt{:} quote operator:\n",
       "\n",
       "\\begin{verbatim}\n",
       "julia> :name\n",
       ":name\n",
       "\n",
       "julia> typeof(:name)\n",
       "Symbol\n",
       "\n",
       "julia> x = 42\n",
       "42\n",
       "\n",
       "julia> eval(:x)\n",
       "42\n",
       "\\end{verbatim}\n",
       "\\texttt{Symbol}s can also be constructed from strings or other values by calling the constructor \\texttt{Symbol(x...)}.\n",
       "\n",
       "\\texttt{Symbol}s are immutable and should be compared using \\texttt{===}. The implementation re-uses the same object for all \\texttt{Symbol}s with the same name, so comparison tends to be efficient (it can just compare pointers).\n",
       "\n",
       "Unlike strings, \\texttt{Symbol}s are \"atomic\" or \"scalar\" entities that do not support iteration over characters.\n",
       "\n",
       "\\rule{\\textwidth}{1pt}\n",
       "\\begin{verbatim}\n",
       "Symbol(x...) -> Symbol\n",
       "\\end{verbatim}\n",
       "Create a \\href{@ref}{\\texttt{Symbol}} by concatenating the string representations of the arguments together.\n",
       "\n",
       "\\section{Examples}\n",
       "\\begin{verbatim}\n",
       "julia> Symbol(\"my\", \"name\")\n",
       ":myname\n",
       "\n",
       "julia> Symbol(\"day\", 4)\n",
       ":day4\n",
       "\\end{verbatim}\n"
      ],
      "text/markdown": [
       "```\n",
       "Symbol\n",
       "```\n",
       "\n",
       "The type of object used to represent identifiers in parsed julia code (ASTs). Also often used as a name or label to identify an entity (e.g. as a dictionary key). `Symbol`s can be entered using the `:` quote operator:\n",
       "\n",
       "```jldoctest\n",
       "julia> :name\n",
       ":name\n",
       "\n",
       "julia> typeof(:name)\n",
       "Symbol\n",
       "\n",
       "julia> x = 42\n",
       "42\n",
       "\n",
       "julia> eval(:x)\n",
       "42\n",
       "```\n",
       "\n",
       "`Symbol`s can also be constructed from strings or other values by calling the constructor `Symbol(x...)`.\n",
       "\n",
       "`Symbol`s are immutable and should be compared using `===`. The implementation re-uses the same object for all `Symbol`s with the same name, so comparison tends to be efficient (it can just compare pointers).\n",
       "\n",
       "Unlike strings, `Symbol`s are \"atomic\" or \"scalar\" entities that do not support iteration over characters.\n",
       "\n",
       "---\n",
       "\n",
       "```\n",
       "Symbol(x...) -> Symbol\n",
       "```\n",
       "\n",
       "Create a [`Symbol`](@ref) by concatenating the string representations of the arguments together.\n",
       "\n",
       "# Examples\n",
       "\n",
       "```jldoctest\n",
       "julia> Symbol(\"my\", \"name\")\n",
       ":myname\n",
       "\n",
       "julia> Symbol(\"day\", 4)\n",
       ":day4\n",
       "```\n"
      ],
      "text/plain": [
       "\u001b[36m  Symbol\u001b[39m\n",
       "\n",
       "  The type of object used to represent identifiers in parsed julia code\n",
       "  (ASTs). Also often used as a name or label to identify an entity (e.g. as a\n",
       "  dictionary key). \u001b[36mSymbol\u001b[39ms can be entered using the \u001b[36m:\u001b[39m quote operator:\n",
       "\n",
       "\u001b[36m  julia> :name\u001b[39m\n",
       "\u001b[36m  :name\u001b[39m\n",
       "\u001b[36m  \u001b[39m\n",
       "\u001b[36m  julia> typeof(:name)\u001b[39m\n",
       "\u001b[36m  Symbol\u001b[39m\n",
       "\u001b[36m  \u001b[39m\n",
       "\u001b[36m  julia> x = 42\u001b[39m\n",
       "\u001b[36m  42\u001b[39m\n",
       "\u001b[36m  \u001b[39m\n",
       "\u001b[36m  julia> eval(:x)\u001b[39m\n",
       "\u001b[36m  42\u001b[39m\n",
       "\n",
       "  \u001b[36mSymbol\u001b[39ms can also be constructed from strings or other values by calling the\n",
       "  constructor \u001b[36mSymbol(x...)\u001b[39m.\n",
       "\n",
       "  \u001b[36mSymbol\u001b[39ms are immutable and should be compared using \u001b[36m===\u001b[39m. The implementation\n",
       "  re-uses the same object for all \u001b[36mSymbol\u001b[39ms with the same name, so comparison\n",
       "  tends to be efficient (it can just compare pointers).\n",
       "\n",
       "  Unlike strings, \u001b[36mSymbol\u001b[39ms are \"atomic\" or \"scalar\" entities that do not\n",
       "  support iteration over characters.\n",
       "\n",
       "  ────────────────────────────────────────────────────────────────────────────\n",
       "\n",
       "\u001b[36m  Symbol(x...) -> Symbol\u001b[39m\n",
       "\n",
       "  Create a \u001b[36mSymbol\u001b[39m by concatenating the string representations of the arguments\n",
       "  together.\n",
       "\n",
       "\u001b[1m  Examples\u001b[22m\n",
       "\u001b[1m  ≡≡≡≡≡≡≡≡≡≡\u001b[22m\n",
       "\n",
       "\u001b[36m  julia> Symbol(\"my\", \"name\")\u001b[39m\n",
       "\u001b[36m  :myname\u001b[39m\n",
       "\u001b[36m  \u001b[39m\n",
       "\u001b[36m  julia> Symbol(\"day\", 4)\u001b[39m\n",
       "\u001b[36m  :day4\u001b[39m"
      ]
     },
     "execution_count": 3,
     "metadata": {},
     "output_type": "execute_result"
    }
   ],
   "source": [
    "? :sin"
   ]
  },
  {
   "cell_type": "code",
   "execution_count": 4,
   "metadata": {},
   "outputs": [
    {
     "data": {
      "text/plain": [
       "String"
      ]
     },
     "execution_count": 4,
     "metadata": {},
     "output_type": "execute_result"
    }
   ],
   "source": [
    "typeof(\"sw\")"
   ]
  },
  {
   "cell_type": "code",
   "execution_count": 5,
   "metadata": {},
   "outputs": [
    {
     "name": "stdout",
     "output_type": "stream",
     "text": [
      "search: \u001b[0m\u001b[1mS\u001b[22m\u001b[0m\u001b[1my\u001b[22m\u001b[0m\u001b[1mm\u001b[22m\u001b[0m\u001b[1mb\u001b[22m\u001b[0m\u001b[1mo\u001b[22m\u001b[0m\u001b[1ml\u001b[22m\n",
      "\n"
     ]
    },
    {
     "data": {
      "text/latex": [
       "\\begin{verbatim}\n",
       "Symbol\n",
       "\\end{verbatim}\n",
       "The type of object used to represent identifiers in parsed julia code (ASTs). Also often used as a name or label to identify an entity (e.g. as a dictionary key). \\texttt{Symbol}s can be entered using the \\texttt{:} quote operator:\n",
       "\n",
       "\\begin{verbatim}\n",
       "julia> :name\n",
       ":name\n",
       "\n",
       "julia> typeof(:name)\n",
       "Symbol\n",
       "\n",
       "julia> x = 42\n",
       "42\n",
       "\n",
       "julia> eval(:x)\n",
       "42\n",
       "\\end{verbatim}\n",
       "\\texttt{Symbol}s can also be constructed from strings or other values by calling the constructor \\texttt{Symbol(x...)}.\n",
       "\n",
       "\\texttt{Symbol}s are immutable and should be compared using \\texttt{===}. The implementation re-uses the same object for all \\texttt{Symbol}s with the same name, so comparison tends to be efficient (it can just compare pointers).\n",
       "\n",
       "Unlike strings, \\texttt{Symbol}s are \"atomic\" or \"scalar\" entities that do not support iteration over characters.\n",
       "\n",
       "\\rule{\\textwidth}{1pt}\n",
       "\\begin{verbatim}\n",
       "Symbol(x...) -> Symbol\n",
       "\\end{verbatim}\n",
       "Create a \\href{@ref}{\\texttt{Symbol}} by concatenating the string representations of the arguments together.\n",
       "\n",
       "\\section{Examples}\n",
       "\\begin{verbatim}\n",
       "julia> Symbol(\"my\", \"name\")\n",
       ":myname\n",
       "\n",
       "julia> Symbol(\"day\", 4)\n",
       ":day4\n",
       "\\end{verbatim}\n"
      ],
      "text/markdown": [
       "```\n",
       "Symbol\n",
       "```\n",
       "\n",
       "The type of object used to represent identifiers in parsed julia code (ASTs). Also often used as a name or label to identify an entity (e.g. as a dictionary key). `Symbol`s can be entered using the `:` quote operator:\n",
       "\n",
       "```jldoctest\n",
       "julia> :name\n",
       ":name\n",
       "\n",
       "julia> typeof(:name)\n",
       "Symbol\n",
       "\n",
       "julia> x = 42\n",
       "42\n",
       "\n",
       "julia> eval(:x)\n",
       "42\n",
       "```\n",
       "\n",
       "`Symbol`s can also be constructed from strings or other values by calling the constructor `Symbol(x...)`.\n",
       "\n",
       "`Symbol`s are immutable and should be compared using `===`. The implementation re-uses the same object for all `Symbol`s with the same name, so comparison tends to be efficient (it can just compare pointers).\n",
       "\n",
       "Unlike strings, `Symbol`s are \"atomic\" or \"scalar\" entities that do not support iteration over characters.\n",
       "\n",
       "---\n",
       "\n",
       "```\n",
       "Symbol(x...) -> Symbol\n",
       "```\n",
       "\n",
       "Create a [`Symbol`](@ref) by concatenating the string representations of the arguments together.\n",
       "\n",
       "# Examples\n",
       "\n",
       "```jldoctest\n",
       "julia> Symbol(\"my\", \"name\")\n",
       ":myname\n",
       "\n",
       "julia> Symbol(\"day\", 4)\n",
       ":day4\n",
       "```\n"
      ],
      "text/plain": [
       "\u001b[36m  Symbol\u001b[39m\n",
       "\n",
       "  The type of object used to represent identifiers in parsed julia code\n",
       "  (ASTs). Also often used as a name or label to identify an entity (e.g. as a\n",
       "  dictionary key). \u001b[36mSymbol\u001b[39ms can be entered using the \u001b[36m:\u001b[39m quote operator:\n",
       "\n",
       "\u001b[36m  julia> :name\u001b[39m\n",
       "\u001b[36m  :name\u001b[39m\n",
       "\u001b[36m  \u001b[39m\n",
       "\u001b[36m  julia> typeof(:name)\u001b[39m\n",
       "\u001b[36m  Symbol\u001b[39m\n",
       "\u001b[36m  \u001b[39m\n",
       "\u001b[36m  julia> x = 42\u001b[39m\n",
       "\u001b[36m  42\u001b[39m\n",
       "\u001b[36m  \u001b[39m\n",
       "\u001b[36m  julia> eval(:x)\u001b[39m\n",
       "\u001b[36m  42\u001b[39m\n",
       "\n",
       "  \u001b[36mSymbol\u001b[39ms can also be constructed from strings or other values by calling the\n",
       "  constructor \u001b[36mSymbol(x...)\u001b[39m.\n",
       "\n",
       "  \u001b[36mSymbol\u001b[39ms are immutable and should be compared using \u001b[36m===\u001b[39m. The implementation\n",
       "  re-uses the same object for all \u001b[36mSymbol\u001b[39ms with the same name, so comparison\n",
       "  tends to be efficient (it can just compare pointers).\n",
       "\n",
       "  Unlike strings, \u001b[36mSymbol\u001b[39ms are \"atomic\" or \"scalar\" entities that do not\n",
       "  support iteration over characters.\n",
       "\n",
       "  ────────────────────────────────────────────────────────────────────────────\n",
       "\n",
       "\u001b[36m  Symbol(x...) -> Symbol\u001b[39m\n",
       "\n",
       "  Create a \u001b[36mSymbol\u001b[39m by concatenating the string representations of the arguments\n",
       "  together.\n",
       "\n",
       "\u001b[1m  Examples\u001b[22m\n",
       "\u001b[1m  ≡≡≡≡≡≡≡≡≡≡\u001b[22m\n",
       "\n",
       "\u001b[36m  julia> Symbol(\"my\", \"name\")\u001b[39m\n",
       "\u001b[36m  :myname\u001b[39m\n",
       "\u001b[36m  \u001b[39m\n",
       "\u001b[36m  julia> Symbol(\"day\", 4)\u001b[39m\n",
       "\u001b[36m  :day4\u001b[39m"
      ]
     },
     "execution_count": 5,
     "metadata": {},
     "output_type": "execute_result"
    }
   ],
   "source": [
    "? Symbol"
   ]
  },
  {
   "cell_type": "code",
   "execution_count": 6,
   "metadata": {},
   "outputs": [
    {
     "name": "stdout",
     "output_type": "stream",
     "text": [
      "search: \u001b[0m\u001b[1m=\u001b[22m\u001b[0m\u001b[1m=\u001b[22m\u001b[0m\u001b[1m=\u001b[22m \u001b[0m\u001b[1m=\u001b[22m\u001b[0m\u001b[1m=\u001b[22m !\u001b[0m\u001b[1m=\u001b[22m\u001b[0m\u001b[1m=\u001b[22m\n",
      "\n"
     ]
    },
    {
     "data": {
      "text/latex": [
       "\\begin{verbatim}\n",
       "===(x,y) -> Bool\n",
       "≡(x,y) -> Bool\n",
       "\\end{verbatim}\n",
       "Determine whether \\texttt{x} and \\texttt{y} are identical, in the sense that no program could distinguish them. First the types of \\texttt{x} and \\texttt{y} are compared. If those are identical, mutable objects are compared by address in memory and immutable objects (such as numbers) are compared by contents at the bit level. This function is sometimes called \"egal\". It always returns a \\texttt{Bool} value.\n",
       "\n",
       "\\section{Examples}\n",
       "\\begin{verbatim}\n",
       "julia> a = [1, 2]; b = [1, 2];\n",
       "\n",
       "julia> a == b\n",
       "true\n",
       "\n",
       "julia> a === b\n",
       "false\n",
       "\n",
       "julia> a === a\n",
       "true\n",
       "\\end{verbatim}\n"
      ],
      "text/markdown": [
       "```\n",
       "===(x,y) -> Bool\n",
       "≡(x,y) -> Bool\n",
       "```\n",
       "\n",
       "Determine whether `x` and `y` are identical, in the sense that no program could distinguish them. First the types of `x` and `y` are compared. If those are identical, mutable objects are compared by address in memory and immutable objects (such as numbers) are compared by contents at the bit level. This function is sometimes called \"egal\". It always returns a `Bool` value.\n",
       "\n",
       "# Examples\n",
       "\n",
       "```jldoctest\n",
       "julia> a = [1, 2]; b = [1, 2];\n",
       "\n",
       "julia> a == b\n",
       "true\n",
       "\n",
       "julia> a === b\n",
       "false\n",
       "\n",
       "julia> a === a\n",
       "true\n",
       "```\n"
      ],
      "text/plain": [
       "\u001b[36m  ===(x,y) -> Bool\u001b[39m\n",
       "\u001b[36m  ≡(x,y) -> Bool\u001b[39m\n",
       "\n",
       "  Determine whether \u001b[36mx\u001b[39m and \u001b[36my\u001b[39m are identical, in the sense that no program could\n",
       "  distinguish them. First the types of \u001b[36mx\u001b[39m and \u001b[36my\u001b[39m are compared. If those are\n",
       "  identical, mutable objects are compared by address in memory and immutable\n",
       "  objects (such as numbers) are compared by contents at the bit level. This\n",
       "  function is sometimes called \"egal\". It always returns a \u001b[36mBool\u001b[39m value.\n",
       "\n",
       "\u001b[1m  Examples\u001b[22m\n",
       "\u001b[1m  ≡≡≡≡≡≡≡≡≡≡\u001b[22m\n",
       "\n",
       "\u001b[36m  julia> a = [1, 2]; b = [1, 2];\u001b[39m\n",
       "\u001b[36m  \u001b[39m\n",
       "\u001b[36m  julia> a == b\u001b[39m\n",
       "\u001b[36m  true\u001b[39m\n",
       "\u001b[36m  \u001b[39m\n",
       "\u001b[36m  julia> a === b\u001b[39m\n",
       "\u001b[36m  false\u001b[39m\n",
       "\u001b[36m  \u001b[39m\n",
       "\u001b[36m  julia> a === a\u001b[39m\n",
       "\u001b[36m  true\u001b[39m"
      ]
     },
     "execution_count": 6,
     "metadata": {},
     "output_type": "execute_result"
    }
   ],
   "source": [
    "? ==="
   ]
  },
  {
   "cell_type": "code",
   "execution_count": 7,
   "metadata": {},
   "outputs": [
    {
     "data": {
      "text/plain": [
       "2-element Array{Int64,1}:\n",
       " 1\n",
       " 2"
      ]
     },
     "execution_count": 7,
     "metadata": {},
     "output_type": "execute_result"
    }
   ],
   "source": [
    "a =[1,2]"
   ]
  },
  {
   "cell_type": "code",
   "execution_count": 8,
   "metadata": {},
   "outputs": [
    {
     "data": {
      "text/plain": [
       "2-element Array{Int64,1}:\n",
       " 2\n",
       " 3"
      ]
     },
     "execution_count": 8,
     "metadata": {},
     "output_type": "execute_result"
    }
   ],
   "source": [
    "b = a .+1"
   ]
  },
  {
   "cell_type": "code",
   "execution_count": 9,
   "metadata": {},
   "outputs": [
    {
     "data": {
      "text/plain": [
       "false"
      ]
     },
     "execution_count": 9,
     "metadata": {},
     "output_type": "execute_result"
    }
   ],
   "source": [
    "a === b"
   ]
  },
  {
   "cell_type": "code",
   "execution_count": 10,
   "metadata": {},
   "outputs": [
    {
     "data": {
      "text/plain": [
       "2-element Array{Int64,1}:\n",
       " 1\n",
       " 2"
      ]
     },
     "execution_count": 10,
     "metadata": {},
     "output_type": "execute_result"
    }
   ],
   "source": [
    "a"
   ]
  },
  {
   "cell_type": "code",
   "execution_count": 11,
   "metadata": {},
   "outputs": [
    {
     "data": {
      "text/plain": [
       "2-element Array{Int64,1}:\n",
       " 2\n",
       " 3"
      ]
     },
     "execution_count": 11,
     "metadata": {},
     "output_type": "execute_result"
    }
   ],
   "source": [
    "b"
   ]
  },
  {
   "cell_type": "code",
   "execution_count": 12,
   "metadata": {},
   "outputs": [
    {
     "data": {
      "text/plain": [
       ":x"
      ]
     },
     "execution_count": 12,
     "metadata": {},
     "output_type": "execute_result"
    }
   ],
   "source": [
    ":x"
   ]
  },
  {
   "cell_type": "code",
   "execution_count": 13,
   "metadata": {},
   "outputs": [
    {
     "data": {
      "text/plain": [
       "3"
      ]
     },
     "execution_count": 13,
     "metadata": {},
     "output_type": "execute_result"
    }
   ],
   "source": [
    "x = 3"
   ]
  },
  {
   "cell_type": "code",
   "execution_count": 14,
   "metadata": {},
   "outputs": [
    {
     "data": {
      "text/plain": [
       ":x"
      ]
     },
     "execution_count": 14,
     "metadata": {},
     "output_type": "execute_result"
    }
   ],
   "source": [
    ":x"
   ]
  },
  {
   "cell_type": "code",
   "execution_count": 15,
   "metadata": {},
   "outputs": [
    {
     "data": {
      "text/plain": [
       ":x"
      ]
     },
     "execution_count": 15,
     "metadata": {},
     "output_type": "execute_result"
    }
   ],
   "source": [
    "y = :x"
   ]
  },
  {
   "cell_type": "code",
   "execution_count": 16,
   "metadata": {},
   "outputs": [
    {
     "data": {
      "text/plain": [
       ":x"
      ]
     },
     "execution_count": 16,
     "metadata": {},
     "output_type": "execute_result"
    }
   ],
   "source": [
    "y"
   ]
  },
  {
   "cell_type": "code",
   "execution_count": 17,
   "metadata": {},
   "outputs": [
    {
     "ename": "MethodError",
     "evalue": "MethodError: no method matching +(::Symbol, ::Int64)\nClosest candidates are:\n  +(::Any, ::Any, !Matched::Any, !Matched::Any...) at operators.jl:502\n  +(!Matched::Complex{Bool}, ::Real) at complex.jl:292\n  +(!Matched::Missing, ::Number) at missing.jl:97\n  ...",
     "output_type": "error",
     "traceback": [
      "MethodError: no method matching +(::Symbol, ::Int64)\nClosest candidates are:\n  +(::Any, ::Any, !Matched::Any, !Matched::Any...) at operators.jl:502\n  +(!Matched::Complex{Bool}, ::Real) at complex.jl:292\n  +(!Matched::Missing, ::Number) at missing.jl:97\n  ...",
      "",
      "Stacktrace:",
      " [1] top-level scope at In[17]:1"
     ]
    }
   ],
   "source": [
    "y +1"
   ]
  },
  {
   "cell_type": "code",
   "execution_count": 18,
   "metadata": {},
   "outputs": [
    {
     "ename": "MethodError",
     "evalue": "MethodError: no method matching +(::Symbol, ::Symbol)\nClosest candidates are:\n  +(::Any, ::Any, !Matched::Any, !Matched::Any...) at operators.jl:502",
     "output_type": "error",
     "traceback": [
      "MethodError: no method matching +(::Symbol, ::Symbol)\nClosest candidates are:\n  +(::Any, ::Any, !Matched::Any, !Matched::Any...) at operators.jl:502",
      "",
      "Stacktrace:",
      " [1] top-level scope at In[18]:1"
     ]
    }
   ],
   "source": [
    "y  += :x"
   ]
  },
  {
   "cell_type": "code",
   "execution_count": 19,
   "metadata": {},
   "outputs": [
    {
     "data": {
      "text/plain": [
       ":sin"
      ]
     },
     "execution_count": 19,
     "metadata": {},
     "output_type": "execute_result"
    }
   ],
   "source": [
    "f = :sin"
   ]
  },
  {
   "cell_type": "code",
   "execution_count": 20,
   "metadata": {},
   "outputs": [
    {
     "ename": "ErrorException",
     "evalue": "syntax: \"$\" expression outside quote",
     "output_type": "error",
     "traceback": [
      "syntax: \"$\" expression outside quote",
      ""
     ]
    }
   ],
   "source": [
    "$f"
   ]
  },
  {
   "cell_type": "code",
   "execution_count": 21,
   "metadata": {},
   "outputs": [
    {
     "name": "stdout",
     "output_type": "stream",
     "text": [
      "search: \u001b[0m\u001b[1me\u001b[22m\u001b[0m\u001b[1mv\u001b[22m\u001b[0m\u001b[1ma\u001b[22m\u001b[0m\u001b[1ml\u001b[22m \u001b[0m\u001b[1me\u001b[22m\u001b[0m\u001b[1mv\u001b[22m\u001b[0m\u001b[1ma\u001b[22m\u001b[0m\u001b[1ml\u001b[22mfile @\u001b[0m\u001b[1me\u001b[22m\u001b[0m\u001b[1mv\u001b[22m\u001b[0m\u001b[1ma\u001b[22m\u001b[0m\u001b[1ml\u001b[22m @\u001b[0m\u001b[1me\u001b[22m\u001b[0m\u001b[1mv\u001b[22m\u001b[0m\u001b[1ma\u001b[22m\u001b[0m\u001b[1ml\u001b[22mpoly byt\u001b[0m\u001b[1me\u001b[22msa\u001b[0m\u001b[1mv\u001b[22m\u001b[0m\u001b[1ma\u001b[22mi\u001b[0m\u001b[1ml\u001b[22mable r\u001b[0m\u001b[1me\u001b[22mada\u001b[0m\u001b[1mv\u001b[22m\u001b[0m\u001b[1ma\u001b[22mi\u001b[0m\u001b[1ml\u001b[22mable Typ\u001b[0m\u001b[1me\u001b[22m\u001b[0m\u001b[1mV\u001b[22m\u001b[0m\u001b[1ma\u001b[22mr\n",
      "\n"
     ]
    },
    {
     "data": {
      "text/latex": [
       "\\begin{verbatim}\n",
       "eval(expr)\n",
       "\\end{verbatim}\n",
       "Evaluate an expression in the global scope of the containing module. Every \\texttt{Module} (except those defined with \\texttt{baremodule}) has its own 1-argument definition of \\texttt{eval}, which evaluates expressions in that module.\n",
       "\n"
      ],
      "text/markdown": [
       "```\n",
       "eval(expr)\n",
       "```\n",
       "\n",
       "Evaluate an expression in the global scope of the containing module. Every `Module` (except those defined with `baremodule`) has its own 1-argument definition of `eval`, which evaluates expressions in that module.\n"
      ],
      "text/plain": [
       "\u001b[36m  eval(expr)\u001b[39m\n",
       "\n",
       "  Evaluate an expression in the global scope of the containing module. Every\n",
       "  \u001b[36mModule\u001b[39m (except those defined with \u001b[36mbaremodule\u001b[39m) has its own 1-argument\n",
       "  definition of \u001b[36meval\u001b[39m, which evaluates expressions in that module."
      ]
     },
     "execution_count": 21,
     "metadata": {},
     "output_type": "execute_result"
    }
   ],
   "source": [
    "? eval"
   ]
  },
  {
   "cell_type": "code",
   "execution_count": 24,
   "metadata": {},
   "outputs": [
    {
     "data": {
      "text/plain": [
       "9"
      ]
     },
     "execution_count": 24,
     "metadata": {},
     "output_type": "execute_result"
    }
   ],
   "source": [
    "eval(x^2)"
   ]
  },
  {
   "cell_type": "code",
   "execution_count": 23,
   "metadata": {},
   "outputs": [
    {
     "ename": "ErrorException",
     "evalue": "syntax: \"$\" expression outside quote",
     "output_type": "error",
     "traceback": [
      "syntax: \"$\" expression outside quote",
      ""
     ]
    }
   ],
   "source": [
    "for f in (:sin :cos)\n",
    "    eval($f)(3)\n",
    "end"
   ]
  },
  {
   "cell_type": "code",
   "execution_count": 25,
   "metadata": {},
   "outputs": [
    {
     "data": {
      "text/latex": [
       "\\begin{verbatim}\n",
       "@eval [mod,] ex\n",
       "\\end{verbatim}\n",
       "Evaluate an expression with values interpolated into it using \\texttt{eval}. If two arguments are provided, the first is the module to evaluate in.\n",
       "\n"
      ],
      "text/markdown": [
       "```\n",
       "@eval [mod,] ex\n",
       "```\n",
       "\n",
       "Evaluate an expression with values interpolated into it using `eval`. If two arguments are provided, the first is the module to evaluate in.\n"
      ],
      "text/plain": [
       "\u001b[36m  @eval [mod,] ex\u001b[39m\n",
       "\n",
       "  Evaluate an expression with values interpolated into it using \u001b[36meval\u001b[39m. If two\n",
       "  arguments are provided, the first is the module to evaluate in."
      ]
     },
     "execution_count": 25,
     "metadata": {},
     "output_type": "execute_result"
    }
   ],
   "source": [
    "? @eval"
   ]
  },
  {
   "cell_type": "code",
   "execution_count": 26,
   "metadata": {},
   "outputs": [
    {
     "data": {
      "text/plain": [
       "sin (generic function with 12 methods)"
      ]
     },
     "execution_count": 26,
     "metadata": {},
     "output_type": "execute_result"
    }
   ],
   "source": [
    "@eval $f"
   ]
  },
  {
   "cell_type": "code",
   "execution_count": 27,
   "metadata": {},
   "outputs": [
    {
     "data": {
      "text/plain": [
       "-0.7568024953079282"
      ]
     },
     "execution_count": 27,
     "metadata": {},
     "output_type": "execute_result"
    }
   ],
   "source": [
    "@eval $f(4)"
   ]
  },
  {
   "cell_type": "code",
   "execution_count": 31,
   "metadata": {},
   "outputs": [
    {
     "ename": "ErrorException",
     "evalue": "syntax: \"$\" expression outside quote",
     "output_type": "error",
     "traceback": [
      "syntax: \"$\" expression outside quote",
      ""
     ]
    }
   ],
   "source": [
    "eval($f)(3)"
   ]
  },
  {
   "cell_type": "code",
   "execution_count": 32,
   "metadata": {},
   "outputs": [
    {
     "name": "stdout",
     "output_type": "stream",
     "text": [
      "search:\n",
      "\n",
      "Couldn't find \u001b[36m$\u001b[39m\n",
      "Perhaps you meant M, a, b, f, x, y, !, %, &, *, +, -, /, :, <, >, \\, ^, | or ~\n"
     ]
    },
    {
     "data": {
      "text/latex": [
       "No documentation found.\n",
       "\n",
       "Binding \\texttt{\\$} does not exist.\n",
       "\n"
      ],
      "text/markdown": [
       "No documentation found.\n",
       "\n",
       "Binding `$` does not exist.\n"
      ],
      "text/plain": [
       "  No documentation found.\n",
       "\n",
       "  Binding \u001b[36m$\u001b[39m does not exist."
      ]
     },
     "execution_count": 32,
     "metadata": {},
     "output_type": "execute_result"
    }
   ],
   "source": [
    "? $"
   ]
  },
  {
   "cell_type": "code",
   "execution_count": 33,
   "metadata": {},
   "outputs": [
    {
     "name": "stdout",
     "output_type": "stream",
     "text": [
      "search: \u001b[0m\u001b[1mc\u001b[22m\u001b[0m\u001b[1mc\u001b[22m\u001b[0m\u001b[1ma\u001b[22m\u001b[0m\u001b[1ml\u001b[22m\u001b[0m\u001b[1ml\u001b[22m Abstra\u001b[0m\u001b[1mc\u001b[22mt\u001b[0m\u001b[1mC\u001b[22mh\u001b[0m\u001b[1ma\u001b[22mnne\u001b[0m\u001b[1ml\u001b[22m\n",
      "\n"
     ]
    },
    {
     "data": {
      "text/latex": [
       "\\begin{verbatim}\n",
       "ccall((function_name, library), returntype, (argtype1, ...), argvalue1, ...)\n",
       "ccall(function_name, returntype, (argtype1, ...), argvalue1, ...)\n",
       "ccall(function_pointer, returntype, (argtype1, ...), argvalue1, ...)\n",
       "\\end{verbatim}\n",
       "Call a function in a C-exported shared library, specified by the tuple \\texttt{(function\\_name, library)}, where each component is either a string or symbol. Instead of specifying a library, one can also use a \\texttt{function\\_name} symbol or string, which is resolved in the current process. Alternatively, \\texttt{ccall} may also be used to call a function pointer \\texttt{function\\_pointer}, such as one returned by \\texttt{dlsym}.\n",
       "\n",
       "Note that the argument type tuple must be a literal tuple, and not a tuple-valued variable or expression.\n",
       "\n",
       "Each \\texttt{argvalue} to the \\texttt{ccall} will be converted to the corresponding \\texttt{argtype}, by automatic insertion of calls to \\texttt{unsafe\\_convert(argtype, cconvert(argtype, argvalue))}. (See also the documentation for \\href{@ref Base.unsafe_convert}{\\texttt{unsafe\\_convert}} and \\href{@ref Base.cconvert}{\\texttt{cconvert}} for further details.) In most cases, this simply results in a call to \\texttt{convert(argtype, argvalue)}.\n",
       "\n"
      ],
      "text/markdown": [
       "```\n",
       "ccall((function_name, library), returntype, (argtype1, ...), argvalue1, ...)\n",
       "ccall(function_name, returntype, (argtype1, ...), argvalue1, ...)\n",
       "ccall(function_pointer, returntype, (argtype1, ...), argvalue1, ...)\n",
       "```\n",
       "\n",
       "Call a function in a C-exported shared library, specified by the tuple `(function_name, library)`, where each component is either a string or symbol. Instead of specifying a library, one can also use a `function_name` symbol or string, which is resolved in the current process. Alternatively, `ccall` may also be used to call a function pointer `function_pointer`, such as one returned by `dlsym`.\n",
       "\n",
       "Note that the argument type tuple must be a literal tuple, and not a tuple-valued variable or expression.\n",
       "\n",
       "Each `argvalue` to the `ccall` will be converted to the corresponding `argtype`, by automatic insertion of calls to `unsafe_convert(argtype, cconvert(argtype, argvalue))`. (See also the documentation for [`unsafe_convert`](@ref Base.unsafe_convert) and [`cconvert`](@ref Base.cconvert) for further details.) In most cases, this simply results in a call to `convert(argtype, argvalue)`.\n"
      ],
      "text/plain": [
       "\u001b[36m  ccall((function_name, library), returntype, (argtype1, ...), argvalue1, ...)\u001b[39m\n",
       "\u001b[36m  ccall(function_name, returntype, (argtype1, ...), argvalue1, ...)\u001b[39m\n",
       "\u001b[36m  ccall(function_pointer, returntype, (argtype1, ...), argvalue1, ...)\u001b[39m\n",
       "\n",
       "  Call a function in a C-exported shared library, specified by the tuple\n",
       "  \u001b[36m(function_name, library)\u001b[39m, where each component is either a string or symbol.\n",
       "  Instead of specifying a library, one can also use a \u001b[36mfunction_name\u001b[39m symbol or\n",
       "  string, which is resolved in the current process. Alternatively, \u001b[36mccall\u001b[39m may\n",
       "  also be used to call a function pointer \u001b[36mfunction_pointer\u001b[39m, such as one\n",
       "  returned by \u001b[36mdlsym\u001b[39m.\n",
       "\n",
       "  Note that the argument type tuple must be a literal tuple, and not a\n",
       "  tuple-valued variable or expression.\n",
       "\n",
       "  Each \u001b[36margvalue\u001b[39m to the \u001b[36mccall\u001b[39m will be converted to the corresponding \u001b[36margtype\u001b[39m,\n",
       "  by automatic insertion of calls to \u001b[36munsafe_convert(argtype, cconvert(argtype,\n",
       "  argvalue))\u001b[39m. (See also the documentation for \u001b[36munsafe_convert\u001b[39m and \u001b[36mcconvert\u001b[39m for\n",
       "  further details.) In most cases, this simply results in a call to\n",
       "  \u001b[36mconvert(argtype, argvalue)\u001b[39m."
      ]
     },
     "execution_count": 33,
     "metadata": {},
     "output_type": "execute_result"
    }
   ],
   "source": [
    "? ccall"
   ]
  },
  {
   "cell_type": "code",
   "execution_count": 34,
   "metadata": {},
   "outputs": [
    {
     "name": "stdout",
     "output_type": "stream",
     "text": [
      "search: \u001b[0m\u001b[1mL\u001b[22m\u001b[0m\u001b[1mi\u001b[22mneNu\u001b[0m\u001b[1mm\u001b[22m\u001b[0m\u001b[1mb\u001b[22merNode se\u001b[0m\u001b[1ml\u001b[22mectd\u001b[0m\u001b[1mi\u001b[22m\u001b[0m\u001b[1mm\u001b[22m\n",
      "\n",
      "Couldn't find \u001b[36mlimb\u001b[39m\n",
      "Perhaps you meant lcm, Dims, im, time, Libc, less, last, lock, log, log2 or lpad\n"
     ]
    },
    {
     "data": {
      "text/latex": [
       "No documentation found.\n",
       "\n",
       "Binding \\texttt{limb} does not exist.\n",
       "\n"
      ],
      "text/markdown": [
       "No documentation found.\n",
       "\n",
       "Binding `limb` does not exist.\n"
      ],
      "text/plain": [
       "  No documentation found.\n",
       "\n",
       "  Binding \u001b[36mlimb\u001b[39m does not exist."
      ]
     },
     "execution_count": 34,
     "metadata": {},
     "output_type": "execute_result"
    }
   ],
   "source": [
    " ? limb"
   ]
  },
  {
   "cell_type": "code",
   "execution_count": 35,
   "metadata": {},
   "outputs": [
    {
     "name": "stdout",
     "output_type": "stream",
     "text": [
      "search: \u001b[0m\u001b[1mf\u001b[22m\u001b[0m\u001b[1ml\u001b[22m\u001b[0m\u001b[1mo\u001b[22m\u001b[0m\u001b[1ma\u001b[22m\u001b[0m\u001b[1mt\u001b[22m \u001b[0m\u001b[1mF\u001b[22m\u001b[0m\u001b[1ml\u001b[22m\u001b[0m\u001b[1mo\u001b[22m\u001b[0m\u001b[1ma\u001b[22m\u001b[0m\u001b[1mt\u001b[22m64 \u001b[0m\u001b[1mF\u001b[22m\u001b[0m\u001b[1ml\u001b[22m\u001b[0m\u001b[1mo\u001b[22m\u001b[0m\u001b[1ma\u001b[22m\u001b[0m\u001b[1mt\u001b[22m32 \u001b[0m\u001b[1mF\u001b[22m\u001b[0m\u001b[1ml\u001b[22m\u001b[0m\u001b[1mo\u001b[22m\u001b[0m\u001b[1ma\u001b[22m\u001b[0m\u001b[1mt\u001b[22m16 \u001b[0m\u001b[1mf\u001b[22m\u001b[0m\u001b[1ml\u001b[22m\u001b[0m\u001b[1mo\u001b[22m\u001b[0m\u001b[1ma\u001b[22m\u001b[0m\u001b[1mt\u001b[22mmin \u001b[0m\u001b[1mf\u001b[22m\u001b[0m\u001b[1ml\u001b[22m\u001b[0m\u001b[1mo\u001b[22m\u001b[0m\u001b[1ma\u001b[22m\u001b[0m\u001b[1mt\u001b[22mmax C\u001b[0m\u001b[1mf\u001b[22m\u001b[0m\u001b[1ml\u001b[22m\u001b[0m\u001b[1mo\u001b[22m\u001b[0m\u001b[1ma\u001b[22m\u001b[0m\u001b[1mt\u001b[22m Big\u001b[0m\u001b[1mF\u001b[22m\u001b[0m\u001b[1ml\u001b[22m\u001b[0m\u001b[1mo\u001b[22m\u001b[0m\u001b[1ma\u001b[22m\u001b[0m\u001b[1mt\u001b[22m\n",
      "\n"
     ]
    },
    {
     "data": {
      "text/latex": [
       "\\begin{verbatim}\n",
       "float(x)\n",
       "\\end{verbatim}\n",
       "Convert a number or array to a floating point data type.\n",
       "\n",
       "\\rule{\\textwidth}{1pt}\n",
       "\\begin{verbatim}\n",
       "float(T::Type)\n",
       "\\end{verbatim}\n",
       "Return an appropriate type to represent a value of type \\texttt{T} as a floating point value. Equivalent to \\texttt{typeof(float(zero(T)))}.\n",
       "\n",
       "\\section{Examples}\n",
       "\\begin{verbatim}\n",
       "julia> float(Complex{Int})\n",
       "Complex{Float64}\n",
       "\n",
       "julia> float(Int)\n",
       "Float64\n",
       "\\end{verbatim}\n"
      ],
      "text/markdown": [
       "```\n",
       "float(x)\n",
       "```\n",
       "\n",
       "Convert a number or array to a floating point data type.\n",
       "\n",
       "---\n",
       "\n",
       "```\n",
       "float(T::Type)\n",
       "```\n",
       "\n",
       "Return an appropriate type to represent a value of type `T` as a floating point value. Equivalent to `typeof(float(zero(T)))`.\n",
       "\n",
       "# Examples\n",
       "\n",
       "```jldoctest\n",
       "julia> float(Complex{Int})\n",
       "Complex{Float64}\n",
       "\n",
       "julia> float(Int)\n",
       "Float64\n",
       "```\n"
      ],
      "text/plain": [
       "\u001b[36m  float(x)\u001b[39m\n",
       "\n",
       "  Convert a number or array to a floating point data type.\n",
       "\n",
       "  ────────────────────────────────────────────────────────────────────────────\n",
       "\n",
       "\u001b[36m  float(T::Type)\u001b[39m\n",
       "\n",
       "  Return an appropriate type to represent a value of type \u001b[36mT\u001b[39m as a floating\n",
       "  point value. Equivalent to \u001b[36mtypeof(float(zero(T)))\u001b[39m.\n",
       "\n",
       "\u001b[1m  Examples\u001b[22m\n",
       "\u001b[1m  ≡≡≡≡≡≡≡≡≡≡\u001b[22m\n",
       "\n",
       "\u001b[36m  julia> float(Complex{Int})\u001b[39m\n",
       "\u001b[36m  Complex{Float64}\u001b[39m\n",
       "\u001b[36m  \u001b[39m\n",
       "\u001b[36m  julia> float(Int)\u001b[39m\n",
       "\u001b[36m  Float64\u001b[39m"
      ]
     },
     "execution_count": 35,
     "metadata": {},
     "output_type": "execute_result"
    }
   ],
   "source": [
    "? float"
   ]
  },
  {
   "cell_type": "code",
   "execution_count": 36,
   "metadata": {},
   "outputs": [
    {
     "name": "stdout",
     "output_type": "stream",
     "text": [
      "search: \u001b[0m\u001b[1me\u001b[22m\u001b[0m\u001b[1ml\u001b[22m\u001b[0m\u001b[1mt\u001b[22m\u001b[0m\u001b[1my\u001b[22m\u001b[0m\u001b[1mp\u001b[22m\u001b[0m\u001b[1me\u001b[22m fi\u001b[0m\u001b[1me\u001b[22m\u001b[0m\u001b[1ml\u001b[22md\u001b[0m\u001b[1mt\u001b[22m\u001b[0m\u001b[1my\u001b[22m\u001b[0m\u001b[1mp\u001b[22m\u001b[0m\u001b[1me\u001b[22m fi\u001b[0m\u001b[1me\u001b[22m\u001b[0m\u001b[1ml\u001b[22md\u001b[0m\u001b[1mt\u001b[22m\u001b[0m\u001b[1my\u001b[22m\u001b[0m\u001b[1mp\u001b[22m\u001b[0m\u001b[1me\u001b[22ms\n",
      "\n"
     ]
    },
    {
     "data": {
      "text/latex": [
       "\\begin{verbatim}\n",
       "eltype(type)\n",
       "\\end{verbatim}\n",
       "Determine the type of the elements generated by iterating a collection of the given \\texttt{type}. For dictionary types, this will be a \\texttt{Pair\\{KeyType,ValType\\}}. The definition \\texttt{eltype(x) = eltype(typeof(x))} is provided for convenience so that instances can be passed instead of types. However the form that accepts a type argument should be defined for new types.\n",
       "\n",
       "\\section{Examples}\n",
       "\\begin{verbatim}\n",
       "julia> eltype(fill(1f0, (2,2)))\n",
       "Float32\n",
       "\n",
       "julia> eltype(fill(0x1, (2,2)))\n",
       "UInt8\n",
       "\\end{verbatim}\n"
      ],
      "text/markdown": [
       "```\n",
       "eltype(type)\n",
       "```\n",
       "\n",
       "Determine the type of the elements generated by iterating a collection of the given `type`. For dictionary types, this will be a `Pair{KeyType,ValType}`. The definition `eltype(x) = eltype(typeof(x))` is provided for convenience so that instances can be passed instead of types. However the form that accepts a type argument should be defined for new types.\n",
       "\n",
       "# Examples\n",
       "\n",
       "```jldoctest\n",
       "julia> eltype(fill(1f0, (2,2)))\n",
       "Float32\n",
       "\n",
       "julia> eltype(fill(0x1, (2,2)))\n",
       "UInt8\n",
       "```\n"
      ],
      "text/plain": [
       "\u001b[36m  eltype(type)\u001b[39m\n",
       "\n",
       "  Determine the type of the elements generated by iterating a collection of\n",
       "  the given \u001b[36mtype\u001b[39m. For dictionary types, this will be a \u001b[36mPair{KeyType,ValType}\u001b[39m.\n",
       "  The definition \u001b[36meltype(x) = eltype(typeof(x))\u001b[39m is provided for convenience so\n",
       "  that instances can be passed instead of types. However the form that accepts\n",
       "  a type argument should be defined for new types.\n",
       "\n",
       "\u001b[1m  Examples\u001b[22m\n",
       "\u001b[1m  ≡≡≡≡≡≡≡≡≡≡\u001b[22m\n",
       "\n",
       "\u001b[36m  julia> eltype(fill(1f0, (2,2)))\u001b[39m\n",
       "\u001b[36m  Float32\u001b[39m\n",
       "\u001b[36m  \u001b[39m\n",
       "\u001b[36m  julia> eltype(fill(0x1, (2,2)))\u001b[39m\n",
       "\u001b[36m  UInt8\u001b[39m"
      ]
     },
     "execution_count": 36,
     "metadata": {},
     "output_type": "execute_result"
    }
   ],
   "source": [
    "? eltype"
   ]
  },
  {
   "cell_type": "code",
   "execution_count": 37,
   "metadata": {},
   "outputs": [
    {
     "name": "stdout",
     "output_type": "stream",
     "text": [
      "\u001b[32m\u001b[1m  Updating\u001b[22m\u001b[39m registry at `~/.juliapro/JuliaPro_v1.1.1.1/registries/JuliaPro`\n",
      "\u001b[32m\u001b[1m  Updating\u001b[22m\u001b[39m git-repo `https://pkg.juliacomputing.com//registry/JuliaPro`\n",
      "\u001b[2K\u001b[?25h[1mFetching:\u001b[22m\u001b[39m [========================================>]  100.0 %.0 %\u001b[36m\u001b[1mFetching:\u001b[22m\u001b[39m [========>                                ]  18.5 %                           ]  31.9 %\u001b[36m\u001b[1mFetching:\u001b[22m\u001b[39m [================>                        ]  38.3 %                   ]  51.6 %>        ]  78.4 % [=====================================>   ]  91.9 %\u001b[32m\u001b[1m Resolving\u001b[22m\u001b[39m package versions...\n",
      "\u001b[32m\u001b[1m Installed\u001b[22m\u001b[39m OhMyREPL ─────────────── v0.5.3\n",
      "\u001b[32m\u001b[1m Installed\u001b[22m\u001b[39m SimpleTraits ─────────── v0.9.1\n",
      "\u001b[32m\u001b[1m Installed\u001b[22m\u001b[39m GenericSVD ───────────── v0.2.2\n",
      "\u001b[32m\u001b[1m Installed\u001b[22m\u001b[39m NLSolversBase ────────── v7.5.0\n",
      "\u001b[32m\u001b[1m Installed\u001b[22m\u001b[39m Distributions ────────── v0.21.3\n",
      "\u001b[32m\u001b[1m Installed\u001b[22m\u001b[39m DataStructures ───────── v0.17.3\n",
      "\u001b[32m\u001b[1m Installed\u001b[22m\u001b[39m Compat ───────────────── v2.2.0\n",
      "\u001b[32m\u001b[1m Installed\u001b[22m\u001b[39m LLVM ─────────────────── v1.3.1\n",
      "\u001b[32m\u001b[1m Installed\u001b[22m\u001b[39m ShiftedArrays ────────── v0.5.1\n",
      "\u001b[32m\u001b[1m Installed\u001b[22m\u001b[39m DiffEqBase ───────────── v6.4.1\n",
      "\u001b[32m\u001b[1m Installed\u001b[22m\u001b[39m JuliaInterpreter ─────── v0.7.4\n",
      "\u001b[32m\u001b[1m Installed\u001b[22m\u001b[39m Missings ─────────────── v0.4.3\n",
      "\u001b[32m\u001b[1m Installed\u001b[22m\u001b[39m TimeZones ────────────── v0.10.2\n",
      "\u001b[32m\u001b[1m Installed\u001b[22m\u001b[39m PlotUtils ────────────── v0.6.0\n",
      "\u001b[32m\u001b[1m Installed\u001b[22m\u001b[39m StaticArrays ─────────── v0.11.1\n",
      "\u001b[32m\u001b[1m Installed\u001b[22m\u001b[39m DimensionalPlotRecipes ─ v1.0.0\n",
      "\u001b[32m\u001b[1m Installed\u001b[22m\u001b[39m DataAPI ──────────────── v1.1.0\n",
      "\u001b[32m\u001b[1m Installed\u001b[22m\u001b[39m DiffEqJump ───────────── v6.2.2\n",
      "\u001b[32m\u001b[1m Installed\u001b[22m\u001b[39m Polynomials ──────────── v0.5.3\n",
      "\u001b[32m\u001b[1m Installed\u001b[22m\u001b[39m SparseDiffTools ──────── v0.9.1\n",
      "\u001b[32m\u001b[1m Installed\u001b[22m\u001b[39m PlotThemes ───────────── v0.4.0\n",
      "\u001b[32m\u001b[1m Installed\u001b[22m\u001b[39m GLM ──────────────────── v1.3.3\n",
      "\u001b[32m\u001b[1m Installed\u001b[22m\u001b[39m JuliaFormatter ───────── v0.1.16\n",
      "\u001b[32m\u001b[1m Installed\u001b[22m\u001b[39m HDF5 ─────────────────── v0.12.4\n",
      "\u001b[32m\u001b[1m Installed\u001b[22m\u001b[39m RData ────────────────── v0.6.3\n",
      "\u001b[32m\u001b[1m Installed\u001b[22m\u001b[39m DocStringExtensions ──── v0.8.1\n",
      "\u001b[32m\u001b[1m Installed\u001b[22m\u001b[39m FFTW ─────────────────── v1.0.1\n",
      "\u001b[32m\u001b[1m Installed\u001b[22m\u001b[39m StatsModels ──────────── v0.6.6\n",
      "\u001b[32m\u001b[1m Installed\u001b[22m\u001b[39m CategoricalArrays ────── v0.7.1\n",
      "\u001b[32m\u001b[1m Installed\u001b[22m\u001b[39m OrdinaryDiffEq ───────── v5.17.2\n",
      "\u001b[32m\u001b[1m Installed\u001b[22m\u001b[39m DecisionTree ─────────── v0.9.1\n",
      "\u001b[32m\u001b[1m Installed\u001b[22m\u001b[39m CSV ──────────────────── v0.5.13\n",
      "\u001b[32m\u001b[1m  Updating\u001b[22m\u001b[39m `~/.juliapro/JuliaPro_v1.1.1.1/environments/v1.1/Project.toml`\n",
      " \u001b[90m [5fb14364]\u001b[39m\u001b[92m + OhMyREPL v0.5.3\u001b[39m\n",
      "\u001b[32m\u001b[1m  Updating\u001b[22m\u001b[39m `~/.juliapro/JuliaPro_v1.1.1.1/environments/v1.1/Manifest.toml`\n",
      " \u001b[90m [336ed68f]\u001b[39m\u001b[93m ↑ CSV v0.5.12 ⇒ v0.5.13\u001b[39m\n",
      " \u001b[90m [324d7699]\u001b[39m\u001b[93m ↑ CategoricalArrays v0.6.0 ⇒ v0.7.1\u001b[39m\n",
      " \u001b[90m [34da2185]\u001b[39m\u001b[93m ↑ Compat v2.1.0 ⇒ v2.2.0\u001b[39m\n",
      " \u001b[90m [9a962f9c]\u001b[39m\u001b[93m ↑ DataAPI v1.0.1 ⇒ v1.1.0\u001b[39m\n",
      " \u001b[90m [864edb3b]\u001b[39m\u001b[93m ↑ DataStructures v0.17.0 ⇒ v0.17.3\u001b[39m\n",
      " \u001b[90m [7806a523]\u001b[39m\u001b[93m ↑ DecisionTree v0.8.3 ⇒ v0.9.1\u001b[39m\n",
      " \u001b[90m [2b5f629d]\u001b[39m\u001b[93m ↑ DiffEqBase v6.3.4 ⇒ v6.4.1\u001b[39m\n",
      " \u001b[90m [c894b116]\u001b[39m\u001b[93m ↑ DiffEqJump v6.2.1 ⇒ v6.2.2\u001b[39m\n",
      " \u001b[90m [c619ae07]\u001b[39m\u001b[93m ↑ DimensionalPlotRecipes v0.2.0 ⇒ v1.0.0\u001b[39m\n",
      " \u001b[90m [31c24e10]\u001b[39m\u001b[93m ↑ Distributions v0.21.1 ⇒ v0.21.3\u001b[39m\n",
      " \u001b[90m [ffbed154]\u001b[39m\u001b[93m ↑ DocStringExtensions v0.8.0 ⇒ v0.8.1\u001b[39m\n",
      " \u001b[90m [7a1cc6ca]\u001b[39m\u001b[93m ↑ FFTW v0.3.0 ⇒ v1.0.1\u001b[39m\n",
      " \u001b[90m [38e38edf]\u001b[39m\u001b[93m ↑ GLM v1.1.1 ⇒ v1.3.3\u001b[39m\n",
      " \u001b[90m [01680d73]\u001b[39m\u001b[93m ↑ GenericSVD v0.2.1 ⇒ v0.2.2\u001b[39m\n",
      " \u001b[90m [f67ccb44]\u001b[39m\u001b[93m ↑ HDF5 v0.12.3 ⇒ v0.12.4\u001b[39m\n",
      " \u001b[90m [98e50ef6]\u001b[39m\u001b[93m ↑ JuliaFormatter v0.1.10 ⇒ v0.1.16\u001b[39m\n",
      " \u001b[90m [aa1ae85d]\u001b[39m\u001b[93m ↑ JuliaInterpreter v0.7.2 ⇒ v0.7.4\u001b[39m\n",
      " \u001b[90m [929cbde3]\u001b[39m\u001b[93m ↑ LLVM v1.3.0 ⇒ v1.3.1\u001b[39m\n",
      " \u001b[90m [e1d29d7a]\u001b[39m\u001b[93m ↑ Missings v0.4.2 ⇒ v0.4.3\u001b[39m\n",
      " \u001b[90m [d41bc354]\u001b[39m\u001b[93m ↑ NLSolversBase v7.4.1 ⇒ v7.5.0\u001b[39m\n",
      " \u001b[90m [5fb14364]\u001b[39m\u001b[92m + OhMyREPL v0.5.3\u001b[39m\n",
      " \u001b[90m [1dea7af3]\u001b[39m\u001b[93m ↑ OrdinaryDiffEq v5.17.0 ⇒ v5.17.2\u001b[39m\n",
      " \u001b[90m [ccf2f8ad]\u001b[39m\u001b[93m ↑ PlotThemes v0.3.0 ⇒ v0.4.0\u001b[39m\n",
      " \u001b[90m [995b91a9]\u001b[39m\u001b[93m ↑ PlotUtils v0.5.8 ⇒ v0.6.0\u001b[39m\n",
      " \u001b[90m [f27b6e38]\u001b[39m\u001b[93m ↑ Polynomials v0.5.2 ⇒ v0.5.3\u001b[39m\n",
      " \u001b[90m [df47a6cb]\u001b[39m\u001b[93m ↑ RData v0.6.2 ⇒ v0.6.3\u001b[39m\n",
      " \u001b[90m [1277b4bf]\u001b[39m\u001b[92m + ShiftedArrays v0.5.1\u001b[39m\n",
      " \u001b[90m [699a6c99]\u001b[39m\u001b[93m ↑ SimpleTraits v0.9.0 ⇒ v0.9.1\u001b[39m\n",
      " \u001b[90m [47a9eef4]\u001b[39m\u001b[93m ↑ SparseDiffTools v0.9.0 ⇒ v0.9.1\u001b[39m\n",
      " \u001b[90m [90137ffa]\u001b[39m\u001b[93m ↑ StaticArrays v0.11.0 ⇒ v0.11.1\u001b[39m\n",
      " \u001b[90m [3eaba693]\u001b[39m\u001b[93m ↑ StatsModels v0.5.0 ⇒ v0.6.6\u001b[39m\n",
      " \u001b[90m [f269a46b]\u001b[39m\u001b[93m ↑ TimeZones v0.10.0 ⇒ v0.10.2\u001b[39m\n",
      "\u001b[32m\u001b[1m  Building\u001b[22m\u001b[39m TimeZones → `~/.juliapro/JuliaPro_v1.1.1.1/packages/TimeZones/A5RcB/deps/build.log`\n",
      "\u001b[32m\u001b[1m  Building\u001b[22m\u001b[39m HDF5 ─────→ `~/.juliapro/JuliaPro_v1.1.1.1/packages/HDF5/rF1Fe/deps/build.log`\n",
      "\u001b[32m\u001b[1m  Building\u001b[22m\u001b[39m FFTW ─────→ `~/.juliapro/JuliaPro_v1.1.1.1/packages/FFTW/MJ7kl/deps/build.log`\n"
     ]
    }
   ],
   "source": [
    "import Pkg; Pkg.add(\"OhMyREPL\")"
   ]
  },
  {
   "cell_type": "code",
   "execution_count": 38,
   "metadata": {},
   "outputs": [
    {
     "name": "stderr",
     "output_type": "stream",
     "text": [
      "┌ Info: Precompiling OhMyREPL [5fb14364-9ced-5910-84b2-373655c76a03]\n",
      "└ @ Base loading.jl:1186\n"
     ]
    }
   ],
   "source": [
    "using OhMyREPL"
   ]
  },
  {
   "cell_type": "code",
   "execution_count": null,
   "metadata": {},
   "outputs": [],
   "source": []
  }
 ],
 "metadata": {
  "@webio": {
   "lastCommId": null,
   "lastKernelId": null
  },
  "kernelspec": {
   "display_name": "Julia 1.1.1",
   "language": "julia",
   "name": "julia-1.1"
  },
  "language_info": {
   "file_extension": ".jl",
   "mimetype": "application/julia",
   "name": "julia",
   "version": "1.1.1"
  }
 },
 "nbformat": 4,
 "nbformat_minor": 2
}
